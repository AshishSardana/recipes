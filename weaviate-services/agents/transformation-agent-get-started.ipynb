{
  "cells": [
    {
      "cell_type": "markdown",
      "metadata": {
        "id": "1iSbBy2zguFv"
      },
      "source": [
        "# Build a Weaivate Transformation Agent\n",
        "\n",
        "In this recipe, we will build a simple Weaviate [`TransformationAgent`](https://weaviate.io/developers/agents/transformation). We will build an agent that has access to a collection containing a bunch or research papers, their abstracts and titles. We will then use the agent to create additional properties for eaach of our objects in the collection.\n",
        "\n",
        "The `TransformationAgent` is able to access a Weaviate collection of your chosing, and perform operations on the objects within it. However, each operation for the agent can be defined in natural language. The agent will then use an LLM to complete the instructions in the operation.\n",
        "\n",
        "\n",
        "> 📚 You can learn more about the new `TransformationAgent`, you can read our accompanyin [\"Introducing the Weaviate Transformation Agent\"]() blog\n",
        "\n",
        "To get started, we've prepared an open datasets, available on Hugging Face. The first step will be walking through how to populate your Weaviate Cloud collections.\n",
        "\n",
        "- [**ArxivPapers:**](https://huggingface.co/datasets/weaviate/agents/viewer/query-agent-ecommerce) A dataset that lists titles and abstracts of research papers.\n",
        "\n",
        "\n",
        "If you'd like to try out building more agents with different datasets, check out the list of demo datasets we have available on [Hugging Face Weaviate agents dataset](https://huggingface.co/datasets/weaviate/agents)"
      ]
    },
    {
      "cell_type": "markdown",
      "metadata": {
        "colab_type": "toc",
        "id": "Uiu5C8n7v-Xp"
      },
      "source": [
        ">[Build a Weaivate Transformation Agent](#updateTitle=true&folderId=19vZXBl8HMn0gIKArBsKg-zUfiFDTCf9j&scrollTo=1iSbBy2zguFv)\n",
        "\n",
        ">>[Setting Up Weaviate & Importing Data](#updateTitle=true&folderId=19vZXBl8HMn0gIKArBsKg-zUfiFDTCf9j&scrollTo=zWqspSa5DTm-)\n",
        "\n",
        ">>>[Prepare the Collections](#updateTitle=true&folderId=19vZXBl8HMn0gIKArBsKg-zUfiFDTCf9j&scrollTo=m-JOSLFqsXY2)\n",
        "\n",
        ">>>[Inspect the Collection in Explorer](#updateTitle=true&folderId=19vZXBl8HMn0gIKArBsKg-zUfiFDTCf9j&scrollTo=Rj1CMObcvFbw)\n",
        "\n",
        ">>[Define Transformation Operations](#updateTitle=true&folderId=19vZXBl8HMn0gIKArBsKg-zUfiFDTCf9j&scrollTo=iftXR_eXDYvz)\n",
        "\n",
        ">>>[Append New Properties](#updateTitle=true&folderId=19vZXBl8HMn0gIKArBsKg-zUfiFDTCf9j&scrollTo=iftXR_eXDYvz)\n",
        "\n",
        ">>>>[Create a List of Topics](#updateTitle=true&folderId=19vZXBl8HMn0gIKArBsKg-zUfiFDTCf9j&scrollTo=iftXR_eXDYvz)\n",
        "\n",
        ">>>>[Add a French Translation](#updateTitle=true&folderId=19vZXBl8HMn0gIKArBsKg-zUfiFDTCf9j&scrollTo=H31WPYAbzVQC)\n",
        "\n",
        ">>>>[Add NLP Relevance Score](#updateTitle=true&folderId=19vZXBl8HMn0gIKArBsKg-zUfiFDTCf9j&scrollTo=KF3z9wSxziUL)\n",
        "\n",
        ">>>>[Determine If It's a Survey Paper](#updateTitle=true&folderId=19vZXBl8HMn0gIKArBsKg-zUfiFDTCf9j&scrollTo=DPOhrC-WzyXQ)\n",
        "\n",
        ">>[Create & Run the Transformation Agent](#updateTitle=true&folderId=19vZXBl8HMn0gIKArBsKg-zUfiFDTCf9j&scrollTo=7M0Hvf5J0K3Y)\n",
        "\n",
        ">>>[Running the Transformations](#updateTitle=true&folderId=19vZXBl8HMn0gIKArBsKg-zUfiFDTCf9j&scrollTo=DdN-FKsI0ljm)\n",
        "\n",
        ">>>[Inspect the Operation Workflows](#updateTitle=true&folderId=19vZXBl8HMn0gIKArBsKg-zUfiFDTCf9j&scrollTo=rKEU5Olm0zhz)\n",
        "\n"
      ]
    },
    {
      "cell_type": "markdown",
      "metadata": {
        "id": "zWqspSa5DTm-"
      },
      "source": [
        "## Setting Up Weaviate & Importing Data\n",
        "\n",
        "To use the Weaviate Transformation Agent, first, create a [Weaviate Cloud](https://weaviate.io/deployment/serverless) account👇\n",
        "1. [Create Serverless Weaviate Cloud account](https://weaviate.io/deployment/serverless) and setup a free [Sandbox](https://weaviate.io/developers/wcs/manage-clusters/create#sandbox-clusters)\n",
        "2. Go to 'Embedding' and enable it, by default, this will make it so that we use `Snowflake/snowflake-arctic-embed-l-v2.0` as the embedding model\n",
        "3. Take note of the `WEAVIATE_URL` and `WEAVIATE_API_KEY` to connect to your cluster below\n",
        "\n",
        "> Info: We recommend using [Weaviate Embeddings](https://weaviate.io/developers/weaviate/model-providers/weaviate) so you do not have to provide any extra keys for external embedding providers."
      ]
    },
    {
      "cell_type": "code",
      "execution_count": 4,
      "metadata": {
        "colab": {
          "base_uri": "https://localhost:8080/"
        },
        "id": "VndQ5VDhjJ2l",
        "outputId": "d3796324-4690-4049-af4e-0898e23feb17"
      },
      "outputs": [
        {
          "name": "stdout",
          "output_type": "stream",
          "text": [
            "Requirement already satisfied: datasets in /usr/local/lib/python3.11/dist-packages (3.3.2)\n",
            "Requirement already satisfied: weaviate-client[agents] in /usr/local/lib/python3.11/dist-packages (4.11.1)\n",
            "Requirement already satisfied: httpx<0.29.0,>=0.26.0 in /usr/local/lib/python3.11/dist-packages (from weaviate-client[agents]) (0.28.1)\n",
            "Requirement already satisfied: validators==0.34.0 in /usr/local/lib/python3.11/dist-packages (from weaviate-client[agents]) (0.34.0)\n",
            "Requirement already satisfied: authlib<1.3.2,>=1.2.1 in /usr/local/lib/python3.11/dist-packages (from weaviate-client[agents]) (1.3.1)\n",
            "Requirement already satisfied: pydantic<3.0.0,>=2.8.0 in /usr/local/lib/python3.11/dist-packages (from weaviate-client[agents]) (2.10.6)\n",
            "Requirement already satisfied: grpcio<2.0.0,>=1.66.2 in /usr/local/lib/python3.11/dist-packages (from weaviate-client[agents]) (1.70.0)\n",
            "Requirement already satisfied: grpcio-tools<2.0.0,>=1.66.2 in /usr/local/lib/python3.11/dist-packages (from weaviate-client[agents]) (1.70.0)\n",
            "Requirement already satisfied: grpcio-health-checking<2.0.0,>=1.66.2 in /usr/local/lib/python3.11/dist-packages (from weaviate-client[agents]) (1.70.0)\n",
            "Requirement already satisfied: weaviate-agents<1.0.0,>=0.3.0 in /usr/local/lib/python3.11/dist-packages (from weaviate-client[agents]) (0.4.0)\n",
            "Requirement already satisfied: filelock in /usr/local/lib/python3.11/dist-packages (from datasets) (3.17.0)\n",
            "Requirement already satisfied: numpy>=1.17 in /usr/local/lib/python3.11/dist-packages (from datasets) (1.26.4)\n",
            "Requirement already satisfied: pyarrow>=15.0.0 in /usr/local/lib/python3.11/dist-packages (from datasets) (18.1.0)\n",
            "Requirement already satisfied: dill<0.3.9,>=0.3.0 in /usr/local/lib/python3.11/dist-packages (from datasets) (0.3.8)\n",
            "Requirement already satisfied: pandas in /usr/local/lib/python3.11/dist-packages (from datasets) (2.2.2)\n",
            "Requirement already satisfied: requests>=2.32.2 in /usr/local/lib/python3.11/dist-packages (from datasets) (2.32.3)\n",
            "Requirement already satisfied: tqdm>=4.66.3 in /usr/local/lib/python3.11/dist-packages (from datasets) (4.67.1)\n",
            "Requirement already satisfied: xxhash in /usr/local/lib/python3.11/dist-packages (from datasets) (3.5.0)\n",
            "Requirement already satisfied: multiprocess<0.70.17 in /usr/local/lib/python3.11/dist-packages (from datasets) (0.70.16)\n",
            "Requirement already satisfied: fsspec<=2024.12.0,>=2023.1.0 in /usr/local/lib/python3.11/dist-packages (from fsspec[http]<=2024.12.0,>=2023.1.0->datasets) (2024.10.0)\n",
            "Requirement already satisfied: aiohttp in /usr/local/lib/python3.11/dist-packages (from datasets) (3.11.13)\n",
            "Requirement already satisfied: huggingface-hub>=0.24.0 in /usr/local/lib/python3.11/dist-packages (from datasets) (0.28.1)\n",
            "Requirement already satisfied: packaging in /usr/local/lib/python3.11/dist-packages (from datasets) (24.2)\n",
            "Requirement already satisfied: pyyaml>=5.1 in /usr/local/lib/python3.11/dist-packages (from datasets) (6.0.2)\n",
            "Requirement already satisfied: cryptography in /usr/local/lib/python3.11/dist-packages (from authlib<1.3.2,>=1.2.1->weaviate-client[agents]) (43.0.3)\n",
            "Requirement already satisfied: aiohappyeyeballs>=2.3.0 in /usr/local/lib/python3.11/dist-packages (from aiohttp->datasets) (2.4.6)\n",
            "Requirement already satisfied: aiosignal>=1.1.2 in /usr/local/lib/python3.11/dist-packages (from aiohttp->datasets) (1.3.2)\n",
            "Requirement already satisfied: attrs>=17.3.0 in /usr/local/lib/python3.11/dist-packages (from aiohttp->datasets) (25.1.0)\n",
            "Requirement already satisfied: frozenlist>=1.1.1 in /usr/local/lib/python3.11/dist-packages (from aiohttp->datasets) (1.5.0)\n",
            "Requirement already satisfied: multidict<7.0,>=4.5 in /usr/local/lib/python3.11/dist-packages (from aiohttp->datasets) (6.1.0)\n",
            "Requirement already satisfied: propcache>=0.2.0 in /usr/local/lib/python3.11/dist-packages (from aiohttp->datasets) (0.3.0)\n",
            "Requirement already satisfied: yarl<2.0,>=1.17.0 in /usr/local/lib/python3.11/dist-packages (from aiohttp->datasets) (1.18.3)\n",
            "Requirement already satisfied: protobuf<6.0dev,>=5.26.1 in /usr/local/lib/python3.11/dist-packages (from grpcio-health-checking<2.0.0,>=1.66.2->weaviate-client[agents]) (5.29.3)\n",
            "Requirement already satisfied: setuptools in /usr/local/lib/python3.11/dist-packages (from grpcio-tools<2.0.0,>=1.66.2->weaviate-client[agents]) (75.1.0)\n",
            "Requirement already satisfied: anyio in /usr/local/lib/python3.11/dist-packages (from httpx<0.29.0,>=0.26.0->weaviate-client[agents]) (3.7.1)\n",
            "Requirement already satisfied: certifi in /usr/local/lib/python3.11/dist-packages (from httpx<0.29.0,>=0.26.0->weaviate-client[agents]) (2025.1.31)\n",
            "Requirement already satisfied: httpcore==1.* in /usr/local/lib/python3.11/dist-packages (from httpx<0.29.0,>=0.26.0->weaviate-client[agents]) (1.0.7)\n",
            "Requirement already satisfied: idna in /usr/local/lib/python3.11/dist-packages (from httpx<0.29.0,>=0.26.0->weaviate-client[agents]) (3.10)\n",
            "Requirement already satisfied: h11<0.15,>=0.13 in /usr/local/lib/python3.11/dist-packages (from httpcore==1.*->httpx<0.29.0,>=0.26.0->weaviate-client[agents]) (0.14.0)\n",
            "Requirement already satisfied: typing-extensions>=3.7.4.3 in /usr/local/lib/python3.11/dist-packages (from huggingface-hub>=0.24.0->datasets) (4.12.2)\n",
            "Requirement already satisfied: annotated-types>=0.6.0 in /usr/local/lib/python3.11/dist-packages (from pydantic<3.0.0,>=2.8.0->weaviate-client[agents]) (0.7.0)\n",
            "Requirement already satisfied: pydantic-core==2.27.2 in /usr/local/lib/python3.11/dist-packages (from pydantic<3.0.0,>=2.8.0->weaviate-client[agents]) (2.27.2)\n",
            "Requirement already satisfied: charset-normalizer<4,>=2 in /usr/local/lib/python3.11/dist-packages (from requests>=2.32.2->datasets) (3.4.1)\n",
            "Requirement already satisfied: urllib3<3,>=1.21.1 in /usr/local/lib/python3.11/dist-packages (from requests>=2.32.2->datasets) (2.3.0)\n",
            "Requirement already satisfied: rich>=13.9.4 in /usr/local/lib/python3.11/dist-packages (from weaviate-agents<1.0.0,>=0.3.0->weaviate-client[agents]) (13.9.4)\n",
            "Requirement already satisfied: python-dateutil>=2.8.2 in /usr/local/lib/python3.11/dist-packages (from pandas->datasets) (2.8.2)\n",
            "Requirement already satisfied: pytz>=2020.1 in /usr/local/lib/python3.11/dist-packages (from pandas->datasets) (2025.1)\n",
            "Requirement already satisfied: tzdata>=2022.7 in /usr/local/lib/python3.11/dist-packages (from pandas->datasets) (2025.1)\n",
            "Requirement already satisfied: six>=1.5 in /usr/local/lib/python3.11/dist-packages (from python-dateutil>=2.8.2->pandas->datasets) (1.17.0)\n",
            "Requirement already satisfied: markdown-it-py>=2.2.0 in /usr/local/lib/python3.11/dist-packages (from rich>=13.9.4->weaviate-agents<1.0.0,>=0.3.0->weaviate-client[agents]) (3.0.0)\n",
            "Requirement already satisfied: pygments<3.0.0,>=2.13.0 in /usr/local/lib/python3.11/dist-packages (from rich>=13.9.4->weaviate-agents<1.0.0,>=0.3.0->weaviate-client[agents]) (2.18.0)\n",
            "Requirement already satisfied: sniffio>=1.1 in /usr/local/lib/python3.11/dist-packages (from anyio->httpx<0.29.0,>=0.26.0->weaviate-client[agents]) (1.3.1)\n",
            "Requirement already satisfied: cffi>=1.12 in /usr/local/lib/python3.11/dist-packages (from cryptography->authlib<1.3.2,>=1.2.1->weaviate-client[agents]) (1.17.1)\n",
            "Requirement already satisfied: pycparser in /usr/local/lib/python3.11/dist-packages (from cffi>=1.12->cryptography->authlib<1.3.2,>=1.2.1->weaviate-client[agents]) (2.22)\n",
            "Requirement already satisfied: mdurl~=0.1 in /usr/local/lib/python3.11/dist-packages (from markdown-it-py>=2.2.0->rich>=13.9.4->weaviate-agents<1.0.0,>=0.3.0->weaviate-client[agents]) (0.1.2)\n"
          ]
        }
      ],
      "source": [
        "!pip install weaviate-client[agents] datasets"
      ]
    },
    {
      "cell_type": "code",
      "execution_count": 5,
      "metadata": {
        "id": "rizHjeksgtJD"
      },
      "outputs": [],
      "source": [
        "import os\n",
        "from getpass import getpass\n",
        "\n",
        "if \"WEAVIATE_API_KEY\" not in os.environ:\n",
        "  os.environ[\"WEAVIATE_API_KEY\"] = getpass(\"Weaviate API Key\")\n",
        "if \"WEAVIATE_URL\" not in os.environ:\n",
        "  os.environ[\"WEAVIATE_URL\"] = getpass(\"Weaviate URL\")"
      ]
    },
    {
      "cell_type": "code",
      "execution_count": 6,
      "metadata": {
        "id": "UFPvHFZijGAE"
      },
      "outputs": [],
      "source": [
        "import weaviate\n",
        "from weaviate.auth import Auth\n",
        "\n",
        "client = weaviate.connect_to_weaviate_cloud(\n",
        "        cluster_url=os.environ.get(\"WEAVIATE_URL\"),\n",
        "        auth_credentials=Auth.api_key(os.environ.get(\"WEAVIATE_API_KEY\")),\n",
        ")"
      ]
    },
    {
      "cell_type": "markdown",
      "metadata": {
        "id": "m-JOSLFqsXY2"
      },
      "source": [
        "### Prepare the Collections\n",
        "\n",
        "\n",
        "In the following code block, we are pulling our demo \"papers\" datasets from Hugging Face and writing them to new collections in our Weaviate Serverless cluster.\n",
        "\n",
        "Note: We recommend enableing 'Embeddings' in the Weavaite Cloud console. This way, you can use the `text2vec_weaviate` vectorizer, which will create vectors for each object using `Snowflake/snowflake-arctic-embed-l-v2.0` by default."
      ]
    },
    {
      "cell_type": "code",
      "execution_count": 25,
      "metadata": {
        "colab": {
          "base_uri": "https://localhost:8080/"
        },
        "id": "77VYbV8nmv2p",
        "outputId": "74a76fc2-2f90-4dcf-ced6-0843c6b37019"
      },
      "outputs": [
        {
          "data": {
            "text/plain": [
              "<weaviate.collections.collection.sync.Collection at 0x79c2b9070090>"
            ]
          },
          "execution_count": 25,
          "metadata": {},
          "output_type": "execute_result"
        }
      ],
      "source": [
        "from weaviate.classes.config import Configure, Property, DataType\n",
        "\n",
        "# To re-run cell you may have to delete collections\n",
        "# client.collections.delete(\"ArxivPapers\")\n",
        "client.collections.create(\n",
        "    \"ArxivPapers\",\n",
        "    description=\"A dataset that lists research paper titles and abstracts\",\n",
        "    vectorizer_config=Configure.Vectorizer.text2vec_weaviate()\n",
        ")\n"
      ]
    },
    {
      "cell_type": "code",
      "execution_count": 31,
      "metadata": {
        "id": "CkyaGxBfs990"
      },
      "outputs": [],
      "source": [
        "from datasets import load_dataset\n",
        "\n",
        "dataset = load_dataset(\"weaviate/agents\", \"transformation-agent-papers\", split=\"train\", streaming=True)\n",
        "\n",
        "papers_collection = client.collections.get(\"ArxivPapers\")\n",
        "\n",
        "with papers_collection.batch.dynamic() as batch:\n",
        "    for i, item in enumerate(dataset):\n",
        "      if i < 200:\n",
        "        batch.add_object(properties=item[\"properties\"])"
      ]
    },
    {
      "cell_type": "markdown",
      "metadata": {
        "id": "Rj1CMObcvFbw"
      },
      "source": [
        "### Inspect the Collection in Explorer\n",
        "\n",
        "The `TransformationAgent` will modify the collection as we go along. This is a good time to take a look at the contents of your \"ArxivPapers\" collection. If all goes well, you should be seeing 2 properties listed for each object:\n",
        "- `title`: the title of the paper.\n",
        "- `abstract`: the abstract of the paper.\n",
        "\n",
        "As well as the `vectors` for each object."
      ]
    },
    {
      "cell_type": "markdown",
      "metadata": {
        "id": "iftXR_eXDYvz"
      },
      "source": [
        "## Define Transformation Operations\n",
        "\n",
        "The star of the show for the `TransformationAgent` are the operations.\n",
        "\n",
        "We can now define transformation operations which we want to perform on our collection. An operation can be:\n",
        "\n",
        "- Appending a new property\n",
        "- Updating an existing property\n",
        "\n",
        "### Append New Properties\n",
        "\n",
        "To append a new property, we define an operation with:\n",
        "- **`instrcution`**: This is where you can describe, in natural language, what you want this new property to be.\n",
        "- **`property_name`**: The name you want the property to have\n",
        "- **`data_type`**: The specific datatype the property should be. E.g.: `DataType.TEXT`, `DataType.TEXT_ARRAY`, `DataType.BOOL`, `DataType.INT` etc.\n",
        "- **`view_properties`**: Sometimes, you may want to create properties that are based on information provided in other properties, this is where you can list out which properties the instruction should view.\n",
        "\n",
        "#### Create a List of Topics\n",
        "\n",
        "First, let's append a new property called \"topics\", which should be a `TEXT_ARRAY`. Based on the \"abstract\" and \"title\", let's ask for the LLM to extract a list of topic tags. We can be specific here. Let's ask for no more than 5"
      ]
    },
    {
      "cell_type": "code",
      "execution_count": 32,
      "metadata": {
        "id": "Fs1ZcIqiCWzD"
      },
      "outputs": [],
      "source": [
        "from weaviate.agents.classes import Operations\n",
        "from weaviate.collections.classes.config import DataType\n",
        "\n",
        "add_topics = Operations.append_property(\n",
        "    property_name=\"topics\",\n",
        "    data_type=DataType.TEXT_ARRAY,\n",
        "    view_properties=[\"abstract\", \"title\"],\n",
        "    instruction=\"\"\"Create a list of topic tags based on the title and abstract.\n",
        "    Topics should be distinct from eachother. Provide a maximum of 5 topics.\n",
        "    Group similar topics under one topic tag.\"\"\",\n",
        ")\n"
      ]
    },
    {
      "cell_type": "markdown",
      "metadata": {
        "id": "H31WPYAbzVQC"
      },
      "source": [
        "#### Add a French Translation\n",
        "\n",
        "Next, let's add a new \"french_abstract\" property which is simply a translation of the \"abstract\""
      ]
    },
    {
      "cell_type": "code",
      "execution_count": 15,
      "metadata": {
        "id": "twpRswTjaBZD"
      },
      "outputs": [],
      "source": [
        "add_french_abstract = Operations.append_property(\n",
        "      property_name=\"french_abstract\",\n",
        "      data_type=DataType.TEXT,\n",
        "      view_properties=[\"abstract\"],\n",
        "      instruction=\"Translate the abstract to French\",\n",
        ")"
      ]
    },
    {
      "cell_type": "markdown",
      "metadata": {
        "id": "KF3z9wSxziUL"
      },
      "source": [
        "#### Add NLP Relevance Score\n",
        "\n",
        "This time, we can add a property which is an `INT`. Here, we ask the LLM to give a score from 0 to 10, based on how relevant tha paper is to Natural Language Processing."
      ]
    },
    {
      "cell_type": "code",
      "execution_count": 33,
      "metadata": {
        "id": "N2ENFtq5ac7a"
      },
      "outputs": [],
      "source": [
        "add_nlp_relevance = Operations.append_property(\n",
        "    property_name=\"nlp_relevance\",\n",
        "    data_type=DataType.INT,\n",
        "    view_properties=[\"abstract\"],\n",
        "    instruction=\"\"\"Give a score from 0-10 based on how relevant the abstract is to Natural Language Processing.\n",
        "    The scale is from 0 (not relevant at all) to 10 (very relevant)\"\"\",\n",
        ")"
      ]
    },
    {
      "cell_type": "markdown",
      "metadata": {
        "id": "DPOhrC-WzyXQ"
      },
      "source": [
        "#### Determine If It's a Survey Paper\n",
        "\n",
        "Finally, let's ask for a `BOOL` property which indicates whether the paper is a survey or not. I.e., we'll ask the LLM to determine if the paper presents  novel techniques, or whether it's a survey of existing ones."
      ]
    },
    {
      "cell_type": "code",
      "execution_count": 34,
      "metadata": {
        "id": "4G6b3sFmevfc"
      },
      "outputs": [],
      "source": [
        "is_survey_paper = Operations.append_property(\n",
        "    property_name=\"is_survey_paper\",\n",
        "    data_type=DataType.BOOL,\n",
        "    view_properties=[\"abstract\"],\n",
        "    instruction=\"\"\"Determine if the paper is a \"survey\".\n",
        "    A paper is considered survey it's a surveys existing techniques, and not if it presents novel techniques\"\"\",\n",
        ")"
      ]
    },
    {
      "cell_type": "markdown",
      "metadata": {
        "id": "7M0Hvf5J0K3Y"
      },
      "source": [
        "## Create & Run the Transformation Agent\n",
        "\n",
        "Once we have all of our operations defined, we can initialize a `TransformationAgent`.\n",
        "\n",
        "When initializing the agent, we have to decide which `collection` it may have accesss to. In this case, we want it to have access to the \"ArxivPapers\" collection we previously created.\n",
        "\n",
        "Next, we need to provide a list of `operations` which the agent should run. Here, we provide all the operations we defined above."
      ]
    },
    {
      "cell_type": "code",
      "execution_count": 37,
      "metadata": {
        "id": "hPpGZL3yfgPR"
      },
      "outputs": [],
      "source": [
        "from weaviate.agents.transformation import TransformationAgent\n",
        "\n",
        "agent = TransformationAgent(\n",
        "    client=client,\n",
        "    collection=\"ArxivPapers\",\n",
        "    operations=[\n",
        "        add_topics,\n",
        "        add_french_abstract,\n",
        "        add_nlp_relevance,\n",
        "        is_survey_paper,\n",
        "    ],\n",
        ")"
      ]
    },
    {
      "cell_type": "markdown",
      "metadata": {
        "id": "DdN-FKsI0ljm"
      },
      "source": [
        "### Running the Transformations\n",
        "\n",
        "By calling `update_all()`, we get the agent to spin up individual workflows for each operation. Each operation will then run on each object in our collectoion."
      ]
    },
    {
      "cell_type": "code",
      "execution_count": 38,
      "metadata": {
        "id": "EhBOz2tFgGCU"
      },
      "outputs": [],
      "source": [
        "workflow_ids = agent.update_all()"
      ]
    },
    {
      "cell_type": "markdown",
      "metadata": {
        "id": "rKEU5Olm0zhz"
      },
      "source": [
        "### Inspect the Operation Workflows\n",
        "\n",
        "To inspect the status of our operations, we can take a look at the `workflow_ids` and get their status with `agent.get_status(workflow_id)`"
      ]
    },
    {
      "cell_type": "code",
      "execution_count": 39,
      "metadata": {
        "colab": {
          "base_uri": "https://localhost:8080/"
        },
        "id": "R1SLGd7lgKxk",
        "outputId": "b568beed-9420-4614-e3da-1ba06accdc61"
      },
      "outputs": [
        {
          "data": {
            "text/plain": [
              "[TransformationResponse(operation_name='topics', workflow_id='TransformationWorkflow-598aafbd4688c36768b2f2c307c576fd'),\n",
              " TransformationResponse(operation_name='french_abstract', workflow_id='TransformationWorkflow-ca3e9020ab4eb6569946953901c6202e'),\n",
              " TransformationResponse(operation_name='nlp_relevance', workflow_id='TransformationWorkflow-4bb5763a3d97a2fbf791eaa50a700754'),\n",
              " TransformationResponse(operation_name='is_survey_paper', workflow_id='TransformationWorkflow-bd1d1302255768cb2d0d16156b428674')]"
            ]
          },
          "execution_count": 39,
          "metadata": {},
          "output_type": "execute_result"
        }
      ],
      "source": [
        "workflow_ids"
      ]
    },
    {
      "cell_type": "code",
      "execution_count": 40,
      "metadata": {
        "colab": {
          "base_uri": "https://localhost:8080/"
        },
        "id": "0gue9e2CgOPs",
        "outputId": "df7875e0-aba6-4746-9570-d5d90f5146a7"
      },
      "outputs": [
        {
          "data": {
            "text/plain": [
              "{'workflow_id': 'TransformationWorkflow-598aafbd4688c36768b2f2c307c576fd',\n",
              " 'status': {'batch_count': 1,\n",
              "  'end_time': None,\n",
              "  'start_time': '2025-03-06 14:20:31',\n",
              "  'state': 'running',\n",
              "  'total_duration': None,\n",
              "  'total_items': 200}}"
            ]
          },
          "execution_count": 40,
          "metadata": {},
          "output_type": "execute_result"
        }
      ],
      "source": [
        "agent.get_status(workflow_id=workflow_ids[0].workflow_id)"
      ]
    }
  ],
  "metadata": {
    "colab": {
      "provenance": []
    },
    "kernelspec": {
      "display_name": "Python 3",
      "name": "python3"
    },
    "language_info": {
      "name": "python"
    }
  },
  "nbformat": 4,
  "nbformat_minor": 0
}
