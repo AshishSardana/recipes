{
  "cells": [
    {
      "cell_type": "markdown",
      "metadata": {
        "id": "RFe3JtuV6G2f"
      },
      "source": [
        "# Build a Weaviate Personalization Agent - Movie Recommender\n",
        "\n",
        "In this recipe, we will use the new Weaviate `PersonalizationAgent` to fetch personalized objects from a Weaviate collection, in a user personalized way. This new agentic way of retrieving objects is based on a users persona profile and past interactions with your collection.\n",
        "\n",
        "> 📚 You can learn more about how to use the `PersonalizationAgent`, in our [\"Introducing the Weaviate Personalization Agent\"](https://weaviate.io/blog/personalization-agent?utm_source=recipe&utm_campaign=agents) blog and [documentation](https://weaviate.io/developers/agents/personalization?utm_source=recipe&utm_campaign=agents).\n",
        "\n",
        "To help you get started, we're providing a few demo datasets, available on Hugging Face datasets 🤗:\n",
        "\n",
        "- [Movies](https://huggingface.co/datasets/weaviate/agents/viewer/personalization-agent-movies): A dataset that lists movies, their ratings, original language etc.\n",
        "- [Recipes](https://huggingface.co/datasets/weaviate/agents/viewer/personalization-agent-recipes): A dataset that lists the name, short description and cuisine of a dish.\n",
        "\n",
        "For this example, we will be using the movies dataset to create a movie recommender service"
      ]
    },
    {
      "cell_type": "markdown",
      "metadata": {
        "colab_type": "toc",
        "id": "md2pOtbajloT"
      },
      "source": [
        ">[Build a Weaviate Personalization Agent - Movie Recommender](#scrollTo=RFe3JtuV6G2f)\n",
        "\n",
        ">>[Setting up Weaviate & Importing Data](#scrollTo=Kr6AL2OzjqAW)\n",
        "\n",
        ">>[Setting Up Weaviate & Importing Data](#scrollTo=IIiKq8EmjyTM)\n",
        "\n",
        ">>>[Create a New Collection](#scrollTo=Vde1N6bb_QH8)\n",
        "\n",
        ">>[Create a Personalization Agent](#scrollTo=UJ_Fusfj_fw6)\n",
        "\n",
        ">>>[Adding New Personas](#scrollTo=-_Gcqm9QAF-j)\n",
        "\n",
        ">>>[Adding Interactions](#scrollTo=3-OxiwY4AU3F)\n",
        "\n",
        ">>[Get Recommendations and Rationale](#scrollTo=wyiFp4A1Atpr)\n",
        "\n",
        ">>>[Get Recommendations with an Instruction](#scrollTo=q87tg5hTCVFb)\n",
        "\n"
      ]
    },
    {
      "cell_type": "code",
      "execution_count": null,
      "metadata": {
        "id": "F5WOwkxu6EGC"
      },
      "outputs": [],
      "source": [
        "!pip install weaviate-client[agents] datasets"
      ]
    },
    {
      "cell_type": "markdown",
      "metadata": {
        "id": "IIiKq8EmjyTM"
      },
      "source": [
        "## Setting Up Weaviate & Importing Data\n",
        "\n",
        "\n",
        "To use the Weaviate Personalization Agent, first, create a [Weaviate Cloud](tps://weaviate.io/deployment/serverless?utm_source=recipe&utm_campaign=agents) account👇\n",
        "1. [Create Serverless Weaviate Cloud account](https://weaviate.io/deployment/serverless?utm_source=recipe&utm_campaign=agents) and setup a free [Sandbox](https://weaviate.io/developers/wcs/manage-clusters/create#sandbox-clusters?utm_source=recipe&utm_campaign=agents)\n",
        "2. Go to 'Embedding' and enable it, by default, this will make it so that we use `Snowflake/snowflake-arctic-embed-l-v2.0` as the embedding model\n",
        "3. Take note of the `WEAVIATE_URL` and `WEAVIATE_API_KEY` to connect to your cluster below\n",
        "\n",
        "> Info: We recommend using [Weaviate Embeddings](https://weaviate.io/developers/weaviate/model-providers/weaviate?utm_source=recipe&utm_campaign=agents) so you do not have to provide any extra keys for external embedding providers."
      ]
    },
    {
      "cell_type": "code",
      "execution_count": 2,
      "metadata": {
        "colab": {
          "base_uri": "https://localhost:8080/"
        },
        "id": "HtV1_oUH6sGf",
        "outputId": "de4c95ec-7874-4e18-ef24-d81e6d5c98d0"
      },
      "outputs": [
        {
          "name": "stdout",
          "output_type": "stream",
          "text": [
            "Weaviate API Key··········\n",
            "Weaviate URL··········\n"
          ]
        }
      ],
      "source": [
        "import os\n",
        "\n",
        "import weaviate\n",
        "from weaviate.auth import Auth\n",
        "from getpass import getpass\n",
        "\n",
        "if \"WEAVIATE_API_KEY\" not in os.environ:\n",
        "  os.environ[\"WEAVIATE_API_KEY\"] = getpass(\"Weaviate API Key\")\n",
        "if \"WEAVIATE_URL\" not in os.environ:\n",
        "  os.environ[\"WEAVIATE_URL\"] = getpass(\"Weaviate URL\")\n",
        "\n",
        "client = weaviate.connect_to_weaviate_cloud(\n",
        "    cluster_url=os.environ.get(\"WEAVIATE_URL\"),\n",
        "    auth_credentials=Auth.api_key(os.environ.get(\"WEAVIATE_API_KEY\")),\n",
        ")"
      ]
    },
    {
      "cell_type": "markdown",
      "metadata": {
        "id": "Vde1N6bb_QH8"
      },
      "source": [
        "### Create a New Collection\n",
        "\n",
        "Next, we create a new collection in Weaviate called \"Movies\". For the agentic services in Weaviate, it's a good idea to include descriptions of the properties in your collection. These descriptions can then be used by the agent."
      ]
    },
    {
      "cell_type": "code",
      "execution_count": 5,
      "metadata": {
        "colab": {
          "base_uri": "https://localhost:8080/"
        },
        "id": "X2DPdPh4zFn-",
        "outputId": "7d43c17e-ff3d-4fb4-e128-43179bbc94c8"
      },
      "outputs": [
        {
          "data": {
            "text/plain": [
              "<weaviate.collections.collection.sync.Collection at 0x7f62f442b250>"
            ]
          },
          "execution_count": 5,
          "metadata": {},
          "output_type": "execute_result"
        }
      ],
      "source": [
        "from weaviate.classes.config import Configure, DataType, Property\n",
        "\n",
        "# if client.collections.exists(\"Movies\"):\n",
        "    # client.collections.delete(\"Movies\")\n",
        "\n",
        "client.collections.create(\n",
        "    \"Movies\",\n",
        "    description=\"A dataset that lists movies, including their release dates, ratings, popularity etc.\",\n",
        "    vectorizer_config=Configure.Vectorizer.text2vec_weaviate(),\n",
        "    properties=[\n",
        "        Property(\n",
        "            name=\"release_date\",\n",
        "            data_type=DataType.TEXT,\n",
        "            description=\"release date of the movie\",\n",
        "            skip_vectorization=True,\n",
        "        ),\n",
        "        Property(\n",
        "            name=\"title\", data_type=DataType.TEXT, description=\"title of the movie\"\n",
        "        ),\n",
        "        Property(\n",
        "            name=\"overview\",\n",
        "            data_type=DataType.TEXT,\n",
        "            description=\"overview of the movie\",\n",
        "        ),\n",
        "        Property(\n",
        "            name=\"genres\",\n",
        "            data_type=DataType.TEXT_ARRAY,\n",
        "            description=\"genres of the movie\",\n",
        "        ),\n",
        "        Property(\n",
        "            name=\"vote_average\",\n",
        "            data_type=DataType.NUMBER,\n",
        "            description=\"vote average of the movie\",\n",
        "        ),\n",
        "        Property(\n",
        "            name=\"vote_count\",\n",
        "            data_type=DataType.INT,\n",
        "            description=\"vote count of the movie\",\n",
        "        ),\n",
        "        Property(\n",
        "            name=\"popularity\",\n",
        "            data_type=DataType.NUMBER,\n",
        "            description=\"popularity of the movie\",\n",
        "        ),\n",
        "        Property(\n",
        "            name=\"poster_url\",\n",
        "            data_type=DataType.TEXT,\n",
        "            description=\"poster path of the movie\",\n",
        "            skip_vectorization=True,\n",
        "        ),\n",
        "        Property(\n",
        "            name=\"original_language\",\n",
        "            data_type=DataType.TEXT,\n",
        "            description=\"Code of the language of the movie\",\n",
        "            skip_vectorization=True,\n",
        "        ),\n",
        "    ],\n",
        ")"
      ]
    },
    {
      "cell_type": "code",
      "execution_count": 6,
      "metadata": {
        "id": "dIpiBisyzk2N"
      },
      "outputs": [],
      "source": [
        "from datasets import load_dataset\n",
        "\n",
        "dataset = load_dataset(\"weaviate/agents\", \"personalization-agent-movies\", split=\"train\", streaming=True)\n",
        "\n",
        "movies_collection = client.collections.get(\"Movies\")\n",
        "\n",
        "with movies_collection.batch.dynamic() as batch:\n",
        "    for item in dataset:\n",
        "        batch.add_object(properties=item[\"properties\"])"
      ]
    },
    {
      "cell_type": "markdown",
      "metadata": {
        "id": "UJ_Fusfj_fw6"
      },
      "source": [
        "## Create a Personalization Agent\n",
        "\n",
        "Below, we create a `PersonalizationAgent` for the `\"Movies\"` collection. If an agent for this collection already exists, we can simply connect to it.\n",
        "\n",
        "When creating a new `PeresonalizationAgent`, we can also optioanlly define `user_properties`.\n",
        "\n",
        "User properties can be anything that may be useful iformation about users that will be added to the agent. In this case, since we are creating a Movie recommender service, we may ask each persona to be added with ther `age`, `favorite_genres` and `languages`."
      ]
    },
    {
      "cell_type": "code",
      "execution_count": 7,
      "metadata": {
        "id": "UQJvBXFJ_Lnr"
      },
      "outputs": [],
      "source": [
        "from weaviate.agents.personalization import PersonalizationAgent\n",
        "\n",
        "if PersonalizationAgent.exists(client, \"Movies\"):\n",
        "  agent = PersonalizationAgent.connect(\n",
        "          client=client,\n",
        "          reference_collection=\"Movies\",\n",
        "      )\n",
        "else:\n",
        "  agent = PersonalizationAgent.create(\n",
        "          client=client,\n",
        "          reference_collection=\"Movies\",\n",
        "          user_properties={\n",
        "            \"age\": DataType.NUMBER,\n",
        "            \"favorite_genres\": DataType.TEXT_ARRAY,\n",
        "            \"languages\": DataType.TEXT_ARRAY,\n",
        "        },\n",
        "      )\n",
        "\n"
      ]
    },
    {
      "cell_type": "markdown",
      "metadata": {
        "id": "-_Gcqm9QAF-j"
      },
      "source": [
        "### Adding New Personas\n",
        "\n",
        "We can add new users with `add_persona`, listing the requested user properties when adding them. Try changing the code block below to represent yourself if you like 👇"
      ]
    },
    {
      "cell_type": "code",
      "execution_count": 34,
      "metadata": {
        "id": "TmqvRP7uGMB2"
      },
      "outputs": [],
      "source": [
        "from uuid import uuid4\n",
        "from weaviate.agents.classes import Persona, PersonaInteraction\n",
        "\n",
        "persona_id = uuid4()\n",
        "agent.add_persona(\n",
        "    Persona(\n",
        "        persona_id=persona_id,\n",
        "        properties={\n",
        "              \"age\": 29,\n",
        "              \"favorite_genres\": [\"RomCom\", \"Adventure\", \"Sci-Fi\", \"Fantasy\"],\n",
        "              \"languages\": [\"English\", \"French\"],\n",
        "          },\n",
        "    )\n",
        ")"
      ]
    },
    {
      "cell_type": "markdown",
      "metadata": {
        "id": "3-OxiwY4AU3F"
      },
      "source": [
        "### Adding Interactions\n",
        "\n",
        "Once we have at least one persona for our agent, we can start adding interactions for that persona. For example, in this movie recommender service, it makes sense to add a personas movie reviews.\n",
        "\n",
        "Each interaction can have a weight between -1.0 (negative) and 1.0 positive. So, we can add some reviews for a number or films below.\n",
        "\n",
        "It's a good idea to think about what kind of end application may be forwarding these interactions and have a rule around what each weight might represent. For example:\n",
        "- 1.0: favorite movie  \n",
        "- 0.8: user liked the movie\n",
        "- 0.5: user viewed and did not review the movie\n",
        "- -0.5: user disliked the movie\n",
        "- -1.0: user absolutely hated the movie 👎"
      ]
    },
    {
      "cell_type": "code",
      "execution_count": 36,
      "metadata": {
        "id": "rOfMj8wAPbFM"
      },
      "outputs": [],
      "source": [
        "from uuid import UUID\n",
        "from weaviate.collections.classes.filters import Filter\n",
        "\n",
        "reviewed_movies = [\n",
        "    \"Fantastic Beasts and Where to Find Them\",\n",
        "    \"The Emoji Movie\",\n",
        "    \"Titanic\",\n",
        "    \"The Shining\",\n",
        "    \"Jumanji\",\n",
        "    \"West Side Story\",\n",
        "    \"The Shape of Water\",\n",
        "    \"Morbius\"\n",
        "]\n",
        "\n",
        "reviews_dict = {\n",
        "    movie.properties[\"title\"]: movie\n",
        "    for movie in movies_collection.query.fetch_objects(\n",
        "        filters=Filter.by_property(\"title\").contains_any(reviewed_movies), limit=20\n",
        "    ).objects\n",
        "}\n",
        "\n",
        "interactions = [\n",
        "    PersonaInteraction(\n",
        "        persona_id=persona_id, item_id=reviews_dict[\"Fantastic Beasts and Where to Find Them\"].uuid, weight=0.8\n",
        "    ),\n",
        "    PersonaInteraction(\n",
        "        persona_id=persona_id, item_id=reviews_dict[\"The Emoji Movie\"].uuid, weight=-0.5\n",
        "    ),\n",
        "    PersonaInteraction(\n",
        "        persona_id=persona_id, item_id=reviews_dict[\"Titanic\"].uuid, weight=0.5\n",
        "    ),\n",
        "    PersonaInteraction(\n",
        "        persona_id=persona_id, item_id=reviews_dict[\"The Shining\"].uuid, weight=0.5\n",
        "    ),\n",
        "    PersonaInteraction(\n",
        "        persona_id=persona_id, item_id=reviews_dict[\"Jumanji\"].uuid, weight=0.8\n",
        "    ),\n",
        "    PersonaInteraction(\n",
        "        persona_id=persona_id, item_id=reviews_dict[\"West Side Story\"].uuid, weight=-0.5\n",
        "    ),\n",
        "    PersonaInteraction(\n",
        "        persona_id=persona_id, item_id=reviews_dict[\"The Shape of Water\"].uuid, weight=-1.0\n",
        "    ),\n",
        "    PersonaInteraction(\n",
        "        persona_id=persona_id, item_id=reviews_dict[\"Morbius\"].uuid, weight=-1.0\n",
        "    ),\n",
        "]"
      ]
    },
    {
      "cell_type": "code",
      "execution_count": 37,
      "metadata": {
        "id": "AfFRu0ogP9ng"
      },
      "outputs": [],
      "source": [
        "agent.add_interactions(interactions=interactions)"
      ]
    },
    {
      "cell_type": "markdown",
      "metadata": {
        "id": "wyiFp4A1Atpr"
      },
      "source": [
        "## Get Recommendations and Rationale\n",
        "\n",
        "Now that we have a persona and some interactions for that persona, we can start getting recommended objects from the agent with `get_objects`. We have two options here: we can set `use_agent_ranking` or not.\n",
        "\n",
        "When we do not use agent ranking, the returned objects are ranked by classic ML clustering, whereas when we do use it, it will go through an additional re-ranking with an LLM and an optioanl `instruction`.\n",
        "\n",
        "\n",
        "When we use agent ranking, we can also see the rationale behind the ranking in `ranking_rationale` as we've done below 👇"
      ]
    },
    {
      "cell_type": "code",
      "execution_count": 38,
      "metadata": {
        "colab": {
          "base_uri": "https://localhost:8080/"
        },
        "id": "QUe7QF2nQJoL",
        "outputId": "93fcadd0-2cac-4273-9ba3-344fc25c17f0"
      },
      "outputs": [
        {
          "name": "stdout",
          "output_type": "stream",
          "text": [
            "We've prioritized movies in the Adventure and Fantasy genres based on your interest in films like 'Jumanji' and 'Fantastic Beasts.' Movies with higher popularity and votes, similar in genre, and language have been given precedence. While some classic favorites have also been highlighted for nostalgic hits.\n",
            "*****0*****\n",
            "Doraemon: Nobita and the Tin Labyrinth\n",
            "Nobita's dad stumbled upon a strange advertisement of a fantastic resort on television at midnight. Sleepy as he was, he made a reservation even though he didn't even realize he was talking to the advertisement. The next day he discussed with the family their holiday plans, only to realize he could not find the place anywhere on earth. All of a sudden though there was a suitcase in Nobita's room and intrigued as he was, he opened it only to find a portal to a beautiful resort managed by tin robots. Better still, it's absolutely free. It seems that there is a hidden agenda behind the person who invites them there.\n",
            "['Adventure', 'Animation']\n",
            "vote_average: 7.3\n",
            "https://image.tmdb.org/t/p/original/bkIR641RQyqk7hBlk0hui70dkz9.jpg\n",
            "*****1*****\n",
            "The Nightmare Before Christmas\n",
            "Tired of scaring humans every October 31 with the same old bag of tricks, Jack Skellington, the spindly king of Halloween Town, kidnaps Santa Claus and plans to deliver shrunken heads and other ghoulish gifts to children on Christmas morning. But as Christmas approaches, Jack's rag-doll girlfriend, Sally, tries to foil his misguided plans.\n",
            "['Fantasy', 'Animation', 'Family']\n",
            "vote_average: 7.8\n",
            "https://image.tmdb.org/t/p/original/oQffRNjK8e19rF7xVYEN8ew0j7b.jpg\n",
            "*****2*****\n",
            "The Chronicles of Narnia: The Lion, the Witch and the Wardrobe\n",
            "Siblings Lucy, Edmund, Susan and Peter step through a magical wardrobe and find the land of Narnia. There, they discover a charming, once peaceful kingdom that has been plunged into eternal winter by the evil White Witch, Jadis. Aided by the wise and magnificent lion, Aslan, the children lead Narnia into a spectacular, climactic battle to be free of the Witch's glacial powers forever.\n",
            "['Adventure', 'Family', 'Fantasy']\n",
            "vote_average: 7.1\n",
            "https://image.tmdb.org/t/p/original/kzJip9vndXYSKQHCgekrgqbnUrA.jpg\n",
            "*****3*****\n",
            "Titanic\n",
            "101-year-old Rose DeWitt Bukater tells the story of her life aboard the Titanic, 84 years later. A young Rose boards the ship with her mother and fiancé. Meanwhile, Jack Dawson and Fabrizio De Rossi win third-class tickets aboard the ship. Rose tells the whole story from Titanic's departure through to its death—on its first and last voyage—on April 15, 1912.\n",
            "['Drama', 'Romance']\n",
            "vote_average: 7.9\n",
            "https://image.tmdb.org/t/p/original/9xjZS2rlVxm8SFx8kPC3aIGCOYQ.jpg\n",
            "*****4*****\n",
            "Return to Never Land\n",
            "In 1940, the world is besieged by World War II. Wendy, all grown up, has two children; including Jane, who does not believe Wendy's stories about Peter Pan.\n",
            "['Adventure', 'Fantasy', 'Animation', 'Family']\n",
            "vote_average: 6.4\n",
            "https://image.tmdb.org/t/p/original/zfclCksB7vCLA5Rd9HKHMGSz40.jpg\n",
            "*****5*****\n",
            "Tarzan the Ape Man\n",
            "James Parker and Harry Holt are on an expedition in Africa in search of the elephant burial grounds that will provide enough ivory to make them rich. Parker's beautiful daughter Jane arrives unexpectedly to join them. Jane is terrified when Tarzan and his ape friends abduct her, but when she returns to her father's expedition she has second thoughts about leaving Tarzan.\n",
            "['Action', 'Adventure']\n",
            "vote_average: 6.8\n",
            "https://image.tmdb.org/t/p/original/sqtdNAktAI3p1iXmaEooaHjMmWd.jpg\n",
            "*****6*****\n",
            "The Adventurer: The Curse of the Midas Box\n",
            "Seventeen-year-old Mariah Mundi's life is turned upside down when his parents vanish and his younger brother is kidnapped. Following a trail of clues to the darkly majestic Prince Regent Hotel, Mariah discovers a hidden realm of child-stealing monsters, deadly secrets and a long-lost artefact that grants limitless wealth—but also devastating supernatural power. With the fate of his world, and his family at stake, Mariah will risk everything to unravel the Curse of the Midas Box.\n",
            "['Fantasy', 'Adventure', 'Family']\n",
            "vote_average: 5.6\n",
            "https://image.tmdb.org/t/p/original/31ykUoOS2RNdARk3B8z3y25gD8b.jpg\n",
            "*****7*****\n",
            "Good Luck Charlie, It's Christmas!\n",
            "Teddy Duncan's middle-class family embarks on a road trip from their home in Denver to visit Mrs. Duncans Parents, the Blankenhoopers, in Palm Springs. When they find themselves stranded between Denver and Utah, they try to hitch a ride to Las Vegas with a seemingly normal older couple in a station wagon from Roswell, New Mexico. It turns out that the couple believes they are the victims of alien abduction. The Duncan's must resort to purchasing a clunker Yugo to get to Utah, have their luggage stolen in Las Vegas, and survive a zany Christmas with Grandpa and Grandma Blankenhooper.\n",
            "['TV Movie', 'Comedy', 'Family']\n",
            "vote_average: 6.6\n",
            "https://image.tmdb.org/t/p/original/ecuJMYZM3HQ96mnWtmyXoHb7s7T.jpg\n",
            "*****8*****\n",
            "Barbie: A Perfect Christmas\n",
            "Join Barbie and her sisters Skipper, Stacie and Chelsea as their holiday vacation plans turn into a most unexpected adventure and heartwarming lesson. After a snowstorm diverts their plane, the girls find themselves far from their New York destination and their holiday dreams. Now stranded at a remote inn in the tiny town of Tannenbaum, the sisters are welcomed by new friends and magical experiences. In appreciation for the wonderful hospitality they receive, they use their musical talents to put on a performance for the whole town. Barbie and her sisters realize the joy of being together is what really makes A Perfect Christmas!\n",
            "['Animation', 'Family']\n",
            "vote_average: 6.7\n",
            "https://image.tmdb.org/t/p/original/u14NrsyD9h505ZXs5Ofm7Tv3AuM.jpg\n",
            "*****9*****\n",
            "The Ewok Adventure\n",
            "The Towani family civilian shuttlecraft crashes on the forest moon of Endor. The four Towani's are separated. Jermitt and Catarine, the mother and father are captured by the giant Gorax, and Mace and Cindel, the son and daughter, are missing when they are captured. The next day, the Ewok Deej is looking for his two sons when they find Cindel all alone in the shuttle (Mace and Cindel were looking for the transmitter to send a distress call), when Mace appears with his emergency blaster. Eventually, the four-year old Cindel is able to convince the teenage Mace that the Ewoks are nice. Then, the Ewoks and the Towani's go on an adventure to find the elder Towanis.\n",
            "['Adventure', 'Family', 'Fantasy', 'Science Fiction', 'TV Movie']\n",
            "vote_average: 6.0\n",
            "https://image.tmdb.org/t/p/original/lP7FIxojVrgWsam9efElk5ba3I5.jpg\n",
            "*****10*****\n",
            "Casper's Haunted Christmas\n",
            "Kibosh, supreme ruler of all ghosts, decrees that casper must scare at least one person before Christmas Day so Casper visits Kriss, Massachusetts where he meets the Jollimore family and sets out to complete his mission. As usual, kindhearted Casper has a ghastky time trying to scare anyone; so The Ghostly Trio, fed up with his goody-boo-shoes behavior, secretly hires Casper's look-alike cousin Spooky to do the job-with hilarious results.\n",
            "['Animation', 'Family', 'Fantasy']\n",
            "vote_average: 5.4\n",
            "https://image.tmdb.org/t/p/original/3BFR30kh0O3NKR1Sfea3HXCG6hw.jpg\n",
            "*****11*****\n",
            "Max 2: White House Hero\n",
            "Max is assigned to the White House while Butch, the secret service dog, is on maternity leave. He meets TJ, a 12 year old boy, who is the President's son. Due to his father's high profile, he is trying hard to fit in and lead a normal life. During a state visit by the Russian President and his daughter, Alexandra (Alex), TJ is asked to accompany her, during their stay. TJ befriends Alex, but when they get into trouble, Max comes to the rescue!\n",
            "['Family']\n",
            "vote_average: 7.2\n",
            "https://image.tmdb.org/t/p/original/roIpyS1wlXFCiunN7WGkKSY3BGG.jpg\n",
            "*****12*****\n",
            "My Darling Clementine\n",
            "Wyatt Earp and his brothers Morgan and Virgil ride into Tombstone and leave brother James in charge of their cattle herd. On their return they find their cattle stolen and James dead. Wyatt takes on the job of town marshal, making his brothers deputies, and vows to stay in Tombstone until James' killers are found. He soon runs into the brooding, coughing, hard-drinking Doc Holliday as well as the sullen and vicious Clanton clan. Wyatt discovers the owner of a trinket stolen from James' dead body and the stage is set for the Earps' long-awaited revenge.\n",
            "['Western']\n",
            "vote_average: 7.5\n",
            "https://image.tmdb.org/t/p/original/hNRPIgWfx5EVG1DtNSFZGEnF6AJ.jpg\n",
            "*****13*****\n",
            "Home Alone: The Holiday Heist\n",
            "8-year-old Finn is terrified to learn his family is relocating from sunny California to Maine in the scariest house he has ever seen! Convinced that his new house is haunted, Finn sets up a series of elaborate traps to catch the “ghost” in action. Left home alone with his sister while their parents are stranded across town, Finn’s traps catch a new target – a group of thieves who have targeted Finn’s house.\n",
            "['Comedy', 'Family', 'TV Movie']\n",
            "vote_average: 5.3\n",
            "https://image.tmdb.org/t/p/original/6JPrRC0JPM06y17pUXD6w1xMvKi.jpg\n",
            "*****14*****\n",
            "One Piece: Clockwork Island Adventure\n",
            "Relaxing on a cozy beach, the Straw Hat Pirates are taking a rest from their quest. Right until Luffy noticed the Going Merry has been hijacked and sailed off from the beach. This leads them to search the ship and find the thief who took it from them. They ran into a duo named the Theif Brothers, who informed them that their ship was stolen by a group of pirates called the Trump Kyoudai. When they encountered the Trump Pirates, Nami ended up getting kidnapped as well as Luffy's hat. They tracked down the pirates to their base on Clockwork Island. Now Luffy, Zoro, Sanji, Usopp, and the Theif Brothers must reclaim the Going Merry, Save Nami, and get back Shank's straw hat.\n",
            "['Action', 'Animation', 'Adventure']\n",
            "vote_average: 6.8\n",
            "https://image.tmdb.org/t/p/original/mocek0mTd2dX2neCB691iU9le9k.jpg\n",
            "*****15*****\n",
            "Poltergeist\n",
            "Steve Freeling lives with his wife, Diane, and their three children, Dana, Robbie, and Carol Anne, in Southern California where he sells houses for the company that built the neighborhood. It starts with just a few odd occurrences, such as broken dishes and furniture moving around by itself. However, when he realizes that something truly evil haunts his home, Steve calls in a team of parapsychologists led by Dr. Lesh to help before it's too late.\n",
            "['Horror']\n",
            "vote_average: 7.1\n",
            "https://image.tmdb.org/t/p/original/xPazCcKp62IshnLVf9BLAjf9vgC.jpg\n",
            "*****16*****\n",
            "Return to House on Haunted Hill\n",
            "Eight years have passed since Sara Wolfe and Eddie Baker escaped the House on Haunted Hill. Now the kidnapped Ariel, Sara's sister, goes inside the house with a group of treasure hunters to find the statue of Baphomet, worth millions and believed to be the cause of the House's evil.\n",
            "['Horror', 'Thriller']\n",
            "vote_average: 5.5\n",
            "https://image.tmdb.org/t/p/original/ipBiyifbFqY0ZduO3R9OPBjc2pH.jpg\n",
            "*****17*****\n",
            "Poltergeist III\n",
            "Carol Anne has been sent to live with her Aunt and Uncle in an effort to hide her from the clutches of the ghostly Reverend Kane, but he tracks her down and terrorises her in her relatives' appartment in a tall glass building. Will he finally achieve his target and capture Carol Anne again, or will Tangina be able, yet again, to thwart him?\n",
            "['Horror', 'Thriller']\n",
            "vote_average: 5.2\n",
            "https://image.tmdb.org/t/p/original/pLewUibOJLGISvMqB94mAMdjz2q.jpg\n",
            "*****18*****\n",
            "Thir13en Ghosts\n",
            "Arthur and his two children, Kathy and Bobby, inherit his Uncle Cyrus's estate: a glass house that serves as a prison to 12 ghosts. When the family, accompanied by Bobby's Nanny and an attorney, enter the house they find themselves trapped inside an evil machine \"designed by the devil and powered by the dead\" to open the Eye of Hell. Aided by Dennis, a ghost hunter, and his rival Kalina, a ghost rights activist out to set the ghosts free, the group must do what they can to get out of the house alive.\n",
            "['Horror', 'Thriller']\n",
            "vote_average: 6.2\n",
            "https://image.tmdb.org/t/p/original/j4UNVqRy1SqBjaf3f1uEBMuCgwb.jpg\n",
            "*****19*****\n",
            "Alice in Wonderland\n",
            "Alice follows a white rabbit down a rabbit-hole into a whimsical Wonderland, where she meets characters like the delightful Cheshire Cat, the clumsy White Knight, a rude caterpillar, and the hot-tempered Queen of Hearts and can grow ten feet tall or shrink to three inches. But will she ever be able to return home?\n",
            "['Fantasy', 'Family']\n",
            "vote_average: 6.3\n",
            "https://image.tmdb.org/t/p/original/kpXmXjqeyuSYCtNuGMytWQLdKX.jpg\n",
            "*****20*****\n",
            "Baba Yaga: Terror of the Dark Forest\n",
            "The young family who moved to a new apartment on the outskirts of the city. The nanny hired by them for the newborn daughter quickly gained confidence. However, the older boy, Egor, talks about the frightening behavior of a woman, but his parents do not believe him. The surveillance cameras installed by the father for comfort only confirm everything is in order. Then one day, Egor, returning home, finds no trace of either the nanny or the little sister, and the parents are in a strange trance and do not even remember that they had a daughter. Then Egor, together with his friends, goes in search, during which it turns out that the nanny is an ancient Slavic demon, popularly known as Baba Yaga.\n",
            "['Horror']\n",
            "vote_average: 6.0\n",
            "https://image.tmdb.org/t/p/original/8m5HTXzwewlfXhtZtLlLts53YTW.jpg\n",
            "*****21*****\n",
            "Tarumama\n",
            "Sara and Óscar, a couple going through a marital crisis, decide to spend a week in a remote country cabin with their two children, Alicia and Tomás. The family tries to have a quiet time, but something strange happens there. There is a woman who prowls through the forest and cries uncontrollably looking for a baby she has just lost. This deeply affects the family who will have to stay together to survive this nightmare.\n",
            "['Horror', 'Drama']\n",
            "vote_average: 5.1\n",
            "https://image.tmdb.org/t/p/original/iwlmZKndp7fIfHbxVzQtk9zby3A.jpg\n",
            "*****22*****\n",
            "Scream 4\n",
            "Sidney Prescott, now the author of a self-help book, returns home to Woodsboro on the last stop of her book tour. There she reconnects with Sheriff Dewey and Gale, who are now married, as well as her cousin Jill and her Aunt Kate. Unfortunately, Sidney's appearance also brings about the return of Ghostface, putting Sidney, Gale, and Dewey, along with Jill, her friends, and the whole town of Woodsboro in danger.\n",
            "['Horror', 'Mystery']\n",
            "vote_average: 6.4\n",
            "https://image.tmdb.org/t/p/original/g0YcSd5QpgGXOjg9tl0if0soOkE.jpg\n",
            "*****23*****\n",
            "Bedknobs and Broomsticks\n",
            "Three children evacuated from London during World War II are forced to stay with an eccentric spinster (Eglantine Price). The children's initial fears disappear when they find out she is in fact a trainee witch.\n",
            "['Adventure', 'Fantasy', 'Comedy', 'Family', 'Music']\n",
            "vote_average: 7.0\n",
            "https://image.tmdb.org/t/p/original/3V7UFCu1u8BJLnoCdvdEqPYVaxQ.jpg\n",
            "*****24*****\n",
            "Titanic: 100 Years On\n",
            "The \"unsinkable\" floating palace set sail from Southampton on 10th April 1912 on her maiden voyage to New York. An iceberg ended this monumental journey 5 days later. Only 705 of the passengers and crew survived. This program features an exclusive look at the Sea City Museum Titanic Exhibit in Southampton, interviews from both survivors and the cast of the blockbuster film.\n",
            "['Documentary']\n",
            "vote_average: 6.9\n",
            "https://image.tmdb.org/t/p/original/uAaXfaJpKjmsA3F1KgowcRJPKPM.jpg\n"
          ]
        }
      ],
      "source": [
        "response = agent.get_objects(persona_id, limit=25, use_agent_ranking=True)\n",
        "\n",
        "print(response.ranking_rationale)\n",
        "for i, obj in enumerate(response.objects):\n",
        "    print(f\"*****{i}*****\")\n",
        "    print(obj.properties[\"title\"])\n",
        "    print(obj.properties[\"overview\"])\n",
        "    print(obj.properties[\"genres\"])\n",
        "    print(f\"vote_average: {obj.properties['vote_average']}\")\n",
        "    print(obj.properties['poster_url'])"
      ]
    },
    {
      "cell_type": "markdown",
      "metadata": {
        "id": "q87tg5hTCVFb"
      },
      "source": [
        "### Get Recommendations with an Instruction\n",
        "\n",
        "Optionally, you can also provide the agent with an instruction too. This allows the agent LLM to have more context as to what kind of recommendations it could make.\n",
        "\n",
        "It may also make sense to set a higher limit for the initial ranking, and then filter down to a smaller group after the agent ranking as we've done below 👇"
      ]
    },
    {
      "cell_type": "code",
      "execution_count": 41,
      "metadata": {
        "colab": {
          "base_uri": "https://localhost:8080/"
        },
        "id": "aZye2z8IMEWi",
        "outputId": "62f2bacb-daff-4f81-bb2b-b9cf4d0a28eb"
      },
      "outputs": [
        {
          "name": "stdout",
          "output_type": "stream",
          "text": [
            "We've curated a list of diverse movies that align with your love for Adventure, Fantasy, and Sci-Fi genres, taking inspiration from your past interactions and preference for unique cinematic experiences.\n",
            "*****0*****\n",
            "The Chronicles of Narnia: Prince Caspian\n",
            "One year after their incredible adventures in the Lion, the Witch and the Wardrobe, Peter, Edmund, Lucy and Susan Pevensie return to Narnia to aid a young prince whose life has been threatened by the evil King Miraz. Now, with the help of a colorful cast of new characters, including Trufflehunter the badger and Nikabrik the dwarf, the Pevensie clan embarks on an incredible quest to ensure that Narnia is returned to its rightful heir.\n",
            "['Adventure', 'Family', 'Fantasy']\n",
            "vote_average: 6.6\n",
            "https://image.tmdb.org/t/p/original/qxz3WIyjZiSKUhaTIEJ3c1GcC9z.jpg\n",
            "*****1*****\n",
            "Barbie: A Perfect Christmas\n",
            "Join Barbie and her sisters Skipper, Stacie and Chelsea as their holiday vacation plans turn into a most unexpected adventure and heartwarming lesson. After a snowstorm diverts their plane, the girls find themselves far from their New York destination and their holiday dreams. Now stranded at a remote inn in the tiny town of Tannenbaum, the sisters are welcomed by new friends and magical experiences. In appreciation for the wonderful hospitality they receive, they use their musical talents to put on a performance for the whole town. Barbie and her sisters realize the joy of being together is what really makes A Perfect Christmas!\n",
            "['Animation', 'Family']\n",
            "vote_average: 6.7\n",
            "https://image.tmdb.org/t/p/original/u14NrsyD9h505ZXs5Ofm7Tv3AuM.jpg\n",
            "*****2*****\n",
            "The Chronicles of Narnia: The Lion, the Witch and the Wardrobe\n",
            "Siblings Lucy, Edmund, Susan and Peter step through a magical wardrobe and find the land of Narnia. There, they discover a charming, once peaceful kingdom that has been plunged into eternal winter by the evil White Witch, Jadis. Aided by the wise and magnificent lion, Aslan, the children lead Narnia into a spectacular, climactic battle to be free of the Witch's glacial powers forever.\n",
            "['Adventure', 'Family', 'Fantasy']\n",
            "vote_average: 7.1\n",
            "https://image.tmdb.org/t/p/original/kzJip9vndXYSKQHCgekrgqbnUrA.jpg\n",
            "*****3*****\n",
            "Bedknobs and Broomsticks\n",
            "Three children evacuated from London during World War II are forced to stay with an eccentric spinster (Eglantine Price). The children's initial fears disappear when they find out she is in fact a trainee witch.\n",
            "['Adventure', 'Fantasy', 'Comedy', 'Family', 'Music']\n",
            "vote_average: 7.0\n",
            "https://image.tmdb.org/t/p/original/3V7UFCu1u8BJLnoCdvdEqPYVaxQ.jpg\n",
            "*****4*****\n",
            "The Ewok Adventure\n",
            "The Towani family civilian shuttlecraft crashes on the forest moon of Endor. The four Towani's are separated. Jermitt and Catarine, the mother and father are captured by the giant Gorax, and Mace and Cindel, the son and daughter, are missing when they are captured. The next day, the Ewok Deej is looking for his two sons when they find Cindel all alone in the shuttle (Mace and Cindel were looking for the transmitter to send a distress call), when Mace appears with his emergency blaster. Eventually, the four-year old Cindel is able to convince the teenage Mace that the Ewoks are nice. Then, the Ewoks and the Towani's go on an adventure to find the elder Towanis.\n",
            "['Adventure', 'Family', 'Fantasy', 'Science Fiction', 'TV Movie']\n",
            "vote_average: 6.0\n",
            "https://image.tmdb.org/t/p/original/lP7FIxojVrgWsam9efElk5ba3I5.jpg\n",
            "*****5*****\n",
            "Good Luck Charlie, It's Christmas!\n",
            "Teddy Duncan's middle-class family embarks on a road trip from their home in Denver to visit Mrs. Duncans Parents, the Blankenhoopers, in Palm Springs. When they find themselves stranded between Denver and Utah, they try to hitch a ride to Las Vegas with a seemingly normal older couple in a station wagon from Roswell, New Mexico. It turns out that the couple believes they are the victims of alien abduction. The Duncan's must resort to purchasing a clunker Yugo to get to Utah, have their luggage stolen in Las Vegas, and survive a zany Christmas with Grandpa and Grandma Blankenhooper.\n",
            "['TV Movie', 'Comedy', 'Family']\n",
            "vote_average: 6.6\n",
            "https://image.tmdb.org/t/p/original/ecuJMYZM3HQ96mnWtmyXoHb7s7T.jpg\n",
            "*****6*****\n",
            "The Nightmare Before Christmas\n",
            "Tired of scaring humans every October 31 with the same old bag of tricks, Jack Skellington, the spindly king of Halloween Town, kidnaps Santa Claus and plans to deliver shrunken heads and other ghoulish gifts to children on Christmas morning. But as Christmas approaches, Jack's rag-doll girlfriend, Sally, tries to foil his misguided plans.\n",
            "['Fantasy', 'Animation', 'Family']\n",
            "vote_average: 7.8\n",
            "https://image.tmdb.org/t/p/original/oQffRNjK8e19rF7xVYEN8ew0j7b.jpg\n",
            "*****7*****\n",
            "The Nutcracker and the Four Realms\n",
            "When Clara’s mother leaves her a mysterious gift, she embarks on a journey to four secret realms—where she discovers her greatest strength could change the world.\n",
            "['Fantasy', 'Adventure', 'Family']\n",
            "vote_average: 6.1\n",
            "https://image.tmdb.org/t/p/original/9vPDY8e7YxLwgVum7YZIUJbr4qc.jpg\n",
            "*****8*****\n",
            "Winnie the Pooh: A Very Merry Pooh Year\n",
            "It's Christmastime in the Hundred Acre Wood and all of the gang is getting ready with presents and decorations. The gang makes a list of what they want for Christmas and send it to Santa Claus - except that Pooh forgot to ask for something. So he heads out to retrieve the letter and get it to Santa by Christmas...which happens to be tomorrow!\n",
            "['Animation', 'Family']\n",
            "vote_average: 6.8\n",
            "https://image.tmdb.org/t/p/original/1NbobWwoX7kFd1if8aCyCtFRZpu.jpg\n",
            "*****9*****\n",
            "Pete's Dragon\n",
            "For years, old wood carver Mr. Meacham has delighted local children with his tales of the fierce dragon that resides deep in the woods of the Pacific Northwest. To his daughter, Grace, who works as a forest ranger, these stories are little more than tall tales... until she meets Pete, a mysterious 10-year-old with no family and no home who claims to live in the woods with a giant, green dragon named Elliott. And from Pete's descriptions, Elliott seems remarkably similar to the dragon from Mr. Meacham's stories. With the help of Natalie, an 11-year-old girl whose father Jack owns the local lumber mill, Grace sets out to determine where Pete came from, where he belongs, and the truth about this dragon.\n",
            "['Adventure', 'Family', 'Fantasy']\n",
            "vote_average: 6.4\n",
            "https://image.tmdb.org/t/p/original/6TwrPngfpbwtVH6UsDfVNUnn3ms.jpg\n",
            "*****10*****\n",
            "Roald Dahl's The Witches\n",
            "In late 1967, a young orphaned boy goes to live with his loving grandma in the rural Alabama town of Demopolis. As the boy and his grandmother encounter some deceptively glamorous but thoroughly diabolical witches, she wisely whisks him away to a seaside resort. Regrettably, they arrive at precisely the same time that the world's Grand High Witch has gathered.\n",
            "['Family', 'Fantasy', 'Adventure', 'Comedy', 'Horror']\n",
            "vote_average: 6.5\n",
            "https://image.tmdb.org/t/p/original/ht6EfsM5hrsUPSR4ReJQFDVU71F.jpg\n",
            "*****11*****\n",
            "The Conjuring 2\n",
            "Lorraine and Ed Warren travel to north London to help a single mother raising four children alone in a house plagued by malicious spirits.\n",
            "['Horror', 'Thriller']\n",
            "vote_average: 7.3\n",
            "https://image.tmdb.org/t/p/original/zEqyD0SBt6HL7W9JQoWwtd5Do1T.jpg\n",
            "*****12*****\n",
            "Alice in Wonderland\n",
            "Alice follows a white rabbit down a rabbit-hole into a whimsical Wonderland, where she meets characters like the delightful Cheshire Cat, the clumsy White Knight, a rude caterpillar, and the hot-tempered Queen of Hearts and can grow ten feet tall or shrink to three inches. But will she ever be able to return home?\n",
            "['Fantasy', 'Family']\n",
            "vote_average: 6.3\n",
            "https://image.tmdb.org/t/p/original/kpXmXjqeyuSYCtNuGMytWQLdKX.jpg\n",
            "*****13*****\n",
            "A Perfect Getaway\n",
            "For their honeymoon, newlyweds Cliff and Cydney head to the tropical islands of Hawaii. While journeying through the paradisaical countryside the couple encounters Kale and Cleo, two disgruntled hitchhikers and Nick and Gina, two wild but well-meaning spirits who help guide them through the lush jungles. The picturesque waterfalls and scenic mountainsides quickly give way to terror when Cliff and Cydney learn of a grisly murder that occurred nearby and realize that they're being followed by chance acquaintances that suspiciously fit the description of the killers.\n",
            "['Thriller', 'Mystery', 'Adventure']\n",
            "vote_average: 6.3\n",
            "https://image.tmdb.org/t/p/original/eJg8Vg51qlbNeFMR8LCxzqXGy4M.jpg\n",
            "*****14*****\n",
            "Doraemon: Nobita's New Great Adventure Into the Underworld - The Seven Magic Users\n",
            "Nobita has changed the real world to a world of magic using the \"Moshimo Box\" in admiration of magic. One day, Nobita meets Chaplain Mangetsu, a magic researcher, and his daughter Miyoko. Nobita learns from them that the Great Satan of the Devildom Star is scheming to invade the Earth. The Chaplain tries to find a way out using ancient books, however, the Devildom Star rapidly approaches the Earth by the minute, causing earthquakes and abnormal weather conditions. Nobita, along with his friends, Doraemon, Shizuka, Suneo, Gaian and Dorami, together with Miyoko, storm into the Devildom Star, just like the \"Legendary Seven Heroes\" in an ancient book in order to confront the Great Satan and peace returns to the world of magic.\n",
            "['Family', 'Adventure', 'Animation']\n",
            "vote_average: 6.9\n",
            "https://image.tmdb.org/t/p/original/4E0qUqbevK4DAW2RRbvZmjjPsOd.jpg\n",
            "*****15*****\n",
            "One Piece: Chopper's Kingdom on the Island of Strange Animals\n",
            "As the Straw Hat Pirates sail through the Grand Line.A line of geysers erupted from under the Going Merry. And the whole crew find themselves flying over the island. Unfortunatly, Chopper fell off the ship and was separated from his friends. Luffy and the others landed on the other side of the island. Chopper meanwhile finds himself being worshiped as the island's new king by the animals. To make matters worse, a trio of human \"horn\" hunters are on the island. The leader, Count Butler is a violin playing/horn eating human who wants to eat the island's treasure to inherit immense power. Will Luffy & the rest be able to prevent the count from terrorizing the island? And will they be able to convince Momambi that not all pirates are bad?\n",
            "['Action', 'Animation', 'Adventure']\n",
            "vote_average: 6.6\n",
            "https://image.tmdb.org/t/p/original/8uzFccR8F3h7tC9zfIOT063r91N.jpg\n",
            "*****16*****\n",
            "Doraemon: Nobita and the Tin Labyrinth\n",
            "Nobita's dad stumbled upon a strange advertisement of a fantastic resort on television at midnight. Sleepy as he was, he made a reservation even though he didn't even realize he was talking to the advertisement. The next day he discussed with the family their holiday plans, only to realize he could not find the place anywhere on earth. All of a sudden though there was a suitcase in Nobita's room and intrigued as he was, he opened it only to find a portal to a beautiful resort managed by tin robots. Better still, it's absolutely free. It seems that there is a hidden agenda behind the person who invites them there.\n",
            "['Adventure', 'Animation']\n",
            "vote_average: 7.3\n",
            "https://image.tmdb.org/t/p/original/bkIR641RQyqk7hBlk0hui70dkz9.jpg\n",
            "*****17*****\n",
            "Doraemon: The New Record of Nobita's Spaceblazer\n",
            "While Nobita is sleeping, he suddenly feels the floor is trembling, like there would be an earthquake in his room. A little rabbit from an alternate universe named Chamii opens the door between the dimensions using a hammer and gets inside Nobita's room through the floor. Nobita wakes up and Doraemon hears somebody steal food from the fridge in the kitchen. It is Chamii, who gets caught by Doraemon and Nobita. She shows them the passageway through Nobita's floor into the spaceship. After they enter the spaceship, they see Koya Koya Planet. They meet a boy named Roppuru.\n",
            "['Animation', 'Adventure', 'Family']\n",
            "vote_average: 6.4\n",
            "https://image.tmdb.org/t/p/original/6F5mriTD7HrVSJf7o0BrAedw5LX.jpg\n",
            "*****18*****\n",
            "The Chronicles of Narnia: The Voyage of the Dawn Treader\n",
            "This time around Edmund and Lucy Pevensie, along with their pesky cousin Eustace Scrubb find themselves swallowed into a painting and on to a fantastic Narnian ship headed for the very edges of the world.\n",
            "['Adventure', 'Family', 'Fantasy']\n",
            "vote_average: 6.4\n",
            "https://image.tmdb.org/t/p/original/pP27zlm9yeKrCeDZLFLP2HKELot.jpg\n",
            "*****19*****\n",
            "The Ruins\n",
            "Americans Amy, Stacy, Jeff and Eric look for fun during a sunny holiday in Mexico, but they get much more than that after visiting an archaeological dig in the jungle.\n",
            "['Horror']\n",
            "vote_average: 5.9\n",
            "https://image.tmdb.org/t/p/original/dWkmWNqbSeVDSEugcnJ8CZrxRso.jpg\n"
          ]
        }
      ],
      "source": [
        "response = agent.get_objects(persona_id,\n",
        "                             limit=100,\n",
        "                             use_agent_ranking=True,\n",
        "                             instruction=\"\"\"Your task is to recommend a diverse set of movies that the user may\n",
        "                             like based on their fave genres and past interactions. Try to avoid recommending multiple films from within\n",
        "                             the same cinematic universe.\"\"\",\n",
        ")\n",
        "\n",
        "print(response.ranking_rationale)\n",
        "for i, obj in enumerate(response.objects[:20]):\n",
        "    print(f\"*****{i}*****\")\n",
        "    print(obj.properties[\"title\"])\n",
        "    print(obj.properties[\"overview\"])\n",
        "    print(obj.properties[\"genres\"])\n",
        "    print(f\"vote_average: {obj.properties['vote_average']}\")\n",
        "    print(obj.properties['poster_url'])"
      ]
    },
    {
      "cell_type": "code",
      "execution_count": null,
      "metadata": {
        "id": "n463GfIZ-Omp"
      },
      "outputs": [],
      "source": []
    }
  ],
  "metadata": {
    "colab": {
      "provenance": []
    },
    "kernelspec": {
      "display_name": "Python 3",
      "name": "python3"
    },
    "language_info": {
      "name": "python"
    }
  },
  "nbformat": 4,
  "nbformat_minor": 0
}
