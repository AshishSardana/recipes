{
 "cells": [
  {
   "cell_type": "code",
   "execution_count": 1,
   "metadata": {},
   "outputs": [
    {
     "data": {
      "text/plain": [
       "True"
      ]
     },
     "execution_count": 1,
     "metadata": {},
     "output_type": "execute_result"
    }
   ],
   "source": [
    "import weaviate\n",
    "client = weaviate.connect_to_local()\n",
    "client.is_ready()"
   ]
  },
  {
   "cell_type": "code",
   "execution_count": 2,
   "metadata": {},
   "outputs": [],
   "source": [
    "from weaviate.classes.config import Configure\n",
    "\n",
    "client.collections.delete(\"CollectionWithAutoMTEnabled\")\n",
    "multi_collection = client.collections.create(\n",
    "    name=\"CollectionWithAutoMTEnabled\",\n",
    "    # Enable automatic tenant creation\n",
    "    multi_tenancy_config=Configure.multi_tenancy(\n",
    "        enabled=True, auto_tenant_creation=True\n",
    "    ),\n",
    ")"
   ]
  },
  {
   "cell_type": "code",
   "execution_count": 3,
   "metadata": {},
   "outputs": [],
   "source": [
    "# lets import data in batch to newly created tenants\n",
    "\n",
    "data = [\n",
    "    {\"tenant\": \"tenant1\", \"text\": \"Text for tenant1\"},\n",
    "    {\"tenant\": \"tenant2\", \"text\": \"Text for tenant2\"},\n",
    "]\n",
    "\n",
    "with client.batch.fixed_size(batch_size=200) as batch:\n",
    "    for obj in data:\n",
    "        properties = {\n",
    "            \"text\": obj[\"text\"],\n",
    "        }\n",
    "        batch.add_object(\n",
    "            collection=\"CollectionWithAutoMTEnabled\",\n",
    "            properties=properties,\n",
    "            tenant=obj[\"tenant\"],\n",
    "        )"
   ]
  },
  {
   "cell_type": "code",
   "execution_count": 4,
   "metadata": {},
   "outputs": [
    {
     "data": {
      "text/plain": [
       "{'text': 'Text for tenant1'}"
      ]
     },
     "execution_count": 4,
     "metadata": {},
     "output_type": "execute_result"
    }
   ],
   "source": [
    "tenant1 = client.collections.get(\"CollectionWithAutoMTEnabled\").with_tenant(\"tenant1\")\n",
    "tenant1.query.fetch_objects().objects[0].properties"
   ]
  },
  {
   "cell_type": "code",
   "execution_count": 5,
   "metadata": {},
   "outputs": [
    {
     "data": {
      "text/plain": [
       "{'text': 'Text for tenant2'}"
      ]
     },
     "execution_count": 5,
     "metadata": {},
     "output_type": "execute_result"
    }
   ],
   "source": [
    "tenant1 = client.collections.get(\"CollectionWithAutoMTEnabled\").with_tenant(\"tenant2\")\n",
    "tenant1.query.fetch_objects().objects[0].properties"
   ]
  },
  {
   "cell_type": "code",
   "execution_count": 6,
   "metadata": {},
   "outputs": [
    {
     "data": {
      "text/plain": [
       "{'tenant1': Tenant(name='tenant1', activityStatus=<TenantActivityStatus.HOT: 'HOT'>),\n",
       " 'tenant2': Tenant(name='tenant2', activityStatus=<TenantActivityStatus.HOT: 'HOT'>)}"
      ]
     },
     "execution_count": 6,
     "metadata": {},
     "output_type": "execute_result"
    }
   ],
   "source": [
    "client.collections.get(\"CollectionWithAutoMTEnabled\").tenants.get()"
   ]
  }
 ],
 "metadata": {
  "kernelspec": {
   "display_name": "venv",
   "language": "python",
   "name": "python3"
  },
  "language_info": {
   "codemirror_mode": {
    "name": "ipython",
    "version": 3
   },
   "file_extension": ".py",
   "mimetype": "text/x-python",
   "name": "python",
   "nbconvert_exporter": "python",
   "pygments_lexer": "ipython3",
   "version": "3.11.8"
  }
 },
 "nbformat": 4,
 "nbformat_minor": 2
}
