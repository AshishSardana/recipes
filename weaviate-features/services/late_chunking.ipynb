{
 "cells": [
  {
   "cell_type": "markdown",
   "metadata": {},
   "source": [
    "## Late Chunking with Weaviate"
   ]
  },
  {
   "cell_type": "markdown",
   "metadata": {},
   "source": [
    "This notebook implements [late chunking](https://jina.ai/news/late-chunking-in-long-context-embedding-models/) with Weaviate. Late chunking is a change in the classical chunking framework where chunking happens _after_ token embeddings are output from the full document. This preserves contextual information from one chunk to another.\n",
    "\n",
    "### Setup\n",
    "\n",
    "First we install all required packages."
   ]
  },
  {
   "cell_type": "code",
   "execution_count": 1,
   "metadata": {},
   "outputs": [
    {
     "name": "stdout",
     "output_type": "stream",
     "text": [
      "Requirement already satisfied: weaviate-client in ./.venv/lib/python3.12/site-packages (4.7.1)\n",
      "Requirement already satisfied: torch in ./.venv/lib/python3.12/site-packages (2.4.0)\n",
      "Requirement already satisfied: numpy in ./.venv/lib/python3.12/site-packages (1.26.4)\n",
      "Requirement already satisfied: spacy in ./.venv/lib/python3.12/site-packages (3.7.6)\n",
      "Requirement already satisfied: transformers in ./.venv/lib/python3.12/site-packages (4.44.2)\n",
      "Requirement already satisfied: requests<3.0.0,>=2.30.0 in ./.venv/lib/python3.12/site-packages (from weaviate-client) (2.32.3)\n",
      "Requirement already satisfied: httpx<=0.27.0,>=0.25.0 in ./.venv/lib/python3.12/site-packages (from weaviate-client) (0.27.0)\n",
      "Requirement already satisfied: validators==0.33.0 in ./.venv/lib/python3.12/site-packages (from weaviate-client) (0.33.0)\n",
      "Requirement already satisfied: authlib<2.0.0,>=1.2.1 in ./.venv/lib/python3.12/site-packages (from weaviate-client) (1.3.2)\n",
      "Requirement already satisfied: pydantic<3.0.0,>=2.5.0 in ./.venv/lib/python3.12/site-packages (from weaviate-client) (2.8.2)\n",
      "Requirement already satisfied: grpcio<2.0.0,>=1.57.0 in ./.venv/lib/python3.12/site-packages (from weaviate-client) (1.66.1)\n",
      "Requirement already satisfied: grpcio-tools<2.0.0,>=1.57.0 in ./.venv/lib/python3.12/site-packages (from weaviate-client) (1.66.1)\n",
      "Requirement already satisfied: grpcio-health-checking<2.0.0,>=1.57.0 in ./.venv/lib/python3.12/site-packages (from weaviate-client) (1.66.1)\n",
      "Requirement already satisfied: filelock in ./.venv/lib/python3.12/site-packages (from torch) (3.15.4)\n",
      "Requirement already satisfied: typing-extensions>=4.8.0 in ./.venv/lib/python3.12/site-packages (from torch) (4.12.2)\n",
      "Requirement already satisfied: sympy in ./.venv/lib/python3.12/site-packages (from torch) (1.13.2)\n",
      "Requirement already satisfied: networkx in ./.venv/lib/python3.12/site-packages (from torch) (3.3)\n",
      "Requirement already satisfied: jinja2 in ./.venv/lib/python3.12/site-packages (from torch) (3.1.4)\n",
      "Requirement already satisfied: fsspec in ./.venv/lib/python3.12/site-packages (from torch) (2024.6.1)\n",
      "Requirement already satisfied: setuptools in ./.venv/lib/python3.12/site-packages (from torch) (74.1.1)\n",
      "Requirement already satisfied: spacy-legacy<3.1.0,>=3.0.11 in ./.venv/lib/python3.12/site-packages (from spacy) (3.0.12)\n",
      "Requirement already satisfied: spacy-loggers<2.0.0,>=1.0.0 in ./.venv/lib/python3.12/site-packages (from spacy) (1.0.5)\n",
      "Requirement already satisfied: murmurhash<1.1.0,>=0.28.0 in ./.venv/lib/python3.12/site-packages (from spacy) (1.0.10)\n",
      "Requirement already satisfied: cymem<2.1.0,>=2.0.2 in ./.venv/lib/python3.12/site-packages (from spacy) (2.0.8)\n",
      "Requirement already satisfied: preshed<3.1.0,>=3.0.2 in ./.venv/lib/python3.12/site-packages (from spacy) (3.0.9)\n",
      "Requirement already satisfied: thinc<8.3.0,>=8.2.2 in ./.venv/lib/python3.12/site-packages (from spacy) (8.2.5)\n",
      "Requirement already satisfied: wasabi<1.2.0,>=0.9.1 in ./.venv/lib/python3.12/site-packages (from spacy) (1.1.3)\n",
      "Requirement already satisfied: srsly<3.0.0,>=2.4.3 in ./.venv/lib/python3.12/site-packages (from spacy) (2.4.8)\n",
      "Requirement already satisfied: catalogue<2.1.0,>=2.0.6 in ./.venv/lib/python3.12/site-packages (from spacy) (2.0.10)\n",
      "Requirement already satisfied: weasel<0.5.0,>=0.1.0 in ./.venv/lib/python3.12/site-packages (from spacy) (0.4.1)\n",
      "Requirement already satisfied: typer<1.0.0,>=0.3.0 in ./.venv/lib/python3.12/site-packages (from spacy) (0.12.5)\n",
      "Requirement already satisfied: tqdm<5.0.0,>=4.38.0 in ./.venv/lib/python3.12/site-packages (from spacy) (4.66.5)\n",
      "Requirement already satisfied: packaging>=20.0 in ./.venv/lib/python3.12/site-packages (from spacy) (24.1)\n",
      "Requirement already satisfied: langcodes<4.0.0,>=3.2.0 in ./.venv/lib/python3.12/site-packages (from spacy) (3.4.0)\n",
      "Requirement already satisfied: huggingface-hub<1.0,>=0.23.2 in ./.venv/lib/python3.12/site-packages (from transformers) (0.24.6)\n",
      "Requirement already satisfied: pyyaml>=5.1 in ./.venv/lib/python3.12/site-packages (from transformers) (6.0.2)\n",
      "Requirement already satisfied: regex!=2019.12.17 in ./.venv/lib/python3.12/site-packages (from transformers) (2024.7.24)\n",
      "Requirement already satisfied: safetensors>=0.4.1 in ./.venv/lib/python3.12/site-packages (from transformers) (0.4.4)\n",
      "Requirement already satisfied: tokenizers<0.20,>=0.19 in ./.venv/lib/python3.12/site-packages (from transformers) (0.19.1)\n",
      "Requirement already satisfied: cryptography in ./.venv/lib/python3.12/site-packages (from authlib<2.0.0,>=1.2.1->weaviate-client) (43.0.0)\n",
      "Requirement already satisfied: protobuf<6.0dev,>=5.26.1 in ./.venv/lib/python3.12/site-packages (from grpcio-health-checking<2.0.0,>=1.57.0->weaviate-client) (5.28.0)\n",
      "Requirement already satisfied: anyio in ./.venv/lib/python3.12/site-packages (from httpx<=0.27.0,>=0.25.0->weaviate-client) (4.4.0)\n",
      "Requirement already satisfied: certifi in ./.venv/lib/python3.12/site-packages (from httpx<=0.27.0,>=0.25.0->weaviate-client) (2024.8.30)\n",
      "Requirement already satisfied: httpcore==1.* in ./.venv/lib/python3.12/site-packages (from httpx<=0.27.0,>=0.25.0->weaviate-client) (1.0.5)\n",
      "Requirement already satisfied: idna in ./.venv/lib/python3.12/site-packages (from httpx<=0.27.0,>=0.25.0->weaviate-client) (3.8)\n",
      "Requirement already satisfied: sniffio in ./.venv/lib/python3.12/site-packages (from httpx<=0.27.0,>=0.25.0->weaviate-client) (1.3.1)\n",
      "Requirement already satisfied: h11<0.15,>=0.13 in ./.venv/lib/python3.12/site-packages (from httpcore==1.*->httpx<=0.27.0,>=0.25.0->weaviate-client) (0.14.0)\n",
      "Requirement already satisfied: language-data>=1.2 in ./.venv/lib/python3.12/site-packages (from langcodes<4.0.0,>=3.2.0->spacy) (1.2.0)\n",
      "Requirement already satisfied: annotated-types>=0.4.0 in ./.venv/lib/python3.12/site-packages (from pydantic<3.0.0,>=2.5.0->weaviate-client) (0.7.0)\n",
      "Requirement already satisfied: pydantic-core==2.20.1 in ./.venv/lib/python3.12/site-packages (from pydantic<3.0.0,>=2.5.0->weaviate-client) (2.20.1)\n",
      "Requirement already satisfied: charset-normalizer<4,>=2 in ./.venv/lib/python3.12/site-packages (from requests<3.0.0,>=2.30.0->weaviate-client) (3.3.2)\n",
      "Requirement already satisfied: urllib3<3,>=1.21.1 in ./.venv/lib/python3.12/site-packages (from requests<3.0.0,>=2.30.0->weaviate-client) (2.2.2)\n",
      "Requirement already satisfied: blis<0.8.0,>=0.7.8 in ./.venv/lib/python3.12/site-packages (from thinc<8.3.0,>=8.2.2->spacy) (0.7.11)\n",
      "Requirement already satisfied: confection<1.0.0,>=0.0.1 in ./.venv/lib/python3.12/site-packages (from thinc<8.3.0,>=8.2.2->spacy) (0.1.5)\n",
      "Requirement already satisfied: click>=8.0.0 in ./.venv/lib/python3.12/site-packages (from typer<1.0.0,>=0.3.0->spacy) (8.1.7)\n",
      "Requirement already satisfied: shellingham>=1.3.0 in ./.venv/lib/python3.12/site-packages (from typer<1.0.0,>=0.3.0->spacy) (1.5.4)\n",
      "Requirement already satisfied: rich>=10.11.0 in ./.venv/lib/python3.12/site-packages (from typer<1.0.0,>=0.3.0->spacy) (13.8.0)\n",
      "Requirement already satisfied: cloudpathlib<1.0.0,>=0.7.0 in ./.venv/lib/python3.12/site-packages (from weasel<0.5.0,>=0.1.0->spacy) (0.19.0)\n",
      "Requirement already satisfied: smart-open<8.0.0,>=5.2.1 in ./.venv/lib/python3.12/site-packages (from weasel<0.5.0,>=0.1.0->spacy) (7.0.4)\n",
      "Requirement already satisfied: MarkupSafe>=2.0 in ./.venv/lib/python3.12/site-packages (from jinja2->torch) (2.1.5)\n",
      "Requirement already satisfied: mpmath<1.4,>=1.1.0 in ./.venv/lib/python3.12/site-packages (from sympy->torch) (1.3.0)\n",
      "Requirement already satisfied: marisa-trie>=0.7.7 in ./.venv/lib/python3.12/site-packages (from language-data>=1.2->langcodes<4.0.0,>=3.2.0->spacy) (1.2.0)\n",
      "Requirement already satisfied: markdown-it-py>=2.2.0 in ./.venv/lib/python3.12/site-packages (from rich>=10.11.0->typer<1.0.0,>=0.3.0->spacy) (3.0.0)\n",
      "Requirement already satisfied: pygments<3.0.0,>=2.13.0 in ./.venv/lib/python3.12/site-packages (from rich>=10.11.0->typer<1.0.0,>=0.3.0->spacy) (2.18.0)\n",
      "Requirement already satisfied: wrapt in ./.venv/lib/python3.12/site-packages (from smart-open<8.0.0,>=5.2.1->weasel<0.5.0,>=0.1.0->spacy) (1.16.0)\n",
      "Requirement already satisfied: cffi>=1.12 in ./.venv/lib/python3.12/site-packages (from cryptography->authlib<2.0.0,>=1.2.1->weaviate-client) (1.17.0)\n",
      "Requirement already satisfied: pycparser in ./.venv/lib/python3.12/site-packages (from cffi>=1.12->cryptography->authlib<2.0.0,>=1.2.1->weaviate-client) (2.22)\n",
      "Requirement already satisfied: mdurl~=0.1 in ./.venv/lib/python3.12/site-packages (from markdown-it-py>=2.2.0->rich>=10.11.0->typer<1.0.0,>=0.3.0->spacy) (0.1.2)\n",
      "\n",
      "\u001b[1m[\u001b[0m\u001b[34;49mnotice\u001b[0m\u001b[1;39;49m]\u001b[0m\u001b[39;49m A new release of pip is available: \u001b[0m\u001b[31;49m24.0\u001b[0m\u001b[39;49m -> \u001b[0m\u001b[32;49m24.2\u001b[0m\n",
      "\u001b[1m[\u001b[0m\u001b[34;49mnotice\u001b[0m\u001b[1;39;49m]\u001b[0m\u001b[39;49m To update, run: \u001b[0m\u001b[32;49mpip install --upgrade pip\u001b[0m\n"
     ]
    }
   ],
   "source": [
    "!pip install weaviate-client torch numpy spacy transformers"
   ]
  },
  {
   "cell_type": "markdown",
   "metadata": {},
   "source": [
    "Then we load the packages and connect to the Weaviate client. Important, you need some API keys within a `.env` file:\n",
    "- your Weaviate REST endpoint saved as `WEAVIATE_URL`\n",
    "- your Weaviate API key saved as `WEAVIATE_KEY`\n",
    "- if you want to run the final comparison in this notebook, an OpenAI API key saved as `OPENAI_API_KEY`.\n"
   ]
  },
  {
   "cell_type": "code",
   "execution_count": 2,
   "metadata": {},
   "outputs": [
    {
     "name": "stderr",
     "output_type": "stream",
     "text": [
      "/Users/danny/Documents/Work/Other/recipes/weaviate-features/services/.venv/lib/python3.12/site-packages/google/protobuf/runtime_version.py:112: UserWarning: Protobuf gencode version 5.27.2 is older than the runtime version 5.28.0 at grpc_health/v1/health.proto. Please avoid checked-in Protobuf gencode that can be obsolete.\n",
      "  warnings.warn(\n",
      "/Users/danny/Documents/Work/Other/recipes/weaviate-features/services/.venv/lib/python3.12/site-packages/tqdm/auto.py:21: TqdmWarning: IProgress not found. Please update jupyter and ipywidgets. See https://ipywidgets.readthedocs.io/en/stable/user_install.html\n",
      "  from .autonotebook import tqdm as notebook_tqdm\n"
     ]
    }
   ],
   "source": [
    "# imports\n",
    "import weaviate\n",
    "import weaviate.classes as wvc\n",
    "import weaviate.classes.config as wvcc\n",
    "\n",
    "import os\n",
    "import torch\n",
    "import numpy as np\n",
    "\n",
    "import spacy\n",
    "from spacy.tokens import Doc\n",
    "from spacy.language import Language\n",
    "\n",
    "from transformers import AutoModel\n",
    "from transformers import AutoTokenizer\n",
    "\n",
    "# connect to weaviate\n",
    "client = weaviate.connect_to_weaviate_cloud(\n",
    "    cluster_url=os.getenv(\"WEAVIATE_URL\"),                               \n",
    "    auth_credentials=wvc.init.Auth.api_key(os.getenv(\"WEAVIATE_KEY\")),\n",
    "    headers={\"X-OpenAI-Api-Key\": os.getenv(\"OPENAI_API_KEY\")}\n",
    ")"
   ]
  },
  {
   "cell_type": "markdown",
   "metadata": {},
   "source": [
    "### Functions"
   ]
  },
  {
   "cell_type": "markdown",
   "metadata": {},
   "source": [
    "Below are some general functions for chunking text into sentences, as well as the bulk of the operations behind late chunking.\n",
    "\n",
    "Late chunking is simply the same chunks we would have on the naively chunked text, but the chunk embedding is taken from the pooling of the token embeddings, rather than an independently embedded chunk."
   ]
  },
  {
   "cell_type": "code",
   "execution_count": 3,
   "metadata": {},
   "outputs": [],
   "source": [
    "def sentence_chunker(document, batch_size=None):\n",
    "    \"\"\"\n",
    "    Given a document (string), return the sentences as chunks and span annotations (start and end indices of chunks).\n",
    "    Using spacy to do this sentence chunking.\n",
    "    \"\"\"\n",
    "\n",
    "    if batch_size is None:\n",
    "        batch_size = 10000 # no of characters\n",
    "\n",
    "    # Batch with spacy\n",
    "    nlp = spacy.blank(\"en\")\n",
    "    nlp.add_pipe(\"sentencizer\", config={\"punct_chars\": None})\n",
    "    doc = nlp(document)\n",
    "\n",
    "    docs = []\n",
    "    for i in range(0, len(document), batch_size):\n",
    "        batch = document[i : i + batch_size]\n",
    "        docs.append(nlp(batch))\n",
    "\n",
    "    doc = Doc.from_docs(docs)\n",
    "\n",
    "    span_annotations = []\n",
    "    chunks = []\n",
    "    for i, sent in enumerate(doc.sents):\n",
    "        span_annotations.append((sent.start, sent.end))\n",
    "        chunks.append(sent.text)\n",
    "\n",
    "    return chunks, span_annotations\n",
    "\n",
    "\n",
    "def document_to_token_embeddings(model, tokenizer, document, batch_size=4096):\n",
    "    \"\"\"\n",
    "    Given a model and tokenizer from HuggingFace, return token embeddings of the input text document.\n",
    "    \"\"\"\n",
    "\n",
    "    if batch_size > 8192: # no of tokens\n",
    "        raise ValueError(\"Batch size is too large. Please use a batch size of 8192 or less.\")\n",
    "\n",
    "    tokenized_document = tokenizer(document, return_tensors=\"pt\")\n",
    "    tokens = tokenized_document.tokens()\n",
    "    \n",
    "    # Batch in sizes of batch_size\n",
    "    outputs = []\n",
    "    for i in range(0, len(tokens), batch_size):\n",
    "        \n",
    "        start = i\n",
    "        end   = min(i + batch_size, len(tokens))\n",
    "\n",
    "        # subset huggingface tokenizer outputs to i : i + batch_size\n",
    "        batch_inputs = {k: v[:, start:end] for k, v in tokenized_document.items()}\n",
    "\n",
    "        with torch.no_grad():\n",
    "            model_output = model(**batch_inputs)\n",
    "\n",
    "        outputs.append(model_output.last_hidden_state)\n",
    "\n",
    "    model_output = torch.cat(outputs, dim=1)\n",
    "    return model_output\n",
    "\n",
    "def late_chunking(token_embeddings, span_annotation, max_length=None):\n",
    "    \"\"\"\n",
    "    Given the token-level embeddings of document and their corresponding span annotations (start and end indices of chunks in terms of tokens),\n",
    "    late chunking pools the token embeddings for each chunk.\n",
    "    \"\"\"\n",
    "    outputs = []\n",
    "    for embeddings, annotations in zip(token_embeddings, span_annotation):\n",
    "        if (\n",
    "            max_length is not None\n",
    "        ):  # remove annotations which go beyond the max-length of the model\n",
    "            annotations = [\n",
    "                (start, min(end, max_length - 1))\n",
    "                for (start, end) in annotations\n",
    "                if start < (max_length - 1)\n",
    "            ]\n",
    "        pooled_embeddings = []\n",
    "        for start, end in annotations:\n",
    "            \n",
    "            if (end - start) >= 1:\n",
    "                # print(f\"start: {start}, end: {end}\")\n",
    "                # print(f\"{[e[:5] for e in embeddings[start:end]]}\")\n",
    "                pooled_embeddings.append(\n",
    "                    embeddings[start:end].sum(dim=0) / (end - start)\n",
    "                )\n",
    "                    \n",
    "        pooled_embeddings = [\n",
    "            embedding.detach().cpu().numpy() for embedding in pooled_embeddings\n",
    "        ]\n",
    "        outputs.append(pooled_embeddings)\n",
    "\n",
    "    return outputs"
   ]
  },
  {
   "cell_type": "markdown",
   "metadata": {},
   "source": [
    "### Import into Weaviate\n",
    "\n",
    "We aim to perform late chunking, obtain the contextually-aware embeddings, and then import these into a Weaviate collection.\n",
    "\n",
    "First, create a Weaviate collection called `test_late_chunking`."
   ]
  },
  {
   "cell_type": "code",
   "execution_count": 4,
   "metadata": {},
   "outputs": [],
   "source": [
    "if client.collections.exists(\"test_late_chunking\"):\n",
    "    client.collections.delete(\"test_late_chunking\")\n",
    "\n",
    "# important to specify the config as none here, because we will be supplying our own vector embeddings in the form of the late chunking embeddings\n",
    "late_chunking_collection = client.collections.create(\n",
    "    name=\"test_late_chunking\",\n",
    "    vectorizer_config=wvc.config.Configure.Vectorizer.none(),\n",
    ")"
   ]
  },
  {
   "cell_type": "markdown",
   "metadata": {},
   "source": [
    "Now let's use a test document - the wikipedia page for Berlin (saved in a separate text file). We will later query this text using late chunking/naive chunking."
   ]
  },
  {
   "cell_type": "code",
   "execution_count": 5,
   "metadata": {},
   "outputs": [
    {
     "name": "stdout",
     "output_type": "stream",
     "text": [
      "First 50 characters of the document:\n",
      "Berlin[a] is the capital and largest city of Germany, both by area and by population.[11] Its more than 3.85 million inhabitants[12] make it the Europ...\n"
     ]
    }
   ],
   "source": [
    "with open(\"berlin.txt\", \"r\") as f:\n",
    "    document = f.read()\n",
    "\n",
    "print(f\"First 50 characters of the document:\\n{document[:150]}...\")\n"
   ]
  },
  {
   "cell_type": "markdown",
   "metadata": {},
   "source": [
    "Now, load the `jina-embeddings-v2-base-en` model from Huggingface. Other embedding models can be used, but Jina's model has up to 8192 token length documents, which is important for late chunking as we want to encode large documents and separate them later."
   ]
  },
  {
   "cell_type": "code",
   "execution_count": 6,
   "metadata": {},
   "outputs": [],
   "source": [
    "tokenizer = AutoTokenizer.from_pretrained('jinaai/jina-embeddings-v2-base-en', trust_remote_code=True)\n",
    "model     = AutoModel.from_pretrained('jinaai/jina-embeddings-v2-base-en', trust_remote_code=True)"
   ]
  },
  {
   "cell_type": "markdown",
   "metadata": {},
   "source": [
    "We call our functions we defined earlier: First chunk the text as normal, to obtain the beginning and end points of the chunks. Then embed the full document. Then perform the late chunking step - take the average over all token embeddings that correspond to each chunk (based on the beginning/end points of the chunks). These form as our embeddings for the chunks."
   ]
  },
  {
   "cell_type": "code",
   "execution_count": 7,
   "metadata": {},
   "outputs": [],
   "source": [
    "chunks, span_annotations = sentence_chunker(document)\n",
    "token_embeddings = document_to_token_embeddings(model, tokenizer, document)\n",
    "chunk_embeddings = late_chunking(token_embeddings, [span_annotations])[0]"
   ]
  },
  {
   "cell_type": "markdown",
   "metadata": {},
   "source": [
    "Finally, we can add this to our Weaviate collection by supplying our own vector embedding for each chunk."
   ]
  },
  {
   "cell_type": "code",
   "execution_count": 8,
   "metadata": {},
   "outputs": [
    {
     "data": {
      "text/plain": [
       "BatchObjectReturn(_all_responses=[UUID('902cea94-e3bf-44f8-96e2-fd156f0ea964'), UUID('9b1bb13d-ea07-407a-95f2-876b66f13d3b'), UUID('187dca5c-c847-458f-b8f6-fd583122215f'), UUID('287c93b2-8566-42ed-a5a9-8424cf0e4ddc'), UUID('60a2d2b8-f387-42b0-aace-ad724cd2475b'), UUID('9da00983-cce2-4d77-b40e-3cbfeedda778'), UUID('74636fed-a7c6-4dd4-a66b-2fa1fc9d1845'), UUID('1a90ea35-eab2-43e2-97af-763cef34955f'), UUID('1f1a143b-3292-4385-911b-d615d893fd13'), UUID('ab03082f-f34f-4af2-91d4-b5634b6de368'), UUID('a75f7d97-114b-4589-8edf-de44ce30a43d'), UUID('c3338a2b-4bd2-42cc-ac34-cb796ec35c2c'), UUID('fe399c55-b8ec-4a93-b85d-267f6c44f3f4'), UUID('22ddcf94-a3d0-4ac6-a27b-1b8d12f9a69a'), UUID('f87271b8-f6e3-4372-abd8-4f9e047866ff'), UUID('7a7da0c0-d945-48de-aec4-b4a31eaf9388'), UUID('6ff0c489-ec90-437a-be40-a8fb064e770c'), UUID('c6f0c372-2d38-48ae-80b8-98b2f8e37917'), UUID('ac9c1d7a-cfd7-44dd-8ccf-48520121f9b4'), UUID('b57ab702-98b7-47af-9e94-42a20b7af23e'), UUID('777fa36f-60f7-46f0-9301-0d58e27b1a5e'), UUID('c0506cc5-2980-432a-9560-2031e5afa15a'), UUID('9fba9a40-de6f-4b26-aef4-2fd1c1b2f74c'), UUID('8d653c27-0821-4db8-a95a-719f26a9f985'), UUID('a0f670bb-da0d-4d4c-9968-354c1153e1b6'), UUID('12f64156-f9be-4400-8e67-f0e6e468fe37'), UUID('b42c6798-82e9-4520-bb76-6dd844652f6e'), UUID('dfe8863b-395e-4341-ba9c-68cbcad817c8'), UUID('f5f65b06-8a04-453e-948a-dd8d44c280fa'), UUID('43ea71e1-dffa-46c4-8632-56f03b2e956c'), UUID('d2f1ba72-b1e7-4b0b-9dd7-3086afa04370'), UUID('d58367d4-b416-477e-9a7e-155b957181b2'), UUID('2c187d70-a226-44ab-8b78-856949803031'), UUID('22d3ab6b-cef6-463f-bb08-8ed3424e4719'), UUID('ea22d1c6-a550-476f-b9b3-a3d0f38cb413'), UUID('96165b41-87cf-42c7-87e3-ad6d17ed9a6d'), UUID('419d5d81-acb5-48b5-ba5d-4cc2036eeeed'), UUID('72429a5b-4337-4715-90d7-56470415e7d8'), UUID('b2b9210f-d12e-4616-80db-c85543e347c1'), UUID('5716e62c-929d-497f-ba5c-8d5e12df1652'), UUID('50f335a4-7f0d-47aa-87ce-bbe668249d9f'), UUID('e23ba5da-42ac-43c2-92b1-39b845765dd1'), UUID('c04a1059-747c-40cc-abbc-163155ac08d1'), UUID('f089a2b2-81fc-4051-8938-225d8ccbd51d'), UUID('8f2beb63-e41e-4ced-adb4-393c99eda275'), UUID('4cf59962-27a6-4bd0-81bb-1d869400e5d4'), UUID('23f39377-02f7-4fb1-86ae-f52df7513f04'), UUID('d27c89d5-e7a7-46e2-a17f-e28794606877'), UUID('38142f46-f7d8-4a2e-a577-5c72f0d5ac41'), UUID('a55e1cdf-6dcf-4308-ae0d-a40c18b48e73'), UUID('426f466b-bfed-41b3-9740-e3bd6233add2'), UUID('fb052fa5-d2ec-48bc-9f73-7d6d4689a6fa'), UUID('8dc195ac-b07c-4d96-8b3b-a41565c16785'), UUID('fa2c30df-d2bb-44ff-a2ff-87f96f6d10e9'), UUID('28093269-2ff0-4e99-a8ea-e6adb8864274'), UUID('6537280b-dd2d-44b1-8452-43283ef9f67a'), UUID('25d6ce9a-e82a-483d-b791-246218cebd9f'), UUID('88e62684-b1e6-460a-bf96-64573af1663a'), UUID('4e4db51c-4c3c-4a27-af7d-e9d3b4df41d3'), UUID('89af64a1-2118-432f-9f66-0a6bd2423fa4'), UUID('6ff4427e-e6c5-44fc-83f9-19946c0e0a38'), UUID('c08a18eb-e310-42f7-8a65-7d5e78a06f79'), UUID('8547e263-3a0f-4e2d-9f4f-d702000ae5d5'), UUID('71afd8f0-5d10-431a-8b07-19dd28e83c73'), UUID('7b02a19e-94e4-42c3-9047-602b9607a3e4'), UUID('9505cdfd-1092-42ed-832f-627127bd25c8'), UUID('d55f7fac-9086-4c21-9540-24fefeeedc9e'), UUID('2d7644d8-faab-46ef-bb31-7d42c344203b'), UUID('557a59d3-7a98-4df1-9378-3891993d2d32'), UUID('a531be54-9721-4462-bc8c-6169f26deb32'), UUID('56686189-dd65-4a7c-9e45-d8d08baf2518'), UUID('027a4ca6-1cd2-4333-84dc-52843a18c346'), UUID('e70f9406-c3c9-4fed-af94-6ba9952de1a6'), UUID('12b59208-4199-45b1-b775-cb51018567c0'), UUID('9b1b4678-11d7-405f-982e-cd2ee661242c'), UUID('f34f3ffd-2185-4698-92ae-e26b1a0ca51c'), UUID('077748a5-ec08-4764-88d0-368202810a36'), UUID('2dc60a28-a8b2-4771-8fcc-f727e3fa8d11'), UUID('a98b2456-7c2c-454d-8c82-f66045392c2a'), UUID('58086559-20eb-474d-8f78-866f488d85c1'), UUID('40e35d78-6525-46b9-afce-69beaae48db5'), UUID('eb882a40-fc4e-4731-8054-735432e58b59'), UUID('f80f4c91-d52a-414c-b040-2ae2665d8357'), UUID('b74437ba-953c-4e60-af96-73fcb9a62200'), UUID('c5e0ba30-53a4-4d38-b86f-386f50b5472c'), UUID('eb330575-2bf7-4f34-83e8-ca034675ff56'), UUID('0bcfb6b1-600e-4c3a-8ceb-b9fd549c7bbd'), UUID('48f67ef7-7a0b-46f8-8088-45b2990be394'), UUID('08eadbde-3d97-44a4-a710-0a9efdf8d04e'), UUID('806eca23-c778-4b18-a3d8-e14734b9c6e8'), UUID('711e4951-3ed9-4fda-bc65-5b59147409f4'), UUID('70d51e4f-0c4f-4df8-8c3b-622a37766ca9'), UUID('b3e732c3-aa13-41fd-a104-1867eb27d11c'), UUID('905ecb56-c517-4692-b076-d85b7755bf03'), UUID('39b84076-7110-4097-8e4c-9311dfc2beee'), UUID('34e28c88-88d3-4408-8fda-ace770019862'), UUID('89dd16cc-66ba-4715-b550-eec91449c05b'), UUID('a0bf6537-2ef7-43af-b3f6-2a2ef16ae01c'), UUID('f73f34ba-1c1c-45f6-a13e-0c4b51f0c532'), UUID('c4f7bb90-086e-487d-816b-37f3ad045dfb'), UUID('1f17988e-a150-4089-b858-2ac902ee2ffd'), UUID('37758745-af20-4c54-8c8a-ce29a8b564b9'), UUID('25af7f37-3fc1-4dcb-a20d-680a507624c8'), UUID('4e5dcdb3-5ee6-4335-94da-cbd605d745a3'), UUID('6a105cc6-82c2-4671-8820-cf5e62260969'), UUID('fd9efaac-24ed-423a-ba48-d7119a40400d'), UUID('9eafbee3-0854-4e5e-8c5b-82b668cc64b4'), UUID('ffd34ac6-e78e-42c6-a88d-fe2a64341b46'), UUID('d6a98118-4381-4860-a514-29392fc9c7c0'), UUID('948fd629-a967-4e54-9d27-09d4a99d876c'), UUID('9977b63b-77ba-4ae3-9d1b-c1ddbc7dd81a'), UUID('1174abd7-37f2-45d0-b117-daae9b8684fb'), UUID('fcbf1280-6916-4b47-9aad-ea8172365923'), UUID('c5ee776f-c5dd-443e-89b8-9208c034b6c3'), UUID('723066e0-c5d9-4ab6-aec3-db68ff0a3a6d'), UUID('7ad10656-09bc-4fc4-b1b3-163d34f7368f'), UUID('09c02ef0-5d3b-4962-89fc-ab923eb354a4'), UUID('b1359a23-eb68-4263-82e3-5e6199b56250'), UUID('7daf04c6-799f-4614-a0a0-60bffcd0ac94'), UUID('e1fc8ad6-463f-4dcc-b6b7-5df838a79608'), UUID('bae07f8b-5259-49ab-9976-2605ddb838da'), UUID('11776e28-a3ad-42b9-a81a-7845354f2fae'), UUID('50d1d7b1-7937-42b2-9ad0-ed293afc9baa'), UUID('5af04906-6ccb-4490-922f-ec60650e248f'), UUID('25166f04-d2f4-497c-8de9-4f56b3453df0'), UUID('f4b92f7b-a651-44b7-a3a7-7c2449b4c434'), UUID('d7f11efa-634b-404f-85f5-ce2b13002547'), UUID('290846ac-2161-43a0-ae99-a2bfcba7fc75'), UUID('a137887f-e3fa-4230-9d31-da48652581c8'), UUID('9ca44035-98a5-4ddf-ae64-3a2cfe6c73d3'), UUID('6e1df820-fabd-43fd-bb62-40000c7ca9a1'), UUID('9378c7d3-b157-4671-b816-0d3887e6adfa'), UUID('f4b7aa5c-7252-4ca4-8c8e-4ad58bf1ce3d'), UUID('0e515077-5e72-4dd2-849d-9f69a74c8749'), UUID('c4a11560-23bc-4037-b1af-4edcb30ee775'), UUID('a2e2c84c-c272-43f8-a141-2a1eb2d3c3a6'), UUID('b584937f-31fe-46fa-bf58-2a8e9b51fd13'), UUID('f63b6e94-0224-47ab-b996-e797c4e68b79'), UUID('e89e401a-5ff5-41cb-b88d-0b11866c4502'), UUID('a840a530-a8eb-43be-a7f1-00beb2f13cca'), UUID('a9bb7c2f-0bce-4508-afca-0433c1106d8e'), UUID('47adeccf-49e5-4dfb-9993-42c8f3108071'), UUID('da1edb4d-9f4e-4720-be2f-f94d22d4a6c1'), UUID('c52dbba1-c518-4f79-a3f2-e623c138b49a'), UUID('841e7253-cdc1-4e64-8153-153481925201'), UUID('c4974859-5b9b-4e02-9d0e-a3a6e2364dcb'), UUID('82192d8f-fb76-40d4-938d-75597f1a1d87'), UUID('2e338676-f057-4b92-8eaf-ae7f6d2f617a'), UUID('d7a048f5-3a40-46c5-9ea4-45e5ae64c2aa'), UUID('6f8ec9bd-993e-42eb-aa26-9c82333e6e41'), UUID('e059a884-a4ce-41df-acbd-5b099756b9b4'), UUID('5a870ea5-96db-4de9-8a54-f9bd778ce3b6'), UUID('af2b1afd-03ea-4b75-8846-f1759318daaa'), UUID('401dc424-cef8-45e9-93e9-ea65744ca7a7'), UUID('149062cd-8362-4c74-ba52-8a47c21b49c3'), UUID('f15baffc-3a79-4d72-b939-f5921a6c4f61'), UUID('8eee09ff-000e-4876-86b7-03e6fd920170'), UUID('06ec42a4-63c7-46ea-bcf2-67343b75c64b'), UUID('ac598e53-5087-423c-a379-f5e6cb489980'), UUID('4dcfbcbc-ad9c-47e6-b734-2bb7e619bfc3'), UUID('81989845-0e29-4893-bf20-6f55ca121cd5'), UUID('88a63d84-2632-46a9-aef5-ef465b47a236'), UUID('a0c7cfe8-8acd-461d-a31b-bdd205325f1d'), UUID('d5f2f724-1df7-4c0a-bd8e-9a309eba9625'), UUID('9e8cb144-ad45-4b58-8c8e-e6e1d9fbacf9'), UUID('fd42007e-3835-4649-943f-c2584007671a'), UUID('71f3b70e-2b1a-4513-ac72-4276a281b2b4'), UUID('0736f5a4-3a1e-4d0e-beb1-0a87e1403790'), UUID('f23a780e-c21b-42dc-9ae0-40a14a21dd64'), UUID('e36ddc60-275b-4210-8946-f3676d8c0100'), UUID('8c432822-34e4-470b-98f1-38f845df6729'), UUID('266f4535-8c60-4b15-8acb-a8c80806fcbd'), UUID('32b9e2c0-ce98-42dc-8c00-f2edbb12d1b3'), UUID('00b7a4e8-d9d3-4044-8db8-6833ff4f304a'), UUID('f3bf77d4-8cf4-4472-a2c7-513df1ec5d4e'), UUID('b37d244e-f734-49cd-ad19-b944d7d3e0fd'), UUID('69182c0b-b55d-443f-815f-2db407e21223'), UUID('b070de0f-5027-43d1-a4d4-91b7b90539a7'), UUID('dfbfc36c-b1d3-4a7c-9c7f-b529605895e4'), UUID('d5ac8636-2b78-4360-bc6e-c5012f3f89ca'), UUID('53b39649-a25a-421e-8007-4a670c2ab7ed'), UUID('71a12610-e9b9-4092-a8a6-06b3fc91dc8f'), UUID('896445f3-1f66-4299-90fd-795f4ed9c263'), UUID('4ccbb8de-8f8e-4b3b-82f6-824150e807d0'), UUID('96dd48d2-0a2d-48c9-b506-63a515f8fda0'), UUID('7927c52c-1ce9-46be-a7e0-d3e9df03890a'), UUID('a0ae1938-4b9f-4c2a-8191-dc30247d2310'), UUID('c82b0149-bb31-4abf-aff8-761d64789541'), UUID('cb92b39b-9622-4696-8e65-334ea3fd99a1'), UUID('f89db9bc-12ab-424d-93fc-e2caba3a651f'), UUID('6b717f23-310b-44eb-99a7-0e5d1e8727ca'), UUID('8c121d5f-ac4d-46f6-a7a1-16176722af81'), UUID('61fb57d1-4b3d-42e0-9f2f-5ae7fe054277'), UUID('2c48ac34-a6ba-4ec2-873f-30ec96127efe'), UUID('3f454a4d-0f4e-4ac4-b5cf-4b3a144dde93'), UUID('20aacc9d-930a-452a-880b-19c0430cc416'), UUID('bad94089-2f09-4b54-bddc-dcf070609054'), UUID('dc0a30b5-d698-40f8-80ed-2bc838aabf22'), UUID('6c55fb4e-9b72-4459-ae45-3b4ccdf2b136'), UUID('f9e4edd5-59b7-4def-9ed7-b0e9cffee3b2'), UUID('cfa70dd2-6219-457d-a3cd-5c248e8659ba'), UUID('8593c176-da49-4fb2-a947-0a062300587e'), UUID('f2ab0ab4-52de-4ee5-b019-299e25ead5c6'), UUID('2b783e6c-6bb2-414c-98e5-f997901cd002'), UUID('f01ce15a-072f-4084-a1b5-5ef56a5ec0e9'), UUID('bb37c700-8f2a-40dd-912a-5adad904ece8'), UUID('94e0e0e7-275a-461f-a9c0-9191d884189e'), UUID('098bc17f-ee7a-403f-a9cb-faf9911b01e0'), UUID('9615f8f0-d786-4758-9254-943ea7f44994'), UUID('3f80363c-d504-4638-bf31-39550434fbef'), UUID('e9dc59a5-14f4-4153-bb1a-017d0e36c9b0'), UUID('1327d0b5-44d1-4346-bfee-d25161cb9e41'), UUID('c5e044f3-4c3e-4cf1-9733-bd62588ecbe3'), UUID('c1ba89ce-cf4f-43d3-b26f-a935a3376548'), UUID('b40ee304-3eea-462b-85e6-48a3ebb588ca'), UUID('ba2dcb41-c6f3-4c34-9fce-41b89ded85ce'), UUID('bb0f5d3b-ead4-4040-832e-ad39fa4c8ba8'), UUID('61093351-f23c-4801-919c-c1a6c6194c0b'), UUID('fa8307da-8a66-4dcc-b4ce-45f74e70eb8d'), UUID('b42b30f7-0676-4b83-b216-6ce3ff3b0097'), UUID('5236a80c-7dda-49bc-b4c1-ce8e77b8bee1'), UUID('dfcf018d-2e7a-4aad-be04-b751df2064fb'), UUID('35b968ac-d7bf-4cb0-99bd-a0ed82e31bd4'), UUID('087ddb48-f0c7-4b0b-a136-3137bc6ce2f8'), UUID('60fb0df4-bd1a-4cd6-a3b2-17a8ee9f723d'), UUID('4ed2f8a9-49a4-47fe-9c6d-0fc74922d61f'), UUID('8091f54e-790d-4711-9a63-31f0ea8a1113'), UUID('91542003-7e24-463e-939d-27bc58aad43c'), UUID('9a811804-58cd-430e-b1c2-4d17c59e90d2'), UUID('e49f389f-9d66-438f-8ea2-4c513f451c96'), UUID('665ab61d-42ec-4556-a99e-c50ce11ca2ad'), UUID('ff667da3-7ab4-4142-acac-5abf329c3202'), UUID('271173c1-3909-4f2e-bc7b-e74498598b03'), UUID('306f5e39-86e3-4da1-b2cb-7b677f3365e3'), UUID('1c2db9e1-89fd-4dd9-82ec-09b7e9f89418'), UUID('f57aaa10-617b-426b-8d93-8dcfc9e65a05'), UUID('fab6b499-d318-4ce0-9528-e329676094ec'), UUID('8620400b-6ddf-42ad-9344-24d58cdb2cfe'), UUID('266b0c3c-d876-4280-afdb-0c4cf6ec3931'), UUID('ece6b8eb-5a60-48fe-92b9-6e747086e957'), UUID('e9939c36-2477-42a8-83a6-aa7e7db4cf88'), UUID('093eb463-1e30-4a63-8f78-07c9c99ec04e'), UUID('da8921ad-d0e0-471a-ae06-3988583d601e'), UUID('8646cb94-d7d5-4dfe-a50c-399f6a2573b0'), UUID('a696c86f-f205-4c49-90ea-8439b41221a1'), UUID('4613eec3-e644-4539-ae84-d0b0741267bc'), UUID('14346d83-c6bc-47c7-b256-7292cd8c477e'), UUID('c9ee1c55-abcb-476e-83c8-d542dc5e02ca'), UUID('94ce304d-7b53-4db4-b207-01c54c394c99'), UUID('e7499f90-6f3a-4a88-b966-53225d9073d8'), UUID('2a87e23e-946a-441d-b766-f77a698a8b48'), UUID('8223ca2f-dce9-4223-b8a7-2de9948b349f'), UUID('873e04f2-dd74-4b2f-8f4a-8ef91d9dd335'), UUID('375d0e9f-05be-412f-84c2-c7509b33f769'), UUID('52c884ca-8ebe-4feb-8c2e-aceab79dfd97'), UUID('e40eb29c-952d-4ccb-94c8-a99cd411d53b'), UUID('21f22577-ecc6-4c95-b790-ce461a85c113'), UUID('d8dfc169-6f49-40b2-95c8-1bc100d3021b'), UUID('ffd2bda2-2a10-442e-bb82-54c01881a478'), UUID('918ed185-55b6-42f9-a054-ed832c610362'), UUID('ab3a6039-1341-4d23-848d-fcde6c1b3972'), UUID('309c9588-74ad-4512-89c5-e72173ef0f19'), UUID('4b3a0996-dae8-4215-8cc1-0ba6d0656473'), UUID('6de0ae31-56ae-4b7b-a43c-55b27d837556'), UUID('5b3894f9-e918-44d4-b44b-b0913cb953df'), UUID('151b3bf9-7ed5-4aca-875d-52819ead6ace'), UUID('8bc40246-bd5c-457a-9342-07aa78b00583'), UUID('26c8e1e1-f741-41a2-aba6-688576771f13'), UUID('0c3a84e6-fd2c-46d2-a0a5-f85b0dc917af'), UUID('e979380c-3445-4f54-9178-5b71a4e80004'), UUID('6b1110c9-4a55-4344-bd60-4ca250e87917'), UUID('84836141-968e-4477-b4ae-b77401fee732'), UUID('52b66123-6039-42bb-bc41-df240b1b8a40'), UUID('d4550f3a-e0d1-42a5-a2f3-03948ce5a81a'), UUID('6158879c-c4e3-4c60-8b84-8c49bbbdbbaa'), UUID('a6042a7f-a1a2-46d0-8ef7-94ace7c3c6e5'), UUID('13519b7c-caff-43b5-8872-4f57ba3762e8'), UUID('a381ac1b-4ae4-4a8f-91c8-58c8092b1f7e'), UUID('052cb80c-fc38-4aba-864e-2222619841c5'), UUID('219a8be3-a2f3-441d-82d1-0179622b5395'), UUID('3ff618dd-54a7-4a9b-a0ef-ecae2ef516ea'), UUID('35942207-277d-4100-9356-6ebb3cdee7ba'), UUID('ff302a89-04e8-4297-aa03-e54363febfa0'), UUID('8058b637-a8e5-4b07-94be-03008ade2b28'), UUID('5495d59b-baff-4a10-9c3c-4a6e9fc97a8f'), UUID('cadac0aa-ed5d-4207-a9e4-33597dd54db5'), UUID('9e1ce6fd-67d5-4026-9cba-d7f53a5b66fd'), UUID('648ae77a-238a-4482-a73e-1b6d59afe5aa'), UUID('06f57f48-9418-4a5b-8fc5-407f2e038f44'), UUID('8db1e8ad-b354-48f1-818f-d34490837589'), UUID('cfef93bb-6175-4d3f-8288-244498667a45'), UUID('62652c01-f0e3-4609-b6dc-b9cdd39838c0'), UUID('631302a1-805c-41bc-a1f4-1383ce704fd6'), UUID('c23c6c70-e9a0-425b-af87-a29f55e0c5c0'), UUID('91002928-84f1-44ad-801c-37c3b7441990'), UUID('239192fe-50ee-4184-aac3-819e236b9ccc'), UUID('2f1e0edd-5c78-436a-84c8-a8695dce9597'), UUID('7c044825-378e-4be3-9530-fc02cfd53a02'), UUID('49dfc396-1a73-4d6c-85c5-d372a6c81de3'), UUID('878472e1-245a-4384-a183-5ecabc7a2df7'), UUID('b0118e78-a39a-4a44-b65a-6c866ad35d27'), UUID('c893b335-6a93-4829-a29e-e7652b85b126'), UUID('c9d36537-9ee7-451c-9101-f97eb42b9c02'), UUID('c464862f-4f40-4218-a773-dab29f86a9c1'), UUID('1e7539fc-8566-4120-b2f4-2bbf6c97ea43'), UUID('a0da2325-102f-418e-bb52-3cb3fdd751a2'), UUID('ff66116d-ccac-4709-b0ea-e6305ae69578'), UUID('389adc62-7cdc-45c4-8227-7ded654c1f7e'), UUID('eb403ddf-fcf2-4615-8b22-d8c5e30b92b9'), UUID('0ef82360-0483-4cb4-873c-e0a9aa9524b4'), UUID('71c6b51e-d972-413b-b98e-927f2226c507'), UUID('cf2bf775-cf54-4eb1-b624-ac52ff1a6205'), UUID('4d7a09d8-fdc1-4910-8fbb-f149b35015ca'), UUID('cbe173d9-6c1b-4228-95e4-f2edcd3d1090'), UUID('dd7a41ba-590a-4109-b7f2-7f7750f502e2'), UUID('ea2d02c1-8040-4c98-8126-8c19704f051b'), UUID('d482843d-501c-4ba4-877f-3698cc31f326'), UUID('fbb96705-f31e-456b-9845-3b2b0aa99ce7'), UUID('2a36c827-d6ed-4a73-9712-058c46a10ac0'), UUID('5e49d4ce-bd7e-4f5b-9982-b7929afe5e0a'), UUID('0ab20dd3-6fed-4bd3-a330-34b3b245d542'), UUID('c4404ea5-66e2-4ba7-bb8f-9d85192ea8bc'), UUID('675fa851-9b43-4e3e-9ca9-295572c65742'), UUID('e98d656e-ff1f-45f2-bf25-a366a4535719'), UUID('07e123f6-53d6-44f3-a86c-64ac47720d1c'), UUID('cd14657a-4f43-4837-9480-c93f1eab85f0'), UUID('1201d425-595a-4bce-bbe5-6fa7a1e97b4e'), UUID('4988df65-da4c-4579-b4b3-bbdd58c510df'), UUID('685c6e00-7aea-4f09-b24d-7f8b3bef1418'), UUID('fdfebfbc-dce0-42cd-babe-d7a1021732dd'), UUID('5da85c08-8fb4-4f96-863c-4fe6e3523108'), UUID('027811e8-d3b6-4877-8bab-b0b529e0a410'), UUID('31106c8e-39f6-46dc-aa6d-67f424321a63'), UUID('a49c9e4c-6669-411a-a555-29f8e050a42c'), UUID('00307217-ba90-42b8-909e-780257853e8b'), UUID('93be919f-2af2-4418-aafb-2b3e814b69b1'), UUID('50b4b871-92a0-4d3c-b6b7-c6365d09ee04'), UUID('ca827576-311f-493d-8533-4be010496c43'), UUID('e74b6375-17a3-4fd8-b312-3bfb6a8bd6f7'), UUID('3a68246a-5958-475a-836a-5756a4304a6e'), UUID('cc4ad4d8-6908-4bcb-a748-15a996595b05'), UUID('683fe3aa-8c24-433f-a477-9d0784c177c8'), UUID('3d4ddbd4-ce30-4379-8d37-4e1e6c3d2c78'), UUID('41ce0c63-dd4b-44ee-b67b-73e11ebe12ed'), UUID('532f2073-1713-4346-9f98-4ca7129dad48'), UUID('73dd44ac-0dba-49d9-ac29-e4bc935ffd4b'), UUID('c57d04b9-130c-4b87-a372-74e733bab9d0'), UUID('0e345d72-e520-4d09-ab89-d8a4ff941bce'), UUID('7231a961-0ab1-4a75-b891-a62330478e87'), UUID('011a644a-18d1-4640-ba9a-ce811508d9d8'), UUID('c932f0e0-ba42-4785-999e-16f47b03b1ec'), UUID('72ce11d5-58e4-4f39-bb38-b4e270d9d3f6'), UUID('ab0edf42-006d-406d-997b-379335c33341'), UUID('a579462a-f771-4a81-b1cb-dccf0640d15b'), UUID('084b4709-2e22-466d-9e3c-45be7867a44a'), UUID('6dff9628-ade7-436c-854f-40154008c6f0'), UUID('e3e38d6e-2f91-41a9-968d-f3fc62256fb8'), UUID('ef4f4ccb-0934-46d6-a39d-35a86dceffed'), UUID('b62762fc-49f4-491c-9809-2e3aa7d13bb8'), UUID('8a0a5e84-84b7-4df2-9baf-4cf5129ce437'), UUID('924141b6-b84c-42b2-a381-997dc34b80bc'), UUID('6ecbf27d-2c6f-4a72-80b3-20144c61e346'), UUID('593c3e8b-cc53-470e-8cf7-6eb101e8cee9'), UUID('d389f600-305c-410d-800c-a7c7e6343903'), UUID('6864479f-73db-4de2-9d6b-172844a16378'), UUID('18e34187-6b7c-42a0-8522-2aa03ec54950'), UUID('db53d5cd-b894-4b46-800d-f8818c2860e5'), UUID('c146b0bc-7f83-4a3f-95cd-57b342fbe9cf'), UUID('46fd6fc1-e5e9-4b77-bb47-9b2fe3b6b523'), UUID('91713f5d-1cfe-4c55-a0d5-765e93652864'), UUID('93f177f3-5f4a-4e10-b498-2ddf29f24d02'), UUID('123273b0-26f2-43e1-bc3e-ee3849a069a5'), UUID('90427fa7-0f2b-4cbb-88dc-389ecff88047'), UUID('8791986c-5e50-4a04-98be-a12d5e8fa57f'), UUID('6b17fdb0-88ed-41cc-8ec0-92f3df13d104'), UUID('3227a4a5-9314-4c93-96dc-6620a1c7cf87'), UUID('786f0a6d-6435-42c7-bd3c-354fa8481f6c'), UUID('cbafba9f-85c1-42f5-8b6d-781398920b94'), UUID('8c22411c-383a-4b78-81bd-aea213624f68'), UUID('8445c797-fae4-4356-82a7-c3dc2341d857'), UUID('7a279302-985f-426d-85d6-971730869924'), UUID('88c990ab-565f-475b-94f9-5d6ca01966d8'), UUID('3edbc029-cc24-43dd-ba26-8c9839d6536a'), UUID('c9d83f16-d701-43ef-83a9-1c77702da0af'), UUID('5c66404d-2a19-4694-b16d-88f16a45cac5'), UUID('2735f0ac-c894-4d5d-8cb3-94249ff45f54'), UUID('37d13044-4224-4895-930e-c65f95bfcbe3'), UUID('15739e03-748b-48ec-a539-80f0954e885e'), UUID('8a65865d-93fa-434c-b534-674052fef838'), UUID('11bac742-b0fe-4e35-98ca-75e99eb6e5d8'), UUID('7a9757b7-8d12-44ef-8414-019ed6d1e164'), UUID('e4d0d051-c922-4906-a2bb-405a9a28a9fa'), UUID('e1926695-9193-44cd-87e2-07c378e7c8e9'), UUID('8e00a9d4-17f4-4635-b4a8-067f2f722533'), UUID('cddb91d9-3c2d-46ef-bfa0-5e5748651a2f'), UUID('563cfca2-5679-4f2d-ba89-25269919bac5'), UUID('c5349372-33db-452e-8420-16a1763846a9'), UUID('b65b864d-0a0a-44d6-b921-196195191e97'), UUID('8648650a-6c5b-41e0-a29a-69464178d268'), UUID('9f1260db-cbe0-4363-a179-e408526384de'), UUID('cc19e369-8aac-42ce-94c0-4bad6e4a6602'), UUID('60fe68c4-7112-4df5-b84a-821cac30234a'), UUID('9f5a2c39-7f82-4429-a1c0-e1b0714de686'), UUID('ce51efcc-fdcc-4422-93ee-8e5caaf419d4'), UUID('1331b500-11dc-44ab-9975-991cb4ee255c'), UUID('222d0ed5-1470-47a1-b8d9-87071ae0d293'), UUID('ffbbfbd4-ddfb-4767-b189-74dd87c240d0')], elapsed_seconds=0.71555495262146, errors={}, uuids={0: UUID('902cea94-e3bf-44f8-96e2-fd156f0ea964'), 1: UUID('9b1bb13d-ea07-407a-95f2-876b66f13d3b'), 2: UUID('187dca5c-c847-458f-b8f6-fd583122215f'), 3: UUID('287c93b2-8566-42ed-a5a9-8424cf0e4ddc'), 4: UUID('60a2d2b8-f387-42b0-aace-ad724cd2475b'), 5: UUID('9da00983-cce2-4d77-b40e-3cbfeedda778'), 6: UUID('74636fed-a7c6-4dd4-a66b-2fa1fc9d1845'), 7: UUID('1a90ea35-eab2-43e2-97af-763cef34955f'), 8: UUID('1f1a143b-3292-4385-911b-d615d893fd13'), 9: UUID('ab03082f-f34f-4af2-91d4-b5634b6de368'), 10: UUID('a75f7d97-114b-4589-8edf-de44ce30a43d'), 11: UUID('c3338a2b-4bd2-42cc-ac34-cb796ec35c2c'), 12: UUID('fe399c55-b8ec-4a93-b85d-267f6c44f3f4'), 13: UUID('22ddcf94-a3d0-4ac6-a27b-1b8d12f9a69a'), 14: UUID('f87271b8-f6e3-4372-abd8-4f9e047866ff'), 15: UUID('7a7da0c0-d945-48de-aec4-b4a31eaf9388'), 16: UUID('6ff0c489-ec90-437a-be40-a8fb064e770c'), 17: UUID('c6f0c372-2d38-48ae-80b8-98b2f8e37917'), 18: UUID('ac9c1d7a-cfd7-44dd-8ccf-48520121f9b4'), 19: UUID('b57ab702-98b7-47af-9e94-42a20b7af23e'), 20: UUID('777fa36f-60f7-46f0-9301-0d58e27b1a5e'), 21: UUID('c0506cc5-2980-432a-9560-2031e5afa15a'), 22: UUID('9fba9a40-de6f-4b26-aef4-2fd1c1b2f74c'), 23: UUID('8d653c27-0821-4db8-a95a-719f26a9f985'), 24: UUID('a0f670bb-da0d-4d4c-9968-354c1153e1b6'), 25: UUID('12f64156-f9be-4400-8e67-f0e6e468fe37'), 26: UUID('b42c6798-82e9-4520-bb76-6dd844652f6e'), 27: UUID('dfe8863b-395e-4341-ba9c-68cbcad817c8'), 28: UUID('f5f65b06-8a04-453e-948a-dd8d44c280fa'), 29: UUID('43ea71e1-dffa-46c4-8632-56f03b2e956c'), 30: UUID('d2f1ba72-b1e7-4b0b-9dd7-3086afa04370'), 31: UUID('d58367d4-b416-477e-9a7e-155b957181b2'), 32: UUID('2c187d70-a226-44ab-8b78-856949803031'), 33: UUID('22d3ab6b-cef6-463f-bb08-8ed3424e4719'), 34: UUID('ea22d1c6-a550-476f-b9b3-a3d0f38cb413'), 35: UUID('96165b41-87cf-42c7-87e3-ad6d17ed9a6d'), 36: UUID('419d5d81-acb5-48b5-ba5d-4cc2036eeeed'), 37: UUID('72429a5b-4337-4715-90d7-56470415e7d8'), 38: UUID('b2b9210f-d12e-4616-80db-c85543e347c1'), 39: UUID('5716e62c-929d-497f-ba5c-8d5e12df1652'), 40: UUID('50f335a4-7f0d-47aa-87ce-bbe668249d9f'), 41: UUID('e23ba5da-42ac-43c2-92b1-39b845765dd1'), 42: UUID('c04a1059-747c-40cc-abbc-163155ac08d1'), 43: UUID('f089a2b2-81fc-4051-8938-225d8ccbd51d'), 44: UUID('8f2beb63-e41e-4ced-adb4-393c99eda275'), 45: UUID('4cf59962-27a6-4bd0-81bb-1d869400e5d4'), 46: UUID('23f39377-02f7-4fb1-86ae-f52df7513f04'), 47: UUID('d27c89d5-e7a7-46e2-a17f-e28794606877'), 48: UUID('38142f46-f7d8-4a2e-a577-5c72f0d5ac41'), 49: UUID('a55e1cdf-6dcf-4308-ae0d-a40c18b48e73'), 50: UUID('426f466b-bfed-41b3-9740-e3bd6233add2'), 51: UUID('fb052fa5-d2ec-48bc-9f73-7d6d4689a6fa'), 52: UUID('8dc195ac-b07c-4d96-8b3b-a41565c16785'), 53: UUID('fa2c30df-d2bb-44ff-a2ff-87f96f6d10e9'), 54: UUID('28093269-2ff0-4e99-a8ea-e6adb8864274'), 55: UUID('6537280b-dd2d-44b1-8452-43283ef9f67a'), 56: UUID('25d6ce9a-e82a-483d-b791-246218cebd9f'), 57: UUID('88e62684-b1e6-460a-bf96-64573af1663a'), 58: UUID('4e4db51c-4c3c-4a27-af7d-e9d3b4df41d3'), 59: UUID('89af64a1-2118-432f-9f66-0a6bd2423fa4'), 60: UUID('6ff4427e-e6c5-44fc-83f9-19946c0e0a38'), 61: UUID('c08a18eb-e310-42f7-8a65-7d5e78a06f79'), 62: UUID('8547e263-3a0f-4e2d-9f4f-d702000ae5d5'), 63: UUID('71afd8f0-5d10-431a-8b07-19dd28e83c73'), 64: UUID('7b02a19e-94e4-42c3-9047-602b9607a3e4'), 65: UUID('9505cdfd-1092-42ed-832f-627127bd25c8'), 66: UUID('d55f7fac-9086-4c21-9540-24fefeeedc9e'), 67: UUID('2d7644d8-faab-46ef-bb31-7d42c344203b'), 68: UUID('557a59d3-7a98-4df1-9378-3891993d2d32'), 69: UUID('a531be54-9721-4462-bc8c-6169f26deb32'), 70: UUID('56686189-dd65-4a7c-9e45-d8d08baf2518'), 71: UUID('027a4ca6-1cd2-4333-84dc-52843a18c346'), 72: UUID('e70f9406-c3c9-4fed-af94-6ba9952de1a6'), 73: UUID('12b59208-4199-45b1-b775-cb51018567c0'), 74: UUID('9b1b4678-11d7-405f-982e-cd2ee661242c'), 75: UUID('f34f3ffd-2185-4698-92ae-e26b1a0ca51c'), 76: UUID('077748a5-ec08-4764-88d0-368202810a36'), 77: UUID('2dc60a28-a8b2-4771-8fcc-f727e3fa8d11'), 78: UUID('a98b2456-7c2c-454d-8c82-f66045392c2a'), 79: UUID('58086559-20eb-474d-8f78-866f488d85c1'), 80: UUID('40e35d78-6525-46b9-afce-69beaae48db5'), 81: UUID('eb882a40-fc4e-4731-8054-735432e58b59'), 82: UUID('f80f4c91-d52a-414c-b040-2ae2665d8357'), 83: UUID('b74437ba-953c-4e60-af96-73fcb9a62200'), 84: UUID('c5e0ba30-53a4-4d38-b86f-386f50b5472c'), 85: UUID('eb330575-2bf7-4f34-83e8-ca034675ff56'), 86: UUID('0bcfb6b1-600e-4c3a-8ceb-b9fd549c7bbd'), 87: UUID('48f67ef7-7a0b-46f8-8088-45b2990be394'), 88: UUID('08eadbde-3d97-44a4-a710-0a9efdf8d04e'), 89: UUID('806eca23-c778-4b18-a3d8-e14734b9c6e8'), 90: UUID('711e4951-3ed9-4fda-bc65-5b59147409f4'), 91: UUID('70d51e4f-0c4f-4df8-8c3b-622a37766ca9'), 92: UUID('b3e732c3-aa13-41fd-a104-1867eb27d11c'), 93: UUID('905ecb56-c517-4692-b076-d85b7755bf03'), 94: UUID('39b84076-7110-4097-8e4c-9311dfc2beee'), 95: UUID('34e28c88-88d3-4408-8fda-ace770019862'), 96: UUID('89dd16cc-66ba-4715-b550-eec91449c05b'), 97: UUID('a0bf6537-2ef7-43af-b3f6-2a2ef16ae01c'), 98: UUID('f73f34ba-1c1c-45f6-a13e-0c4b51f0c532'), 99: UUID('c4f7bb90-086e-487d-816b-37f3ad045dfb'), 100: UUID('1f17988e-a150-4089-b858-2ac902ee2ffd'), 101: UUID('37758745-af20-4c54-8c8a-ce29a8b564b9'), 102: UUID('25af7f37-3fc1-4dcb-a20d-680a507624c8'), 103: UUID('4e5dcdb3-5ee6-4335-94da-cbd605d745a3'), 104: UUID('6a105cc6-82c2-4671-8820-cf5e62260969'), 105: UUID('fd9efaac-24ed-423a-ba48-d7119a40400d'), 106: UUID('9eafbee3-0854-4e5e-8c5b-82b668cc64b4'), 107: UUID('ffd34ac6-e78e-42c6-a88d-fe2a64341b46'), 108: UUID('d6a98118-4381-4860-a514-29392fc9c7c0'), 109: UUID('948fd629-a967-4e54-9d27-09d4a99d876c'), 110: UUID('9977b63b-77ba-4ae3-9d1b-c1ddbc7dd81a'), 111: UUID('1174abd7-37f2-45d0-b117-daae9b8684fb'), 112: UUID('fcbf1280-6916-4b47-9aad-ea8172365923'), 113: UUID('c5ee776f-c5dd-443e-89b8-9208c034b6c3'), 114: UUID('723066e0-c5d9-4ab6-aec3-db68ff0a3a6d'), 115: UUID('7ad10656-09bc-4fc4-b1b3-163d34f7368f'), 116: UUID('09c02ef0-5d3b-4962-89fc-ab923eb354a4'), 117: UUID('b1359a23-eb68-4263-82e3-5e6199b56250'), 118: UUID('7daf04c6-799f-4614-a0a0-60bffcd0ac94'), 119: UUID('e1fc8ad6-463f-4dcc-b6b7-5df838a79608'), 120: UUID('bae07f8b-5259-49ab-9976-2605ddb838da'), 121: UUID('11776e28-a3ad-42b9-a81a-7845354f2fae'), 122: UUID('50d1d7b1-7937-42b2-9ad0-ed293afc9baa'), 123: UUID('5af04906-6ccb-4490-922f-ec60650e248f'), 124: UUID('25166f04-d2f4-497c-8de9-4f56b3453df0'), 125: UUID('f4b92f7b-a651-44b7-a3a7-7c2449b4c434'), 126: UUID('d7f11efa-634b-404f-85f5-ce2b13002547'), 127: UUID('290846ac-2161-43a0-ae99-a2bfcba7fc75'), 128: UUID('a137887f-e3fa-4230-9d31-da48652581c8'), 129: UUID('9ca44035-98a5-4ddf-ae64-3a2cfe6c73d3'), 130: UUID('6e1df820-fabd-43fd-bb62-40000c7ca9a1'), 131: UUID('9378c7d3-b157-4671-b816-0d3887e6adfa'), 132: UUID('f4b7aa5c-7252-4ca4-8c8e-4ad58bf1ce3d'), 133: UUID('0e515077-5e72-4dd2-849d-9f69a74c8749'), 134: UUID('c4a11560-23bc-4037-b1af-4edcb30ee775'), 135: UUID('a2e2c84c-c272-43f8-a141-2a1eb2d3c3a6'), 136: UUID('b584937f-31fe-46fa-bf58-2a8e9b51fd13'), 137: UUID('f63b6e94-0224-47ab-b996-e797c4e68b79'), 138: UUID('e89e401a-5ff5-41cb-b88d-0b11866c4502'), 139: UUID('a840a530-a8eb-43be-a7f1-00beb2f13cca'), 140: UUID('a9bb7c2f-0bce-4508-afca-0433c1106d8e'), 141: UUID('47adeccf-49e5-4dfb-9993-42c8f3108071'), 142: UUID('da1edb4d-9f4e-4720-be2f-f94d22d4a6c1'), 143: UUID('c52dbba1-c518-4f79-a3f2-e623c138b49a'), 144: UUID('841e7253-cdc1-4e64-8153-153481925201'), 145: UUID('c4974859-5b9b-4e02-9d0e-a3a6e2364dcb'), 146: UUID('82192d8f-fb76-40d4-938d-75597f1a1d87'), 147: UUID('2e338676-f057-4b92-8eaf-ae7f6d2f617a'), 148: UUID('d7a048f5-3a40-46c5-9ea4-45e5ae64c2aa'), 149: UUID('6f8ec9bd-993e-42eb-aa26-9c82333e6e41'), 150: UUID('e059a884-a4ce-41df-acbd-5b099756b9b4'), 151: UUID('5a870ea5-96db-4de9-8a54-f9bd778ce3b6'), 152: UUID('af2b1afd-03ea-4b75-8846-f1759318daaa'), 153: UUID('401dc424-cef8-45e9-93e9-ea65744ca7a7'), 154: UUID('149062cd-8362-4c74-ba52-8a47c21b49c3'), 155: UUID('f15baffc-3a79-4d72-b939-f5921a6c4f61'), 156: UUID('8eee09ff-000e-4876-86b7-03e6fd920170'), 157: UUID('06ec42a4-63c7-46ea-bcf2-67343b75c64b'), 158: UUID('ac598e53-5087-423c-a379-f5e6cb489980'), 159: UUID('4dcfbcbc-ad9c-47e6-b734-2bb7e619bfc3'), 160: UUID('81989845-0e29-4893-bf20-6f55ca121cd5'), 161: UUID('88a63d84-2632-46a9-aef5-ef465b47a236'), 162: UUID('a0c7cfe8-8acd-461d-a31b-bdd205325f1d'), 163: UUID('d5f2f724-1df7-4c0a-bd8e-9a309eba9625'), 164: UUID('9e8cb144-ad45-4b58-8c8e-e6e1d9fbacf9'), 165: UUID('fd42007e-3835-4649-943f-c2584007671a'), 166: UUID('71f3b70e-2b1a-4513-ac72-4276a281b2b4'), 167: UUID('0736f5a4-3a1e-4d0e-beb1-0a87e1403790'), 168: UUID('f23a780e-c21b-42dc-9ae0-40a14a21dd64'), 169: UUID('e36ddc60-275b-4210-8946-f3676d8c0100'), 170: UUID('8c432822-34e4-470b-98f1-38f845df6729'), 171: UUID('266f4535-8c60-4b15-8acb-a8c80806fcbd'), 172: UUID('32b9e2c0-ce98-42dc-8c00-f2edbb12d1b3'), 173: UUID('00b7a4e8-d9d3-4044-8db8-6833ff4f304a'), 174: UUID('f3bf77d4-8cf4-4472-a2c7-513df1ec5d4e'), 175: UUID('b37d244e-f734-49cd-ad19-b944d7d3e0fd'), 176: UUID('69182c0b-b55d-443f-815f-2db407e21223'), 177: UUID('b070de0f-5027-43d1-a4d4-91b7b90539a7'), 178: UUID('dfbfc36c-b1d3-4a7c-9c7f-b529605895e4'), 179: UUID('d5ac8636-2b78-4360-bc6e-c5012f3f89ca'), 180: UUID('53b39649-a25a-421e-8007-4a670c2ab7ed'), 181: UUID('71a12610-e9b9-4092-a8a6-06b3fc91dc8f'), 182: UUID('896445f3-1f66-4299-90fd-795f4ed9c263'), 183: UUID('4ccbb8de-8f8e-4b3b-82f6-824150e807d0'), 184: UUID('96dd48d2-0a2d-48c9-b506-63a515f8fda0'), 185: UUID('7927c52c-1ce9-46be-a7e0-d3e9df03890a'), 186: UUID('a0ae1938-4b9f-4c2a-8191-dc30247d2310'), 187: UUID('c82b0149-bb31-4abf-aff8-761d64789541'), 188: UUID('cb92b39b-9622-4696-8e65-334ea3fd99a1'), 189: UUID('f89db9bc-12ab-424d-93fc-e2caba3a651f'), 190: UUID('6b717f23-310b-44eb-99a7-0e5d1e8727ca'), 191: UUID('8c121d5f-ac4d-46f6-a7a1-16176722af81'), 192: UUID('61fb57d1-4b3d-42e0-9f2f-5ae7fe054277'), 193: UUID('2c48ac34-a6ba-4ec2-873f-30ec96127efe'), 194: UUID('3f454a4d-0f4e-4ac4-b5cf-4b3a144dde93'), 195: UUID('20aacc9d-930a-452a-880b-19c0430cc416'), 196: UUID('bad94089-2f09-4b54-bddc-dcf070609054'), 197: UUID('dc0a30b5-d698-40f8-80ed-2bc838aabf22'), 198: UUID('6c55fb4e-9b72-4459-ae45-3b4ccdf2b136'), 199: UUID('f9e4edd5-59b7-4def-9ed7-b0e9cffee3b2'), 200: UUID('cfa70dd2-6219-457d-a3cd-5c248e8659ba'), 201: UUID('8593c176-da49-4fb2-a947-0a062300587e'), 202: UUID('f2ab0ab4-52de-4ee5-b019-299e25ead5c6'), 203: UUID('2b783e6c-6bb2-414c-98e5-f997901cd002'), 204: UUID('f01ce15a-072f-4084-a1b5-5ef56a5ec0e9'), 205: UUID('bb37c700-8f2a-40dd-912a-5adad904ece8'), 206: UUID('94e0e0e7-275a-461f-a9c0-9191d884189e'), 207: UUID('098bc17f-ee7a-403f-a9cb-faf9911b01e0'), 208: UUID('9615f8f0-d786-4758-9254-943ea7f44994'), 209: UUID('3f80363c-d504-4638-bf31-39550434fbef'), 210: UUID('e9dc59a5-14f4-4153-bb1a-017d0e36c9b0'), 211: UUID('1327d0b5-44d1-4346-bfee-d25161cb9e41'), 212: UUID('c5e044f3-4c3e-4cf1-9733-bd62588ecbe3'), 213: UUID('c1ba89ce-cf4f-43d3-b26f-a935a3376548'), 214: UUID('b40ee304-3eea-462b-85e6-48a3ebb588ca'), 215: UUID('ba2dcb41-c6f3-4c34-9fce-41b89ded85ce'), 216: UUID('bb0f5d3b-ead4-4040-832e-ad39fa4c8ba8'), 217: UUID('61093351-f23c-4801-919c-c1a6c6194c0b'), 218: UUID('fa8307da-8a66-4dcc-b4ce-45f74e70eb8d'), 219: UUID('b42b30f7-0676-4b83-b216-6ce3ff3b0097'), 220: UUID('5236a80c-7dda-49bc-b4c1-ce8e77b8bee1'), 221: UUID('dfcf018d-2e7a-4aad-be04-b751df2064fb'), 222: UUID('35b968ac-d7bf-4cb0-99bd-a0ed82e31bd4'), 223: UUID('087ddb48-f0c7-4b0b-a136-3137bc6ce2f8'), 224: UUID('60fb0df4-bd1a-4cd6-a3b2-17a8ee9f723d'), 225: UUID('4ed2f8a9-49a4-47fe-9c6d-0fc74922d61f'), 226: UUID('8091f54e-790d-4711-9a63-31f0ea8a1113'), 227: UUID('91542003-7e24-463e-939d-27bc58aad43c'), 228: UUID('9a811804-58cd-430e-b1c2-4d17c59e90d2'), 229: UUID('e49f389f-9d66-438f-8ea2-4c513f451c96'), 230: UUID('665ab61d-42ec-4556-a99e-c50ce11ca2ad'), 231: UUID('ff667da3-7ab4-4142-acac-5abf329c3202'), 232: UUID('271173c1-3909-4f2e-bc7b-e74498598b03'), 233: UUID('306f5e39-86e3-4da1-b2cb-7b677f3365e3'), 234: UUID('1c2db9e1-89fd-4dd9-82ec-09b7e9f89418'), 235: UUID('f57aaa10-617b-426b-8d93-8dcfc9e65a05'), 236: UUID('fab6b499-d318-4ce0-9528-e329676094ec'), 237: UUID('8620400b-6ddf-42ad-9344-24d58cdb2cfe'), 238: UUID('266b0c3c-d876-4280-afdb-0c4cf6ec3931'), 239: UUID('ece6b8eb-5a60-48fe-92b9-6e747086e957'), 240: UUID('e9939c36-2477-42a8-83a6-aa7e7db4cf88'), 241: UUID('093eb463-1e30-4a63-8f78-07c9c99ec04e'), 242: UUID('da8921ad-d0e0-471a-ae06-3988583d601e'), 243: UUID('8646cb94-d7d5-4dfe-a50c-399f6a2573b0'), 244: UUID('a696c86f-f205-4c49-90ea-8439b41221a1'), 245: UUID('4613eec3-e644-4539-ae84-d0b0741267bc'), 246: UUID('14346d83-c6bc-47c7-b256-7292cd8c477e'), 247: UUID('c9ee1c55-abcb-476e-83c8-d542dc5e02ca'), 248: UUID('94ce304d-7b53-4db4-b207-01c54c394c99'), 249: UUID('e7499f90-6f3a-4a88-b966-53225d9073d8'), 250: UUID('2a87e23e-946a-441d-b766-f77a698a8b48'), 251: UUID('8223ca2f-dce9-4223-b8a7-2de9948b349f'), 252: UUID('873e04f2-dd74-4b2f-8f4a-8ef91d9dd335'), 253: UUID('375d0e9f-05be-412f-84c2-c7509b33f769'), 254: UUID('52c884ca-8ebe-4feb-8c2e-aceab79dfd97'), 255: UUID('e40eb29c-952d-4ccb-94c8-a99cd411d53b'), 256: UUID('21f22577-ecc6-4c95-b790-ce461a85c113'), 257: UUID('d8dfc169-6f49-40b2-95c8-1bc100d3021b'), 258: UUID('ffd2bda2-2a10-442e-bb82-54c01881a478'), 259: UUID('918ed185-55b6-42f9-a054-ed832c610362'), 260: UUID('ab3a6039-1341-4d23-848d-fcde6c1b3972'), 261: UUID('309c9588-74ad-4512-89c5-e72173ef0f19'), 262: UUID('4b3a0996-dae8-4215-8cc1-0ba6d0656473'), 263: UUID('6de0ae31-56ae-4b7b-a43c-55b27d837556'), 264: UUID('5b3894f9-e918-44d4-b44b-b0913cb953df'), 265: UUID('151b3bf9-7ed5-4aca-875d-52819ead6ace'), 266: UUID('8bc40246-bd5c-457a-9342-07aa78b00583'), 267: UUID('26c8e1e1-f741-41a2-aba6-688576771f13'), 268: UUID('0c3a84e6-fd2c-46d2-a0a5-f85b0dc917af'), 269: UUID('e979380c-3445-4f54-9178-5b71a4e80004'), 270: UUID('6b1110c9-4a55-4344-bd60-4ca250e87917'), 271: UUID('84836141-968e-4477-b4ae-b77401fee732'), 272: UUID('52b66123-6039-42bb-bc41-df240b1b8a40'), 273: UUID('d4550f3a-e0d1-42a5-a2f3-03948ce5a81a'), 274: UUID('6158879c-c4e3-4c60-8b84-8c49bbbdbbaa'), 275: UUID('a6042a7f-a1a2-46d0-8ef7-94ace7c3c6e5'), 276: UUID('13519b7c-caff-43b5-8872-4f57ba3762e8'), 277: UUID('a381ac1b-4ae4-4a8f-91c8-58c8092b1f7e'), 278: UUID('052cb80c-fc38-4aba-864e-2222619841c5'), 279: UUID('219a8be3-a2f3-441d-82d1-0179622b5395'), 280: UUID('3ff618dd-54a7-4a9b-a0ef-ecae2ef516ea'), 281: UUID('35942207-277d-4100-9356-6ebb3cdee7ba'), 282: UUID('ff302a89-04e8-4297-aa03-e54363febfa0'), 283: UUID('8058b637-a8e5-4b07-94be-03008ade2b28'), 284: UUID('5495d59b-baff-4a10-9c3c-4a6e9fc97a8f'), 285: UUID('cadac0aa-ed5d-4207-a9e4-33597dd54db5'), 286: UUID('9e1ce6fd-67d5-4026-9cba-d7f53a5b66fd'), 287: UUID('648ae77a-238a-4482-a73e-1b6d59afe5aa'), 288: UUID('06f57f48-9418-4a5b-8fc5-407f2e038f44'), 289: UUID('8db1e8ad-b354-48f1-818f-d34490837589'), 290: UUID('cfef93bb-6175-4d3f-8288-244498667a45'), 291: UUID('62652c01-f0e3-4609-b6dc-b9cdd39838c0'), 292: UUID('631302a1-805c-41bc-a1f4-1383ce704fd6'), 293: UUID('c23c6c70-e9a0-425b-af87-a29f55e0c5c0'), 294: UUID('91002928-84f1-44ad-801c-37c3b7441990'), 295: UUID('239192fe-50ee-4184-aac3-819e236b9ccc'), 296: UUID('2f1e0edd-5c78-436a-84c8-a8695dce9597'), 297: UUID('7c044825-378e-4be3-9530-fc02cfd53a02'), 298: UUID('49dfc396-1a73-4d6c-85c5-d372a6c81de3'), 299: UUID('878472e1-245a-4384-a183-5ecabc7a2df7'), 300: UUID('b0118e78-a39a-4a44-b65a-6c866ad35d27'), 301: UUID('c893b335-6a93-4829-a29e-e7652b85b126'), 302: UUID('c9d36537-9ee7-451c-9101-f97eb42b9c02'), 303: UUID('c464862f-4f40-4218-a773-dab29f86a9c1'), 304: UUID('1e7539fc-8566-4120-b2f4-2bbf6c97ea43'), 305: UUID('a0da2325-102f-418e-bb52-3cb3fdd751a2'), 306: UUID('ff66116d-ccac-4709-b0ea-e6305ae69578'), 307: UUID('389adc62-7cdc-45c4-8227-7ded654c1f7e'), 308: UUID('eb403ddf-fcf2-4615-8b22-d8c5e30b92b9'), 309: UUID('0ef82360-0483-4cb4-873c-e0a9aa9524b4'), 310: UUID('71c6b51e-d972-413b-b98e-927f2226c507'), 311: UUID('cf2bf775-cf54-4eb1-b624-ac52ff1a6205'), 312: UUID('4d7a09d8-fdc1-4910-8fbb-f149b35015ca'), 313: UUID('cbe173d9-6c1b-4228-95e4-f2edcd3d1090'), 314: UUID('dd7a41ba-590a-4109-b7f2-7f7750f502e2'), 315: UUID('ea2d02c1-8040-4c98-8126-8c19704f051b'), 316: UUID('d482843d-501c-4ba4-877f-3698cc31f326'), 317: UUID('fbb96705-f31e-456b-9845-3b2b0aa99ce7'), 318: UUID('2a36c827-d6ed-4a73-9712-058c46a10ac0'), 319: UUID('5e49d4ce-bd7e-4f5b-9982-b7929afe5e0a'), 320: UUID('0ab20dd3-6fed-4bd3-a330-34b3b245d542'), 321: UUID('c4404ea5-66e2-4ba7-bb8f-9d85192ea8bc'), 322: UUID('675fa851-9b43-4e3e-9ca9-295572c65742'), 323: UUID('e98d656e-ff1f-45f2-bf25-a366a4535719'), 324: UUID('07e123f6-53d6-44f3-a86c-64ac47720d1c'), 325: UUID('cd14657a-4f43-4837-9480-c93f1eab85f0'), 326: UUID('1201d425-595a-4bce-bbe5-6fa7a1e97b4e'), 327: UUID('4988df65-da4c-4579-b4b3-bbdd58c510df'), 328: UUID('685c6e00-7aea-4f09-b24d-7f8b3bef1418'), 329: UUID('fdfebfbc-dce0-42cd-babe-d7a1021732dd'), 330: UUID('5da85c08-8fb4-4f96-863c-4fe6e3523108'), 331: UUID('027811e8-d3b6-4877-8bab-b0b529e0a410'), 332: UUID('31106c8e-39f6-46dc-aa6d-67f424321a63'), 333: UUID('a49c9e4c-6669-411a-a555-29f8e050a42c'), 334: UUID('00307217-ba90-42b8-909e-780257853e8b'), 335: UUID('93be919f-2af2-4418-aafb-2b3e814b69b1'), 336: UUID('50b4b871-92a0-4d3c-b6b7-c6365d09ee04'), 337: UUID('ca827576-311f-493d-8533-4be010496c43'), 338: UUID('e74b6375-17a3-4fd8-b312-3bfb6a8bd6f7'), 339: UUID('3a68246a-5958-475a-836a-5756a4304a6e'), 340: UUID('cc4ad4d8-6908-4bcb-a748-15a996595b05'), 341: UUID('683fe3aa-8c24-433f-a477-9d0784c177c8'), 342: UUID('3d4ddbd4-ce30-4379-8d37-4e1e6c3d2c78'), 343: UUID('41ce0c63-dd4b-44ee-b67b-73e11ebe12ed'), 344: UUID('532f2073-1713-4346-9f98-4ca7129dad48'), 345: UUID('73dd44ac-0dba-49d9-ac29-e4bc935ffd4b'), 346: UUID('c57d04b9-130c-4b87-a372-74e733bab9d0'), 347: UUID('0e345d72-e520-4d09-ab89-d8a4ff941bce'), 348: UUID('7231a961-0ab1-4a75-b891-a62330478e87'), 349: UUID('011a644a-18d1-4640-ba9a-ce811508d9d8'), 350: UUID('c932f0e0-ba42-4785-999e-16f47b03b1ec'), 351: UUID('72ce11d5-58e4-4f39-bb38-b4e270d9d3f6'), 352: UUID('ab0edf42-006d-406d-997b-379335c33341'), 353: UUID('a579462a-f771-4a81-b1cb-dccf0640d15b'), 354: UUID('084b4709-2e22-466d-9e3c-45be7867a44a'), 355: UUID('6dff9628-ade7-436c-854f-40154008c6f0'), 356: UUID('e3e38d6e-2f91-41a9-968d-f3fc62256fb8'), 357: UUID('ef4f4ccb-0934-46d6-a39d-35a86dceffed'), 358: UUID('b62762fc-49f4-491c-9809-2e3aa7d13bb8'), 359: UUID('8a0a5e84-84b7-4df2-9baf-4cf5129ce437'), 360: UUID('924141b6-b84c-42b2-a381-997dc34b80bc'), 361: UUID('6ecbf27d-2c6f-4a72-80b3-20144c61e346'), 362: UUID('593c3e8b-cc53-470e-8cf7-6eb101e8cee9'), 363: UUID('d389f600-305c-410d-800c-a7c7e6343903'), 364: UUID('6864479f-73db-4de2-9d6b-172844a16378'), 365: UUID('18e34187-6b7c-42a0-8522-2aa03ec54950'), 366: UUID('db53d5cd-b894-4b46-800d-f8818c2860e5'), 367: UUID('c146b0bc-7f83-4a3f-95cd-57b342fbe9cf'), 368: UUID('46fd6fc1-e5e9-4b77-bb47-9b2fe3b6b523'), 369: UUID('91713f5d-1cfe-4c55-a0d5-765e93652864'), 370: UUID('93f177f3-5f4a-4e10-b498-2ddf29f24d02'), 371: UUID('123273b0-26f2-43e1-bc3e-ee3849a069a5'), 372: UUID('90427fa7-0f2b-4cbb-88dc-389ecff88047'), 373: UUID('8791986c-5e50-4a04-98be-a12d5e8fa57f'), 374: UUID('6b17fdb0-88ed-41cc-8ec0-92f3df13d104'), 375: UUID('3227a4a5-9314-4c93-96dc-6620a1c7cf87'), 376: UUID('786f0a6d-6435-42c7-bd3c-354fa8481f6c'), 377: UUID('cbafba9f-85c1-42f5-8b6d-781398920b94'), 378: UUID('8c22411c-383a-4b78-81bd-aea213624f68'), 379: UUID('8445c797-fae4-4356-82a7-c3dc2341d857'), 380: UUID('7a279302-985f-426d-85d6-971730869924'), 381: UUID('88c990ab-565f-475b-94f9-5d6ca01966d8'), 382: UUID('3edbc029-cc24-43dd-ba26-8c9839d6536a'), 383: UUID('c9d83f16-d701-43ef-83a9-1c77702da0af'), 384: UUID('5c66404d-2a19-4694-b16d-88f16a45cac5'), 385: UUID('2735f0ac-c894-4d5d-8cb3-94249ff45f54'), 386: UUID('37d13044-4224-4895-930e-c65f95bfcbe3'), 387: UUID('15739e03-748b-48ec-a539-80f0954e885e'), 388: UUID('8a65865d-93fa-434c-b534-674052fef838'), 389: UUID('11bac742-b0fe-4e35-98ca-75e99eb6e5d8'), 390: UUID('7a9757b7-8d12-44ef-8414-019ed6d1e164'), 391: UUID('e4d0d051-c922-4906-a2bb-405a9a28a9fa'), 392: UUID('e1926695-9193-44cd-87e2-07c378e7c8e9'), 393: UUID('8e00a9d4-17f4-4635-b4a8-067f2f722533'), 394: UUID('cddb91d9-3c2d-46ef-bfa0-5e5748651a2f'), 395: UUID('563cfca2-5679-4f2d-ba89-25269919bac5'), 396: UUID('c5349372-33db-452e-8420-16a1763846a9'), 397: UUID('b65b864d-0a0a-44d6-b921-196195191e97'), 398: UUID('8648650a-6c5b-41e0-a29a-69464178d268'), 399: UUID('9f1260db-cbe0-4363-a179-e408526384de'), 400: UUID('cc19e369-8aac-42ce-94c0-4bad6e4a6602'), 401: UUID('60fe68c4-7112-4df5-b84a-821cac30234a'), 402: UUID('9f5a2c39-7f82-4429-a1c0-e1b0714de686'), 403: UUID('ce51efcc-fdcc-4422-93ee-8e5caaf419d4'), 404: UUID('1331b500-11dc-44ab-9975-991cb4ee255c'), 405: UUID('222d0ed5-1470-47a1-b8d9-87071ae0d293'), 406: UUID('ffbbfbd4-ddfb-4767-b189-74dd87c240d0')}, has_errors=False)"
      ]
     },
     "execution_count": 8,
     "metadata": {},
     "output_type": "execute_result"
    }
   ],
   "source": [
    "# add data with manual embeddings\n",
    "data = []\n",
    "for i in range(len(chunks)):\n",
    "    data.append(wvc.data.DataObject(\n",
    "            properties={\n",
    "                \"content\": chunks[i]\n",
    "            },\n",
    "            vector = chunk_embeddings[i].tolist()\n",
    "    )\n",
    ")\n",
    "\n",
    "late_chunking_collection.data.insert_many(data)"
   ]
  },
  {
   "cell_type": "markdown",
   "metadata": {},
   "source": [
    "### Example Query\n",
    "\n",
    "First, define two functions to process queries. One using our Weaviate collection, and a different, slower search using cosine similarity running locally that we will use for comparison."
   ]
  },
  {
   "cell_type": "code",
   "execution_count": 9,
   "metadata": {},
   "outputs": [],
   "source": [
    "def late_chunking_query_function_weaviate(query, k = 3):\n",
    "    query_vector = model(**tokenizer(query, return_tensors=\"pt\")).last_hidden_state.mean(1).detach().cpu().numpy().flatten()\n",
    "\n",
    "    results = late_chunking_collection.query.near_vector(\n",
    "        near_vector=query_vector.tolist(),\n",
    "        limit = k\n",
    "    )\n",
    "\n",
    "    return [res.properties[\"content\"] for res in results.objects]\n",
    "\n",
    "def late_chunking_query_function_cosine_sim(query, k = 3):\n",
    "\n",
    "    cos_sim = lambda x, y: np.dot(x, y) / (np.linalg.norm(x) * np.linalg.norm(y))\n",
    "\n",
    "    query_vector = model(**tokenizer(query, return_tensors=\"pt\")).last_hidden_state.mean(1).detach().cpu().numpy().flatten()\n",
    "\n",
    "    results = np.empty(len(chunk_embeddings))\n",
    "    for i, (chunk, embedding) in enumerate(zip(chunks, chunk_embeddings)):\n",
    "        results[i] = cos_sim(query_vector, embedding)\n",
    "\n",
    "    results_order = results.argsort()[::-1]\n",
    "    return np.array(chunks)[results_order].tolist()[:k]"
   ]
  },
  {
   "cell_type": "markdown",
   "metadata": {},
   "source": [
    "Test both search functions."
   ]
  },
  {
   "cell_type": "code",
   "execution_count": 10,
   "metadata": {},
   "outputs": [
    {
     "data": {
      "text/plain": [
       "['The Independent Evangelical Lutheran Church has eight parishes of different sizes in Berlin.[131] There are 36 Baptist congregations (within Union of Evangelical Free Church Congregations in Germany), 29 New Apostolic Churches, 15 United Methodist churches, eight Free Evangelical Congregations, four Churches of Christ, Scientist (1st, 2nd, 3rd, and 11th), six congregations of the Church of Jesus Christ of Latter-day Saints, an Old Catholic church, and an Anglican church in Berlin.',\n",
       " 'Each borough has several subdistricts or neighborhoods (Ortsteile), which have roots in much older municipalities that predate the formation of Greater Berlin on 1 October 1920.',\n",
       " 'The Senate consists of the Governing Mayor of Berlin (Regierender Bürgermeister), and up to ten senators holding ministerial positions, two of them holding the title of \"Mayor\" (Bürgermeister) as deputy to the Governing Mayor.[134]\\n\\n\\nCharlottenburg Town Hall\\n\\nRathaus Spandau\\nThe total annual budget of Berlin in 2015 exceeded €24.5 ($30.0) billion including a budget surplus of €205 ($240) million.[135] The German Federal city state of Berlin owns extensive assets, including administrative and government buildings, real estate companies, as well as stakes in the Olympic Stadium, swimming pools, housing companies, and numerous public enterprises and subsidiary companies.[136][137] The federal state of Berlin runs a real estate portal to advertise commercial spaces or land suitable for redevelopment.[138]\\n\\nThe Social Democratic Party (SPD) and The Left (Die Linke) took control of the city government after the 2001 state election and won another term in the 2006 state election.[139] From the 2016 state election until the 2023 state election, there was a coalition between the Social Democratic Party, the Greens and the Left Party.',\n",
       " 'Since April 2023, the government has been formed by a coalition between the Christian Democrats and the Social Democrats.[140]\\n\\nThe Governing Mayor is simultaneously Lord Mayor of the City of Berlin (Oberbürgermeister der Stadt) and Minister President of the State of Berlin (Ministerpräsident des Bundeslandes).',\n",
       " '24] About 2.7% of the population identify with other Christian denominations (mostly Eastern Orthodox, but also various Protestants).[125] According to the Berlin residents register, in 2018 14.9 percent were members of the Evangelical Church, and 8.5 percent were members of the Catholic Church.[103] The government keeps a register of members of these churches for tax purposes, because it collects church tax on behalf of the churches.']"
      ]
     },
     "execution_count": 10,
     "metadata": {},
     "output_type": "execute_result"
    }
   ],
   "source": [
    "late_chunking_query_function_weaviate(\"What are the different demographics of Berlin?\", 5)"
   ]
  },
  {
   "cell_type": "code",
   "execution_count": 11,
   "metadata": {},
   "outputs": [
    {
     "data": {
      "text/plain": [
       "['The Independent Evangelical Lutheran Church has eight parishes of different sizes in Berlin.[131] There are 36 Baptist congregations (within Union of Evangelical Free Church Congregations in Germany), 29 New Apostolic Churches, 15 United Methodist churches, eight Free Evangelical Congregations, four Churches of Christ, Scientist (1st, 2nd, 3rd, and 11th), six congregations of the Church of Jesus Christ of Latter-day Saints, an Old Catholic church, and an Anglican church in Berlin.',\n",
       " 'Each borough has several subdistricts or neighborhoods (Ortsteile), which have roots in much older municipalities that predate the formation of Greater Berlin on 1 October 1920.',\n",
       " 'The Senate consists of the Governing Mayor of Berlin (Regierender Bürgermeister), and up to ten senators holding ministerial positions, two of them holding the title of \"Mayor\" (Bürgermeister) as deputy to the Governing Mayor.[134]\\n\\n\\nCharlottenburg Town Hall\\n\\nRathaus Spandau\\nThe total annual budget of Berlin in 2015 exceeded €24.5 ($30.0) billion including a budget surplus of €205 ($240) million.[135] The German Federal city state of Berlin owns extensive assets, including administrative and government buildings, real estate companies, as well as stakes in the Olympic Stadium, swimming pools, housing companies, and numerous public enterprises and subsidiary companies.[136][137] The federal state of Berlin runs a real estate portal to advertise commercial spaces or land suitable for redevelopment.[138]\\n\\nThe Social Democratic Party (SPD) and The Left (Die Linke) took control of the city government after the 2001 state election and won another term in the 2006 state election.[139] From the 2016 state election until the 2023 state election, there was a coalition between the Social Democratic Party, the Greens and the Left Party.',\n",
       " 'Since April 2023, the government has been formed by a coalition between the Christian Democrats and the Social Democrats.[140]\\n\\nThe Governing Mayor is simultaneously Lord Mayor of the City of Berlin (Oberbürgermeister der Stadt) and Minister President of the State of Berlin (Ministerpräsident des Bundeslandes).',\n",
       " '24] About 2.7% of the population identify with other Christian denominations (mostly Eastern Orthodox, but also various Protestants).[125] According to the Berlin residents register, in 2018 14.9 percent were members of the Evangelical Church, and 8.5 percent were members of the Catholic Church.[103] The government keeps a register of members of these churches for tax purposes, because it collects church tax on behalf of the churches.']"
      ]
     },
     "execution_count": 11,
     "metadata": {},
     "output_type": "execute_result"
    }
   ],
   "source": [
    "late_chunking_query_function_cosine_sim(\"What are the different demographics of Berlin?\", 5)"
   ]
  },
  {
   "cell_type": "markdown",
   "metadata": {},
   "source": [
    "Both give the same results so we are confident that our vector search for late chunking works! We would expect something slightly different as Weaviate uses HNSW for a speedy search, and we have directly used cosine similarity, but in this case, they are the same."
   ]
  },
  {
   "cell_type": "markdown",
   "metadata": {},
   "source": [
    "For comparison, let's look at what a naive chunking method implemented with Weaviate's search would give us."
   ]
  },
  {
   "cell_type": "code",
   "execution_count": 12,
   "metadata": {},
   "outputs": [
    {
     "data": {
      "text/plain": [
       "BatchObjectReturn(_all_responses=[UUID('dd8b4325-e532-4ebc-9cc5-7a8fbcc0b6f0'), UUID('ccdf9386-b06e-4681-a74e-c4ba8b8858d1'), UUID('9fd55e66-0fa4-4d2e-9a7a-3de24122d9c9'), UUID('cd000d17-9b82-4658-a5d1-68d45e6b2166'), UUID('7b09dad1-849d-4e50-b464-ce665089c627'), UUID('003cc461-b4dc-43dd-a098-481f923a66fa'), UUID('7927786f-715f-4642-b85b-c5635a6e534a'), UUID('8250e162-799f-4d3b-9ce4-537ef9e3ef0e'), UUID('7beaffce-abf8-43ca-8b6a-f786a304db0e'), UUID('f7aae4b8-7993-44cc-8cec-8a84ad847597'), UUID('56e97afd-1fa6-4906-8efb-d4a7e2adc0c5'), UUID('3ac38fe9-62a7-439b-b47c-6788a37d961f'), UUID('ae5c9052-077c-485b-82a8-134478265040'), UUID('2aa5aea3-98c2-48c8-8299-845d686aa81a'), UUID('c8dfe563-02eb-4b2a-82a5-2880d959f9f9'), UUID('ad43a797-925b-43b2-bd5d-d22c9f792ce4'), UUID('afb883e1-6a7c-413d-9b9e-74d1ca4257f1'), UUID('1c18c714-8188-406a-9cc6-d457d859f787'), UUID('a0a7ac12-c91a-4336-a96f-38dbd58c591b'), UUID('bd1fcbd3-a831-47b7-9627-cc67b6b7d349'), UUID('e2e34db5-29a0-4ead-8050-14bb1af59ea4'), UUID('3f1eccce-8a67-425a-a213-a51ccc35b489'), UUID('73aa1a75-defd-4011-a1b1-12c8254b540a'), UUID('32c8be81-8a6f-4ee0-ba22-3770bbdfb62c'), UUID('84939e0b-0155-4a98-83e2-883753b5c65b'), UUID('137fd749-08b0-45a2-b794-5e58f5750e71'), UUID('2bba7ba3-7b36-4ba6-9631-d0334a77a8de'), UUID('4795c704-c743-447a-a261-097b1d7240f9'), UUID('33b9b746-744c-48a4-be36-736705276c9f'), UUID('b176825a-8959-446c-8df6-6ae189ac5c2b'), UUID('447aa480-7690-405a-bb87-21ec8019a81e'), UUID('9077b96a-7d60-43e2-a42f-ee231ff7f9e6'), UUID('46a144c0-ac4c-47e4-ba29-4c73274ce62b'), UUID('a092abe2-41ba-44ef-a1e5-06a118d57e99'), UUID('2c33babe-93a4-4694-8f75-ce8ea09427f4'), UUID('c4b784dc-b505-432a-9d5c-38273c04185d'), UUID('44d78666-32c8-48b2-8703-f16b76bf505c'), UUID('c47bbd61-3fb9-4a10-bd31-b65726fcf680'), UUID('39948a67-6a3a-4b7f-bf58-07c107f3c83c'), UUID('f90fd746-4fd3-4a51-81cc-52182678a9c3'), UUID('2005b3ab-ca42-4d1b-a0b3-9aa0fc72da6d'), UUID('e62a4db3-721c-454a-8133-ba40a8426632'), UUID('6cb7f8fa-aca8-4974-9a1c-640e6510bf47'), UUID('ed51fcbc-2c73-4530-82dc-229f8600b100'), UUID('a542b352-e247-4e34-b15e-a16a9a60cd9b'), UUID('cda8bb94-9d5c-4aaa-9588-e4504b72b5db'), UUID('90784ffa-7cfd-4bfe-bd42-ec5c8dec327f'), UUID('cb171e3e-db99-4944-bdad-83ec0a3b4246'), UUID('61e56777-8d76-472c-b2db-a190c0cc689d'), UUID('05bb273e-273e-424e-bb88-627453c47ca9'), UUID('dd988a67-7737-4125-9c7c-473b68fce4dd'), UUID('e6190647-618b-4f57-b737-1c34da4430be'), UUID('977e501d-2476-4760-a160-45555bed3100'), UUID('1e2fb73b-9801-4254-945e-a707758c9715'), UUID('674af04e-f6fa-48ce-87ce-af010d9094f9'), UUID('0f71e81e-6644-4b44-a5ff-dfb1b79ce326'), UUID('56976afb-1739-4099-883d-642671752e3f'), UUID('feab5165-4652-4172-b0e2-775d4bf74482'), UUID('a3e23f3f-8dad-4c5e-a309-44bedf2fe688'), UUID('1463ca98-2e43-42b0-8ff4-283e1b5241d3'), UUID('dc30ebed-b15e-42e1-9a33-47b9169d3240'), UUID('fc1fd752-3880-43a3-9f7e-3e45b458aa29'), UUID('dca31197-eaf9-44d3-88de-3aff08022638'), UUID('e7f98cef-a164-4cd5-bc5a-7a3bd3416909'), UUID('21114549-d258-428c-b635-0886069eabb7'), UUID('f06d1d88-544f-4cb5-bfd6-e0b6afdf2ff5'), UUID('fdd94a48-cb98-4caf-ae61-a4249c890d97'), UUID('4de9667f-ea84-499b-8a7b-fb11eea42d00'), UUID('e5075a2a-1ec5-49c9-ac1f-395aee6a94bb'), UUID('1ce78051-b9a0-4a3d-957e-f45dd80f45f3'), UUID('46e7d98c-bcb9-4e4f-94ee-6e0eb0787556'), UUID('fb704025-db02-4473-aecc-d605e640e250'), UUID('36dacf04-e59e-4617-a19b-fe2bcc65a05b'), UUID('2790ae80-7211-41df-afb5-c8b51acec400'), UUID('eaaa06b0-3d91-408c-af2e-a18aa58b6795'), UUID('2c5e4f3a-5e18-4503-9e8f-87d169268fe0'), UUID('e0d762cc-fbaa-44e3-852a-507e30e210a9'), UUID('6d02142c-2fe8-46ef-b580-4ab6b941fbe8'), UUID('0f722c6a-c56b-43c5-a0e6-3a89b981e662'), UUID('ffdcbfe1-cbf0-41e0-a5fc-781cdbad6831'), UUID('c1e5cf9d-0801-4628-975b-131fdc06eee2'), UUID('8bb28328-dd48-4f54-83d6-2fa614ed9372'), UUID('ba640a21-f912-447f-aaaf-c6f7e2aebee2'), UUID('5af803a6-8c01-4caf-8f41-818fc0e90c65'), UUID('a246379a-05a4-4aad-9f60-cd0d5a0bc9ff'), UUID('712b509b-3a22-4197-b957-8e156b4aafaf'), UUID('a9dfbabf-daff-4843-a923-98d321ceff25'), UUID('57c3d273-0f2e-475f-b3c5-404050aae5ea'), UUID('69b1c624-9bee-476f-8062-008276f40a91'), UUID('996c17f6-1e14-48e1-902e-e8de47b9f1a6'), UUID('98eb9549-f68a-4827-82d7-1b3fcce2f3b4'), UUID('86b11cbe-9fb2-4845-88e5-7777a413f04a'), UUID('3666b797-3c26-473c-bb65-446701cb4730'), UUID('4726a978-d59b-4785-9ed7-fbba64e547bc'), UUID('4586d5aa-1745-406b-b21b-6c612299dd6c'), UUID('1ef57354-79be-43d9-8985-15fba6da4c4f'), UUID('bb71f5d4-5b9c-47e3-bba0-1879ebceebc2'), UUID('aaf6da65-704f-44ca-bcb1-1e493d950ff0'), UUID('0ad56952-4884-43ff-8f16-47438928de70'), UUID('9fc946d9-2e7c-43c8-9528-fb4433fedb36'), UUID('efef5046-a79e-4d47-b129-b8c1ae867774'), UUID('aa8e50cd-c144-414c-b397-c9d7b0e340b6'), UUID('b8abb3d9-d078-4fdb-952f-6effa5642ac5'), UUID('3571d0dc-0f63-4ad6-8ded-b23b0c27cebf'), UUID('c2efdb90-b543-48d8-969b-4e816a4bacdf'), UUID('8aaa5e5d-51ac-4e4a-9cc1-0829607f9f05'), UUID('ade2b2ea-a7c3-483c-8a19-288ab62a0d9b'), UUID('ef7406b8-17d0-4649-9ee2-d4c6ff7a9b3e'), UUID('412f4d4a-2c79-499c-96b7-4e8b9ebb2145'), UUID('d46413ed-c51d-41d9-b8d4-9764b7a3c6cc'), UUID('5b4ad1a1-d201-48b1-9b82-00517fe68750'), UUID('1adfecec-8086-4308-b0f5-58099c6574d5'), UUID('b74e162d-b4a6-49a3-9e6d-a509f7d60b22'), UUID('2a41f2a3-e9be-4f50-b45f-f53f4ebf8c44'), UUID('795cb152-e250-42ea-9766-107a878a5f6b'), UUID('3841f4bd-2ea9-4db5-a55a-211d4b249ffa'), UUID('95782914-2b15-44f1-b07b-040125a31208'), UUID('8ef9c5c1-4093-4ef2-ad8d-fbdd4fb92d54'), UUID('439849e7-b3e1-4fd7-91ba-82e5575ccdf9'), UUID('30fd077c-69fc-461b-b469-a256e2ebe44e'), UUID('8e3cb9ce-c17c-45b9-860d-5fd3c5998f8b'), UUID('51a37d1e-dc4d-4cd0-9e9b-b63960b42c1c'), UUID('ff78b470-3c12-45ac-bd40-e4b130de2c2e'), UUID('92198eea-b7d0-43ca-905c-6cd0b4cf3001'), UUID('7d0af991-e0fe-4c54-a644-7bd535e4e736'), UUID('fb516d8c-8bf3-47d5-a1e0-3d595b4cf9bd'), UUID('02dc8f62-f948-4e0f-8d92-283c03298cff'), UUID('7599591b-34db-4845-b9f8-06d52f7f417e'), UUID('87e2c809-936e-40db-8408-abe53094cda6'), UUID('f4d6a0ea-f870-4d1c-9a0e-b23b97541e72'), UUID('e4144c56-f90f-4ff4-a042-56d7549b5237'), UUID('b55849d1-2077-4211-9fdb-2eba51a4545e'), UUID('c83b3777-2959-46aa-abff-a6208c9ef13d'), UUID('5f1b8c15-1ba3-4968-8811-b019a5cbe72a'), UUID('7a5d2fca-67bb-4f30-aa2f-d1e630a2c8f5'), UUID('7b14deb9-919f-49cc-9307-e0e90dd463f3'), UUID('7ea9b7fd-3c61-4521-b7c6-e619b1056621'), UUID('9e77632f-e266-4008-a428-4aec9fe821a2'), UUID('e198dca2-facb-46f7-b2a5-1a3188353ff0'), UUID('9a6771d7-d3fe-4546-8631-5595b62b9f40'), UUID('b6271d1c-1b67-41ab-909c-d620584e5616'), UUID('992bf94c-7d11-424c-bc31-85fc2d1af09f'), UUID('5a722621-88e2-4314-8191-920549b3b9fa'), UUID('bc4d04bd-5f78-4e26-ab0d-b2b021cee153'), UUID('93d42259-d142-4d1b-bcf9-f0f50941be19'), UUID('d149959e-b031-438e-aa97-c7feaf0e81a2'), UUID('8f1d02f8-3fd4-46d2-8253-2ac6b8931d74'), UUID('edc6a78e-29df-45a9-abda-f978f214ea92'), UUID('e244d861-f5e9-47f2-a26a-d016c0b32038'), UUID('56fd4f1b-957f-4488-82a2-fa2e8c36ab9a'), UUID('945b1346-64f7-4ec1-bd7f-5dcf2cc74e93'), UUID('967f3f56-5b07-46ae-b66b-2fe0b994ef80'), UUID('0cee987c-44e2-431e-8117-2f5bc95235a2'), UUID('b3a13534-ac5b-4711-9a92-2d6237488b9c'), UUID('8ddef782-58d4-46ca-8119-66f317874ea3'), UUID('28f0f8a3-f1be-4e92-8641-5cbfd59ee4a9'), UUID('b1bbc524-ec82-4e73-92da-9040d72a6bde'), UUID('3e7b5b7b-8700-4505-8edb-e77e8527e2d4'), UUID('1e1f39a9-a599-4a40-ab65-146d294f8bb0'), UUID('0841fdb9-55a1-4c49-ad4b-434f188dd299'), UUID('9f9944b0-b0de-4ea2-b364-dea88bb44355'), UUID('a8d34a8d-f8d5-426e-9467-7f14f0002532'), UUID('2c233446-d9ed-4ea1-a278-cceabee9bf39'), UUID('13440d9a-4670-4c74-a96f-e7248321af4a'), UUID('9fb33251-4475-418f-820f-8b653c61987a'), UUID('9996d911-06a0-4392-830e-e56f0d52eb7c'), UUID('c7eef769-8d09-4dd6-b3f1-b5c6cf853001'), UUID('ca336081-acb2-487d-828a-fb64c821ea48'), UUID('55b5a674-3c2e-4b37-9708-08f6e6623177'), UUID('a9cc259c-74c6-4cfb-9f04-8e488690fe91'), UUID('ad85f3ac-011f-4df1-9472-93bec90d06ef'), UUID('4f3ff4eb-7452-428e-bc43-39a74acbab1f'), UUID('3bfb2ad1-5c71-4433-8864-f3afd8805100'), UUID('4810ea51-1b11-4cf5-85ee-18ea4b90bdf6'), UUID('ad2e9baa-e48b-4f9a-a719-15e93305f5b4'), UUID('86aaaccc-2c69-4ef3-9513-2328c2ee944f'), UUID('7c9b1d75-814c-403a-93d3-6958c4b59f50'), UUID('6ec5d1ce-e829-46b2-a7e8-934786b0ea89'), UUID('8e03c3d9-1a1a-400b-802e-d673ef9c7b2e'), UUID('75a7b2bd-3f41-4d0d-8265-6c7f804bb21b'), UUID('0fcd2186-31fc-45da-842f-5142d308681d'), UUID('6745df8c-c41f-44fd-9731-8ac508e9fe39'), UUID('7eb6a962-0013-4bf0-9870-f0b9c71cd08a'), UUID('bc7cc1b0-4d68-4264-ad52-7207bd9995ba'), UUID('0bca631b-26be-4709-a043-c85c6acb1f4a'), UUID('bbaa77f5-388d-4a5d-b275-866cc0b9f1c2'), UUID('95dec662-5ada-4b41-819d-53c207b1b8d6'), UUID('fb93ed8e-f271-4053-83be-1b9f93a07599'), UUID('02c0f240-068c-4b8f-992b-c3abf6a93367'), UUID('436e0700-aad1-4c33-a36d-73d80ca91f35'), UUID('b85bbda7-e4b4-4a03-a066-825aff23d4bc'), UUID('5733d9d0-57a4-4186-87eb-385714906eaf'), UUID('e37f3834-8975-453b-96a3-08bdeb63a96c'), UUID('dd32db42-3b74-4256-876f-fc9bd68eb9a7'), UUID('169186cd-81ef-4d59-9d5a-20e32f9aa688'), UUID('73269269-6f67-4d7f-815b-e5ce0a1cae9f'), UUID('61d3493a-dadd-4cc6-ab3b-0b36bf0a61a9'), UUID('42d245ee-1ffe-4207-b7b1-3321d8c19212'), UUID('9f3ff94b-71cf-4d7f-b213-88ecc32af767'), UUID('914f6775-ea5f-481a-9070-95ffa1a1c990'), UUID('969990a0-44de-4acd-9a6e-558749260e90'), UUID('50cc0ef9-8a95-425d-b5a0-b2df64b8d6a2'), UUID('fd3dda16-2f64-49c0-807d-10a30eb87f21'), UUID('f5922977-aa6b-4eb9-8d2c-0ceda7b01392'), UUID('41690cc6-ce9c-4b90-9f79-ff3d8704d474'), UUID('1d54e396-0c9e-40b3-a9f3-5fd28623db34'), UUID('e013fbfb-2d1b-442b-890d-0797eae2ffc2'), UUID('a2d0fb40-530d-438d-93c1-51b9e05d49cc'), UUID('a8ac9c53-59d0-4af4-9d0b-9c41afacb27e'), UUID('ef598219-aeba-4198-aaaf-fd87b081382d'), UUID('2df81eb4-aa19-4d3b-9cca-74620b645468'), UUID('dd329a61-6854-4c86-b103-88521171bc2c'), UUID('f4887da8-2cbc-4978-8af1-fc076a3eb3e5'), UUID('339fb178-5a89-462d-a176-ae50450f158f'), UUID('1d8a8413-1a17-4b4a-8c89-f54ee601e25d'), UUID('2150ba67-2f4b-407f-b317-5bd4fa267bd8'), UUID('31f9ff31-ff4a-47ce-85c7-45c344156549'), UUID('1ca79a63-f668-4812-923a-dd2100c7095f'), UUID('ba9faa1a-1f3c-47cc-b90c-ee889a6babda'), UUID('f17279d4-3ff2-4498-9508-36e147847117'), UUID('8891e396-54e7-4ced-ad3e-313439ac7cd7'), UUID('67e1538f-63b2-420c-a398-daf2667d4d30'), UUID('f9ad9210-9659-4b48-926f-03eb472c0740'), UUID('912b7a93-1804-4f07-8201-d87acb370a13'), UUID('edd39f36-bdf0-4408-9d90-ad7dd4cf0c1a'), UUID('544359fb-5798-4e97-ab63-349579dd484d'), UUID('7a87b7a5-ccb6-405e-b2d8-8af1498fce59'), UUID('61797b11-449f-4e16-afab-c1c64c456f93'), UUID('f946995d-48a0-43f4-8fb0-549c8965839e'), UUID('d391b15e-2c8c-4e81-b046-f3a607d7e7f0'), UUID('08d70c81-fdf5-4ccb-9a28-f01b78bcf76d'), UUID('51ff4e70-c8f6-4269-9a2e-baf62d19d10c'), UUID('f0658103-bed6-4343-90e2-2e74c90c0b34'), UUID('3c54f9b5-9300-4991-ac91-767da67a29bc'), UUID('c1f84d05-7817-4c06-a137-4d0f0777319e'), UUID('4b59cfef-30bf-4234-82d5-b0e461a54a3d'), UUID('cc61e0dd-5133-4f96-9f01-802ab499d208'), UUID('9b6575de-a005-4b52-8ec3-0a78b3061133'), UUID('5f2463a9-a6b4-4ae2-b969-d9c5e15d8cfb'), UUID('ef40e5b4-e926-43fc-80e3-a8835f408677'), UUID('b874c017-b634-4b05-83f2-d482942bf309'), UUID('02b4fc8a-a69e-4779-9d37-905eb0f55c40'), UUID('533ade3d-aa80-4061-8aca-51df440228b3'), UUID('d29088ed-9492-4c22-b1f2-5c5b373cc54f'), UUID('d857bd07-ef42-4165-825a-8d7dd6da53f2'), UUID('a14184c7-8c9c-4477-9b94-8bca8040752b'), UUID('97b96244-d30b-41a2-8ce9-8b346b7f7929'), UUID('c56e413a-3903-4ec2-b64c-b5f3ab33b117'), UUID('cc04a944-c6e0-448f-a320-c9cf275f3a95'), UUID('5d299352-54f4-479c-b846-0fafe86b6bb7'), UUID('47f175d6-5192-4e36-bf1f-528a8bb27e0d'), UUID('b6f08e04-792b-4f42-ab07-9eda96e0e11b'), UUID('f1b33e3b-7cc7-47aa-908d-9923a5ef8d2d'), UUID('4d61ea7b-fdbd-4778-bf13-97d549ccbcbd'), UUID('f05d9b2a-c573-4579-b468-e6dcdb76b16a'), UUID('d9ace028-d3c4-4b73-87d0-8b0e73af4e55'), UUID('fda25771-82c8-4820-8383-b411a2b8ee0e'), UUID('fbf24d17-c533-462b-b568-59b2d2431594'), UUID('1cf1322f-0bb2-4de0-a986-3134f1d6dd1e'), UUID('521a5de5-721a-4974-9282-3c82052d23f7'), UUID('3dd51a66-2610-4d6f-878e-e01b09869f3a'), UUID('e651b070-44ec-4e2a-aee9-bd092a7f5a35'), UUID('54d1de8a-1bf2-4473-8ca5-a6029f85b735'), UUID('07f8bcc9-ca47-4821-b59e-43e331705452'), UUID('b40d47e8-ebb9-430f-9911-d00928fde882'), UUID('2065fd22-278c-486f-9bcc-2a8d5b61e9b4'), UUID('4320ae26-cff5-4a9c-b779-e6f4d726161e'), UUID('2b4210b6-8acb-4063-b13f-dfc195f8ec3d'), UUID('fc470768-6797-42bc-a8ee-34c11efa0987'), UUID('5de56290-290f-4e6d-b0a0-81cb48866aa2'), UUID('63811656-e1ac-4952-af1c-cf19b596fdd0'), UUID('2496e0a2-a6d5-4e62-a05b-d3b84f6854f0'), UUID('5ad6ff18-89d1-4576-be5b-3d90a0263cb0'), UUID('cf88e233-6048-4aed-8364-6beffce5260b'), UUID('c7171af2-6d93-48c0-9973-01ab4806fd49'), UUID('02ccab14-5b9c-4897-94ae-b86329a43b74'), UUID('ca280250-fc0c-480d-aa7f-8de9885b8003'), UUID('18da748c-7f9f-4040-9956-04f1669594fe'), UUID('9ba0a348-991c-4bc0-ac1e-98f63b938d90'), UUID('cd79eb10-5b78-4696-9bb9-03c4f5c5b300'), UUID('3ebfa2f4-1b01-4de1-b982-a3f905f5b71d'), UUID('c6813473-4bdd-4508-ac73-c878d2799b1c'), UUID('3f7e637d-1586-452a-8578-18328e17e0f5'), UUID('02b01655-44a1-4aee-8cb6-04e91e0a55fd'), UUID('bd71b318-fb3e-4e05-9392-13ee9d0fc30d'), UUID('334f7d0f-807d-4e1d-b1ef-d781fb2c0229'), UUID('0c979058-f442-4c2a-adbd-a3f52f0a8899'), UUID('dfd98a29-430a-4a82-b9c7-72eeaf5fd9a7'), UUID('9f1aab98-ae72-4325-9c56-5b0909d3b9a6'), UUID('e9117606-ecf1-4123-a90a-2f24cd7a9936'), UUID('0de145bf-9054-42a8-bf75-a1f66ac0feed'), UUID('3644a7b6-5797-426a-8bf5-ccedaabfd348'), UUID('7c5c1b11-5ab1-42a4-ac7c-97bf81042a21'), UUID('3846191f-2f64-4e5b-8468-579f832db8d2'), UUID('9c0676ab-db99-428c-9ee9-ff38b0cd0321'), UUID('d3a60de1-418a-49ab-a78e-64aade15c074'), UUID('c1a20850-c9e9-4aaa-851c-50080da43cf5'), UUID('3a6d7999-3647-43ed-849f-b9376065253e'), UUID('44d4be6c-cea6-445f-92c6-b14229df6818'), UUID('b0c7dc8d-8a30-4e2e-9012-f2b21dc6d140'), UUID('8542318b-15d2-49be-b4d0-41620d7dfbd5'), UUID('f7a63c92-2cad-45ab-bdd1-ca7c8fc44fc8'), UUID('6f045a8e-c017-4725-b8a0-d8b55d327d37'), UUID('72c629b2-276f-4946-8cdf-72a6e0cd1f31'), UUID('b0a74087-8e0a-4b86-9e10-561ad5cdc58d'), UUID('392f5006-9396-4370-a833-fb9927d2530a'), UUID('3de95c8b-b0ac-4e9f-85af-5ae2506f7550'), UUID('6bb37db2-a412-414f-80e0-8f76aebfe7c2'), UUID('c8a1eec4-7966-4f14-bb38-0b06dbfd3bf7'), UUID('9bca73af-6fb1-453f-971b-475c3ed19041'), UUID('4b7d7cd7-e13b-40ef-ac0d-a695f43e9fd7'), UUID('3d593ff8-5751-4d29-ad94-fffb728a581e'), UUID('c5e1edfb-ee84-4f5d-8d2c-9bb6a013e2c1'), UUID('2833bea2-66c3-4373-8ca2-9538ed9478ac'), UUID('304d204d-f748-409a-b6e4-4f054abe92d1'), UUID('eb7ee369-15ab-4554-a2f7-4a61be718def'), UUID('29e688b0-cf05-4f49-9bbb-f9d0486ca606'), UUID('34daa299-a31d-4429-a55d-44f7e1dc5d6b'), UUID('02cdfc9d-5834-438c-9657-2772f42611b8'), UUID('8dda5d15-e743-47cc-a1a2-d74c354eb7d9'), UUID('b3490003-b534-4474-958a-608a29d93e9b'), UUID('58718d78-ac77-4a06-8ac0-84ca1e40d8ac'), UUID('6a4a9508-c98f-470c-974c-6e5ac7024b7c'), UUID('965958ba-a3af-48ad-a0be-646d7abd4a4e'), UUID('5f6d34cc-c060-4223-876a-dac997bf2568'), UUID('87934357-3e30-429e-9948-e9714ad3eca0'), UUID('efdc03a3-d775-4fa6-a6ee-1c034302c59c'), UUID('43b6e1f2-e454-48ff-96b9-da351692b033'), UUID('9f33ce6d-6994-4f9d-a85d-e5764ed39194'), UUID('b1e2a415-fc12-4491-80e2-b5c521e902c4'), UUID('84d5ddea-1acf-445a-95a8-6996062120d8'), UUID('607e20c9-fb80-4c33-b597-c6dc0e6ae152'), UUID('71959149-5645-4f6a-85c7-1d65817c4dc2'), UUID('c3e81644-c576-4dcc-b580-3ebad17af350'), UUID('12c5ef6d-5b33-40bd-8c96-535af897afa8'), UUID('81fc3511-9ccf-46cf-8feb-10d794a1f9d8'), UUID('4aaa6275-48af-460b-be9c-d5c2e711fa6a'), UUID('c9905ab7-da62-447e-994a-13d2ace84f75'), UUID('4212a662-f598-402d-a02a-6e4fbb2985f8'), UUID('f10a7b1c-c9d3-4e33-8744-e47661eb4ec9'), UUID('cd6ac2db-03b6-4e5f-bd70-e5c1e00c35d3'), UUID('072ca3d7-7de2-466b-9811-f69e15468d68'), UUID('eaf37f01-1358-4d49-b95c-2c8274be2272'), UUID('4c3dc709-7b74-47fa-a0c2-dccc5a746e7c'), UUID('77be54c9-cc9a-4372-8d85-0ea580119d95'), UUID('3cc676b5-a6b9-4b7e-8e17-87a8fedd7e7d'), UUID('8b74dbf8-fbb1-4f11-b213-0b3c379562ae'), UUID('cdcbf957-51e4-4dca-9bfd-82767e322f0b'), UUID('d6b2d43c-e330-4696-835f-faa820b4d9ee'), UUID('2aad7ce9-41dc-4058-a366-aa6366ee9daa'), UUID('a79430de-f9bf-4147-8ce5-7a0f0370a623'), UUID('94b63afb-7732-4215-a403-897a645cb253'), UUID('a4bf988f-7122-4e5c-a464-501e4fce8ae8'), UUID('0c910a40-85cc-45f5-aff5-4851dee2eb65'), UUID('9056a95a-a0ab-486f-9b07-b3f35f5fd9fe'), UUID('d9b63f6f-4a85-447a-ab7c-7c2dd5f617f1'), UUID('a8fbc99b-03f5-4ea0-a8ba-962137f4a9a8'), UUID('4955c1c8-2ffb-4cb6-9ae8-3b9622174fa6'), UUID('87b71231-2a5d-4cd6-8158-6bafed20d73d'), UUID('e6ed9388-aba5-4db7-be61-7f06b9179bf5'), UUID('510dd213-7b9e-43eb-8f7e-afc178d43df2'), UUID('1822d25a-a2fd-4419-a9d9-c6593008c0af'), UUID('d89db334-3289-4c28-aab3-b1108411f0d9'), UUID('f3d0e1e6-3cc7-404f-bb8f-898626221dfb'), UUID('bcbaef00-8e64-4b5b-998f-985f7f5eb154'), UUID('3311af8c-cc49-477e-b95f-2dfbe7b6a669'), UUID('47de9b56-8d16-43b3-902a-71477fb06cac'), UUID('70f90a86-c59d-4de7-a214-b5d2090bac6c'), UUID('b6387971-f607-4e9b-87eb-c5ecd060b7f7'), UUID('623db787-166a-48f6-97f9-449220e3a85e'), UUID('6e35fa18-a743-4f43-ac02-bd9cd0b11cfa'), UUID('2b004ceb-9372-4617-8cc0-4b907890bd23'), UUID('676a3883-d22e-436a-900a-25450d4c4257'), UUID('48763c52-c5ed-4a6e-b971-afa876b2958b'), UUID('4d4066cb-c404-4935-b700-2b9fd8f180c4'), UUID('a2443801-0c9b-4ec4-9024-64f7cb031b6d'), UUID('2a6973b1-f7e8-421b-9089-0296cd98d0f0'), UUID('60cd6745-7c15-434d-acdd-0fd5ae21f046'), UUID('368a6d77-9d28-4ca0-ab0a-5de0a8b054c2'), UUID('1de7ef12-1003-4167-8efd-611b04645b86'), UUID('6f81ff3c-0b91-4bcf-a181-006c3ad6faf4'), UUID('57969605-a692-4737-8575-9e6a22d58c28'), UUID('3de31e30-4b9f-47b5-a6bd-720d1b2fd559'), UUID('ce6e8213-e00b-43ee-aa61-527fddb515ba'), UUID('64866225-87e0-46a6-bc0a-787a71c7ac59'), UUID('9a3e1272-de32-4615-8bee-43dac323c72a'), UUID('e713ba8b-0bcf-4e0b-b90b-006e135273c4'), UUID('f369c820-f593-4e63-b4ff-7e55e70405ce'), UUID('fccca985-b579-42ec-87ee-6f5a4bbe2cd1'), UUID('62638161-0582-4352-adfe-7e4f18232ef4'), UUID('d48673ff-904d-48d6-ae28-139ce0d18538'), UUID('c6c98a32-c8ac-44ea-8fe9-0b74ec920cc7'), UUID('9d9d563c-ee1e-44be-9a05-b7c89dde5591'), UUID('63ef920b-99aa-45a9-aebc-9bfa844c510d'), UUID('72589019-b9c8-47d4-b1b9-75775ef10565'), UUID('a89f9e97-ba76-4497-ae67-9541d2ac71e7'), UUID('8c766812-f642-4cbb-b208-68d341d1163d'), UUID('1d663dd2-9aaa-4f68-bde9-9c4080ae66ef'), UUID('70c186de-4f3c-4068-a8e8-655a57d9f779'), UUID('8446734a-96ef-4af3-9c7e-c619bb68c514'), UUID('fe4e81f0-0f0b-46e6-9ffb-8d4b41bbc6ee'), UUID('aafecb7d-1463-44d5-812f-47afff5549e5'), UUID('d32897e0-3f0f-4470-86d3-2355ed29461a'), UUID('1714b627-ee0d-416a-99c7-4255c5568a64'), UUID('20b39c79-312d-479b-a3e9-616abb2eed24'), UUID('0f23a4d9-4f26-4b33-8dc0-02fd76ed5fcf'), UUID('a68643da-5345-442d-9fba-35a895b5e1ad')], elapsed_seconds=3.1419191360473633, errors={}, uuids={0: UUID('dd8b4325-e532-4ebc-9cc5-7a8fbcc0b6f0'), 1: UUID('ccdf9386-b06e-4681-a74e-c4ba8b8858d1'), 2: UUID('9fd55e66-0fa4-4d2e-9a7a-3de24122d9c9'), 3: UUID('cd000d17-9b82-4658-a5d1-68d45e6b2166'), 4: UUID('7b09dad1-849d-4e50-b464-ce665089c627'), 5: UUID('003cc461-b4dc-43dd-a098-481f923a66fa'), 6: UUID('7927786f-715f-4642-b85b-c5635a6e534a'), 7: UUID('8250e162-799f-4d3b-9ce4-537ef9e3ef0e'), 8: UUID('7beaffce-abf8-43ca-8b6a-f786a304db0e'), 9: UUID('f7aae4b8-7993-44cc-8cec-8a84ad847597'), 10: UUID('56e97afd-1fa6-4906-8efb-d4a7e2adc0c5'), 11: UUID('3ac38fe9-62a7-439b-b47c-6788a37d961f'), 12: UUID('ae5c9052-077c-485b-82a8-134478265040'), 13: UUID('2aa5aea3-98c2-48c8-8299-845d686aa81a'), 14: UUID('c8dfe563-02eb-4b2a-82a5-2880d959f9f9'), 15: UUID('ad43a797-925b-43b2-bd5d-d22c9f792ce4'), 16: UUID('afb883e1-6a7c-413d-9b9e-74d1ca4257f1'), 17: UUID('1c18c714-8188-406a-9cc6-d457d859f787'), 18: UUID('a0a7ac12-c91a-4336-a96f-38dbd58c591b'), 19: UUID('bd1fcbd3-a831-47b7-9627-cc67b6b7d349'), 20: UUID('e2e34db5-29a0-4ead-8050-14bb1af59ea4'), 21: UUID('3f1eccce-8a67-425a-a213-a51ccc35b489'), 22: UUID('73aa1a75-defd-4011-a1b1-12c8254b540a'), 23: UUID('32c8be81-8a6f-4ee0-ba22-3770bbdfb62c'), 24: UUID('84939e0b-0155-4a98-83e2-883753b5c65b'), 25: UUID('137fd749-08b0-45a2-b794-5e58f5750e71'), 26: UUID('2bba7ba3-7b36-4ba6-9631-d0334a77a8de'), 27: UUID('4795c704-c743-447a-a261-097b1d7240f9'), 28: UUID('33b9b746-744c-48a4-be36-736705276c9f'), 29: UUID('b176825a-8959-446c-8df6-6ae189ac5c2b'), 30: UUID('447aa480-7690-405a-bb87-21ec8019a81e'), 31: UUID('9077b96a-7d60-43e2-a42f-ee231ff7f9e6'), 32: UUID('46a144c0-ac4c-47e4-ba29-4c73274ce62b'), 33: UUID('a092abe2-41ba-44ef-a1e5-06a118d57e99'), 34: UUID('2c33babe-93a4-4694-8f75-ce8ea09427f4'), 35: UUID('c4b784dc-b505-432a-9d5c-38273c04185d'), 36: UUID('44d78666-32c8-48b2-8703-f16b76bf505c'), 37: UUID('c47bbd61-3fb9-4a10-bd31-b65726fcf680'), 38: UUID('39948a67-6a3a-4b7f-bf58-07c107f3c83c'), 39: UUID('f90fd746-4fd3-4a51-81cc-52182678a9c3'), 40: UUID('2005b3ab-ca42-4d1b-a0b3-9aa0fc72da6d'), 41: UUID('e62a4db3-721c-454a-8133-ba40a8426632'), 42: UUID('6cb7f8fa-aca8-4974-9a1c-640e6510bf47'), 43: UUID('ed51fcbc-2c73-4530-82dc-229f8600b100'), 44: UUID('a542b352-e247-4e34-b15e-a16a9a60cd9b'), 45: UUID('cda8bb94-9d5c-4aaa-9588-e4504b72b5db'), 46: UUID('90784ffa-7cfd-4bfe-bd42-ec5c8dec327f'), 47: UUID('cb171e3e-db99-4944-bdad-83ec0a3b4246'), 48: UUID('61e56777-8d76-472c-b2db-a190c0cc689d'), 49: UUID('05bb273e-273e-424e-bb88-627453c47ca9'), 50: UUID('dd988a67-7737-4125-9c7c-473b68fce4dd'), 51: UUID('e6190647-618b-4f57-b737-1c34da4430be'), 52: UUID('977e501d-2476-4760-a160-45555bed3100'), 53: UUID('1e2fb73b-9801-4254-945e-a707758c9715'), 54: UUID('674af04e-f6fa-48ce-87ce-af010d9094f9'), 55: UUID('0f71e81e-6644-4b44-a5ff-dfb1b79ce326'), 56: UUID('56976afb-1739-4099-883d-642671752e3f'), 57: UUID('feab5165-4652-4172-b0e2-775d4bf74482'), 58: UUID('a3e23f3f-8dad-4c5e-a309-44bedf2fe688'), 59: UUID('1463ca98-2e43-42b0-8ff4-283e1b5241d3'), 60: UUID('dc30ebed-b15e-42e1-9a33-47b9169d3240'), 61: UUID('fc1fd752-3880-43a3-9f7e-3e45b458aa29'), 62: UUID('dca31197-eaf9-44d3-88de-3aff08022638'), 63: UUID('e7f98cef-a164-4cd5-bc5a-7a3bd3416909'), 64: UUID('21114549-d258-428c-b635-0886069eabb7'), 65: UUID('f06d1d88-544f-4cb5-bfd6-e0b6afdf2ff5'), 66: UUID('fdd94a48-cb98-4caf-ae61-a4249c890d97'), 67: UUID('4de9667f-ea84-499b-8a7b-fb11eea42d00'), 68: UUID('e5075a2a-1ec5-49c9-ac1f-395aee6a94bb'), 69: UUID('1ce78051-b9a0-4a3d-957e-f45dd80f45f3'), 70: UUID('46e7d98c-bcb9-4e4f-94ee-6e0eb0787556'), 71: UUID('fb704025-db02-4473-aecc-d605e640e250'), 72: UUID('36dacf04-e59e-4617-a19b-fe2bcc65a05b'), 73: UUID('2790ae80-7211-41df-afb5-c8b51acec400'), 74: UUID('eaaa06b0-3d91-408c-af2e-a18aa58b6795'), 75: UUID('2c5e4f3a-5e18-4503-9e8f-87d169268fe0'), 76: UUID('e0d762cc-fbaa-44e3-852a-507e30e210a9'), 77: UUID('6d02142c-2fe8-46ef-b580-4ab6b941fbe8'), 78: UUID('0f722c6a-c56b-43c5-a0e6-3a89b981e662'), 79: UUID('ffdcbfe1-cbf0-41e0-a5fc-781cdbad6831'), 80: UUID('c1e5cf9d-0801-4628-975b-131fdc06eee2'), 81: UUID('8bb28328-dd48-4f54-83d6-2fa614ed9372'), 82: UUID('ba640a21-f912-447f-aaaf-c6f7e2aebee2'), 83: UUID('5af803a6-8c01-4caf-8f41-818fc0e90c65'), 84: UUID('a246379a-05a4-4aad-9f60-cd0d5a0bc9ff'), 85: UUID('712b509b-3a22-4197-b957-8e156b4aafaf'), 86: UUID('a9dfbabf-daff-4843-a923-98d321ceff25'), 87: UUID('57c3d273-0f2e-475f-b3c5-404050aae5ea'), 88: UUID('69b1c624-9bee-476f-8062-008276f40a91'), 89: UUID('996c17f6-1e14-48e1-902e-e8de47b9f1a6'), 90: UUID('98eb9549-f68a-4827-82d7-1b3fcce2f3b4'), 91: UUID('86b11cbe-9fb2-4845-88e5-7777a413f04a'), 92: UUID('3666b797-3c26-473c-bb65-446701cb4730'), 93: UUID('4726a978-d59b-4785-9ed7-fbba64e547bc'), 94: UUID('4586d5aa-1745-406b-b21b-6c612299dd6c'), 95: UUID('1ef57354-79be-43d9-8985-15fba6da4c4f'), 96: UUID('bb71f5d4-5b9c-47e3-bba0-1879ebceebc2'), 97: UUID('aaf6da65-704f-44ca-bcb1-1e493d950ff0'), 98: UUID('0ad56952-4884-43ff-8f16-47438928de70'), 99: UUID('9fc946d9-2e7c-43c8-9528-fb4433fedb36'), 100: UUID('efef5046-a79e-4d47-b129-b8c1ae867774'), 101: UUID('aa8e50cd-c144-414c-b397-c9d7b0e340b6'), 102: UUID('b8abb3d9-d078-4fdb-952f-6effa5642ac5'), 103: UUID('3571d0dc-0f63-4ad6-8ded-b23b0c27cebf'), 104: UUID('c2efdb90-b543-48d8-969b-4e816a4bacdf'), 105: UUID('8aaa5e5d-51ac-4e4a-9cc1-0829607f9f05'), 106: UUID('ade2b2ea-a7c3-483c-8a19-288ab62a0d9b'), 107: UUID('ef7406b8-17d0-4649-9ee2-d4c6ff7a9b3e'), 108: UUID('412f4d4a-2c79-499c-96b7-4e8b9ebb2145'), 109: UUID('d46413ed-c51d-41d9-b8d4-9764b7a3c6cc'), 110: UUID('5b4ad1a1-d201-48b1-9b82-00517fe68750'), 111: UUID('1adfecec-8086-4308-b0f5-58099c6574d5'), 112: UUID('b74e162d-b4a6-49a3-9e6d-a509f7d60b22'), 113: UUID('2a41f2a3-e9be-4f50-b45f-f53f4ebf8c44'), 114: UUID('795cb152-e250-42ea-9766-107a878a5f6b'), 115: UUID('3841f4bd-2ea9-4db5-a55a-211d4b249ffa'), 116: UUID('95782914-2b15-44f1-b07b-040125a31208'), 117: UUID('8ef9c5c1-4093-4ef2-ad8d-fbdd4fb92d54'), 118: UUID('439849e7-b3e1-4fd7-91ba-82e5575ccdf9'), 119: UUID('30fd077c-69fc-461b-b469-a256e2ebe44e'), 120: UUID('8e3cb9ce-c17c-45b9-860d-5fd3c5998f8b'), 121: UUID('51a37d1e-dc4d-4cd0-9e9b-b63960b42c1c'), 122: UUID('ff78b470-3c12-45ac-bd40-e4b130de2c2e'), 123: UUID('92198eea-b7d0-43ca-905c-6cd0b4cf3001'), 124: UUID('7d0af991-e0fe-4c54-a644-7bd535e4e736'), 125: UUID('fb516d8c-8bf3-47d5-a1e0-3d595b4cf9bd'), 126: UUID('02dc8f62-f948-4e0f-8d92-283c03298cff'), 127: UUID('7599591b-34db-4845-b9f8-06d52f7f417e'), 128: UUID('87e2c809-936e-40db-8408-abe53094cda6'), 129: UUID('f4d6a0ea-f870-4d1c-9a0e-b23b97541e72'), 130: UUID('e4144c56-f90f-4ff4-a042-56d7549b5237'), 131: UUID('b55849d1-2077-4211-9fdb-2eba51a4545e'), 132: UUID('c83b3777-2959-46aa-abff-a6208c9ef13d'), 133: UUID('5f1b8c15-1ba3-4968-8811-b019a5cbe72a'), 134: UUID('7a5d2fca-67bb-4f30-aa2f-d1e630a2c8f5'), 135: UUID('7b14deb9-919f-49cc-9307-e0e90dd463f3'), 136: UUID('7ea9b7fd-3c61-4521-b7c6-e619b1056621'), 137: UUID('9e77632f-e266-4008-a428-4aec9fe821a2'), 138: UUID('e198dca2-facb-46f7-b2a5-1a3188353ff0'), 139: UUID('9a6771d7-d3fe-4546-8631-5595b62b9f40'), 140: UUID('b6271d1c-1b67-41ab-909c-d620584e5616'), 141: UUID('992bf94c-7d11-424c-bc31-85fc2d1af09f'), 142: UUID('5a722621-88e2-4314-8191-920549b3b9fa'), 143: UUID('bc4d04bd-5f78-4e26-ab0d-b2b021cee153'), 144: UUID('93d42259-d142-4d1b-bcf9-f0f50941be19'), 145: UUID('d149959e-b031-438e-aa97-c7feaf0e81a2'), 146: UUID('8f1d02f8-3fd4-46d2-8253-2ac6b8931d74'), 147: UUID('edc6a78e-29df-45a9-abda-f978f214ea92'), 148: UUID('e244d861-f5e9-47f2-a26a-d016c0b32038'), 149: UUID('56fd4f1b-957f-4488-82a2-fa2e8c36ab9a'), 150: UUID('945b1346-64f7-4ec1-bd7f-5dcf2cc74e93'), 151: UUID('967f3f56-5b07-46ae-b66b-2fe0b994ef80'), 152: UUID('0cee987c-44e2-431e-8117-2f5bc95235a2'), 153: UUID('b3a13534-ac5b-4711-9a92-2d6237488b9c'), 154: UUID('8ddef782-58d4-46ca-8119-66f317874ea3'), 155: UUID('28f0f8a3-f1be-4e92-8641-5cbfd59ee4a9'), 156: UUID('b1bbc524-ec82-4e73-92da-9040d72a6bde'), 157: UUID('3e7b5b7b-8700-4505-8edb-e77e8527e2d4'), 158: UUID('1e1f39a9-a599-4a40-ab65-146d294f8bb0'), 159: UUID('0841fdb9-55a1-4c49-ad4b-434f188dd299'), 160: UUID('9f9944b0-b0de-4ea2-b364-dea88bb44355'), 161: UUID('a8d34a8d-f8d5-426e-9467-7f14f0002532'), 162: UUID('2c233446-d9ed-4ea1-a278-cceabee9bf39'), 163: UUID('13440d9a-4670-4c74-a96f-e7248321af4a'), 164: UUID('9fb33251-4475-418f-820f-8b653c61987a'), 165: UUID('9996d911-06a0-4392-830e-e56f0d52eb7c'), 166: UUID('c7eef769-8d09-4dd6-b3f1-b5c6cf853001'), 167: UUID('ca336081-acb2-487d-828a-fb64c821ea48'), 168: UUID('55b5a674-3c2e-4b37-9708-08f6e6623177'), 169: UUID('a9cc259c-74c6-4cfb-9f04-8e488690fe91'), 170: UUID('ad85f3ac-011f-4df1-9472-93bec90d06ef'), 171: UUID('4f3ff4eb-7452-428e-bc43-39a74acbab1f'), 172: UUID('3bfb2ad1-5c71-4433-8864-f3afd8805100'), 173: UUID('4810ea51-1b11-4cf5-85ee-18ea4b90bdf6'), 174: UUID('ad2e9baa-e48b-4f9a-a719-15e93305f5b4'), 175: UUID('86aaaccc-2c69-4ef3-9513-2328c2ee944f'), 176: UUID('7c9b1d75-814c-403a-93d3-6958c4b59f50'), 177: UUID('6ec5d1ce-e829-46b2-a7e8-934786b0ea89'), 178: UUID('8e03c3d9-1a1a-400b-802e-d673ef9c7b2e'), 179: UUID('75a7b2bd-3f41-4d0d-8265-6c7f804bb21b'), 180: UUID('0fcd2186-31fc-45da-842f-5142d308681d'), 181: UUID('6745df8c-c41f-44fd-9731-8ac508e9fe39'), 182: UUID('7eb6a962-0013-4bf0-9870-f0b9c71cd08a'), 183: UUID('bc7cc1b0-4d68-4264-ad52-7207bd9995ba'), 184: UUID('0bca631b-26be-4709-a043-c85c6acb1f4a'), 185: UUID('bbaa77f5-388d-4a5d-b275-866cc0b9f1c2'), 186: UUID('95dec662-5ada-4b41-819d-53c207b1b8d6'), 187: UUID('fb93ed8e-f271-4053-83be-1b9f93a07599'), 188: UUID('02c0f240-068c-4b8f-992b-c3abf6a93367'), 189: UUID('436e0700-aad1-4c33-a36d-73d80ca91f35'), 190: UUID('b85bbda7-e4b4-4a03-a066-825aff23d4bc'), 191: UUID('5733d9d0-57a4-4186-87eb-385714906eaf'), 192: UUID('e37f3834-8975-453b-96a3-08bdeb63a96c'), 193: UUID('dd32db42-3b74-4256-876f-fc9bd68eb9a7'), 194: UUID('169186cd-81ef-4d59-9d5a-20e32f9aa688'), 195: UUID('73269269-6f67-4d7f-815b-e5ce0a1cae9f'), 196: UUID('61d3493a-dadd-4cc6-ab3b-0b36bf0a61a9'), 197: UUID('42d245ee-1ffe-4207-b7b1-3321d8c19212'), 198: UUID('9f3ff94b-71cf-4d7f-b213-88ecc32af767'), 199: UUID('914f6775-ea5f-481a-9070-95ffa1a1c990'), 200: UUID('969990a0-44de-4acd-9a6e-558749260e90'), 201: UUID('50cc0ef9-8a95-425d-b5a0-b2df64b8d6a2'), 202: UUID('fd3dda16-2f64-49c0-807d-10a30eb87f21'), 203: UUID('f5922977-aa6b-4eb9-8d2c-0ceda7b01392'), 204: UUID('41690cc6-ce9c-4b90-9f79-ff3d8704d474'), 205: UUID('1d54e396-0c9e-40b3-a9f3-5fd28623db34'), 206: UUID('e013fbfb-2d1b-442b-890d-0797eae2ffc2'), 207: UUID('a2d0fb40-530d-438d-93c1-51b9e05d49cc'), 208: UUID('a8ac9c53-59d0-4af4-9d0b-9c41afacb27e'), 209: UUID('ef598219-aeba-4198-aaaf-fd87b081382d'), 210: UUID('2df81eb4-aa19-4d3b-9cca-74620b645468'), 211: UUID('dd329a61-6854-4c86-b103-88521171bc2c'), 212: UUID('f4887da8-2cbc-4978-8af1-fc076a3eb3e5'), 213: UUID('339fb178-5a89-462d-a176-ae50450f158f'), 214: UUID('1d8a8413-1a17-4b4a-8c89-f54ee601e25d'), 215: UUID('2150ba67-2f4b-407f-b317-5bd4fa267bd8'), 216: UUID('31f9ff31-ff4a-47ce-85c7-45c344156549'), 217: UUID('1ca79a63-f668-4812-923a-dd2100c7095f'), 218: UUID('ba9faa1a-1f3c-47cc-b90c-ee889a6babda'), 219: UUID('f17279d4-3ff2-4498-9508-36e147847117'), 220: UUID('8891e396-54e7-4ced-ad3e-313439ac7cd7'), 221: UUID('67e1538f-63b2-420c-a398-daf2667d4d30'), 222: UUID('f9ad9210-9659-4b48-926f-03eb472c0740'), 223: UUID('912b7a93-1804-4f07-8201-d87acb370a13'), 224: UUID('edd39f36-bdf0-4408-9d90-ad7dd4cf0c1a'), 225: UUID('544359fb-5798-4e97-ab63-349579dd484d'), 226: UUID('7a87b7a5-ccb6-405e-b2d8-8af1498fce59'), 227: UUID('61797b11-449f-4e16-afab-c1c64c456f93'), 228: UUID('f946995d-48a0-43f4-8fb0-549c8965839e'), 229: UUID('d391b15e-2c8c-4e81-b046-f3a607d7e7f0'), 230: UUID('08d70c81-fdf5-4ccb-9a28-f01b78bcf76d'), 231: UUID('51ff4e70-c8f6-4269-9a2e-baf62d19d10c'), 232: UUID('f0658103-bed6-4343-90e2-2e74c90c0b34'), 233: UUID('3c54f9b5-9300-4991-ac91-767da67a29bc'), 234: UUID('c1f84d05-7817-4c06-a137-4d0f0777319e'), 235: UUID('4b59cfef-30bf-4234-82d5-b0e461a54a3d'), 236: UUID('cc61e0dd-5133-4f96-9f01-802ab499d208'), 237: UUID('9b6575de-a005-4b52-8ec3-0a78b3061133'), 238: UUID('5f2463a9-a6b4-4ae2-b969-d9c5e15d8cfb'), 239: UUID('ef40e5b4-e926-43fc-80e3-a8835f408677'), 240: UUID('b874c017-b634-4b05-83f2-d482942bf309'), 241: UUID('02b4fc8a-a69e-4779-9d37-905eb0f55c40'), 242: UUID('533ade3d-aa80-4061-8aca-51df440228b3'), 243: UUID('d29088ed-9492-4c22-b1f2-5c5b373cc54f'), 244: UUID('d857bd07-ef42-4165-825a-8d7dd6da53f2'), 245: UUID('a14184c7-8c9c-4477-9b94-8bca8040752b'), 246: UUID('97b96244-d30b-41a2-8ce9-8b346b7f7929'), 247: UUID('c56e413a-3903-4ec2-b64c-b5f3ab33b117'), 248: UUID('cc04a944-c6e0-448f-a320-c9cf275f3a95'), 249: UUID('5d299352-54f4-479c-b846-0fafe86b6bb7'), 250: UUID('47f175d6-5192-4e36-bf1f-528a8bb27e0d'), 251: UUID('b6f08e04-792b-4f42-ab07-9eda96e0e11b'), 252: UUID('f1b33e3b-7cc7-47aa-908d-9923a5ef8d2d'), 253: UUID('4d61ea7b-fdbd-4778-bf13-97d549ccbcbd'), 254: UUID('f05d9b2a-c573-4579-b468-e6dcdb76b16a'), 255: UUID('d9ace028-d3c4-4b73-87d0-8b0e73af4e55'), 256: UUID('fda25771-82c8-4820-8383-b411a2b8ee0e'), 257: UUID('fbf24d17-c533-462b-b568-59b2d2431594'), 258: UUID('1cf1322f-0bb2-4de0-a986-3134f1d6dd1e'), 259: UUID('521a5de5-721a-4974-9282-3c82052d23f7'), 260: UUID('3dd51a66-2610-4d6f-878e-e01b09869f3a'), 261: UUID('e651b070-44ec-4e2a-aee9-bd092a7f5a35'), 262: UUID('54d1de8a-1bf2-4473-8ca5-a6029f85b735'), 263: UUID('07f8bcc9-ca47-4821-b59e-43e331705452'), 264: UUID('b40d47e8-ebb9-430f-9911-d00928fde882'), 265: UUID('2065fd22-278c-486f-9bcc-2a8d5b61e9b4'), 266: UUID('4320ae26-cff5-4a9c-b779-e6f4d726161e'), 267: UUID('2b4210b6-8acb-4063-b13f-dfc195f8ec3d'), 268: UUID('fc470768-6797-42bc-a8ee-34c11efa0987'), 269: UUID('5de56290-290f-4e6d-b0a0-81cb48866aa2'), 270: UUID('63811656-e1ac-4952-af1c-cf19b596fdd0'), 271: UUID('2496e0a2-a6d5-4e62-a05b-d3b84f6854f0'), 272: UUID('5ad6ff18-89d1-4576-be5b-3d90a0263cb0'), 273: UUID('cf88e233-6048-4aed-8364-6beffce5260b'), 274: UUID('c7171af2-6d93-48c0-9973-01ab4806fd49'), 275: UUID('02ccab14-5b9c-4897-94ae-b86329a43b74'), 276: UUID('ca280250-fc0c-480d-aa7f-8de9885b8003'), 277: UUID('18da748c-7f9f-4040-9956-04f1669594fe'), 278: UUID('9ba0a348-991c-4bc0-ac1e-98f63b938d90'), 279: UUID('cd79eb10-5b78-4696-9bb9-03c4f5c5b300'), 280: UUID('3ebfa2f4-1b01-4de1-b982-a3f905f5b71d'), 281: UUID('c6813473-4bdd-4508-ac73-c878d2799b1c'), 282: UUID('3f7e637d-1586-452a-8578-18328e17e0f5'), 283: UUID('02b01655-44a1-4aee-8cb6-04e91e0a55fd'), 284: UUID('bd71b318-fb3e-4e05-9392-13ee9d0fc30d'), 285: UUID('334f7d0f-807d-4e1d-b1ef-d781fb2c0229'), 286: UUID('0c979058-f442-4c2a-adbd-a3f52f0a8899'), 287: UUID('dfd98a29-430a-4a82-b9c7-72eeaf5fd9a7'), 288: UUID('9f1aab98-ae72-4325-9c56-5b0909d3b9a6'), 289: UUID('e9117606-ecf1-4123-a90a-2f24cd7a9936'), 290: UUID('0de145bf-9054-42a8-bf75-a1f66ac0feed'), 291: UUID('3644a7b6-5797-426a-8bf5-ccedaabfd348'), 292: UUID('7c5c1b11-5ab1-42a4-ac7c-97bf81042a21'), 293: UUID('3846191f-2f64-4e5b-8468-579f832db8d2'), 294: UUID('9c0676ab-db99-428c-9ee9-ff38b0cd0321'), 295: UUID('d3a60de1-418a-49ab-a78e-64aade15c074'), 296: UUID('c1a20850-c9e9-4aaa-851c-50080da43cf5'), 297: UUID('3a6d7999-3647-43ed-849f-b9376065253e'), 298: UUID('44d4be6c-cea6-445f-92c6-b14229df6818'), 299: UUID('b0c7dc8d-8a30-4e2e-9012-f2b21dc6d140'), 300: UUID('8542318b-15d2-49be-b4d0-41620d7dfbd5'), 301: UUID('f7a63c92-2cad-45ab-bdd1-ca7c8fc44fc8'), 302: UUID('6f045a8e-c017-4725-b8a0-d8b55d327d37'), 303: UUID('72c629b2-276f-4946-8cdf-72a6e0cd1f31'), 304: UUID('b0a74087-8e0a-4b86-9e10-561ad5cdc58d'), 305: UUID('392f5006-9396-4370-a833-fb9927d2530a'), 306: UUID('3de95c8b-b0ac-4e9f-85af-5ae2506f7550'), 307: UUID('6bb37db2-a412-414f-80e0-8f76aebfe7c2'), 308: UUID('c8a1eec4-7966-4f14-bb38-0b06dbfd3bf7'), 309: UUID('9bca73af-6fb1-453f-971b-475c3ed19041'), 310: UUID('4b7d7cd7-e13b-40ef-ac0d-a695f43e9fd7'), 311: UUID('3d593ff8-5751-4d29-ad94-fffb728a581e'), 312: UUID('c5e1edfb-ee84-4f5d-8d2c-9bb6a013e2c1'), 313: UUID('2833bea2-66c3-4373-8ca2-9538ed9478ac'), 314: UUID('304d204d-f748-409a-b6e4-4f054abe92d1'), 315: UUID('eb7ee369-15ab-4554-a2f7-4a61be718def'), 316: UUID('29e688b0-cf05-4f49-9bbb-f9d0486ca606'), 317: UUID('34daa299-a31d-4429-a55d-44f7e1dc5d6b'), 318: UUID('02cdfc9d-5834-438c-9657-2772f42611b8'), 319: UUID('8dda5d15-e743-47cc-a1a2-d74c354eb7d9'), 320: UUID('b3490003-b534-4474-958a-608a29d93e9b'), 321: UUID('58718d78-ac77-4a06-8ac0-84ca1e40d8ac'), 322: UUID('6a4a9508-c98f-470c-974c-6e5ac7024b7c'), 323: UUID('965958ba-a3af-48ad-a0be-646d7abd4a4e'), 324: UUID('5f6d34cc-c060-4223-876a-dac997bf2568'), 325: UUID('87934357-3e30-429e-9948-e9714ad3eca0'), 326: UUID('efdc03a3-d775-4fa6-a6ee-1c034302c59c'), 327: UUID('43b6e1f2-e454-48ff-96b9-da351692b033'), 328: UUID('9f33ce6d-6994-4f9d-a85d-e5764ed39194'), 329: UUID('b1e2a415-fc12-4491-80e2-b5c521e902c4'), 330: UUID('84d5ddea-1acf-445a-95a8-6996062120d8'), 331: UUID('607e20c9-fb80-4c33-b597-c6dc0e6ae152'), 332: UUID('71959149-5645-4f6a-85c7-1d65817c4dc2'), 333: UUID('c3e81644-c576-4dcc-b580-3ebad17af350'), 334: UUID('12c5ef6d-5b33-40bd-8c96-535af897afa8'), 335: UUID('81fc3511-9ccf-46cf-8feb-10d794a1f9d8'), 336: UUID('4aaa6275-48af-460b-be9c-d5c2e711fa6a'), 337: UUID('c9905ab7-da62-447e-994a-13d2ace84f75'), 338: UUID('4212a662-f598-402d-a02a-6e4fbb2985f8'), 339: UUID('f10a7b1c-c9d3-4e33-8744-e47661eb4ec9'), 340: UUID('cd6ac2db-03b6-4e5f-bd70-e5c1e00c35d3'), 341: UUID('072ca3d7-7de2-466b-9811-f69e15468d68'), 342: UUID('eaf37f01-1358-4d49-b95c-2c8274be2272'), 343: UUID('4c3dc709-7b74-47fa-a0c2-dccc5a746e7c'), 344: UUID('77be54c9-cc9a-4372-8d85-0ea580119d95'), 345: UUID('3cc676b5-a6b9-4b7e-8e17-87a8fedd7e7d'), 346: UUID('8b74dbf8-fbb1-4f11-b213-0b3c379562ae'), 347: UUID('cdcbf957-51e4-4dca-9bfd-82767e322f0b'), 348: UUID('d6b2d43c-e330-4696-835f-faa820b4d9ee'), 349: UUID('2aad7ce9-41dc-4058-a366-aa6366ee9daa'), 350: UUID('a79430de-f9bf-4147-8ce5-7a0f0370a623'), 351: UUID('94b63afb-7732-4215-a403-897a645cb253'), 352: UUID('a4bf988f-7122-4e5c-a464-501e4fce8ae8'), 353: UUID('0c910a40-85cc-45f5-aff5-4851dee2eb65'), 354: UUID('9056a95a-a0ab-486f-9b07-b3f35f5fd9fe'), 355: UUID('d9b63f6f-4a85-447a-ab7c-7c2dd5f617f1'), 356: UUID('a8fbc99b-03f5-4ea0-a8ba-962137f4a9a8'), 357: UUID('4955c1c8-2ffb-4cb6-9ae8-3b9622174fa6'), 358: UUID('87b71231-2a5d-4cd6-8158-6bafed20d73d'), 359: UUID('e6ed9388-aba5-4db7-be61-7f06b9179bf5'), 360: UUID('510dd213-7b9e-43eb-8f7e-afc178d43df2'), 361: UUID('1822d25a-a2fd-4419-a9d9-c6593008c0af'), 362: UUID('d89db334-3289-4c28-aab3-b1108411f0d9'), 363: UUID('f3d0e1e6-3cc7-404f-bb8f-898626221dfb'), 364: UUID('bcbaef00-8e64-4b5b-998f-985f7f5eb154'), 365: UUID('3311af8c-cc49-477e-b95f-2dfbe7b6a669'), 366: UUID('47de9b56-8d16-43b3-902a-71477fb06cac'), 367: UUID('70f90a86-c59d-4de7-a214-b5d2090bac6c'), 368: UUID('b6387971-f607-4e9b-87eb-c5ecd060b7f7'), 369: UUID('623db787-166a-48f6-97f9-449220e3a85e'), 370: UUID('6e35fa18-a743-4f43-ac02-bd9cd0b11cfa'), 371: UUID('2b004ceb-9372-4617-8cc0-4b907890bd23'), 372: UUID('676a3883-d22e-436a-900a-25450d4c4257'), 373: UUID('48763c52-c5ed-4a6e-b971-afa876b2958b'), 374: UUID('4d4066cb-c404-4935-b700-2b9fd8f180c4'), 375: UUID('a2443801-0c9b-4ec4-9024-64f7cb031b6d'), 376: UUID('2a6973b1-f7e8-421b-9089-0296cd98d0f0'), 377: UUID('60cd6745-7c15-434d-acdd-0fd5ae21f046'), 378: UUID('368a6d77-9d28-4ca0-ab0a-5de0a8b054c2'), 379: UUID('1de7ef12-1003-4167-8efd-611b04645b86'), 380: UUID('6f81ff3c-0b91-4bcf-a181-006c3ad6faf4'), 381: UUID('57969605-a692-4737-8575-9e6a22d58c28'), 382: UUID('3de31e30-4b9f-47b5-a6bd-720d1b2fd559'), 383: UUID('ce6e8213-e00b-43ee-aa61-527fddb515ba'), 384: UUID('64866225-87e0-46a6-bc0a-787a71c7ac59'), 385: UUID('9a3e1272-de32-4615-8bee-43dac323c72a'), 386: UUID('e713ba8b-0bcf-4e0b-b90b-006e135273c4'), 387: UUID('f369c820-f593-4e63-b4ff-7e55e70405ce'), 388: UUID('fccca985-b579-42ec-87ee-6f5a4bbe2cd1'), 389: UUID('62638161-0582-4352-adfe-7e4f18232ef4'), 390: UUID('d48673ff-904d-48d6-ae28-139ce0d18538'), 391: UUID('c6c98a32-c8ac-44ea-8fe9-0b74ec920cc7'), 392: UUID('9d9d563c-ee1e-44be-9a05-b7c89dde5591'), 393: UUID('63ef920b-99aa-45a9-aebc-9bfa844c510d'), 394: UUID('72589019-b9c8-47d4-b1b9-75775ef10565'), 395: UUID('a89f9e97-ba76-4497-ae67-9541d2ac71e7'), 396: UUID('8c766812-f642-4cbb-b208-68d341d1163d'), 397: UUID('1d663dd2-9aaa-4f68-bde9-9c4080ae66ef'), 398: UUID('70c186de-4f3c-4068-a8e8-655a57d9f779'), 399: UUID('8446734a-96ef-4af3-9c7e-c619bb68c514'), 400: UUID('fe4e81f0-0f0b-46e6-9ffb-8d4b41bbc6ee'), 401: UUID('aafecb7d-1463-44d5-812f-47afff5549e5'), 402: UUID('d32897e0-3f0f-4470-86d3-2355ed29461a'), 403: UUID('1714b627-ee0d-416a-99c7-4255c5568a64'), 404: UUID('20b39c79-312d-479b-a3e9-616abb2eed24'), 405: UUID('0f23a4d9-4f26-4b33-8dc0-02fd76ed5fcf'), 406: UUID('a68643da-5345-442d-9fba-35a895b5e1ad')}, has_errors=False)"
      ]
     },
     "execution_count": 12,
     "metadata": {},
     "output_type": "execute_result"
    }
   ],
   "source": [
    "# create the weaviate collection chunked by sentences\n",
    "if client.collections.exists(\"test_naive_chunking\"):\n",
    "    client.collections.delete(\"test_naive_chunking\")\n",
    "\n",
    "naive_chunking_collection = client.collections.create(\n",
    "    name=\"test_naive_chunking\",\n",
    "    vectorizer_config=wvcc.Configure.Vectorizer.text2vec_openai(),\n",
    "            properties=[\n",
    "                    wvcc.Property(name=\"content\", data_type=wvcc.DataType.TEXT)\n",
    "            ]\n",
    ")\n",
    "\n",
    "naive_chunking_collection.data.insert_many([{\"content\": c} for c in chunks])"
   ]
  },
  {
   "cell_type": "code",
   "execution_count": 13,
   "metadata": {},
   "outputs": [],
   "source": [
    "def naive_chunking_query_function_weaviate(query, k=3):\n",
    "    results = naive_chunking_collection.query.near_text(\n",
    "        query = query,\n",
    "        limit = k\n",
    "    )\n",
    "\n",
    "    return [res.properties[\"content\"] for res in results.objects]\n"
   ]
  },
  {
   "cell_type": "code",
   "execution_count": 14,
   "metadata": {},
   "outputs": [
    {
     "data": {
      "text/plain": [
       "[\"\\n\\nDemographics\\nMain article: Demographics of Berlin\\n\\nBerlin population pyramid in 2022\\n\\nBerlin's population, 1880–2012\\nAt the end of 2018, the city-state of Berlin had 3.75 million registered inhabitants[103] in an area of 891.1 km2 (344.1 sq mi).[3] The city's population density was 4,206 inhabitants per km2.\",\n",
       " 'Foreign residents of Berlin originate from about 190 countries.[112] 48 percent of the residents under the age of 15 have a migration background in 2017.[113] Berlin in 2009 was estimated to have 100,000 to 250,000 unregistered inhabitants.[114] Boroughs of Berlin with a significant number of migrants or foreign born population are Mitte, Neukölln and Friedrichshain-Kreuzberg.[115] The number of Arabic speakers in Berlin could be higher than 150,000.',\n",
       " 'Around 130,000 jobs were added in this period.[150]\\n\\nImportant economic sectors in Berlin include life sciences, transportation, information and communication technologies, media and music, advertising and design, biotechnology, environmental services, construction, e-commerce, retail, hotel business, and medical engineering.[151]\\n\\nResearch and development have economic significance for the city.[152] Several major corporations like Volkswagen, Pfizer, and SAP operate innovation laboratories in the city.[153] The Science and Business Park in Adlershof is the largest technology park in Germany measured by revenue.[154] Within the Eurozone, Berlin has become a center for business relocation and international investments.[155][156]\\n\\nYear[157]\\t2010\\t2011\\t2012\\t2013\\t2014\\t2015\\t2016\\t2017\\t20',\n",
       " \"Of the estimated population of 30,000–45,000 Jewish residents,[130] approximately 12,000 are registered members of religious organizations.[125]\\n\\nBerlin is the seat of the Roman Catholic archbishop of Berlin and EKBO's elected chairperson is titled the bishop of EKBO.\",\n",
       " \"Polish, English, Russian, and Vietnamese have more native speakers in East Berlin.[121]\\n\\nReligion\\nMain article: Religion in Berlin\\nReligion in Berlin (2022)[122]\\n\\n  Not religious/other (72%)\\n  EKD Protestants (15%)\\n  Catholics (9%)\\n  Islam (4%)\\n  Jewish (1%)\\n  Other (0.5%)\\n\\n\\n\\n\\nClockwise from top left: Berlin Cathedral, New Synagogue, Şehitlik Mosque, and St. Hedwig's Cathedral\\nOn the report of the 2011 census, approximately 37 percent of the population reported being members of a legally-recognized church or religious organization.\"]"
      ]
     },
     "execution_count": 14,
     "metadata": {},
     "output_type": "execute_result"
    }
   ],
   "source": [
    "naive_chunking_query_function_weaviate(\"What are the different demographics of Berlin?\", 5)"
   ]
  },
  {
   "cell_type": "markdown",
   "metadata": {},
   "source": [
    "We can see that the naive chunking query still gives us good results - it matches more specifically with the question. Whereas the late chunking example skips straight to the chunks it _knows_ to be relevant, because they contain contextual information within the embeddings themselves!"
   ]
  }
 ],
 "metadata": {
  "kernelspec": {
   "display_name": ".venv",
   "language": "python",
   "name": "python3"
  },
  "language_info": {
   "codemirror_mode": {
    "name": "ipython",
    "version": 3
   },
   "file_extension": ".py",
   "mimetype": "text/x-python",
   "name": "python",
   "nbconvert_exporter": "python",
   "pygments_lexer": "ipython3",
   "version": "3.12.4"
  }
 },
 "nbformat": 4,
 "nbformat_minor": 2
}
