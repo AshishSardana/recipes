{
 "cells": [
  {
   "cell_type": "markdown",
   "metadata": {},
   "source": [
    "## Late Chunking with Weaviate"
   ]
  },
  {
   "cell_type": "markdown",
   "metadata": {},
   "source": [
    "Notebook author: Danny Williams @ weaviate (Developer Growth)\n",
    "\n",
    "This notebook implements [late chunking](https://jina.ai/news/late-chunking-in-long-context-embedding-models/) with Weaviate. Late chunking is a change in the classical chunking framework where chunking happens _after_ token embeddings are output from the full document. This preserves contextual information from one chunk to another.\n",
    "\n",
    "\n",
    "\n",
    "### Setup\n",
    "\n",
    "First we install all required packages. We are using"
   ]
  },
  {
   "cell_type": "code",
   "execution_count": 1,
   "metadata": {},
   "outputs": [
    {
     "name": "stdout",
     "output_type": "stream",
     "text": [
      "Requirement already satisfied: weaviate-client in ./.venv/lib/python3.12/site-packages (4.7.1)\n",
      "Requirement already satisfied: torch in ./.venv/lib/python3.12/site-packages (2.4.0)\n",
      "Requirement already satisfied: numpy in ./.venv/lib/python3.12/site-packages (1.26.4)\n",
      "Requirement already satisfied: spacy in ./.venv/lib/python3.12/site-packages (3.7.6)\n",
      "Requirement already satisfied: transformers in ./.venv/lib/python3.12/site-packages (4.44.2)\n",
      "Requirement already satisfied: requests<3.0.0,>=2.30.0 in ./.venv/lib/python3.12/site-packages (from weaviate-client) (2.32.3)\n",
      "Requirement already satisfied: httpx<=0.27.0,>=0.25.0 in ./.venv/lib/python3.12/site-packages (from weaviate-client) (0.27.0)\n",
      "Requirement already satisfied: validators==0.33.0 in ./.venv/lib/python3.12/site-packages (from weaviate-client) (0.33.0)\n",
      "Requirement already satisfied: authlib<2.0.0,>=1.2.1 in ./.venv/lib/python3.12/site-packages (from weaviate-client) (1.3.2)\n",
      "Requirement already satisfied: pydantic<3.0.0,>=2.5.0 in ./.venv/lib/python3.12/site-packages (from weaviate-client) (2.8.2)\n",
      "Requirement already satisfied: grpcio<2.0.0,>=1.57.0 in ./.venv/lib/python3.12/site-packages (from weaviate-client) (1.66.1)\n",
      "Requirement already satisfied: grpcio-tools<2.0.0,>=1.57.0 in ./.venv/lib/python3.12/site-packages (from weaviate-client) (1.66.1)\n",
      "Requirement already satisfied: grpcio-health-checking<2.0.0,>=1.57.0 in ./.venv/lib/python3.12/site-packages (from weaviate-client) (1.66.1)\n",
      "Requirement already satisfied: filelock in ./.venv/lib/python3.12/site-packages (from torch) (3.15.4)\n",
      "Requirement already satisfied: typing-extensions>=4.8.0 in ./.venv/lib/python3.12/site-packages (from torch) (4.12.2)\n",
      "Requirement already satisfied: sympy in ./.venv/lib/python3.12/site-packages (from torch) (1.13.2)\n",
      "Requirement already satisfied: networkx in ./.venv/lib/python3.12/site-packages (from torch) (3.3)\n",
      "Requirement already satisfied: jinja2 in ./.venv/lib/python3.12/site-packages (from torch) (3.1.4)\n",
      "Requirement already satisfied: fsspec in ./.venv/lib/python3.12/site-packages (from torch) (2024.6.1)\n",
      "Requirement already satisfied: setuptools in ./.venv/lib/python3.12/site-packages (from torch) (74.1.1)\n",
      "Requirement already satisfied: spacy-legacy<3.1.0,>=3.0.11 in ./.venv/lib/python3.12/site-packages (from spacy) (3.0.12)\n",
      "Requirement already satisfied: spacy-loggers<2.0.0,>=1.0.0 in ./.venv/lib/python3.12/site-packages (from spacy) (1.0.5)\n",
      "Requirement already satisfied: murmurhash<1.1.0,>=0.28.0 in ./.venv/lib/python3.12/site-packages (from spacy) (1.0.10)\n",
      "Requirement already satisfied: cymem<2.1.0,>=2.0.2 in ./.venv/lib/python3.12/site-packages (from spacy) (2.0.8)\n",
      "Requirement already satisfied: preshed<3.1.0,>=3.0.2 in ./.venv/lib/python3.12/site-packages (from spacy) (3.0.9)\n",
      "Requirement already satisfied: thinc<8.3.0,>=8.2.2 in ./.venv/lib/python3.12/site-packages (from spacy) (8.2.5)\n",
      "Requirement already satisfied: wasabi<1.2.0,>=0.9.1 in ./.venv/lib/python3.12/site-packages (from spacy) (1.1.3)\n",
      "Requirement already satisfied: srsly<3.0.0,>=2.4.3 in ./.venv/lib/python3.12/site-packages (from spacy) (2.4.8)\n",
      "Requirement already satisfied: catalogue<2.1.0,>=2.0.6 in ./.venv/lib/python3.12/site-packages (from spacy) (2.0.10)\n",
      "Requirement already satisfied: weasel<0.5.0,>=0.1.0 in ./.venv/lib/python3.12/site-packages (from spacy) (0.4.1)\n",
      "Requirement already satisfied: typer<1.0.0,>=0.3.0 in ./.venv/lib/python3.12/site-packages (from spacy) (0.12.5)\n",
      "Requirement already satisfied: tqdm<5.0.0,>=4.38.0 in ./.venv/lib/python3.12/site-packages (from spacy) (4.66.5)\n",
      "Requirement already satisfied: packaging>=20.0 in ./.venv/lib/python3.12/site-packages (from spacy) (24.1)\n",
      "Requirement already satisfied: langcodes<4.0.0,>=3.2.0 in ./.venv/lib/python3.12/site-packages (from spacy) (3.4.0)\n",
      "Requirement already satisfied: huggingface-hub<1.0,>=0.23.2 in ./.venv/lib/python3.12/site-packages (from transformers) (0.24.6)\n",
      "Requirement already satisfied: pyyaml>=5.1 in ./.venv/lib/python3.12/site-packages (from transformers) (6.0.2)\n",
      "Requirement already satisfied: regex!=2019.12.17 in ./.venv/lib/python3.12/site-packages (from transformers) (2024.7.24)\n",
      "Requirement already satisfied: safetensors>=0.4.1 in ./.venv/lib/python3.12/site-packages (from transformers) (0.4.4)\n",
      "Requirement already satisfied: tokenizers<0.20,>=0.19 in ./.venv/lib/python3.12/site-packages (from transformers) (0.19.1)\n",
      "Requirement already satisfied: cryptography in ./.venv/lib/python3.12/site-packages (from authlib<2.0.0,>=1.2.1->weaviate-client) (43.0.0)\n",
      "Requirement already satisfied: protobuf<6.0dev,>=5.26.1 in ./.venv/lib/python3.12/site-packages (from grpcio-health-checking<2.0.0,>=1.57.0->weaviate-client) (5.28.0)\n",
      "Requirement already satisfied: anyio in ./.venv/lib/python3.12/site-packages (from httpx<=0.27.0,>=0.25.0->weaviate-client) (4.4.0)\n",
      "Requirement already satisfied: certifi in ./.venv/lib/python3.12/site-packages (from httpx<=0.27.0,>=0.25.0->weaviate-client) (2024.8.30)\n",
      "Requirement already satisfied: httpcore==1.* in ./.venv/lib/python3.12/site-packages (from httpx<=0.27.0,>=0.25.0->weaviate-client) (1.0.5)\n",
      "Requirement already satisfied: idna in ./.venv/lib/python3.12/site-packages (from httpx<=0.27.0,>=0.25.0->weaviate-client) (3.8)\n",
      "Requirement already satisfied: sniffio in ./.venv/lib/python3.12/site-packages (from httpx<=0.27.0,>=0.25.0->weaviate-client) (1.3.1)\n",
      "Requirement already satisfied: h11<0.15,>=0.13 in ./.venv/lib/python3.12/site-packages (from httpcore==1.*->httpx<=0.27.0,>=0.25.0->weaviate-client) (0.14.0)\n",
      "Requirement already satisfied: language-data>=1.2 in ./.venv/lib/python3.12/site-packages (from langcodes<4.0.0,>=3.2.0->spacy) (1.2.0)\n",
      "Requirement already satisfied: annotated-types>=0.4.0 in ./.venv/lib/python3.12/site-packages (from pydantic<3.0.0,>=2.5.0->weaviate-client) (0.7.0)\n",
      "Requirement already satisfied: pydantic-core==2.20.1 in ./.venv/lib/python3.12/site-packages (from pydantic<3.0.0,>=2.5.0->weaviate-client) (2.20.1)\n",
      "Requirement already satisfied: charset-normalizer<4,>=2 in ./.venv/lib/python3.12/site-packages (from requests<3.0.0,>=2.30.0->weaviate-client) (3.3.2)\n",
      "Requirement already satisfied: urllib3<3,>=1.21.1 in ./.venv/lib/python3.12/site-packages (from requests<3.0.0,>=2.30.0->weaviate-client) (2.2.2)\n",
      "Requirement already satisfied: blis<0.8.0,>=0.7.8 in ./.venv/lib/python3.12/site-packages (from thinc<8.3.0,>=8.2.2->spacy) (0.7.11)\n",
      "Requirement already satisfied: confection<1.0.0,>=0.0.1 in ./.venv/lib/python3.12/site-packages (from thinc<8.3.0,>=8.2.2->spacy) (0.1.5)\n",
      "Requirement already satisfied: click>=8.0.0 in ./.venv/lib/python3.12/site-packages (from typer<1.0.0,>=0.3.0->spacy) (8.1.7)\n",
      "Requirement already satisfied: shellingham>=1.3.0 in ./.venv/lib/python3.12/site-packages (from typer<1.0.0,>=0.3.0->spacy) (1.5.4)\n",
      "Requirement already satisfied: rich>=10.11.0 in ./.venv/lib/python3.12/site-packages (from typer<1.0.0,>=0.3.0->spacy) (13.8.0)\n",
      "Requirement already satisfied: cloudpathlib<1.0.0,>=0.7.0 in ./.venv/lib/python3.12/site-packages (from weasel<0.5.0,>=0.1.0->spacy) (0.19.0)\n",
      "Requirement already satisfied: smart-open<8.0.0,>=5.2.1 in ./.venv/lib/python3.12/site-packages (from weasel<0.5.0,>=0.1.0->spacy) (7.0.4)\n",
      "Requirement already satisfied: MarkupSafe>=2.0 in ./.venv/lib/python3.12/site-packages (from jinja2->torch) (2.1.5)\n",
      "Requirement already satisfied: mpmath<1.4,>=1.1.0 in ./.venv/lib/python3.12/site-packages (from sympy->torch) (1.3.0)\n",
      "Requirement already satisfied: marisa-trie>=0.7.7 in ./.venv/lib/python3.12/site-packages (from language-data>=1.2->langcodes<4.0.0,>=3.2.0->spacy) (1.2.0)\n",
      "Requirement already satisfied: markdown-it-py>=2.2.0 in ./.venv/lib/python3.12/site-packages (from rich>=10.11.0->typer<1.0.0,>=0.3.0->spacy) (3.0.0)\n",
      "Requirement already satisfied: pygments<3.0.0,>=2.13.0 in ./.venv/lib/python3.12/site-packages (from rich>=10.11.0->typer<1.0.0,>=0.3.0->spacy) (2.18.0)\n",
      "Requirement already satisfied: wrapt in ./.venv/lib/python3.12/site-packages (from smart-open<8.0.0,>=5.2.1->weasel<0.5.0,>=0.1.0->spacy) (1.16.0)\n",
      "Requirement already satisfied: cffi>=1.12 in ./.venv/lib/python3.12/site-packages (from cryptography->authlib<2.0.0,>=1.2.1->weaviate-client) (1.17.0)\n",
      "Requirement already satisfied: pycparser in ./.venv/lib/python3.12/site-packages (from cffi>=1.12->cryptography->authlib<2.0.0,>=1.2.1->weaviate-client) (2.22)\n",
      "Requirement already satisfied: mdurl~=0.1 in ./.venv/lib/python3.12/site-packages (from markdown-it-py>=2.2.0->rich>=10.11.0->typer<1.0.0,>=0.3.0->spacy) (0.1.2)\n",
      "\n",
      "\u001b[1m[\u001b[0m\u001b[34;49mnotice\u001b[0m\u001b[1;39;49m]\u001b[0m\u001b[39;49m A new release of pip is available: \u001b[0m\u001b[31;49m24.0\u001b[0m\u001b[39;49m -> \u001b[0m\u001b[32;49m24.2\u001b[0m\n",
      "\u001b[1m[\u001b[0m\u001b[34;49mnotice\u001b[0m\u001b[1;39;49m]\u001b[0m\u001b[39;49m To update, run: \u001b[0m\u001b[32;49mpip install --upgrade pip\u001b[0m\n"
     ]
    }
   ],
   "source": [
    "!pip install weaviate-client torch numpy spacy transformers"
   ]
  },
  {
   "cell_type": "markdown",
   "metadata": {},
   "source": [
    "Then we load the packages and connect to the Weaviate client. Important, you need some API keys within a `.env` file:\n",
    "- your Weaviate REST endpoint saved as `WEAVIATE_URL`\n",
    "- your Weaviate API key saved as `WEAVIATE_KEY`\n",
    "- if you want to run the final comparison in this notebook, an OpenAI API key saved as `OPENAI_API_KEY`.\n"
   ]
  },
  {
   "cell_type": "code",
   "execution_count": 2,
   "metadata": {},
   "outputs": [
    {
     "name": "stderr",
     "output_type": "stream",
     "text": [
      "/Users/danny/Documents/Work/Other/recipes/weaviate-features/services/.venv/lib/python3.12/site-packages/google/protobuf/runtime_version.py:112: UserWarning: Protobuf gencode version 5.27.2 is older than the runtime version 5.28.0 at grpc_health/v1/health.proto. Please avoid checked-in Protobuf gencode that can be obsolete.\n",
      "  warnings.warn(\n",
      "/Users/danny/Documents/Work/Other/recipes/weaviate-features/services/.venv/lib/python3.12/site-packages/tqdm/auto.py:21: TqdmWarning: IProgress not found. Please update jupyter and ipywidgets. See https://ipywidgets.readthedocs.io/en/stable/user_install.html\n",
      "  from .autonotebook import tqdm as notebook_tqdm\n"
     ]
    }
   ],
   "source": [
    "# imports\n",
    "import weaviate\n",
    "import weaviate.classes as wvc\n",
    "import weaviate.classes.config as wvcc\n",
    "\n",
    "import os\n",
    "import torch\n",
    "import numpy as np\n",
    "\n",
    "import spacy\n",
    "from spacy.tokens import Doc\n",
    "from spacy.language import Language\n",
    "\n",
    "import transformers\n",
    "from transformers import AutoModel\n",
    "from transformers import AutoTokenizer\n",
    "\n",
    "# connect to weaviate\n",
    "client = weaviate.connect_to_weaviate_cloud(\n",
    "    cluster_url=os.getenv(\"WEAVIATE_URL\"),                               \n",
    "    auth_credentials=wvc.init.Auth.api_key(os.getenv(\"WEAVIATE_KEY\")),\n",
    "    headers={\"X-OpenAI-Api-Key\": os.getenv(\"OPENAI_API_KEY\")}\n",
    ")"
   ]
  },
  {
   "cell_type": "markdown",
   "metadata": {},
   "source": [
    "Finally just for future-proofing, the versions of these packages are:"
   ]
  },
  {
   "cell_type": "code",
   "execution_count": 3,
   "metadata": {},
   "outputs": [
    {
     "name": "stdout",
     "output_type": "stream",
     "text": [
      "Weaviate version 4.7.1\n",
      "Pytorch version 2.4.0\n",
      "Numpy version 1.26.4\n",
      "Spacy version 3.7.6\n",
      "Transformers version 4.44.2\n"
     ]
    }
   ],
   "source": [
    "print(f\"Weaviate version {weaviate.__version__}\")\n",
    "print(f\"Pytorch version {torch.__version__}\")\n",
    "print(f\"Numpy version {np.__version__}\")\n",
    "print(f\"Spacy version {spacy.__version__}\")\n",
    "print(f\"Transformers version {transformers.__version__}\")"
   ]
  },
  {
   "cell_type": "markdown",
   "metadata": {},
   "source": [
    "### Functions"
   ]
  },
  {
   "cell_type": "markdown",
   "metadata": {},
   "source": [
    "Below are some general functions for chunking text into sentences, as well as the bulk of the operations behind late chunking.\n",
    "\n",
    "Late chunking is simply the same chunks we would have on the naively chunked text, but the chunk embedding is taken from the pooling of the token embeddings, rather than an independently embedded chunk."
   ]
  },
  {
   "cell_type": "code",
   "execution_count": 4,
   "metadata": {},
   "outputs": [],
   "source": [
    "def sentence_chunker(document, batch_size=None):\n",
    "    \"\"\"\n",
    "    Given a document (string), return the sentences as chunks and span annotations (start and end indices of chunks).\n",
    "    Using spacy to do this sentence chunking.\n",
    "    \"\"\"\n",
    "\n",
    "    if batch_size is None:\n",
    "        batch_size = 10000 # no of characters\n",
    "\n",
    "    # Batch with spacy\n",
    "    nlp = spacy.blank(\"en\")\n",
    "    nlp.add_pipe(\"sentencizer\", config={\"punct_chars\": None})\n",
    "    doc = nlp(document)\n",
    "\n",
    "    docs = []\n",
    "    for i in range(0, len(document), batch_size):\n",
    "        batch = document[i : i + batch_size]\n",
    "        docs.append(nlp(batch))\n",
    "\n",
    "    doc = Doc.from_docs(docs)\n",
    "\n",
    "    span_annotations = []\n",
    "    chunks = []\n",
    "    for i, sent in enumerate(doc.sents):\n",
    "        span_annotations.append((sent.start, sent.end))\n",
    "        chunks.append(sent.text)\n",
    "\n",
    "    return chunks, span_annotations\n",
    "\n",
    "\n",
    "def document_to_token_embeddings(model, tokenizer, document, batch_size=4096):\n",
    "    \"\"\"\n",
    "    Given a model and tokenizer from HuggingFace, return token embeddings of the input text document.\n",
    "    \"\"\"\n",
    "\n",
    "    if batch_size > 8192: # no of tokens\n",
    "        raise ValueError(\"Batch size is too large. Please use a batch size of 8192 or less.\")\n",
    "\n",
    "    tokenized_document = tokenizer(document, return_tensors=\"pt\")\n",
    "    tokens = tokenized_document.tokens()\n",
    "    \n",
    "    # Batch in sizes of batch_size\n",
    "    outputs = []\n",
    "    for i in range(0, len(tokens), batch_size):\n",
    "        \n",
    "        start = i\n",
    "        end   = min(i + batch_size, len(tokens))\n",
    "\n",
    "        # subset huggingface tokenizer outputs to i : i + batch_size\n",
    "        batch_inputs = {k: v[:, start:end] for k, v in tokenized_document.items()}\n",
    "\n",
    "        with torch.no_grad():\n",
    "            model_output = model(**batch_inputs)\n",
    "\n",
    "        outputs.append(model_output.last_hidden_state)\n",
    "\n",
    "    model_output = torch.cat(outputs, dim=1)\n",
    "    return model_output\n",
    "\n",
    "def late_chunking(token_embeddings, span_annotation, max_length=None):\n",
    "    \"\"\"\n",
    "    Given the token-level embeddings of document and their corresponding span annotations (start and end indices of chunks in terms of tokens),\n",
    "    late chunking pools the token embeddings for each chunk.\n",
    "    \"\"\"\n",
    "    outputs = []\n",
    "    for embeddings, annotations in zip(token_embeddings, span_annotation):\n",
    "        if (\n",
    "            max_length is not None\n",
    "        ):  # remove annotations which go beyond the max-length of the model\n",
    "            annotations = [\n",
    "                (start, min(end, max_length - 1))\n",
    "                for (start, end) in annotations\n",
    "                if start < (max_length - 1)\n",
    "            ]\n",
    "        pooled_embeddings = []\n",
    "        for start, end in annotations:\n",
    "            \n",
    "            if (end - start) >= 1:\n",
    "                # print(f\"start: {start}, end: {end}\")\n",
    "                # print(f\"{[e[:5] for e in embeddings[start:end]]}\")\n",
    "                pooled_embeddings.append(\n",
    "                    embeddings[start:end].sum(dim=0) / (end - start)\n",
    "                )\n",
    "                    \n",
    "        pooled_embeddings = [\n",
    "            embedding.detach().cpu().numpy() for embedding in pooled_embeddings\n",
    "        ]\n",
    "        outputs.append(pooled_embeddings)\n",
    "\n",
    "    return outputs"
   ]
  },
  {
   "cell_type": "markdown",
   "metadata": {},
   "source": [
    "### Import into Weaviate\n",
    "\n",
    "We aim to perform late chunking, obtain the contextually-aware embeddings, and then import these into a Weaviate collection.\n",
    "\n",
    "First, create a Weaviate collection called `test_late_chunking`."
   ]
  },
  {
   "cell_type": "code",
   "execution_count": 5,
   "metadata": {},
   "outputs": [],
   "source": [
    "if client.collections.exists(\"test_late_chunking\"):\n",
    "    client.collections.delete(\"test_late_chunking\")\n",
    "\n",
    "# important to specify the config as none here, because we will be supplying our own vector embeddings in the form of the late chunking embeddings\n",
    "late_chunking_collection = client.collections.create(\n",
    "    name=\"test_late_chunking\",\n",
    "    vectorizer_config=wvc.config.Configure.Vectorizer.none(),\n",
    ")"
   ]
  },
  {
   "cell_type": "markdown",
   "metadata": {},
   "source": [
    "Now let's use a test document - the wikipedia page for Berlin (saved in a separate text file). We will later query this text using late chunking/naive chunking."
   ]
  },
  {
   "cell_type": "code",
   "execution_count": 6,
   "metadata": {},
   "outputs": [
    {
     "name": "stdout",
     "output_type": "stream",
     "text": [
      "First 50 characters of the document:\n",
      "Berlin[a] is the capital and largest city of Germany, both by area and by population.[11] Its more than 3.85 million inhabitants[12] make it the Europ...\n"
     ]
    }
   ],
   "source": [
    "with open(\"berlin.txt\", \"r\") as f:\n",
    "    document = f.read()\n",
    "\n",
    "print(f\"First 50 characters of the document:\\n{document[:150]}...\")\n"
   ]
  },
  {
   "cell_type": "markdown",
   "metadata": {},
   "source": [
    "Now, load the `jina-embeddings-v2-base-en` model from Huggingface. Other embedding models can be used, but Jina's model has up to 8192 token length documents, which is important for late chunking as we want to encode large documents and separate them later."
   ]
  },
  {
   "cell_type": "code",
   "execution_count": 7,
   "metadata": {},
   "outputs": [],
   "source": [
    "tokenizer = AutoTokenizer.from_pretrained('jinaai/jina-embeddings-v2-base-en', trust_remote_code=True)\n",
    "model     = AutoModel.from_pretrained('jinaai/jina-embeddings-v2-base-en', trust_remote_code=True)"
   ]
  },
  {
   "cell_type": "markdown",
   "metadata": {},
   "source": [
    "We call our functions we defined earlier: First chunk the text as normal, to obtain the beginning and end points of the chunks. Then embed the full document. Then perform the late chunking step - take the average over all token embeddings that correspond to each chunk (based on the beginning/end points of the chunks). These form as our embeddings for the chunks."
   ]
  },
  {
   "cell_type": "code",
   "execution_count": 8,
   "metadata": {},
   "outputs": [],
   "source": [
    "chunks, span_annotations = sentence_chunker(document)\n",
    "token_embeddings = document_to_token_embeddings(model, tokenizer, document)\n",
    "chunk_embeddings = late_chunking(token_embeddings, [span_annotations])[0]"
   ]
  },
  {
   "cell_type": "markdown",
   "metadata": {},
   "source": [
    "Finally, we can add this to our Weaviate collection by supplying our own vector embedding for each chunk."
   ]
  },
  {
   "cell_type": "code",
   "execution_count": 9,
   "metadata": {},
   "outputs": [
    {
     "data": {
      "text/plain": [
       "BatchObjectReturn(_all_responses=[UUID('23492cba-a3a4-4522-b26d-a8264311bfb9'), UUID('d69cd1f6-6a23-467b-8069-3512b5133aa0'), UUID('260d6514-8cc4-4578-b23a-9eefb6084fe1'), UUID('13b36bf8-fa79-4a64-880b-bc24bb104a56'), UUID('23714866-2c2e-4f34-9ad1-afe638957656'), UUID('1286daeb-2f14-47c0-be04-78bb6f4b65ab'), UUID('967a2bf6-d25a-41af-a49c-1e646e786732'), UUID('359516fd-0964-402a-a9fd-a9f93549e8db'), UUID('4440b3ef-d2a5-4ab8-ada8-9886c7a49dce'), UUID('a971976f-9dc1-4095-945c-b5c9040de5d7'), UUID('16e859b1-f462-4700-8a44-eff94cbb3fc2'), UUID('876a2350-6d72-448b-b9b8-fa737400dd8c'), UUID('8e42b6f0-3d93-45f1-bcbe-e5c25a942efe'), UUID('e9c187e8-da54-41f5-9bc7-422c107ff646'), UUID('9b07975a-2321-4bae-8293-9fa832104b94'), UUID('9adc5900-e176-4233-97b7-a1e7ecd98bae'), UUID('b93dbd52-5697-421b-8cb1-c7c2cb3ace24'), UUID('e484efa5-b07e-4576-8ab5-f14f475e488b'), UUID('8db6198c-64f1-4bb6-a51e-b5b4c24d0da3'), UUID('d9c44fe1-969a-4b42-87ec-24ad3e10a7ad'), UUID('b9fee348-80ba-479c-9d20-bddfde01a421'), UUID('67d26839-a39b-40a2-82a2-c897bc4f4e87'), UUID('e85b7c91-9b00-4c4c-b0ab-769a386dd45f'), UUID('68f1b3ed-9a0a-43e9-8520-4469fd6f904e'), UUID('14e72588-05a6-4920-80c3-dee30d3a47a4'), UUID('8154875b-8a1a-4c84-bc97-e3d67fef7e52'), UUID('98ba2448-ee21-4c16-a57c-068079f8c250'), UUID('5759479b-f753-4605-aad3-05bed04f1864'), UUID('940eb067-73a1-479c-bb00-961500638e56'), UUID('38c242e3-39b9-418b-96cd-c2e75718f734'), UUID('f2befeba-d553-4057-a06a-018360d4cd5b'), UUID('baac80d1-258e-45a0-9d3f-edf938fc90a3'), UUID('b14fcc9a-4bc1-4819-9f53-d52069ee2f40'), UUID('def5fe1a-32d1-4879-927e-4647c454f527'), UUID('136f3098-40c7-46d9-ba8a-94e13ae253cb'), UUID('2aae35fb-06a9-4653-9d31-0a3728698fb8'), UUID('96bb6c97-9c8b-4a62-8a5b-35dc1208874f'), UUID('8c0a1f88-077c-476d-9691-74c09507a898'), UUID('94e5afd5-5ac5-4a00-a4e2-201e2ad73835'), UUID('9499df3a-f6a6-4a58-9f52-29c5abf25ad9'), UUID('a1efd4c4-eb5c-45b2-91a3-f10e8930128b'), UUID('dd08507f-012a-4cb3-90ae-8b13a880b69b'), UUID('45d668dd-2d55-4af6-a5b4-d0ea7da1e30a'), UUID('6b9c37a4-f9dd-4adb-8988-f62a8c8b4862'), UUID('e26f31f2-9fcd-4d06-a0aa-41cd55bbfe06'), UUID('0bd973f9-7a12-40a8-bded-4e8a080dabb4'), UUID('436f0f6e-24e3-4895-8f3c-608dfe0ab380'), UUID('148aa3a1-d6a4-4925-8d31-fe4d22e3358f'), UUID('e114c1d8-8f6d-4e7d-9206-f18118fc50fe'), UUID('a8fa9fa2-b266-48ba-aef5-a00d2531649a'), UUID('03c5f0cf-39ee-4066-a5c5-f765bf2eb674'), UUID('eb4edc3b-ac81-4f69-adef-4db8043a8b89'), UUID('7de40d81-93cb-4f85-87ee-846df1965284'), UUID('34206c62-d395-4c9f-805e-61236863d068'), UUID('6151d38e-4e3a-4905-9f67-4e2d0b69ab3c'), UUID('aa455fe0-664b-4fbf-b142-c0582c5846d0'), UUID('1279afe8-bed8-4f49-84dc-9d546309ce76'), UUID('44dff436-6e38-4be5-9040-5293fff5ea17'), UUID('175302b3-6fad-4123-9c61-00a473af0557'), UUID('31c45452-ae6a-4485-beae-d1a0cb6853a0'), UUID('2d32f136-ed10-487d-86c0-ca0511892223'), UUID('4166100b-fc43-4567-ba8b-513dffcadeef'), UUID('c9698fd3-ad3e-447d-a3e1-ec1d06a0204a'), UUID('2bd4edcc-35e8-482e-be8e-c92fe36b1786'), UUID('71835636-72bd-4bba-b4ba-adc4e44332b5'), UUID('ee93bac9-0f35-4b22-bdbc-8fb08b3bf30e'), UUID('a8376a9a-e57e-4a1f-8922-331987154e7d'), UUID('081d15dd-1d6b-4de0-962e-79d9c2c3eeb6'), UUID('b867b2c5-23fa-4978-ab12-4094387c38e7'), UUID('6bbc2fc5-4672-4260-9ba4-df0f7d960874'), UUID('6389507b-cde6-47b8-b6bd-c9ba48b14025'), UUID('f3f493f8-c27a-4ed0-805d-15c87b922aab'), UUID('02527e0c-ae48-4d12-94cf-8f409eb3a901'), UUID('54da02d5-cdc7-4064-b052-efdfdaf01b3a'), UUID('95405b95-d166-46aa-8960-e87c0a175122'), UUID('4b29df90-4a7b-4797-bd70-30dd178dca31'), UUID('59d772bc-b734-4bc0-be36-47d1d4d76de2'), UUID('eb7cc4bb-9596-40d6-b0f4-ad49f7f27408'), UUID('74a7cbc9-fdbd-48fe-af64-cfb69da2ca42'), UUID('7a129d99-c07d-4410-aa37-8fc9dd737558'), UUID('97d1d993-256c-44df-9489-9553cd594537'), UUID('99e92eef-098c-4707-a798-d977f5618184'), UUID('5bf36029-8866-4979-9e62-7d429a1c4873'), UUID('fb8576dc-9722-4e3b-8203-f8c3fcd70585'), UUID('3080e980-649f-4fc9-b668-ef7eebea8f33'), UUID('27246f3e-daab-42ff-a5d4-73ed1414a804'), UUID('4ef650ea-f17f-4f62-bea8-6b156d57e418'), UUID('65530c44-02d0-4817-9102-d98e7692ebef'), UUID('5fff9d53-2727-40f0-b24d-01f22a25f45e'), UUID('ead4ec21-2a71-4e42-abb7-4b943b888626'), UUID('ef64dff5-bea9-45b0-99fb-d10a174f3b92'), UUID('e60bf2db-9381-467d-a54a-1a0486ad0fc5'), UUID('0b444292-35f4-486f-b656-cf7fc5ef9321'), UUID('2cf2c741-4f21-4510-9ab6-bcd6e910d9f3'), UUID('34672b70-aa7e-4425-bb5a-ad3cd42e0284'), UUID('496ba311-c725-4425-9aea-cfd120cb60da'), UUID('7047933a-4186-4844-a478-8a4a62032395'), UUID('e2aba627-5def-4c52-a6a4-848c2e552578'), UUID('9022e8f7-fb9a-4e14-8930-628490a1c165'), UUID('4364d777-0c9a-4d4f-bb50-a64917cdd7f2'), UUID('1c460f14-d0fd-4934-9349-c88ee372433c'), UUID('f1ed3f88-2392-41be-b76a-8af241da64f2'), UUID('022bfdaf-198e-44fb-9b45-2d6ac7f2f1f4'), UUID('eff30307-0845-4993-8e52-93faa01baf07'), UUID('fc75652b-c69f-4656-95ef-629a551d037f'), UUID('b94428ae-d0d2-4678-a763-0d3d7d393f4b'), UUID('ee5fc411-580b-468e-a956-1e445d8adf78'), UUID('dede7c38-922e-400b-8739-9806899980cb'), UUID('dabfba41-e117-4431-aaf6-98d36ed92ebe'), UUID('7194f2be-c515-4a4d-a3b0-4145e7839cc1'), UUID('598aa302-b7b5-477b-8f0a-1ac5abb2ca51'), UUID('8230f8b7-120b-4c4c-a87a-8061e6e54a59'), UUID('74d1e132-aaeb-4a71-b952-a5f85d5198a8'), UUID('b507bed6-2a5f-44e8-bc6b-52e181641200'), UUID('6100f2c7-93e3-4ee8-9c1e-cb01c3b1a31a'), UUID('8a967833-db60-494c-bb6a-a5083ead8831'), UUID('d53b0fe8-9579-492f-879b-643a30286a6c'), UUID('c6518b23-9e56-4a6c-b637-c49a9be507f5'), UUID('affb8914-f718-4c17-a035-d474041b5b29'), UUID('5f1bb56f-4ee7-4b04-8182-bec6d2b5a949'), UUID('3bcb4d29-be95-4154-ad6c-25ad02ea95a1'), UUID('5d6525dd-a48d-4ce5-87da-f0f5bb2a1a0d'), UUID('83ed55af-d268-44cf-a5a5-c4dbb9091116'), UUID('ae592012-fa05-46e7-9225-7767b2ab1659'), UUID('3e046b5b-acc9-4fd9-a37d-ce4c062ac475'), UUID('87630770-1d61-4d30-bc69-bc880216b0b5'), UUID('d3a09bd9-1356-47d6-9f61-1b80bea81d77'), UUID('e2b1dae8-8718-49bb-b5ec-94c0e9944f0c'), UUID('4b235e7f-01e1-40e6-9b16-86c4143ae1ab'), UUID('a520b9f8-6cdc-41ff-95ee-2f21bb65f5df'), UUID('4640126c-747a-404e-99e4-e910a5181d9e'), UUID('bcf158e5-3e97-4ded-bd18-5d328c3ffe1a'), UUID('8da24ccf-ee64-46a3-ae3f-4443eb99671d'), UUID('857f3093-caca-483e-8487-58acfba67a46'), UUID('4475c646-9b22-4eba-a8a8-f78318ea8fac'), UUID('d247c62c-ac19-424a-8026-8799704d4f1d'), UUID('f6d2a16c-031c-4556-86dc-925a9d3f7e56'), UUID('593d984b-9639-4801-9192-a3fdf11014bf'), UUID('47a38e1f-7411-403b-a866-f92f27587b67'), UUID('8d106526-abbd-4521-a780-2b8fbd2cdf8d'), UUID('1e15047f-d53a-414d-a656-01b830a24a26'), UUID('db9f1d34-4b98-470c-b20a-c06fad3ad4c5'), UUID('e3ce20ef-2dba-4532-9dea-dea2d418db15'), UUID('2b07269d-468f-4946-b278-fc6fd33521aa'), UUID('c6ec8fea-8027-42fe-8825-5ea7eee91afe'), UUID('5ed83c11-fcbb-4a60-9883-e3970aa77ab2'), UUID('ea23b77f-5f82-4867-a1e3-771ecf429659'), UUID('8cdf4025-c928-42bb-8042-284880e4ebba'), UUID('8a55b2d2-28b0-4af1-a2fd-485e5d4bc80a'), UUID('4a91f0e3-567d-48c7-a87e-1874806698da'), UUID('0eb9287e-be66-4e5c-a76e-08e814e74e99'), UUID('e505a354-dc39-4539-9e57-906584421c96'), UUID('b37aac8e-4c76-400f-b159-de516a32ca4d'), UUID('9703af24-5881-4816-946b-acfe60aeb1e0'), UUID('79cd217f-102a-44f1-85e3-31528c01c5e8'), UUID('c7cf0ed5-af78-42bf-87e7-8b8f10e087ef'), UUID('9d26253f-1cf6-4a6f-9610-0dc78ee15cf2'), UUID('34a6da55-6d02-4bcf-a21c-7c77dc021b54'), UUID('32ee9efb-84e2-407f-ad58-ea7ba921ca9c'), UUID('02128b7e-c243-432f-adae-9c3f78a7042a'), UUID('31493954-b001-4926-9f3a-2550f727bfd7'), UUID('5a772046-eb1b-4db6-a0c9-ec7e43b869c6'), UUID('d5d0edee-4894-4105-9b5a-3d0b92177718'), UUID('ded395b2-e0fd-44b9-acf5-8e6dff6055ab'), UUID('79c2b778-1659-4b1d-83d2-c8db556c47d2'), UUID('6e48b3af-27a8-4473-86a8-f5f4aeb086ac'), UUID('62c995f5-f859-4b64-bd1f-14ac7eb0e7f4'), UUID('4e06cedd-3047-433b-94db-f1171b6b972b'), UUID('48284ea4-c87e-4483-a0fd-8f5b3ca71f6f'), UUID('98afa95a-6827-43bd-a456-90b1af56b6f0'), UUID('59fa97a8-fcb1-4e5b-a354-dcabce61344d'), UUID('287e7cd7-2bf8-45ae-9316-00c26d1291ec'), UUID('f5f572ef-79b2-4f0d-886f-6c196b34917b'), UUID('4b1470a0-fe4e-4467-a502-6071cb620f45'), UUID('541fb88b-983e-4b40-8c5b-f32da68484f9'), UUID('4645813c-0407-46e8-92b4-4f52a715e0ec'), UUID('cf9799cf-3136-4ffd-919e-e8ad3025fdfd'), UUID('3f45e940-e256-4f8b-ae69-518dd6afb44b'), UUID('cc67276e-e637-4321-b8db-50ba1a94d467'), UUID('15644601-6d5a-4c65-beac-4bae8028731c'), UUID('a877afce-e867-490a-ba85-3d3384cbed8f'), UUID('7321c78c-8f32-476d-b8cc-ef4c22a1b343'), UUID('b22c4dd3-46fd-4943-80fb-adeca0bc03e3'), UUID('baf819ed-0cca-4eb2-91ba-5c65c81daadd'), UUID('65e3e476-7e6b-42e9-ab1f-11a548d2d382'), UUID('15b2ced9-9e2f-4640-973b-445e2f73e7eb'), UUID('fabea45b-1091-48ba-8e4a-bb2c42c1735d'), UUID('8de0fd85-0a26-4b82-ab19-4f8dc33e0af2'), UUID('9f50b1a8-fc38-4879-a016-050df3aee556'), UUID('e7f9667a-1b1a-4791-8fe3-a76aaa7def03'), UUID('69f8e7c2-9dcf-4846-b981-933a991e759a'), UUID('f67fd3e1-3df0-4e49-93e1-754d44b4b66b'), UUID('59ee2f17-fea7-49e8-852f-b561388c68a2'), UUID('a302c575-fa39-40b2-9d31-be2161cbc16b'), UUID('74bde8e7-1a18-42ab-a92d-5582e2a5aa56'), UUID('630aabf4-ae2d-47dd-ab24-087c1fd3bc88'), UUID('012101c6-8363-41bb-8bfe-c59193f6232d'), UUID('f0f827f9-e170-4a4a-bc14-2ed0d5b7975d'), UUID('98e0af21-7676-4d52-a646-7e67a281f302'), UUID('5fa919ba-6ca9-4ccf-86cc-1f18f1a05427'), UUID('9196246a-5b3e-4413-be72-92770871bd2a'), UUID('49a2c2bd-8d2b-4c09-9ee2-9b1983a4d68f'), UUID('02faaab8-c1b0-4329-8db6-8a6e5516b92d'), UUID('2ff81772-436d-4717-b2ec-f6c089b39a7b'), UUID('72a8e09d-716c-4d50-81d4-c6dc403a257a'), UUID('2aa62d24-12d0-4a49-8a0e-eadea2a2bc67'), UUID('003dd5e6-6a72-4d62-98c3-f024cdf5c508'), UUID('fba0750b-3a98-4523-80f6-2b03dc475e46'), UUID('f6eefc7b-31eb-4549-94b9-80b6a34153a0'), UUID('5d4fb336-f94b-48ba-a56b-93b4e66e4e9b'), UUID('ed7809c8-2104-432a-9d79-7b9d9b014c26'), UUID('9bd7ac00-5a5a-4901-9c83-a258fc932c65'), UUID('a4b21faa-e0df-42b4-a0ba-8fd460c9120a'), UUID('7e4bc360-bb75-4abe-86fd-f957eac97657'), UUID('c1ea652c-26f5-4e7a-ace6-b2313fad87f2'), UUID('97f313d3-af84-42d0-af14-bfc54c1e24de'), UUID('7b3bb513-a6fe-40ed-8c2c-30e3ff20da0b'), UUID('1241bb5c-0833-4af4-8b6b-cddd351ec50a'), UUID('9b0e1ab1-31a4-4767-b5d0-3af6b9678369'), UUID('17d24ae3-48f6-4d05-b16f-87750797041e'), UUID('6103bc21-998f-4a0c-8ab6-9f8a578d6829'), UUID('063670ca-ba53-4657-aa24-89fc9a25148c'), UUID('abb90ba4-77bd-46a3-9481-8c855542200e'), UUID('afd685b5-2656-49bc-9e29-fb33ef05a99d'), UUID('372290f5-ae1d-4518-84ca-451b9dcb7273'), UUID('b080ae66-2e43-4704-b7b7-4da63b30e8ea'), UUID('1e893fcf-ed5e-4a1f-b0ca-9cdecff48501'), UUID('e8069eaa-052b-438f-acec-0e5f3ea51145'), UUID('68d03fc1-43d5-4fa9-9d85-ed2a038ccbbe'), UUID('23c45742-ff0c-4506-90ec-273c4967e163'), UUID('582c7545-7acb-4d17-999a-5e0bc39ba052'), UUID('ebb6e68d-ec2c-46b4-9f05-cba758433080'), UUID('03d6afcc-1c9b-46a8-bfb7-7bbefaac39ce'), UUID('d1202b98-7a1b-4d02-94e1-37f451e3382d'), UUID('af48a096-2644-4070-a5a3-94c34aad6a7d'), UUID('c96997c3-85c8-4aae-90c0-06e471f966e7'), UUID('3d0d007a-48e6-4e8a-8585-0b6a954213c0'), UUID('95f0e542-b021-4446-88d4-d1c9ad8518f8'), UUID('e8f983bc-1b8f-4af5-85bd-fae0e9fec5d2'), UUID('6d58ed14-bc1d-49cf-8277-c5f106aa6e3a'), UUID('7b9df989-51e0-4b62-9604-6e0dfbb323e9'), UUID('a5a34a60-2e34-4b7c-812e-81b77d635889'), UUID('1c8036ce-9393-44f4-8139-8debe28c824c'), UUID('efc42c69-7b79-44f9-a2c9-54367109539f'), UUID('7ec26d91-55c3-4c4f-9e69-56e778accc5e'), UUID('465828e1-930b-4c11-a276-85ff8b394020'), UUID('4cf83528-f485-4705-9d47-de0e2b8950b9'), UUID('4cf8c0ca-e178-47a5-8746-fcd1e6dc565c'), UUID('067b2df7-4231-4977-b22b-d016f5389fb1'), UUID('09489984-4a1d-4660-99b4-b71e002a35b2'), UUID('b003368d-2986-4557-9ff3-e630fb2cdc9d'), UUID('7dfc5abe-76ea-402f-a279-4b49a21acfc7'), UUID('87ef48a6-8994-4736-9054-5f0219a56ca2'), UUID('4e1c338d-87ea-4f41-b213-412f364a39c7'), UUID('c599ab46-8924-4130-805a-f1f825c97940'), UUID('07101ec3-0447-4fa9-a0b0-59306417df28'), UUID('7016bf61-0697-4c6b-b0ad-6215ea57fd46'), UUID('1b9a77cb-0c23-4da6-baf3-8b292b933bc6'), UUID('26626fc0-96ec-4b87-9bef-b77a8614309c'), UUID('ad6aecf0-5e52-4181-94ef-874c6a844ae3'), UUID('2890f922-ab4d-40b0-97bd-555a5d769e6b'), UUID('cedc13ec-cf8e-4b83-9ef3-96b256549b3c'), UUID('afe15001-45fc-47fe-bff6-d6a8cdcc26fd'), UUID('26f8d90f-505b-4fe2-a995-e369fff2522a'), UUID('a182f47e-10cd-4564-acf7-7d954b620e70'), UUID('db2141e8-2991-44c3-be8a-6e39fa2869f3'), UUID('feffe9d2-2e26-4a32-ad34-cd6c55548731'), UUID('b6a4cfcf-e617-4ce1-b582-e568f001e33e'), UUID('5fa0d770-ee36-47cc-a5fe-fc3d6a142b41'), UUID('271ee117-5127-4d97-ae48-e86f593aec07'), UUID('8f45f72c-cfa5-4b9e-9fd3-ddcf2487293a'), UUID('e12d776b-3c50-4b5b-9b32-1deea3fa7fb2'), UUID('2e29ef58-55fd-481d-8923-260407880595'), UUID('c2fa9aec-d3ad-4166-91df-fe6b6934bf9f'), UUID('cd450762-d76f-4242-a485-09c8d34eedc9'), UUID('1046c72b-ff3b-4f31-95ee-744622e41a5f'), UUID('343166ee-d9d5-4eea-9e76-0cd651aa037f'), UUID('36c40e53-eeb3-4b53-9944-cbbd99ec83bc'), UUID('7bcd25f9-2ae0-4659-9e1d-b0e7be001585'), UUID('5639600b-f8ee-486b-bb57-f1e4accf8db6'), UUID('3de7b4eb-eed6-4ac6-bc76-b817e70b5000'), UUID('9560caba-438e-4b8f-9eff-1d94613c6545'), UUID('de5c5d4a-0e74-44fd-8e5e-3bb2d08b9c8a'), UUID('089a8ab5-de72-41a2-8da1-229688cd1912'), UUID('bfe73816-d93b-4872-92b5-a119ef755811'), UUID('92309dc6-e277-4542-af9e-8dad6cb27062'), UUID('8e0b1de9-ae71-47cc-bc73-b28e9291e32d'), UUID('1f5bbb96-f51f-458f-b083-746888252912'), UUID('3bb368b1-c5d4-43ec-af6d-eaa9b730b53f'), UUID('b2933f9e-34ff-4806-9dc2-032eec486f46'), UUID('0c4ebc69-2f60-4e80-b51b-0a136412183f'), UUID('50cef0d0-28a7-4837-aaf5-5f3ed64cb8be'), UUID('63fa1668-dbc5-414a-baa6-6f2aeef44613'), UUID('8daf9eaf-68ce-4fb5-832d-db19e86905f3'), UUID('03884631-1a2f-4dbf-b008-6e439196ca94'), UUID('c2712796-d8f3-4a8b-8331-2201dfd018e7'), UUID('d7c6a8ef-c438-47f3-bec8-d45e7bb518e1'), UUID('83b83f34-a15f-4a04-a5f8-2eb7b4e06569'), UUID('cd615f3f-4547-4c7c-a71d-b0759f8416e0'), UUID('f279e90d-1117-431d-9935-acc0adf5eb91'), UUID('22f1db41-d5b9-4fe7-9af0-99b7b8792fc5'), UUID('4635b1f1-dcf6-4a13-9c51-8ea76d157f39'), UUID('c3ebc0f0-1cc2-4433-877b-b640784d34bd'), UUID('18321898-f97a-4c6f-80ec-8daa7740c268'), UUID('e68eae46-0476-4201-9c8a-d6edb91f072a'), UUID('ddd39d11-0786-4d7e-a689-57ac205bdcab'), UUID('a8438354-9ded-4d35-87b1-5130afe59e87'), UUID('0dd2f717-0325-4fbc-988c-df69a4a99806'), UUID('a43a14d5-029c-4591-9537-f79f03e1e1fa'), UUID('7849a3a3-eba2-41e3-9627-55ac319380d7'), UUID('230c5c04-8791-4232-bde7-d1507d158c61'), UUID('fd9b83d7-7527-40e6-86b9-29a4d4e7a214'), UUID('6f2dc0b5-e7d9-438b-8ec8-920a97f5ae5b'), UUID('6630ea65-e026-4808-9145-248a069016ee'), UUID('c1a80ed0-1522-42e4-9280-f0faca9b98d8'), UUID('40de5d25-cfab-4e54-99ca-98057920d2ee'), UUID('e98375fa-cc1a-4cf7-8af9-c13a4a60f62f'), UUID('7d1adc0d-741f-4a96-8c7b-4acbab316a8d'), UUID('d728bcc3-e4da-4e26-9444-6f7636cc1bc4'), UUID('a022ca89-81a3-4831-a452-b19fa8a6a603'), UUID('9f3a2df9-16c2-4acd-bdb2-8602094014f7'), UUID('5ea20cbe-0a00-45a4-b3b0-41811e5821dc'), UUID('04db4624-b004-4dc8-88f1-0659c2836d8e'), UUID('b378c628-2c6a-403f-a1ca-ab03535fb21f'), UUID('d92a1ec5-1464-4d56-b5b7-93332ce8d35e'), UUID('07695a70-e85a-4d85-8b5c-45aa3e5cf4c2'), UUID('70df3642-ab9f-496f-99cb-1298992515af'), UUID('6cf8e0a9-01d0-4694-9d2a-6455551c0867'), UUID('ad1c207a-bfc2-456a-bef5-e4675b1195cd'), UUID('b270b40b-fc6f-4c2a-adfc-905d26df2edb'), UUID('443cc364-8268-4fb6-a552-41d3d100fc20'), UUID('10b47388-6185-42ac-8ba3-d3a89b892a03'), UUID('79318c01-8648-42a9-9c33-d55ab1faafef'), UUID('fd917e4a-fae4-46fb-8990-fa70995c4fea'), UUID('1cbe14a2-9427-40a9-a78f-e60315d730e3'), UUID('c96ce62f-cd87-4438-8109-909b8e7d72d4'), UUID('d72ac308-c029-4734-8758-26eb12f6a36a'), UUID('1878e7a7-cec1-40c7-8753-eadf956f3151'), UUID('9b0f2173-bfa9-4742-bc91-130592ca9a3f'), UUID('436ff3fa-b557-48f2-90ea-705bfe6bba1d'), UUID('0e2bc81a-0776-434b-bcba-88ecfc198232'), UUID('399ad012-6025-424f-a799-980bbfa21dc3'), UUID('360ebff3-e970-4590-a540-8eba9c977124'), UUID('c756e1e5-c435-4cfd-91e4-3b057dfbdc79'), UUID('ebb56af5-b355-4045-b9c3-1c06c512b429'), UUID('20fa4c55-127e-45a8-895d-fe2083fc78b7'), UUID('50fd42c2-55e8-4de8-9bda-b68062d2c890'), UUID('df888330-0111-4b3f-a1de-e8397a702ebe'), UUID('6500cb9a-f8eb-49fd-9647-d9b6c8042726'), UUID('dd0dfce5-8873-4dd9-99e0-37bbeb43974d'), UUID('60ce948b-d6f5-4204-9a1c-88d1f1aaa47a'), UUID('6a6f3df0-4a3a-455e-a086-8abdeb92d427'), UUID('108e68d0-f96c-49a4-8ccd-6a38f3ef33f5'), UUID('72977d3a-3c52-445e-bd29-e5a7202506bd'), UUID('9ebcc361-e2e8-465d-a500-debfc0b0d1ca'), UUID('de709025-c5e6-4973-8413-2c873840475d'), UUID('9643f8c8-63a7-4a3a-87ed-73788f385f86'), UUID('0c949e71-bece-48c4-8064-89f5648c36a2'), UUID('c8d63d4f-9880-4498-855f-16bdcacb872a'), UUID('5c662508-e233-4146-a3fb-8ccde2e3b358'), UUID('c230c171-8cf5-4003-bfd7-eb9860d1860f'), UUID('37427111-9fc7-47f9-9361-f7f88ff3f26d'), UUID('419b7cfe-ec7a-453f-9a54-4b4dbcfd1106'), UUID('746e0dcc-14eb-4f7c-9d50-939e4ed83791'), UUID('3fcfd1cc-bbbf-4f56-8469-3e8fee8dc17d'), UUID('d271eb2b-fa66-4dc5-9c3b-2cb81dd02628'), UUID('73ce7924-ac7a-4fdd-9f4e-eb30b3d364f1'), UUID('6e52c31c-f268-471e-9fd4-3e07faf9e508'), UUID('d42d6209-3b33-4d9e-9ade-bad2fa5b85c9'), UUID('8e54ef59-3b02-4653-a80b-558ef614600f'), UUID('96737413-456b-4395-bd14-af54547b712a'), UUID('6a3212fd-6fc0-4ff8-b313-e8edb910dca5'), UUID('158ae082-2ad4-4413-84b1-fda1dff2c85b'), UUID('f70f74b4-5f96-415c-bad3-7322fae2bb48'), UUID('1e9d25b9-d786-4a89-9883-fe70cd3f2f9c'), UUID('1a8a73a2-d7d4-4e54-8cff-4a17e51ca148'), UUID('d8747dac-f1cf-4226-9885-fcb5879ddd90'), UUID('984b4e01-883e-417b-944f-a72f1b6d4ea6'), UUID('08d46bf3-d8f3-4dcd-80a7-9c08adae92ba'), UUID('0c89fdb1-3601-481c-b044-d3ff1581b785'), UUID('c8dae391-b49a-40c3-b45b-390055f7679a'), UUID('dcc39e6a-c4b8-4e31-b7db-fcd98192fdca'), UUID('cde900fe-c06a-414f-8016-786bc94b74ad'), UUID('a0fcbe97-a4f4-42df-9ce4-bcb1284fbd65'), UUID('7c2dabb5-7c68-4cab-ae41-6fc1fe114508'), UUID('97ddb41d-9398-45be-9fd1-adf969c3d8f0'), UUID('b092fc8c-505a-4150-a449-ddb8a04ac691'), UUID('6f581f41-cb3b-4dbc-b926-1c81a1698dd6'), UUID('0692e6a8-746e-4347-a6a1-9c3333f129cd'), UUID('aa7c8bfd-22fe-4543-b999-4114b5caff41'), UUID('3ea8e220-e15b-4015-8b73-33fca4f23b2a'), UUID('de9082b7-b116-493f-94b6-39d653ae048e'), UUID('e689c1e1-65d6-4500-850d-347a90099be6'), UUID('9c87310c-b847-4f76-8b23-7071615a8014'), UUID('16dcbda9-07f8-4b36-8e71-103b90f44cfe'), UUID('c834ad8b-c5ed-4bc5-b11c-de6ba9c390b4'), UUID('dc847905-7e0b-43a8-a25f-6db71d9ccc80'), UUID('e5114c10-765c-405b-b301-88eff50e95a8'), UUID('e7e1c697-0771-4ffd-9a29-f13275c74802'), UUID('4bc0a20b-8387-4b22-be4a-4b13ee718080'), UUID('e2a1c28e-f31f-4e18-90ea-266eabeb9d68'), UUID('2cfab16f-387d-475e-998a-9954262d2212'), UUID('d9c6bf83-c0ea-4634-91ec-b9e5060c7b9d'), UUID('e5a3baff-65fc-4eb5-93e5-ee59dda04fd3'), UUID('8d12e46f-7d18-4d51-a27a-9af08397b802'), UUID('122ae585-a70a-43c8-a0da-b931580ceb07'), UUID('e7a9c9f6-6afa-403a-8b1c-e75ad7777044')], elapsed_seconds=0.8090970516204834, errors={}, uuids={0: UUID('23492cba-a3a4-4522-b26d-a8264311bfb9'), 1: UUID('d69cd1f6-6a23-467b-8069-3512b5133aa0'), 2: UUID('260d6514-8cc4-4578-b23a-9eefb6084fe1'), 3: UUID('13b36bf8-fa79-4a64-880b-bc24bb104a56'), 4: UUID('23714866-2c2e-4f34-9ad1-afe638957656'), 5: UUID('1286daeb-2f14-47c0-be04-78bb6f4b65ab'), 6: UUID('967a2bf6-d25a-41af-a49c-1e646e786732'), 7: UUID('359516fd-0964-402a-a9fd-a9f93549e8db'), 8: UUID('4440b3ef-d2a5-4ab8-ada8-9886c7a49dce'), 9: UUID('a971976f-9dc1-4095-945c-b5c9040de5d7'), 10: UUID('16e859b1-f462-4700-8a44-eff94cbb3fc2'), 11: UUID('876a2350-6d72-448b-b9b8-fa737400dd8c'), 12: UUID('8e42b6f0-3d93-45f1-bcbe-e5c25a942efe'), 13: UUID('e9c187e8-da54-41f5-9bc7-422c107ff646'), 14: UUID('9b07975a-2321-4bae-8293-9fa832104b94'), 15: UUID('9adc5900-e176-4233-97b7-a1e7ecd98bae'), 16: UUID('b93dbd52-5697-421b-8cb1-c7c2cb3ace24'), 17: UUID('e484efa5-b07e-4576-8ab5-f14f475e488b'), 18: UUID('8db6198c-64f1-4bb6-a51e-b5b4c24d0da3'), 19: UUID('d9c44fe1-969a-4b42-87ec-24ad3e10a7ad'), 20: UUID('b9fee348-80ba-479c-9d20-bddfde01a421'), 21: UUID('67d26839-a39b-40a2-82a2-c897bc4f4e87'), 22: UUID('e85b7c91-9b00-4c4c-b0ab-769a386dd45f'), 23: UUID('68f1b3ed-9a0a-43e9-8520-4469fd6f904e'), 24: UUID('14e72588-05a6-4920-80c3-dee30d3a47a4'), 25: UUID('8154875b-8a1a-4c84-bc97-e3d67fef7e52'), 26: UUID('98ba2448-ee21-4c16-a57c-068079f8c250'), 27: UUID('5759479b-f753-4605-aad3-05bed04f1864'), 28: UUID('940eb067-73a1-479c-bb00-961500638e56'), 29: UUID('38c242e3-39b9-418b-96cd-c2e75718f734'), 30: UUID('f2befeba-d553-4057-a06a-018360d4cd5b'), 31: UUID('baac80d1-258e-45a0-9d3f-edf938fc90a3'), 32: UUID('b14fcc9a-4bc1-4819-9f53-d52069ee2f40'), 33: UUID('def5fe1a-32d1-4879-927e-4647c454f527'), 34: UUID('136f3098-40c7-46d9-ba8a-94e13ae253cb'), 35: UUID('2aae35fb-06a9-4653-9d31-0a3728698fb8'), 36: UUID('96bb6c97-9c8b-4a62-8a5b-35dc1208874f'), 37: UUID('8c0a1f88-077c-476d-9691-74c09507a898'), 38: UUID('94e5afd5-5ac5-4a00-a4e2-201e2ad73835'), 39: UUID('9499df3a-f6a6-4a58-9f52-29c5abf25ad9'), 40: UUID('a1efd4c4-eb5c-45b2-91a3-f10e8930128b'), 41: UUID('dd08507f-012a-4cb3-90ae-8b13a880b69b'), 42: UUID('45d668dd-2d55-4af6-a5b4-d0ea7da1e30a'), 43: UUID('6b9c37a4-f9dd-4adb-8988-f62a8c8b4862'), 44: UUID('e26f31f2-9fcd-4d06-a0aa-41cd55bbfe06'), 45: UUID('0bd973f9-7a12-40a8-bded-4e8a080dabb4'), 46: UUID('436f0f6e-24e3-4895-8f3c-608dfe0ab380'), 47: UUID('148aa3a1-d6a4-4925-8d31-fe4d22e3358f'), 48: UUID('e114c1d8-8f6d-4e7d-9206-f18118fc50fe'), 49: UUID('a8fa9fa2-b266-48ba-aef5-a00d2531649a'), 50: UUID('03c5f0cf-39ee-4066-a5c5-f765bf2eb674'), 51: UUID('eb4edc3b-ac81-4f69-adef-4db8043a8b89'), 52: UUID('7de40d81-93cb-4f85-87ee-846df1965284'), 53: UUID('34206c62-d395-4c9f-805e-61236863d068'), 54: UUID('6151d38e-4e3a-4905-9f67-4e2d0b69ab3c'), 55: UUID('aa455fe0-664b-4fbf-b142-c0582c5846d0'), 56: UUID('1279afe8-bed8-4f49-84dc-9d546309ce76'), 57: UUID('44dff436-6e38-4be5-9040-5293fff5ea17'), 58: UUID('175302b3-6fad-4123-9c61-00a473af0557'), 59: UUID('31c45452-ae6a-4485-beae-d1a0cb6853a0'), 60: UUID('2d32f136-ed10-487d-86c0-ca0511892223'), 61: UUID('4166100b-fc43-4567-ba8b-513dffcadeef'), 62: UUID('c9698fd3-ad3e-447d-a3e1-ec1d06a0204a'), 63: UUID('2bd4edcc-35e8-482e-be8e-c92fe36b1786'), 64: UUID('71835636-72bd-4bba-b4ba-adc4e44332b5'), 65: UUID('ee93bac9-0f35-4b22-bdbc-8fb08b3bf30e'), 66: UUID('a8376a9a-e57e-4a1f-8922-331987154e7d'), 67: UUID('081d15dd-1d6b-4de0-962e-79d9c2c3eeb6'), 68: UUID('b867b2c5-23fa-4978-ab12-4094387c38e7'), 69: UUID('6bbc2fc5-4672-4260-9ba4-df0f7d960874'), 70: UUID('6389507b-cde6-47b8-b6bd-c9ba48b14025'), 71: UUID('f3f493f8-c27a-4ed0-805d-15c87b922aab'), 72: UUID('02527e0c-ae48-4d12-94cf-8f409eb3a901'), 73: UUID('54da02d5-cdc7-4064-b052-efdfdaf01b3a'), 74: UUID('95405b95-d166-46aa-8960-e87c0a175122'), 75: UUID('4b29df90-4a7b-4797-bd70-30dd178dca31'), 76: UUID('59d772bc-b734-4bc0-be36-47d1d4d76de2'), 77: UUID('eb7cc4bb-9596-40d6-b0f4-ad49f7f27408'), 78: UUID('74a7cbc9-fdbd-48fe-af64-cfb69da2ca42'), 79: UUID('7a129d99-c07d-4410-aa37-8fc9dd737558'), 80: UUID('97d1d993-256c-44df-9489-9553cd594537'), 81: UUID('99e92eef-098c-4707-a798-d977f5618184'), 82: UUID('5bf36029-8866-4979-9e62-7d429a1c4873'), 83: UUID('fb8576dc-9722-4e3b-8203-f8c3fcd70585'), 84: UUID('3080e980-649f-4fc9-b668-ef7eebea8f33'), 85: UUID('27246f3e-daab-42ff-a5d4-73ed1414a804'), 86: UUID('4ef650ea-f17f-4f62-bea8-6b156d57e418'), 87: UUID('65530c44-02d0-4817-9102-d98e7692ebef'), 88: UUID('5fff9d53-2727-40f0-b24d-01f22a25f45e'), 89: UUID('ead4ec21-2a71-4e42-abb7-4b943b888626'), 90: UUID('ef64dff5-bea9-45b0-99fb-d10a174f3b92'), 91: UUID('e60bf2db-9381-467d-a54a-1a0486ad0fc5'), 92: UUID('0b444292-35f4-486f-b656-cf7fc5ef9321'), 93: UUID('2cf2c741-4f21-4510-9ab6-bcd6e910d9f3'), 94: UUID('34672b70-aa7e-4425-bb5a-ad3cd42e0284'), 95: UUID('496ba311-c725-4425-9aea-cfd120cb60da'), 96: UUID('7047933a-4186-4844-a478-8a4a62032395'), 97: UUID('e2aba627-5def-4c52-a6a4-848c2e552578'), 98: UUID('9022e8f7-fb9a-4e14-8930-628490a1c165'), 99: UUID('4364d777-0c9a-4d4f-bb50-a64917cdd7f2'), 100: UUID('1c460f14-d0fd-4934-9349-c88ee372433c'), 101: UUID('f1ed3f88-2392-41be-b76a-8af241da64f2'), 102: UUID('022bfdaf-198e-44fb-9b45-2d6ac7f2f1f4'), 103: UUID('eff30307-0845-4993-8e52-93faa01baf07'), 104: UUID('fc75652b-c69f-4656-95ef-629a551d037f'), 105: UUID('b94428ae-d0d2-4678-a763-0d3d7d393f4b'), 106: UUID('ee5fc411-580b-468e-a956-1e445d8adf78'), 107: UUID('dede7c38-922e-400b-8739-9806899980cb'), 108: UUID('dabfba41-e117-4431-aaf6-98d36ed92ebe'), 109: UUID('7194f2be-c515-4a4d-a3b0-4145e7839cc1'), 110: UUID('598aa302-b7b5-477b-8f0a-1ac5abb2ca51'), 111: UUID('8230f8b7-120b-4c4c-a87a-8061e6e54a59'), 112: UUID('74d1e132-aaeb-4a71-b952-a5f85d5198a8'), 113: UUID('b507bed6-2a5f-44e8-bc6b-52e181641200'), 114: UUID('6100f2c7-93e3-4ee8-9c1e-cb01c3b1a31a'), 115: UUID('8a967833-db60-494c-bb6a-a5083ead8831'), 116: UUID('d53b0fe8-9579-492f-879b-643a30286a6c'), 117: UUID('c6518b23-9e56-4a6c-b637-c49a9be507f5'), 118: UUID('affb8914-f718-4c17-a035-d474041b5b29'), 119: UUID('5f1bb56f-4ee7-4b04-8182-bec6d2b5a949'), 120: UUID('3bcb4d29-be95-4154-ad6c-25ad02ea95a1'), 121: UUID('5d6525dd-a48d-4ce5-87da-f0f5bb2a1a0d'), 122: UUID('83ed55af-d268-44cf-a5a5-c4dbb9091116'), 123: UUID('ae592012-fa05-46e7-9225-7767b2ab1659'), 124: UUID('3e046b5b-acc9-4fd9-a37d-ce4c062ac475'), 125: UUID('87630770-1d61-4d30-bc69-bc880216b0b5'), 126: UUID('d3a09bd9-1356-47d6-9f61-1b80bea81d77'), 127: UUID('e2b1dae8-8718-49bb-b5ec-94c0e9944f0c'), 128: UUID('4b235e7f-01e1-40e6-9b16-86c4143ae1ab'), 129: UUID('a520b9f8-6cdc-41ff-95ee-2f21bb65f5df'), 130: UUID('4640126c-747a-404e-99e4-e910a5181d9e'), 131: UUID('bcf158e5-3e97-4ded-bd18-5d328c3ffe1a'), 132: UUID('8da24ccf-ee64-46a3-ae3f-4443eb99671d'), 133: UUID('857f3093-caca-483e-8487-58acfba67a46'), 134: UUID('4475c646-9b22-4eba-a8a8-f78318ea8fac'), 135: UUID('d247c62c-ac19-424a-8026-8799704d4f1d'), 136: UUID('f6d2a16c-031c-4556-86dc-925a9d3f7e56'), 137: UUID('593d984b-9639-4801-9192-a3fdf11014bf'), 138: UUID('47a38e1f-7411-403b-a866-f92f27587b67'), 139: UUID('8d106526-abbd-4521-a780-2b8fbd2cdf8d'), 140: UUID('1e15047f-d53a-414d-a656-01b830a24a26'), 141: UUID('db9f1d34-4b98-470c-b20a-c06fad3ad4c5'), 142: UUID('e3ce20ef-2dba-4532-9dea-dea2d418db15'), 143: UUID('2b07269d-468f-4946-b278-fc6fd33521aa'), 144: UUID('c6ec8fea-8027-42fe-8825-5ea7eee91afe'), 145: UUID('5ed83c11-fcbb-4a60-9883-e3970aa77ab2'), 146: UUID('ea23b77f-5f82-4867-a1e3-771ecf429659'), 147: UUID('8cdf4025-c928-42bb-8042-284880e4ebba'), 148: UUID('8a55b2d2-28b0-4af1-a2fd-485e5d4bc80a'), 149: UUID('4a91f0e3-567d-48c7-a87e-1874806698da'), 150: UUID('0eb9287e-be66-4e5c-a76e-08e814e74e99'), 151: UUID('e505a354-dc39-4539-9e57-906584421c96'), 152: UUID('b37aac8e-4c76-400f-b159-de516a32ca4d'), 153: UUID('9703af24-5881-4816-946b-acfe60aeb1e0'), 154: UUID('79cd217f-102a-44f1-85e3-31528c01c5e8'), 155: UUID('c7cf0ed5-af78-42bf-87e7-8b8f10e087ef'), 156: UUID('9d26253f-1cf6-4a6f-9610-0dc78ee15cf2'), 157: UUID('34a6da55-6d02-4bcf-a21c-7c77dc021b54'), 158: UUID('32ee9efb-84e2-407f-ad58-ea7ba921ca9c'), 159: UUID('02128b7e-c243-432f-adae-9c3f78a7042a'), 160: UUID('31493954-b001-4926-9f3a-2550f727bfd7'), 161: UUID('5a772046-eb1b-4db6-a0c9-ec7e43b869c6'), 162: UUID('d5d0edee-4894-4105-9b5a-3d0b92177718'), 163: UUID('ded395b2-e0fd-44b9-acf5-8e6dff6055ab'), 164: UUID('79c2b778-1659-4b1d-83d2-c8db556c47d2'), 165: UUID('6e48b3af-27a8-4473-86a8-f5f4aeb086ac'), 166: UUID('62c995f5-f859-4b64-bd1f-14ac7eb0e7f4'), 167: UUID('4e06cedd-3047-433b-94db-f1171b6b972b'), 168: UUID('48284ea4-c87e-4483-a0fd-8f5b3ca71f6f'), 169: UUID('98afa95a-6827-43bd-a456-90b1af56b6f0'), 170: UUID('59fa97a8-fcb1-4e5b-a354-dcabce61344d'), 171: UUID('287e7cd7-2bf8-45ae-9316-00c26d1291ec'), 172: UUID('f5f572ef-79b2-4f0d-886f-6c196b34917b'), 173: UUID('4b1470a0-fe4e-4467-a502-6071cb620f45'), 174: UUID('541fb88b-983e-4b40-8c5b-f32da68484f9'), 175: UUID('4645813c-0407-46e8-92b4-4f52a715e0ec'), 176: UUID('cf9799cf-3136-4ffd-919e-e8ad3025fdfd'), 177: UUID('3f45e940-e256-4f8b-ae69-518dd6afb44b'), 178: UUID('cc67276e-e637-4321-b8db-50ba1a94d467'), 179: UUID('15644601-6d5a-4c65-beac-4bae8028731c'), 180: UUID('a877afce-e867-490a-ba85-3d3384cbed8f'), 181: UUID('7321c78c-8f32-476d-b8cc-ef4c22a1b343'), 182: UUID('b22c4dd3-46fd-4943-80fb-adeca0bc03e3'), 183: UUID('baf819ed-0cca-4eb2-91ba-5c65c81daadd'), 184: UUID('65e3e476-7e6b-42e9-ab1f-11a548d2d382'), 185: UUID('15b2ced9-9e2f-4640-973b-445e2f73e7eb'), 186: UUID('fabea45b-1091-48ba-8e4a-bb2c42c1735d'), 187: UUID('8de0fd85-0a26-4b82-ab19-4f8dc33e0af2'), 188: UUID('9f50b1a8-fc38-4879-a016-050df3aee556'), 189: UUID('e7f9667a-1b1a-4791-8fe3-a76aaa7def03'), 190: UUID('69f8e7c2-9dcf-4846-b981-933a991e759a'), 191: UUID('f67fd3e1-3df0-4e49-93e1-754d44b4b66b'), 192: UUID('59ee2f17-fea7-49e8-852f-b561388c68a2'), 193: UUID('a302c575-fa39-40b2-9d31-be2161cbc16b'), 194: UUID('74bde8e7-1a18-42ab-a92d-5582e2a5aa56'), 195: UUID('630aabf4-ae2d-47dd-ab24-087c1fd3bc88'), 196: UUID('012101c6-8363-41bb-8bfe-c59193f6232d'), 197: UUID('f0f827f9-e170-4a4a-bc14-2ed0d5b7975d'), 198: UUID('98e0af21-7676-4d52-a646-7e67a281f302'), 199: UUID('5fa919ba-6ca9-4ccf-86cc-1f18f1a05427'), 200: UUID('9196246a-5b3e-4413-be72-92770871bd2a'), 201: UUID('49a2c2bd-8d2b-4c09-9ee2-9b1983a4d68f'), 202: UUID('02faaab8-c1b0-4329-8db6-8a6e5516b92d'), 203: UUID('2ff81772-436d-4717-b2ec-f6c089b39a7b'), 204: UUID('72a8e09d-716c-4d50-81d4-c6dc403a257a'), 205: UUID('2aa62d24-12d0-4a49-8a0e-eadea2a2bc67'), 206: UUID('003dd5e6-6a72-4d62-98c3-f024cdf5c508'), 207: UUID('fba0750b-3a98-4523-80f6-2b03dc475e46'), 208: UUID('f6eefc7b-31eb-4549-94b9-80b6a34153a0'), 209: UUID('5d4fb336-f94b-48ba-a56b-93b4e66e4e9b'), 210: UUID('ed7809c8-2104-432a-9d79-7b9d9b014c26'), 211: UUID('9bd7ac00-5a5a-4901-9c83-a258fc932c65'), 212: UUID('a4b21faa-e0df-42b4-a0ba-8fd460c9120a'), 213: UUID('7e4bc360-bb75-4abe-86fd-f957eac97657'), 214: UUID('c1ea652c-26f5-4e7a-ace6-b2313fad87f2'), 215: UUID('97f313d3-af84-42d0-af14-bfc54c1e24de'), 216: UUID('7b3bb513-a6fe-40ed-8c2c-30e3ff20da0b'), 217: UUID('1241bb5c-0833-4af4-8b6b-cddd351ec50a'), 218: UUID('9b0e1ab1-31a4-4767-b5d0-3af6b9678369'), 219: UUID('17d24ae3-48f6-4d05-b16f-87750797041e'), 220: UUID('6103bc21-998f-4a0c-8ab6-9f8a578d6829'), 221: UUID('063670ca-ba53-4657-aa24-89fc9a25148c'), 222: UUID('abb90ba4-77bd-46a3-9481-8c855542200e'), 223: UUID('afd685b5-2656-49bc-9e29-fb33ef05a99d'), 224: UUID('372290f5-ae1d-4518-84ca-451b9dcb7273'), 225: UUID('b080ae66-2e43-4704-b7b7-4da63b30e8ea'), 226: UUID('1e893fcf-ed5e-4a1f-b0ca-9cdecff48501'), 227: UUID('e8069eaa-052b-438f-acec-0e5f3ea51145'), 228: UUID('68d03fc1-43d5-4fa9-9d85-ed2a038ccbbe'), 229: UUID('23c45742-ff0c-4506-90ec-273c4967e163'), 230: UUID('582c7545-7acb-4d17-999a-5e0bc39ba052'), 231: UUID('ebb6e68d-ec2c-46b4-9f05-cba758433080'), 232: UUID('03d6afcc-1c9b-46a8-bfb7-7bbefaac39ce'), 233: UUID('d1202b98-7a1b-4d02-94e1-37f451e3382d'), 234: UUID('af48a096-2644-4070-a5a3-94c34aad6a7d'), 235: UUID('c96997c3-85c8-4aae-90c0-06e471f966e7'), 236: UUID('3d0d007a-48e6-4e8a-8585-0b6a954213c0'), 237: UUID('95f0e542-b021-4446-88d4-d1c9ad8518f8'), 238: UUID('e8f983bc-1b8f-4af5-85bd-fae0e9fec5d2'), 239: UUID('6d58ed14-bc1d-49cf-8277-c5f106aa6e3a'), 240: UUID('7b9df989-51e0-4b62-9604-6e0dfbb323e9'), 241: UUID('a5a34a60-2e34-4b7c-812e-81b77d635889'), 242: UUID('1c8036ce-9393-44f4-8139-8debe28c824c'), 243: UUID('efc42c69-7b79-44f9-a2c9-54367109539f'), 244: UUID('7ec26d91-55c3-4c4f-9e69-56e778accc5e'), 245: UUID('465828e1-930b-4c11-a276-85ff8b394020'), 246: UUID('4cf83528-f485-4705-9d47-de0e2b8950b9'), 247: UUID('4cf8c0ca-e178-47a5-8746-fcd1e6dc565c'), 248: UUID('067b2df7-4231-4977-b22b-d016f5389fb1'), 249: UUID('09489984-4a1d-4660-99b4-b71e002a35b2'), 250: UUID('b003368d-2986-4557-9ff3-e630fb2cdc9d'), 251: UUID('7dfc5abe-76ea-402f-a279-4b49a21acfc7'), 252: UUID('87ef48a6-8994-4736-9054-5f0219a56ca2'), 253: UUID('4e1c338d-87ea-4f41-b213-412f364a39c7'), 254: UUID('c599ab46-8924-4130-805a-f1f825c97940'), 255: UUID('07101ec3-0447-4fa9-a0b0-59306417df28'), 256: UUID('7016bf61-0697-4c6b-b0ad-6215ea57fd46'), 257: UUID('1b9a77cb-0c23-4da6-baf3-8b292b933bc6'), 258: UUID('26626fc0-96ec-4b87-9bef-b77a8614309c'), 259: UUID('ad6aecf0-5e52-4181-94ef-874c6a844ae3'), 260: UUID('2890f922-ab4d-40b0-97bd-555a5d769e6b'), 261: UUID('cedc13ec-cf8e-4b83-9ef3-96b256549b3c'), 262: UUID('afe15001-45fc-47fe-bff6-d6a8cdcc26fd'), 263: UUID('26f8d90f-505b-4fe2-a995-e369fff2522a'), 264: UUID('a182f47e-10cd-4564-acf7-7d954b620e70'), 265: UUID('db2141e8-2991-44c3-be8a-6e39fa2869f3'), 266: UUID('feffe9d2-2e26-4a32-ad34-cd6c55548731'), 267: UUID('b6a4cfcf-e617-4ce1-b582-e568f001e33e'), 268: UUID('5fa0d770-ee36-47cc-a5fe-fc3d6a142b41'), 269: UUID('271ee117-5127-4d97-ae48-e86f593aec07'), 270: UUID('8f45f72c-cfa5-4b9e-9fd3-ddcf2487293a'), 271: UUID('e12d776b-3c50-4b5b-9b32-1deea3fa7fb2'), 272: UUID('2e29ef58-55fd-481d-8923-260407880595'), 273: UUID('c2fa9aec-d3ad-4166-91df-fe6b6934bf9f'), 274: UUID('cd450762-d76f-4242-a485-09c8d34eedc9'), 275: UUID('1046c72b-ff3b-4f31-95ee-744622e41a5f'), 276: UUID('343166ee-d9d5-4eea-9e76-0cd651aa037f'), 277: UUID('36c40e53-eeb3-4b53-9944-cbbd99ec83bc'), 278: UUID('7bcd25f9-2ae0-4659-9e1d-b0e7be001585'), 279: UUID('5639600b-f8ee-486b-bb57-f1e4accf8db6'), 280: UUID('3de7b4eb-eed6-4ac6-bc76-b817e70b5000'), 281: UUID('9560caba-438e-4b8f-9eff-1d94613c6545'), 282: UUID('de5c5d4a-0e74-44fd-8e5e-3bb2d08b9c8a'), 283: UUID('089a8ab5-de72-41a2-8da1-229688cd1912'), 284: UUID('bfe73816-d93b-4872-92b5-a119ef755811'), 285: UUID('92309dc6-e277-4542-af9e-8dad6cb27062'), 286: UUID('8e0b1de9-ae71-47cc-bc73-b28e9291e32d'), 287: UUID('1f5bbb96-f51f-458f-b083-746888252912'), 288: UUID('3bb368b1-c5d4-43ec-af6d-eaa9b730b53f'), 289: UUID('b2933f9e-34ff-4806-9dc2-032eec486f46'), 290: UUID('0c4ebc69-2f60-4e80-b51b-0a136412183f'), 291: UUID('50cef0d0-28a7-4837-aaf5-5f3ed64cb8be'), 292: UUID('63fa1668-dbc5-414a-baa6-6f2aeef44613'), 293: UUID('8daf9eaf-68ce-4fb5-832d-db19e86905f3'), 294: UUID('03884631-1a2f-4dbf-b008-6e439196ca94'), 295: UUID('c2712796-d8f3-4a8b-8331-2201dfd018e7'), 296: UUID('d7c6a8ef-c438-47f3-bec8-d45e7bb518e1'), 297: UUID('83b83f34-a15f-4a04-a5f8-2eb7b4e06569'), 298: UUID('cd615f3f-4547-4c7c-a71d-b0759f8416e0'), 299: UUID('f279e90d-1117-431d-9935-acc0adf5eb91'), 300: UUID('22f1db41-d5b9-4fe7-9af0-99b7b8792fc5'), 301: UUID('4635b1f1-dcf6-4a13-9c51-8ea76d157f39'), 302: UUID('c3ebc0f0-1cc2-4433-877b-b640784d34bd'), 303: UUID('18321898-f97a-4c6f-80ec-8daa7740c268'), 304: UUID('e68eae46-0476-4201-9c8a-d6edb91f072a'), 305: UUID('ddd39d11-0786-4d7e-a689-57ac205bdcab'), 306: UUID('a8438354-9ded-4d35-87b1-5130afe59e87'), 307: UUID('0dd2f717-0325-4fbc-988c-df69a4a99806'), 308: UUID('a43a14d5-029c-4591-9537-f79f03e1e1fa'), 309: UUID('7849a3a3-eba2-41e3-9627-55ac319380d7'), 310: UUID('230c5c04-8791-4232-bde7-d1507d158c61'), 311: UUID('fd9b83d7-7527-40e6-86b9-29a4d4e7a214'), 312: UUID('6f2dc0b5-e7d9-438b-8ec8-920a97f5ae5b'), 313: UUID('6630ea65-e026-4808-9145-248a069016ee'), 314: UUID('c1a80ed0-1522-42e4-9280-f0faca9b98d8'), 315: UUID('40de5d25-cfab-4e54-99ca-98057920d2ee'), 316: UUID('e98375fa-cc1a-4cf7-8af9-c13a4a60f62f'), 317: UUID('7d1adc0d-741f-4a96-8c7b-4acbab316a8d'), 318: UUID('d728bcc3-e4da-4e26-9444-6f7636cc1bc4'), 319: UUID('a022ca89-81a3-4831-a452-b19fa8a6a603'), 320: UUID('9f3a2df9-16c2-4acd-bdb2-8602094014f7'), 321: UUID('5ea20cbe-0a00-45a4-b3b0-41811e5821dc'), 322: UUID('04db4624-b004-4dc8-88f1-0659c2836d8e'), 323: UUID('b378c628-2c6a-403f-a1ca-ab03535fb21f'), 324: UUID('d92a1ec5-1464-4d56-b5b7-93332ce8d35e'), 325: UUID('07695a70-e85a-4d85-8b5c-45aa3e5cf4c2'), 326: UUID('70df3642-ab9f-496f-99cb-1298992515af'), 327: UUID('6cf8e0a9-01d0-4694-9d2a-6455551c0867'), 328: UUID('ad1c207a-bfc2-456a-bef5-e4675b1195cd'), 329: UUID('b270b40b-fc6f-4c2a-adfc-905d26df2edb'), 330: UUID('443cc364-8268-4fb6-a552-41d3d100fc20'), 331: UUID('10b47388-6185-42ac-8ba3-d3a89b892a03'), 332: UUID('79318c01-8648-42a9-9c33-d55ab1faafef'), 333: UUID('fd917e4a-fae4-46fb-8990-fa70995c4fea'), 334: UUID('1cbe14a2-9427-40a9-a78f-e60315d730e3'), 335: UUID('c96ce62f-cd87-4438-8109-909b8e7d72d4'), 336: UUID('d72ac308-c029-4734-8758-26eb12f6a36a'), 337: UUID('1878e7a7-cec1-40c7-8753-eadf956f3151'), 338: UUID('9b0f2173-bfa9-4742-bc91-130592ca9a3f'), 339: UUID('436ff3fa-b557-48f2-90ea-705bfe6bba1d'), 340: UUID('0e2bc81a-0776-434b-bcba-88ecfc198232'), 341: UUID('399ad012-6025-424f-a799-980bbfa21dc3'), 342: UUID('360ebff3-e970-4590-a540-8eba9c977124'), 343: UUID('c756e1e5-c435-4cfd-91e4-3b057dfbdc79'), 344: UUID('ebb56af5-b355-4045-b9c3-1c06c512b429'), 345: UUID('20fa4c55-127e-45a8-895d-fe2083fc78b7'), 346: UUID('50fd42c2-55e8-4de8-9bda-b68062d2c890'), 347: UUID('df888330-0111-4b3f-a1de-e8397a702ebe'), 348: UUID('6500cb9a-f8eb-49fd-9647-d9b6c8042726'), 349: UUID('dd0dfce5-8873-4dd9-99e0-37bbeb43974d'), 350: UUID('60ce948b-d6f5-4204-9a1c-88d1f1aaa47a'), 351: UUID('6a6f3df0-4a3a-455e-a086-8abdeb92d427'), 352: UUID('108e68d0-f96c-49a4-8ccd-6a38f3ef33f5'), 353: UUID('72977d3a-3c52-445e-bd29-e5a7202506bd'), 354: UUID('9ebcc361-e2e8-465d-a500-debfc0b0d1ca'), 355: UUID('de709025-c5e6-4973-8413-2c873840475d'), 356: UUID('9643f8c8-63a7-4a3a-87ed-73788f385f86'), 357: UUID('0c949e71-bece-48c4-8064-89f5648c36a2'), 358: UUID('c8d63d4f-9880-4498-855f-16bdcacb872a'), 359: UUID('5c662508-e233-4146-a3fb-8ccde2e3b358'), 360: UUID('c230c171-8cf5-4003-bfd7-eb9860d1860f'), 361: UUID('37427111-9fc7-47f9-9361-f7f88ff3f26d'), 362: UUID('419b7cfe-ec7a-453f-9a54-4b4dbcfd1106'), 363: UUID('746e0dcc-14eb-4f7c-9d50-939e4ed83791'), 364: UUID('3fcfd1cc-bbbf-4f56-8469-3e8fee8dc17d'), 365: UUID('d271eb2b-fa66-4dc5-9c3b-2cb81dd02628'), 366: UUID('73ce7924-ac7a-4fdd-9f4e-eb30b3d364f1'), 367: UUID('6e52c31c-f268-471e-9fd4-3e07faf9e508'), 368: UUID('d42d6209-3b33-4d9e-9ade-bad2fa5b85c9'), 369: UUID('8e54ef59-3b02-4653-a80b-558ef614600f'), 370: UUID('96737413-456b-4395-bd14-af54547b712a'), 371: UUID('6a3212fd-6fc0-4ff8-b313-e8edb910dca5'), 372: UUID('158ae082-2ad4-4413-84b1-fda1dff2c85b'), 373: UUID('f70f74b4-5f96-415c-bad3-7322fae2bb48'), 374: UUID('1e9d25b9-d786-4a89-9883-fe70cd3f2f9c'), 375: UUID('1a8a73a2-d7d4-4e54-8cff-4a17e51ca148'), 376: UUID('d8747dac-f1cf-4226-9885-fcb5879ddd90'), 377: UUID('984b4e01-883e-417b-944f-a72f1b6d4ea6'), 378: UUID('08d46bf3-d8f3-4dcd-80a7-9c08adae92ba'), 379: UUID('0c89fdb1-3601-481c-b044-d3ff1581b785'), 380: UUID('c8dae391-b49a-40c3-b45b-390055f7679a'), 381: UUID('dcc39e6a-c4b8-4e31-b7db-fcd98192fdca'), 382: UUID('cde900fe-c06a-414f-8016-786bc94b74ad'), 383: UUID('a0fcbe97-a4f4-42df-9ce4-bcb1284fbd65'), 384: UUID('7c2dabb5-7c68-4cab-ae41-6fc1fe114508'), 385: UUID('97ddb41d-9398-45be-9fd1-adf969c3d8f0'), 386: UUID('b092fc8c-505a-4150-a449-ddb8a04ac691'), 387: UUID('6f581f41-cb3b-4dbc-b926-1c81a1698dd6'), 388: UUID('0692e6a8-746e-4347-a6a1-9c3333f129cd'), 389: UUID('aa7c8bfd-22fe-4543-b999-4114b5caff41'), 390: UUID('3ea8e220-e15b-4015-8b73-33fca4f23b2a'), 391: UUID('de9082b7-b116-493f-94b6-39d653ae048e'), 392: UUID('e689c1e1-65d6-4500-850d-347a90099be6'), 393: UUID('9c87310c-b847-4f76-8b23-7071615a8014'), 394: UUID('16dcbda9-07f8-4b36-8e71-103b90f44cfe'), 395: UUID('c834ad8b-c5ed-4bc5-b11c-de6ba9c390b4'), 396: UUID('dc847905-7e0b-43a8-a25f-6db71d9ccc80'), 397: UUID('e5114c10-765c-405b-b301-88eff50e95a8'), 398: UUID('e7e1c697-0771-4ffd-9a29-f13275c74802'), 399: UUID('4bc0a20b-8387-4b22-be4a-4b13ee718080'), 400: UUID('e2a1c28e-f31f-4e18-90ea-266eabeb9d68'), 401: UUID('2cfab16f-387d-475e-998a-9954262d2212'), 402: UUID('d9c6bf83-c0ea-4634-91ec-b9e5060c7b9d'), 403: UUID('e5a3baff-65fc-4eb5-93e5-ee59dda04fd3'), 404: UUID('8d12e46f-7d18-4d51-a27a-9af08397b802'), 405: UUID('122ae585-a70a-43c8-a0da-b931580ceb07'), 406: UUID('e7a9c9f6-6afa-403a-8b1c-e75ad7777044')}, has_errors=False)"
      ]
     },
     "execution_count": 9,
     "metadata": {},
     "output_type": "execute_result"
    }
   ],
   "source": [
    "# add data with manual embeddings\n",
    "data = []\n",
    "for i in range(len(chunks)):\n",
    "    data.append(wvc.data.DataObject(\n",
    "            properties={\n",
    "                \"content\": chunks[i]\n",
    "            },\n",
    "            vector = chunk_embeddings[i].tolist()\n",
    "    )\n",
    ")\n",
    "\n",
    "late_chunking_collection.data.insert_many(data)"
   ]
  },
  {
   "cell_type": "markdown",
   "metadata": {},
   "source": [
    "### Example Query\n",
    "\n",
    "First, define two functions to process queries. One using our Weaviate collection, and a different, slower search using cosine similarity running locally that we will use for comparison."
   ]
  },
  {
   "cell_type": "code",
   "execution_count": 10,
   "metadata": {},
   "outputs": [],
   "source": [
    "def late_chunking_query_function_weaviate(query, k = 3):\n",
    "    query_vector = model(**tokenizer(query, return_tensors=\"pt\")).last_hidden_state.mean(1).detach().cpu().numpy().flatten()\n",
    "\n",
    "    results = late_chunking_collection.query.near_vector(\n",
    "        near_vector=query_vector.tolist(),\n",
    "        limit = k\n",
    "    )\n",
    "\n",
    "    return [res.properties[\"content\"] for res in results.objects]\n",
    "\n",
    "def late_chunking_query_function_cosine_sim(query, k = 3):\n",
    "\n",
    "    cos_sim = lambda x, y: np.dot(x, y) / (np.linalg.norm(x) * np.linalg.norm(y))\n",
    "\n",
    "    query_vector = model(**tokenizer(query, return_tensors=\"pt\")).last_hidden_state.mean(1).detach().cpu().numpy().flatten()\n",
    "\n",
    "    results = np.empty(len(chunk_embeddings))\n",
    "    for i, (chunk, embedding) in enumerate(zip(chunks, chunk_embeddings)):\n",
    "        results[i] = cos_sim(query_vector, embedding)\n",
    "\n",
    "    results_order = results.argsort()[::-1]\n",
    "    return np.array(chunks)[results_order].tolist()[:k]"
   ]
  },
  {
   "cell_type": "markdown",
   "metadata": {},
   "source": [
    "Test both search functions."
   ]
  },
  {
   "cell_type": "code",
   "execution_count": 11,
   "metadata": {},
   "outputs": [
    {
     "data": {
      "text/plain": [
       "['The Independent Evangelical Lutheran Church has eight parishes of different sizes in Berlin.[131] There are 36 Baptist congregations (within Union of Evangelical Free Church Congregations in Germany), 29 New Apostolic Churches, 15 United Methodist churches, eight Free Evangelical Congregations, four Churches of Christ, Scientist (1st, 2nd, 3rd, and 11th), six congregations of the Church of Jesus Christ of Latter-day Saints, an Old Catholic church, and an Anglican church in Berlin.',\n",
       " 'Each borough has several subdistricts or neighborhoods (Ortsteile), which have roots in much older municipalities that predate the formation of Greater Berlin on 1 October 1920.',\n",
       " 'The Senate consists of the Governing Mayor of Berlin (Regierender Bürgermeister), and up to ten senators holding ministerial positions, two of them holding the title of \"Mayor\" (Bürgermeister) as deputy to the Governing Mayor.[134]\\n\\n\\nCharlottenburg Town Hall\\n\\nRathaus Spandau\\nThe total annual budget of Berlin in 2015 exceeded €24.5 ($30.0) billion including a budget surplus of €205 ($240) million.[135] The German Federal city state of Berlin owns extensive assets, including administrative and government buildings, real estate companies, as well as stakes in the Olympic Stadium, swimming pools, housing companies, and numerous public enterprises and subsidiary companies.[136][137] The federal state of Berlin runs a real estate portal to advertise commercial spaces or land suitable for redevelopment.[138]\\n\\nThe Social Democratic Party (SPD) and The Left (Die Linke) took control of the city government after the 2001 state election and won another term in the 2006 state election.[139] From the 2016 state election until the 2023 state election, there was a coalition between the Social Democratic Party, the Greens and the Left Party.',\n",
       " 'Since April 2023, the government has been formed by a coalition between the Christian Democrats and the Social Democrats.[140]\\n\\nThe Governing Mayor is simultaneously Lord Mayor of the City of Berlin (Oberbürgermeister der Stadt) and Minister President of the State of Berlin (Ministerpräsident des Bundeslandes).',\n",
       " '24] About 2.7% of the population identify with other Christian denominations (mostly Eastern Orthodox, but also various Protestants).[125] According to the Berlin residents register, in 2018 14.9 percent were members of the Evangelical Church, and 8.5 percent were members of the Catholic Church.[103] The government keeps a register of members of these churches for tax purposes, because it collects church tax on behalf of the churches.']"
      ]
     },
     "execution_count": 11,
     "metadata": {},
     "output_type": "execute_result"
    }
   ],
   "source": [
    "late_chunking_query_function_weaviate(\"What are the different demographics of Berlin?\", 5)"
   ]
  },
  {
   "cell_type": "code",
   "execution_count": 12,
   "metadata": {},
   "outputs": [
    {
     "data": {
      "text/plain": [
       "['The Independent Evangelical Lutheran Church has eight parishes of different sizes in Berlin.[131] There are 36 Baptist congregations (within Union of Evangelical Free Church Congregations in Germany), 29 New Apostolic Churches, 15 United Methodist churches, eight Free Evangelical Congregations, four Churches of Christ, Scientist (1st, 2nd, 3rd, and 11th), six congregations of the Church of Jesus Christ of Latter-day Saints, an Old Catholic church, and an Anglican church in Berlin.',\n",
       " 'Each borough has several subdistricts or neighborhoods (Ortsteile), which have roots in much older municipalities that predate the formation of Greater Berlin on 1 October 1920.',\n",
       " 'The Senate consists of the Governing Mayor of Berlin (Regierender Bürgermeister), and up to ten senators holding ministerial positions, two of them holding the title of \"Mayor\" (Bürgermeister) as deputy to the Governing Mayor.[134]\\n\\n\\nCharlottenburg Town Hall\\n\\nRathaus Spandau\\nThe total annual budget of Berlin in 2015 exceeded €24.5 ($30.0) billion including a budget surplus of €205 ($240) million.[135] The German Federal city state of Berlin owns extensive assets, including administrative and government buildings, real estate companies, as well as stakes in the Olympic Stadium, swimming pools, housing companies, and numerous public enterprises and subsidiary companies.[136][137] The federal state of Berlin runs a real estate portal to advertise commercial spaces or land suitable for redevelopment.[138]\\n\\nThe Social Democratic Party (SPD) and The Left (Die Linke) took control of the city government after the 2001 state election and won another term in the 2006 state election.[139] From the 2016 state election until the 2023 state election, there was a coalition between the Social Democratic Party, the Greens and the Left Party.',\n",
       " 'Since April 2023, the government has been formed by a coalition between the Christian Democrats and the Social Democrats.[140]\\n\\nThe Governing Mayor is simultaneously Lord Mayor of the City of Berlin (Oberbürgermeister der Stadt) and Minister President of the State of Berlin (Ministerpräsident des Bundeslandes).',\n",
       " '24] About 2.7% of the population identify with other Christian denominations (mostly Eastern Orthodox, but also various Protestants).[125] According to the Berlin residents register, in 2018 14.9 percent were members of the Evangelical Church, and 8.5 percent were members of the Catholic Church.[103] The government keeps a register of members of these churches for tax purposes, because it collects church tax on behalf of the churches.']"
      ]
     },
     "execution_count": 12,
     "metadata": {},
     "output_type": "execute_result"
    }
   ],
   "source": [
    "late_chunking_query_function_cosine_sim(\"What are the different demographics of Berlin?\", 5)"
   ]
  },
  {
   "cell_type": "markdown",
   "metadata": {},
   "source": [
    "Both give the same results so we are confident that our vector search for late chunking works! We would expect something slightly different as Weaviate uses HNSW for a speedy search, and we have directly used cosine similarity, but in this case, they are the same."
   ]
  },
  {
   "cell_type": "markdown",
   "metadata": {},
   "source": [
    "For comparison, let's look at what a naive chunking method implemented with Weaviate's search would give us."
   ]
  },
  {
   "cell_type": "code",
   "execution_count": 13,
   "metadata": {},
   "outputs": [
    {
     "data": {
      "text/plain": [
       "BatchObjectReturn(_all_responses=[UUID('cbba2b0e-20e5-473a-903b-a378d01deec2'), UUID('f6d4688a-b1bf-47bd-9b70-fda726703832'), UUID('5edd0455-81e3-4aba-9361-717c99b8c23b'), UUID('19e868bb-7920-405f-9934-2b7df5b238f2'), UUID('a4e0b59d-f1e4-4251-8675-4ad4ea440bfa'), UUID('a27fd2d5-29a4-4997-be97-d660721d6cb9'), UUID('2b590b5b-0176-4889-a12a-67929d3890fe'), UUID('2d1513d1-26db-4cbd-9ca1-ead8afd0506b'), UUID('4542b504-3711-4624-add9-5c0abbcd9aaa'), UUID('bdbcb16e-062f-4db9-9f92-80fcc4f00a76'), UUID('68d3ed9c-314b-48ea-9f84-fc5748b8422b'), UUID('368f4e82-4804-4460-ba2b-ade2818c4f9c'), UUID('1353715a-9d59-47cf-9a32-8e2d09d98ed8'), UUID('2c930c7e-0182-4361-bf89-6854b13a884f'), UUID('e4b33a73-915c-46f9-a268-b61936ac2224'), UUID('c750ad5e-4c69-4121-9a81-3a0a88968e02'), UUID('8c2cb52a-40b5-4330-b2db-f1b979160a10'), UUID('fdf44430-5124-4f4d-a303-a8d74c3444fd'), UUID('de3417af-2690-4d1f-bfb4-d8dc1213e78e'), UUID('629250c2-25fb-4989-a88f-9777f956e9a2'), UUID('9901135e-739a-48da-90e4-a176d28d1cd9'), UUID('442b9686-2be6-4d77-a49a-388a294126b5'), UUID('c84d3b36-4e5c-4e58-a0a2-232fa51757f3'), UUID('032f5f46-680d-408e-bbed-7c0273eed177'), UUID('a6dfb6da-917e-4c66-88ab-2d2e497e07ea'), UUID('0c0b70f0-5611-4003-b47b-52d6cc745112'), UUID('9e2beb7b-4ab0-4b56-8f78-f5a8a40e1b4d'), UUID('6d2ea678-4b6f-4311-832f-8b264fd2723a'), UUID('dc884c0e-3e97-4e8a-aae7-f046a76af269'), UUID('b63a89ee-92ce-4348-af5f-ad9913671b8d'), UUID('1368f079-b274-48ee-a557-5dba3acf79ac'), UUID('ca420b2e-ed3b-4771-bfcc-02fda7a52b3b'), UUID('8fdeeb39-08ae-4c52-93a7-404c8dc6ce1a'), UUID('64104e71-6ba2-4f6b-a5eb-0bb2ea20a2da'), UUID('73520dc9-4416-4def-bb5c-7c4dcefa8ec6'), UUID('f87e9239-527c-4842-97ae-1b1deaef45a8'), UUID('48534147-0296-4740-81fc-bfc84e8f7328'), UUID('748be668-dd49-4805-b6b8-12bd5059da67'), UUID('b3364db6-ba08-4d45-9790-e79191f1034a'), UUID('81a571eb-8b8d-43a0-83bc-80094d98997e'), UUID('700350d4-41c4-43e0-bff3-1ae8a84f6de0'), UUID('7e622bce-e241-4e50-a74b-9ed2b7aefe58'), UUID('98a1cf1a-29b0-494a-884c-e86f1ea1419a'), UUID('3c6c56c6-cf7f-462d-b4cf-f9392b6863e4'), UUID('32a30575-8dd0-4972-9834-35210787c8a1'), UUID('895e3928-7f18-4e51-8c60-17298ac6803b'), UUID('9b551842-24fd-454b-8288-15049fbf33a9'), UUID('bd028a31-98f1-40fe-a231-fb592cdb95da'), UUID('d282fe3c-6bab-4ab1-a919-97b5667591a3'), UUID('e612c2c0-2c37-4b49-9595-f22bee427b3b'), UUID('7dc4916b-f99b-4009-bfad-0dcec51ed1a1'), UUID('91f321ed-5ab8-4c72-88d3-36c1f2399dce'), UUID('7cd11e45-4628-481d-b019-5aee556289dd'), UUID('226a0f34-ddef-4110-a4d8-239ea3af0633'), UUID('4512d2ec-4b2e-48e4-8882-dc47592c5fcb'), UUID('8f58b72d-a699-4559-8f73-edbde945ace3'), UUID('631c9d3e-c69a-4095-aa74-3fa0d9153af1'), UUID('dd5f32df-c4d1-4315-8fb0-46a0e028ef95'), UUID('3cccfa2b-be6b-4c45-94aa-d1ea0255138c'), UUID('c132e7c4-22ae-4ce6-ab57-3a917319b7d4'), UUID('4cf94e55-77b2-485a-8f14-dbd8db470047'), UUID('276d5d46-36af-4fb5-bcb5-45c62d3d2bf5'), UUID('d2ded2e5-a131-4e77-b216-3ddaf590a4bf'), UUID('8583cdc5-b063-438f-8b36-9a75dba09cc2'), UUID('6a22f1d8-0105-477b-a03b-cb21227afce0'), UUID('595c8910-e5ab-4116-8e70-6338815b6de0'), UUID('ec75afe5-0b7a-4ad8-8347-99e99c823e79'), UUID('e9d0476e-a0ea-408e-b9bf-0bac861d13d0'), UUID('8fbb862f-55f5-4de7-bc72-178ce5b8d765'), UUID('27440cd8-c753-4b16-8d4d-d983b9afa883'), UUID('067e458f-c08f-4fc9-9192-685b894d5264'), UUID('ec438fef-245f-4ff7-a9de-c6ae19b3f003'), UUID('e51f3f9c-8222-4571-a8e5-193fec55f9db'), UUID('e3a6d03d-9c06-445e-8543-d651ad16bc81'), UUID('e7a627f3-ff34-43e6-950f-a47eeea67594'), UUID('b7c85439-9cbe-4fa5-b67a-aa3179b0e630'), UUID('6e5e0fc6-ff23-4ea6-afa5-9fa82f893ddf'), UUID('a2b1a05b-38bf-49af-9d95-1e8430076421'), UUID('b9c8376d-8f03-434a-83e0-cfb3be4b510d'), UUID('f7389b70-6c4e-4b36-b9e8-f3256e1f3a04'), UUID('3543eb8a-44ce-4ab5-8b44-9ffa0bc9aa80'), UUID('a8774acc-c6b1-4c49-b367-e2504764bfa2'), UUID('4b302639-cdb4-4f4b-ba7f-56f99ffff88d'), UUID('bb79f722-9dfa-42a3-b34b-fed7baba6821'), UUID('d7a46618-699f-457e-a439-ab204c276747'), UUID('638f0dee-c642-40f9-b092-6c18065dd669'), UUID('3506dbde-9c93-4b12-bcf6-a5e1ec164d41'), UUID('37ab47a7-3d12-4ba9-aafb-69597b8c6093'), UUID('9c6f2f0e-7687-4a68-8ec8-6c185369a5d4'), UUID('63f76381-d2ac-4663-959c-7f06ba9e7346'), UUID('4e475fef-914d-43b9-8690-3b4de7c0735f'), UUID('77816470-48be-49d0-b3dd-3f1d30550049'), UUID('61d10bc8-b77d-4c3b-a3bb-b0df81e882ee'), UUID('f40c1b24-c8eb-48c7-ac0d-e2747e1d9c99'), UUID('64128d8e-f63a-441b-9201-4d3375222892'), UUID('252bf394-54e1-40fe-9cb0-cbcfc92d674a'), UUID('b0bfdc96-0041-4ada-b1af-4450579b1712'), UUID('63325682-d618-4756-b366-e0afcbc4ea89'), UUID('aa3f758e-2a9e-4395-92e9-865672844090'), UUID('ca264f06-54b0-4eef-b092-51c2e6e9ac58'), UUID('56677735-df47-4628-9a30-c71d78e4f423'), UUID('f7c27783-2bce-4dd5-aaa8-110b1ba3af35'), UUID('d529c165-4347-4202-82d4-fce288c5c74a'), UUID('2e7bfc21-e55b-4b75-a3dc-22fbed390015'), UUID('7a97dab3-7434-40d6-8ffd-1e1e195827bf'), UUID('3bbe2cc9-75da-45f4-8d63-da9130cc7ef6'), UUID('5d960e26-0e84-4f6b-85eb-de8865ca2a3f'), UUID('82984976-a145-4eb3-8b12-1afab4c364a0'), UUID('787b7e2f-7fee-4c30-9512-6a1eb51eb920'), UUID('f7fb02df-2c1c-408d-bee7-321629ad1534'), UUID('3dd9201d-b447-4e7a-9850-34b98ba31a8b'), UUID('99618ea9-3edf-4a28-9602-bfa285a7277e'), UUID('52398243-fda6-4bca-a060-327c05c83820'), UUID('16b88e9c-48d3-4968-9b43-7f3535dc95b1'), UUID('7cd533a8-882e-4d59-869b-66e32a72a58c'), UUID('86148f60-cba2-4d5c-887c-595f1aa22112'), UUID('01344a47-60f7-448f-83b1-d190113681a4'), UUID('e8fd72aa-fe5a-4112-b353-430ddf899582'), UUID('f0602896-b02f-4c31-a283-2872b13e64f3'), UUID('1aecf8e1-6687-4369-bdcb-6e043c25770c'), UUID('96bffe80-cc2f-4cde-98aa-cc29e88d97bb'), UUID('86eb5116-0c58-46b2-b644-e12477612adc'), UUID('86ba7bcd-61d7-47d3-847c-d61d88471a1e'), UUID('8a932eac-998c-4e35-8019-0691dd4135e9'), UUID('a3dc72cf-bb22-409c-928b-a8ba4be7f936'), UUID('c5aeb5b1-d625-4914-ab0e-fbff7c94e93b'), UUID('28da13b3-2313-47cb-881a-7cb9638af601'), UUID('8f8d4309-47b5-422c-8aff-41011bd13133'), UUID('54b0a368-a9a6-406e-8a34-7cf97cc8972f'), UUID('ff421576-5783-49bd-9985-785c37f2e44d'), UUID('96ec97cc-096d-454e-861f-b833bec4854e'), UUID('3e642fa7-5ce4-4130-8cdd-52d9daaa63ee'), UUID('31df3753-bcb4-4791-9e77-38305e8895c1'), UUID('887d2126-ff17-4476-91fd-d417a2849d5b'), UUID('059d07c4-1686-4d1b-8815-e52933e7f5dc'), UUID('f5044144-b565-4883-b9e6-2c508db31cb4'), UUID('48d564a6-13e3-4164-9a49-cf7123f80ea2'), UUID('848a41f5-c429-4898-a224-9c56b70641a9'), UUID('28ed9856-e548-4623-a02a-2921e9dc93af'), UUID('97691dd4-106f-4c54-a1a9-dd2816870865'), UUID('cef3592e-8e26-4566-8b12-ba807feaab8e'), UUID('745eaf0b-7648-4010-9b0e-b57b9d18dc0d'), UUID('935ca567-ba90-4fe4-b998-f102dda7d715'), UUID('e7ac9eae-892f-47c7-b5b4-bc9bcb1c9658'), UUID('f1434946-e09d-4718-a699-2715c24b9cb3'), UUID('e1ea1bae-71be-4627-a62e-feaf25478ae6'), UUID('0979a01d-8f24-4503-a9eb-8f9507070e03'), UUID('97abcd79-abfe-4731-9d78-cfaca021f946'), UUID('36952aa3-b0db-41d6-b065-1cc3991c88e9'), UUID('772a2d5c-42d9-483b-b2e7-205812996c19'), UUID('0798d67d-5722-4659-a648-f0928dac568d'), UUID('8541dc94-6fa1-4eff-9eae-b2186a4f64ab'), UUID('71831261-c9c3-44d2-87f1-d52b657617c1'), UUID('eda5eacb-4365-423d-a2aa-a735eae97365'), UUID('acdd12cc-2d53-4eb6-b49d-295f40f14e34'), UUID('d35f0a05-9342-4268-97a1-61cd33ba5ecb'), UUID('68e8504f-5f57-41d8-b6f7-83c71174e558'), UUID('cd345156-ae8a-4226-922b-3c3293af43cd'), UUID('34bbeb46-25ab-444b-bc8a-d1f7ff182ba4'), UUID('e13f9fd1-cacd-4894-a234-caf0c0246b0c'), UUID('08c942ca-c860-4526-b08f-0d5504365779'), UUID('c2a6d623-5b0e-433c-888f-88c58e19a794'), UUID('1a2bb8ef-4614-42cd-8cbc-709cf83169aa'), UUID('738cee3d-86ce-433a-970f-575da4d5f87d'), UUID('212d0adf-4c21-47a0-a2a9-8a2c45ffdc9a'), UUID('70a491bf-e169-488f-a532-1262eb4ce71e'), UUID('6a02c6bb-a926-416f-96b3-793f6cdc9ef6'), UUID('ec02f681-d694-4015-9eb9-b8e75648df9f'), UUID('6e88168a-c67f-480b-8ee8-b96642e0341c'), UUID('33f55cb2-3086-4562-83e6-e3d495283f09'), UUID('a9d77bd9-6187-4405-8013-c408970a3920'), UUID('622dc07c-b79a-4195-8c36-3f8060c15c30'), UUID('8373d18b-e7f0-4da0-bf4d-3f6fd70075b5'), UUID('d635106a-9f9b-4727-9221-6e1a058d27c3'), UUID('9ca1f865-e78c-4f4c-abe2-837b762b993c'), UUID('30b3ab90-f273-47c8-b669-c899b14a43ad'), UUID('11c76ab6-c001-4155-9be1-808ca8de361e'), UUID('65060dcd-fbd0-4810-9ae6-9f7c6e56ad88'), UUID('7513548e-e228-47a9-b235-9afe289f9d29'), UUID('aeae10f5-157e-4a1d-bb54-4ed39e8aca42'), UUID('19e45588-75b7-4229-b3cf-a709725bc273'), UUID('80995ca8-ba1e-4104-8100-666c6dc7706d'), UUID('1dcb6032-1370-4533-bf71-90ce1f09387d'), UUID('e64ead31-e667-417a-b8ab-1cd378f2d302'), UUID('125206d2-70f2-4a55-8ddc-6f5125f4f5ff'), UUID('ce0c22c3-2644-4998-8e73-682731fffdbb'), UUID('fcb042bb-a184-40e7-bdb7-956be33628a3'), UUID('af40bfc5-63d2-4b38-b92e-b36a6ab5f376'), UUID('9063e198-2c0e-4ef1-830f-363bc0f3da3e'), UUID('8ef90921-0d6b-429e-a4b7-bb12103d90db'), UUID('c2e8bc79-0e29-46e4-9156-ff990ac37125'), UUID('13d14095-ac50-4800-89d9-fd96b934e5e5'), UUID('edcbde4e-c6a4-4cb3-baff-622bcd4fd974'), UUID('53caa5c9-adda-4d79-8206-1e85c5bb81b7'), UUID('7705241a-d815-4497-b0cc-5b78e0961a6b'), UUID('278286da-e072-47e8-9370-cf9417448a94'), UUID('2ec88434-cea8-4d68-b47a-f6e3a2e2b546'), UUID('43e297dc-f5ae-46df-98a5-3c77d099e7e1'), UUID('6ed8c40f-6865-42c0-baf2-2dd394b7d17f'), UUID('06bccb96-b92b-4946-be1a-6d7562ddccfc'), UUID('af0077d1-ff65-49c5-b619-28f01fb571c2'), UUID('e65902f5-ef80-45c0-8698-d31c2db97a8f'), UUID('a6815d6e-f6b6-4d11-8f1e-70c5361b4d92'), UUID('8b06f75b-ae61-4395-b96f-3a86ca714ca1'), UUID('d6d452f5-8609-4a68-b8b0-bc07eb7ba975'), UUID('f00f6477-fc93-4cab-80fb-11cff911c5f8'), UUID('cfb57a09-653b-44bf-8fdd-868e084dfa75'), UUID('89bb9c75-57b5-43de-9e14-31a3f829d845'), UUID('5ca4cafe-8055-4932-8e7a-fbc3812ece75'), UUID('c0f8f25c-e96b-479c-9fe9-6fca79374798'), UUID('ff891bd6-05e4-40e4-a76f-31dbac432c55'), UUID('6d43ddd4-f492-4105-aee7-4004550f8cad'), UUID('2e889f29-a2ae-4ab4-924e-d196db952c77'), UUID('50bf333d-bcda-42e7-9b2d-13d0cd61e7c6'), UUID('c3138241-8337-4b23-8e77-1dc15d8af1f0'), UUID('0011ffde-1d13-463c-9327-8f2733c23caa'), UUID('a4ed95de-a472-483b-a8ad-69fda8683a40'), UUID('42f4b974-4506-4b28-9339-84b53af424e4'), UUID('1f91a62c-b1bf-4cb4-9add-a7518f0bb710'), UUID('f24c54dc-a3ab-462d-866a-79b6ff4fda3a'), UUID('1432e64c-0c31-464b-97d1-452aa578f407'), UUID('0eb4cb13-1ed3-4113-b833-eaf701a65e9e'), UUID('6d2c411f-bd7f-45a5-b9ab-be9865a3087b'), UUID('cfd5377a-55e2-4cb1-8d81-b319ab9bfb9f'), UUID('c158ac38-9ba1-44f0-b750-9e0f916eeef0'), UUID('73164072-d19a-4d46-81e3-33078e046935'), UUID('8c434fef-17d0-4c85-bdce-e55adc225591'), UUID('62bf5410-ab2d-4521-97ad-fe4e87b41a6e'), UUID('dce98a9c-6f7d-4f9c-a16d-f2536426b29d'), UUID('c689c82c-2f48-4e3b-ae2d-61df1dda94cc'), UUID('fb4087ac-2fad-478c-bc1b-90e6a475bb35'), UUID('ed22cd62-bc23-445e-aa13-73e047e09665'), UUID('9d72acaa-d6a4-4d0e-ad60-75502acca194'), UUID('730d48b4-2086-4836-aba1-4356aeeeb61e'), UUID('792cbcda-aa47-4da6-a4a6-4992e2a2ee62'), UUID('a9e6ae42-d673-4fb9-9b57-e22d1aaca9d4'), UUID('ace60928-4ac0-4c50-91d7-998c96b5ba56'), UUID('4c8677d5-1a84-4290-a9c7-28e0de29f56d'), UUID('578e7ae8-3a06-4b0b-b074-c14996b819e7'), UUID('1a65cee4-5a6d-4fdd-8fbb-f1834312512b'), UUID('085ebfe0-0357-465c-9ca6-00c0b637797f'), UUID('23e274c8-f377-44fc-9e01-01a8025003c0'), UUID('71873d68-130d-4d32-ae77-7d592c7493a8'), UUID('d10ff5da-b7c6-4c95-b22b-ce53984fc956'), UUID('8a462140-48cb-4aa7-9fc2-70d4ae1fa2a2'), UUID('f3db7435-7a83-4766-b460-c7fd753c8cc8'), UUID('d8b89e5c-b1a2-4289-a48f-57b30dfeb7d4'), UUID('e321da12-772c-4b1a-9e8e-1a6ce6eba224'), UUID('45d54f42-96e1-4f58-9e00-bd7816c74372'), UUID('25c4928b-d7c2-4aa8-a1ba-cf71f783a647'), UUID('67d18613-0fe7-412e-8eeb-c19031853017'), UUID('18aea70a-03a5-49a0-97db-62a327dbfecc'), UUID('03ae6357-96b1-44bf-9755-c75906a08d0b'), UUID('e136e4fe-e742-49db-a85a-7295926a7ca0'), UUID('055250a3-ea91-4241-a414-ccbdacd02447'), UUID('6d19ad40-de89-400b-931b-1de16fd2edb0'), UUID('e83572e9-b363-45f2-840b-0ea11d7c6481'), UUID('b2805aa3-f278-42be-8fae-3b0f7bae4218'), UUID('569fa2bb-3ab9-494f-bad6-e1c0e39bdc37'), UUID('83d6b10f-3bc8-482a-9dbc-59fddc34f824'), UUID('f1b0c3dd-4d48-4f36-bb12-147e6deafff3'), UUID('3338eeb6-a028-4048-9ce9-2755cfa1b74d'), UUID('7d710355-e3b9-4e5c-834f-ea8e0c85de12'), UUID('35bbd5df-960a-4f57-b984-329494f57af0'), UUID('f2c60067-5b8f-42d5-8ce6-6fa8bc92fbbf'), UUID('c15784ec-ab60-4337-857b-497417464133'), UUID('f8cfa2c8-9b70-4d66-94fc-4f9309768f02'), UUID('061d830b-c466-4db6-94e0-86a50bd8284b'), UUID('92f4e397-1f03-4938-86c8-0b7f9b447344'), UUID('bbca0fa3-209e-43ac-a025-abc71e7e7032'), UUID('df4c8241-0735-4651-a8fc-ed36db7afdcc'), UUID('2b757888-5d00-4a02-bb2b-116cf03349e5'), UUID('fc384525-c89c-41ef-94af-3a0bc7cc6111'), UUID('c500df8c-e6e4-4248-b791-ebce2afc2c0e'), UUID('dc7c1539-725d-4624-8a97-8f23d59a2b4d'), UUID('6ce7eda9-e3f9-448d-8d87-867262c1ddea'), UUID('5ef5aba8-d03c-4c3f-a730-d2c001f3f43f'), UUID('1242f940-ad2b-4b25-b215-6fc9a8f17318'), UUID('f56f703d-80d4-4adf-8001-69a9ab36f5b7'), UUID('587859e2-5c43-4f54-bd43-441bf1f9f9bd'), UUID('a2228c7c-3a5c-4bef-9b7b-fe9c1da495c4'), UUID('1b6f7310-9a80-4c4a-a0ce-ce56c777d7c4'), UUID('2dad3699-717d-4ddf-9ed8-5361b41edffd'), UUID('d384db2b-eb36-44fc-8e8e-83db6ee26de9'), UUID('b2ccc3b2-c274-4cc0-93d1-fd073f1de67b'), UUID('0205e9be-8ded-4b09-a9ee-1f657b4996dc'), UUID('43b07ae7-9411-4585-8e40-07a7c88d3305'), UUID('721f4d27-088d-4dd7-a14e-f2991d1f07ad'), UUID('05018e2b-8023-4bdf-a2fa-1a399f4f6d2e'), UUID('64cbdbbf-5248-4b19-bf25-7f2eaa7eaabd'), UUID('5c3dcbe3-af1e-4ac1-a934-5fd93af72c35'), UUID('d2a31877-d20e-43c8-a3f6-e0a9b4a8a849'), UUID('d6a90dfb-02eb-439d-87d6-0bffe4180e05'), UUID('f84820c0-8be9-40aa-85f6-606416d2a81e'), UUID('3006168b-9224-4891-a2b7-bb325d08f5f9'), UUID('10b82007-cab1-4459-846c-60f242f4c9dd'), UUID('7bbe8279-ad3f-4fc3-8343-b5165c54262f'), UUID('5078b03e-c429-4e6c-bc91-3010d37a409e'), UUID('a0a23f84-6ee3-4b14-ac12-626efb824c03'), UUID('63c9cd1b-425e-491c-a2a7-c40167c4788d'), UUID('13b2ed6d-b9ef-40f9-9fed-113ac5535b9f'), UUID('0e0ec756-fd2c-426e-b053-a991c5aa2add'), UUID('d25570de-7096-4280-9ec7-fb55cb08050e'), UUID('bb961fd0-1c72-470d-a203-590f79f9b24c'), UUID('e739361b-31fa-426a-b289-4fa48c4466ea'), UUID('33714e0b-8374-4ad0-b663-e00c57051058'), UUID('faa6cdef-034e-4737-b76e-e16d848ddc60'), UUID('66cca2be-347b-4682-b919-13a992a0a3c9'), UUID('5129a695-c405-4501-b7c0-4a0d07acb59a'), UUID('5b51a67c-d994-4bfe-9107-ebd4e73758bf'), UUID('45d27773-9d9c-4ad4-9d65-c919673fdd38'), UUID('d48c706c-05d3-4c60-9291-ae2261e3f3c8'), UUID('4ef17617-ca4c-4ee4-9306-9e8fa6773d41'), UUID('f5c4be6d-17a9-41f7-8f12-b36fc5929a61'), UUID('79869a31-507e-4338-93e9-25ce8362f14e'), UUID('d6e0e60a-1233-42c6-be53-8c2f426c3457'), UUID('33190a80-5720-447b-8b7b-81344de9d642'), UUID('e83e9646-23b3-475f-ac8a-95638f79c15d'), UUID('4b00ac3a-77de-4d6f-8dad-4778b2d27e13'), UUID('c017153c-9dec-4fc9-af47-c89d7653bd50'), UUID('041251c6-f93f-4a06-b945-fd3354f235fc'), UUID('e604f802-9192-461c-b147-3832a6a61c8d'), UUID('441b9e98-467b-4e93-a261-34c46fbf05c6'), UUID('4cc07cf4-dd34-463a-a3a6-b029ed591624'), UUID('50a24c34-e161-43df-9759-6f3aff7ab30b'), UUID('9d8497a7-2e39-4a00-a5e9-a0c7f41791a6'), UUID('dcba7b15-9e00-4de1-a718-59fdb264a96a'), UUID('cdf179e8-3dee-416f-b90b-28e809146d28'), UUID('1bcf9acd-1c8b-4fef-86d6-367865d0cde1'), UUID('f849b746-7eb5-4ae6-84a2-f6719a25ee59'), UUID('49764cd2-bf39-48c2-8aa4-4ceaaf0a4a64'), UUID('0955723b-a2ae-4d13-84d0-5208c01c6bfb'), UUID('7a7581be-4818-40ed-a024-28b525a72a25'), UUID('1e072b0e-e84c-4c4e-ab2a-2cac810d46d0'), UUID('a9fdf0df-2716-45c7-921c-d49d88d16f33'), UUID('d5a4ac59-4e17-45e8-87a9-accefd10e87d'), UUID('86033171-ffe0-4016-8e61-a671642ab9cb'), UUID('e441fc31-dc8f-4001-a81e-ce7074359cfc'), UUID('d827aec0-bc9b-4695-92e5-2e172ef77318'), UUID('1dfd0792-1aaf-4b55-9ede-f58db6c8e8ea'), UUID('ec8d79c4-6249-494d-b648-df49a0e7901d'), UUID('eab04f53-2ec5-44fd-af0d-046082f2f6bc'), UUID('bd4e5717-a1b8-4532-9c59-f07d1b064ea1'), UUID('aea92e3c-7aa0-4523-8fbe-d54eba72d5de'), UUID('ba74a213-ef85-48e5-8345-6e74c114cd19'), UUID('287c8d73-37ca-4b06-a811-9a29e5ebab81'), UUID('50f848a1-0d6a-45ea-91da-36f83604c9d4'), UUID('cd74ccd6-09c6-4141-94b2-310912dd9ae9'), UUID('71b088db-685a-4d83-a208-9e1519c40b67'), UUID('cc12b3e9-439d-4ac1-b1c3-dcab8eb60375'), UUID('512a74fa-45dd-4816-9978-eafac3ae7455'), UUID('22ea9784-17f8-44d8-8ac7-5a1364fb2d7c'), UUID('b6744a3d-bb17-46a5-a573-b8d0f35e7d87'), UUID('e2196845-f70e-41d2-b6c6-420923621610'), UUID('0c152b11-af63-4af5-b43c-39a79c8006bd'), UUID('bcd0d1e9-550c-4b8b-b2a0-d17e91d2d5fd'), UUID('eac5bae1-d13b-4db7-b4ca-b9b674a630a1'), UUID('23779a5d-e854-47a5-aadb-f7db219c40de'), UUID('5a1896d8-cfd4-4784-99fe-406382b214cd'), UUID('5e7f290b-0a91-48ab-a601-659856e900a4'), UUID('f19fde68-b3e8-43b4-81da-e6e9848e26a4'), UUID('dc14a2fd-b718-458d-92aa-c4ecf55613f9'), UUID('241727ac-0565-4168-b366-30d702652638'), UUID('72505364-408d-4d21-b334-5c632142bb97'), UUID('b60ae845-6204-46b1-9274-40e6387a5c71'), UUID('0715cc5b-e4d9-4d1b-a61a-d7bcf50dfead'), UUID('e8b20248-957c-4e50-b0b9-0ab47282cad8'), UUID('37b05c01-72bc-4b97-83ee-340414ce58fb'), UUID('6a98457d-04ed-42c6-9e04-4080e40e0518'), UUID('67eec916-b499-4904-a1c7-15eb48b01ca2'), UUID('3365fe55-8480-43ad-a8bd-9528d7a8766e'), UUID('f5a5e9c4-6557-4db4-812f-6959fa6b17e3'), UUID('57ae6f7d-4be0-493b-8368-272f7eec36db'), UUID('4eca2770-9d00-45cc-a2dc-c502c3b69e31'), UUID('8a6a3579-0444-4085-9767-7a0130590769'), UUID('12ae65a4-14b3-4410-acc4-8012a72682ef'), UUID('d916717f-bc43-4d61-a5d5-22daa1fdc9de'), UUID('40c7a51f-94a8-439d-9b0c-4ea7b4f08a91'), UUID('a58572f8-1b6f-4806-b245-1a5aafeca6ce'), UUID('2fecc76a-9844-4dff-9400-3d61694869d9'), UUID('15659e33-f465-4639-90d5-08621a17c0bd'), UUID('310fb972-60fb-4503-a975-d0d237f21011'), UUID('6f8879df-4f5b-47d4-a7d1-ba4e39098c01'), UUID('e86f0042-a1d3-4590-9d2b-69a8890f0b73'), UUID('90cc7d72-4cd6-4f7e-a6e8-d60472dd28e8'), UUID('3eead336-dbf6-4cbe-ac3a-cca9dc57064a'), UUID('c91edc55-9b5a-4654-b6c4-678d70bfa253'), UUID('995884ae-b05e-4f92-8ec8-156a0b396891'), UUID('b2334deb-e9ed-49c3-9295-a2b7a415c421'), UUID('9ba973f7-b300-49aa-9f1e-c09d8ac876b8'), UUID('8cbbdd61-027a-4809-ab2f-76c5b61fedee'), UUID('981478bf-52aa-411b-810b-66e0d0cd91ed'), UUID('4646ebd8-f352-4e51-8c74-584a3ae9d414'), UUID('5b6c0094-6466-4d03-a24d-e6778f48e037'), UUID('24802537-6ddd-43ad-a009-7180100d71c1'), UUID('4b6634b1-ba35-483a-a113-6e3e6d75e6f6'), UUID('a358ef72-b38e-4f8d-9ed6-4de6b24f6cf0'), UUID('1d764e75-dfc1-48a2-8977-55fb92c603f9'), UUID('1c5be05d-ae79-43b5-9183-050e22c2bc98'), UUID('7dfcfa7d-dacb-4c0d-88e9-58d59b57d10d'), UUID('a41b72b1-d594-4de8-b0f4-0db3f558fe3e'), UUID('9690c60c-dce7-4984-bfb0-b1f6055b8cfd'), UUID('bc85d938-641c-4b36-a40b-db796588320e'), UUID('bb5d1aea-f817-419c-b4be-94639eab3a27'), UUID('30190db0-a303-4bdf-903a-ca823b0a9a3b'), UUID('06cae59f-997f-4901-9844-62251be573db'), UUID('6b8bf576-693a-4416-a4e5-8bd9a8c6eb16')], elapsed_seconds=4.121195077896118, errors={}, uuids={0: UUID('cbba2b0e-20e5-473a-903b-a378d01deec2'), 1: UUID('f6d4688a-b1bf-47bd-9b70-fda726703832'), 2: UUID('5edd0455-81e3-4aba-9361-717c99b8c23b'), 3: UUID('19e868bb-7920-405f-9934-2b7df5b238f2'), 4: UUID('a4e0b59d-f1e4-4251-8675-4ad4ea440bfa'), 5: UUID('a27fd2d5-29a4-4997-be97-d660721d6cb9'), 6: UUID('2b590b5b-0176-4889-a12a-67929d3890fe'), 7: UUID('2d1513d1-26db-4cbd-9ca1-ead8afd0506b'), 8: UUID('4542b504-3711-4624-add9-5c0abbcd9aaa'), 9: UUID('bdbcb16e-062f-4db9-9f92-80fcc4f00a76'), 10: UUID('68d3ed9c-314b-48ea-9f84-fc5748b8422b'), 11: UUID('368f4e82-4804-4460-ba2b-ade2818c4f9c'), 12: UUID('1353715a-9d59-47cf-9a32-8e2d09d98ed8'), 13: UUID('2c930c7e-0182-4361-bf89-6854b13a884f'), 14: UUID('e4b33a73-915c-46f9-a268-b61936ac2224'), 15: UUID('c750ad5e-4c69-4121-9a81-3a0a88968e02'), 16: UUID('8c2cb52a-40b5-4330-b2db-f1b979160a10'), 17: UUID('fdf44430-5124-4f4d-a303-a8d74c3444fd'), 18: UUID('de3417af-2690-4d1f-bfb4-d8dc1213e78e'), 19: UUID('629250c2-25fb-4989-a88f-9777f956e9a2'), 20: UUID('9901135e-739a-48da-90e4-a176d28d1cd9'), 21: UUID('442b9686-2be6-4d77-a49a-388a294126b5'), 22: UUID('c84d3b36-4e5c-4e58-a0a2-232fa51757f3'), 23: UUID('032f5f46-680d-408e-bbed-7c0273eed177'), 24: UUID('a6dfb6da-917e-4c66-88ab-2d2e497e07ea'), 25: UUID('0c0b70f0-5611-4003-b47b-52d6cc745112'), 26: UUID('9e2beb7b-4ab0-4b56-8f78-f5a8a40e1b4d'), 27: UUID('6d2ea678-4b6f-4311-832f-8b264fd2723a'), 28: UUID('dc884c0e-3e97-4e8a-aae7-f046a76af269'), 29: UUID('b63a89ee-92ce-4348-af5f-ad9913671b8d'), 30: UUID('1368f079-b274-48ee-a557-5dba3acf79ac'), 31: UUID('ca420b2e-ed3b-4771-bfcc-02fda7a52b3b'), 32: UUID('8fdeeb39-08ae-4c52-93a7-404c8dc6ce1a'), 33: UUID('64104e71-6ba2-4f6b-a5eb-0bb2ea20a2da'), 34: UUID('73520dc9-4416-4def-bb5c-7c4dcefa8ec6'), 35: UUID('f87e9239-527c-4842-97ae-1b1deaef45a8'), 36: UUID('48534147-0296-4740-81fc-bfc84e8f7328'), 37: UUID('748be668-dd49-4805-b6b8-12bd5059da67'), 38: UUID('b3364db6-ba08-4d45-9790-e79191f1034a'), 39: UUID('81a571eb-8b8d-43a0-83bc-80094d98997e'), 40: UUID('700350d4-41c4-43e0-bff3-1ae8a84f6de0'), 41: UUID('7e622bce-e241-4e50-a74b-9ed2b7aefe58'), 42: UUID('98a1cf1a-29b0-494a-884c-e86f1ea1419a'), 43: UUID('3c6c56c6-cf7f-462d-b4cf-f9392b6863e4'), 44: UUID('32a30575-8dd0-4972-9834-35210787c8a1'), 45: UUID('895e3928-7f18-4e51-8c60-17298ac6803b'), 46: UUID('9b551842-24fd-454b-8288-15049fbf33a9'), 47: UUID('bd028a31-98f1-40fe-a231-fb592cdb95da'), 48: UUID('d282fe3c-6bab-4ab1-a919-97b5667591a3'), 49: UUID('e612c2c0-2c37-4b49-9595-f22bee427b3b'), 50: UUID('7dc4916b-f99b-4009-bfad-0dcec51ed1a1'), 51: UUID('91f321ed-5ab8-4c72-88d3-36c1f2399dce'), 52: UUID('7cd11e45-4628-481d-b019-5aee556289dd'), 53: UUID('226a0f34-ddef-4110-a4d8-239ea3af0633'), 54: UUID('4512d2ec-4b2e-48e4-8882-dc47592c5fcb'), 55: UUID('8f58b72d-a699-4559-8f73-edbde945ace3'), 56: UUID('631c9d3e-c69a-4095-aa74-3fa0d9153af1'), 57: UUID('dd5f32df-c4d1-4315-8fb0-46a0e028ef95'), 58: UUID('3cccfa2b-be6b-4c45-94aa-d1ea0255138c'), 59: UUID('c132e7c4-22ae-4ce6-ab57-3a917319b7d4'), 60: UUID('4cf94e55-77b2-485a-8f14-dbd8db470047'), 61: UUID('276d5d46-36af-4fb5-bcb5-45c62d3d2bf5'), 62: UUID('d2ded2e5-a131-4e77-b216-3ddaf590a4bf'), 63: UUID('8583cdc5-b063-438f-8b36-9a75dba09cc2'), 64: UUID('6a22f1d8-0105-477b-a03b-cb21227afce0'), 65: UUID('595c8910-e5ab-4116-8e70-6338815b6de0'), 66: UUID('ec75afe5-0b7a-4ad8-8347-99e99c823e79'), 67: UUID('e9d0476e-a0ea-408e-b9bf-0bac861d13d0'), 68: UUID('8fbb862f-55f5-4de7-bc72-178ce5b8d765'), 69: UUID('27440cd8-c753-4b16-8d4d-d983b9afa883'), 70: UUID('067e458f-c08f-4fc9-9192-685b894d5264'), 71: UUID('ec438fef-245f-4ff7-a9de-c6ae19b3f003'), 72: UUID('e51f3f9c-8222-4571-a8e5-193fec55f9db'), 73: UUID('e3a6d03d-9c06-445e-8543-d651ad16bc81'), 74: UUID('e7a627f3-ff34-43e6-950f-a47eeea67594'), 75: UUID('b7c85439-9cbe-4fa5-b67a-aa3179b0e630'), 76: UUID('6e5e0fc6-ff23-4ea6-afa5-9fa82f893ddf'), 77: UUID('a2b1a05b-38bf-49af-9d95-1e8430076421'), 78: UUID('b9c8376d-8f03-434a-83e0-cfb3be4b510d'), 79: UUID('f7389b70-6c4e-4b36-b9e8-f3256e1f3a04'), 80: UUID('3543eb8a-44ce-4ab5-8b44-9ffa0bc9aa80'), 81: UUID('a8774acc-c6b1-4c49-b367-e2504764bfa2'), 82: UUID('4b302639-cdb4-4f4b-ba7f-56f99ffff88d'), 83: UUID('bb79f722-9dfa-42a3-b34b-fed7baba6821'), 84: UUID('d7a46618-699f-457e-a439-ab204c276747'), 85: UUID('638f0dee-c642-40f9-b092-6c18065dd669'), 86: UUID('3506dbde-9c93-4b12-bcf6-a5e1ec164d41'), 87: UUID('37ab47a7-3d12-4ba9-aafb-69597b8c6093'), 88: UUID('9c6f2f0e-7687-4a68-8ec8-6c185369a5d4'), 89: UUID('63f76381-d2ac-4663-959c-7f06ba9e7346'), 90: UUID('4e475fef-914d-43b9-8690-3b4de7c0735f'), 91: UUID('77816470-48be-49d0-b3dd-3f1d30550049'), 92: UUID('61d10bc8-b77d-4c3b-a3bb-b0df81e882ee'), 93: UUID('f40c1b24-c8eb-48c7-ac0d-e2747e1d9c99'), 94: UUID('64128d8e-f63a-441b-9201-4d3375222892'), 95: UUID('252bf394-54e1-40fe-9cb0-cbcfc92d674a'), 96: UUID('b0bfdc96-0041-4ada-b1af-4450579b1712'), 97: UUID('63325682-d618-4756-b366-e0afcbc4ea89'), 98: UUID('aa3f758e-2a9e-4395-92e9-865672844090'), 99: UUID('ca264f06-54b0-4eef-b092-51c2e6e9ac58'), 100: UUID('56677735-df47-4628-9a30-c71d78e4f423'), 101: UUID('f7c27783-2bce-4dd5-aaa8-110b1ba3af35'), 102: UUID('d529c165-4347-4202-82d4-fce288c5c74a'), 103: UUID('2e7bfc21-e55b-4b75-a3dc-22fbed390015'), 104: UUID('7a97dab3-7434-40d6-8ffd-1e1e195827bf'), 105: UUID('3bbe2cc9-75da-45f4-8d63-da9130cc7ef6'), 106: UUID('5d960e26-0e84-4f6b-85eb-de8865ca2a3f'), 107: UUID('82984976-a145-4eb3-8b12-1afab4c364a0'), 108: UUID('787b7e2f-7fee-4c30-9512-6a1eb51eb920'), 109: UUID('f7fb02df-2c1c-408d-bee7-321629ad1534'), 110: UUID('3dd9201d-b447-4e7a-9850-34b98ba31a8b'), 111: UUID('99618ea9-3edf-4a28-9602-bfa285a7277e'), 112: UUID('52398243-fda6-4bca-a060-327c05c83820'), 113: UUID('16b88e9c-48d3-4968-9b43-7f3535dc95b1'), 114: UUID('7cd533a8-882e-4d59-869b-66e32a72a58c'), 115: UUID('86148f60-cba2-4d5c-887c-595f1aa22112'), 116: UUID('01344a47-60f7-448f-83b1-d190113681a4'), 117: UUID('e8fd72aa-fe5a-4112-b353-430ddf899582'), 118: UUID('f0602896-b02f-4c31-a283-2872b13e64f3'), 119: UUID('1aecf8e1-6687-4369-bdcb-6e043c25770c'), 120: UUID('96bffe80-cc2f-4cde-98aa-cc29e88d97bb'), 121: UUID('86eb5116-0c58-46b2-b644-e12477612adc'), 122: UUID('86ba7bcd-61d7-47d3-847c-d61d88471a1e'), 123: UUID('8a932eac-998c-4e35-8019-0691dd4135e9'), 124: UUID('a3dc72cf-bb22-409c-928b-a8ba4be7f936'), 125: UUID('c5aeb5b1-d625-4914-ab0e-fbff7c94e93b'), 126: UUID('28da13b3-2313-47cb-881a-7cb9638af601'), 127: UUID('8f8d4309-47b5-422c-8aff-41011bd13133'), 128: UUID('54b0a368-a9a6-406e-8a34-7cf97cc8972f'), 129: UUID('ff421576-5783-49bd-9985-785c37f2e44d'), 130: UUID('96ec97cc-096d-454e-861f-b833bec4854e'), 131: UUID('3e642fa7-5ce4-4130-8cdd-52d9daaa63ee'), 132: UUID('31df3753-bcb4-4791-9e77-38305e8895c1'), 133: UUID('887d2126-ff17-4476-91fd-d417a2849d5b'), 134: UUID('059d07c4-1686-4d1b-8815-e52933e7f5dc'), 135: UUID('f5044144-b565-4883-b9e6-2c508db31cb4'), 136: UUID('48d564a6-13e3-4164-9a49-cf7123f80ea2'), 137: UUID('848a41f5-c429-4898-a224-9c56b70641a9'), 138: UUID('28ed9856-e548-4623-a02a-2921e9dc93af'), 139: UUID('97691dd4-106f-4c54-a1a9-dd2816870865'), 140: UUID('cef3592e-8e26-4566-8b12-ba807feaab8e'), 141: UUID('745eaf0b-7648-4010-9b0e-b57b9d18dc0d'), 142: UUID('935ca567-ba90-4fe4-b998-f102dda7d715'), 143: UUID('e7ac9eae-892f-47c7-b5b4-bc9bcb1c9658'), 144: UUID('f1434946-e09d-4718-a699-2715c24b9cb3'), 145: UUID('e1ea1bae-71be-4627-a62e-feaf25478ae6'), 146: UUID('0979a01d-8f24-4503-a9eb-8f9507070e03'), 147: UUID('97abcd79-abfe-4731-9d78-cfaca021f946'), 148: UUID('36952aa3-b0db-41d6-b065-1cc3991c88e9'), 149: UUID('772a2d5c-42d9-483b-b2e7-205812996c19'), 150: UUID('0798d67d-5722-4659-a648-f0928dac568d'), 151: UUID('8541dc94-6fa1-4eff-9eae-b2186a4f64ab'), 152: UUID('71831261-c9c3-44d2-87f1-d52b657617c1'), 153: UUID('eda5eacb-4365-423d-a2aa-a735eae97365'), 154: UUID('acdd12cc-2d53-4eb6-b49d-295f40f14e34'), 155: UUID('d35f0a05-9342-4268-97a1-61cd33ba5ecb'), 156: UUID('68e8504f-5f57-41d8-b6f7-83c71174e558'), 157: UUID('cd345156-ae8a-4226-922b-3c3293af43cd'), 158: UUID('34bbeb46-25ab-444b-bc8a-d1f7ff182ba4'), 159: UUID('e13f9fd1-cacd-4894-a234-caf0c0246b0c'), 160: UUID('08c942ca-c860-4526-b08f-0d5504365779'), 161: UUID('c2a6d623-5b0e-433c-888f-88c58e19a794'), 162: UUID('1a2bb8ef-4614-42cd-8cbc-709cf83169aa'), 163: UUID('738cee3d-86ce-433a-970f-575da4d5f87d'), 164: UUID('212d0adf-4c21-47a0-a2a9-8a2c45ffdc9a'), 165: UUID('70a491bf-e169-488f-a532-1262eb4ce71e'), 166: UUID('6a02c6bb-a926-416f-96b3-793f6cdc9ef6'), 167: UUID('ec02f681-d694-4015-9eb9-b8e75648df9f'), 168: UUID('6e88168a-c67f-480b-8ee8-b96642e0341c'), 169: UUID('33f55cb2-3086-4562-83e6-e3d495283f09'), 170: UUID('a9d77bd9-6187-4405-8013-c408970a3920'), 171: UUID('622dc07c-b79a-4195-8c36-3f8060c15c30'), 172: UUID('8373d18b-e7f0-4da0-bf4d-3f6fd70075b5'), 173: UUID('d635106a-9f9b-4727-9221-6e1a058d27c3'), 174: UUID('9ca1f865-e78c-4f4c-abe2-837b762b993c'), 175: UUID('30b3ab90-f273-47c8-b669-c899b14a43ad'), 176: UUID('11c76ab6-c001-4155-9be1-808ca8de361e'), 177: UUID('65060dcd-fbd0-4810-9ae6-9f7c6e56ad88'), 178: UUID('7513548e-e228-47a9-b235-9afe289f9d29'), 179: UUID('aeae10f5-157e-4a1d-bb54-4ed39e8aca42'), 180: UUID('19e45588-75b7-4229-b3cf-a709725bc273'), 181: UUID('80995ca8-ba1e-4104-8100-666c6dc7706d'), 182: UUID('1dcb6032-1370-4533-bf71-90ce1f09387d'), 183: UUID('e64ead31-e667-417a-b8ab-1cd378f2d302'), 184: UUID('125206d2-70f2-4a55-8ddc-6f5125f4f5ff'), 185: UUID('ce0c22c3-2644-4998-8e73-682731fffdbb'), 186: UUID('fcb042bb-a184-40e7-bdb7-956be33628a3'), 187: UUID('af40bfc5-63d2-4b38-b92e-b36a6ab5f376'), 188: UUID('9063e198-2c0e-4ef1-830f-363bc0f3da3e'), 189: UUID('8ef90921-0d6b-429e-a4b7-bb12103d90db'), 190: UUID('c2e8bc79-0e29-46e4-9156-ff990ac37125'), 191: UUID('13d14095-ac50-4800-89d9-fd96b934e5e5'), 192: UUID('edcbde4e-c6a4-4cb3-baff-622bcd4fd974'), 193: UUID('53caa5c9-adda-4d79-8206-1e85c5bb81b7'), 194: UUID('7705241a-d815-4497-b0cc-5b78e0961a6b'), 195: UUID('278286da-e072-47e8-9370-cf9417448a94'), 196: UUID('2ec88434-cea8-4d68-b47a-f6e3a2e2b546'), 197: UUID('43e297dc-f5ae-46df-98a5-3c77d099e7e1'), 198: UUID('6ed8c40f-6865-42c0-baf2-2dd394b7d17f'), 199: UUID('06bccb96-b92b-4946-be1a-6d7562ddccfc'), 200: UUID('af0077d1-ff65-49c5-b619-28f01fb571c2'), 201: UUID('e65902f5-ef80-45c0-8698-d31c2db97a8f'), 202: UUID('a6815d6e-f6b6-4d11-8f1e-70c5361b4d92'), 203: UUID('8b06f75b-ae61-4395-b96f-3a86ca714ca1'), 204: UUID('d6d452f5-8609-4a68-b8b0-bc07eb7ba975'), 205: UUID('f00f6477-fc93-4cab-80fb-11cff911c5f8'), 206: UUID('cfb57a09-653b-44bf-8fdd-868e084dfa75'), 207: UUID('89bb9c75-57b5-43de-9e14-31a3f829d845'), 208: UUID('5ca4cafe-8055-4932-8e7a-fbc3812ece75'), 209: UUID('c0f8f25c-e96b-479c-9fe9-6fca79374798'), 210: UUID('ff891bd6-05e4-40e4-a76f-31dbac432c55'), 211: UUID('6d43ddd4-f492-4105-aee7-4004550f8cad'), 212: UUID('2e889f29-a2ae-4ab4-924e-d196db952c77'), 213: UUID('50bf333d-bcda-42e7-9b2d-13d0cd61e7c6'), 214: UUID('c3138241-8337-4b23-8e77-1dc15d8af1f0'), 215: UUID('0011ffde-1d13-463c-9327-8f2733c23caa'), 216: UUID('a4ed95de-a472-483b-a8ad-69fda8683a40'), 217: UUID('42f4b974-4506-4b28-9339-84b53af424e4'), 218: UUID('1f91a62c-b1bf-4cb4-9add-a7518f0bb710'), 219: UUID('f24c54dc-a3ab-462d-866a-79b6ff4fda3a'), 220: UUID('1432e64c-0c31-464b-97d1-452aa578f407'), 221: UUID('0eb4cb13-1ed3-4113-b833-eaf701a65e9e'), 222: UUID('6d2c411f-bd7f-45a5-b9ab-be9865a3087b'), 223: UUID('cfd5377a-55e2-4cb1-8d81-b319ab9bfb9f'), 224: UUID('c158ac38-9ba1-44f0-b750-9e0f916eeef0'), 225: UUID('73164072-d19a-4d46-81e3-33078e046935'), 226: UUID('8c434fef-17d0-4c85-bdce-e55adc225591'), 227: UUID('62bf5410-ab2d-4521-97ad-fe4e87b41a6e'), 228: UUID('dce98a9c-6f7d-4f9c-a16d-f2536426b29d'), 229: UUID('c689c82c-2f48-4e3b-ae2d-61df1dda94cc'), 230: UUID('fb4087ac-2fad-478c-bc1b-90e6a475bb35'), 231: UUID('ed22cd62-bc23-445e-aa13-73e047e09665'), 232: UUID('9d72acaa-d6a4-4d0e-ad60-75502acca194'), 233: UUID('730d48b4-2086-4836-aba1-4356aeeeb61e'), 234: UUID('792cbcda-aa47-4da6-a4a6-4992e2a2ee62'), 235: UUID('a9e6ae42-d673-4fb9-9b57-e22d1aaca9d4'), 236: UUID('ace60928-4ac0-4c50-91d7-998c96b5ba56'), 237: UUID('4c8677d5-1a84-4290-a9c7-28e0de29f56d'), 238: UUID('578e7ae8-3a06-4b0b-b074-c14996b819e7'), 239: UUID('1a65cee4-5a6d-4fdd-8fbb-f1834312512b'), 240: UUID('085ebfe0-0357-465c-9ca6-00c0b637797f'), 241: UUID('23e274c8-f377-44fc-9e01-01a8025003c0'), 242: UUID('71873d68-130d-4d32-ae77-7d592c7493a8'), 243: UUID('d10ff5da-b7c6-4c95-b22b-ce53984fc956'), 244: UUID('8a462140-48cb-4aa7-9fc2-70d4ae1fa2a2'), 245: UUID('f3db7435-7a83-4766-b460-c7fd753c8cc8'), 246: UUID('d8b89e5c-b1a2-4289-a48f-57b30dfeb7d4'), 247: UUID('e321da12-772c-4b1a-9e8e-1a6ce6eba224'), 248: UUID('45d54f42-96e1-4f58-9e00-bd7816c74372'), 249: UUID('25c4928b-d7c2-4aa8-a1ba-cf71f783a647'), 250: UUID('67d18613-0fe7-412e-8eeb-c19031853017'), 251: UUID('18aea70a-03a5-49a0-97db-62a327dbfecc'), 252: UUID('03ae6357-96b1-44bf-9755-c75906a08d0b'), 253: UUID('e136e4fe-e742-49db-a85a-7295926a7ca0'), 254: UUID('055250a3-ea91-4241-a414-ccbdacd02447'), 255: UUID('6d19ad40-de89-400b-931b-1de16fd2edb0'), 256: UUID('e83572e9-b363-45f2-840b-0ea11d7c6481'), 257: UUID('b2805aa3-f278-42be-8fae-3b0f7bae4218'), 258: UUID('569fa2bb-3ab9-494f-bad6-e1c0e39bdc37'), 259: UUID('83d6b10f-3bc8-482a-9dbc-59fddc34f824'), 260: UUID('f1b0c3dd-4d48-4f36-bb12-147e6deafff3'), 261: UUID('3338eeb6-a028-4048-9ce9-2755cfa1b74d'), 262: UUID('7d710355-e3b9-4e5c-834f-ea8e0c85de12'), 263: UUID('35bbd5df-960a-4f57-b984-329494f57af0'), 264: UUID('f2c60067-5b8f-42d5-8ce6-6fa8bc92fbbf'), 265: UUID('c15784ec-ab60-4337-857b-497417464133'), 266: UUID('f8cfa2c8-9b70-4d66-94fc-4f9309768f02'), 267: UUID('061d830b-c466-4db6-94e0-86a50bd8284b'), 268: UUID('92f4e397-1f03-4938-86c8-0b7f9b447344'), 269: UUID('bbca0fa3-209e-43ac-a025-abc71e7e7032'), 270: UUID('df4c8241-0735-4651-a8fc-ed36db7afdcc'), 271: UUID('2b757888-5d00-4a02-bb2b-116cf03349e5'), 272: UUID('fc384525-c89c-41ef-94af-3a0bc7cc6111'), 273: UUID('c500df8c-e6e4-4248-b791-ebce2afc2c0e'), 274: UUID('dc7c1539-725d-4624-8a97-8f23d59a2b4d'), 275: UUID('6ce7eda9-e3f9-448d-8d87-867262c1ddea'), 276: UUID('5ef5aba8-d03c-4c3f-a730-d2c001f3f43f'), 277: UUID('1242f940-ad2b-4b25-b215-6fc9a8f17318'), 278: UUID('f56f703d-80d4-4adf-8001-69a9ab36f5b7'), 279: UUID('587859e2-5c43-4f54-bd43-441bf1f9f9bd'), 280: UUID('a2228c7c-3a5c-4bef-9b7b-fe9c1da495c4'), 281: UUID('1b6f7310-9a80-4c4a-a0ce-ce56c777d7c4'), 282: UUID('2dad3699-717d-4ddf-9ed8-5361b41edffd'), 283: UUID('d384db2b-eb36-44fc-8e8e-83db6ee26de9'), 284: UUID('b2ccc3b2-c274-4cc0-93d1-fd073f1de67b'), 285: UUID('0205e9be-8ded-4b09-a9ee-1f657b4996dc'), 286: UUID('43b07ae7-9411-4585-8e40-07a7c88d3305'), 287: UUID('721f4d27-088d-4dd7-a14e-f2991d1f07ad'), 288: UUID('05018e2b-8023-4bdf-a2fa-1a399f4f6d2e'), 289: UUID('64cbdbbf-5248-4b19-bf25-7f2eaa7eaabd'), 290: UUID('5c3dcbe3-af1e-4ac1-a934-5fd93af72c35'), 291: UUID('d2a31877-d20e-43c8-a3f6-e0a9b4a8a849'), 292: UUID('d6a90dfb-02eb-439d-87d6-0bffe4180e05'), 293: UUID('f84820c0-8be9-40aa-85f6-606416d2a81e'), 294: UUID('3006168b-9224-4891-a2b7-bb325d08f5f9'), 295: UUID('10b82007-cab1-4459-846c-60f242f4c9dd'), 296: UUID('7bbe8279-ad3f-4fc3-8343-b5165c54262f'), 297: UUID('5078b03e-c429-4e6c-bc91-3010d37a409e'), 298: UUID('a0a23f84-6ee3-4b14-ac12-626efb824c03'), 299: UUID('63c9cd1b-425e-491c-a2a7-c40167c4788d'), 300: UUID('13b2ed6d-b9ef-40f9-9fed-113ac5535b9f'), 301: UUID('0e0ec756-fd2c-426e-b053-a991c5aa2add'), 302: UUID('d25570de-7096-4280-9ec7-fb55cb08050e'), 303: UUID('bb961fd0-1c72-470d-a203-590f79f9b24c'), 304: UUID('e739361b-31fa-426a-b289-4fa48c4466ea'), 305: UUID('33714e0b-8374-4ad0-b663-e00c57051058'), 306: UUID('faa6cdef-034e-4737-b76e-e16d848ddc60'), 307: UUID('66cca2be-347b-4682-b919-13a992a0a3c9'), 308: UUID('5129a695-c405-4501-b7c0-4a0d07acb59a'), 309: UUID('5b51a67c-d994-4bfe-9107-ebd4e73758bf'), 310: UUID('45d27773-9d9c-4ad4-9d65-c919673fdd38'), 311: UUID('d48c706c-05d3-4c60-9291-ae2261e3f3c8'), 312: UUID('4ef17617-ca4c-4ee4-9306-9e8fa6773d41'), 313: UUID('f5c4be6d-17a9-41f7-8f12-b36fc5929a61'), 314: UUID('79869a31-507e-4338-93e9-25ce8362f14e'), 315: UUID('d6e0e60a-1233-42c6-be53-8c2f426c3457'), 316: UUID('33190a80-5720-447b-8b7b-81344de9d642'), 317: UUID('e83e9646-23b3-475f-ac8a-95638f79c15d'), 318: UUID('4b00ac3a-77de-4d6f-8dad-4778b2d27e13'), 319: UUID('c017153c-9dec-4fc9-af47-c89d7653bd50'), 320: UUID('041251c6-f93f-4a06-b945-fd3354f235fc'), 321: UUID('e604f802-9192-461c-b147-3832a6a61c8d'), 322: UUID('441b9e98-467b-4e93-a261-34c46fbf05c6'), 323: UUID('4cc07cf4-dd34-463a-a3a6-b029ed591624'), 324: UUID('50a24c34-e161-43df-9759-6f3aff7ab30b'), 325: UUID('9d8497a7-2e39-4a00-a5e9-a0c7f41791a6'), 326: UUID('dcba7b15-9e00-4de1-a718-59fdb264a96a'), 327: UUID('cdf179e8-3dee-416f-b90b-28e809146d28'), 328: UUID('1bcf9acd-1c8b-4fef-86d6-367865d0cde1'), 329: UUID('f849b746-7eb5-4ae6-84a2-f6719a25ee59'), 330: UUID('49764cd2-bf39-48c2-8aa4-4ceaaf0a4a64'), 331: UUID('0955723b-a2ae-4d13-84d0-5208c01c6bfb'), 332: UUID('7a7581be-4818-40ed-a024-28b525a72a25'), 333: UUID('1e072b0e-e84c-4c4e-ab2a-2cac810d46d0'), 334: UUID('a9fdf0df-2716-45c7-921c-d49d88d16f33'), 335: UUID('d5a4ac59-4e17-45e8-87a9-accefd10e87d'), 336: UUID('86033171-ffe0-4016-8e61-a671642ab9cb'), 337: UUID('e441fc31-dc8f-4001-a81e-ce7074359cfc'), 338: UUID('d827aec0-bc9b-4695-92e5-2e172ef77318'), 339: UUID('1dfd0792-1aaf-4b55-9ede-f58db6c8e8ea'), 340: UUID('ec8d79c4-6249-494d-b648-df49a0e7901d'), 341: UUID('eab04f53-2ec5-44fd-af0d-046082f2f6bc'), 342: UUID('bd4e5717-a1b8-4532-9c59-f07d1b064ea1'), 343: UUID('aea92e3c-7aa0-4523-8fbe-d54eba72d5de'), 344: UUID('ba74a213-ef85-48e5-8345-6e74c114cd19'), 345: UUID('287c8d73-37ca-4b06-a811-9a29e5ebab81'), 346: UUID('50f848a1-0d6a-45ea-91da-36f83604c9d4'), 347: UUID('cd74ccd6-09c6-4141-94b2-310912dd9ae9'), 348: UUID('71b088db-685a-4d83-a208-9e1519c40b67'), 349: UUID('cc12b3e9-439d-4ac1-b1c3-dcab8eb60375'), 350: UUID('512a74fa-45dd-4816-9978-eafac3ae7455'), 351: UUID('22ea9784-17f8-44d8-8ac7-5a1364fb2d7c'), 352: UUID('b6744a3d-bb17-46a5-a573-b8d0f35e7d87'), 353: UUID('e2196845-f70e-41d2-b6c6-420923621610'), 354: UUID('0c152b11-af63-4af5-b43c-39a79c8006bd'), 355: UUID('bcd0d1e9-550c-4b8b-b2a0-d17e91d2d5fd'), 356: UUID('eac5bae1-d13b-4db7-b4ca-b9b674a630a1'), 357: UUID('23779a5d-e854-47a5-aadb-f7db219c40de'), 358: UUID('5a1896d8-cfd4-4784-99fe-406382b214cd'), 359: UUID('5e7f290b-0a91-48ab-a601-659856e900a4'), 360: UUID('f19fde68-b3e8-43b4-81da-e6e9848e26a4'), 361: UUID('dc14a2fd-b718-458d-92aa-c4ecf55613f9'), 362: UUID('241727ac-0565-4168-b366-30d702652638'), 363: UUID('72505364-408d-4d21-b334-5c632142bb97'), 364: UUID('b60ae845-6204-46b1-9274-40e6387a5c71'), 365: UUID('0715cc5b-e4d9-4d1b-a61a-d7bcf50dfead'), 366: UUID('e8b20248-957c-4e50-b0b9-0ab47282cad8'), 367: UUID('37b05c01-72bc-4b97-83ee-340414ce58fb'), 368: UUID('6a98457d-04ed-42c6-9e04-4080e40e0518'), 369: UUID('67eec916-b499-4904-a1c7-15eb48b01ca2'), 370: UUID('3365fe55-8480-43ad-a8bd-9528d7a8766e'), 371: UUID('f5a5e9c4-6557-4db4-812f-6959fa6b17e3'), 372: UUID('57ae6f7d-4be0-493b-8368-272f7eec36db'), 373: UUID('4eca2770-9d00-45cc-a2dc-c502c3b69e31'), 374: UUID('8a6a3579-0444-4085-9767-7a0130590769'), 375: UUID('12ae65a4-14b3-4410-acc4-8012a72682ef'), 376: UUID('d916717f-bc43-4d61-a5d5-22daa1fdc9de'), 377: UUID('40c7a51f-94a8-439d-9b0c-4ea7b4f08a91'), 378: UUID('a58572f8-1b6f-4806-b245-1a5aafeca6ce'), 379: UUID('2fecc76a-9844-4dff-9400-3d61694869d9'), 380: UUID('15659e33-f465-4639-90d5-08621a17c0bd'), 381: UUID('310fb972-60fb-4503-a975-d0d237f21011'), 382: UUID('6f8879df-4f5b-47d4-a7d1-ba4e39098c01'), 383: UUID('e86f0042-a1d3-4590-9d2b-69a8890f0b73'), 384: UUID('90cc7d72-4cd6-4f7e-a6e8-d60472dd28e8'), 385: UUID('3eead336-dbf6-4cbe-ac3a-cca9dc57064a'), 386: UUID('c91edc55-9b5a-4654-b6c4-678d70bfa253'), 387: UUID('995884ae-b05e-4f92-8ec8-156a0b396891'), 388: UUID('b2334deb-e9ed-49c3-9295-a2b7a415c421'), 389: UUID('9ba973f7-b300-49aa-9f1e-c09d8ac876b8'), 390: UUID('8cbbdd61-027a-4809-ab2f-76c5b61fedee'), 391: UUID('981478bf-52aa-411b-810b-66e0d0cd91ed'), 392: UUID('4646ebd8-f352-4e51-8c74-584a3ae9d414'), 393: UUID('5b6c0094-6466-4d03-a24d-e6778f48e037'), 394: UUID('24802537-6ddd-43ad-a009-7180100d71c1'), 395: UUID('4b6634b1-ba35-483a-a113-6e3e6d75e6f6'), 396: UUID('a358ef72-b38e-4f8d-9ed6-4de6b24f6cf0'), 397: UUID('1d764e75-dfc1-48a2-8977-55fb92c603f9'), 398: UUID('1c5be05d-ae79-43b5-9183-050e22c2bc98'), 399: UUID('7dfcfa7d-dacb-4c0d-88e9-58d59b57d10d'), 400: UUID('a41b72b1-d594-4de8-b0f4-0db3f558fe3e'), 401: UUID('9690c60c-dce7-4984-bfb0-b1f6055b8cfd'), 402: UUID('bc85d938-641c-4b36-a40b-db796588320e'), 403: UUID('bb5d1aea-f817-419c-b4be-94639eab3a27'), 404: UUID('30190db0-a303-4bdf-903a-ca823b0a9a3b'), 405: UUID('06cae59f-997f-4901-9844-62251be573db'), 406: UUID('6b8bf576-693a-4416-a4e5-8bd9a8c6eb16')}, has_errors=False)"
      ]
     },
     "execution_count": 13,
     "metadata": {},
     "output_type": "execute_result"
    }
   ],
   "source": [
    "# create the weaviate collection chunked by sentences\n",
    "if client.collections.exists(\"test_naive_chunking\"):\n",
    "    client.collections.delete(\"test_naive_chunking\")\n",
    "\n",
    "naive_chunking_collection = client.collections.create(\n",
    "    name=\"test_naive_chunking\",\n",
    "    vectorizer_config=wvcc.Configure.Vectorizer.text2vec_openai(),\n",
    "            properties=[\n",
    "                    wvcc.Property(name=\"content\", data_type=wvcc.DataType.TEXT)\n",
    "            ]\n",
    ")\n",
    "\n",
    "naive_chunking_collection.data.insert_many([{\"content\": c} for c in chunks])"
   ]
  },
  {
   "cell_type": "code",
   "execution_count": 14,
   "metadata": {},
   "outputs": [],
   "source": [
    "def naive_chunking_query_function_weaviate(query, k=3):\n",
    "    results = naive_chunking_collection.query.near_text(\n",
    "        query = query,\n",
    "        limit = k\n",
    "    )\n",
    "\n",
    "    return [res.properties[\"content\"] for res in results.objects]\n"
   ]
  },
  {
   "cell_type": "code",
   "execution_count": 15,
   "metadata": {},
   "outputs": [
    {
     "data": {
      "text/plain": [
       "[\"\\n\\nDemographics\\nMain article: Demographics of Berlin\\n\\nBerlin population pyramid in 2022\\n\\nBerlin's population, 1880–2012\\nAt the end of 2018, the city-state of Berlin had 3.75 million registered inhabitants[103] in an area of 891.1 km2 (344.1 sq mi).[3] The city's population density was 4,206 inhabitants per km2.\",\n",
       " 'Foreign residents of Berlin originate from about 190 countries.[112] 48 percent of the residents under the age of 15 have a migration background in 2017.[113] Berlin in 2009 was estimated to have 100,000 to 250,000 unregistered inhabitants.[114] Boroughs of Berlin with a significant number of migrants or foreign born population are Mitte, Neukölln and Friedrichshain-Kreuzberg.[115] The number of Arabic speakers in Berlin could be higher than 150,000.',\n",
       " 'Around 130,000 jobs were added in this period.[150]\\n\\nImportant economic sectors in Berlin include life sciences, transportation, information and communication technologies, media and music, advertising and design, biotechnology, environmental services, construction, e-commerce, retail, hotel business, and medical engineering.[151]\\n\\nResearch and development have economic significance for the city.[152] Several major corporations like Volkswagen, Pfizer, and SAP operate innovation laboratories in the city.[153] The Science and Business Park in Adlershof is the largest technology park in Germany measured by revenue.[154] Within the Eurozone, Berlin has become a center for business relocation and international investments.[155][156]\\n\\nYear[157]\\t2010\\t2011\\t2012\\t2013\\t2014\\t2015\\t2016\\t2017\\t20',\n",
       " \"Of the estimated population of 30,000–45,000 Jewish residents,[130] approximately 12,000 are registered members of religious organizations.[125]\\n\\nBerlin is the seat of the Roman Catholic archbishop of Berlin and EKBO's elected chairperson is titled the bishop of EKBO.\",\n",
       " \"Polish, English, Russian, and Vietnamese have more native speakers in East Berlin.[121]\\n\\nReligion\\nMain article: Religion in Berlin\\nReligion in Berlin (2022)[122]\\n\\n  Not religious/other (72%)\\n  EKD Protestants (15%)\\n  Catholics (9%)\\n  Islam (4%)\\n  Jewish (1%)\\n  Other (0.5%)\\n\\n\\n\\n\\nClockwise from top left: Berlin Cathedral, New Synagogue, Şehitlik Mosque, and St. Hedwig's Cathedral\\nOn the report of the 2011 census, approximately 37 percent of the population reported being members of a legally-recognized church or religious organization.\"]"
      ]
     },
     "execution_count": 15,
     "metadata": {},
     "output_type": "execute_result"
    }
   ],
   "source": [
    "naive_chunking_query_function_weaviate(\"What are the different demographics of Berlin?\", 5)"
   ]
  },
  {
   "cell_type": "markdown",
   "metadata": {},
   "source": [
    "We can see that the naive chunking query still gives us good results - it matches more specifically with the question. Whereas the late chunking example skips straight to the chunks it _knows_ to be relevant, because they contain contextual information within the embeddings themselves!"
   ]
  }
 ],
 "metadata": {
  "kernelspec": {
   "display_name": ".venv",
   "language": "python",
   "name": "python3"
  },
  "language_info": {
   "codemirror_mode": {
    "name": "ipython",
    "version": 3
   },
   "file_extension": ".py",
   "mimetype": "text/x-python",
   "name": "python",
   "nbconvert_exporter": "python",
   "pygments_lexer": "ipython3",
   "version": "3.12.4"
  }
 },
 "nbformat": 4,
 "nbformat_minor": 2
}
