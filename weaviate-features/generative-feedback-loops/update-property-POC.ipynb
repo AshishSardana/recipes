{
 "cells": [
  {
   "cell_type": "code",
   "execution_count": 4,
   "id": "8a6c5036",
   "metadata": {},
   "outputs": [],
   "source": [
    "import dspy\n",
    "from dspy.retrieve.weaviate_rm import WeaviateRM\n",
    "import weaviate\n",
    "\n",
    "weaviate_client = weaviate.connect_to_local()\n",
    "\n",
    "#command_r_plus = dspy.Cohere(model=\"command-r-plus\", max_tokens=4000, api_key=cohere_api_key)\n",
    "#command_r = dspy.Cohere(model=\"command-r\", max_tokens=4000, api_key=cohere_api_key)\n",
    "#gpt4 = dspy.OpenAI(model=\"gpt-4-1106-preview\", max_tokens=4000, model_type=\"chat\")\n",
    "#gpt_turbo = dspy.OpenAI(model=\"gpt-3.5-turbo\", max_tokens=4000, model_type=\"chat\")\n",
    "mistral_ollama = dspy.OllamaLocal(model=\"mistral\", max_tokens=4000, timeout_s=480)\n",
    "llama2_ollama = dspy.OllamaLocal(model=\"llama2\", max_tokens=4000, timeout_s=480)\n",
    "\n",
    "\n",
    "lms = [{\"name\": \"Mistral-7B\", \"lm\": mistral_ollama},\n",
    "       {\"name\": \"Llama2-7B\", \"lm\": llama2_ollama}]\n",
    "\n",
    "retriever_model = WeaviateRM(\"WeaviateBlogChunk\", weaviate_client=weaviate_client)\n",
    "dspy.settings.configure(lm=mistral_ollama, rm=retriever_model)"
   ]
  },
  {
   "cell_type": "code",
   "execution_count": 13,
   "id": "64b77be4",
   "metadata": {},
   "outputs": [
    {
     "name": "stderr",
     "output_type": "stream",
     "text": [
      "/var/folders/41/8dp_379x15d8zz4ppsjthdw40000gn/T/ipykernel_87328/412093697.py:6: PydanticDeprecatedSince20: Pydantic V1 style `@validator` validators are deprecated. You should migrate to Pydantic V2 style `@field_validator` validators, see the migration guide for more details. Deprecated in Pydantic V2.0 to be removed in V3.0. See Pydantic V2 Migration Guide at https://errors.pydantic.dev/2.5/migration/\n",
      "  @validator('property_value')\n"
     ]
    }
   ],
   "source": [
    "from pydantic import BaseModel, validator\n",
    "\n",
    "class UpdatedPropertyValue(BaseModel):\n",
    "    property_value: str\n",
    "\n",
    "    @field_validator('property_value')\n",
    "    def check_starts_with(cls, v):\n",
    "        invalid_prefixes = [\"Property Name\", \"References\", \"Instruction\", \"Property Value\"]\n",
    "        for prefix in invalid_prefixes:\n",
    "            if v.startswith(prefix):\n",
    "                raise ValueError(f\"property_value cannot start with '{prefix}'\")\n",
    "        return v"
   ]
  },
  {
   "cell_type": "code",
   "execution_count": 19,
   "id": "5fc8a9f2",
   "metadata": {},
   "outputs": [],
   "source": [
    "class UpdateProperty(dspy.Signature):\n",
    "    \"\"\"Your task is to generate the value of a property by following the instruction using the provided name-value property references.\"\"\"\n",
    "\n",
    "    property_name: str = dspy.InputField(desc=\"The name of the property that you should update.\")\n",
    "    references: str = dspy.InputField(\n",
    "        desc=\"The name-value property pairs that you should refer to while updating the property.\"\n",
    "    )\n",
    "    instruction: str = dspy.InputField(\n",
    "        desc=\"The prompt to use when generating the content of the updated property value.\"\n",
    "    )\n",
    "    property_value: UpdatedPropertyValue = dspy.OutputField(desc=\"The value of the updated property as a string.\")\n",
    "        \n",
    "class Program(dspy.Module):\n",
    "    def __init__(self) -> None:\n",
    "        self.predict = dspy.TypedPredictor(UpdateProperty)\n",
    "\n",
    "    def forward(self, property_name: str, references: str, instruction: str) -> str:\n",
    "        prediction: dspy.Prediction = self.predict(\n",
    "            property_name=property_name, references=references, instruction=instruction\n",
    "        )\n",
    "        return prediction.property_value.property_value"
   ]
  },
  {
   "cell_type": "code",
   "execution_count": 20,
   "id": "2e4fa789",
   "metadata": {},
   "outputs": [
    {
     "name": "stdout",
     "output_type": "stream",
     "text": [
      "\u001b[91mResult for Mistral-7B\n",
      "\n",
      "\u001b[0mLeBron Raymone James is a four-time NBA champion basketball player for the Los Angeles Lakers. He is widely regarded as one of the greatest players in NBA history and has competed in 10 NBA Finals, winning a total of 5 championships. James also won Olympic gold medals as a member of the U.S. men's national team. \n",
      "\n",
      "\u001b[91mResult for Llama2-7B\n",
      "\n",
      "\u001b[0mLeBron James is widely recognized as one of the greatest basketball players of all time, with numerous accolades and achievements throughout his career. He has competed in 10 NBA Finals, winning four championships, and also won two Olympic gold medals as a member of the U.S. men's national team. A summary of his references is: LeBron Raymone James Sr. (/ləˈbrɒn/ lə-BRON; born December 30, 1984) is an American professional basketball player for the Los Angeles Lakers of the National Basketball Association (NBA). \n",
      "\n"
     ]
    }
   ],
   "source": [
    "summarize_test = {\n",
    "    \"property_name\": \"summary\",\n",
    "    \"references\": \"\"\"\n",
    "    title-LeBron James,\n",
    "    content-LeBron Raymone James Sr. (/ləˈbrɒn/ lə-BRON; born December 30, 1984) is an American professional basketball player for the Los Angeles Lakers of the National Basketball Association (NBA). Nicknamed \"King James\", he is widely recognized as one of the greatest players in the history of the sport and is often compared to Michael Jordan in debates over the greatest basketball player of all time.[a] He has competed in 10 NBA Finals (with eight consecutive appearances from 2011 to 2018), winning four NBA championships.[1] He also won the inaugural NBA Cup in 2023 with the Lakers, and two Olympic gold medals as a member of the U.S. men's national team.\n",
    "    \"\"\",\n",
    "    \"instruction\": \"Please summarize the content of these references.\"\n",
    "}\n",
    "\n",
    "for lm_dict in lms:\n",
    "    lm, name = lm_dict[\"lm\"], lm_dict[\"name\"]\n",
    "    with dspy.context(lm=lm):\n",
    "        print(f\"\\033[91mResult for {name}\\n\")\n",
    "        print(f\"\\033[0m{Program()(**summarize_test)} \\n\")"
   ]
  },
  {
   "cell_type": "code",
   "execution_count": 21,
   "id": "099a4fa7",
   "metadata": {},
   "outputs": [
    {
     "name": "stdout",
     "output_type": "stream",
     "text": [
      "\u001b[91mResult for Mistral-7B\n",
      "\n",
      "\u001b[0mDecember 30, 1984 \n",
      "\n",
      "\u001b[91mResult for Llama2-7B\n",
      "\n",
      "\u001b[0mDecember 30, 1984 \n",
      "\n"
     ]
    }
   ],
   "source": [
    "birthday_test = {\n",
    "    \"property_name\": \"birthday\",\n",
    "    \"references\": \"\"\"\n",
    "    title-LeBron James,\n",
    "    content-LeBron Raymone James Sr. (/ləˈbrɒn/ lə-BRON; born December 30, 1984) is an American professional basketball player for the Los Angeles Lakers of the National Basketball Association (NBA). Nicknamed \"King James\", he is widely recognized as one of the greatest players in the history of the sport and is often compared to Michael Jordan in debates over the greatest basketball player of all time.[a] He has competed in 10 NBA Finals (with eight consecutive appearances from 2011 to 2018), winning four NBA championships.[1] He also won the inaugural NBA Cup in 2023 with the Lakers, and two Olympic gold medals as a member of the U.S. men's national team.\n",
    "    \"\"\",\n",
    "    \"instruction\": \"Please extract the value for `birthday` from the `references`.\"\n",
    "}\n",
    "\n",
    "for lm_dict in lms:\n",
    "    lm, name = lm_dict[\"lm\"], lm_dict[\"name\"]\n",
    "    with dspy.context(lm=lm):\n",
    "        print(f\"\\033[91mResult for {name}\\n\")\n",
    "        print(f\"\\033[0m{Program()(**birthday_test)} \\n\")"
   ]
  },
  {
   "cell_type": "code",
   "execution_count": 22,
   "id": "91bbd1ce",
   "metadata": {},
   "outputs": [
    {
     "name": "stdout",
     "output_type": "stream",
     "text": [
      "\u001b[91mResult for Mistral-7B\n",
      "\n",
      "\u001b[0mGiven that LeBron James is a renowned basketball player and a data point in various sports analytics, he could potentially benefit from our new Generative Feedback Loop product. With his extensive career statistics and achievements, this data could be used to train AI systems to generate insights about his performance trends or even predict future outcomes based on historical data. For instance, the system could identify patterns in LeBron's shooting percentages during specific game situations or provide suggestions for optimal team strategies based on past successes. By utilizing Generative Feedback Loops, LeBron and other athletes, coaches, and sports analysts could gain valuable insights to improve performance and make data-driven decisions. \n",
      "\n",
      "\u001b[91mResult for Llama2-7B\n",
      "\n",
      "\u001b[0mLeBron James, a professional basketball player for the Los Angeles Lakers, could potentially benefit from using Generative Feedback Loops. By leveraging AI systems to process data and create new insights, he may be able to gain a competitive advantage in his training and performance. For example, by analyzing his own playing style and that of other top players, the Generative Feedback Loop could generate new drills and exercises tailored to his specific needs and goals. Additionally, the system could help him identify areas where he can improve his game, such as shooting or ball handling, and provide personalized recommendations for improvement. Overall, Generative Feedback Loops could help LeBron James stay at the top of his game and continue to be one of the greatest players in the history of basketball. \n",
      "\n"
     ]
    }
   ],
   "source": [
    "crm_test = {\n",
    "    \"property_name\": \"generative_feedback_loop_use_case\",\n",
    "    \"references\": \"\"\"\n",
    "    title-LeBron James,\n",
    "    content-LeBron Raymone James Sr. (/ləˈbrɒn/ lə-BRON; born December 30, 1984) is an American professional basketball player for the Los Angeles Lakers of the National Basketball Association (NBA). Nicknamed \"King James\", he is widely recognized as one of the greatest players in the history of the sport and is often compared to Michael Jordan in debates over the greatest basketball player of all time.[a] He has competed in 10 NBA Finals (with eight consecutive appearances from 2011 to 2018), winning four NBA championships.[1] He also won the inaugural NBA Cup in 2023 with the Lakers, and two Olympic gold medals as a member of the U.S. men's national team.\n",
    "    \"\"\",\n",
    "    \"instruction\": \"\"\"\n",
    "    Would this customer be interested in our new Generative Feedback Loop product?\n",
    "    Generative Feedback Loops describe using AI systems to process data to create new insights or fill in missing values of existing data.\n",
    "    Please write a short description of how this customer could utilize Generative Feedback Loops.\"\"\"\n",
    "}\n",
    "\n",
    "for lm_dict in lms:\n",
    "    lm, name = lm_dict[\"lm\"], lm_dict[\"name\"]\n",
    "    with dspy.context(lm=lm):\n",
    "        print(f\"\\033[91mResult for {name}\\n\")\n",
    "        print(f\"\\033[0m{Program()(**crm_test)} \\n\")"
   ]
  },
  {
   "cell_type": "code",
   "execution_count": 24,
   "id": "6f6cfa7b",
   "metadata": {},
   "outputs": [
    {
     "name": "stdout",
     "output_type": "stream",
     "text": [
      "\n",
      "\n",
      "\n",
      "Your task is to generate the value of a property by following the instruction using the provided name-value property references.\n",
      "\n",
      "---\n",
      "\n",
      "Follow the following format.\n",
      "\n",
      "Property Name: The name of the property that you should update.\n",
      "\n",
      "References: The name-value property pairs that you should refer to while updating the property.\n",
      "\n",
      "Instruction: The prompt to use when generating the content of the updated property value.\n",
      "\n",
      "Property Value: The value of the updated property as a string.. Respond with a single JSON object. JSON Schema: {\"properties\": {\"property_value\": {\"title\": \"Property Value\", \"type\": \"string\"}}, \"required\": [\"property_value\"], \"title\": \"UpdatedPropertyValue\", \"type\": \"object\"}\n",
      "\n",
      "---\n",
      "\n",
      "Property Name: generative_feedback_loop_use_case\n",
      "\n",
      "References:\n",
      "\n",
      "    title-LeBron James,\n",
      "    content-LeBron Raymone James Sr. (/ləˈbrɒn/ lə-BRON; born December 30, 1984) is an American professional basketball player for the Los Angeles Lakers of the National Basketball Association (NBA). Nicknamed \"King James\", he is widely recognized as one of the greatest players in the history of the sport and is often compared to Michael Jordan in debates over the greatest basketball player of all time.[a] He has competed in 10 NBA Finals (with eight consecutive appearances from 2011 to 2018), winning four NBA championships.[1] He also won the inaugural NBA Cup in 2023 with the Lakers, and two Olympic gold medals as a member of the U.S. men's national team.\n",
      "    \n",
      "\n",
      "Instruction:\n",
      "\n",
      "    Would this customer be interested in our new Generative Feedback Loop product?\n",
      "    Generative Feedback Loops describe using AI systems to process data to create new insights or fill in missing values of existing data.\n",
      "    Please write a short description of how this customer could utilize Generative Feedback Loops.\n",
      "\n",
      "Property Value:\u001b[32m {\n",
      "\"property_value\": \"Given that LeBron James is a renowned basketball player and a data point in various sports analytics, he could potentially benefit from our new Generative Feedback Loop product. With his extensive career statistics and achievements, this data could be used to train AI systems to generate insights about his performance trends or even predict future outcomes based on historical data. For instance, the system could identify patterns in LeBron's shooting percentages during specific game situations or provide suggestions for optimal team strategies based on past successes. By utilizing Generative Feedback Loops, LeBron and other athletes, coaches, and sports analysts could gain valuable insights to improve performance and make data-driven decisions.\"\n",
      "}\u001b[0m\n",
      "\n",
      "\n",
      "\n"
     ]
    },
    {
     "data": {
      "text/plain": [
       "'\\n\\n\\nYour task is to generate the value of a property by following the instruction using the provided name-value property references.\\n\\n---\\n\\nFollow the following format.\\n\\nProperty Name: The name of the property that you should update.\\n\\nReferences: The name-value property pairs that you should refer to while updating the property.\\n\\nInstruction: The prompt to use when generating the content of the updated property value.\\n\\nProperty Value: The value of the updated property as a string.. Respond with a single JSON object. JSON Schema: {\"properties\": {\"property_value\": {\"title\": \"Property Value\", \"type\": \"string\"}}, \"required\": [\"property_value\"], \"title\": \"UpdatedPropertyValue\", \"type\": \"object\"}\\n\\n---\\n\\nProperty Name: generative_feedback_loop_use_case\\n\\nReferences:\\n\\n    title-LeBron James,\\n    content-LeBron Raymone James Sr. (/ləˈbrɒn/ lə-BRON; born December 30, 1984) is an American professional basketball player for the Los Angeles Lakers of the National Basketball Association (NBA). Nicknamed \"King James\", he is widely recognized as one of the greatest players in the history of the sport and is often compared to Michael Jordan in debates over the greatest basketball player of all time.[a] He has competed in 10 NBA Finals (with eight consecutive appearances from 2011 to 2018), winning four NBA championships.[1] He also won the inaugural NBA Cup in 2023 with the Lakers, and two Olympic gold medals as a member of the U.S. men\\'s national team.\\n    \\n\\nInstruction:\\n\\n    Would this customer be interested in our new Generative Feedback Loop product?\\n    Generative Feedback Loops describe using AI systems to process data to create new insights or fill in missing values of existing data.\\n    Please write a short description of how this customer could utilize Generative Feedback Loops.\\n\\nProperty Value:\\x1b[32m {\\n\"property_value\": \"Given that LeBron James is a renowned basketball player and a data point in various sports analytics, he could potentially benefit from our new Generative Feedback Loop product. With his extensive career statistics and achievements, this data could be used to train AI systems to generate insights about his performance trends or even predict future outcomes based on historical data. For instance, the system could identify patterns in LeBron\\'s shooting percentages during specific game situations or provide suggestions for optimal team strategies based on past successes. By utilizing Generative Feedback Loops, LeBron and other athletes, coaches, and sports analysts could gain valuable insights to improve performance and make data-driven decisions.\"\\n}\\x1b[0m\\n\\n\\n'"
      ]
     },
     "execution_count": 24,
     "metadata": {},
     "output_type": "execute_result"
    }
   ],
   "source": [
    "mistral_ollama.inspect_history(n=1)"
   ]
  },
  {
   "cell_type": "code",
   "execution_count": null,
   "id": "7104a455",
   "metadata": {},
   "outputs": [],
   "source": []
  }
 ],
 "metadata": {
  "kernelspec": {
   "display_name": "Python (myenv)",
   "language": "python",
   "name": "myenv_kernel"
  },
  "language_info": {
   "codemirror_mode": {
    "name": "ipython",
    "version": 3
   },
   "file_extension": ".py",
   "mimetype": "text/x-python",
   "name": "python",
   "nbconvert_exporter": "python",
   "pygments_lexer": "ipython3",
   "version": "3.10.10"
  }
 },
 "nbformat": 4,
 "nbformat_minor": 5
}
