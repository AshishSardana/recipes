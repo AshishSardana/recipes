{
  "cells": [
    {
      "cell_type": "markdown",
      "metadata": {
        "colab_type": "text",
        "id": "view-in-github"
      },
      "source": [
        "<a href=\"https://colab.research.google.com/github/erika-cardenas/recipes/blob/main/generative_search_palm.ipynb\" target=\"_parent\"><img src=\"https://colab.research.google.com/assets/colab-badge.svg\" alt=\"Open In Colab\"/></a>"
      ]
    },
    {
      "cell_type": "markdown",
      "metadata": {
        "id": "rJD9aP9eVcsT"
      },
      "source": [
        "## Dependencies"
      ]
    },
    {
      "cell_type": "code",
      "execution_count": null,
      "metadata": {
        "id": "ReE5TWeXSDTe"
      },
      "outputs": [],
      "source": [
        "!pip install weaviate-client"
      ]
    },
    {
      "cell_type": "markdown",
      "metadata": {
        "id": "p9Mkfza_SFKM"
      },
      "source": [
        "## Configuration"
      ]
    },
    {
      "cell_type": "code",
      "execution_count": null,
      "metadata": {
        "id": "fn9Pbq7mSGqN"
      },
      "outputs": [],
      "source": [
        "import weaviate\n",
        "import json\n",
        "\n",
        "client = weaviate.Client(\n",
        "  url=\"WEAVIATE-INSTANCE-URL\",  # URL of your Weaviate instance\n",
        "  auth_client_secret=weaviate.AuthApiKey(api_key=\"AUTH-KEY\"), # (Optional) If the Weaviate instance requires authentication\n",
        "  additional_headers={\n",
        "    \"X-PALM-Api-Key\": \"PALM-API-KEY\", # Replace with your PALM key\n",
        "  }\n",
        ")\n",
        "\n",
        "client.schema.get()  # Get the schema to test connection"
      ]
    },
    {
      "cell_type": "markdown",
      "metadata": {
        "id": "CfL6wp85WzuT"
      },
      "source": [
        "### Expired Google Cloud Token"
      ]
    },
    {
      "cell_type": "markdown",
      "metadata": {
        "id": "AUIzJ34AXFPB"
      },
      "source": [
        "The Google Cloud's OAuth 2.0 access tokens only have a **one** hour lifetime. This means you have to replace the expired token with a valid one and it to Weaviate by re-instantiating the client. "
      ]
    },
    {
      "cell_type": "markdown",
      "metadata": {
        "id": "9wtTMIAsXbl-"
      },
      "source": [
        "#### Option 1: With Google Cloud CLI"
      ]
    },
    {
      "cell_type": "code",
      "execution_count": null,
      "metadata": {
        "id": "V1gpjJI1XvKs"
      },
      "outputs": [],
      "source": [
        "import subprocess\n",
        "import weaviate\n",
        "\n",
        "def refresh_token() -> str:\n",
        "    result = subprocess.run([\"gcloud\", \"auth\", \"print-access-token\"], capture_output=True, text=True)\n",
        "    if result.returncode != 0:\n",
        "        print(f\"Error refreshing token: {result.stderr}\")\n",
        "        return None\n",
        "    return result.stdout.strip()\n",
        "\n",
        "def re_instantiate_weaviate() -> weaviate.Client:\n",
        "    token = refresh_token()\n",
        "\n",
        "    client = weaviate.Client(\n",
        "      url = \"https://some-endpoint.weaviate.network\",  # Replace with your Weaviate URL\n",
        "      additional_headers = {\n",
        "        \"X-Palm-Api-Key\": token,\n",
        "      }\n",
        "    )\n",
        "    return client\n",
        "\n",
        "# Run this every ~60 minutes\n",
        "client = re_instantiate_weaviate()"
      ]
    },
    {
      "cell_type": "markdown",
      "metadata": {
        "id": "GGzpT8fRX0Vk"
      },
      "source": [
        "Then you could run the below cell periodically."
      ]
    },
    {
      "cell_type": "code",
      "execution_count": null,
      "metadata": {
        "id": "XFJvjTkwXqF8"
      },
      "outputs": [],
      "source": [
        "client = re_instantiate_weaviate()"
      ]
    },
    {
      "cell_type": "markdown",
      "metadata": {
        "id": "YG97B310X5Q5"
      },
      "source": [
        "#### Option 2: With `google-auth`\n",
        "\n",
        "See the links to google-auth in [Python](https://google-auth.readthedocs.io/en/master/index.html) and [Node.js](https://cloud.google.com/nodejs/docs/reference/google-auth-library/latest) libraries."
      ]
    },
    {
      "cell_type": "code",
      "execution_count": null,
      "metadata": {
        "id": "mDisIHXSXq4p"
      },
      "outputs": [],
      "source": [
        "from google.auth.transport.requests import Request\n",
        "from google.oauth2.service_account import Credentials\n",
        "import weaviate\n",
        "\n",
        "def get_credentials() -> Credentials:\n",
        "    credentials = Credentials.from_service_account_file('path/to/your/service-account.json', scopes=['openid'])\n",
        "    request = Request()\n",
        "    credentials.refresh(request)\n",
        "    return credentials\n",
        "\n",
        "def re_instantiate_weaviate() -> weaviate.Client:\n",
        "    credentials = get_credentials()\n",
        "    token = credentials.token\n",
        "\n",
        "    client = weaviate.Client(\n",
        "      url = \"https://some-endpoint.weaviate.network\",  # Replace with your Weaviate URL\n",
        "      additional_headers = {\n",
        "        \"X-Palm-Api-Key\": token,\n",
        "      }\n",
        "    )\n",
        "    return client\n",
        "\n",
        "# Run this every ~60 minutes\n",
        "client = re_instantiate_weaviate()"
      ]
    },
    {
      "cell_type": "markdown",
      "metadata": {
        "id": "edRTdzuNYjZK"
      },
      "source": [
        "Then run the below periodically:"
      ]
    },
    {
      "cell_type": "code",
      "execution_count": null,
      "metadata": {
        "id": "sAQMCZJJYp--"
      },
      "outputs": [],
      "source": [
        "client = re_instantiate_weaviate()"
      ]
    },
    {
      "cell_type": "markdown",
      "metadata": {
        "id": "jL7QiiDjTjwl"
      },
      "source": [
        "## Schema"
      ]
    },
    {
      "cell_type": "code",
      "execution_count": null,
      "metadata": {
        "id": "JXSfXSxWSU8Q"
      },
      "outputs": [],
      "source": [
        "# resetting the schema. CAUTION: THIS WILL DELETE YOUR DATA \n",
        "client.schema.delete_all()\n",
        "\n",
        "schema = {\n",
        "   \"classes\": [\n",
        "       {\n",
        "           \"class\": \"JeopardyQuestion\",\n",
        "           \"description\": \"List of jeopardy questions\",\n",
        "           \"vectorizer\": \"text2vec-palm\",\n",
        "           \"moduleConfig\": { # specify the model you want to use\n",
        "               \"generative-palm\": {\n",
        "                  \"projectId\": \"YOUR-GOOGLE-CLOUD-PROJECT-ID\",    # required. Replace with your value: (e.g. \"cloud-large-language-models\")\n",
        "                  \"apiEndpoint\": \"YOUR-API-ENDPOINT\",             # optional. Defaults to \"us-central1-aiplatform.googleapis.\n",
        "                  \"modelId\": \"YOUR-GOOGLE-CLOUD-ENDPOINT-ID\",     # optional. Defaults to \"chat-bison\"\n",
        "                }\n",
        "           },\n",
        "           \"properties\": [\n",
        "               {\n",
        "                  \"name\": \"Category\",\n",
        "                  \"dataType\": [\"text\"],\n",
        "                  \"description\": \"Category of the question\",\n",
        "               },\n",
        "               {\n",
        "                  \"name\": \"Question\",\n",
        "                  \"dataType\": [\"text\"],\n",
        "                  \"description\": \"The question\",\n",
        "               },\n",
        "               {\n",
        "                  \"name\": \"Answer\",\n",
        "                  \"dataType\": [\"text\"],\n",
        "                  \"description\": \"The answer\",\n",
        "                }\n",
        "            ]\n",
        "        }\n",
        "    ]\n",
        "}\n",
        "\n",
        "client.schema.create(schema)\n",
        "\n",
        "print(\"Successfully created the schema.\")"
      ]
    },
    {
      "cell_type": "markdown",
      "metadata": {
        "id": "AiQVGMnOXs_L"
      },
      "source": [
        "## Import the Data"
      ]
    },
    {
      "cell_type": "code",
      "execution_count": null,
      "metadata": {
        "id": "Mg4k9nvLXu-7"
      },
      "outputs": [],
      "source": [
        "import requests\n",
        "url = 'https://raw.githubusercontent.com/weaviate/weaviate-examples/main/jeopardy_small_dataset/jeopardy_tiny.json'\n",
        "resp = requests.get(url)\n",
        "data = json.loads(resp.text)\n",
        "\n",
        "if client.is_ready():\n",
        "\n",
        "# Configure a batch process\n",
        "  with client.batch as batch:\n",
        "      batch.batch_size=100\n",
        "      # Batch import all Questions\n",
        "      for i, d in enumerate(data):\n",
        "          print(f\"importing question: {i+1}\")\n",
        "\n",
        "          properties = {\n",
        "              \"answer\": d[\"Answer\"],\n",
        "              \"question\": d[\"Question\"],\n",
        "              \"category\": d[\"Category\"],\n",
        "          }\n",
        "\n",
        "          client.batch.add_data_object(properties, \"JeopardyQuestion\")\n",
        "else:\n",
        "  print(\"The Weaviate cluster is not connected.\")"
      ]
    },
    {
      "cell_type": "markdown",
      "metadata": {
        "id": "9Yk3Hg5tXyMh"
      },
      "source": [
        "## Generative Search Queries"
      ]
    },
    {
      "cell_type": "markdown",
      "metadata": {
        "id": "7qs5NLTWX4Q0"
      },
      "source": [
        "### Single Result"
      ]
    },
    {
      "cell_type": "markdown",
      "metadata": {
        "id": "t4me1jL0fkDR"
      },
      "source": [
        "Single Result makes a generation for each individual search result. \n",
        "\n",
        "In the below example, I want to create a Facebook ad from the Jeopardy question about Elephants. "
      ]
    },
    {
      "cell_type": "code",
      "execution_count": null,
      "metadata": {
        "id": "lRRMl6krX3UR"
      },
      "outputs": [],
      "source": [
        "generatePrompt = \"Turn the following Jeogrady question into a Facebook Ad: {question}\"\n",
        "\n",
        "result = (\n",
        "  client.query\n",
        "  .get(\"JeopardyQuestion\", [\"question\"])\n",
        "  .with_generate(single_prompt = generatePrompt)\n",
        "  .with_near_text({\n",
        "    \"concepts\": [\"Elephants\"]\n",
        "  })\n",
        "  .with_limit(1)\n",
        ").do()\n",
        "\n",
        "print(json.dumps(result, indent=1))"
      ]
    },
    {
      "cell_type": "markdown",
      "metadata": {
        "id": "Rg1JvRTFfgla"
      },
      "source": [
        "### Grouped Result"
      ]
    },
    {
      "cell_type": "markdown",
      "metadata": {
        "id": "51RANrlhgoyh"
      },
      "source": [
        "Grouped Result generates a single response from all the search results. \n",
        "\n",
        "The below example is creating a Facebook ad from the 3 retrieved Jeoprady questions about animals. "
      ]
    },
    {
      "cell_type": "code",
      "execution_count": null,
      "metadata": {
        "id": "Gqf3NpZ2fJhg"
      },
      "outputs": [],
      "source": [
        "generateTask = \"Explain why these Jeopardy questions are under the Animals category.\"\n",
        "\n",
        "result = (\n",
        "  client.query\n",
        "  .get(\"JeopardyQuestion\", [\"question\"])\n",
        "  .with_generate(grouped_task = generateTask)\n",
        "  .with_near_text({\n",
        "    \"concepts\": [\"Animals\"]\n",
        "  })\n",
        "  .with_limit(3)\n",
        ").do()\n",
        "\n",
        "print(json.dumps(result, indent=1))"
      ]
    }
  ],
  "metadata": {
    "colab": {
      "authorship_tag": "ABX9TyNvbTV5cegzKlkp/OZI4979",
      "include_colab_link": true,
      "provenance": []
    },
    "kernelspec": {
      "display_name": "Python 3",
      "name": "python3"
    },
    "language_info": {
      "name": "python"
    }
  },
  "nbformat": 4,
  "nbformat_minor": 0
}
