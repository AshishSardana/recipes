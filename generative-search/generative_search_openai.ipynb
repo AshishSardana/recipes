{
  "nbformat": 4,
  "nbformat_minor": 0,
  "metadata": {
    "colab": {
      "provenance": []
    },
    "kernelspec": {
      "name": "python3",
      "display_name": "Python 3"
    },
    "language_info": {
      "name": "python"
    }
  },
  "cells": [
    {
      "cell_type": "markdown",
      "source": [
        "## Dependencies"
      ],
      "metadata": {
        "id": "rJD9aP9eVcsT"
      }
    },
    {
      "cell_type": "code",
      "execution_count": null,
      "metadata": {
        "id": "ReE5TWeXSDTe"
      },
      "outputs": [],
      "source": [
        "!pip install weaviate-client"
      ]
    },
    {
      "cell_type": "markdown",
      "source": [
        "## Configuration"
      ],
      "metadata": {
        "id": "p9Mkfza_SFKM"
      }
    },
    {
      "cell_type": "code",
      "source": [
        "import weaviate\n",
        "import json\n",
        "\n",
        "client = weaviate.Client(\n",
        "  url=\"WEAVIATE-INSTANCE-URL\",  # URL of your Weaviate instance\n",
        "  auth_client_secret=weaviate.AuthApiKey(api_key=\"AUTH-KEY\"), # (Optional) If the Weaviate instance requires authentication\n",
        "  additional_headers={\n",
        "    \"X-OpenAI-Api-Key\": \"OPENAI-API-KEY\", # Replace with your OpenAI key\n",
        "  }\n",
        ")\n",
        "\n",
        "client.schema.get()  # Get the schema to test connection"
      ],
      "metadata": {
        "id": "fn9Pbq7mSGqN"
      },
      "execution_count": null,
      "outputs": []
    },
    {
      "cell_type": "markdown",
      "source": [
        "## Schema"
      ],
      "metadata": {
        "id": "jL7QiiDjTjwl"
      }
    },
    {
      "cell_type": "code",
      "source": [
        "# resetting the schema. CAUTION: THIS WILL DELETE YOUR DATA \n",
        "client.schema.delete_all()\n",
        "\n",
        "schema = {\n",
        "   \"classes\": [\n",
        "       {\n",
        "           \"class\": \"JeopardyQuestion\",\n",
        "           \"description\": \"List of jeopardy questions\",\n",
        "           \"vectorizer\": \"text2vec-openai\",\n",
        "           \"moduleConfig\": { # specify the model you want to use\n",
        "               \"generative-openai\": { \n",
        "                    \"model\": \"gpt-3.5-turbo\",  # Optional - Defaults to `gpt-3.5-turbo`\n",
        "                }\n",
        "           },\n",
        "           \"properties\": [\n",
        "               {\n",
        "                  \"name\": \"Category\",\n",
        "                  \"dataType\": [\"text\"],\n",
        "                  \"description\": \"Category of the question\",\n",
        "               },\n",
        "               {\n",
        "                  \"name\": \"Question\",\n",
        "                  \"dataType\": [\"text\"],\n",
        "                  \"description\": \"The question\",\n",
        "               },\n",
        "               {\n",
        "                  \"name\": \"Answer\",\n",
        "                  \"dataType\": [\"text\"],\n",
        "                  \"description\": \"The answer\",\n",
        "                }\n",
        "            ]\n",
        "        }\n",
        "    ]\n",
        "}\n",
        "\n",
        "client.schema.create(schema)\n",
        "\n",
        "print(\"Successfully created the schema.\")"
      ],
      "metadata": {
        "colab": {
          "base_uri": "https://localhost:8080/"
        },
        "id": "JXSfXSxWSU8Q",
        "outputId": "e9489e8b-5db4-429e-badf-b6a140cf774c"
      },
      "execution_count": null,
      "outputs": [
        {
          "output_type": "stream",
          "name": "stdout",
          "text": [
            "Successfully created the schema.\n"
          ]
        }
      ]
    },
    {
      "cell_type": "markdown",
      "source": [
        "## Import the Data"
      ],
      "metadata": {
        "id": "AiQVGMnOXs_L"
      }
    },
    {
      "cell_type": "code",
      "source": [
        "import requests\n",
        "url = 'https://raw.githubusercontent.com/weaviate/weaviate-examples/main/jeopardy_small_dataset/jeopardy_tiny.json'\n",
        "resp = requests.get(url)\n",
        "data = json.loads(resp.text)\n",
        "\n",
        "if client.is_ready():\n",
        "\n",
        "# Configure a batch process\n",
        "  with client.batch as batch:\n",
        "      batch.batch_size=100\n",
        "      # Batch import all Questions\n",
        "      for i, d in enumerate(data):\n",
        "          print(f\"importing question: {i+1}\")\n",
        "\n",
        "          properties = {\n",
        "              \"answer\": d[\"Answer\"],\n",
        "              \"question\": d[\"Question\"],\n",
        "              \"category\": d[\"Category\"],\n",
        "          }\n",
        "\n",
        "          client.batch.add_data_object(properties, \"JeopardyQuestion\")\n",
        "else:\n",
        "  print(\"The Weaviate cluster is not connected.\")"
      ],
      "metadata": {
        "colab": {
          "base_uri": "https://localhost:8080/"
        },
        "id": "Mg4k9nvLXu-7",
        "outputId": "9bb3b916-8dd7-420b-8ca1-4b9fea5750d3"
      },
      "execution_count": null,
      "outputs": [
        {
          "output_type": "stream",
          "name": "stdout",
          "text": [
            "importing question: 1\n",
            "importing question: 2\n",
            "importing question: 3\n",
            "importing question: 4\n",
            "importing question: 5\n",
            "importing question: 6\n",
            "importing question: 7\n",
            "importing question: 8\n",
            "importing question: 9\n",
            "importing question: 10\n"
          ]
        }
      ]
    },
    {
      "cell_type": "markdown",
      "source": [
        "## Generative Search Queries"
      ],
      "metadata": {
        "id": "9Yk3Hg5tXyMh"
      }
    },
    {
      "cell_type": "markdown",
      "source": [
        "### Single Result"
      ],
      "metadata": {
        "id": "7qs5NLTWX4Q0"
      }
    },
    {
      "cell_type": "markdown",
      "source": [
        "Single Result makes a generation for each individual search result. \n",
        "\n",
        "In the below example, I want to create a Facebook ad from the Jeopardy question about Elephants. "
      ],
      "metadata": {
        "id": "t4me1jL0fkDR"
      }
    },
    {
      "cell_type": "code",
      "source": [
        "generatePrompt = \"Turn the following Jeogrady question into a Facebook Ad: {question}\"\n",
        "\n",
        "result = (\n",
        "  client.query\n",
        "  .get(\"JeopardyQuestion\", [\"question\"])\n",
        "  .with_generate(single_prompt = generatePrompt)\n",
        "  .with_near_text({\n",
        "    \"concepts\": [\"Elephants\"]\n",
        "  })\n",
        "  .with_limit(1)\n",
        ").do()\n",
        "\n",
        "print(json.dumps(result, indent=1))"
      ],
      "metadata": {
        "colab": {
          "base_uri": "https://localhost:8080/"
        },
        "id": "lRRMl6krX3UR",
        "outputId": "731003aa-e0de-4a0e-cb61-56e56ad29b80"
      },
      "execution_count": null,
      "outputs": [
        {
          "output_type": "stream",
          "name": "stdout",
          "text": [
            "{\n",
            " \"data\": {\n",
            "  \"Get\": {\n",
            "   \"JeopardyQuestion\": [\n",
            "    {\n",
            "     \"_additional\": {\n",
            "      \"generate\": {\n",
            "       \"error\": null,\n",
            "       \"singleResult\": \"Attention animal lovers! Did you know that there is only one living mammal in the order Proboseidea? Discover more fascinating facts about this unique creature on Jeogrady. Click now to learn more! \\ud83d\\udc18\\ud83c\\udf0d #Jeogrady #AnimalFacts #Proboseidea #Mammals #Wildlife #NatureLovers\"\n",
            "      }\n",
            "     },\n",
            "     \"question\": \"It's the only living mammal in the order Proboseidea\"\n",
            "    }\n",
            "   ]\n",
            "  }\n",
            " }\n",
            "}\n"
          ]
        }
      ]
    },
    {
      "cell_type": "markdown",
      "source": [
        "### Grouped Result"
      ],
      "metadata": {
        "id": "Rg1JvRTFfgla"
      }
    },
    {
      "cell_type": "markdown",
      "source": [
        "Grouped Result generates a single response from all the search results. \n",
        "\n",
        "The below example is creating a Facebook ad from the 3 retrieved Jeoprady questions about animals. "
      ],
      "metadata": {
        "id": "51RANrlhgoyh"
      }
    },
    {
      "cell_type": "code",
      "source": [
        "generateTask = \"Explain why these Jeopardy questions are under the Animals category.\"\n",
        "\n",
        "result = (\n",
        "  client.query\n",
        "  .get(\"JeopardyQuestion\", [\"question\"])\n",
        "  .with_generate(grouped_task = generateTask)\n",
        "  .with_near_text({\n",
        "    \"concepts\": [\"Animals\"]\n",
        "  })\n",
        "  .with_limit(3)\n",
        ").do()\n",
        "\n",
        "print(json.dumps(result, indent=1))"
      ],
      "metadata": {
        "colab": {
          "base_uri": "https://localhost:8080/"
        },
        "id": "Gqf3NpZ2fJhg",
        "outputId": "66deb616-af99-493e-9cf4-deddc0d1ee48"
      },
      "execution_count": null,
      "outputs": [
        {
          "output_type": "stream",
          "name": "stdout",
          "text": [
            "{\n",
            " \"data\": {\n",
            "  \"Get\": {\n",
            "   \"JeopardyQuestion\": [\n",
            "    {\n",
            "     \"_additional\": {\n",
            "      \"generate\": {\n",
            "       \"error\": null,\n",
            "       \"groupedResult\": \"The first two Jeopardy questions are under the Animals category because they both refer to specific animals - the elephant and the gavial. The third question is actually under the Science category, not Animals, because it refers to the classification of a specific type of bird.\"\n",
            "      }\n",
            "     },\n",
            "     \"question\": \"It's the only living mammal in the order Proboseidea\"\n",
            "    },\n",
            "    {\n",
            "     \"_additional\": {\n",
            "      \"generate\": null\n",
            "     },\n",
            "     \"question\": \"The gavial looks very much like a crocodile except for this bodily feature\"\n",
            "    },\n",
            "    {\n",
            "     \"_additional\": {\n",
            "      \"generate\": null\n",
            "     },\n",
            "     \"question\": \"2000 news: the Gunnison sage grouse isn't just another northern sage grouse, but a new one of this classification\"\n",
            "    }\n",
            "   ]\n",
            "  }\n",
            " }\n",
            "}\n"
          ]
        }
      ]
    }
  ]
}