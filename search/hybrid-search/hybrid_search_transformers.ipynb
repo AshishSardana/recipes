{
  "nbformat": 4,
  "nbformat_minor": 0,
  "metadata": {
    "colab": {
      "provenance": [],
      "collapsed_sections": [
        "Ze5J8E4MWC8g",
        "NISdgAYebLyX",
        "_wsYL2vD5G_9",
        "JcmaLcry7De_",
        "kkX9rn-25rHC",
        "MZeyVS6V73Rl"
      ]
    },
    "kernelspec": {
      "name": "python3",
      "display_name": "Python 3"
    },
    "language_info": {
      "name": "python"
    }
  },
  "cells": [
    {
      "cell_type": "markdown",
      "source": [
        "`text2vec-transformers` is **only** available through Weaviate open-source. Here are options to select your desired model: \n",
        "\n",
        "1. [Pre-built transformers model containers](https://weaviate.io/developers/weaviate/modules/retriever-vectorizer-modules/text2vec-transformers#pre-built-images)\n",
        "\n",
        "2. [Any model from Hugging Face Model Hub](https://weaviate.io/developers/weaviate/modules/retriever-vectorizer-modules/text2vec-transformers#option-2-use-any-publicly-available-hugging-face-model)\n",
        "\n",
        "3. [Use any private or local PyTorch or Tensorflow transformer model](https://weaviate.io/developers/weaviate/modules/retriever-vectorizer-modules/text2vec-transformers#option-3-custom-build-with-a-private-or-local-model)"
      ],
      "metadata": {
        "id": "Xpb01_Mxii2Q"
      }
    },
    {
      "cell_type": "markdown",
      "source": [
        "## Schema"
      ],
      "metadata": {
        "id": "Ze5J8E4MWC8g"
      }
    },
    {
      "cell_type": "code",
      "source": [
        "import weaviate\n",
        "\n",
        "client = weaviate.Client(\"http://localhost:8080\")\n",
        "\n",
        "# resetting the schema. CAUTION: THIS WILL DELETE YOUR DATA \n",
        "client.schema.delete_all()\n",
        "\n",
        "schema = {\n",
        "   \"classes\": [\n",
        "       {\n",
        "           \"class\": \"JeopardyQuestion\",\n",
        "           \"description\": \"List of jeopardy questions\",\n",
        "           \"moduleConfig\": { # specify the vectorizer and model type you're using\n",
        "               \"text2vec-transformers\": { \n",
        "                    \"poolingStrategy\": \"masked_mean\"\n",
        "                }\n",
        "           },\n",
        "           \"properties\": [\n",
        "               {\n",
        "                   \"name\": \"Category\",\n",
        "                   \"dataType\": [\"text\"],\n",
        "                   \"description\": \"Category of the question\",\n",
        "               },\n",
        "               {\n",
        "                \"name\": \"Question\",\n",
        "                \"dataType\": [\"text\"],\n",
        "                \"description\": \"The question\",\n",
        "               },\n",
        "               {\n",
        "                   \"name\": \"Answer\",\n",
        "                   \"dataType\": [\"text\"],\n",
        "                   \"description\": \"The answer\",\n",
        "                }\n",
        "            ]\n",
        "        }\n",
        "    ]\n",
        "}\n",
        "\n",
        "client.schema.create(schema)\n",
        "\n",
        "print(\"Successfully created the schema.\")"
      ],
      "metadata": {
        "id": "J32wdDCMWCgS"
      },
      "execution_count": null,
      "outputs": []
    },
    {
      "cell_type": "markdown",
      "source": [
        "## Import the Data"
      ],
      "metadata": {
        "id": "bjcuCEcCXlRK"
      }
    },
    {
      "cell_type": "code",
      "source": [
        "import requests\n",
        "url = 'https://raw.githubusercontent.com/weaviate/weaviate-examples/main/jeopardy_small_dataset/jeopardy_tiny.json'\n",
        "resp = requests.get(url)\n",
        "data = json.loads(resp.text)\n",
        "\n",
        "if client.is_ready():\n",
        "\n",
        "# Configure a batch process\n",
        "  with client.batch as batch:\n",
        "      batch.batch_size=100\n",
        "      # Batch import all Questions\n",
        "      for i, d in enumerate(data):\n",
        "          print(f\"importing question: {i+1}\")\n",
        "\n",
        "          properties = {\n",
        "              \"answer\": d[\"Answer\"],\n",
        "              \"question\": d[\"Question\"],\n",
        "              \"category\": d[\"Category\"],\n",
        "          }\n",
        "\n",
        "          client.batch.add_data_object(properties, \"JeopardyQuestion\")\n",
        "else:\n",
        "  print(\"The Weaviate cluster is not connected.\")"
      ],
      "metadata": {
        "id": "paWgPOGsa_NV"
      },
      "execution_count": null,
      "outputs": []
    },
    {
      "cell_type": "markdown",
      "source": [
        "## Hybrid Search"
      ],
      "metadata": {
        "id": "NISdgAYebLyX"
      }
    },
    {
      "cell_type": "markdown",
      "source": [
        "The `alpha` parameter determines the weight given to the sparse and dense search methods. `alpha = 0` is pure sparse (bm25) search, whereas `alpha = 1` is pure dense (vector) search. \n",
        "\n",
        "Alpha is an optional parameter. The default is set to `0.75`."
      ],
      "metadata": {
        "id": "svmbj8JC1y0g"
      }
    },
    {
      "cell_type": "markdown",
      "source": [
        "### Hybrid Search only\n",
        "\n",
        "The below query is finding Jeopardy questions about animals and is limiting the output to only two results. Notice `alpha` is set to `0.80`, which means it is weighing the vector search results more than bm25. If you were to set `alpha = 0.25`, you would get different results. "
      ],
      "metadata": {
        "id": "_wsYL2vD5G_9"
      }
    },
    {
      "cell_type": "code",
      "source": [
        "response = (\n",
        "    client.query\n",
        "    .get(\"JeopardyQuestion\", [\"question\", \"answer\"])\n",
        "    .with_hybrid(\n",
        "        query = \"animal\",\n",
        "        alpha = 0.80\n",
        "    )\n",
        "    .with_limit(3)\n",
        "    .do()\n",
        ")\n",
        "\n",
        "print(json.dumps(response, indent=2))"
      ],
      "metadata": {
        "id": "QI5P082I1yA-"
      },
      "execution_count": null,
      "outputs": []
    },
    {
      "cell_type": "markdown",
      "source": [
        "### Hybrid Search on a specific property\n",
        "\n",
        "The `properties` parameter allows you to list the properties that you want bm25 to search on."
      ],
      "metadata": {
        "id": "JcmaLcry7De_"
      }
    },
    {
      "cell_type": "code",
      "source": [
        "response = (\n",
        "    client.query\n",
        "    .get(\"JeopardyQuestion\", [\"question\", \"answer\"])\n",
        "    .with_hybrid(\n",
        "        query = \"animal\",\n",
        "        properties = [\"question\"],\n",
        "        alpha = 0.80\n",
        "    )\n",
        "    .with_limit(2)\n",
        "    .do()\n",
        ")\n",
        "\n",
        "print(json.dumps(response, indent=2))"
      ],
      "metadata": {
        "id": "Cp3hhbNu6Lsv"
      },
      "execution_count": null,
      "outputs": []
    },
    {
      "cell_type": "markdown",
      "source": [
        "### Hybrid Search with a `where` filter\n",
        "\n",
        "Find Jeopardy questions about elephants, where the category is set to Animals."
      ],
      "metadata": {
        "id": "kkX9rn-25rHC"
      }
    },
    {
      "cell_type": "code",
      "source": [
        "response = (\n",
        "    client.query\n",
        "    .get(\"JeopardyQuestion\", [\"question\", \"answer\"])\n",
        "    .with_hybrid(\n",
        "        query = \"elephant\",\n",
        "        alpha = 0.5\n",
        "    )\n",
        "    .with_where({\n",
        "        \"path\": [\"category\"],\n",
        "        \"operator\": \"Equal\",\n",
        "        \"valueText\": \"Animals\"\n",
        "    })\n",
        "    .with_limit(2)\n",
        "    .do()\n",
        ")\n",
        "\n",
        "print(json.dumps(response, indent=2))"
      ],
      "metadata": {
        "id": "76CgsOd451PB"
      },
      "execution_count": null,
      "outputs": []
    },
    {
      "cell_type": "markdown",
      "source": [
        "### Hybrid Search with a custom vector\n",
        "\n",
        "You can pass in your own vector as input into the hybrid query, by using the `vector` parameter. "
      ],
      "metadata": {
        "id": "MZeyVS6V73Rl"
      }
    },
    {
      "cell_type": "code",
      "source": [
        "vector = [-0.0125526935, -0.021168863, ...]\n",
        "\n",
        "response = (\n",
        "    client.query\n",
        "    .get(\"JeopardyQuestion\", [\"question\", \"answer\"])\n",
        "    .with_hybrid(\n",
        "        query = \"animal\",\n",
        "        vector = vector\n",
        "    )\n",
        "    .with_limit(2)\n",
        "    .do()\n",
        ")\n",
        "\n",
        "print(json.dumps(response, indent=2))"
      ],
      "metadata": {
        "id": "-_BPO75F76wa"
      },
      "execution_count": null,
      "outputs": []
    }
  ]
}