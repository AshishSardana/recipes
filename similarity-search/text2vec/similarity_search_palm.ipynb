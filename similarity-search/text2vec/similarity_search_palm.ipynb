{
  "nbformat": 4,
  "nbformat_minor": 0,
  "metadata": {
    "colab": {
      "provenance": [],
      "collapsed_sections": [
        "rJD9aP9eVcsT",
        "rgL-mnMqVf0B",
        "Ze5J8E4MWC8g",
        "bjcuCEcCXlRK",
        "XF-ln5Nsgp1C",
        "Bn-ELUA_iJVM"
      ]
    },
    "kernelspec": {
      "name": "python3",
      "display_name": "Python 3"
    },
    "language_info": {
      "name": "python"
    }
  },
  "cells": [
    {
      "cell_type": "markdown",
      "source": [
        "## Dependencies"
      ],
      "metadata": {
        "id": "rJD9aP9eVcsT"
      }
    },
    {
      "cell_type": "code",
      "source": [
        "!pip install weaviate-client"
      ],
      "metadata": {
        "id": "wCyahGvfjHH3"
      },
      "execution_count": null,
      "outputs": []
    },
    {
      "cell_type": "markdown",
      "source": [
        "## Configuration"
      ],
      "metadata": {
        "id": "rgL-mnMqVf0B"
      }
    },
    {
      "cell_type": "code",
      "source": [
        "import weaviate\n",
        "import json\n",
        "\n",
        "client = weaviate.Client(\n",
        "  url=\"WEAVIATE-INSTANCE-URL\",  # URL of your Weaviate instance\n",
        "  auth_client_secret=weaviate.AuthApiKey(api_key=\"AUTH-KEY\"), # (Optional) If the Weaviate instance requires authentication\n",
        "  additional_headers={\n",
        "    \"X-PALM-Api-Key\": \"PALM-API-KEY\", # Replace with your PALM key\n",
        "  }\n",
        ")\n",
        "\n",
        "client.schema.get()  # Get the schema to test connection"
      ],
      "metadata": {
        "id": "-yrJZaNJwcCc"
      },
      "execution_count": null,
      "outputs": []
    },
    {
      "cell_type": "markdown",
      "source": [
        "### Expired Google Cloud Token"
      ],
      "metadata": {
        "id": "CfL6wp85WzuT"
      }
    },
    {
      "cell_type": "markdown",
      "source": [
        "The Google Cloud's OAuth 2.0 access tokens only have a **one** hour lifetime. This means you have to replace the expired token with a valid one and it to Weaviate by re-instantiating the client. "
      ],
      "metadata": {
        "id": "AUIzJ34AXFPB"
      }
    },
    {
      "cell_type": "markdown",
      "source": [
        "#### Option 1: With Google Cloud CLI"
      ],
      "metadata": {
        "id": "9wtTMIAsXbl-"
      }
    },
    {
      "cell_type": "code",
      "source": [
        "import subprocess\n",
        "import weaviate\n",
        "\n",
        "def refresh_token() -> str:\n",
        "    result = subprocess.run([\"gcloud\", \"auth\", \"print-access-token\"], capture_output=True, text=True)\n",
        "    if result.returncode != 0:\n",
        "        print(f\"Error refreshing token: {result.stderr}\")\n",
        "        return None\n",
        "    return result.stdout.strip()\n",
        "\n",
        "def re_instantiate_weaviate() -> weaviate.Client:\n",
        "    token = refresh_token()\n",
        "\n",
        "    client = weaviate.Client(\n",
        "      url = \"https://some-endpoint.weaviate.network\",  # Replace with your Weaviate URL\n",
        "      additional_headers = {\n",
        "        \"X-Palm-Api-Key\": token,\n",
        "      }\n",
        "    )\n",
        "    return client\n",
        "\n",
        "# Run this every ~60 minutes\n",
        "client = re_instantiate_weaviate()"
      ],
      "metadata": {
        "id": "V1gpjJI1XvKs"
      },
      "execution_count": null,
      "outputs": []
    },
    {
      "cell_type": "markdown",
      "source": [
        "Then you could run the below cell periodically."
      ],
      "metadata": {
        "id": "GGzpT8fRX0Vk"
      }
    },
    {
      "cell_type": "code",
      "source": [
        "client = re_instantiate_weaviate()"
      ],
      "metadata": {
        "id": "XFJvjTkwXqF8"
      },
      "execution_count": null,
      "outputs": []
    },
    {
      "cell_type": "markdown",
      "source": [
        "#### Option 2: With `google-auth`\n",
        "\n",
        "See the links to google-auth in [Python](https://google-auth.readthedocs.io/en/master/index.html) and [Node.js](https://cloud.google.com/nodejs/docs/reference/google-auth-library/latest) libraries."
      ],
      "metadata": {
        "id": "YG97B310X5Q5"
      }
    },
    {
      "cell_type": "code",
      "source": [
        "from google.auth.transport.requests import Request\n",
        "from google.oauth2.service_account import Credentials\n",
        "import weaviate\n",
        "\n",
        "def get_credentials() -> Credentials:\n",
        "    credentials = Credentials.from_service_account_file('path/to/your/service-account.json', scopes=['openid'])\n",
        "    request = Request()\n",
        "    credentials.refresh(request)\n",
        "    return credentials\n",
        "\n",
        "def re_instantiate_weaviate() -> weaviate.Client:\n",
        "    credentials = get_credentials()\n",
        "    token = credentials.token\n",
        "\n",
        "    client = weaviate.Client(\n",
        "      url = \"https://some-endpoint.weaviate.network\",  # Replace with your Weaviate URL\n",
        "      additional_headers = {\n",
        "        \"X-Palm-Api-Key\": token,\n",
        "      }\n",
        "    )\n",
        "    return client\n",
        "\n",
        "# Run this every ~60 minutes\n",
        "client = re_instantiate_weaviate()"
      ],
      "metadata": {
        "id": "mDisIHXSXq4p"
      },
      "execution_count": null,
      "outputs": []
    },
    {
      "cell_type": "markdown",
      "source": [
        "Then run the below periodically:"
      ],
      "metadata": {
        "id": "edRTdzuNYjZK"
      }
    },
    {
      "cell_type": "code",
      "source": [
        "client = re_instantiate_weaviate()"
      ],
      "metadata": {
        "id": "sAQMCZJJYp--"
      },
      "execution_count": null,
      "outputs": []
    },
    {
      "cell_type": "markdown",
      "source": [
        "## Schema"
      ],
      "metadata": {
        "id": "Ze5J8E4MWC8g"
      }
    },
    {
      "cell_type": "code",
      "source": [
        "# resetting the schema. CAUTION: THIS WILL DELETE YOUR DATA \n",
        "client.schema.delete_all()\n",
        "\n",
        "schema = {\n",
        "   \"classes\": [\n",
        "       {\n",
        "           \"class\": \"JeopardyQuestion\",\n",
        "           \"description\": \"List of jeopardy questions\",\n",
        "           \"vectorizer\": \"text2vec-palm\",\n",
        "           \"moduleConfig\": { # specify the vectorizer and model type you're using\n",
        "               \"text2vec-palm\": { \n",
        "                    \"projectID\": \"YOUR-GOOGLE-CLOUD-PROJECT-ID\", # required. replace with your value: (e.g. \"cloud-large-language-models\")\n",
        "                    \"apiEndpoint\": \"YOUR-API-ENDPOINT\", # optional. defaults to \"us-central1-aiplatform.googleapis.com\".\n",
        "                    \"modelId\": \"YOUR-GOOGLE-CLOUD-MODEL-ID\" # optional. defaults to \"textembedding-gecko\".\n",
        "                }\n",
        "           },\n",
        "           \"properties\": [\n",
        "               {\n",
        "                   \"name\": \"Category\",\n",
        "                   \"dataType\": [\"text\"],\n",
        "                   \"description\": \"Category of the question\",\n",
        "               },\n",
        "               {\n",
        "                \"name\": \"Question\",\n",
        "                \"dataType\": [\"text\"],\n",
        "                \"description\": \"The question\",\n",
        "               },\n",
        "               {\n",
        "                   \"name\": \"Answer\",\n",
        "                   \"dataType\": [\"text\"],\n",
        "                   \"description\": \"The answer\",\n",
        "                }\n",
        "            ]\n",
        "        }\n",
        "    ]\n",
        "}\n",
        "\n",
        "client.schema.create(schema)\n",
        "\n",
        "print(\"Successfully created the schema.\")"
      ],
      "metadata": {
        "id": "J32wdDCMWCgS"
      },
      "execution_count": null,
      "outputs": []
    },
    {
      "cell_type": "markdown",
      "source": [
        "## Import the Data"
      ],
      "metadata": {
        "id": "bjcuCEcCXlRK"
      }
    },
    {
      "cell_type": "code",
      "source": [
        "import requests\n",
        "url = 'https://raw.githubusercontent.com/weaviate/weaviate-examples/main/jeopardy_small_dataset/jeopardy_tiny.json'\n",
        "resp = requests.get(url)\n",
        "data = json.loads(resp.text)\n",
        "\n",
        "if client.is_ready():\n",
        "\n",
        "# Configure a batch process\n",
        "  with client.batch as batch:\n",
        "      batch.batch_size=100\n",
        "      # Batch import all Questions\n",
        "      for i, d in enumerate(data):\n",
        "          print(f\"importing question: {i+1}\")\n",
        "\n",
        "          properties = {\n",
        "              \"answer\": d[\"Answer\"],\n",
        "              \"question\": d[\"Question\"],\n",
        "              \"category\": d[\"Category\"],\n",
        "          }\n",
        "\n",
        "          client.batch.add_data_object(properties, \"JeopardyQuestion\")\n",
        "else:\n",
        "  print(\"The Weaviate cluster is not connected.\")"
      ],
      "metadata": {
        "id": "paWgPOGsa_NV"
      },
      "execution_count": null,
      "outputs": []
    },
    {
      "cell_type": "markdown",
      "source": [
        "## Query Weaviate: Similarity Search (Text objects)"
      ],
      "metadata": {
        "id": "NISdgAYebLyX"
      }
    },
    {
      "cell_type": "markdown",
      "source": [
        "Similarity search options for text objects in **Weaviate**:\n",
        "\n",
        "1. [nearText](https://weaviate.io/developers/weaviate/api/graphql/vector-search-parameters#neartext)\n",
        "\n",
        "2. [nearObject](https://weaviate.io/developers/weaviate/api/graphql/vector-search-parameters#nearobject)\n",
        "\n",
        "3. [nearVector](https://weaviate.io/developers/weaviate/api/graphql/vector-search-parameters#nearvector)"
      ],
      "metadata": {
        "id": "zHSeuEgScFFS"
      }
    },
    {
      "cell_type": "markdown",
      "source": [
        "### nearText Example"
      ],
      "metadata": {
        "id": "XF-ln5Nsgp1C"
      }
    },
    {
      "cell_type": "markdown",
      "source": [
        "Find a `JeopardyQuestion` about \"animals in movies\". Limit it to only 2 responses and report the distance."
      ],
      "metadata": {
        "id": "4yROGPv9huDe"
      }
    },
    {
      "cell_type": "code",
      "source": [
        "response = (\n",
        "    client.query\n",
        "    .get(\"JeopardyQuestion\", [\"question\", \"answer\"])\n",
        "    .with_near_text({\n",
        "        \"concepts\": [\"question about animals\"]\n",
        "    })\n",
        "    .with_limit(2) # limit the output to only 2\n",
        "    .with_additional([\"distance\", \"id\"]).do() # output the distance of the query vector to the objects in the database along with the objects ID\n",
        ")\n",
        "\n",
        "print(json.dumps(response, indent=2))"
      ],
      "metadata": {
        "id": "qq4KkgTGgpGd"
      },
      "execution_count": null,
      "outputs": []
    },
    {
      "cell_type": "markdown",
      "source": [
        "### nearObject Example"
      ],
      "metadata": {
        "id": "Bn-ELUA_iJVM"
      }
    },
    {
      "cell_type": "markdown",
      "source": [
        "Search through the `JeopardyQuestion` class to find the top 2 objects closest to id `5e99ed1d-aef8-41b2-a55b-105810e41560`. (The id was taken from the query above)"
      ],
      "metadata": {
        "id": "uI9GY5kOihM9"
      }
    },
    {
      "cell_type": "code",
      "source": [
        "response = (\n",
        "    client.query\n",
        "    .get(\"JeopardyQuestion\", [\"question\", \"answer\"])\n",
        "    .with_near_object({\n",
        "        \"id\": \"5e99ed1d-aef8-41b2-a55b-105810e41560\"\n",
        "    })\n",
        "    .with_limit(2) # limit the output to only 2\n",
        "    .with_additional([\"distance\"]) # output the distance of the query vector to the objects in the database\n",
        "    .do()\n",
        ")\n",
        "\n",
        "print(json.dumps(response, indent=2))"
      ],
      "metadata": {
        "id": "e5AKFSQJbeRB"
      },
      "execution_count": null,
      "outputs": []
    },
    {
      "cell_type": "markdown",
      "source": [
        "### nearVector Example"
      ],
      "metadata": {
        "id": "UzNmHZdijTKu"
      }
    },
    {
      "cell_type": "markdown",
      "source": [
        "Search through the `JeopardyQuestion` class to find the top 2 objects closest to the query vector `[-0.0125526935, -0.021168863, ... ]`"
      ],
      "metadata": {
        "id": "mVUXMzMcjXmC"
      }
    },
    {
      "cell_type": "code",
      "source": [
        "response = (\n",
        "    client.query\n",
        "    .get(\"JeopardyQuestion\", [\"question\", \"answer\"])\n",
        "    .with_near_vector({\n",
        "        \"vector\": [-0.0125526935, -0.021168863, ...]\n",
        "    })\n",
        "    .with_limit(2) # limit the output to only 2\n",
        "    .with_additional([\"distance\"]) # output the distance of the query vector to the objects in the database\n",
        "    .do()\n",
        ")\n",
        "\n",
        "print(json.dumps(response, indent=2))"
      ],
      "metadata": {
        "id": "ZZARB1qUjUoq"
      },
      "execution_count": null,
      "outputs": []
    }
  ]
}