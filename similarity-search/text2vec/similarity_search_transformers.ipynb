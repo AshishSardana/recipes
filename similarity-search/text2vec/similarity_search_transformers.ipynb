{
  "cells": [
    {
      "cell_type": "markdown",
      "metadata": {
        "id": "Xpb01_Mxii2Q"
      },
      "source": [
        "`text2vec-transformers` is **only** available through Weaviate open-source. Here are options to select your desired model: \n",
        "\n",
        "1. [Pre-built transformers model containers](https://weaviate.io/developers/weaviate/modules/retriever-vectorizer-modules/text2vec-transformers#pre-built-images)\n",
        "\n",
        "2. [Any model from Hugging Face Model Hub](https://weaviate.io/developers/weaviate/modules/retriever-vectorizer-modules/text2vec-transformers#option-2-use-any-publicly-available-hugging-face-model)\n",
        "\n",
        "3. [Use any private or local PyTorch or Tensorflow transformer model](https://weaviate.io/developers/weaviate/modules/retriever-vectorizer-modules/text2vec-transformers#option-3-custom-build-with-a-private-or-local-model)"
      ]
    },
    {
      "cell_type": "markdown",
      "metadata": {
        "id": "Ze5J8E4MWC8g"
      },
      "source": [
        "## Schema"
      ]
    },
    {
      "cell_type": "code",
      "execution_count": null,
      "metadata": {
        "id": "J32wdDCMWCgS"
      },
      "outputs": [],
      "source": [
        "import weaviate\n",
        "\n",
        "client = weaviate.Client(\"http://localhost:8080\")\n",
        "\n",
        "# resetting the schema. CAUTION: THIS WILL DELETE YOUR DATA \n",
        "client.schema.delete_all()\n",
        "\n",
        "schema = {\n",
        "   \"classes\": [\n",
        "       {\n",
        "           \"class\": \"JeopardyQuestion\",\n",
        "           \"description\": \"List of jeopardy questions\",\n",
        "           \"moduleConfig\": { # specify the vectorizer and model type you're using\n",
        "               \"text2vec-transformers\": { \n",
        "                    \"poolingStrategy\": \"masked_mean\"\n",
        "                }\n",
        "           },\n",
        "           \"properties\": [\n",
        "               {\n",
        "                   \"name\": \"Category\",\n",
        "                   \"dataType\": [\"text\"],\n",
        "                   \"description\": \"Category of the question\",\n",
        "               },\n",
        "               {\n",
        "                \"name\": \"Question\",\n",
        "                \"dataType\": [\"text\"],\n",
        "                \"description\": \"The question\",\n",
        "               },\n",
        "               {\n",
        "                   \"name\": \"Answer\",\n",
        "                   \"dataType\": [\"text\"],\n",
        "                   \"description\": \"The answer\",\n",
        "                }\n",
        "            ]\n",
        "        }\n",
        "    ]\n",
        "}\n",
        "\n",
        "client.schema.create(schema)\n",
        "\n",
        "print(\"Successfully created the schema.\")"
      ]
    },
    {
      "cell_type": "markdown",
      "metadata": {
        "id": "bjcuCEcCXlRK"
      },
      "source": [
        "## Import the Data"
      ]
    },
    {
      "cell_type": "code",
      "execution_count": null,
      "metadata": {
        "id": "paWgPOGsa_NV"
      },
      "outputs": [],
      "source": [
        "import requests\n",
        "url = 'https://raw.githubusercontent.com/weaviate/weaviate-examples/main/jeopardy_small_dataset/jeopardy_tiny.json'\n",
        "resp = requests.get(url)\n",
        "data = json.loads(resp.text)\n",
        "\n",
        "if client.is_ready():\n",
        "\n",
        "# Configure a batch process\n",
        "  with client.batch as batch:\n",
        "      batch.batch_size=100\n",
        "      # Batch import all Questions\n",
        "      for i, d in enumerate(data):\n",
        "          print(f\"importing question: {i+1}\")\n",
        "\n",
        "          properties = {\n",
        "              \"answer\": d[\"Answer\"],\n",
        "              \"question\": d[\"Question\"],\n",
        "              \"category\": d[\"Category\"],\n",
        "          }\n",
        "\n",
        "          client.batch.add_data_object(properties, \"JeopardyQuestion\")\n",
        "else:\n",
        "  print(\"The Weaviate cluster is not connected.\")"
      ]
    },
    {
      "cell_type": "markdown",
      "metadata": {
        "id": "NISdgAYebLyX"
      },
      "source": [
        "## Query Weaviate: Similarity Search (Text objects)"
      ]
    },
    {
      "cell_type": "markdown",
      "metadata": {
        "id": "zHSeuEgScFFS"
      },
      "source": [
        "Similarity search options for text objects in **Weaviate**:\n",
        "\n",
        "1. [nearText](https://weaviate.io/developers/weaviate/api/graphql/vector-search-parameters#neartext)\n",
        "\n",
        "2. [nearObject](https://weaviate.io/developers/weaviate/api/graphql/vector-search-parameters#nearobject)\n",
        "\n",
        "3. [nearVector](https://weaviate.io/developers/weaviate/api/graphql/vector-search-parameters#nearvector)"
      ]
    },
    {
      "cell_type": "markdown",
      "metadata": {
        "id": "XF-ln5Nsgp1C"
      },
      "source": [
        "### nearText Example"
      ]
    },
    {
      "cell_type": "markdown",
      "metadata": {
        "id": "4yROGPv9huDe"
      },
      "source": [
        "Find a `JeopardyQuestion` about \"animals in movies\". Limit it to only 2 responses and report the distance."
      ]
    },
    {
      "cell_type": "code",
      "execution_count": null,
      "metadata": {
        "id": "qq4KkgTGgpGd"
      },
      "outputs": [],
      "source": [
        "response = (\n",
        "    client.query\n",
        "    .get(\"JeopardyQuestion\", [\"question\", \"answer\"])\n",
        "    .with_near_text({\n",
        "        \"concepts\": [\"question about animals\"]\n",
        "    })\n",
        "    .with_limit(2) # limit the output to only 2\n",
        "    .with_additional([\"distance\", \"id\"]).do() # output the distance of the query vector to the objects in the database along with the objects ID\n",
        ")\n",
        "\n",
        "print(json.dumps(response, indent=2))"
      ]
    },
    {
      "cell_type": "markdown",
      "metadata": {
        "id": "Bn-ELUA_iJVM"
      },
      "source": [
        "### nearObject Example"
      ]
    },
    {
      "cell_type": "markdown",
      "metadata": {
        "id": "uI9GY5kOihM9"
      },
      "source": [
        "Search through the `JeopardyQuestion` class to find the top 2 objects closest to id `5e99ed1d-aef8-41b2-a55b-105810e41560`. (The id was taken from the query above)"
      ]
    },
    {
      "cell_type": "code",
      "execution_count": null,
      "metadata": {
        "id": "e5AKFSQJbeRB"
      },
      "outputs": [],
      "source": [
        "response = (\n",
        "    client.query\n",
        "    .get(\"JeopardyQuestion\", [\"question\", \"answer\"])\n",
        "    .with_near_object({\n",
        "        \"id\": \"5e99ed1d-aef8-41b2-a55b-105810e41560\"\n",
        "    })\n",
        "    .with_limit(2) # limit the output to only 2\n",
        "    .with_additional([\"distance\"]) # output the distance of the query vector to the objects in the database\n",
        "    .do()\n",
        ")\n",
        "\n",
        "print(json.dumps(response, indent=2))"
      ]
    },
    {
      "cell_type": "markdown",
      "metadata": {
        "id": "UzNmHZdijTKu"
      },
      "source": [
        "### nearVector Example"
      ]
    },
    {
      "cell_type": "markdown",
      "metadata": {
        "id": "mVUXMzMcjXmC"
      },
      "source": [
        "Search through the `JeopardyQuestion` class to find the top 2 objects closest to the query vector `[-0.0125526935, -0.021168863, ... ]`"
      ]
    },
    {
      "cell_type": "code",
      "execution_count": null,
      "metadata": {
        "id": "ZZARB1qUjUoq"
      },
      "outputs": [],
      "source": [
        "response = (\n",
        "    client.query\n",
        "    .get(\"JeopardyQuestion\", [\"question\", \"answer\"])\n",
        "    .with_near_vector({\n",
        "        \"vector\": [-0.0125526935, -0.021168863, ... ] # replace with your query vector\n",
        "    })\n",
        "    .with_limit(2) # limit the output to only 2\n",
        "    .with_additional([\"distance\"]) # output the distance of the query vector to the objects in the database\n",
        "    .do()\n",
        ")\n",
        "\n",
        "print(json.dumps(response, indent=2))"
      ]
    }
  ],
  "metadata": {
    "colab": {
      "provenance": []
    },
    "kernelspec": {
      "display_name": "Python 3.11.3 64-bit",
      "language": "python",
      "name": "python3"
    },
    "language_info": {
      "name": "python",
      "version": "3.11.3"
    },
    "vscode": {
      "interpreter": {
        "hash": "aee8b7b246df8f9039afb4144a1f6fd8d2ca17a180786b69acc140d282b71a49"
      }
    }
  },
  "nbformat": 4,
  "nbformat_minor": 0
}
