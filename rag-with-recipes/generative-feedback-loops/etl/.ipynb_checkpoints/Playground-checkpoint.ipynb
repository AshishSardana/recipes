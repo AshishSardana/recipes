{
 "cells": [
  {
   "cell_type": "code",
   "execution_count": 3,
   "id": "ce9844d8",
   "metadata": {},
   "outputs": [],
   "source": [
    "import weaviate\n",
    "from dspy.retrieve.weaviate_rm import WeaviateRM\n",
    "weaviate_recipes_index = WeaviateRM(\"WeaviateRecipesChunk\",\n",
    "                                    weaviate_client=weaviate.connect_to_local())"
   ]
  },
  {
   "cell_type": "code",
   "execution_count": 5,
   "id": "39a53b85",
   "metadata": {},
   "outputs": [],
   "source": [
    "import dspy\n",
    "\n",
    "class AnswerQuestion(dspy.Signature):\n",
    "    \"\"\"Assess the context and answer the question\"\"\"\n",
    "\n",
    "    question = dspy.InputField()\n",
    "    context = dspy.InputField()\n",
    "    answer = dspy.OutputField()"
   ]
  },
  {
   "cell_type": "code",
   "execution_count": 6,
   "id": "d3c9f83e",
   "metadata": {},
   "outputs": [],
   "source": [
    "class LanguageProgram(dspy.Module):\n",
    "    def __init__(self, retrieval_k=3):\n",
    "        # Set desired LLM and your API Key as environment variables\n",
    "        llm = \"command-r-plus\"\n",
    "        api_key = \"\"\n",
    "        self.available_llms = {\n",
    "            \"command-r-plus\": lambda: dspy.Cohere(model=\"command-r-plus\", api_key=api_key)\n",
    "        } # save state for meta API\n",
    "        if model_name in self.available_llms:\n",
    "            self.base_llm = self.available_llms[model_name]()\n",
    "        else:\n",
    "            raise ValueError(f\"Model {model_name} is not available in RAG with Recipes.\")\n",
    "            \n",
    "        # Connect to Weaviate\n",
    "        weaviate_recipes_index = WeaviateRM(\"WeaviateRecipesChunk\",\n",
    "                                            weaviate_client=weaviate.connect_to_local())\n",
    "\n",
    "        # Set DSPy defaults\n",
    "        dspy.settings.configure(lm=self.base_llm, rm=self.weaviate_recipes_index)\n",
    "\n",
    "        self.retrieve = dspy.Retrieve(k=retrieval_k)\n",
    "        self.answer_question = dspy.ChainOfThought(AnswerQuestion)\n",
    "\n",
    "    def get_meta(self):\n",
    "        return self.available_llms\n",
    "\n",
    "    def forward(self, chat_history):\n",
    "        context = self.retrieve(chat_history).passages\n",
    "        pred = self.generate_answer(context=context, question=chat_history).answer\n",
    "        return dspy.Prediction(answer=pred)"
   ]
  },
  {
   "cell_type": "code",
   "execution_count": null,
   "id": "d2ecbd6c",
   "metadata": {},
   "outputs": [],
   "source": []
  }
 ],
 "metadata": {
  "kernelspec": {
   "display_name": "Python (cohere_fix)",
   "language": "python",
   "name": "cohere_fix_kernel"
  },
  "language_info": {
   "codemirror_mode": {
    "name": "ipython",
    "version": 3
   },
   "file_extension": ".py",
   "mimetype": "text/x-python",
   "name": "python",
   "nbconvert_exporter": "python",
   "pygments_lexer": "ipython3",
   "version": "3.10.10"
  }
 },
 "nbformat": 4,
 "nbformat_minor": 5
}
