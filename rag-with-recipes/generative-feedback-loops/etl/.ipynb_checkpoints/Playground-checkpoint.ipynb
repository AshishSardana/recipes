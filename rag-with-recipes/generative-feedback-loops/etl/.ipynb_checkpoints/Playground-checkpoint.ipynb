{
 "cells": [
  {
   "cell_type": "code",
   "execution_count": 3,
   "id": "ec099ae7",
   "metadata": {},
   "outputs": [],
   "source": [
    "import weaviate\n",
    "from dspy.retrieve.weaviate_rm import WeaviateRM\n",
    "weaviate_recipes_index = WeaviateRM(\"WeaviateRecipesChunk\",\n",
    "                                    weaviate_client=weaviate.connect_to_local())"
   ]
  },
  {
   "cell_type": "code",
   "execution_count": 5,
   "id": "017cf043",
   "metadata": {},
   "outputs": [],
   "source": [
    "import dspy\n",
    "\n",
    "class AnswerQuestion(dspy.Signature):\n",
    "    \"\"\"Assess the context and answer the question\"\"\"\n",
    "\n",
    "    question = dspy.InputField()\n",
    "    context = dspy.InputField()\n",
    "    answer = dspy.OutputField()"
   ]
  },
  {
   "cell_type": "code",
   "execution_count": 7,
   "id": "64aac316",
   "metadata": {},
   "outputs": [],
   "source": [
    "class LanguageProgram(dspy.Module):\n",
    "    def __init__(self, retrieval_k=3):\n",
    "        # Set desired LLM and your API Key as environment variables\n",
    "        llm = \"command-r-plus\"\n",
    "        api_key = \"\"\n",
    "        self.available_llms = {\n",
    "            \"command-r-plus\": lambda: dspy.Cohere(model=\"command-r-plus\", api_key=api_key)\n",
    "        } # save state for meta API\n",
    "        if llm in self.available_llms:\n",
    "            self.base_llm = self.available_llms[model_name]()\n",
    "        else:\n",
    "            raise ValueError(f\"Model {model_name} is not available in RAG with Recipes.\")\n",
    "            \n",
    "        # Connect to Weaviate\n",
    "        weaviate_recipes_index = WeaviateRM(\"WeaviateRecipesChunk\",\n",
    "                                            weaviate_client=weaviate.connect_to_local())\n",
    "\n",
    "        # Set DSPy defaults\n",
    "        dspy.settings.configure(lm=self.base_llm, rm=self.weaviate_recipes_index)\n",
    "\n",
    "        self.retrieve = dspy.Retrieve(k=retrieval_k)\n",
    "        self.answer_question = dspy.ChainOfThought(AnswerQuestion)\n",
    "\n",
    "    def get_meta(self):\n",
    "        return self.available_llms\n",
    "\n",
    "    def forward(self, chat_history):\n",
    "        context = self.retrieve(chat_history).passages\n",
    "        pred = self.generate_answer(context=context, question=chat_history).answer\n",
    "        return dspy.Prediction(answer=pred)"
   ]
  },
  {
   "cell_type": "code",
   "execution_count": 8,
   "id": "21054834",
   "metadata": {},
   "outputs": [
    {
     "ename": "NameError",
     "evalue": "name 'model_name' is not defined",
     "output_type": "error",
     "traceback": [
      "\u001b[0;31m---------------------------------------------------------------------------\u001b[0m",
      "\u001b[0;31mNameError\u001b[0m                                 Traceback (most recent call last)",
      "Cell \u001b[0;32mIn[8], line 1\u001b[0m\n\u001b[0;32m----> 1\u001b[0m program \u001b[38;5;241m=\u001b[39m \u001b[43mLanguageProgram\u001b[49m\u001b[43m(\u001b[49m\u001b[43m)\u001b[49m\n",
      "Cell \u001b[0;32mIn[7], line 9\u001b[0m, in \u001b[0;36mLanguageProgram.__init__\u001b[0;34m(self, retrieval_k)\u001b[0m\n\u001b[1;32m      5\u001b[0m api_key \u001b[38;5;241m=\u001b[39m \u001b[38;5;124m\"\u001b[39m\u001b[38;5;124m\"\u001b[39m\n\u001b[1;32m      6\u001b[0m \u001b[38;5;28mself\u001b[39m\u001b[38;5;241m.\u001b[39mavailable_llms \u001b[38;5;241m=\u001b[39m {\n\u001b[1;32m      7\u001b[0m     \u001b[38;5;124m\"\u001b[39m\u001b[38;5;124mcommand-r-plus\u001b[39m\u001b[38;5;124m\"\u001b[39m: \u001b[38;5;28;01mlambda\u001b[39;00m: dspy\u001b[38;5;241m.\u001b[39mCohere(model\u001b[38;5;241m=\u001b[39m\u001b[38;5;124m\"\u001b[39m\u001b[38;5;124mcommand-r-plus\u001b[39m\u001b[38;5;124m\"\u001b[39m, api_key\u001b[38;5;241m=\u001b[39mapi_key)\n\u001b[1;32m      8\u001b[0m } \u001b[38;5;66;03m# save state for meta API\u001b[39;00m\n\u001b[0;32m----> 9\u001b[0m \u001b[38;5;28;01mif\u001b[39;00m \u001b[43mmodel_name\u001b[49m \u001b[38;5;129;01min\u001b[39;00m \u001b[38;5;28mself\u001b[39m\u001b[38;5;241m.\u001b[39mavailable_llms:\n\u001b[1;32m     10\u001b[0m     \u001b[38;5;28mself\u001b[39m\u001b[38;5;241m.\u001b[39mbase_llm \u001b[38;5;241m=\u001b[39m \u001b[38;5;28mself\u001b[39m\u001b[38;5;241m.\u001b[39mavailable_llms[model_name]()\n\u001b[1;32m     11\u001b[0m \u001b[38;5;28;01melse\u001b[39;00m:\n",
      "\u001b[0;31mNameError\u001b[0m: name 'model_name' is not defined"
     ]
    }
   ],
   "source": [
    "program = LanguageProgram()"
   ]
  },
  {
   "cell_type": "code",
   "execution_count": null,
   "id": "c1756a3d",
   "metadata": {},
   "outputs": [],
   "source": []
  }
 ],
 "metadata": {
  "kernelspec": {
   "display_name": "Python (cohere_fix)",
   "language": "python",
   "name": "cohere_fix_kernel"
  },
  "language_info": {
   "codemirror_mode": {
    "name": "ipython",
    "version": 3
   },
   "file_extension": ".py",
   "mimetype": "text/x-python",
   "name": "python",
   "nbconvert_exporter": "python",
   "pygments_lexer": "ipython3",
   "version": "3.10.10"
  }
 },
 "nbformat": 4,
 "nbformat_minor": 5
}
