{
 "cells": [
  {
   "cell_type": "markdown",
   "id": "283f62d2",
   "metadata": {},
   "source": [
    "# Write Questions\n",
    "\n",
    "This notebook will demonstrate how to generate API usage questions about the Weaviate Recipes repository.\n",
    "\n",
    "We will further illustrate how to fine-tune a Cohere Re-ranker using the synthetic dataset and then plug it into Weaviate to improve search quality.\n",
    "\n",
    "This notebook uses a few technologies to illustrate how to achieve this:\n",
    "\n",
    "- Generating Synthetic Queries using LangChain LCEL and Cohere Command R+\n",
    "- Optimizing Query Generation with DSPy\n",
    "- Fine-tuning Cohere Re-rankers\n",
    "- Weaviate's `reranker-cohere` module demo"
   ]
  },
  {
   "cell_type": "markdown",
   "id": "5b6a541c",
   "metadata": {},
   "source": [
    "# Connect LangChain to Cohere Command R+"
   ]
  },
  {
   "cell_type": "code",
   "execution_count": null,
   "id": "c0e63fea",
   "metadata": {},
   "outputs": [],
   "source": [
    "import getpass\n",
    "import os\n",
    "\n",
    "os.environ[\"COHERE_API_KEY\"] = \"sk-foobar\""
   ]
  },
  {
   "cell_type": "code",
   "execution_count": 8,
   "id": "12206a3b",
   "metadata": {
    "scrolled": false
   },
   "outputs": [
    {
     "name": "stdout",
     "output_type": "stream",
     "text": [
      "Collecting langchain-cohere==0.1.4\n",
      "  Obtaining dependency information for langchain-cohere==0.1.4 from https://files.pythonhosted.org/packages/5b/85/96598a324a6e0b56b42634501e3d686ec64a80961f5977adbdf3d334a555/langchain_cohere-0.1.4-py3-none-any.whl.metadata\n",
      "  Downloading langchain_cohere-0.1.4-py3-none-any.whl.metadata (6.4 kB)\n",
      "Requirement already satisfied: cohere<6.0,>=5.3 in /Library/Frameworks/Python.framework/Versions/3.10/lib/python3.10/site-packages (from langchain-cohere==0.1.4) (5.5.4)\n",
      "Collecting langchain-core<0.2.0,>=0.1.42 (from langchain-cohere==0.1.4)\n",
      "  Obtaining dependency information for langchain-core<0.2.0,>=0.1.42 from https://files.pythonhosted.org/packages/43/8b/48b7e6de9041d2b33d5108e154b82d1bd6c47cc68f0e44cb4fcdaccf5ec7/langchain_core-0.1.52-py3-none-any.whl.metadata\n",
      "  Downloading langchain_core-0.1.52-py3-none-any.whl.metadata (5.9 kB)\n",
      "Requirement already satisfied: boto3<2.0.0,>=1.34.0 in /Library/Frameworks/Python.framework/Versions/3.10/lib/python3.10/site-packages (from cohere<6.0,>=5.3->langchain-cohere==0.1.4) (1.34.120)\n",
      "Requirement already satisfied: fastavro<2.0.0,>=1.9.4 in /Library/Frameworks/Python.framework/Versions/3.10/lib/python3.10/site-packages (from cohere<6.0,>=5.3->langchain-cohere==0.1.4) (1.9.4)\n",
      "Requirement already satisfied: httpx>=0.21.2 in /Library/Frameworks/Python.framework/Versions/3.10/lib/python3.10/site-packages (from cohere<6.0,>=5.3->langchain-cohere==0.1.4) (0.27.0)\n",
      "Requirement already satisfied: httpx-sse<0.5.0,>=0.4.0 in /Library/Frameworks/Python.framework/Versions/3.10/lib/python3.10/site-packages (from cohere<6.0,>=5.3->langchain-cohere==0.1.4) (0.4.0)\n",
      "Requirement already satisfied: pydantic>=1.9.2 in /Library/Frameworks/Python.framework/Versions/3.10/lib/python3.10/site-packages (from cohere<6.0,>=5.3->langchain-cohere==0.1.4) (2.5.0)\n",
      "Requirement already satisfied: requests<3.0.0,>=2.0.0 in /Library/Frameworks/Python.framework/Versions/3.10/lib/python3.10/site-packages (from cohere<6.0,>=5.3->langchain-cohere==0.1.4) (2.31.0)\n",
      "Requirement already satisfied: tokenizers<0.16,>=0.15 in /Library/Frameworks/Python.framework/Versions/3.10/lib/python3.10/site-packages (from cohere<6.0,>=5.3->langchain-cohere==0.1.4) (0.15.2)\n",
      "Requirement already satisfied: types-requests<3.0.0,>=2.0.0 in /Library/Frameworks/Python.framework/Versions/3.10/lib/python3.10/site-packages (from cohere<6.0,>=5.3->langchain-cohere==0.1.4) (2.32.0.20240602)\n",
      "Requirement already satisfied: typing_extensions>=4.0.0 in /Library/Frameworks/Python.framework/Versions/3.10/lib/python3.10/site-packages (from cohere<6.0,>=5.3->langchain-cohere==0.1.4) (4.9.0)\n",
      "Requirement already satisfied: PyYAML>=5.3 in /Library/Frameworks/Python.framework/Versions/3.10/lib/python3.10/site-packages (from langchain-core<0.2.0,>=0.1.42->langchain-cohere==0.1.4) (6.0)\n",
      "Requirement already satisfied: jsonpatch<2.0,>=1.33 in /Library/Frameworks/Python.framework/Versions/3.10/lib/python3.10/site-packages (from langchain-core<0.2.0,>=0.1.42->langchain-cohere==0.1.4) (1.33)\n",
      "Requirement already satisfied: langsmith<0.2.0,>=0.1.0 in /Library/Frameworks/Python.framework/Versions/3.10/lib/python3.10/site-packages (from langchain-core<0.2.0,>=0.1.42->langchain-cohere==0.1.4) (0.1.73)\n",
      "Requirement already satisfied: packaging<24.0,>=23.2 in /Library/Frameworks/Python.framework/Versions/3.10/lib/python3.10/site-packages (from langchain-core<0.2.0,>=0.1.42->langchain-cohere==0.1.4) (23.2)\n",
      "Requirement already satisfied: tenacity<9.0.0,>=8.1.0 in /Library/Frameworks/Python.framework/Versions/3.10/lib/python3.10/site-packages (from langchain-core<0.2.0,>=0.1.42->langchain-cohere==0.1.4) (8.2.3)\n",
      "Requirement already satisfied: botocore<1.35.0,>=1.34.120 in /Library/Frameworks/Python.framework/Versions/3.10/lib/python3.10/site-packages (from boto3<2.0.0,>=1.34.0->cohere<6.0,>=5.3->langchain-cohere==0.1.4) (1.34.120)\n",
      "Requirement already satisfied: jmespath<2.0.0,>=0.7.1 in /Library/Frameworks/Python.framework/Versions/3.10/lib/python3.10/site-packages (from boto3<2.0.0,>=1.34.0->cohere<6.0,>=5.3->langchain-cohere==0.1.4) (1.0.1)\n",
      "Requirement already satisfied: s3transfer<0.11.0,>=0.10.0 in /Library/Frameworks/Python.framework/Versions/3.10/lib/python3.10/site-packages (from boto3<2.0.0,>=1.34.0->cohere<6.0,>=5.3->langchain-cohere==0.1.4) (0.10.1)\n",
      "Requirement already satisfied: anyio in /Library/Frameworks/Python.framework/Versions/3.10/lib/python3.10/site-packages (from httpx>=0.21.2->cohere<6.0,>=5.3->langchain-cohere==0.1.4) (3.6.2)\n",
      "Requirement already satisfied: certifi in /Library/Frameworks/Python.framework/Versions/3.10/lib/python3.10/site-packages (from httpx>=0.21.2->cohere<6.0,>=5.3->langchain-cohere==0.1.4) (2024.2.2)\n",
      "Requirement already satisfied: httpcore==1.* in /Library/Frameworks/Python.framework/Versions/3.10/lib/python3.10/site-packages (from httpx>=0.21.2->cohere<6.0,>=5.3->langchain-cohere==0.1.4) (1.0.2)\n",
      "Requirement already satisfied: idna in /Library/Frameworks/Python.framework/Versions/3.10/lib/python3.10/site-packages (from httpx>=0.21.2->cohere<6.0,>=5.3->langchain-cohere==0.1.4) (3.4)\n",
      "Requirement already satisfied: sniffio in /Library/Frameworks/Python.framework/Versions/3.10/lib/python3.10/site-packages (from httpx>=0.21.2->cohere<6.0,>=5.3->langchain-cohere==0.1.4) (1.3.0)\n",
      "Requirement already satisfied: h11<0.15,>=0.13 in /Library/Frameworks/Python.framework/Versions/3.10/lib/python3.10/site-packages (from httpcore==1.*->httpx>=0.21.2->cohere<6.0,>=5.3->langchain-cohere==0.1.4) (0.14.0)\n",
      "Requirement already satisfied: jsonpointer>=1.9 in /Library/Frameworks/Python.framework/Versions/3.10/lib/python3.10/site-packages (from jsonpatch<2.0,>=1.33->langchain-core<0.2.0,>=0.1.42->langchain-cohere==0.1.4) (2.3)\n",
      "Requirement already satisfied: orjson<4.0.0,>=3.9.14 in /Library/Frameworks/Python.framework/Versions/3.10/lib/python3.10/site-packages (from langsmith<0.2.0,>=0.1.0->langchain-core<0.2.0,>=0.1.42->langchain-cohere==0.1.4) (3.10.3)\n",
      "Requirement already satisfied: annotated-types>=0.4.0 in /Library/Frameworks/Python.framework/Versions/3.10/lib/python3.10/site-packages (from pydantic>=1.9.2->cohere<6.0,>=5.3->langchain-cohere==0.1.4) (0.6.0)\n",
      "Requirement already satisfied: pydantic-core==2.14.1 in /Library/Frameworks/Python.framework/Versions/3.10/lib/python3.10/site-packages (from pydantic>=1.9.2->cohere<6.0,>=5.3->langchain-cohere==0.1.4) (2.14.1)\n",
      "Requirement already satisfied: charset-normalizer<4,>=2 in /Library/Frameworks/Python.framework/Versions/3.10/lib/python3.10/site-packages (from requests<3.0.0,>=2.0.0->cohere<6.0,>=5.3->langchain-cohere==0.1.4) (2.0.12)\n",
      "Requirement already satisfied: urllib3<3,>=1.21.1 in /Library/Frameworks/Python.framework/Versions/3.10/lib/python3.10/site-packages (from requests<3.0.0,>=2.0.0->cohere<6.0,>=5.3->langchain-cohere==0.1.4) (2.2.1)\n",
      "Requirement already satisfied: huggingface_hub<1.0,>=0.16.4 in /Library/Frameworks/Python.framework/Versions/3.10/lib/python3.10/site-packages (from tokenizers<0.16,>=0.15->cohere<6.0,>=5.3->langchain-cohere==0.1.4) (0.16.4)\n",
      "Requirement already satisfied: python-dateutil<3.0.0,>=2.1 in /Library/Frameworks/Python.framework/Versions/3.10/lib/python3.10/site-packages (from botocore<1.35.0,>=1.34.120->boto3<2.0.0,>=1.34.0->cohere<6.0,>=5.3->langchain-cohere==0.1.4) (2.8.2)\n",
      "Requirement already satisfied: filelock in /Library/Frameworks/Python.framework/Versions/3.10/lib/python3.10/site-packages (from huggingface_hub<1.0,>=0.16.4->tokenizers<0.16,>=0.15->cohere<6.0,>=5.3->langchain-cohere==0.1.4) (3.14.0)\n",
      "Requirement already satisfied: fsspec in /Library/Frameworks/Python.framework/Versions/3.10/lib/python3.10/site-packages (from huggingface_hub<1.0,>=0.16.4->tokenizers<0.16,>=0.15->cohere<6.0,>=5.3->langchain-cohere==0.1.4) (2023.6.0)\n",
      "Requirement already satisfied: tqdm>=4.42.1 in /Library/Frameworks/Python.framework/Versions/3.10/lib/python3.10/site-packages (from huggingface_hub<1.0,>=0.16.4->tokenizers<0.16,>=0.15->cohere<6.0,>=5.3->langchain-cohere==0.1.4) (4.66.1)\n",
      "Requirement already satisfied: six>=1.5 in /Library/Frameworks/Python.framework/Versions/3.10/lib/python3.10/site-packages (from python-dateutil<3.0.0,>=2.1->botocore<1.35.0,>=1.34.120->boto3<2.0.0,>=1.34.0->cohere<6.0,>=5.3->langchain-cohere==0.1.4) (1.16.0)\n"
     ]
    },
    {
     "name": "stdout",
     "output_type": "stream",
     "text": [
      "Downloading langchain_cohere-0.1.4-py3-none-any.whl (30 kB)\n",
      "Downloading langchain_core-0.1.52-py3-none-any.whl (302 kB)\n",
      "\u001b[2K   \u001b[90m━━━━━━━━━━━━━━━━━━━━━━━━━━━━━━━━━━━━━━━━\u001b[0m \u001b[32m302.9/302.9 kB\u001b[0m \u001b[31m5.1 MB/s\u001b[0m eta \u001b[36m0:00:00\u001b[0m00:01\u001b[0m\n",
      "\u001b[?25hInstalling collected packages: langchain-core, langchain-cohere\n",
      "  Attempting uninstall: langchain-core\n",
      "    Found existing installation: langchain-core 0.2.4\n",
      "    Uninstalling langchain-core-0.2.4:\n",
      "      Successfully uninstalled langchain-core-0.2.4\n",
      "  Attempting uninstall: langchain-cohere\n",
      "    Found existing installation: langchain-cohere 0.1.5\n",
      "    Uninstalling langchain-cohere-0.1.5:\n",
      "      Successfully uninstalled langchain-cohere-0.1.5\n",
      "Successfully installed langchain-cohere-0.1.4 langchain-core-0.1.52\n",
      "\n",
      "\u001b[1m[\u001b[0m\u001b[34;49mnotice\u001b[0m\u001b[1;39;49m]\u001b[0m\u001b[39;49m A new release of pip is available: \u001b[0m\u001b[31;49m23.2.1\u001b[0m\u001b[39;49m -> \u001b[0m\u001b[32;49m24.0\u001b[0m\n",
      "\u001b[1m[\u001b[0m\u001b[34;49mnotice\u001b[0m\u001b[1;39;49m]\u001b[0m\u001b[39;49m To update, run: \u001b[0m\u001b[32;49mpip install --upgrade pip\u001b[0m\n"
     ]
    }
   ],
   "source": [
    "!pip install langchain-cohere==0.1.4"
   ]
  },
  {
   "cell_type": "code",
   "execution_count": 9,
   "id": "5b39cc65",
   "metadata": {},
   "outputs": [
    {
     "ename": "ModuleNotFoundError",
     "evalue": "No module named 'langchain_cohere'",
     "output_type": "error",
     "traceback": [
      "\u001b[0;31m---------------------------------------------------------------------------\u001b[0m",
      "\u001b[0;31mModuleNotFoundError\u001b[0m                       Traceback (most recent call last)",
      "Cell \u001b[0;32mIn[9], line 1\u001b[0m\n\u001b[0;32m----> 1\u001b[0m \u001b[38;5;28;01mfrom\u001b[39;00m \u001b[38;5;21;01mlangchain_cohere\u001b[39;00m \u001b[38;5;28;01mimport\u001b[39;00m ChatCohere\n\u001b[1;32m      2\u001b[0m \u001b[38;5;28;01mfrom\u001b[39;00m \u001b[38;5;21;01mlangchain_core\u001b[39;00m\u001b[38;5;21;01m.\u001b[39;00m\u001b[38;5;21;01mmessages\u001b[39;00m \u001b[38;5;28;01mimport\u001b[39;00m HumanMessage\n\u001b[1;32m      4\u001b[0m chat \u001b[38;5;241m=\u001b[39m ChatCohere(model\u001b[38;5;241m=\u001b[39m\u001b[38;5;124m\"\u001b[39m\u001b[38;5;124mcommand\u001b[39m\u001b[38;5;124m\"\u001b[39m)\n",
      "\u001b[0;31mModuleNotFoundError\u001b[0m: No module named 'langchain_cohere'"
     ]
    }
   ],
   "source": [
    "from langchain_cohere import ChatCohere\n",
    "from langchain_core.messages import HumanMessage\n",
    "\n",
    "chat = ChatCohere(model=\"command\")\n",
    "\n",
    "messages = [HumanMessage(content=\"1\"), HumanMessage(content=\"2 3\")]\n",
    "chat.invoke(messages)"
   ]
  },
  {
   "cell_type": "code",
   "execution_count": null,
   "id": "8a39f2fb",
   "metadata": {},
   "outputs": [],
   "source": [
    "from langchain.output_parsers import PydanticOutputParser\n",
    "from langchain_core.prompts import PromptTemplate\n",
    "from langchain_core.pydantic_v1 import BaseModel, Field, validator\n",
    "from langchain_google_genai import ChatGoogleGenerativeAI\n",
    "from langchain_cohere import Chat\n",
    "#model = ChatGoogleGenerativeAI(model=\"gemini-1.5-pro-latest\", google_api_key=google_api_key)\n",
    "\n",
    "class UpdatedPropertyValue(BaseModel):\n",
    "    property_value: str\n",
    "\n",
    "parser = PydanticOutputParser(pydantic_object=UpdatedPropertyValue)\n",
    "\n",
    "prompt = PromptTemplate(\n",
    "    template=\"Given the references: {references}. Update the property {property_name} by following the instruction, {instruction}. Respond with JSON with the key `property_value`.\",\n",
    "    input_variables=[\"property_name\", \"references\", \"instruction\"],\n",
    "    partial_variables={\"format_instructions\": parser.get_format_instructions()},\n",
    ")\n",
    "\n",
    "prompt_and_model = prompt | model\n",
    "output = prompt_and_model.invoke({\n",
    "    \"instruction\": \"Please write a compelling description for this AirBnB Listing\",\n",
    "    \"references\": \"price-$300,neighborhood-Brooklyn,bedrooms=2,bathrooms=2\",\n",
    "    \"property_name\": \"description\"\n",
    "})\n",
    "parser.invoke(output)"
   ]
  },
  {
   "cell_type": "markdown",
   "id": "df1d2f72",
   "metadata": {},
   "source": [
    "## Update and Reflect Chain"
   ]
  },
  {
   "cell_type": "code",
   "execution_count": null,
   "id": "2e281927",
   "metadata": {},
   "outputs": [],
   "source": [
    "from langchain_core.prompts import ChatPromptTemplate\n",
    "\n",
    "prompt = ChatPromptTemplate.from_template(\"Tell me a joke about {topic}\")\n",
    "chain = prompt | chat"
   ]
  }
 ],
 "metadata": {
  "kernelspec": {
   "display_name": "Python (cohere_fix)",
   "language": "python",
   "name": "cohere_fix_kernel"
  },
  "language_info": {
   "codemirror_mode": {
    "name": "ipython",
    "version": 3
   },
   "file_extension": ".py",
   "mimetype": "text/x-python",
   "name": "python",
   "nbconvert_exporter": "python",
   "pygments_lexer": "ipython3",
   "version": "3.10.10"
  }
 },
 "nbformat": 4,
 "nbformat_minor": 5
}
