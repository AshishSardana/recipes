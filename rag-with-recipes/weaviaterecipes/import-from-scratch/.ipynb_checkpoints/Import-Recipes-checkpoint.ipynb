{
 "cells": [
  {
   "cell_type": "code",
   "execution_count": 3,
   "id": "6603c9b8",
   "metadata": {},
   "outputs": [],
   "source": [
    "# Import Weaviate and Connect to Client\n",
    "import weaviate\n",
    "\n",
    "# client = weaviate.connect_to_local()  # Connect to local host\n",
    "client = weaviate.connect_to_local()"
   ]
  },
  {
   "cell_type": "code",
   "execution_count": 10,
   "id": "3bfdbaeb",
   "metadata": {},
   "outputs": [],
   "source": [
    "client.collections.delete_all()"
   ]
  },
  {
   "cell_type": "code",
   "execution_count": 11,
   "id": "8d04b600",
   "metadata": {},
   "outputs": [],
   "source": [
    "import weaviate.classes.config as wvcc\n",
    "\n",
    "collection = client.collections.create(\n",
    "    name=\"WeaviateRecipesChunk\",\n",
    "    vectorizer_config=wvcc.Configure.Vectorizer.text2vec_cohere\n",
    "    (\n",
    "        model=\"embed-multilingual-v3.0\"\n",
    "    ),\n",
    "    properties=[\n",
    "            wvcc.Property(name=\"content\", data_type=wvcc.DataType.TEXT),\n",
    "            wvcc.Property(name=\"filename\", data_type=wvcc.DataType.TEXT),\n",
    "      ]\n",
    ")"
   ]
  },
  {
   "cell_type": "code",
   "execution_count": 12,
   "id": "6525e293",
   "metadata": {},
   "outputs": [
    {
     "name": "stdout",
     "output_type": "stream",
     "text": [
      "File: README.md\n",
      "Content: ## Integrations 🤝\n",
      "Learn about the various [Integrations](https://github.com/weaviate/recipes/tree/main/integrations) with Weaviate! A few demos we have are:\n",
      "1. [DSPy](https://github.com/weaviate/recipes/tree/main/integrations/dspy) - Getting started with DSPy, Query to Blog Post demo, and more\n",
      "2. [LlamaIndex](https://github.com/weaviate/recipes/tree/main/integrations/llamaindex) - Indexes, Query Engines, Advanced RAG, and more\n",
      "3. [Nomic](https://github.com/weaviate/recipes/tree/main/integrations/nomic/vector-space-visualization) - Visualize your embeddings\n",
      "4. [Ragas](https://github.com/weaviate/recipes/tree/main/integrations/ragas) - Evaluate your RAG application\n",
      "---\n",
      "\n",
      "Read 2553 chunks!\n"
     ]
    }
   ],
   "source": [
    "import os\n",
    "import re\n",
    "from pydantic import BaseModel\n",
    "\n",
    "class FileChunk(BaseModel):\n",
    "    filename: str\n",
    "    content: str\n",
    "\n",
    "def chunk_list(lst, chunk_size):\n",
    "    \"\"\"Break a list into chunks of the specified size.\"\"\"\n",
    "    return [lst[i:i + chunk_size] for i in range(0, len(lst), chunk_size)]\n",
    "\n",
    "def split_into_sentences(text):\n",
    "    \"\"\"Split text into sentences using regular expressions.\"\"\"\n",
    "    sentences = re.split(r'(?<!\\w\\.\\w.)(?<![A-Z][a-z]\\.)(?<=\\.|\\?)\\s', text)\n",
    "    return [sentence.strip() for sentence in sentences if sentence.strip()]\n",
    "\n",
    "def read_and_chunk_files(folder_path, chunk_size=5):\n",
    "    file_chunks = []\n",
    "    for root, dirs, files in os.walk(folder_path):\n",
    "        for file in files:\n",
    "            if file.endswith((\".py\", \".md\", \".ipynb\")):\n",
    "                file_path = os.path.join(root, file)\n",
    "                with open(file_path, \"r\") as f:\n",
    "                    content = f.read()\n",
    "                    sentences = split_into_sentences(content)\n",
    "                    sentence_chunks = chunk_list(sentences, chunk_size)\n",
    "                    for chunk in sentence_chunks:\n",
    "                        file_chunks.append(FileChunk(\n",
    "                            filename=file,\n",
    "                            content=' '.join(chunk)\n",
    "                        ))\n",
    "    return file_chunks\n",
    "\n",
    "# Specify the folder paths\n",
    "integrations_folder = \"../../../integrations\"\n",
    "weaviate_features_folder = \"../../../weaviate-features\"\n",
    "\n",
    "# Read and chunk files in the \"integrations\" folder\n",
    "integrations_chunks = read_and_chunk_files(integrations_folder)\n",
    "\n",
    "# Read and chunk files in the \"weaviate-features\" folder\n",
    "weaviate_features_chunks = read_and_chunk_files(weaviate_features_folder)\n",
    "\n",
    "# Concatenate the file chunks from both folders\n",
    "all_chunks = integrations_chunks + weaviate_features_chunks\n",
    "\n",
    "# Access the file chunks\n",
    "for chunk in all_chunks:\n",
    "    print(f\"File: {chunk.filename}\")\n",
    "    print(f\"Content: {chunk.content}\")\n",
    "    print(\"---\")\n",
    "    break\n",
    "\n",
    "print(f\"\\nRead {len(all_chunks)} chunks!\")"
   ]
  },
  {
   "cell_type": "code",
   "execution_count": 13,
   "id": "f17f1370",
   "metadata": {},
   "outputs": [
    {
     "name": "stdout",
     "output_type": "stream",
     "text": [
      "Uploaded 2552 file chunks to Weaviate in 420.52195405960083 seconds!\n"
     ]
    }
   ],
   "source": [
    "from weaviate.util import get_valid_uuid\n",
    "from uuid import uuid4\n",
    "import time\n",
    "\n",
    "weaviate_recipes = client.collections.get(\"WeaviateRecipesChunk\")\n",
    "\n",
    "\n",
    "start = time.time()\n",
    "for idx, file_chunk in enumerate(all_chunks):\n",
    "    upload = weaviate_recipes.data.insert(\n",
    "        properties={\n",
    "            \"filename\": file_chunk.filename,\n",
    "            \"content\": file_chunk.content\n",
    "        }\n",
    "    )\n",
    "\n",
    "print(f\"Uploaded {idx} file chunks to Weaviate in {time.time() - start} seconds!\")"
   ]
  },
  {
   "cell_type": "code",
   "execution_count": 15,
   "id": "9eef606d",
   "metadata": {},
   "outputs": [],
   "source": [
    "collection = client.collections.create(\n",
    "    name=\"MemGPTMemory\",\n",
    "    vectorizer_config=wvcc.Configure.Vectorizer.text2vec_cohere(model=\"embed-english-v3.0\"),\n",
    "    properties=[\n",
    "        wvcc.Property(name=\"memory\", data_type=wvcc.DataType.TEXT)\n",
    "    ]\n",
    ")"
   ]
  },
  {
   "cell_type": "code",
   "execution_count": null,
   "id": "fd5bd855",
   "metadata": {},
   "outputs": [],
   "source": []
  }
 ],
 "metadata": {
  "kernelspec": {
   "display_name": "Python (cohere_fix)",
   "language": "python",
   "name": "cohere_fix_kernel"
  },
  "language_info": {
   "codemirror_mode": {
    "name": "ipython",
    "version": 3
   },
   "file_extension": ".py",
   "mimetype": "text/x-python",
   "name": "python",
   "nbconvert_exporter": "python",
   "pygments_lexer": "ipython3",
   "version": "3.10.10"
  }
 },
 "nbformat": 4,
 "nbformat_minor": 5
}
