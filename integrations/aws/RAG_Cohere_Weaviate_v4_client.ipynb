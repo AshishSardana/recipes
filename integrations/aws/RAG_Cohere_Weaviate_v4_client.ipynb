{
 "cells": [
  {
   "cell_type": "markdown",
   "id": "0ab5ecda",
   "metadata": {},
   "source": [
    "# Retrieval-Augmented Generation with Cohere language models on Amazon Bedrock and Weaviate vector database on AWS Market place\n",
    "\n",
    "The example use case generates targeted advertisements for vacation stay listings based on a target audience. The goal is to use the user query for the target audience (e.g., “family with small children”) to retrieve the most relevant vacation stay listing (e.g., a listing with playgrounds close by) and then to generate an advertisement for the retrieved listing tailored to the target audience.\n",
    "\n",
    "Note that the following code uses the newer `v4` Weaviate Python client, which uses gRPC under the hood and is currently in beta (as of November 2023).\n",
    "\n",
    "This notebook should work well with the Data Science 3.0 kernel in SageMaker Studio.\n",
    "\n",
    "## Dataset Overview\n",
    "The dataset is available from [Inside AirBnB](http://data.insideairbnb.com/the-netherlands/north-holland/amsterdam/2023-09-03/data/listings.csv.gz) and is licensed under a [Creative Commons Attribution 4.0 International License](https://creativecommons.org/licenses/by/4.0/).\n",
    "\n",
    "Download the data and save it in a folder called `data`."
   ]
  },
  {
   "cell_type": "code",
   "execution_count": 1,
   "id": "77c323f7",
   "metadata": {
    "ExecuteTime": {
     "end_time": "2023-10-31T17:14:33.652765Z",
     "start_time": "2023-10-31T17:14:32.009228Z"
    }
   },
   "outputs": [
    {
     "ename": "FileNotFoundError",
     "evalue": "[Errno 2] No such file or directory: '../data/listings.csv'",
     "output_type": "error",
     "traceback": [
      "\u001b[0;31m---------------------------------------------------------------------------\u001b[0m",
      "\u001b[0;31mFileNotFoundError\u001b[0m                         Traceback (most recent call last)",
      "Cell \u001b[0;32mIn[1], line 6\u001b[0m\n\u001b[1;32m      4\u001b[0m \u001b[38;5;66;03m# Read CSV file\u001b[39;00m\n\u001b[1;32m      5\u001b[0m csv_file \u001b[38;5;241m=\u001b[39m \u001b[38;5;124m'\u001b[39m\u001b[38;5;124m../data/listings.csv\u001b[39m\u001b[38;5;124m'\u001b[39m\n\u001b[0;32m----> 6\u001b[0m df \u001b[38;5;241m=\u001b[39m \u001b[43mpd\u001b[49m\u001b[38;5;241;43m.\u001b[39;49m\u001b[43mread_csv\u001b[49m\u001b[43m(\u001b[49m\u001b[43mcsv_file\u001b[49m\u001b[43m,\u001b[49m\u001b[43m \u001b[49m\u001b[43musecols\u001b[49m\u001b[38;5;241;43m=\u001b[39;49m\u001b[43m[\u001b[49m\u001b[38;5;124;43m'\u001b[39;49m\u001b[38;5;124;43mhost_name\u001b[39;49m\u001b[38;5;124;43m'\u001b[39;49m\u001b[43m,\u001b[49m\n\u001b[1;32m      7\u001b[0m \u001b[43m                                    \u001b[49m\u001b[38;5;124;43m'\u001b[39;49m\u001b[38;5;124;43mproperty_type\u001b[39;49m\u001b[38;5;124;43m'\u001b[39;49m\u001b[43m,\u001b[49m\n\u001b[1;32m      8\u001b[0m \u001b[43m                                    \u001b[49m\u001b[38;5;124;43m'\u001b[39;49m\u001b[38;5;124;43mdescription\u001b[39;49m\u001b[38;5;124;43m'\u001b[39;49m\u001b[43m,\u001b[49m\n\u001b[1;32m      9\u001b[0m \u001b[43m                                    \u001b[49m\u001b[38;5;124;43m'\u001b[39;49m\u001b[38;5;124;43mneighborhood_overview\u001b[39;49m\u001b[38;5;124;43m'\u001b[39;49m\u001b[43m,\u001b[49m\n\u001b[1;32m     10\u001b[0m \u001b[43m                                    \u001b[49m\u001b[43m]\u001b[49m\u001b[43m)\u001b[49m\n\u001b[1;32m     12\u001b[0m df\u001b[38;5;241m.\u001b[39mfillna(\u001b[38;5;124m'\u001b[39m\u001b[38;5;124m'\u001b[39m, inplace\u001b[38;5;241m=\u001b[39m\u001b[38;5;28;01mTrue\u001b[39;00m)\n\u001b[1;32m     14\u001b[0m display(df\u001b[38;5;241m.\u001b[39mhead())\n",
      "File \u001b[0;32m~/code/sandpit/try_new_wv_api_202306/.venv/lib/python3.10/site-packages/pandas/io/parsers/readers.py:948\u001b[0m, in \u001b[0;36mread_csv\u001b[0;34m(filepath_or_buffer, sep, delimiter, header, names, index_col, usecols, dtype, engine, converters, true_values, false_values, skipinitialspace, skiprows, skipfooter, nrows, na_values, keep_default_na, na_filter, verbose, skip_blank_lines, parse_dates, infer_datetime_format, keep_date_col, date_parser, date_format, dayfirst, cache_dates, iterator, chunksize, compression, thousands, decimal, lineterminator, quotechar, quoting, doublequote, escapechar, comment, encoding, encoding_errors, dialect, on_bad_lines, delim_whitespace, low_memory, memory_map, float_precision, storage_options, dtype_backend)\u001b[0m\n\u001b[1;32m    935\u001b[0m kwds_defaults \u001b[38;5;241m=\u001b[39m _refine_defaults_read(\n\u001b[1;32m    936\u001b[0m     dialect,\n\u001b[1;32m    937\u001b[0m     delimiter,\n\u001b[0;32m   (...)\u001b[0m\n\u001b[1;32m    944\u001b[0m     dtype_backend\u001b[38;5;241m=\u001b[39mdtype_backend,\n\u001b[1;32m    945\u001b[0m )\n\u001b[1;32m    946\u001b[0m kwds\u001b[38;5;241m.\u001b[39mupdate(kwds_defaults)\n\u001b[0;32m--> 948\u001b[0m \u001b[38;5;28;01mreturn\u001b[39;00m \u001b[43m_read\u001b[49m\u001b[43m(\u001b[49m\u001b[43mfilepath_or_buffer\u001b[49m\u001b[43m,\u001b[49m\u001b[43m \u001b[49m\u001b[43mkwds\u001b[49m\u001b[43m)\u001b[49m\n",
      "File \u001b[0;32m~/code/sandpit/try_new_wv_api_202306/.venv/lib/python3.10/site-packages/pandas/io/parsers/readers.py:611\u001b[0m, in \u001b[0;36m_read\u001b[0;34m(filepath_or_buffer, kwds)\u001b[0m\n\u001b[1;32m    608\u001b[0m _validate_names(kwds\u001b[38;5;241m.\u001b[39mget(\u001b[38;5;124m\"\u001b[39m\u001b[38;5;124mnames\u001b[39m\u001b[38;5;124m\"\u001b[39m, \u001b[38;5;28;01mNone\u001b[39;00m))\n\u001b[1;32m    610\u001b[0m \u001b[38;5;66;03m# Create the parser.\u001b[39;00m\n\u001b[0;32m--> 611\u001b[0m parser \u001b[38;5;241m=\u001b[39m \u001b[43mTextFileReader\u001b[49m\u001b[43m(\u001b[49m\u001b[43mfilepath_or_buffer\u001b[49m\u001b[43m,\u001b[49m\u001b[43m \u001b[49m\u001b[38;5;241;43m*\u001b[39;49m\u001b[38;5;241;43m*\u001b[39;49m\u001b[43mkwds\u001b[49m\u001b[43m)\u001b[49m\n\u001b[1;32m    613\u001b[0m \u001b[38;5;28;01mif\u001b[39;00m chunksize \u001b[38;5;129;01mor\u001b[39;00m iterator:\n\u001b[1;32m    614\u001b[0m     \u001b[38;5;28;01mreturn\u001b[39;00m parser\n",
      "File \u001b[0;32m~/code/sandpit/try_new_wv_api_202306/.venv/lib/python3.10/site-packages/pandas/io/parsers/readers.py:1448\u001b[0m, in \u001b[0;36mTextFileReader.__init__\u001b[0;34m(self, f, engine, **kwds)\u001b[0m\n\u001b[1;32m   1445\u001b[0m     \u001b[38;5;28mself\u001b[39m\u001b[38;5;241m.\u001b[39moptions[\u001b[38;5;124m\"\u001b[39m\u001b[38;5;124mhas_index_names\u001b[39m\u001b[38;5;124m\"\u001b[39m] \u001b[38;5;241m=\u001b[39m kwds[\u001b[38;5;124m\"\u001b[39m\u001b[38;5;124mhas_index_names\u001b[39m\u001b[38;5;124m\"\u001b[39m]\n\u001b[1;32m   1447\u001b[0m \u001b[38;5;28mself\u001b[39m\u001b[38;5;241m.\u001b[39mhandles: IOHandles \u001b[38;5;241m|\u001b[39m \u001b[38;5;28;01mNone\u001b[39;00m \u001b[38;5;241m=\u001b[39m \u001b[38;5;28;01mNone\u001b[39;00m\n\u001b[0;32m-> 1448\u001b[0m \u001b[38;5;28mself\u001b[39m\u001b[38;5;241m.\u001b[39m_engine \u001b[38;5;241m=\u001b[39m \u001b[38;5;28;43mself\u001b[39;49m\u001b[38;5;241;43m.\u001b[39;49m\u001b[43m_make_engine\u001b[49m\u001b[43m(\u001b[49m\u001b[43mf\u001b[49m\u001b[43m,\u001b[49m\u001b[43m \u001b[49m\u001b[38;5;28;43mself\u001b[39;49m\u001b[38;5;241;43m.\u001b[39;49m\u001b[43mengine\u001b[49m\u001b[43m)\u001b[49m\n",
      "File \u001b[0;32m~/code/sandpit/try_new_wv_api_202306/.venv/lib/python3.10/site-packages/pandas/io/parsers/readers.py:1705\u001b[0m, in \u001b[0;36mTextFileReader._make_engine\u001b[0;34m(self, f, engine)\u001b[0m\n\u001b[1;32m   1703\u001b[0m     \u001b[38;5;28;01mif\u001b[39;00m \u001b[38;5;124m\"\u001b[39m\u001b[38;5;124mb\u001b[39m\u001b[38;5;124m\"\u001b[39m \u001b[38;5;129;01mnot\u001b[39;00m \u001b[38;5;129;01min\u001b[39;00m mode:\n\u001b[1;32m   1704\u001b[0m         mode \u001b[38;5;241m+\u001b[39m\u001b[38;5;241m=\u001b[39m \u001b[38;5;124m\"\u001b[39m\u001b[38;5;124mb\u001b[39m\u001b[38;5;124m\"\u001b[39m\n\u001b[0;32m-> 1705\u001b[0m \u001b[38;5;28mself\u001b[39m\u001b[38;5;241m.\u001b[39mhandles \u001b[38;5;241m=\u001b[39m \u001b[43mget_handle\u001b[49m\u001b[43m(\u001b[49m\n\u001b[1;32m   1706\u001b[0m \u001b[43m    \u001b[49m\u001b[43mf\u001b[49m\u001b[43m,\u001b[49m\n\u001b[1;32m   1707\u001b[0m \u001b[43m    \u001b[49m\u001b[43mmode\u001b[49m\u001b[43m,\u001b[49m\n\u001b[1;32m   1708\u001b[0m \u001b[43m    \u001b[49m\u001b[43mencoding\u001b[49m\u001b[38;5;241;43m=\u001b[39;49m\u001b[38;5;28;43mself\u001b[39;49m\u001b[38;5;241;43m.\u001b[39;49m\u001b[43moptions\u001b[49m\u001b[38;5;241;43m.\u001b[39;49m\u001b[43mget\u001b[49m\u001b[43m(\u001b[49m\u001b[38;5;124;43m\"\u001b[39;49m\u001b[38;5;124;43mencoding\u001b[39;49m\u001b[38;5;124;43m\"\u001b[39;49m\u001b[43m,\u001b[49m\u001b[43m \u001b[49m\u001b[38;5;28;43;01mNone\u001b[39;49;00m\u001b[43m)\u001b[49m\u001b[43m,\u001b[49m\n\u001b[1;32m   1709\u001b[0m \u001b[43m    \u001b[49m\u001b[43mcompression\u001b[49m\u001b[38;5;241;43m=\u001b[39;49m\u001b[38;5;28;43mself\u001b[39;49m\u001b[38;5;241;43m.\u001b[39;49m\u001b[43moptions\u001b[49m\u001b[38;5;241;43m.\u001b[39;49m\u001b[43mget\u001b[49m\u001b[43m(\u001b[49m\u001b[38;5;124;43m\"\u001b[39;49m\u001b[38;5;124;43mcompression\u001b[39;49m\u001b[38;5;124;43m\"\u001b[39;49m\u001b[43m,\u001b[49m\u001b[43m \u001b[49m\u001b[38;5;28;43;01mNone\u001b[39;49;00m\u001b[43m)\u001b[49m\u001b[43m,\u001b[49m\n\u001b[1;32m   1710\u001b[0m \u001b[43m    \u001b[49m\u001b[43mmemory_map\u001b[49m\u001b[38;5;241;43m=\u001b[39;49m\u001b[38;5;28;43mself\u001b[39;49m\u001b[38;5;241;43m.\u001b[39;49m\u001b[43moptions\u001b[49m\u001b[38;5;241;43m.\u001b[39;49m\u001b[43mget\u001b[49m\u001b[43m(\u001b[49m\u001b[38;5;124;43m\"\u001b[39;49m\u001b[38;5;124;43mmemory_map\u001b[39;49m\u001b[38;5;124;43m\"\u001b[39;49m\u001b[43m,\u001b[49m\u001b[43m \u001b[49m\u001b[38;5;28;43;01mFalse\u001b[39;49;00m\u001b[43m)\u001b[49m\u001b[43m,\u001b[49m\n\u001b[1;32m   1711\u001b[0m \u001b[43m    \u001b[49m\u001b[43mis_text\u001b[49m\u001b[38;5;241;43m=\u001b[39;49m\u001b[43mis_text\u001b[49m\u001b[43m,\u001b[49m\n\u001b[1;32m   1712\u001b[0m \u001b[43m    \u001b[49m\u001b[43merrors\u001b[49m\u001b[38;5;241;43m=\u001b[39;49m\u001b[38;5;28;43mself\u001b[39;49m\u001b[38;5;241;43m.\u001b[39;49m\u001b[43moptions\u001b[49m\u001b[38;5;241;43m.\u001b[39;49m\u001b[43mget\u001b[49m\u001b[43m(\u001b[49m\u001b[38;5;124;43m\"\u001b[39;49m\u001b[38;5;124;43mencoding_errors\u001b[39;49m\u001b[38;5;124;43m\"\u001b[39;49m\u001b[43m,\u001b[49m\u001b[43m \u001b[49m\u001b[38;5;124;43m\"\u001b[39;49m\u001b[38;5;124;43mstrict\u001b[39;49m\u001b[38;5;124;43m\"\u001b[39;49m\u001b[43m)\u001b[49m\u001b[43m,\u001b[49m\n\u001b[1;32m   1713\u001b[0m \u001b[43m    \u001b[49m\u001b[43mstorage_options\u001b[49m\u001b[38;5;241;43m=\u001b[39;49m\u001b[38;5;28;43mself\u001b[39;49m\u001b[38;5;241;43m.\u001b[39;49m\u001b[43moptions\u001b[49m\u001b[38;5;241;43m.\u001b[39;49m\u001b[43mget\u001b[49m\u001b[43m(\u001b[49m\u001b[38;5;124;43m\"\u001b[39;49m\u001b[38;5;124;43mstorage_options\u001b[39;49m\u001b[38;5;124;43m\"\u001b[39;49m\u001b[43m,\u001b[49m\u001b[43m \u001b[49m\u001b[38;5;28;43;01mNone\u001b[39;49;00m\u001b[43m)\u001b[49m\u001b[43m,\u001b[49m\n\u001b[1;32m   1714\u001b[0m \u001b[43m\u001b[49m\u001b[43m)\u001b[49m\n\u001b[1;32m   1715\u001b[0m \u001b[38;5;28;01massert\u001b[39;00m \u001b[38;5;28mself\u001b[39m\u001b[38;5;241m.\u001b[39mhandles \u001b[38;5;129;01mis\u001b[39;00m \u001b[38;5;129;01mnot\u001b[39;00m \u001b[38;5;28;01mNone\u001b[39;00m\n\u001b[1;32m   1716\u001b[0m f \u001b[38;5;241m=\u001b[39m \u001b[38;5;28mself\u001b[39m\u001b[38;5;241m.\u001b[39mhandles\u001b[38;5;241m.\u001b[39mhandle\n",
      "File \u001b[0;32m~/code/sandpit/try_new_wv_api_202306/.venv/lib/python3.10/site-packages/pandas/io/common.py:863\u001b[0m, in \u001b[0;36mget_handle\u001b[0;34m(path_or_buf, mode, encoding, compression, memory_map, is_text, errors, storage_options)\u001b[0m\n\u001b[1;32m    858\u001b[0m \u001b[38;5;28;01melif\u001b[39;00m \u001b[38;5;28misinstance\u001b[39m(handle, \u001b[38;5;28mstr\u001b[39m):\n\u001b[1;32m    859\u001b[0m     \u001b[38;5;66;03m# Check whether the filename is to be opened in binary mode.\u001b[39;00m\n\u001b[1;32m    860\u001b[0m     \u001b[38;5;66;03m# Binary mode does not support 'encoding' and 'newline'.\u001b[39;00m\n\u001b[1;32m    861\u001b[0m     \u001b[38;5;28;01mif\u001b[39;00m ioargs\u001b[38;5;241m.\u001b[39mencoding \u001b[38;5;129;01mand\u001b[39;00m \u001b[38;5;124m\"\u001b[39m\u001b[38;5;124mb\u001b[39m\u001b[38;5;124m\"\u001b[39m \u001b[38;5;129;01mnot\u001b[39;00m \u001b[38;5;129;01min\u001b[39;00m ioargs\u001b[38;5;241m.\u001b[39mmode:\n\u001b[1;32m    862\u001b[0m         \u001b[38;5;66;03m# Encoding\u001b[39;00m\n\u001b[0;32m--> 863\u001b[0m         handle \u001b[38;5;241m=\u001b[39m \u001b[38;5;28;43mopen\u001b[39;49m\u001b[43m(\u001b[49m\n\u001b[1;32m    864\u001b[0m \u001b[43m            \u001b[49m\u001b[43mhandle\u001b[49m\u001b[43m,\u001b[49m\n\u001b[1;32m    865\u001b[0m \u001b[43m            \u001b[49m\u001b[43mioargs\u001b[49m\u001b[38;5;241;43m.\u001b[39;49m\u001b[43mmode\u001b[49m\u001b[43m,\u001b[49m\n\u001b[1;32m    866\u001b[0m \u001b[43m            \u001b[49m\u001b[43mencoding\u001b[49m\u001b[38;5;241;43m=\u001b[39;49m\u001b[43mioargs\u001b[49m\u001b[38;5;241;43m.\u001b[39;49m\u001b[43mencoding\u001b[49m\u001b[43m,\u001b[49m\n\u001b[1;32m    867\u001b[0m \u001b[43m            \u001b[49m\u001b[43merrors\u001b[49m\u001b[38;5;241;43m=\u001b[39;49m\u001b[43merrors\u001b[49m\u001b[43m,\u001b[49m\n\u001b[1;32m    868\u001b[0m \u001b[43m            \u001b[49m\u001b[43mnewline\u001b[49m\u001b[38;5;241;43m=\u001b[39;49m\u001b[38;5;124;43m\"\u001b[39;49m\u001b[38;5;124;43m\"\u001b[39;49m\u001b[43m,\u001b[49m\n\u001b[1;32m    869\u001b[0m \u001b[43m        \u001b[49m\u001b[43m)\u001b[49m\n\u001b[1;32m    870\u001b[0m     \u001b[38;5;28;01melse\u001b[39;00m:\n\u001b[1;32m    871\u001b[0m         \u001b[38;5;66;03m# Binary mode\u001b[39;00m\n\u001b[1;32m    872\u001b[0m         handle \u001b[38;5;241m=\u001b[39m \u001b[38;5;28mopen\u001b[39m(handle, ioargs\u001b[38;5;241m.\u001b[39mmode)\n",
      "\u001b[0;31mFileNotFoundError\u001b[0m: [Errno 2] No such file or directory: '../data/listings.csv'"
     ]
    }
   ],
   "source": [
    "import pandas as pd\n",
    "import json\n",
    "\n",
    "# Read CSV file\n",
    "csv_file = '../data/listings.csv'\n",
    "df = pd.read_csv(csv_file, usecols=['host_name',\n",
    "                                    'property_type',\n",
    "                                    'description',\n",
    "                                    'neighborhood_overview',\n",
    "                                    ])\n",
    "\n",
    "df.fillna('', inplace=True)\n",
    "\n",
    "display(df.head())"
   ]
  },
  {
   "cell_type": "markdown",
   "id": "cf847d76",
   "metadata": {},
   "source": [
    "## Prerequisites\n",
    "To be able to follow along and use any AWS services in the following tutorial, please make sure you have an [AWS account](https://signin.aws.amazon.com/signin?redirect_uri=https%3A%2F%2Fportal.aws.amazon.com%2Fbilling%2Fsignup%2Fresume&client_id=signup).\n",
    "\n",
    "## Step 1: Enable components of the AI-native technology stack\n",
    "First, you will need to enable the relevant components discussed in the solution overview in your AWS account.\n",
    "First, enable access to the Cohere Command and Embed foundation models available on Amazon Bedrock through the AWS Management Console. Navigate to the Model access page, click on Edit, and select the foundation models of your choice.\n",
    "\n",
    "Next, set up a Weaviate cluster. First, subscribe to the [Weaviate Kubernetes Cluster on AWS Marketplace](https://aws.amazon.com/marketplace/pp/prodview-cicacyv63r43i). Then, launch the software using a [CloudFormation template according to your preferred availability zone](https://weaviate.io/developers/weaviate/installation/aws-marketplace#aws-marketplace). The CloudFormation template is pre-filled with default values. To follow along in this guide, edit the following fields:\n",
    "* Stack name: Enter a stack name\n",
    "* Authentication: It is recommended to enable authentication by setting helmauthenticationtype to apikey and defining a helmauthenticationapikey.\n",
    "* Enabled modules: Make sure “tex2vec-aws” and “generative-aws” are present in the list of enabled modules within Weaviate.\n",
    "\n",
    "This template takes about 30 minutes to complete."
   ]
  },
  {
   "cell_type": "markdown",
   "id": "11420381",
   "metadata": {},
   "source": [
    "## Step 2: Connect to Weaviate\n",
    "On the SageMaker console, navigate to Notebook instances and create a new notebook instance.\n",
    "\n",
    "Then, install the Weaviate client package with the required dependencies:"
   ]
  },
  {
   "cell_type": "code",
   "execution_count": 2,
   "id": "b3ddd03a",
   "metadata": {
    "ExecuteTime": {
     "end_time": "2023-10-31T17:22:47.452815Z",
     "start_time": "2023-10-31T17:22:47.448949Z"
    }
   },
   "outputs": [],
   "source": [
    "# pip install --pre \"weaviate-client==4.*\"\n",
    "# pip install grpcio"
   ]
  },
  {
   "cell_type": "markdown",
   "id": "819ca837",
   "metadata": {},
   "source": [
    "Now, you can connect to your Weaviate instance with the following code. You can find the relevant information as follows:\n",
    "* Weaviate URL: Access Weaviate via the load balancer URL. Go to the Services section of AWS, under EC2 > Load Balancers find the load balancer, and look for the DNS name column.\n",
    "* Weaviate API Key: This is the key you set earlier in the CloudFormation template (helmauthenticationapikey).\n",
    "* AWS Access Key: You can retrieve the access keys for your user in the AWS Identity and Access Management (IAM) Console."
   ]
  },
  {
   "cell_type": "code",
   "execution_count": 35,
   "id": "88a53dee",
   "metadata": {},
   "outputs": [
    {
     "name": "stdout",
     "output_type": "stream",
     "text": [
      "True\n"
     ]
    },
    {
     "data": {
      "text/plain": [
       "{'hostname': 'http://[::]:8080',\n",
       " 'modules': {'generative-cohere': {'documentationHref': 'https://docs.cohere.com/reference/generate',\n",
       "   'name': 'Generative Search - Cohere'},\n",
       "  'text2vec-cohere': {'documentationHref': 'https://docs.cohere.ai/embedding-wiki/',\n",
       "   'name': 'Cohere Module'}},\n",
       " 'version': '1.22.1'}"
      ]
     },
     "execution_count": 35,
     "metadata": {},
     "output_type": "execute_result"
    }
   ],
   "source": [
    "import weaviate\n",
    "import weaviate.classes as wvc\n",
    "\n",
    "client = weaviate.WeaviateClient(\n",
    "    weaviate.ConnectionParams.from_url(\"<YOUR-WEAVIATE-URL>\", grpc_port=50051),  # e.g. weaviate.ConnectionParams.from_url(\"http://localhost:8080\", grpc_port=50051)\n",
    "    auth_client_secret=weaviate.AuthApiKey(\"<YOUR-WEAVIATE-API-KEY>\"),\n",
    "    additional_headers={\n",
    "        \"X-AWS-Access-Key\": \"<AWS-ACCESS-KEY>\",\n",
    "        \"X-AWS-Access-Secret\": \"<AWS-ACCESS-SECRET>\"\n",
    "    }\n",
    ")\n",
    "\n",
    "print(client.is_ready())\n",
    "\n",
    "client.get_meta()"
   ]
  },
  {
   "cell_type": "markdown",
   "id": "9cdc2e12",
   "metadata": {},
   "source": [
    "## Step 3: Configure the Amazon Bedrock module to enable Cohere models\n",
    "\n",
    "Next, you will define a data collection (i.e., `class`) called `Listings` to store the listings’ data objects, which is analogous to creating a table in a relational database. In this step, you will configure the relevant modules to enable the usage of Cohere language models hosted on Amazon Bedrock natively from within the Weaviate vector database. The vectorizer (`\"text2vec-aws\"`) and generative module (` \"generative-aws\"`) are specified in the data collection definition. Both of these modules take three parameters:\n",
    "* `\"service\"`: `\"bedrock\"` for Amazon Bedrock (Alternatively, `\"sagemaker\"` for Amazon Sagemaker Jumpstart)\n",
    "* `\"Region\"`: The region where your model is deployed\n",
    "* `\"model\"`: The foundation model’s name\n",
    "\n",
    "In this step, you will also define the structure of the data collection by configuring its properties. Aside from the property’s name and data type, you can also configure if only the data object shall be stored or if it shall be stored together with its vector embeddings. In this example, `host_name` and `property_type` are not vectorized."
   ]
  },
  {
   "cell_type": "markdown",
   "id": "8be773b9",
   "metadata": {},
   "source": [
    "Run the following code to create the collection in your Weaviate instance."
   ]
  },
  {
   "cell_type": "code",
   "execution_count": 36,
   "id": "ba66b1a3",
   "metadata": {},
   "outputs": [
    {
     "data": {
      "text/plain": [
       "<weaviate.collections.collection._Collection at 0x159c78210>"
      ]
     },
     "execution_count": 36,
     "metadata": {},
     "output_type": "execute_result"
    }
   ],
   "source": [
    "client.collections.delete(\"Listings\")\n",
    "\n",
    "listings = client.collections.create(\n",
    "    name=\"Listings\",\n",
    "    description=\"AirBnb Listings\",\n",
    "    vectorizer_config=wvc.Configure.Vectorizer.text2vec_aws(\n",
    "        service=\"bedrock\",\n",
    "        region=\"us-east-1\",\n",
    "        model=\"cohere.TO_DO_REPLACE_ME_LATER\",\n",
    "        vectorize_class_name=False,\n",
    "    ),\n",
    "    generative_config=wvc.Configure.Generative.aws(\n",
    "        service=\"bedrock\",\n",
    "        region=\"us-east-1\",\n",
    "        model=\"cohere.command-text-v14\",\n",
    "    ),\n",
    "    properties=[\n",
    "        wvc.Property(\n",
    "            name=\"description\",\n",
    "            data_type=wvc.DataType.TEXT,\n",
    "            description=\"The description of the apartment listing\",\n",
    "        ),\n",
    "        wvc.Property(\n",
    "            name=\"host_name\",\n",
    "            data_type=wvc.DataType.TEXT,\n",
    "            description=\"The name of the host of the apartment listing\",\n",
    "            skip_vectorization=True,\n",
    "            vectorize_property_name=False\n",
    "        ),\n",
    "        wvc.Property(\n",
    "            name=\"neighborhood_overview\",\n",
    "            data_type=wvc.DataType.TEXT,\n",
    "            description=\"The description of  the neighbourhood of the apartment listing\",\n",
    "        ),\n",
    "        wvc.Property(\n",
    "            name=\"property_type\",\n",
    "            data_type=wvc.DataType.TEXT,\n",
    "            description=\"The type of property of the listing\",\n",
    "            skip_vectorization=True,\n",
    "            vectorize_property_name=False\n",
    "        )\n",
    "    ]\n",
    ")\n",
    "\n",
    "listings = client.collections.get(\"Listings\")\n",
    "print(listings.config)"
   ]
  },
  {
   "cell_type": "markdown",
   "id": "561a5203",
   "metadata": {},
   "source": [
    "## Step 4: Ingest data into the Weaviate vector database\n",
    "\n",
    "You can now add objects to Weaviate. You will be using a batch import process for maximum efficiency. Run the code below to import data. During the import, Weaviate will use the defined vectorizer to create a vector embedding for each object. The following code loads objects initializes a batch process, and adds objects to the target collection one by one."
   ]
  },
  {
   "cell_type": "code",
   "execution_count": 37,
   "id": "7c44c4d8",
   "metadata": {},
   "outputs": [
    {
     "name": "stdout",
     "output_type": "stream",
     "text": [
      "BatchObjectReturn(all_responses=[UUID('49556890-16d1-47fd-8bd5-435ae1172aa2'), UUID('4abc994f-5690-46a9-bfe4-32cc5a99d67e'), UUID('262faf04-9aba-458b-8be4-cee6e4196818'), UUID('22cdc189-217b-4118-8a31-ccdea86cbe01'), UUID('38856761-d2ce-4cd5-8ca7-f39533a0c275'), UUID('d51520b0-edc7-4055-9ca1-b27852b9dc7e'), UUID('ab733713-b9cf-4e59-8f69-5e8541c411f6'), UUID('c1112ab7-888a-4dd6-bdfd-c30714508b5a'), UUID('93250be6-b48c-4cba-b8c9-ad332102ad9c'), UUID('e9e8dc0c-1fe3-4d64-a292-6970f593a0fb'), UUID('af75ce8c-001a-40ba-ae2b-d93391e4adb9'), UUID('2bbe11ac-7255-41cd-926d-9be5e536f4a4'), UUID('86fece16-402f-479b-9389-3be7b1f49c0e'), UUID('40c0718c-3862-4d6b-a979-d92a36817a0d'), UUID('80f9f781-d9fa-4b95-aa2b-544f31cbf10a'), UUID('004a3381-c173-46eb-bb4c-14cd57782444'), UUID('16c8ed2a-f663-430e-b0ed-11611ed97203'), UUID('528685f0-0764-4d85-a3a4-5a9fe8e49aee'), UUID('7a49f17f-a334-4fa7-8a4a-239148ee3c02'), UUID('d931e593-b011-4aa0-ad66-dcd003497fc3'), UUID('fea3b80f-7cab-49fe-aaf4-83ca6b19c7dd'), UUID('0f3c07c7-7ea8-4da9-8244-97ce6fcbda89'), UUID('72a5059b-03d6-48c9-ba78-01d12bc2dcd7'), UUID('1865c484-11ac-48ed-877e-bc3265a50366'), UUID('bb340478-2239-4eb7-b4e6-3f023e14818d'), UUID('12c15527-c551-40c6-9b48-3c03654b3d42'), UUID('cdde37f4-529d-4b76-8978-f9f51d15a52c'), UUID('1a3e0f30-4f40-47b4-8b63-0063597c5b56'), UUID('a8639840-c155-4a6f-9875-1f4abf8d34be'), UUID('aece8a9a-89ba-47a8-9fa4-0c5d7dd54f7c'), UUID('1c28ca2f-9a37-47be-843c-33597408021d'), UUID('4cf4463e-4808-43e4-9a42-da5e750981dd'), UUID('8221cd08-d5e6-4c90-9d04-26ea40273105'), UUID('c1d5274b-65b1-425f-adf2-4b20e4b53d6b'), UUID('3d86a6c9-a640-4f56-8f90-8ab922060b73'), UUID('417e219e-f5b0-4b7d-a84b-ed5792949456'), UUID('103e98e7-2df5-4251-bc0f-aad943aefae1'), UUID('76c861a8-1659-4930-b757-0339efaf2bce'), UUID('1405d4fe-ab3e-4961-be96-1cee1c23d2eb'), UUID('fe29df95-0da8-4f5e-9ddf-68634dd20797'), UUID('295f9444-ff3f-4c7f-852a-0d31c9c46e6b'), UUID('56bf0bf7-53f4-49d7-85e3-415bb8044531'), UUID('a1f49278-f6f5-4e18-83e4-56df0b963ae7'), UUID('4f94baf8-7941-4101-9f09-529ef2557bee'), UUID('bbdb5ecc-50a2-4e8f-9c71-40b4abd4a238'), UUID('b3888312-ce67-4dac-81ee-6b280cc04f2a'), UUID('ef0415b1-0452-4ec8-a18a-cf6ed1cccf98'), UUID('4afaca60-2710-492d-9468-edd06cbb5ac9'), UUID('c2e7dea6-a7da-40ec-a0ce-ce8cf1716f90'), UUID('74fda4e7-907b-4cac-b24a-a963e9e0ed37'), UUID('7dffcf51-6188-489d-921e-46dd99583025'), UUID('c97a839b-bfa6-4387-bc47-72a91b50a5fd'), UUID('12ded8fa-30c5-4487-8850-4b8032f45f67'), UUID('1c4bdf6c-d54a-4168-95f9-e54b1e04b860'), UUID('d45df5bf-5578-4429-b4ca-4cea2cc920fb'), UUID('9d781ec5-9f35-4f37-b32d-e7ff9cc41cf7'), UUID('0bed9a5f-9e40-4d3c-b747-65cead01f29c'), UUID('801651d0-b923-48ab-989a-db70569d03c4'), UUID('6c43ada5-cdf3-4f2e-8ec3-93106c3b40fa'), UUID('32c92538-beba-4817-bee7-5f06b8ea3a75'), UUID('e49286ac-f510-4ca7-a9b1-f6c76bfd7d61'), UUID('3904d84d-4fda-4de2-a0d1-0231fa29c839'), UUID('d62d65bc-c4e5-4cd4-875d-bb91ca960274'), UUID('18510130-6319-4b59-a1c7-51a8e6912ae2'), UUID('d300bf4c-13a1-44e2-b1f5-3e432caa3b0b'), UUID('7547aca7-dfa3-4582-867f-dc65d3bf9387'), UUID('fef7beab-8de4-40fe-8d61-42fda69cbdd6'), UUID('0483cedc-1601-48e4-b0f7-3882ec6c785e'), UUID('3e9e58e9-c5f4-48e0-80f4-0ba60f6effba'), UUID('3c9649a6-bc39-4495-99f1-008a40dd8c45'), UUID('53bd047a-356f-4522-bbb2-40ac0cccffb3'), UUID('c8218018-eebb-4693-ae8d-40ddd40a51a0'), UUID('9d17669b-31b0-4feb-b97f-e6d7a46aa809'), UUID('302d97ab-75be-4cc1-865c-93184b4546ab'), UUID('623773e7-3df9-43f8-b5a6-7165d521adc2'), UUID('d4ef3aa7-980b-4bf9-aa9a-06d56bf686d6'), UUID('fcae6a16-a3d6-43b3-81a9-819446c22f13'), UUID('fc512cb7-3c84-47d2-9ca1-b5ef5a58e35f'), UUID('2ff462c6-fdd4-4423-8b61-85421a86c096'), UUID('794c64e9-0224-46a2-ba65-2b9d85aab92f'), UUID('b9ee3ad0-eefb-4e3e-8112-f7a6c3d98808'), UUID('c2e1076d-1c18-404d-ad16-9e738cd650ee'), UUID('a3dc7fdd-fe3d-4f7f-88a2-33ae4d5bb551'), UUID('b4b8b412-36d7-4912-8b89-5071e58b1669'), UUID('40127246-7dd3-44a3-99b7-79e23d25f5d4'), UUID('6e112639-90d2-457a-9924-38b1a462c0c6'), UUID('b6e389d5-9826-4b41-a9ce-467cf7c98771'), UUID('e2adf7d1-b5d8-4662-ba37-aae10f1f5c52'), UUID('3c391aba-be96-435a-af40-497077d4b5dc'), UUID('7da3e1f2-ad5e-4311-897a-efc86b173881'), UUID('ad8db39e-8752-4d0a-a437-e41442cb8ddd'), UUID('eea607f6-0768-499d-90da-81edc1622927'), UUID('e13fea8a-f838-482f-9954-584cf0039d8d'), UUID('9b2d91d7-2c7b-44fb-90b0-f6d4c43e0c8a'), UUID('4ce24deb-ce69-4901-b9bd-30d66c4aef2b'), UUID('0d67a1d4-c8e0-47d6-b3b4-0d3ad0d0dba9'), UUID('e297442d-c1d7-46f4-8507-a5f1b8f5e3df'), UUID('65b5c049-9033-426d-9b4e-962a0f891e30'), UUID('b278d45d-2eb8-4e88-aa7e-ac8eccae3f38')], uuids={0: UUID('49556890-16d1-47fd-8bd5-435ae1172aa2'), 1: UUID('4abc994f-5690-46a9-bfe4-32cc5a99d67e'), 2: UUID('262faf04-9aba-458b-8be4-cee6e4196818'), 3: UUID('22cdc189-217b-4118-8a31-ccdea86cbe01'), 4: UUID('38856761-d2ce-4cd5-8ca7-f39533a0c275'), 5: UUID('d51520b0-edc7-4055-9ca1-b27852b9dc7e'), 6: UUID('ab733713-b9cf-4e59-8f69-5e8541c411f6'), 7: UUID('c1112ab7-888a-4dd6-bdfd-c30714508b5a'), 8: UUID('93250be6-b48c-4cba-b8c9-ad332102ad9c'), 9: UUID('e9e8dc0c-1fe3-4d64-a292-6970f593a0fb'), 10: UUID('af75ce8c-001a-40ba-ae2b-d93391e4adb9'), 11: UUID('2bbe11ac-7255-41cd-926d-9be5e536f4a4'), 12: UUID('86fece16-402f-479b-9389-3be7b1f49c0e'), 13: UUID('40c0718c-3862-4d6b-a979-d92a36817a0d'), 14: UUID('80f9f781-d9fa-4b95-aa2b-544f31cbf10a'), 15: UUID('004a3381-c173-46eb-bb4c-14cd57782444'), 16: UUID('16c8ed2a-f663-430e-b0ed-11611ed97203'), 17: UUID('528685f0-0764-4d85-a3a4-5a9fe8e49aee'), 18: UUID('7a49f17f-a334-4fa7-8a4a-239148ee3c02'), 19: UUID('d931e593-b011-4aa0-ad66-dcd003497fc3'), 20: UUID('fea3b80f-7cab-49fe-aaf4-83ca6b19c7dd'), 21: UUID('0f3c07c7-7ea8-4da9-8244-97ce6fcbda89'), 22: UUID('72a5059b-03d6-48c9-ba78-01d12bc2dcd7'), 23: UUID('1865c484-11ac-48ed-877e-bc3265a50366'), 24: UUID('bb340478-2239-4eb7-b4e6-3f023e14818d'), 25: UUID('12c15527-c551-40c6-9b48-3c03654b3d42'), 26: UUID('cdde37f4-529d-4b76-8978-f9f51d15a52c'), 27: UUID('1a3e0f30-4f40-47b4-8b63-0063597c5b56'), 28: UUID('a8639840-c155-4a6f-9875-1f4abf8d34be'), 29: UUID('aece8a9a-89ba-47a8-9fa4-0c5d7dd54f7c'), 30: UUID('1c28ca2f-9a37-47be-843c-33597408021d'), 31: UUID('4cf4463e-4808-43e4-9a42-da5e750981dd'), 32: UUID('8221cd08-d5e6-4c90-9d04-26ea40273105'), 33: UUID('c1d5274b-65b1-425f-adf2-4b20e4b53d6b'), 34: UUID('3d86a6c9-a640-4f56-8f90-8ab922060b73'), 35: UUID('417e219e-f5b0-4b7d-a84b-ed5792949456'), 36: UUID('103e98e7-2df5-4251-bc0f-aad943aefae1'), 37: UUID('76c861a8-1659-4930-b757-0339efaf2bce'), 38: UUID('1405d4fe-ab3e-4961-be96-1cee1c23d2eb'), 39: UUID('fe29df95-0da8-4f5e-9ddf-68634dd20797'), 40: UUID('295f9444-ff3f-4c7f-852a-0d31c9c46e6b'), 41: UUID('56bf0bf7-53f4-49d7-85e3-415bb8044531'), 42: UUID('a1f49278-f6f5-4e18-83e4-56df0b963ae7'), 43: UUID('4f94baf8-7941-4101-9f09-529ef2557bee'), 44: UUID('bbdb5ecc-50a2-4e8f-9c71-40b4abd4a238'), 45: UUID('b3888312-ce67-4dac-81ee-6b280cc04f2a'), 46: UUID('ef0415b1-0452-4ec8-a18a-cf6ed1cccf98'), 47: UUID('4afaca60-2710-492d-9468-edd06cbb5ac9'), 48: UUID('c2e7dea6-a7da-40ec-a0ce-ce8cf1716f90'), 49: UUID('74fda4e7-907b-4cac-b24a-a963e9e0ed37'), 50: UUID('7dffcf51-6188-489d-921e-46dd99583025'), 51: UUID('c97a839b-bfa6-4387-bc47-72a91b50a5fd'), 52: UUID('12ded8fa-30c5-4487-8850-4b8032f45f67'), 53: UUID('1c4bdf6c-d54a-4168-95f9-e54b1e04b860'), 54: UUID('d45df5bf-5578-4429-b4ca-4cea2cc920fb'), 55: UUID('9d781ec5-9f35-4f37-b32d-e7ff9cc41cf7'), 56: UUID('0bed9a5f-9e40-4d3c-b747-65cead01f29c'), 57: UUID('801651d0-b923-48ab-989a-db70569d03c4'), 58: UUID('6c43ada5-cdf3-4f2e-8ec3-93106c3b40fa'), 59: UUID('32c92538-beba-4817-bee7-5f06b8ea3a75'), 60: UUID('e49286ac-f510-4ca7-a9b1-f6c76bfd7d61'), 61: UUID('3904d84d-4fda-4de2-a0d1-0231fa29c839'), 62: UUID('d62d65bc-c4e5-4cd4-875d-bb91ca960274'), 63: UUID('18510130-6319-4b59-a1c7-51a8e6912ae2'), 64: UUID('d300bf4c-13a1-44e2-b1f5-3e432caa3b0b'), 65: UUID('7547aca7-dfa3-4582-867f-dc65d3bf9387'), 66: UUID('fef7beab-8de4-40fe-8d61-42fda69cbdd6'), 67: UUID('0483cedc-1601-48e4-b0f7-3882ec6c785e'), 68: UUID('3e9e58e9-c5f4-48e0-80f4-0ba60f6effba'), 69: UUID('3c9649a6-bc39-4495-99f1-008a40dd8c45'), 70: UUID('53bd047a-356f-4522-bbb2-40ac0cccffb3'), 71: UUID('c8218018-eebb-4693-ae8d-40ddd40a51a0'), 72: UUID('9d17669b-31b0-4feb-b97f-e6d7a46aa809'), 73: UUID('302d97ab-75be-4cc1-865c-93184b4546ab'), 74: UUID('623773e7-3df9-43f8-b5a6-7165d521adc2'), 75: UUID('d4ef3aa7-980b-4bf9-aa9a-06d56bf686d6'), 76: UUID('fcae6a16-a3d6-43b3-81a9-819446c22f13'), 77: UUID('fc512cb7-3c84-47d2-9ca1-b5ef5a58e35f'), 78: UUID('2ff462c6-fdd4-4423-8b61-85421a86c096'), 79: UUID('794c64e9-0224-46a2-ba65-2b9d85aab92f'), 80: UUID('b9ee3ad0-eefb-4e3e-8112-f7a6c3d98808'), 81: UUID('c2e1076d-1c18-404d-ad16-9e738cd650ee'), 82: UUID('a3dc7fdd-fe3d-4f7f-88a2-33ae4d5bb551'), 83: UUID('b4b8b412-36d7-4912-8b89-5071e58b1669'), 84: UUID('40127246-7dd3-44a3-99b7-79e23d25f5d4'), 85: UUID('6e112639-90d2-457a-9924-38b1a462c0c6'), 86: UUID('b6e389d5-9826-4b41-a9ce-467cf7c98771'), 87: UUID('e2adf7d1-b5d8-4662-ba37-aae10f1f5c52'), 88: UUID('3c391aba-be96-435a-af40-497077d4b5dc'), 89: UUID('7da3e1f2-ad5e-4311-897a-efc86b173881'), 90: UUID('ad8db39e-8752-4d0a-a437-e41442cb8ddd'), 91: UUID('eea607f6-0768-499d-90da-81edc1622927'), 92: UUID('e13fea8a-f838-482f-9954-584cf0039d8d'), 93: UUID('9b2d91d7-2c7b-44fb-90b0-f6d4c43e0c8a'), 94: UUID('4ce24deb-ce69-4901-b9bd-30d66c4aef2b'), 95: UUID('0d67a1d4-c8e0-47d6-b3b4-0d3ad0d0dba9'), 96: UUID('e297442d-c1d7-46f4-8507-a5f1b8f5e3df'), 97: UUID('65b5c049-9033-426d-9b4e-962a0f891e30'), 98: UUID('b278d45d-2eb8-4e88-aa7e-ac8eccae3f38')}, errors={}, elapsed_seconds=2.072390079498291, has_errors=False)\n"
     ]
    }
   ],
   "source": [
    "listings_to_add = [\n",
    "    {\n",
    "        \"description\": row[\"description\"],\n",
    "        \"host_name\": row[\"host_name\"],\n",
    "        \"neighborhood_overview\": row[\"neighborhood_overview\"],\n",
    "        \"property_type\": row[\"property_type\"],\n",
    "    } for _, row in df.iterrows()\n",
    "]\n",
    "\n",
    "response = listings.data.insert_many(listings_to_add)\n",
    "print(response)"
   ]
  },
  {
   "cell_type": "markdown",
   "id": "d53cf711",
   "metadata": {},
   "source": [
    "## Step 5: Retrieval-Augmented Generation to generate targeted advertisements\n",
    "\n",
    "Finally, you can build a RAG pipeline by implementing a generative search query on your Weaviate instance. For this, you will first define a prompt template in the form of an f-string that can take in the user query (`{target_audience}`) directly and the additional context (`{{host_name}}`, `{{property_type}}`, `{{description}}`, `{{neighborhood_overview}}`) from the vector database at runtime.\n",
    "\n",
    "Next, you will run a generative search query. This prompts the defined generative model with a prompt that is comprised of the user query as well as the retrieved data. The following query retrieves one listing object (`.with_limit(1)`) from the `Listings` collection that is most similar to the user query (`.with_near_text({\"concepts\": target_audience})`). Then the user query (`target_audience`) and the retrieved listings properties (`[\"description\", \"neighborhood\", \"host_name\", \"property_type\"]`) are fed into the prompt template."
   ]
  },
  {
   "cell_type": "code",
   "execution_count": 40,
   "id": "4cd96000",
   "metadata": {},
   "outputs": [],
   "source": [
    "def generate_targeted_ad(target_audience):\n",
    "    generate_prompt = f\"\"\"You are a copywriter.\n",
    "    Write short advertisement for the following vacation stay.\n",
    "    Host: {{host_name}}\n",
    "    Property type: {{property_type}}\n",
    "    Description: {{description}}\n",
    "    Neighborhood: {{neighborhood_overview}}\n",
    "    Target audience: {target_audience}\n",
    "    \"\"\"\n",
    "\n",
    "    result = listings.generate.near_text(\n",
    "        query=target_audience,\n",
    "        limit=1,\n",
    "        single_prompt=generate_prompt\n",
    "    )\n",
    "\n",
    "    return result"
   ]
  },
  {
   "cell_type": "markdown",
   "id": "3835d003",
   "metadata": {},
   "source": [
    "Below, you can see that the results for the `target_audience = “Family with small children”`."
   ]
  },
  {
   "cell_type": "code",
   "execution_count": 48,
   "id": "f2886886",
   "metadata": {},
   "outputs": [
    {
     "name": "stdout",
     "output_type": "stream",
     "text": [
      "\n",
      "Looking for a family-friendly home away from home in the heart of Amsterdam? Look no further than this charming townhouse in the Helmersbuurt neighborhood! With a spacious layout spread across two floors, this 120ft² home is the perfect size for a family of four or group of friends. The ground floor features a convenient toilet, a cozy living room with a fireplace, and a fully-equipped kitchen with a large dining table. Head upstairs to find the master bedroom with a double bed and three children's rooms - two with double beds and one with a single bed. This home is perfect for kids, but adults will love it too! You'll be within walking distance of the Vondelpark, the museum square, and some of the best bars, restaurants, and cafes in the city. Plus, with a tram stop nearby, you'll have easy access to even more of Amsterdam's top attractions. Come experience the best of the Netherlands in this cozy and convenient home! \n",
      "\n",
      "# Your Home in Amsterdam\n",
      "\n",
      "*Entire Townhouse*\n",
      "\n",
      "Child-Friendly\n",
      "\n",
      "120 ft²\n",
      "\n",
      "4 Adults or a Family with Children\n",
      "\n",
      "Max 4 People\n",
      "\n",
      "Ground Floor, Two Floors\n",
      "\n",
      "Quiet Neighborhood, City Center\n",
      "\n",
      "Close to Vondelpark & Top Attractions\n",
      "\n",
      "Walk to Supermarkets & Tram Stop\n",
      "\n",
      "Experience the Real Amsterdam\n",
      "\n",
      "Book Now for Your Next Vacation!\n",
      "\n",
      "# AMSTERDAM VACATION STAY\n",
      "\n",
      "Book your next vacation today and experience the best of Amsterdam with your family!\n"
     ]
    }
   ],
   "source": [
    "result = generate_targeted_ad(\"Families with young children\")\n",
    "print(result.objects[0].generated)"
   ]
  },
  {
   "cell_type": "markdown",
   "id": "108cc702",
   "metadata": {},
   "source": [
    "Here is another example for an elderly couple."
   ]
  },
  {
   "cell_type": "code",
   "execution_count": 49,
   "id": "ccb71c13",
   "metadata": {},
   "outputs": [
    {
     "name": "stdout",
     "output_type": "stream",
     "text": [
      "\n",
      "Looking for a quiet getaway in one of the most beautiful and historic cities in the world? Look no further than this charming private room in the heart of Amsterdam! With stunning canal views and a prime location in a renovated 1930 canal house, you'll be able to enjoy the best of what the city has to offer without sacrificing comfort or convenience. \n",
      "\n",
      "The room itself is spacious and well-appointed, with a private shower and toilet, TV, free Wi-Fi, and a king-size bed. You'll have access to a fridge, coffee, and tea facilities, making it easy to relax and feel at home after a long day of exploring the city. \n",
      "\n",
      "With weekly and monthly rates available, this is the perfect spot for an extended stay in Amsterdam. And while the city center can be bustling, you'll be able to escape the crowds and enjoy a peaceful retreat in this quiet and cozy room. \n",
      "\n",
      "So whether you're looking for a romantic getaway or a relaxing vacation, don't miss out on the opportunity to stay in this stunning private room. \n",
      "\n",
      "David \n",
      "\n",
      "*Please note: Minimum 3-night stay. One and two-night stays can be requested*\n",
      "\n",
      "[Image of the room and the view from the window]\n",
      "\n",
      "Book now: [Contact information]\n"
     ]
    }
   ],
   "source": [
    "result = generate_targeted_ad(\"Elderly couple\")\n",
    "print(result.objects[0].generated)"
   ]
  }
 ],
 "metadata": {
  "kernelspec": {
   "display_name": "Python 3 (ipykernel)",
   "language": "python",
   "name": "python3"
  },
  "language_info": {
   "codemirror_mode": {
    "name": "ipython",
    "version": 3
   },
   "file_extension": ".py",
   "mimetype": "text/x-python",
   "name": "python",
   "nbconvert_exporter": "python",
   "pygments_lexer": "ipython3",
   "version": "3.11.4"
  }
 },
 "nbformat": 4,
 "nbformat_minor": 5
}
