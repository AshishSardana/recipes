{
 "cells": [
  {
   "cell_type": "markdown",
   "metadata": {},
   "source": [
    "# LlamaIndex Episode 1 🦙"
   ]
  },
  {
   "cell_type": "markdown",
   "metadata": {},
   "source": [
    "## Overview\n",
    "\n",
    "* What is LlamaIndex?\n",
    "\n",
    "        * LlamaHub (data loaders)\n",
    "\n",
    "* How to setup Weaviate\n",
    "\n",
    "        * Create schema\n",
    "\n",
    "\n",
    "* Adding Data to Weaviate using LlamaIndex\n",
    "\n",
    "        *  Data loader examples\n",
    "\n",
    "* Chunking up your data\n",
    "\n",
    "* Connecting Weaviate instance to LlamaIndex\n",
    "\n",
    "* Simple query engine"
   ]
  },
  {
   "cell_type": "markdown",
   "metadata": {},
   "source": [
    "## What is [LlamaIndex](https://www.llamaindex.ai/)?"
   ]
  },
  {
   "cell_type": "markdown",
   "metadata": {},
   "source": [
    "#### Framework that enables you to connect LLMs and storage providers together seamlessly.\n",
    "#### LlamaIndex 🤝 Weaviate ➡ Ultimate RAG stack"
   ]
  },
  {
   "cell_type": "markdown",
   "metadata": {},
   "source": [
    "#### [LlamaHub](https://llama-hub-ui.vercel.app/): Enables you to connect to a number of external data sources (Notion, Slack, Web pages, and more!)"
   ]
  },
  {
   "cell_type": "markdown",
   "metadata": {},
   "source": [
    "## Setting up Weaviate\n",
    "\n",
    "We first first to initialize a Weaviate client and hand it over to LlamaIndex. You can do that in different ways:\n",
    "\n",
    "1. Embedded - Runs a local Weaviate cluster. Works on Linux and Mac.\n",
    "\n",
    "2. WCD - Connects to Weaviate Cloud. You can spin up a free sandbox cluster at https://console.weaviate.cloud/ and get the url and api key.\n",
    "\n",
    "3. Docker - run in Docker. You can use our [docker configurator tool](https://weaviate.io/developers/weaviate/installation/docker-compose#configurator) to get you started."
   ]
  },
  {
   "cell_type": "markdown",
   "metadata": {},
   "source": [
    "Let's first install weaviate client and llama-index along some other dependencies:"
   ]
  },
  {
   "cell_type": "code",
   "execution_count": null,
   "metadata": {},
   "outputs": [],
   "source": [
    "%pip install -U weaviate-client llama-index llama-index-vector-stores-weaviate llama-index-embeddings-openai"
   ]
  },
  {
   "cell_type": "code",
   "execution_count": 1,
   "metadata": {},
   "outputs": [],
   "source": [
    "# let's catch some logs\n",
    "import logging\n",
    "import sys\n",
    "\n",
    "logging.basicConfig(stream=sys.stdout, level=logging.INFO)\n",
    "logging.getLogger().addHandler(logging.StreamHandler(stream=sys.stdout))"
   ]
  },
  {
   "cell_type": "markdown",
   "metadata": {},
   "source": [
    "### Embedded"
   ]
  },
  {
   "cell_type": "code",
   "execution_count": 2,
   "metadata": {},
   "outputs": [
    {
     "name": "stdout",
     "output_type": "stream",
     "text": [
      "INFO:weaviate-client:Started /Users/dudanogueira/.cache/weaviate-embedded: process ID 78735\n",
      "Started /Users/dudanogueira/.cache/weaviate-embedded: process ID 78735\n"
     ]
    },
    {
     "name": "stderr",
     "output_type": "stream",
     "text": [
      "{\"action\":\"startup\",\"build_git_commit\":\"ab0312d5d\",\"build_go_version\":\"go1.23.1\",\"build_image_tag\":\"localhost\",\"build_wv_version\":\"1.26.6\",\"default_vectorizer_module\":\"none\",\"level\":\"info\",\"msg\":\"the default vectorizer modules is set to \\\"none\\\", as a result all new schema classes without an explicit vectorizer setting, will use this vectorizer\",\"time\":\"2024-11-13T15:07:11-03:00\"}\n",
      "{\"action\":\"startup\",\"auto_schema_enabled\":true,\"build_git_commit\":\"ab0312d5d\",\"build_go_version\":\"go1.23.1\",\"build_image_tag\":\"localhost\",\"build_wv_version\":\"1.26.6\",\"level\":\"info\",\"msg\":\"auto schema enabled setting is set to \\\"true\\\"\",\"time\":\"2024-11-13T15:07:11-03:00\"}\n",
      "{\"build_git_commit\":\"ab0312d5d\",\"build_go_version\":\"go1.23.1\",\"build_image_tag\":\"localhost\",\"build_wv_version\":\"1.26.6\",\"level\":\"info\",\"msg\":\"No resource limits set, weaviate will use all available memory and CPU. To limit resources, set LIMIT_RESOURCES=true\",\"time\":\"2024-11-13T15:07:11-03:00\"}\n",
      "{\"build_git_commit\":\"ab0312d5d\",\"build_go_version\":\"go1.23.1\",\"build_image_tag\":\"localhost\",\"build_wv_version\":\"1.26.6\",\"level\":\"info\",\"msg\":\"module offload-s3 is enabled\",\"time\":\"2024-11-13T15:07:11-03:00\"}\n",
      "{\"build_git_commit\":\"ab0312d5d\",\"build_go_version\":\"go1.23.1\",\"build_image_tag\":\"localhost\",\"build_wv_version\":\"1.26.6\",\"level\":\"warning\",\"msg\":\"Multiple vector spaces are present, GraphQL Explore and REST API list objects endpoint module include params has been disabled as a result.\",\"time\":\"2024-11-13T15:07:11-03:00\"}\n",
      "{\"build_git_commit\":\"ab0312d5d\",\"build_go_version\":\"go1.23.1\",\"build_image_tag\":\"localhost\",\"build_wv_version\":\"1.26.6\",\"level\":\"info\",\"msg\":\"open cluster service\",\"servers\":{\"Embedded_at_8079\":50642},\"time\":\"2024-11-13T15:07:11-03:00\"}\n",
      "{\"address\":\"192.168.28.127:50643\",\"build_git_commit\":\"ab0312d5d\",\"build_go_version\":\"go1.23.1\",\"build_image_tag\":\"localhost\",\"build_wv_version\":\"1.26.6\",\"level\":\"info\",\"msg\":\"starting cloud rpc server ...\",\"time\":\"2024-11-13T15:07:11-03:00\"}\n",
      "{\"build_git_commit\":\"ab0312d5d\",\"build_go_version\":\"go1.23.1\",\"build_image_tag\":\"localhost\",\"build_wv_version\":\"1.26.6\",\"level\":\"info\",\"msg\":\"starting raft sub-system ...\",\"time\":\"2024-11-13T15:07:11-03:00\"}\n",
      "{\"address\":\"192.168.28.127:50642\",\"build_git_commit\":\"ab0312d5d\",\"build_go_version\":\"go1.23.1\",\"build_image_tag\":\"localhost\",\"build_wv_version\":\"1.26.6\",\"level\":\"info\",\"msg\":\"tcp transport\",\"tcpMaxPool\":3,\"tcpTimeout\":10000000000,\"time\":\"2024-11-13T15:07:11-03:00\"}\n",
      "{\"build_git_commit\":\"ab0312d5d\",\"build_go_version\":\"go1.23.1\",\"build_image_tag\":\"localhost\",\"build_wv_version\":\"1.26.6\",\"level\":\"info\",\"msg\":\"loading local db\",\"time\":\"2024-11-13T15:07:11-03:00\"}\n",
      "{\"build_git_commit\":\"ab0312d5d\",\"build_go_version\":\"go1.23.1\",\"build_image_tag\":\"localhost\",\"build_wv_version\":\"1.26.6\",\"level\":\"info\",\"msg\":\"local DB successfully loaded\",\"time\":\"2024-11-13T15:07:11-03:00\"}\n",
      "{\"build_git_commit\":\"ab0312d5d\",\"build_go_version\":\"go1.23.1\",\"build_image_tag\":\"localhost\",\"build_wv_version\":\"1.26.6\",\"level\":\"info\",\"msg\":\"schema manager loaded\",\"n\":0,\"time\":\"2024-11-13T15:07:11-03:00\"}\n",
      "{\"build_git_commit\":\"ab0312d5d\",\"build_go_version\":\"go1.23.1\",\"build_image_tag\":\"localhost\",\"build_wv_version\":\"1.26.6\",\"level\":\"info\",\"metadata_only_voters\":false,\"msg\":\"construct a new raft node\",\"name\":\"Embedded_at_8079\",\"time\":\"2024-11-13T15:07:11-03:00\"}\n",
      "{\"action\":\"raft\",\"build_git_commit\":\"ab0312d5d\",\"build_go_version\":\"go1.23.1\",\"build_image_tag\":\"localhost\",\"build_wv_version\":\"1.26.6\",\"index\":118,\"level\":\"info\",\"msg\":\"raft initial configuration\",\"servers\":\"[[{Suffrage:Voter ID:Embedded_at_8079 Address:192.168.28.99:59667}]]\",\"time\":\"2024-11-13T15:07:11-03:00\"}\n",
      "{\"build_git_commit\":\"ab0312d5d\",\"build_go_version\":\"go1.23.1\",\"build_image_tag\":\"localhost\",\"build_wv_version\":\"1.26.6\",\"last_snapshot_index\":0,\"last_store_applied_index_on_start\":121,\"level\":\"info\",\"msg\":\"raft node constructed\",\"raft_applied_index\":0,\"raft_last_index\":121,\"time\":\"2024-11-13T15:07:11-03:00\"}\n",
      "{\"build_git_commit\":\"ab0312d5d\",\"build_go_version\":\"go1.23.1\",\"build_image_tag\":\"localhost\",\"build_wv_version\":\"1.26.6\",\"hasState\":true,\"level\":\"info\",\"msg\":\"raft init\",\"time\":\"2024-11-13T15:07:11-03:00\"}\n",
      "{\"build_git_commit\":\"ab0312d5d\",\"build_go_version\":\"go1.23.1\",\"build_image_tag\":\"localhost\",\"build_wv_version\":\"1.26.6\",\"level\":\"info\",\"msg\":\"attempting to join\",\"remoteNodes\":[\"192.168.28.127:50642\"],\"time\":\"2024-11-13T15:07:11-03:00\"}\n",
      "{\"action\":\"raft\",\"build_git_commit\":\"ab0312d5d\",\"build_go_version\":\"go1.23.1\",\"build_image_tag\":\"localhost\",\"build_wv_version\":\"1.26.6\",\"follower\":{},\"leader-address\":\"\",\"leader-id\":\"\",\"level\":\"info\",\"msg\":\"raft entering follower state\",\"time\":\"2024-11-13T15:07:11-03:00\"}\n",
      "{\"build_git_commit\":\"ab0312d5d\",\"build_go_version\":\"go1.23.1\",\"build_image_tag\":\"localhost\",\"build_wv_version\":\"1.26.6\",\"level\":\"info\",\"msg\":\"attempted to join and failed\",\"remoteNode\":\"192.168.28.127:50642\",\"status\":8,\"time\":\"2024-11-13T15:07:11-03:00\"}\n",
      "{\"build_git_commit\":\"ab0312d5d\",\"build_go_version\":\"go1.23.1\",\"build_image_tag\":\"localhost\",\"build_wv_version\":\"1.26.6\",\"level\":\"info\",\"msg\":\"attempting to join\",\"remoteNodes\":[\"192.168.28.127:50642\"],\"time\":\"2024-11-13T15:07:12-03:00\"}\n",
      "{\"build_git_commit\":\"ab0312d5d\",\"build_go_version\":\"go1.23.1\",\"build_image_tag\":\"localhost\",\"build_wv_version\":\"1.26.6\",\"level\":\"info\",\"msg\":\"attempted to join and failed\",\"remoteNode\":\"192.168.28.127:50642\",\"status\":8,\"time\":\"2024-11-13T15:07:12-03:00\"}\n",
      "{\"action\":\"raft\",\"build_git_commit\":\"ab0312d5d\",\"build_go_version\":\"go1.23.1\",\"build_image_tag\":\"localhost\",\"build_wv_version\":\"1.26.6\",\"last-leader-addr\":\"\",\"last-leader-id\":\"\",\"level\":\"warning\",\"msg\":\"raft heartbeat timeout reached, starting election\",\"time\":\"2024-11-13T15:07:12-03:00\"}\n",
      "{\"action\":\"raft\",\"build_git_commit\":\"ab0312d5d\",\"build_go_version\":\"go1.23.1\",\"build_image_tag\":\"localhost\",\"build_wv_version\":\"1.26.6\",\"level\":\"info\",\"msg\":\"raft entering candidate state\",\"node\":{},\"term\":38,\"time\":\"2024-11-13T15:07:12-03:00\"}\n",
      "{\"action\":\"raft\",\"build_git_commit\":\"ab0312d5d\",\"build_go_version\":\"go1.23.1\",\"build_image_tag\":\"localhost\",\"build_wv_version\":\"1.26.6\",\"level\":\"info\",\"msg\":\"raft pre-vote successful, starting election\",\"refused\":0,\"tally\":1,\"term\":38,\"time\":\"2024-11-13T15:07:12-03:00\",\"votesNeeded\":1}\n",
      "{\"action\":\"raft\",\"build_git_commit\":\"ab0312d5d\",\"build_go_version\":\"go1.23.1\",\"build_image_tag\":\"localhost\",\"build_wv_version\":\"1.26.6\",\"level\":\"info\",\"msg\":\"raft election won\",\"tally\":1,\"term\":38,\"time\":\"2024-11-13T15:07:12-03:00\"}\n",
      "{\"action\":\"raft\",\"build_git_commit\":\"ab0312d5d\",\"build_go_version\":\"go1.23.1\",\"build_image_tag\":\"localhost\",\"build_wv_version\":\"1.26.6\",\"leader\":{},\"level\":\"info\",\"msg\":\"raft entering leader state\",\"time\":\"2024-11-13T15:07:12-03:00\"}\n",
      "{\"build_git_commit\":\"ab0312d5d\",\"build_go_version\":\"go1.23.1\",\"build_image_tag\":\"localhost\",\"build_wv_version\":\"1.26.6\",\"level\":\"info\",\"msg\":\"reload local db: update schema ...\",\"time\":\"2024-11-13T15:07:12-03:00\"}\n",
      "{\"build_git_commit\":\"ab0312d5d\",\"build_go_version\":\"go1.23.1\",\"build_image_tag\":\"localhost\",\"build_wv_version\":\"1.26.6\",\"index\":\"Question\",\"level\":\"info\",\"msg\":\"reload local index\",\"time\":\"2024-11-13T15:07:12-03:00\"}\n"
     ]
    },
    {
     "name": "stdout",
     "output_type": "stream",
     "text": [
      "INFO:httpx:HTTP Request: GET http://localhost:8079/v1/.well-known/openid-configuration \"HTTP/1.1 404 Not Found\"\n",
      "HTTP Request: GET http://localhost:8079/v1/.well-known/openid-configuration \"HTTP/1.1 404 Not Found\"\n",
      "INFO:httpx:HTTP Request: GET http://localhost:8079/v1/meta \"HTTP/1.1 200 OK\"\n",
      "HTTP Request: GET http://localhost:8079/v1/meta \"HTTP/1.1 200 OK\"\n",
      "INFO:httpx:HTTP Request: GET http://localhost:8079/v1/.well-known/ready \"HTTP/1.1 200 OK\"\n",
      "HTTP Request: GET http://localhost:8079/v1/.well-known/ready \"HTTP/1.1 200 OK\"\n"
     ]
    },
    {
     "name": "stderr",
     "output_type": "stream",
     "text": [
      "{\"build_git_commit\":\"ab0312d5d\",\"build_go_version\":\"go1.23.1\",\"build_image_tag\":\"localhost\",\"build_wv_version\":\"1.26.6\",\"docker_image_tag\":\"localhost\",\"level\":\"info\",\"msg\":\"configured versions\",\"server_version\":\"1.26.6\",\"time\":\"2024-11-13T15:07:13-03:00\"}\n",
      "{\"action\":\"grpc_startup\",\"build_git_commit\":\"ab0312d5d\",\"build_go_version\":\"go1.23.1\",\"build_image_tag\":\"localhost\",\"build_wv_version\":\"1.26.6\",\"level\":\"info\",\"msg\":\"grpc server listening at [::]:50050\",\"time\":\"2024-11-13T15:07:13-03:00\"}\n",
      "{\"address\":\"192.168.28.127:50642\",\"build_git_commit\":\"ab0312d5d\",\"build_go_version\":\"go1.23.1\",\"build_image_tag\":\"localhost\",\"build_wv_version\":\"1.26.6\",\"level\":\"info\",\"msg\":\"current Leader\",\"time\":\"2024-11-13T15:07:13-03:00\"}\n",
      "{\"action\":\"restapi_management\",\"build_git_commit\":\"ab0312d5d\",\"build_go_version\":\"go1.23.1\",\"build_image_tag\":\"localhost\",\"build_wv_version\":\"1.26.6\",\"docker_image_tag\":\"localhost\",\"level\":\"info\",\"msg\":\"Serving weaviate at http://127.0.0.1:8079\",\"time\":\"2024-11-13T15:07:13-03:00\"}\n",
      "{\"build_git_commit\":\"ab0312d5d\",\"build_go_version\":\"go1.23.1\",\"build_image_tag\":\"localhost\",\"build_wv_version\":\"1.26.6\",\"level\":\"info\",\"msg\":\"attempting to join\",\"remoteNodes\":[\"192.168.28.127:50642\"],\"time\":\"2024-11-13T15:07:13-03:00\"}\n",
      "{\"action\":\"raft\",\"build_git_commit\":\"ab0312d5d\",\"build_go_version\":\"go1.23.1\",\"build_image_tag\":\"localhost\",\"build_wv_version\":\"1.26.6\",\"command\":0,\"level\":\"info\",\"msg\":\"raft updating configuration\",\"server-addr\":\"192.168.28.127:50642\",\"server-id\":\"Embedded_at_8079\",\"servers\":\"[[{Suffrage:Voter ID:Embedded_at_8079 Address:192.168.28.127:50642}]]\",\"time\":\"2024-11-13T15:07:13-03:00\"}\n"
     ]
    },
    {
     "name": "stdout",
     "output_type": "stream",
     "text": [
      "INFO:httpx:HTTP Request: GET https://pypi.org/pypi/weaviate-client/json \"HTTP/1.1 200 OK\"\n",
      "HTTP Request: GET https://pypi.org/pypi/weaviate-client/json \"HTTP/1.1 200 OK\"\n"
     ]
    },
    {
     "name": "stderr",
     "output_type": "stream",
     "text": [
      "{\"action\":\"lsm_recover_from_active_wal\",\"build_git_commit\":\"ab0312d5d\",\"build_go_version\":\"go1.23.1\",\"build_image_tag\":\"localhost\",\"build_wv_version\":\"1.26.6\",\"class\":\"Question\",\"index\":\"question\",\"level\":\"warning\",\"msg\":\"empty write-ahead-log found. Did weaviate crash prior to this or the tenant on/loaded from the cloud? Nothing to recover from this file.\",\"path\":\"/Users/dudanogueira/.local/share/weaviate/question/Ho4YWAbg0Vek/lsm/property_answer/segment-1731247053620799000\",\"shard\":\"Ho4YWAbg0Vek\",\"time\":\"2024-11-13T15:07:14-03:00\"}\n",
      "{\"action\":\"lsm_recover_from_active_wal\",\"build_git_commit\":\"ab0312d5d\",\"build_go_version\":\"go1.23.1\",\"build_image_tag\":\"localhost\",\"build_wv_version\":\"1.26.6\",\"class\":\"Question\",\"index\":\"question\",\"level\":\"warning\",\"msg\":\"empty write-ahead-log found. Did weaviate crash prior to this or the tenant on/loaded from the cloud? Nothing to recover from this file.\",\"path\":\"/Users/dudanogueira/.local/share/weaviate/question/Ho4YWAbg0Vek/lsm/property__id/segment-1731247053551099000\",\"shard\":\"Ho4YWAbg0Vek\",\"time\":\"2024-11-13T15:07:14-03:00\"}\n",
      "{\"action\":\"lsm_recover_from_active_wal\",\"build_git_commit\":\"ab0312d5d\",\"build_go_version\":\"go1.23.1\",\"build_image_tag\":\"localhost\",\"build_wv_version\":\"1.26.6\",\"class\":\"Question\",\"index\":\"question\",\"level\":\"warning\",\"msg\":\"empty write-ahead-log found. Did weaviate crash prior to this or the tenant on/loaded from the cloud? Nothing to recover from this file.\",\"path\":\"/Users/dudanogueira/.local/share/weaviate/question/Ho4YWAbg0Vek/lsm/property_question/segment-1731247053575976000\",\"shard\":\"Ho4YWAbg0Vek\",\"time\":\"2024-11-13T15:07:14-03:00\"}\n",
      "{\"action\":\"lsm_recover_from_active_wal\",\"build_git_commit\":\"ab0312d5d\",\"build_go_version\":\"go1.23.1\",\"build_image_tag\":\"localhost\",\"build_wv_version\":\"1.26.6\",\"class\":\"Question\",\"index\":\"question\",\"level\":\"warning\",\"msg\":\"empty write-ahead-log found. Did weaviate crash prior to this or the tenant on/loaded from the cloud? Nothing to recover from this file.\",\"path\":\"/Users/dudanogueira/.local/share/weaviate/question/Ho4YWAbg0Vek/lsm/property_category/segment-1731247053588052000\",\"shard\":\"Ho4YWAbg0Vek\",\"time\":\"2024-11-13T15:07:14-03:00\"}\n",
      "{\"action\":\"lsm_recover_from_active_wal\",\"build_git_commit\":\"ab0312d5d\",\"build_go_version\":\"go1.23.1\",\"build_image_tag\":\"localhost\",\"build_wv_version\":\"1.26.6\",\"class\":\"Question\",\"index\":\"question\",\"level\":\"warning\",\"msg\":\"empty write-ahead-log found. Did weaviate crash prior to this or the tenant on/loaded from the cloud? Nothing to recover from this file.\",\"path\":\"/Users/dudanogueira/.local/share/weaviate/question/Ho4YWAbg0Vek/lsm/objects/segment-1731247053563272000\",\"shard\":\"Ho4YWAbg0Vek\",\"time\":\"2024-11-13T15:07:14-03:00\"}\n",
      "{\"action\":\"lsm_recover_from_active_wal\",\"build_git_commit\":\"ab0312d5d\",\"build_go_version\":\"go1.23.1\",\"build_image_tag\":\"localhost\",\"build_wv_version\":\"1.26.6\",\"class\":\"Question\",\"index\":\"question\",\"level\":\"warning\",\"msg\":\"empty write-ahead-log found. Did weaviate crash prior to this or the tenant on/loaded from the cloud? Nothing to recover from this file.\",\"path\":\"/Users/dudanogueira/.local/share/weaviate/question/Ho4YWAbg0Vek/lsm/property_answer_searchable/segment-1731247053631729000\",\"shard\":\"Ho4YWAbg0Vek\",\"time\":\"2024-11-13T15:07:14-03:00\"}\n",
      "{\"action\":\"lsm_recover_from_active_wal\",\"build_git_commit\":\"ab0312d5d\",\"build_go_version\":\"go1.23.1\",\"build_image_tag\":\"localhost\",\"build_wv_version\":\"1.26.6\",\"class\":\"Question\",\"index\":\"question\",\"level\":\"warning\",\"msg\":\"empty write-ahead-log found. Did weaviate crash prior to this or the tenant on/loaded from the cloud? Nothing to recover from this file.\",\"path\":\"/Users/dudanogueira/.local/share/weaviate/question/Ho4YWAbg0Vek/lsm/property_question_searchable/segment-1731247053597730000\",\"shard\":\"Ho4YWAbg0Vek\",\"time\":\"2024-11-13T15:07:14-03:00\"}\n",
      "{\"action\":\"lsm_recover_from_active_wal\",\"build_git_commit\":\"ab0312d5d\",\"build_go_version\":\"go1.23.1\",\"build_image_tag\":\"localhost\",\"build_wv_version\":\"1.26.6\",\"class\":\"Question\",\"index\":\"question\",\"level\":\"warning\",\"msg\":\"empty write-ahead-log found. Did weaviate crash prior to this or the tenant on/loaded from the cloud? Nothing to recover from this file.\",\"path\":\"/Users/dudanogueira/.local/share/weaviate/question/Ho4YWAbg0Vek/lsm/property_category_searchable/segment-1731247053610366000\",\"shard\":\"Ho4YWAbg0Vek\",\"time\":\"2024-11-13T15:07:14-03:00\"}\n",
      "{\"action\":\"hnsw_prefill_cache_async\",\"build_git_commit\":\"ab0312d5d\",\"build_go_version\":\"go1.23.1\",\"build_image_tag\":\"localhost\",\"build_wv_version\":\"1.26.6\",\"level\":\"info\",\"msg\":\"not waiting for vector cache prefill, running in background\",\"time\":\"2024-11-13T15:07:14-03:00\",\"wait_for_cache_prefill\":false}\n",
      "{\"build_git_commit\":\"ab0312d5d\",\"build_go_version\":\"go1.23.1\",\"build_image_tag\":\"localhost\",\"build_wv_version\":\"1.26.6\",\"level\":\"info\",\"msg\":\"Completed loading shard question_Ho4YWAbg0Vek in 28.006709ms\",\"time\":\"2024-11-13T15:07:14-03:00\"}\n",
      "{\"action\":\"hnsw_vector_cache_prefill\",\"build_git_commit\":\"ab0312d5d\",\"build_go_version\":\"go1.23.1\",\"build_image_tag\":\"localhost\",\"build_wv_version\":\"1.26.6\",\"count\":3000,\"index_id\":\"main\",\"level\":\"info\",\"limit\":1000000000000,\"msg\":\"prefilled vector cache\",\"time\":\"2024-11-13T15:07:14-03:00\",\"took\":804292}\n",
      "{\"action\":\"telemetry_push\",\"build_git_commit\":\"ab0312d5d\",\"build_go_version\":\"go1.23.1\",\"build_image_tag\":\"localhost\",\"build_wv_version\":\"1.26.6\",\"level\":\"info\",\"msg\":\"telemetry started\",\"payload\":\"\\u0026{MachineID:4ab7d1a7-0048-46a1-b3e7-97e9f9808dc5 Type:INIT Version:1.26.6 NumObjects:0 OS:darwin Arch:arm64 UsedModules:[generative-openai text2vec-openai]}\",\"time\":\"2024-11-13T15:07:14-03:00\"}\n"
     ]
    }
   ],
   "source": [
    "import weaviate\n",
    "\n",
    "client = weaviate.connect_to_embedded()"
   ]
  },
  {
   "cell_type": "markdown",
   "metadata": {},
   "source": [
    "### WCD"
   ]
  },
  {
   "cell_type": "code",
   "execution_count": null,
   "metadata": {},
   "outputs": [],
   "source": [
    "import weaviate\n",
    "import os\n",
    "  \n",
    "# Set these environment variables\n",
    "URL = os.getenv(\"WCD_URL\")\n",
    "APIKEY = os.getenv(\"WCD_API_KEY\")\n",
    "  \n",
    "# Connect to a WCD instance\n",
    "client = weaviate.connect_to_weaviate_cloud(\n",
    "    cluster_url=URL,\n",
    "    auth_credentials=weaviate.auth.AuthApiKey(APIKEY)\n",
    ")"
   ]
  },
  {
   "cell_type": "markdown",
   "metadata": {},
   "source": [
    "### Docker"
   ]
  },
  {
   "cell_type": "markdown",
   "metadata": {},
   "source": [
    "In order to run with docker, you can use our [docker configurator tool](https://weaviate.io/developers/weaviate/installation/docker-compose#configurator). \n",
    "\n",
    "Once you have Weaviate running with docker, you can get the client with:"
   ]
  },
  {
   "cell_type": "code",
   "execution_count": null,
   "metadata": {},
   "outputs": [],
   "source": [
    "import weaviate\n",
    "from weaviate import classes as wvc\n",
    "  \n",
    "# Connect to a local instance\n",
    "client = weaviate.connect_to_local()"
   ]
  },
  {
   "cell_type": "markdown",
   "metadata": {},
   "source": [
    "### Collection\n",
    "Let's create our collection before hand, and specify a model to use. This model must be the same one used in LlamaIndex."
   ]
  },
  {
   "cell_type": "code",
   "execution_count": null,
   "metadata": {},
   "outputs": [],
   "source": [
    "from weaviate import classes as wvc\n",
    "# clean slate\n",
    "client.collections.delete(\"BlogPost\")\n",
    "\n",
    "collection = client.collections.create(\n",
    "    name=\"BlogPost\",\n",
    "    description=\"Blog post from the Weaviate website.\",\n",
    "    vectorizer_config=wvc.config.Configure.Vectorizer.text2vec_openai(\n",
    "        model=\"text-embedding-3-small\"\n",
    "    ),\n",
    "    generative_config=wvc.config.Configure.Generative.openai(\n",
    "        model=\"gpt-3.5-turbo\"\n",
    "    ),\n",
    "    properties=[\n",
    "        wvc.config.Property(name=\"text\", description=\"Content from the blog post\", data_type=wvc.config.DataType.TEXT)\n",
    "    ]\n",
    ")\n",
    "\n",
    "print(\"Collection was created.\")"
   ]
  },
  {
   "cell_type": "markdown",
   "metadata": {},
   "source": [
    "## Adding Data to Weaviate using LlamaIndex"
   ]
  },
  {
   "cell_type": "markdown",
   "metadata": {},
   "source": [
    "### SimpleDirectoryReader: Read files in your filesystem"
   ]
  },
  {
   "cell_type": "code",
   "execution_count": null,
   "metadata": {},
   "outputs": [],
   "source": [
    "from llama_index.core import SimpleDirectoryReader\n",
    "\n",
    "documents = SimpleDirectoryReader('./data').load_data()"
   ]
  },
  {
   "cell_type": "markdown",
   "metadata": {},
   "source": [
    "### SimpleWebPageReader: Web scraper that turns HTML to text"
   ]
  },
  {
   "cell_type": "code",
   "execution_count": null,
   "metadata": {},
   "outputs": [],
   "source": [
    "from llama_index.readers.web import SimpleWebPageReader\n",
    "\n",
    "loader = SimpleWebPageReader()\n",
    "documents = loader.load_data(urls=['https://weaviate.io/blog/llamaindex-and-weaviate'])"
   ]
  },
  {
   "cell_type": "markdown",
   "metadata": {},
   "source": [
    "### NotionPageReader: Loads documents from Notion"
   ]
  },
  {
   "cell_type": "code",
   "execution_count": null,
   "metadata": {},
   "outputs": [],
   "source": [
    "%pip install llama-index-readers-notion"
   ]
  },
  {
   "cell_type": "code",
   "execution_count": null,
   "metadata": {},
   "outputs": [],
   "source": [
    "from llama_index.readers.notion import NotionPageReader\n",
    "\n",
    "integration_token = (\"secret_key\")\n",
    "page_ids = [\"40be241cac924a5aa887fa85e945dbf6\"]\n",
    "reader = NotionPageReader(integration_token=integration_token)\n",
    "documents = reader.load_data(page_ids=page_ids)"
   ]
  },
  {
   "cell_type": "markdown",
   "metadata": {},
   "source": [
    "### Inspecting the nodes of you documents"
   ]
  },
  {
   "cell_type": "code",
   "execution_count": null,
   "metadata": {},
   "outputs": [],
   "source": [
    "from llama_index.core.node_parser import SimpleNodeParser\n",
    "\n",
    "parser = SimpleNodeParser()\n",
    "nodes = parser.get_nodes_from_documents(documents)\n",
    "print(\"Number of nodes:\", len(nodes))\n",
    "print(nodes[0])"
   ]
  },
  {
   "cell_type": "markdown",
   "metadata": {},
   "source": [
    "### Documents to Weaviate"
   ]
  },
  {
   "cell_type": "code",
   "execution_count": null,
   "metadata": {},
   "outputs": [],
   "source": [
    "from llama_index.vector_stores.weaviate import WeaviateVectorStore\n",
    "from llama_index.core import VectorStoreIndex, StorageContext, Settings\n",
    "from llama_index.embeddings.openai import OpenAIEmbedding\n",
    "import openai\n",
    "import os\n",
    "\n",
    "# global\n",
    "Settings.embed_model = OpenAIEmbedding(model=\"text-embedding-3-small\")\n",
    "\n",
    "# Lets set the OPENAI key\n",
    "# os.environ[\"OPENAI_API_KEY\"] = \"sk-key\"\n",
    "openai.api_key = os.environ[\"OPENAI_API_KEY\"]\n",
    "\n",
    "# loading the documents\n",
    "documents = SimpleDirectoryReader(\"./data/\").load_data()\n",
    "\n",
    "# Let's name our index properly as BlogPost, as we will need it later.\n",
    "vector_store = WeaviateVectorStore(\n",
    "    weaviate_client=client, index_name=\"BlogPost\"\n",
    ")\n",
    "storage_context = StorageContext.from_defaults(vector_store=vector_store)\n",
    "index = VectorStoreIndex.from_documents(\n",
    "    documents, storage_context=storage_context\n",
    ")"
   ]
  },
  {
   "cell_type": "code",
   "execution_count": null,
   "metadata": {},
   "outputs": [],
   "source": [
    "# Let's check if the objects were created\n",
    "collection = client.collections.get(\"BlogPost\")\n",
    "query = collection.query.fetch_objects()\n",
    "if query.objects:\n",
    "    print(\"Objects in this collection:\", len(collection))\n",
    "    print(\"Object properties example:\", query.objects[0].properties)\n",
    "else:\n",
    "    print(\"No objects found in this collection.\")"
   ]
  },
  {
   "cell_type": "markdown",
   "metadata": {},
   "source": [
    "### Query in LlamaIndex"
   ]
  },
  {
   "cell_type": "code",
   "execution_count": null,
   "metadata": {},
   "outputs": [],
   "source": [
    "from llama_index.vector_stores.weaviate import WeaviateVectorStore\n",
    "from llama_index.core import VectorStoreIndex\n",
    "\n",
    "vector_store = WeaviateVectorStore(\n",
    "    weaviate_client=client, index_name=\"BlogPost\"\n",
    ")\n",
    "\n",
    "loaded_index = VectorStoreIndex.from_vector_store(vector_store)\n",
    "\n",
    "query_engine = loaded_index.as_query_engine()\n",
    "response = query_engine.query(\"What is the intersection between LLMs and search?\")\n",
    "print(response)"
   ]
  }
 ],
 "metadata": {
  "kernelspec": {
   "display_name": ".venv",
   "language": "python",
   "name": "python3"
  },
  "language_info": {
   "codemirror_mode": {
    "name": "ipython",
    "version": 3
   },
   "file_extension": ".py",
   "mimetype": "text/x-python",
   "name": "python",
   "nbconvert_exporter": "python",
   "pygments_lexer": "ipython3",
   "version": "3.12.5"
  }
 },
 "nbformat": 4,
 "nbformat_minor": 2
}
