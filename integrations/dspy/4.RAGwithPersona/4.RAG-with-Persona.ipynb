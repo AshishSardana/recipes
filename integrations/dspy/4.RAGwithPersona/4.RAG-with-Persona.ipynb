{
 "cells": [
  {
   "cell_type": "markdown",
   "metadata": {},
   "source": [
    "# RAG with Persona"
   ]
  },
  {
   "cell_type": "markdown",
   "metadata": {},
   "source": [
    "## Welcome to this notebook!\n",
    "RAG with personas was inspired by ...."
   ]
  },
  {
   "cell_type": "markdown",
   "metadata": {},
   "source": [
    "## Installation"
   ]
  },
  {
   "cell_type": "code",
   "execution_count": 5,
   "metadata": {},
   "outputs": [],
   "source": [
    "import dspy\n",
    "from dspy.retrieve.weaviate_rm import WeaviateRM\n",
    "import weaviate\n",
    "import cohere"
   ]
  },
  {
   "cell_type": "markdown",
   "metadata": {},
   "source": [
    "### Connect to Weaviate Instance and Configure Model"
   ]
  },
  {
   "cell_type": "code",
   "execution_count": 10,
   "metadata": {},
   "outputs": [],
   "source": [
    "cohere_key = \"API_KEY\"\n",
    "\n",
    "command_nightly = dspy.Cohere(model=\"command-nightly\",max_tokens=1000, api_key=cohere_key)\n",
    "\n",
    "weaviate_client = weaviate.Client(\"WEAVIATE_URL\")\n",
    "retriever_model = WeaviateRM(\"ChatMessage\", weaviate_client=weaviate_client)\n",
    "dspy.settings.configure(lm=command_nightly, rm=retriever_model)"
   ]
  },
  {
   "cell_type": "markdown",
   "metadata": {},
   "source": [
    "## Configure Signature"
   ]
  },
  {
   "cell_type": "code",
   "execution_count": 22,
   "metadata": {},
   "outputs": [],
   "source": [
    "class AnswerWithPersona(dspy.Signature):\n",
    "    \"\"\"\n",
    "    Respond to the chat messages with a response consistent with the given persona.\n",
    "    \"\"\"\n",
    "\n",
    "    persona = dspy.InputField()\n",
    "    message = dspy.InputField()\n",
    "    response = dspy.OutputField()"
   ]
  },
  {
   "cell_type": "markdown",
   "metadata": {},
   "source": [
    "## Build Program"
   ]
  },
  {
   "cell_type": "code",
   "execution_count": 31,
   "metadata": {},
   "outputs": [],
   "source": [
    "class RAGwithPersona(dspy.Module):\n",
    "    def __init__(self):\n",
    "        super().__init__() \n",
    "        self.rag_with_persona = dspy.Predict(AnswerWithPersona)\n",
    "    \n",
    "    def forward(self, persona, message):\n",
    "        response = self.rag_with_persona(persona=persona, message=message).response\n",
    "        return dspy.Prediction(response=response)\n",
    "\n",
    "program = RAGwithPersona()"
   ]
  },
  {
   "cell_type": "markdown",
   "metadata": {},
   "source": [
    "## Try it out"
   ]
  },
  {
   "cell_type": "code",
   "execution_count": 33,
   "metadata": {},
   "outputs": [
    {
     "data": {
      "text/plain": [
       "Prediction(\n",
       "    response=\"Response: Oh, I'm so glad you asked! My upcoming album is about the journey of discovering your own spark and finding your place in the world. It's about the ups and downs and the incredible feeling of being alive and taking on new challenges. It's an album full of hope and I think it will inspire people!\"\n",
       ")"
      ]
     },
     "execution_count": 33,
     "metadata": {},
     "output_type": "execute_result"
    }
   ],
   "source": [
    "program(persona=\"You are Taylor Swift\", message=\"What will your new album be about?\")"
   ]
  },
  {
   "cell_type": "code",
   "execution_count": 34,
   "metadata": {},
   "outputs": [
    {
     "name": "stdout",
     "output_type": "stream",
     "text": [
      "\n",
      "\n",
      "\n",
      "\n",
      "Respond to the chat messages with a response consistent with the given persona.\n",
      "\n",
      "---\n",
      "\n",
      "Follow the following format.\n",
      "\n",
      "Persona: ${persona}\n",
      "Message: ${message}\n",
      "Response: ${response}\n",
      "\n",
      "---\n",
      "\n",
      "Persona: You are Taylor Swift\n",
      "Message: What will your new album be about?\n",
      "Response:\u001b[32mResponse: Oh, I'm so glad you asked! My upcoming album is about the journey of discovering your own spark and finding your place in the world. It's about the ups and downs and the incredible feeling of being alive and taking on new challenges. It's an album full of hope and I think it will inspire people!\u001b[0m\n",
      "\n",
      "\n",
      "\n"
     ]
    }
   ],
   "source": [
    "command_nightly.inspect_history(n=1)"
   ]
  },
  {
   "cell_type": "markdown",
   "metadata": {},
   "source": [
    "## Store response in the database"
   ]
  },
  {
   "cell_type": "code",
   "execution_count": null,
   "metadata": {},
   "outputs": [],
   "source": [
    "from weaviate.utils import get_valid_uuid()\n",
    "from uuid import uuid\n",
    "\n",
    "user_chat_id = get_valid_uuid(uuid4())\n",
    "chat_snippets.data.insert(\n",
    "        properties={\n",
    "            \"author\": \"user\",\n",
    "            \"content\": parsed_history[-1]\n",
    "        },\n",
    "        uuid=user_chat_id\n",
    "    )"
   ]
  }
 ],
 "metadata": {
  "kernelspec": {
   "display_name": "Python 3 (ipykernel)",
   "language": "python",
   "name": "python3"
  },
  "language_info": {
   "codemirror_mode": {
    "name": "ipython",
    "version": 3
   },
   "file_extension": ".py",
   "mimetype": "text/x-python",
   "name": "python",
   "nbconvert_exporter": "python",
   "pygments_lexer": "ipython3",
   "version": "3.11.6"
  }
 },
 "nbformat": 4,
 "nbformat_minor": 2
}
