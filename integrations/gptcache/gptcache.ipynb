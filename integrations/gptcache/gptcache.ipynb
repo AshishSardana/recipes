{
 "cells": [
  {
   "attachments": {},
   "cell_type": "markdown",
   "metadata": {},
   "source": [
    "# GPTCache and Weaviate ♻️\n",
    "\n",
    "This notebook shows how to configure GPTCache to use Weaviate as the set vector store."
   ]
  },
  {
   "attachments": {},
   "cell_type": "markdown",
   "metadata": {},
   "source": [
    "## Library Imports"
   ]
  },
  {
   "cell_type": "code",
   "execution_count": 1,
   "metadata": {},
   "outputs": [],
   "source": [
    "from gptcache import cache\n",
    "from gptcache.manager import get_data_manager, CacheBase, VectorBase\n",
    "from gptcache.similarity_evaluation.distance import SearchDistanceEvaluation\n",
    "from gptcache.embedding import OpenAI\n",
    "import weaviate\n",
    "import os\n",
    "import sqlite3\n",
    "from gptcache.adapter import openai\n",
    "import timeit"
   ]
  },
  {
   "attachments": {},
   "cell_type": "markdown",
   "metadata": {},
   "source": [
    "## Configuration"
   ]
  },
  {
   "attachments": {},
   "cell_type": "markdown",
   "metadata": {},
   "source": [
    "### Use OpenAI for the embedding"
   ]
  },
  {
   "cell_type": "code",
   "execution_count": 2,
   "metadata": {},
   "outputs": [],
   "source": [
    "openai_embedding_fn = OpenAI().to_embeddings"
   ]
  },
  {
   "attachments": {},
   "cell_type": "markdown",
   "metadata": {},
   "source": [
    "### Use SQLite to cache the requests/responses"
   ]
  },
  {
   "cell_type": "code",
   "execution_count": null,
   "metadata": {},
   "outputs": [],
   "source": [
    "cache_base = CacheBase(\"sqlite\")"
   ]
  },
  {
   "attachments": {},
   "cell_type": "markdown",
   "metadata": {},
   "source": [
    "#### See what is currently in the SQLite database:"
   ]
  },
  {
   "cell_type": "code",
   "execution_count": 4,
   "metadata": {},
   "outputs": [],
   "source": [
    "def dump_cache_content():\n",
    "    cursor = sqlite3.connect(\"sqlite.db\").cursor()\n",
    "    tables = cursor.execute('SELECT * FROM sqlite_master WHERE type=\"table\"').fetchall()\n",
    "\n",
    "    for table in tables:\n",
    "        # Print the table name as a delimiter\n",
    "        print(f\"Results for table {table[1]}:\")\n",
    "        print(\"------------------------\")\n",
    "\n",
    "        # Execute a SELECT * query for the table\n",
    "        cursor.execute(f\"SELECT * FROM {table[1]}\")\n",
    "        results = cursor.fetchall()\n",
    "\n",
    "        # Print the results\n",
    "        for row in results:\n",
    "            print(row)\n",
    "\n",
    "        # Print a blank line to separate the output for each table\n",
    "        print()"
   ]
  },
  {
   "cell_type": "code",
   "execution_count": null,
   "metadata": {},
   "outputs": [],
   "source": [
    "# The database is currently empty\n",
    "\n",
    "dump_cache_content()"
   ]
  },
  {
   "attachments": {},
   "cell_type": "markdown",
   "metadata": {},
   "source": [
    "### Connect to Weaviate"
   ]
  },
  {
   "cell_type": "code",
   "execution_count": null,
   "metadata": {},
   "outputs": [],
   "source": [
    "url = os.getenv(\"WEAVIATE_URL\") # URL to your Weaviate instance\n",
    "api_key = os.getenv(\"WEAVIATE_API_KEY\") # authentication key -- ignore if you don't have this configured\n",
    "auth_config = weaviate.AuthApiKey(api_key=api_key)\n",
    "vector_base = VectorBase(\"weaviate\", url=url, auth_client_secret=auth_config)"
   ]
  },
  {
   "attachments": {},
   "cell_type": "markdown",
   "metadata": {},
   "source": [
    "#### Create a Weaviate client to query the database outside of GPTCache"
   ]
  },
  {
   "cell_type": "code",
   "execution_count": 7,
   "metadata": {},
   "outputs": [],
   "source": [
    "weaviate_client = weaviate.Client(url=url)"
   ]
  },
  {
   "attachments": {},
   "cell_type": "markdown",
   "metadata": {},
   "source": [
    "#### Create class and test connection"
   ]
  },
  {
   "cell_type": "code",
   "execution_count": null,
   "metadata": {},
   "outputs": [],
   "source": [
    "weaviate_class = \"GPTCache\"\n",
    "weaviate_client.schema.get(class_name=weaviate_class)"
   ]
  },
  {
   "attachments": {},
   "cell_type": "markdown",
   "metadata": {},
   "source": [
    "### Initialize the cache"
   ]
  },
  {
   "cell_type": "code",
   "execution_count": 10,
   "metadata": {},
   "outputs": [],
   "source": [
    "data_manager = get_data_manager(cache_base, vector_base)\n",
    "\n",
    "cache.init(\n",
    "    embedding_func=openai_embedding_fn,\n",
    "    data_manager=data_manager,\n",
    "    similarity_evaluation=SearchDistanceEvaluation(max_distance=1)\n",
    ")\n",
    "\n",
    "cache.set_openai_key()"
   ]
  },
  {
   "attachments": {},
   "cell_type": "markdown",
   "metadata": {},
   "source": [
    "Note:\n",
    "\n",
    "In `similarity_evaluation`, we set `max_distance=1` to make the similarity threshold calculation \"work\" using this evaluation metric and cosine similarity (Weaviate's default similarity metric).\n",
    "\n",
    "References:\n",
    "\n",
    "1. [Calculating rank threshold](https://github.com/zilliztech/GPTCache/blob/03a059704443961ae5b6ca243e3edc2dc15aeb2a/gptcache/adapter/adapter.py#L98C1-L107C10)\n",
    "\n",
    "2. [Applying the rank threshold](https://github.com/zilliztech/GPTCache/blob/03a059704443961ae5b6ca243e3edc2dc15aeb2a/gptcache/adapter/adapter.py#L158C1-L176C18)"
   ]
  },
  {
   "attachments": {},
   "cell_type": "markdown",
   "metadata": {},
   "source": [
    "### Calculate the time it takes to query the LLM"
   ]
  },
  {
   "cell_type": "code",
   "execution_count": 11,
   "metadata": {},
   "outputs": [],
   "source": [
    "def timeit_decorator(func):\n",
    "    def wrapper(*args, **kwargs):\n",
    "        # Time the execution of the function\n",
    "        start_time = timeit.default_timer()\n",
    "        result = func(*args, **kwargs)\n",
    "        end_time = timeit.default_timer()\n",
    "\n",
    "        # Print the time taken\n",
    "        print(f\"Time taken to run {func.__name__}: {end_time - start_time:.2f} seconds\")\n",
    "\n",
    "        return result\n",
    "\n",
    "    return wrapper"
   ]
  },
  {
   "cell_type": "code",
   "execution_count": 12,
   "metadata": {},
   "outputs": [],
   "source": [
    "@timeit_decorator\n",
    "def get_openai_response(question):\n",
    "    # Call the OpenAI API to get a response\n",
    "    result = openai.ChatCompletion.create(\n",
    "        model=\"gpt-3.5-turbo\",\n",
    "        messages=[{\"role\": \"user\", \"content\": question}],\n",
    "    )\n",
    "    # Extract the response from the API result\n",
    "    response = result[\"choices\"][0][\"message\"][\"content\"]\n",
    "\n",
    "    # Return the response\n",
    "    return response"
   ]
  },
  {
   "cell_type": "markdown",
   "metadata": {},
   "source": [
    "## Query Time"
   ]
  },
  {
   "attachments": {},
   "cell_type": "markdown",
   "metadata": {},
   "source": [
    "#### Let's first ask \"Who is Barrack Obama\""
   ]
  },
  {
   "cell_type": "code",
   "execution_count": 13,
   "metadata": {},
   "outputs": [
    {
     "name": "stdout",
     "output_type": "stream",
     "text": [
      "Time taken to run get_openai_response: 4.14 seconds\n"
     ]
    },
    {
     "data": {
      "text/plain": [
       "'Barack Obama is an American politician who served as the 44th President of the United States from 2009 to 2017. He was the first African American to be elected to the presidency. Prior to becoming president, Obama was a lawyer, community organizer, and served as a U.S. Senator from Illinois. During his presidency, he implemented various policies such as the Affordable Care Act, the economic stimulus package, and the Paris Agreement on climate change. Obama is known for his charisma, eloquence, and progressive approach to governance.'"
      ]
     },
     "execution_count": 13,
     "metadata": {},
     "output_type": "execute_result"
    }
   ],
   "source": [
    "question = \"Who is Barrack Obama?\"\n",
    "\n",
    "get_openai_response(question)"
   ]
  },
  {
   "attachments": {},
   "cell_type": "markdown",
   "metadata": {},
   "source": [
    "#### Let's ask the same question again and note how long the response takes"
   ]
  },
  {
   "cell_type": "code",
   "execution_count": 14,
   "metadata": {},
   "outputs": [
    {
     "name": "stdout",
     "output_type": "stream",
     "text": [
      "Time taken to run get_openai_response: 1.06 seconds\n"
     ]
    },
    {
     "data": {
      "text/plain": [
       "'Barack Obama is an American politician who served as the 44th President of the United States from 2009 to 2017. He was the first African American to be elected to the presidency. Prior to becoming president, Obama was a lawyer, community organizer, and served as a U.S. Senator from Illinois. During his presidency, he implemented various policies such as the Affordable Care Act, the economic stimulus package, and the Paris Agreement on climate change. Obama is known for his charisma, eloquence, and progressive approach to governance.'"
      ]
     },
     "execution_count": 14,
     "metadata": {},
     "output_type": "execute_result"
    }
   ],
   "source": [
    "get_openai_response(question)"
   ]
  },
  {
   "attachments": {},
   "cell_type": "markdown",
   "metadata": {},
   "source": [
    "#### Let's rephrase the same question"
   ]
  },
  {
   "cell_type": "code",
   "execution_count": 15,
   "metadata": {},
   "outputs": [
    {
     "name": "stdout",
     "output_type": "stream",
     "text": [
      "Time taken to run get_openai_response: 0.29 seconds\n"
     ]
    },
    {
     "data": {
      "text/plain": [
       "'Barack Obama is an American politician who served as the 44th President of the United States from 2009 to 2017. He was the first African American to be elected to the presidency. Prior to becoming president, Obama was a lawyer, community organizer, and served as a U.S. Senator from Illinois. During his presidency, he implemented various policies such as the Affordable Care Act, the economic stimulus package, and the Paris Agreement on climate change. Obama is known for his charisma, eloquence, and progressive approach to governance.'"
      ]
     },
     "execution_count": 15,
     "metadata": {},
     "output_type": "execute_result"
    }
   ],
   "source": [
    "# This question is very similar to the above question and the response time is still very quick\n",
    "\n",
    "rephrase_question = \"Tell me more about Barrak Obama\"\n",
    "get_openai_response(rephrase_question)"
   ]
  },
  {
   "attachments": {},
   "cell_type": "markdown",
   "metadata": {},
   "source": [
    "#### Now let's look at the content stored in the SQLite database"
   ]
  },
  {
   "cell_type": "code",
   "execution_count": 16,
   "metadata": {},
   "outputs": [
    {
     "name": "stdout",
     "output_type": "stream",
     "text": [
      "Results for table gptcache_question:\n",
      "------------------------\n",
      "(1, 'Who is Barrack Obama?', '2023-08-02 19:17:43.712593', '2023-08-02 19:18:01.232519', b'q$=\\xbc\\xa6k\\x04\\xbdtKY\\xbc\\xda\\xf4\\x93\\xbc\\xa4\\xc3d\\xbc1\\xc8\\xb6\\xbb\\xf4|\\xb4\\xbb\\x93\\x8c\\x1d;\\xa9/\\xea\\xbc\\xf8a\\x88\\xbb\\t\\xaf\\xe7<\\xbd\\xe2 \\xbb\\x0fJ>;\\xad\\x9b\\xef:Y<\\x87<\\xac\\xa3\\xa4\\xbb\\xe1\\x00\\x04=\\xec\\x8e\\x91\\xbc\\xaa\\xed\\xa1<\\xbc\\x87\\x9f\\xbc\\x11\\x16Y\\xbcn\\xfd\\xa0\\xbc\\xca\\x10\\x19<\\x8d\\xc5\\x16<\\x06\\xeb\\x81\\xbbc\\x0c];\"\\xc6\\xee<n\\xfd\\xa0\\xbcVA\\x1b<\\xc1d>\\xbdF]\\xa0<54\\xbc\\xbci \\x82\\xbc\\xf3\\xbe|\\xbcQ\\xeb\\xad\\xbcvz*\\xbc\\x96:\\xeb\\xbb\\xde`\\x19\\xbce%\\x96<\\x16V.9\\xe6z\\xec<\\xec\\xff\\xaa;\\xa7\\xc6\\x85\\xba\\x94\\x84\\xe8\\xbb\\xc0\\xf3\\xa4\\xbc\\xe2\\xe26\\xbc\\xac*V\\xba\\xa6k\\x04\\xbd\\xb3L\\xde\\xbc\\xed\\xe9\\x92<\\x1f\\xa7\\x07=<V\\xc4<y\\x8b\\xae\\xbb\\xb8)}\\xbc@\\xac1\\xbc5\\xad\\x8a\\xbb\\n\\xfc\\x05\\xbdon:\\xb9\\x9a\\xa6p\\xbb\\xab\\xcf\\xd4\\xba\\xda{E<GG\\x08<\\xf3\\x0b\\x1b\\xbc\\xba\\xdf\\xff;\\r\\x94\\xbb;*-`\\xbc=\"_\\xbc\\xa5\\x974=\"?=\\xbc\\t\\xafg<8\\xd4&=\\x82c\\xb9<\\xb3L^\\xba\\xf4\\xf5\\x02\\xbc3~\\xb9<(w];\\xe6z\\xec\\xbc\\x18\\xa9\\xfa\\xbaeQ\\xc6\\xbbb**\\xbc\\x8f\\x911<&:\\xa9\\xbc1O\\xe8\\xbb}\\x86\\x9a<GG\\x08;\\xb36\\xc6;?\\xd8\\xe1:\\xee\\xe1]<\\xf0\\xfa\\x16\\xbd\\xcb\\xfa\\x80\\xbb\\xc2\\xbf\\xbf\\xbb\\x12\\x87r;\\r\\x1b\\xed<3\\x05\\xeb<\\x9b\\xf3\\x0e\\xbc\\x7f\\xd9\\xe6<\\x0c\\xb2\\x88\\xbc\\xa1\\x9c\\xc8<\\xcd\\xb0\\x03<\\xc3\\x1a\\xc1\\xbc\\x82M\\xa1<\\xff\\xf4)\\xbcF\\xfa\\xe9\\xbc\\xd0\\xd7\\x1f\\xbcd}\\xf6\\xb9\\xfd(\\x8f\\xbc\\x93v\\x85\\xbc\\xf8w\\xa09\\x91\\xce\\xe5<\\xf9\\xbc\\x89\\xbb\\x14=u<\\xb0\\x9e\\x10=F]\\xa0<P\\x17^\\xbdW\\x86\\x84\\xbc\\xa9\\x92\\xa0\\xbc\\xd8\\xaf*\\xbc\\xde\\xe7\\xca\\xbc*5\\x15\\xbbK\\xc9\\xa5\\xbc7c\\r=}\\x94}<\\xc2\\xbf\\xbf<\\xc5\\xba\\xab;\\x97\\xe2\\x8a;Cb\\xb4;\\x95,\\x08\\xbd\\xe6d\\xd4:\\xe5\\x82\\xa1;\\x95,\\x88\\xbb\\x81\\x8f\\xe9:\\xb5{/<co\\x93<\\xfe\\x99\\xa8\\xbc\\x91G4<<\\xdd\\xf5<\\xfa-#\\xbd@\\xac1<\\x87\\xa3\\x8e\\xbc\\xbc\\x87\\x1f\\xbd\\x9c\\xbf);\\x87\\x14(<\\xac\\xa3\\xa4<\\n\\xfc\\x85\\xbc\\xe6dT\\xbcBx\\xcc<\\x02\\x06\\xae<8E\\xc0<L\\xabX<\\x13/\\x12;\\x08\\xb7\\x9c<\\xa4&\\x1b=\\xeb\\xba\\xc1<\\x1b\\xac\\x1b\\xbb\\x8f{\\x19<_\\x11\\xf1<e\\xc2_\\xbb\\xf4|4<3\\x05k\\xbc\\x96:\\xeb\\xbc\\xf7\\x8d8;\\x921\\x1c\\xbc\\xe5\\t\\xd3;\\x89\\xf6Z\\xbb\\x82\\xd4\\xd2\\xbb}\\r\\xcc<,\\xeb\\x97;\\xb6\\xd60<4\\xd9\\xba\\xbc;\\xcf\\x92<Q\\x01\\xc6:\\xf2Mc<\\xc0\\xdd\\x8c\\xbc\\xe9u\\xd8<\\x9cN\\x10<\\xa2p\\x98<r\\xf8\\x8c\\xbc\\xa6\\x08\\xce\\xbbL\\xabX\\xbc\\xc0\\xf3\\xa4;\\xcd7\\xb5\\xbc\\xcd\\xd4~<{A\\xb1<\\xa9/\\xea<\\xc4_*\\xbc\\x1eZ\\xe9\\xb8\\xe7\"\\x0c<oX\\xa2\\xbc-T|<\\x1f\\xa7\\x87;\\xab\\xe5l<-F\\x99<\\x81\\x088\\xbc\\xe4\\x11\\x88<\\x87\\x14(\\xbf\\xb7\\xb8c\\xbc\\x10\\x1e\\x0e\\xbdyu\\x16<8\\xbe\\x8e;\\xe9uX<@;\\x18<H);<\\x1a\\xee\\xe3\\xbb\\x00f\\xc3\\xbb-T|;W\\x86\\x04<l\\xceO\\xbb\\x1f\\x18\\xa1\\xbc\\xb1\\xf9\\x91\\xbc\\xfb%n\\xbc\\xb8\\x8c3:\\x04\\xd2H\\xbc\\xde\\x13{\\xbb\\nm\\x9f\\xbc\\xaeY\\xa7\\xbc\\xab\\xe5l<K\\xc9%<i\\xa7\\xb3\\xbc\\xb1\\x80C;\\xff\\x91s<l\\xe4\\xe7:{W\\xc9\\xbc}\\xf7\\xb3\\xbc\\xca\\xad\\xe2;\\xe1\\x9dM\\xbc>\\x93\\xf8<b\\x14\\x92<B\\xf1\\x9a\\xbc\\x9d\\xa9\\x11=\\x0c9:\\xbcn\\xe7\\x08\\xbd\\x11\\x16Y<\\x13/\\x12\\xbc\\xf4\\xedM<\\xd96\\\\\\xbc\\x8f{\\x19\\xbc]M\\x8b<x\\xb7^\\xbc,\\xeb\\x97\\xbc\\xe4\\x11\\x88;\\xb8v\\x1b<k\\xec\\x1c;m)\\xd1;\\xa2p\\x18\\xbbp\\xc9\\xbb;2\\x9c\\x06=\\xd6\\x80Y\\xbc:\\xfb\\xc2\\xbb\\x90e\\x01\\xbd`^\\x0f\\xbc-\\xe3\\xe2\\xba\\x9e\\x04\\x93\\xbc-0\\x01\\xbc\\x00f\\xc3\\xbb\\xce\\x0b\\x85< \\x9f\\xd2<\\xba\\xd1\\x9c\\xbcO5+;\\xdb\\xec\\xde;_\\x03\\x8e<%\\xdf\\xa7\\xbc\\x9c\\xeb\\xd9<sS\\x8e<\\xc28\\x8e\\xbc\\xbb$i<\\xf4\\x03f<\\t(6<\\xa1+\\xaf;\\xdbO\\x95<\\x1eZ\\xe9\\xbb\\x9e\\x04\\x93<\\xa5\\x97\\xb4\\xbc\\x0e~#<\\x14\\xa0\\xab:-\\xe3b\\xbc-F\\x19\\xbc\\x15\\x82^\\xbb\\x11\\x16Y\\xbc\\x00\\xdf\\x91<\\x01Hv<\\x84\\x92\\n\\xbd\\xe0\\x16\\x9c;A\\x1d\\xcb;\\x8c\\x1d\\xf7\\xbbF\\xe4Q<\\x9c\\xd5\\xc1<\\xfcj\\xd7;\\xf2\\xb0\\x99\\xbcd\\xca\\x14\\xbcS>z;\\xac\\xb9\\xbc\\xbc\\xe1q\\x9d:]M\\x0b<U\\xd0\\x81<\\xa0\\xba\\x15<r\\x95V;eQF<5\\xad\\x8a;\\xd5\\x88\\x0e;\\xb6\\xd6\\xb0:O\\xd2t\\xbc#\\x13\\r<{\\xdez<\\x96\\xb39\\xbc\\xe8\\x93\\xa5<oX\"\\xbc\\x8f\\x18c\\xbb\\x0cO\\xd2\\xbb \\x9fR;\\x9e\\x04\\x93\\xbc\\x04\\xd2\\xc8;[\\x97\\x88<x0\\xad<\\xce\\xa8N\\xbcX~\\xcf;W#\\xce:\\x1b\\xc23<c\\x85\\xab\\xbc/\\n\\xff\\xb8\\xc6\\xa4\\x93<\\xce\\xa8N\\xbb\\xd2\\xfe\\xbb\\xbc\\x87\\xb1\\xf1\\xbc\\x16\\xf3\\xf7;DDg\\xbb\\x95B\\xa0\\xbb\\x01\\xc1D\\xbb\\xd7\\xf1\\xf2\\xbb[\\xa5\\xeb<-\\xe3b<\\xed\\xe9\\x92:S\\xa10\\xbb~\\xcb\\x83\\xbcpB\\x8a\\xbb\\x8f\\n\\x80\\xbc\\xdb\\xec\\xde;C\\xd3M<\\x85t=<\\xe5\\x82!\\xbd\\x85\\xed\\x8b\\xbc1\\xb2\\x9e\\xbb&\\xc1Z\\xbc\\xa1\\x15\\x17\\xbd\\x9f\\xe6\\xc5<\\xa7\\xdc\\x9d<$\\x0bX\\xbc\\x89o)\\xbc1A\\x85<\\xb3\\xaf\\x14:)aE\\xbc\\x01H\\xf6\\xbcG?S\\xbc\\xbf\\x82\\x0b\\xbc\\xe8}\\r<\\x7f&\\x85<,\\\\1<\\xb6\\xc0\\x18\\xbc<V\\xc4;,\\xeb\\x97<@\\xc2\\xc9;\\xb3L\\xde;C6\\x04<P\\x17\\xde\\xbb\\xb4\\n\\x96\\xbc\\xca\\x97\\xca<?gH\\xbcb**\\xbcj{\\x03\\xbc|\\x9c2\\xbc\\xd1\\x1c\\x89\\xbbhL2<aVZ\\xbc\\x95B \\xbc$\\xf5?<\\x07\\xe3L<\\xb36\\xc6<\\xcd!\\x9d\\xbc\\xee\\xb5\\xad\\xbc\\x05\\xa6\\x18<\\xd4Y\\xbd:\\x1c\\x8eN\\xbb\\xd5\\xb4\\xbe<\\x91]L;\\x92\\xa2\\xb5;W\\xaa\\xff\\xbbUW3=T\\x12\\xca<L$\\xa7<DD\\xe7\\xbb9\\x19\\x90\\xbb\\xa9/j\\xbb\\xf5P\\x84\\xbb\\xc2F\\xf1<\\xfe \\xda<\\xf0\\x08z</\\x99e<1\\xb2\\x9e<\\xd3\\xe8\\xa3;>\\x85\\x15<G\\xce9\\xbdsS\\x8e;w\\xd5\\xab\\xbc1A\\x85<n\\xe7\\x88<x\\xa1\\xc6<\\x1c\\xa4\\xe6\\xbc%\\xc9\\x0f< \\x10l\\xbbz\\xd0\\x17\\xbb\\xd96\\\\<6\\x08\\x0c\\xbb{A\\xb1<V\\xb24\\xbc\\xec\\xff*\\xbc=\\x9b\\xad;\\x16l\\xc6<\\x188\\xe1\\xbctK\\xd9\\xbc1O\\xe8:hb\\xca<\\xc9\\xcb\\xaf8CL\\x9c<n\\xfd\\xa0<\\x87\\xb1\\xf1\\xbc\\xa3\\xcb\\x99<%|\\xf1:\\xb9\\xfd\\xcc;\\xa7cO<Q\\x88w\\xbcL\\x0e\\x0f\\xbb\\xc2Fq\\xba@I{\\xbcv\\x01\\xdc<l\\xceO\\xbb1\\xc8\\xb6\\xbcB\\x8e\\xe4<a@\\xc2<\\xef\\x10\\xaf\\xbb\\x1db\\x9e<\\xa2p\\x18:\\x17@\\x16=UW3<\\x9a\\xa6\\xf0\\xb9d\\xe0,;-0\\x01\\xbch\\xdb\\x98\\xba\\xf6HO;54\\xbc<f3y\\xbc\\x97\\xe2\\n\\xbd\\xf27\\xcb9on\\xba;A\\x07\\xb3;\\x81\\x8f\\xe9<4\\xef\\xd2<\\xcf\\x03P<\\x8d\\xc5\\x96;lG\\x1e\\xbc\\x1b\\xc2\\xb3<\\xbc\\x87\\x9f\\xbb\\xb5\\x02a<\\xa4<3<\\x91]\\xcc\\xbb\\xdd\\x8cI\\xbc\\xe3=8<\\xc1d\\xbe<\\x89Y\\x11=I\\xfd\\n\\xbd\\x9c\\\\s<E\\x02\\x1f<7c\\r<\\xfd(\\x0f\\xbc\\xf5\\xd7\\xb5<\\xa9\\x92\\xa0\\xba\\xb9nf\\xbcc\\x85+\\xbd\\xd12!<Yh7<\\xc5I\\x12\\xbc\\x98\\xf0\\xed\\xba4\\xd9:\\xbc\\x10\\xd1o;\\xa3~\\xfb\\xbc\\x9cN\\x90<\\xf9\\xbc\\x89\\xbc\\xccU\\x02<N\\xc4\\x91;>\\xf6\\xae\\xbc,r\\xc9:\\xe9u\\xd8;k\\xd6\\x04=BxL<\\x97\\xf8\\xa2<\\xbb,\\x9e\\xbc\\r\\r\\x8a;\\xba\\xbb\\x84\\xbb/\\n\\xff<\\x0b\\xf4P8\\x91]L<\\xb3\\xbdw<\\xdfJ\\x81<\\xf3\\x0b\\x1b;54<<k]\\xb6\\xbb>\\x93\\xf8;\\xf7\\x8d\\xb8\\xbc\\xd12\\xa1\\xbc}\\xf7\\xb3;pB\\x8a\\xbb\\xbc\\x87\\x9f<\\xdf\\xd12<\\xdae-\\xbcI\\x84<<-F\\x19<\\'\\x7f\\x92\\xbb/\\x99\\xe5\\xbb\\xe0\\xa5\\x82\\xbc\\'2t\\xbb\\xf3\\xbe\\xfc=[\\x08\"<\\x9c\\\\\\xf3\\xbbi\\xa7\\xb3<\\x14\\xb6\\xc3\\xbc\\xea3\\x90;\\xc0\\t\\xbd\\xbcBxL\\xbd\\xbf\\x1fU<19P\\xbc3h\\xa1\\xbc\\xeeD\\x14<%PA\\xbb\\x15\\x82^\\xbb\\x0e~\\xa3<~\\xcb\\x83;\\xba\\xd1\\x9c<4R\\t\\xbd\\'2t\\xbbon\\xba\\xbc\\x06\\xeb\\x81\\xbc5J\\xd4<\\x02\\x06.\\xbbW\\xaa\\x7f<7qp9\\x9b\\xf3\\x8e\\xbc\\xb3\\xc5\\xac9\\xb6sz;m\\xa2\\x9f\\xba\\t\\xaf\\xe7\\xbc\\xf3!\\xb3\\xbcr\\xf8\\x8c9L\\x95\\xc0:\\xac*\\xd6;<V\\xc4\\xbb\\xd9\\n\\xac<\\xe5\\x82!\\xbc-0\\x81;B\\xdb\\x02\\xbc\\xf8\\xfeQ\\xb9\\x1c\\xa4\\xe6<W9f\\xb8<\\xdd\\xf5\\xb95\\xad\\x8a\\xbcd\\xca\\x14<\\xcf|\\x1e\\xbc\\x1dx6\\xbc\\x02\\x1c\\xc6<\\xcf\\x03P<F]\\xa0\\xbb\\x08\\xcd4<ri\\xa6;\\x8f\\xa7I\\xbc\\x921\\x9c\\xba\\xa6k\\x84\\xbc\\xa0\\xba\\x95\\xb9\\xff\\n\\xc2\\xbbx0\\xad:\\x81y\\xd1\\xbb\\xe6\\xc7\\x8a<\\x1f\\xa7\\x87\\xbc\\x90\\x89|\\xbb\\xdf\\xd1\\xb2;\\x85t=\\xbc\\x1d\\xe9O<GG\\x08\\xbdl\\xceO\\xbb\\xb1\\xf9\\x11\\xbc\\x84\\x92\\x8a\\xbb9\\xb6\\xd9\\xbb\\x8a\\xb4\\x12<\\xb5{/\\xbd\\xe1\\x00\\x84\\xbc\\x11y\\x0f<;\\xcf\\x92<x0\\xad\\xba]\\xbe\\xa4<(\\xda\\x13\\xbcl1\\x06<\\x1f\\xa7\\x87\\xbc\\xdbO\\x15<A\\x96\\x99\\xbc-\\xcdJ;\\r\\xaa\\xd3\\xbc\\xe1\\x0e\\xe7\\xbbM\\x7f\\xa8\\xb8\\x1f\\x18!:\\x7f\\xc3N:\\xe9uX\\xbb1\\xb2\\x9e<^\\x19&\\xbc\\xce\\xa8N;\\xa7\\xdc\\x1d:\\xa0\\xba\\x15\\xbc\\xa6\\x08\\xce\\xbb\\x0eh\\x0b\\xbc\\xfc\\xcd\\x8d<\\x8cj\\x95;\\xab^;\\xbc\"?=\\xba\\x98S\\xa4\\xbc\\xcf|\\x9e\\xbc\\xfd\\xdbp\\xba\\x83E\\xec;2#8<\\x17\\xb1\\xaf;\\xc3\\x8bZ<\\xc2\\xa9\\xa7;~hM\\xbc\\xc3\\x93\\x0f9\\x8c\\xf1F<\\x0be\\xea\\xbc\\xb8\\x8c3<\\'\\xab\\xc2\\xbc\\x9d0C<\\x1eZi<\\xaeo\\xbf<\\x13E*=C6\\x84\\xbc\\xdc\\xc0\\xae\\xbb\\xb9nf\\xbc\\x8a;\\xc4\\xbc\\xa6k\\x04=\\x9d\\xa9\\x91<.\\xa1\\x9a\\xb9\\xd1\\x1c\\x89\\xbc\\xb8)\\xfd\\xba\\x11\\x8f\\xa7;U\\xd0\\x01<\\xab2\\x8b\\xbb\\xf3\\x92\\xcc:\\xc7\\x86F<\\xd3\\x85m\\xbc\\xfc\\xcd\\x8d\\xbc\\xd9\\xa7\\xf5\\xbc\\x03\\xf0\\x15\\xbbl\\xe4\\xe7\\xbct\\xbc\\xf2<\\xcb\\x1e|\\xbc\\xec\\x9ct\\xbc\\x9e\\x8bD\\xbc\\xac\\x8d\\x8c\\xbca\\xcf(\\xbbZ\\xc38\\xbd\\xc1\\xd5W\\xbc\\xa4\\xb5\\x01\\xbd\\x9d\\xa9\\x91\\xbc\\x8b\\x0f\\x94;W\\x86\\x84\\xbc7\\x00W<\\xe9\\x04?\\xbc\\xb1\\x96\\xdb<\\xd7\\xf1\\xf2\\xbct\\xbc\\xf2\\xba\\xbc\\x87\\x1f<J\\xdf\\xbd\\xbc\\xc4u\\xc2;\\xa3~{\\xbcW\\x9c\\x9c<\\x9c\\xeb\\xd9<>\\x0c\\xc7<=\"\\xdf;\\xb6\\xd6\\xb0<zma<\\xcd\\xd4~<\\x188a\\xbc\\x15\\x82\\xde\\xbb\\x87@X\\xbb\\xea_@\\xbb\\xa3\\xf7I<5\\x1e$<\\xe6\\xc7\\n<\\xbb\\x16\\x86\\xbcyu\\x16<\\x14=\\xf5;\\x8e \\x18\\xbc\\x93v\\x85;\\xc3\\x04\\xa9\\xbc\\x13/\\x12\\xbd\\x1f\\xa7\\x87\\xb9\\xf9\\xbc\\t\\xbc\\xad\\x9bo\\xbc&:\\xa9\\xbc\\xe9\\x04\\xbf;4\\xef\\xd2\\xbb;\\xcf\\x92\\xbc\\xfcT\\xbf<\\xbc\\x87\\x9f;\\xe9\\xee\\xa6\\xba`^\\x0f\\xbdB\\xff}<\\xf9C;;.\\xa1\\x9a<\\xe80o;\\xa0AG<\\x86\\xcf\\xbe:3\\xf7\\x87\\xb9m)\\xd1;\\x104\\xa6<l\\xe4g<Q\\x88\\xf7<\\\\c#\\xbcQ\\x01F\\xbcM\\x7f\\xa8:B\\xf1\\x1a;\\x90\\x89|<\\xea\\xe6q\\xbc\\x7f\\xd9f<\\x98\\xf0m<1Oh\\xbc\\x98i\\xbc\\xbb\\xd9 \\xc4\\xbcQ\\x88\\xf7\\xbcH)\\xbb\\xbc\\xbcq\\x87\\xbbF] <\\xea_@\\xbc&\\xc1\\xda<Q\\x01F\\xbc\\xa4\\xb5\\x81\\xbc\\x7f\\xad6\\xbc\\xd0\\xc1\\x87\\xbb\\xb3\\xbdw<\\x1f.9;G\\xce\\xb9<N\\xc4\\x11:\\x7f\\xc3N\\xbc\\xa4<3\\xbc\\x1dx6<B\\xdb\\x82<\\xf8w\\xa0\\xbbX\\xe1\\x85<\\xdfJ\\x01=\\x9a\\x98\\r\\xbc\\x89g\\xf4\\xbc\\xe80o;v\\x01\\xdc;\\xfbr\\x8c\\xbc\\xae\\xe8\\x8d\\xbc4\\xefR<\\x06\\x172;\\xd3oU\\xbc\\n\\xfc\\x85;\\x0be\\xea\\xbc1A\\x05<\\x1c\\xa4\\xe6<\\xe1\\x0e\\xe7\\xba4\\xd9:\\xbc\\xf2Mc\\xbcz\\xd0\\x17\\xbd\\x1e\\xd3\\xb7\\xbc\\x15\\x8a\\x93\\xbc\\xfe\\x83\\x90\\xbc\\xe6dT\\xbc5\\x1e$<[\\xa5\\xeb\\xbc\\xdfXd\\xbc\\xd2\\x8d\"\\xbd\\x9c\\\\s<\\xf7\\x8d\\xb8\\xbb5J\\xd4\\xbc[\\x08\"<\\xd1\\xa3\\xba<\\xc6\\xa4\\x93\\xbbd}v\\xbc\\x13/\\x12\\xbc\\x92\\x1b\\x84\\xbc[\\x8fS;\\'\\x7f\\x92\\xbb\\xb0\\x0f\\xaa<\\t\\xa1\\x04\\xbd1\\xb2\\x9e\\xbc\\xd3\\x85m\\xbb\\'2\\xf4\\xba\\xea3\\x90;d}v<\\x97\\x0e;\\xbb\\x19\\xe0\\x00\\xbc\\xef&G\\xba$\\x84&;!]\\n9\\xe1\\x00\\x84\\xbc\\x1fD\\xd1\\xbc\\xca\\x10\\x19\\xbb7\\x00\\xd7\\xbb\\'2t\\xbc\\x02\\x06\\xae\\xbc\\xeeD\\x14<\\x86\\xb9\\xa6<\\xf7\\x8d8\\xbc\\xda\\xf4\\x13\\xbd^/>\\xbchL\\xb2;\\xbe\\'\\n<\"UU<-F\\x99\\xbc2\\x9c\\x06<?Q\\xb0<N\\xda)\\xbd\\r#\\xa2\\xbb[\\x97\\x08<\\xc9<\\xc9<\\xc8\\xf7\\xdf\\xbb^\\xa8\\x8c:\\x9a\\x1f?;Y\\xd9\\xd0\\xbc\\x84\\x19\\xbc<\\xf6\\xab\\x05\\xbc\\xba\\xdf\\xff\\xbb\\xee\\xb5-\\xbd}\\r\\xcc\\xba\\xbdiR\\xbb\\x03\\xfex;\\r\\x1b\\xed\\xbb\\x86\\xb9&<\\x92\\xb8M\\xbc\\x8f\\x911<<V\\xc4;\\xfcj\\xd7\\xbc\\xdb\\xec^<\\xfc\\xe3%\\xbcX\\xe1\\x85\\xbb<*\\x94<x\\x1a\\x95\\xbc\\xc7\\x86F<\\x99=\\x0c=\\x1b\\x96\\x83\\xbc\\x08F\\x83<`^\\x8f\\xbc\\xa9\\x03:\\xbc\\xce\\xa8N\\xbc\\xa6y\\xe7<ri\\xa6;\\xef\\x9f\\x15\\xbc\\xaa\\xed\\xa1\\xbc\\xd4Y=<%\\xdf\\xa7\\xbc\\x9a\\x98\\x8d<\\xef\\x9f\\x95\\xbc\\x8d\\xc5\\x96\\xbc\\x03\\x8d_\\xbb\\x16\\xf3\\xf7<r\\xf8\\x8c;gx\\xe2:\\xdf\\xbb\\x9a<\\xdc\\xaa\\x16\\xbd\\x84\\x03$\\xbc&$\\x91\\xbb\\xf1U\\x98\\xbcf\\x80\\x17\\xbd\\xfb%\\xee\\xbc\\xd6\\x0f\\xc0<\\xae\\xe8\\r<W\\xaa\\x7f<i \\x82\\xbc\\x87\\xa3\\x0e\\xbc)\\xe8\\xf6\\xbc\\x19}J<q\\x9d\\x0b<\\xbc\\x87\\x9f<\\x9cN\\x90;\\xc28\\x0e\\xbc!]\\x8a\\xb7\\xf9\\xbc\\x89<\\x82c9\\xbcaV\\xda<*-\\xe0\\xbc\\xff\\x91\\xf3\\xbb\\x96\\xb3\\xb9;\\x02\\x06\\xae\\xbc6\\x08\\x0c<\\xd9\\n\\xac:\\x9fu\\xac;\\xca\\x97\\xca\\xbb\\x1b3M<\\xd7\\xe3\\x0f;\\xc7\\x15-<\\x90\\xec2<\\xfe\\xaf@\\xbc\\xf1U\\x98\\xbc\\x96:\\xeb\\xbb\\xd9\\x99\\x12;\\xc7\\x86\\xc69\\xe9\\x04\\xbf<\\x8cj\\x15;\\xf0\\x97\\xe0\\xbcF] <\\x1a\\xee\\xe3;Jfo\\xbb\\x86\\xb9&;\\x91\\xc0\\x02;}\\x94}\\xbc!\\xe4\\xbb\\xbc\\xb9`\\x03<0m\\xb5\\xbbK\\xb3\\r\\xbc\\xe4\\'\\xa0\\xbb\\xea3\\x10<~\\xe1\\x1b\\xbb\\xd3\\xe8#\\xbbW#\\xce\\xbb\\xa6\\x08N<\"\\xce#\\xbaF] :\\xc8\\xf7_;\\n\\xfc\\x85;\\x81\\x08\\xb8\\xbb\\x90e\\x01<\\x85\\xfbn\\xbc\\x89\\xe0\\xc2\\xbc\\x1db\\x9e<R\\xcd\\xe0\\xbc\\xa0W\\xdf;^\\x19\\xa6\\xbc\\xe4\\'\\xa0;\\xca\\x10\\x99<F]\\xa0\\xbb\\xbf\\x82\\x0b\\xbc\\xdd\\xa2\\xe1<YR\\x9f8\\xa6\\x81\\x1c;\\xca\\x10\\x19;\\xbdS\\xba:X\\r\\xb6\\xbb\\xf5\\xc1\\x1d8\\x89\\xf6\\xda\\xbc\\xc7\\x86F<\\xbe=\"\\xbc\\x9b\\xf3\\x8e<\\xe5\\tS<\\xc4\\xee\\x90\\xbc\\x0bW\\x87\\xbc\\xf6\\xab\\x85<4\\xef\\xd2<\\xe7\"\\x0c\\xbc\\x18\\xa9z<\\xb3\\xbdw>3~9\\xbc\\xa9/j<`t\\xa7<\\x07\\\\\\x9b\\xbc\\x07\\xe3\\xcc<\\xf1k0\\xbbQ\\xd5\\x15\\xbbq$\\xbd\\xbcc\\xf6\\xc4:\\x19\\xe0\\x00\\xbc\\xd1\\xcfj< \\x10l\\xbc]M\\x0b<\\xdfBL\\xbc \\x89\\xba\\xbc\\x03\\x8d\\xdf\\xbc\\x8f\\x18c\\xbc\\x12\\x00\\xc1\\xbb\\xdfJ\\x01\\xbdhbJ<\\x99\\xc4=\\xbbX\\xe1\\x85\\xbc\\x12\\x87r\\xbcX\\r\\xb6<[\\x97\\x08=\\x85^%\\xbc\\xd9\\n\\xac\\xbb\\x15\\x11E<ks\\xce;Y<\\x07\\xbc5\\xbb\\xed\\xbbj\\x18\\xcd\\xbb3\\x05k<}\\x94}<\\x9c\\xbf)<\\x8f\\xa7\\xc9;\\xcd\\xd4~\\xbc\\xb1\\x07\\xf5\\xba\\xe9\\xee\\xa6<6\\x08\\x8c\\xbc\\x9e\\x1a\\xab;j\\x025\\xbcJf\\xef\\xbb\\x12\\xd4\\x10;l\\xceO<j.\\xe5;+\\x9ey\\xbc\\xba\\xdf\\x7f<\\x04\\xd2\\xc8<q\\x0e\\xa5\\xbc\\x8b\\xac\\xdd\\xbc\\x97\\x7fT9\\xd1\\xcf\\xea<\\x07\\xe3\\xcc\\xba\\xc3\\x04)\\xbb\\x1eZi;\\x0b\\xf4P<\\xde`\\x19<\\x1e\\xbd\\x9f<\\x18\\x0c\\xb1;A\\x96\\x19=\\xbe\\'\\n\\xbcq\\x9d\\x0b=%\\xc9\\x8f</\\x99\\xe5<\\xba\\xdf\\xff\\xbcUm\\xcb;\\n\\xfc\\x05<\\x05\\x90\\x00\\xbd(\\xf0+\\xbbDDg\\xbcD.O\\xbc(\\xf0+\\xbc\\xbaXN\\xbc^\\xa8\\x8c;\\xe3S\\xd0<\\t\\xa1\\x84<^\\xa8\\x8c<\\xc9<I;\\xff\\n\\xc2\\xba\\xd5\\x9e\\xa6\\xbcH\\xa2\\x89\\xbc\\xa0AG<M\\xf0A;\\xb1\\xf9\\x11\\xbd\\x97\\xf8\"<k\\xd6\\x04\\xbcU\\x83\\xe3\\xbbz\\xfc\\xc7\\xbb\\t\\xa1\\x84\\xb9v\\x01\\xdc\\xbcP\\xa6D\\xbc\\xd9\\x99\\x12<\\xdc\\xc0.;\\x15\\x11E<\\xd6\\x0f@<\\xdd\\x05\\x98<\\xab\\xe5l\\xbc\\x81yQ<\\x92?\\x7f\\xbc~\\xe1\\x1b=\\xd6\\x80\\xd9<oX\"\\xbcJX\\x8c\\xbc\\x15\\x82^\\xbb\\xbe\\xdak<\\xbdS:<\\xac*\\xd6;\\xd2\\xfe\\xbb\\xbc\\xcd\\xd4~\\xbc\\xd8>\\x11\\xbc(\\xf0\\xab<\\x0c\\xb2\\x88\\xbb\\xb4\\x91\\xc7<\\x98i\\xbc;\\x9f_\\x94\\xbc\\xa4\\xb5\\x81\\xbc\\xb3L\\xde<3\\x05\\xeb\\xbcoX\"<\\xd6\\x80\\xd9\\xbc\\xbe=\"\\xbcX~O\\xbb\\x07r3\\xbc\\x99=\\x0c\\xbb\\xaa\\xd7\\x89\\xbc?\\xd8\\xe1;\\xf4|4\\xbc\\xd3\\x85\\xed\\xbcK\\xb3\\r<\\x0c\\xb2\\x08\\xbd\\xcd!\\x1d;\\x82M!<A\\x073\\xbc-\\xb7\\xb2\\xbc_\\x11q\\xbb\\xf6\\xb9\\xe8;\\xe2\\xe26;f3y<$\\x84&\\xbc[\\xa5\\xeb:Y\\xefh\\xbc!\\xfaS\\xbb\\x90e\\x01<\\x91]L\\xbc\\x97\\xe2\\x8a<Cb\\xb4\\xbblG\\x1e\\xbbT\\x8b\\x18<\\xf3\\x92\\xcc\\xbc\\xa2p\\x98\\xbar\\xf8\\x8c<\\x98\\xf0\\xed\\xbc\\x91\\xce\\xe5:q\\x9d\\x8b<\\xb2T\\x93\\xbc\\xd5\\x88\\x0e\\xbd\\xcd!\\x9d\\xbc\\x99\\xc4=<\\x1db\\x9e;h\\xc5\\x80<:t\\x11=\\x1b\\xac\\x9b\\xbc\\xce\\x0b\\x85\\xbc\\xa5\\x97\\xb4;\\xe78$\\xbe5\\xbb\\xed<\\xc7\\x86\\xc6<\\xc8hy\\xbc\\xc4\\xee\\x90<\\x04\\xd2\\xc8\\xbbvd\\x92<[\\x97\\x88\\xbc4\\xc3\\xa2\\xbct\\xbc\\xf2<-0\\x01<i \\x82<B\\xdb\\x02\\xbd\\xe4\\x11\\x88;-T|;!\\xe4;\\xbcj\\x9f~;\\x03\\xf0\\x15<\\x10\\xd1\\xef;\\xc6\\xb2\\xf6:}\\x86\\x1a=}\\r\\xcc<_\\xa0\\xd7;Yh7\\xbc\\xf8\\xe8\\xb9;\\xafQr\\xba\\xb4\\n\\x16\\xbc\\x86\\xcf>=$n\\x0e\\xbcT\\x12J\\xbcd\\xe0,\\xbc9\\xa0\\xc1\\xbci \\x82<\\x02\\x95\\x149\\xf1U\\x98\\xbbB\\x8e\\xe49\\x89\\xe0\\xc2<X\\xe1\\x85\\xbc\\xf8a\\x08\\xbcu\\t\\x91<\\x05Cb=x0\\xad<E\\x89\\xd0<\\x8b\\x0f\\x14\\xbc\\xb1\\x80C\\xbb\\x10\\x1e\\x8e<\\xfd\\xdb\\xf0<\\x85\\xed\\x8b<\\xf62\\xb7\\xbb\\x14=u\\xba\\xa6yg<\\x80\\x81\\x06\\xbd\\x98\\xf0m\\xbb,rI\\xbc\\xcd7\\xb5<\\xf6\\xab\\x05=\\x07\\xe3\\xcc;\\xdfJ\\x81;\\xc28\\x0e\\xbc\\xd6\\xf9\\xa7\\xbc\\x94\\xd1\\x86\\xbc\\xd9\\x99\\x12\\xbc\\xa2\\x860<\\x15\\x82\\xde\\xbc\\xf7\\x06\\x87\\xbc\\xf8a\\x08<\\xf1U\\x18\\xbc\\x0bW\\x07;4\\xc3\"\\xbc\\x91\\xd6\\x1a<\\xa0W\\xdf;(\\xf0+\\xbcg\\x07\\xc9:GG\\x08\\xbd\\x84\\x92\\n\\xbcQ\\x01F<\\xe0\\xa5\\x02\\xbck\\xec\\x1c=\\x87@\\xd8\\xbb\\x9a\\x1f?<\\t\\x12\\x1e\\xbc\\x14=\\xf5<\\xe4\\xaeQ\\xbc\\xe3S\\xd0;\\x97\\x7f\\xd4<\\xad\\x9b\\xef\\xbb/\\n\\x7f<\\xdfX\\xe4<0W\\x1d\\xb9g\\x07\\xc9\\xbc1O\\xe8;\\x84\\x03$\\xbd\\\\\\xf2\\t\\xbc\\xd5;p\\xbce%\\x96<\\x8f\\xa7\\xc9;\\x85\\xfb\\xee<\\x9c\\\\s< s\"<\\xb3L\\xde\\xbc\\x8e \\x18;-\\xcdJ;\\x93\\x8c\\x9d\\xbc\\xfd>\\xa7<\\x1d\\xf1\\x04=\\xfa\\x17\\x0b\\xba%\\xc9\\x0f\\xbc\\xf6\\xb9\\xe8<\\x10\\xd1o\\xbb\\x9e\\x12\\xf6:3\\xf7\\x07\\xbd\\x16\\xf3w\\xbc\\xab2\\x0b=n\\x139=\\xc6A\\xdd;\\x87@X;\\x08\\xb7\\x9c:\\xaa\\xd7\\t\\xbc\\x188a<h\\xc5\\x80;\\xfa-#=\\x08F\\x03\\xba\\x12\\xea(\\xbc\\xc0\\x90\\xee9\\xb7\\x1b\\x9a\\xbcVA\\x9b\\xbc\\xc3\\x8b\\xda\\xbd\\x0c9\\xba\\xbc\\xa8!\\x87<Y\\xefh:\\'2t<\\x81\\xdc\\x07=T\\xfc1<\\xa1\\xc8x<VA\\x9b\\xbc\\x1a;\\x82<\\xcb\\x1e\\xfc\\xba\\xb3\\xaf\\x14\\xbd\\x9bz@;\\x0f\\xd9$\\xbc\\xbb\\xb3O<\\x03\\x8d_\\xbc\\xa1+/\\xbcIn\\xa4\\xbc\\x19\\xf6\\x18\\xbd\\x995W<8E\\xc0\\xbb4\\xc3\"\\xbb\"\\xce#;lG\\x1e<\\x8cj\\x95\\xbb\\x8b\\x0f\\x94\\xbc\\xe5\\t\\xd3\\xbc\\xb9nf9\\t\\xa1\\x84<\\x7f\\xd9f;[\\xa5\\xeb\\xba\\x0be\\xea\\xbczm\\xe1;k\\xec\\x9c\\xbcP\\xa6\\xc4<e%\\x16<\\x11\\x16Y\\xbd\\xe9\\x04\\xbf\\xbaJf\\xef\\xbaX\\xf7\\x1d\\xbd\\xf4f\\x9c\\xba\\xf3\\x9a\\x01\\xbc\\x16\\xf3w<\\xcc\\xc6\\x1b\\xbdG\\xce\\xb9\\xbb\\x01:\\x13<\\xec\\x8e\\x11;\\xe2[\\x05;\\x9a\\x98\\r=/\\xfc\\x1b\\xbb\\xc3\\x04\\xa9\\xbcP\\x17^\\xba\\xb6\\xc0\\x98\\xbc\\xc9\\xb5\\x17\\xbct5\\xc1;\\'\\x7f\\x92\\xbbZ\\xc38\\xba\\xc4u\\xc2<\\xcd\\xd4~\\xbbv\\x01\\\\\\xbc\\xa3\\xe1\\xb1<H\\xb0\\xec;\\x9d\\xa9\\x11\\xbd\\xa3\\xe11;\\x1eZi<\\x14\\xa0+\\xbb#\\x9a><\\r#\"<n\\x9a\\xea<\\xe7\"\\x0c\\xbd\\x87@\\xd8\\xbb\\xfd\\xdb\\xf0<lG\\x1e\\xbc19P<\\x7f\\xd9\\xe6\\xbbCL\\x9c;\\x104&\\xbc\\xafC\\x8f<\\xb3\\xc5,:|\\x9c\\xb2\\xbax0-\\xbc\\xae\\xe0X\\xbc.\\xa1\\x1a;\\x1fDQ\\xbcsS\\x8e<\\xeeR\\xf7<\\xa3\\xe1\\xb1\\xbc\\xe8\\x93%:\\x7f\\xd9f<\\xfbr\\x8c;\\xd5;\\xf0\\xb9\\xf3\\x9a\\x01=\\x87\\xa3\\x0e;\\x03\\xfe\\xf8\\xbc\\xa5\\x974\\xbc\\xee\\xe1\\xdd<\\xcf|\\x9e<]M\\x8b;\\xb9n\\xe6<f\\x80\\x17=\\xd7\\xe3\\x8f\\xbc\\x07\\xf9d9\\\\\\xf2\\x89\\xbd\\x92\\xa2\\xb5<Na\\xdb\\xbc\\xe9u\\xd8\\xbc[\\xa5k<3\\x05k\\xbcC\\xd3\\xcd;\\x0e~\\xa3\\xbchbJ\\xbcQ\\x88\\xf7<\\x05\\x90\\x80\\xbc\\xbb\\x9d\\xb7;\\x02\\x1c\\xc6\\xbb\\xfb%\\xee\\xbb\\x96\\x87\\x89\\xbcp\\xb3#:\\xcd\\xb0\\x03=i \\x02;%\\xc9\\x0f=\\x06\\x88\\xcb<\\xd5\\x88\\x0e\\xbd\\x83El:x\\xb7\\xde<\\r\\r\\x8a\\xbc\\x00P+;\\xca\\xadb<U\\xd0\\x01\\xbdsS\\x0e=\\xd0\\xd7\\x1f\\xbd\\xc0\\xdd\\x8c\\xbc\\x14=u\\xbc\\xa8!\\x87\\xbc\\xc3\\x93\\x0f\\xbc\\x87\\xb1q<h\\xe9{\\xbb{\\xdez\\xb9\\x0c\\xb2\\x88;D\\xa7\\x1d;\\x99\\xc4=\\xbc\\xf4|4=|\\x9c2\\xbc\\x07\\\\\\x1b\\xbdf\\xac\\xc7;@I\\xfb\\xbcw\\xd5+\\xbc\\xe6\\xdd\\xa2<\\xb7\\x1b\\x1a\\xbc\\x92?\\xff;\\x87\\xa3\\x8e<0W\\x9d\\xbc\\x05\\xb4\\xfb\\xba\\x0f`\\xd6<\\x98S\\xa4\\xbc\\xe9\\x04\\xbf\\xbb;\\xcf\\x92;\\xcd\\xb0\\x83\\xbc=\"_<\\x04K\\x97<\\x91\\xc0\\x02:\\x17\\xb1/\\xbd~h\\xcd<\\x1ag\\xb2;h\\xdb\\x98<\\xfd>\\'<\\x86\\xcf\\xbe<\\x188a<\\xb9\\xe74\\xbbj.\\xe5;\\xab^;<\\n\\x83\\xb7\\xbcU\\x83c\\xbcE\\x18\\xb7\\xbc\\x1e\\xbd\\x9f<X\\xe1\\x05\\xbb\\xc4_\\xaa;s\\xda\\xbf9\\x05Cb<R\\xcd`\\xba\\x827\\t\\xbd\\xe5\\xf3\\xba<\\xd0H\\xb9\\xbb\\x1dx\\xb6\\xbb\\xc0\\xdd\\x0c\\xbdB\\xf1\\x9a\\xbb\\xdc\\xc0\\xae<6\\x8f=<\\xcf\\xed7<}p\\x82\\xbb\\x16lF;y\\x8b\\xae<\\x7f\\xc3\\xce\\xbc\\xe1\\x9d\\xcd;\\xef\\x10/\\xbc\\xcc\\xc6\\x9b<\\x08>N\\xbb\\x1b\\xc23\\xbcx0-<$\\x84\\xa6\\xbb\\xe9\\x04?<\\xd8>\\x11=H\\xb0l\\xba\\xa8\\xbeP\\xbc\\x08j\\xfe\\xbb\\xd3o\\xd5\\xbc@\\xac1\\xbc\\xf8o\\xeb:\\xfa-#\\xba\\xcb\\xfa\\x00\\xbdon:;\\xcf|\\x1e<c\\x85\\xab<\\x9bz\\xc0<7q\\xf0\\xbbpP\\xed<%|\\xf1\\xbc\\x1aQ\\x9a;\\xa7cO\\xbbB\\xf1\\x1a\\xbd6\\x08\\x0c\\xbda\\xb9\\x10=\\xf5P\\x04<\\r\\r\\x8a\\xbcK\\xb3\\x8d<\\x82M\\xa1\\xbc\\x1aQ\\x1a\\xbc\\xf8w ;\\x0e\\x05U=\\xa2\\rb\\xbc\\x91\\xc0\\x02\\xbc\\x7f\\xd9f\\xbb\\xe5\\t\\xd3;\\xfd>\\'\\xbch\\xdb\\x18\\xbcL\\xabX\\xbcb*\\xaa\\xbc\\x1b\\xc2\\xb39I\\xfd\\n\\xbc[\\x08\\xa2<\\xa87\\x9f\\xbbi \\x82<\\x7f\\xd9\\xe6;<\\xddu;\\x88\\xfe\\x8f:A\\x80\\x81;5\\xad\\n=RF/<\\xe2\\xe2\\xb6;H\\xb0l\\xbc\\x87*@<\\xcdMM=\\xe4\\x11\\x88\\xbc\\xd2\\x8d\"\\xbc\\xdfB\\xcc\\xbc\\xa1+/\\xbcL\\x1c\\xf2;\\xcf|\\x9e;\\x9d\\xa9\\x11<\\xe6\\xc7\\n\\xbdr\\x06p<\\xcd75<\\xf4\\xf5\\x82<k\\xd6\\x84<\\xb0\\x9e\\x90\\xbbp\\xc9;\\xbc\\xa7c\\xcf\\xbb@I\\xfb<\\xcb\\x1e|\\xbc\\x96\\xb3\\xb9<tKY\\xbdTu\\x80<\\xccU\\x82<8E\\xc0\\xbc&\\xc1\\xda\\xbbR\\\\\\xc7<\\xf3\\xbe\\xfc\\xbb\\xb4\\x91\\xc7<\\xca\\xad\\xe2;\\xf8a\\x88<\\xa4<\\xb3<\\x8db`;\\xaa\\xd7\\t<\\xb8)\\xfd\\xbc&\\xc1Z\\xbd\\x85\\xed\\x8b:\\xeb+\\xdb;W#\\xce\\xbc|+\\x99\\xbc\\x80\\x97\\x9e\\xbc', 0)\n",
      "\n",
      "Results for table gptcache_answer:\n",
      "------------------------\n",
      "(1, 1, 'Barack Obama is an American politician who served as the 44th President of the United States from 2009 to 2017. He was the first African American to be elected to the presidency. Prior to becoming president, Obama was a lawyer, community organizer, and served as a U.S. Senator from Illinois. During his presidency, he implemented various policies such as the Affordable Care Act, the economic stimulus package, and the Paris Agreement on climate change. Obama is known for his charisma, eloquence, and progressive approach to governance.', 0)\n",
      "\n",
      "Results for table gptcache_question_dep:\n",
      "------------------------\n",
      "\n",
      "Results for table gptcache_session:\n",
      "------------------------\n",
      "\n",
      "Results for table gptcache_report:\n",
      "------------------------\n",
      "(1, 'Who is Barrack Obama?', 1, 'Who is Barrack Obama?', 'Barack Obama is an American politician who served as the 44th President of the United States from 2009 to 2017. He was the first African American to be elected to the presidency. Prior to becoming president, Obama was a lawyer, community organizer, and served as a U.S. Senator from Illinois. During his presidency, he implemented various policies such as the Affordable Care Act, the economic stimulus package, and the Paris Agreement on climate change. Obama is known for his charisma, eloquence, and progressive approach to governance.', 1.0, 0.881743, '2023-08-02 19:17:55.809494', None)\n",
      "(2, 'Tell me more about Barrak Obama', 1, 'Who is Barrack Obama?', 'Barack Obama is an American politician who served as the 44th President of the United States from 2009 to 2017. He was the first African American to be elected to the presidency. Prior to becoming president, Obama was a lawyer, community organizer, and served as a U.S. Senator from Illinois. During his presidency, he implemented various policies such as the Affordable Care Act, the economic stimulus package, and the Paris Agreement on climate change. Obama is known for his charisma, eloquence, and progressive approach to governance.', 0.92615235, 0.272151, '2023-08-02 19:18:01.254313', None)\n",
      "\n"
     ]
    }
   ],
   "source": [
    "# The questions and answers are stored in the database\n",
    "\n",
    "dump_cache_content()"
   ]
  },
  {
   "cell_type": "code",
   "execution_count": 17,
   "metadata": {},
   "outputs": [
    {
     "data": {
      "text/plain": [
       "{'deprecations': [],\n",
       " 'objects': [{'class': 'GPTCache',\n",
       "   'creationTimeUnix': 1691000798038,\n",
       "   'id': '336f2205-bf48-4b42-af4f-63fc76f96321',\n",
       "   'lastUpdateTimeUnix': 1691000798038,\n",
       "   'properties': {'data_id': 1},\n",
       "   'vectorWeights': None},\n",
       "  {'class': 'GPTCache',\n",
       "   'creationTimeUnix': 1691003217820,\n",
       "   'id': 'd1b2a042-489d-409e-9a95-5b2053bc2238',\n",
       "   'lastUpdateTimeUnix': 1691003217820,\n",
       "   'properties': {'data_id': 2},\n",
       "   'vectorWeights': None},\n",
       "  {'class': 'GPTCache',\n",
       "   'creationTimeUnix': 1691003863859,\n",
       "   'id': 'f5d32f6e-c2c9-445e-9ae2-2e4b0b27a127',\n",
       "   'lastUpdateTimeUnix': 1691003863859,\n",
       "   'properties': {'data_id': 1},\n",
       "   'vectorWeights': None}],\n",
       " 'totalResults': 3}"
      ]
     },
     "execution_count": 17,
     "metadata": {},
     "output_type": "execute_result"
    }
   ],
   "source": [
    "weaviate_client.data_object.get(class_name=weaviate_class)"
   ]
  },
  {
   "attachments": {},
   "cell_type": "markdown",
   "metadata": {},
   "source": [
    "### Examples that didn't perform very well"
   ]
  },
  {
   "cell_type": "markdown",
   "metadata": {},
   "source": [
    "##### Starting with non-fictional characters"
   ]
  },
  {
   "cell_type": "code",
   "execution_count": 18,
   "metadata": {},
   "outputs": [
    {
     "name": "stdout",
     "output_type": "stream",
     "text": [
      "Time taken to run get_openai_response: 0.48 seconds\n"
     ]
    },
    {
     "data": {
      "text/plain": [
       "'Barack Obama is an American politician who served as the 44th President of the United States from 2009 to 2017. He was the first African American to be elected to the presidency. Prior to becoming president, Obama was a lawyer, community organizer, and served as a U.S. Senator from Illinois. During his presidency, he implemented various policies such as the Affordable Care Act, the economic stimulus package, and the Paris Agreement on climate change. Obama is known for his charisma, eloquence, and progressive approach to governance.'"
      ]
     },
     "execution_count": 18,
     "metadata": {},
     "output_type": "execute_result"
    }
   ],
   "source": [
    "new_question = \"Who is Joe Biden?\"\n",
    "\n",
    "get_openai_response(new_question)"
   ]
  },
  {
   "cell_type": "code",
   "execution_count": 19,
   "metadata": {},
   "outputs": [
    {
     "name": "stdout",
     "output_type": "stream",
     "text": [
      "Time taken to run get_openai_response: 0.37 seconds\n"
     ]
    },
    {
     "data": {
      "text/plain": [
       "'Barack Obama is an American politician who served as the 44th President of the United States from 2009 to 2017. He was the first African American to be elected to the presidency. Prior to becoming president, Obama was a lawyer, community organizer, and served as a U.S. Senator from Illinois. During his presidency, he implemented various policies such as the Affordable Care Act, the economic stimulus package, and the Paris Agreement on climate change. Obama is known for his charisma, eloquence, and progressive approach to governance.'"
      ]
     },
     "execution_count": 19,
     "metadata": {},
     "output_type": "execute_result"
    }
   ],
   "source": [
    "another_new_question = \"Who is Taylor Swift?\"\n",
    "\n",
    "get_openai_response(another_new_question)"
   ]
  },
  {
   "cell_type": "markdown",
   "metadata": {},
   "source": [
    "##### Trying with fictional characters"
   ]
  },
  {
   "cell_type": "code",
   "execution_count": 20,
   "metadata": {},
   "outputs": [
    {
     "name": "stdout",
     "output_type": "stream",
     "text": [
      "Time taken to run get_openai_response: 5.53 seconds\n"
     ]
    },
    {
     "data": {
      "text/plain": [
       "\"Ant-Man is a superhero character from Marvel Comics. The original Ant-Man is Dr. Hank Pym, a brilliant scientist who invents a suit that allows him to shrink in size while increasing his strength. He can communicate with and control ants using a special helmet. Over the years, various other characters have taken on the mantle of Ant-Man, including Scott Lang and Eric O'Grady. Ant-Man is also part of the Marvel Cinematic Universe, where he is portrayed by actor Paul Rudd.\""
      ]
     },
     "execution_count": 20,
     "metadata": {},
     "output_type": "execute_result"
    }
   ],
   "source": [
    "get_openai_response(\"Who is Antman?\")"
   ]
  },
  {
   "cell_type": "code",
   "execution_count": 21,
   "metadata": {},
   "outputs": [
    {
     "name": "stdout",
     "output_type": "stream",
     "text": [
      "Time taken to run get_openai_response: 0.78 seconds\n"
     ]
    },
    {
     "data": {
      "text/plain": [
       "\"Ant-Man is a superhero character from Marvel Comics. The original Ant-Man is Dr. Hank Pym, a brilliant scientist who invents a suit that allows him to shrink in size while increasing his strength. He can communicate with and control ants using a special helmet. Over the years, various other characters have taken on the mantle of Ant-Man, including Scott Lang and Eric O'Grady. Ant-Man is also part of the Marvel Cinematic Universe, where he is portrayed by actor Paul Rudd.\""
      ]
     },
     "execution_count": 21,
     "metadata": {},
     "output_type": "execute_result"
    }
   ],
   "source": [
    "get_openai_response(\"What is the Paul Rudd superhero movie\")"
   ]
  },
  {
   "cell_type": "markdown",
   "metadata": {},
   "source": [
    "## Questions"
   ]
  },
  {
   "attachments": {},
   "cell_type": "markdown",
   "metadata": {},
   "source": [
    "1. Why are Barrak Obama, Joe Biden, and Taylor Swift semantically similar?\n",
    "\n",
    "\n",
    "2. How can we tweak semantic caching so that \"Who is Barrack Obama\" and \"Who is Joe Biden\" are semantically distinct? Do we need a more sophisticated distance evaluation metric?"
   ]
  }
 ],
 "metadata": {
  "kernelspec": {
   "display_name": "Python 3.10.12 64-bit",
   "language": "python",
   "name": "python3"
  },
  "language_info": {
   "codemirror_mode": {
    "name": "ipython",
    "version": 3
   },
   "file_extension": ".py",
   "mimetype": "text/x-python",
   "name": "python",
   "nbconvert_exporter": "python",
   "pygments_lexer": "ipython3",
   "version": "3.10.12"
  },
  "orig_nbformat": 4,
  "vscode": {
   "interpreter": {
    "hash": "949777d72b0d2535278d3dc13498b2535136f6dfe0678499012e853ee9abcab1"
   }
  }
 },
 "nbformat": 4,
 "nbformat_minor": 2
}
