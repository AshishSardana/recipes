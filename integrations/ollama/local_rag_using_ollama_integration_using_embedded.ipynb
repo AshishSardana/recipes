{
 "cells": [
  {
   "cell_type": "markdown",
   "metadata": {},
   "source": [
    "# Local RAG with Ollama and Weaviate\n",
    "## Using Weaviate integration\n",
    "\n",
    "This example shows how to use the text2vec-ollama as well the generative-ollama "
   ]
  },
  {
   "cell_type": "markdown",
   "metadata": {},
   "source": [
    "## Setup \n",
    "1. Download and install Ollama for your operating system: https://ollama.com/download\n",
    "2. `pip` install the Python library to generate vector embeddings from the model  with `pip install ollama`. (REST API or JavaScript library also available)"
   ]
  },
  {
   "cell_type": "code",
   "execution_count": null,
   "metadata": {},
   "outputs": [],
   "source": [
    "#!pip install -U weaviate-client"
   ]
  },
  {
   "cell_type": "markdown",
   "metadata": {},
   "source": [
    "3. Pull relevant LLM and [embedding model](https://ollama.com/blog/embedding-models)"
   ]
  },
  {
   "cell_type": "code",
   "execution_count": 1,
   "metadata": {},
   "outputs": [
    {
     "name": "stdout",
     "output_type": "stream",
     "text": [
      "\u001b[?25lpulling manifest ⠋ \u001b[?25h\u001b[?25l\u001b[2K\u001b[1Gpulling manifest ⠙ \u001b[?25h\u001b[?25l\u001b[2K\u001b[1Gpulling manifest ⠹ \u001b[?25h\u001b[?25l\u001b[2K\u001b[1Gpulling manifest ⠸ \u001b[?25h\u001b[?25l\u001b[2K\u001b[1Gpulling manifest ⠼ \u001b[?25h\u001b[?25l\u001b[2K\u001b[1Gpulling manifest ⠴ \u001b[?25h\u001b[?25l\u001b[2K\u001b[1Gpulling manifest ⠦ \u001b[?25h\u001b[?25l\u001b[2K\u001b[1Gpulling manifest ⠧ \u001b[?25h\u001b[?25l\u001b[2K\u001b[1Gpulling manifest ⠇ \u001b[?25h\u001b[?25l\u001b[2K\u001b[1Gpulling manifest ⠏ \u001b[?25h\u001b[?25l\u001b[2K\u001b[1Gpulling manifest ⠋ \u001b[?25h\u001b[?25l\u001b[2K\u001b[1Gpulling manifest ⠙ \u001b[?25h\u001b[?25l\u001b[2K\u001b[1Gpulling manifest ⠹ \u001b[?25h\u001b[?25l\u001b[2K\u001b[1Gpulling manifest ⠸ \u001b[?25h\u001b[?25l\u001b[2K\u001b[1Gpulling manifest \n",
      "pulling 8934d96d3f08... 100% ▕████████████████▏ 3.8 GB                         \n",
      "pulling 8c17c2ebb0ea... 100% ▕████████████████▏ 7.0 KB                         \n",
      "pulling 7c23fb36d801... 100% ▕████████████████▏ 4.8 KB                         \n",
      "pulling 2e0493f67d0c... 100% ▕████████████████▏   59 B                         \n",
      "pulling fa304d675061... 100% ▕████████████████▏   91 B                         \n",
      "pulling 42ba7f8a01dd... 100% ▕████████████████▏  557 B                         \n",
      "verifying sha256 digest ⠋ \u001b[?25h\u001b[?25l\u001b[2K\u001b[1G\u001b[A\u001b[2K\u001b[1G\u001b[A\u001b[2K\u001b[1G\u001b[A\u001b[2K\u001b[1G\u001b[A\u001b[2K\u001b[1G\u001b[A\u001b[2K\u001b[1G\u001b[A\u001b[2K\u001b[1G\u001b[A\u001b[2K\u001b[1Gpulling manifest \n",
      "pulling 8934d96d3f08... 100% ▕████████████████▏ 3.8 GB                         \n",
      "pulling 8c17c2ebb0ea... 100% ▕████████████████▏ 7.0 KB                         \n",
      "pulling 7c23fb36d801... 100% ▕████████████████▏ 4.8 KB                         \n",
      "pulling 2e0493f67d0c... 100% ▕████████████████▏   59 B                         \n",
      "pulling fa304d675061... 100% ▕████████████████▏   91 B                         \n",
      "pulling 42ba7f8a01dd... 100% ▕████████████████▏  557 B                         \n",
      "verifying sha256 digest ⠙ \u001b[?25h\u001b[?25l\u001b[2K\u001b[1G\u001b[A\u001b[2K\u001b[1G\u001b[A\u001b[2K\u001b[1G\u001b[A\u001b[2K\u001b[1G\u001b[A\u001b[2K\u001b[1G\u001b[A\u001b[2K\u001b[1G\u001b[A\u001b[2K\u001b[1G\u001b[A\u001b[2K\u001b[1Gpulling manifest \n",
      "pulling 8934d96d3f08... 100% ▕████████████████▏ 3.8 GB                         \n",
      "pulling 8c17c2ebb0ea... 100% ▕████████████████▏ 7.0 KB                         \n",
      "pulling 7c23fb36d801... 100% ▕████████████████▏ 4.8 KB                         \n",
      "pulling 2e0493f67d0c... 100% ▕████████████████▏   59 B                         \n",
      "pulling fa304d675061... 100% ▕████████████████▏   91 B                         \n",
      "pulling 42ba7f8a01dd... 100% ▕████████████████▏  557 B                         \n",
      "verifying sha256 digest ⠹ \u001b[?25h\u001b[?25l\u001b[2K\u001b[1G\u001b[A\u001b[2K\u001b[1G\u001b[A\u001b[2K\u001b[1G\u001b[A\u001b[2K\u001b[1G\u001b[A\u001b[2K\u001b[1G\u001b[A\u001b[2K\u001b[1G\u001b[A\u001b[2K\u001b[1G\u001b[A\u001b[2K\u001b[1Gpulling manifest \n",
      "pulling 8934d96d3f08... 100% ▕████████████████▏ 3.8 GB                         \n",
      "pulling 8c17c2ebb0ea... 100% ▕████████████████▏ 7.0 KB                         \n",
      "pulling 7c23fb36d801... 100% ▕████████████████▏ 4.8 KB                         \n",
      "pulling 2e0493f67d0c... 100% ▕████████████████▏   59 B                         \n",
      "pulling fa304d675061... 100% ▕████████████████▏   91 B                         \n",
      "pulling 42ba7f8a01dd... 100% ▕████████████████▏  557 B                         \n",
      "verifying sha256 digest ⠸ \u001b[?25h\u001b[?25l\u001b[2K\u001b[1G\u001b[A\u001b[2K\u001b[1G\u001b[A\u001b[2K\u001b[1G\u001b[A\u001b[2K\u001b[1G\u001b[A\u001b[2K\u001b[1G\u001b[A\u001b[2K\u001b[1G\u001b[A\u001b[2K\u001b[1G\u001b[A\u001b[2K\u001b[1Gpulling manifest \n",
      "pulling 8934d96d3f08... 100% ▕████████████████▏ 3.8 GB                         \n",
      "pulling 8c17c2ebb0ea... 100% ▕████████████████▏ 7.0 KB                         \n",
      "pulling 7c23fb36d801... 100% ▕████████████████▏ 4.8 KB                         \n",
      "pulling 2e0493f67d0c... 100% ▕████████████████▏   59 B                         \n",
      "pulling fa304d675061... 100% ▕████████████████▏   91 B                         \n",
      "pulling 42ba7f8a01dd... 100% ▕████████████████▏  557 B                         \n",
      "verifying sha256 digest ⠼ \u001b[?25h\u001b[?25l\u001b[2K\u001b[1G\u001b[A\u001b[2K\u001b[1G\u001b[A\u001b[2K\u001b[1G\u001b[A\u001b[2K\u001b[1G\u001b[A\u001b[2K\u001b[1G\u001b[A\u001b[2K\u001b[1G\u001b[A\u001b[2K\u001b[1G\u001b[A\u001b[2K\u001b[1Gpulling manifest \n",
      "pulling 8934d96d3f08... 100% ▕████████████████▏ 3.8 GB                         \n",
      "pulling 8c17c2ebb0ea... 100% ▕████████████████▏ 7.0 KB                         \n",
      "pulling 7c23fb36d801... 100% ▕████████████████▏ 4.8 KB                         \n",
      "pulling 2e0493f67d0c... 100% ▕████████████████▏   59 B                         \n",
      "pulling fa304d675061... 100% ▕████████████████▏   91 B                         \n",
      "pulling 42ba7f8a01dd... 100% ▕████████████████▏  557 B                         \n",
      "verifying sha256 digest ⠴ \u001b[?25h\u001b[?25l\u001b[2K\u001b[1G\u001b[A\u001b[2K\u001b[1G\u001b[A\u001b[2K\u001b[1G\u001b[A\u001b[2K\u001b[1G\u001b[A\u001b[2K\u001b[1G\u001b[A\u001b[2K\u001b[1G\u001b[A\u001b[2K\u001b[1G\u001b[A\u001b[2K\u001b[1Gpulling manifest \n",
      "pulling 8934d96d3f08... 100% ▕████████████████▏ 3.8 GB                         \n",
      "pulling 8c17c2ebb0ea... 100% ▕████████████████▏ 7.0 KB                         \n",
      "pulling 7c23fb36d801... 100% ▕████████████████▏ 4.8 KB                         \n",
      "pulling 2e0493f67d0c... 100% ▕████████████████▏   59 B                         \n",
      "pulling fa304d675061... 100% ▕████████████████▏   91 B                         \n",
      "pulling 42ba7f8a01dd... 100% ▕████████████████▏  557 B                         \n",
      "verifying sha256 digest ⠦ \u001b[?25h\u001b[?25l\u001b[2K\u001b[1G\u001b[A\u001b[2K\u001b[1G\u001b[A\u001b[2K\u001b[1G\u001b[A\u001b[2K\u001b[1G\u001b[A\u001b[2K\u001b[1G\u001b[A\u001b[2K\u001b[1G\u001b[A\u001b[2K\u001b[1G\u001b[A\u001b[2K\u001b[1Gpulling manifest \n",
      "pulling 8934d96d3f08... 100% ▕████████████████▏ 3.8 GB                         \n",
      "pulling 8c17c2ebb0ea... 100% ▕████████████████▏ 7.0 KB                         \n",
      "pulling 7c23fb36d801... 100% ▕████████████████▏ 4.8 KB                         \n",
      "pulling 2e0493f67d0c... 100% ▕████████████████▏   59 B                         \n",
      "pulling fa304d675061... 100% ▕████████████████▏   91 B                         \n",
      "pulling 42ba7f8a01dd... 100% ▕████████████████▏  557 B                         \n",
      "verifying sha256 digest ⠧ \u001b[?25h\u001b[?25l\u001b[2K\u001b[1G\u001b[A\u001b[2K\u001b[1G\u001b[A\u001b[2K\u001b[1G\u001b[A\u001b[2K\u001b[1G\u001b[A\u001b[2K\u001b[1G\u001b[A\u001b[2K\u001b[1G\u001b[A\u001b[2K\u001b[1G\u001b[A\u001b[2K\u001b[1Gpulling manifest \n",
      "pulling 8934d96d3f08... 100% ▕████████████████▏ 3.8 GB                         \n",
      "pulling 8c17c2ebb0ea... 100% ▕████████████████▏ 7.0 KB                         \n",
      "pulling 7c23fb36d801... 100% ▕████████████████▏ 4.8 KB                         \n",
      "pulling 2e0493f67d0c... 100% ▕████████████████▏   59 B                         \n",
      "pulling fa304d675061... 100% ▕████████████████▏   91 B                         \n",
      "pulling 42ba7f8a01dd... 100% ▕████████████████▏  557 B                         \n",
      "verifying sha256 digest ⠇ \u001b[?25h\u001b[?25l\u001b[2K\u001b[1G\u001b[A\u001b[2K\u001b[1G\u001b[A\u001b[2K\u001b[1G\u001b[A\u001b[2K\u001b[1G\u001b[A\u001b[2K\u001b[1G\u001b[A\u001b[2K\u001b[1G\u001b[A\u001b[2K\u001b[1G\u001b[A\u001b[2K\u001b[1Gpulling manifest \n",
      "pulling 8934d96d3f08... 100% ▕████████████████▏ 3.8 GB                         \n",
      "pulling 8c17c2ebb0ea... 100% ▕████████████████▏ 7.0 KB                         \n",
      "pulling 7c23fb36d801... 100% ▕████████████████▏ 4.8 KB                         \n",
      "pulling 2e0493f67d0c... 100% ▕████████████████▏   59 B                         \n",
      "pulling fa304d675061... 100% ▕████████████████▏   91 B                         \n",
      "pulling 42ba7f8a01dd... 100% ▕████████████████▏  557 B                         \n",
      "verifying sha256 digest ⠏ \u001b[?25h\u001b[?25l\u001b[2K\u001b[1G\u001b[A\u001b[2K\u001b[1G\u001b[A\u001b[2K\u001b[1G\u001b[A\u001b[2K\u001b[1G\u001b[A\u001b[2K\u001b[1G\u001b[A\u001b[2K\u001b[1G\u001b[A\u001b[2K\u001b[1G\u001b[A\u001b[2K\u001b[1Gpulling manifest \n",
      "pulling 8934d96d3f08... 100% ▕████████████████▏ 3.8 GB                         \n",
      "pulling 8c17c2ebb0ea... 100% ▕████████████████▏ 7.0 KB                         \n",
      "pulling 7c23fb36d801... 100% ▕████████████████▏ 4.8 KB                         \n",
      "pulling 2e0493f67d0c... 100% ▕████████████████▏   59 B                         \n",
      "pulling fa304d675061... 100% ▕████████████████▏   91 B                         \n",
      "pulling 42ba7f8a01dd... 100% ▕████████████████▏  557 B                         \n",
      "verifying sha256 digest ⠋ \u001b[?25h\u001b[?25l\u001b[2K\u001b[1G\u001b[A\u001b[2K\u001b[1G\u001b[A\u001b[2K\u001b[1G\u001b[A\u001b[2K\u001b[1G\u001b[A\u001b[2K\u001b[1G\u001b[A\u001b[2K\u001b[1G\u001b[A\u001b[2K\u001b[1G\u001b[A\u001b[2K\u001b[1Gpulling manifest \n",
      "pulling 8934d96d3f08... 100% ▕████████████████▏ 3.8 GB                         \n",
      "pulling 8c17c2ebb0ea... 100% ▕████████████████▏ 7.0 KB                         \n",
      "pulling 7c23fb36d801... 100% ▕████████████████▏ 4.8 KB                         \n",
      "pulling 2e0493f67d0c... 100% ▕████████████████▏   59 B                         \n",
      "pulling fa304d675061... 100% ▕████████████████▏   91 B                         \n",
      "pulling 42ba7f8a01dd... 100% ▕████████████████▏  557 B                         \n",
      "verifying sha256 digest ⠙ \u001b[?25h\u001b[?25l\u001b[2K\u001b[1G\u001b[A\u001b[2K\u001b[1G\u001b[A\u001b[2K\u001b[1G\u001b[A\u001b[2K\u001b[1G\u001b[A\u001b[2K\u001b[1G\u001b[A\u001b[2K\u001b[1G\u001b[A\u001b[2K\u001b[1G\u001b[A\u001b[2K\u001b[1Gpulling manifest \n",
      "pulling 8934d96d3f08... 100% ▕████████████████▏ 3.8 GB                         \n",
      "pulling 8c17c2ebb0ea... 100% ▕████████████████▏ 7.0 KB                         \n",
      "pulling 7c23fb36d801... 100% ▕████████████████▏ 4.8 KB                         \n",
      "pulling 2e0493f67d0c... 100% ▕████████████████▏   59 B                         \n",
      "pulling fa304d675061... 100% ▕████████████████▏   91 B                         \n",
      "pulling 42ba7f8a01dd... 100% ▕████████████████▏  557 B                         \n",
      "verifying sha256 digest ⠹ \u001b[?25h\u001b[?25l\u001b[2K\u001b[1G\u001b[A\u001b[2K\u001b[1G\u001b[A\u001b[2K\u001b[1G\u001b[A\u001b[2K\u001b[1G\u001b[A\u001b[2K\u001b[1G\u001b[A\u001b[2K\u001b[1G\u001b[A\u001b[2K\u001b[1G\u001b[A\u001b[2K\u001b[1Gpulling manifest \n",
      "pulling 8934d96d3f08... 100% ▕████████████████▏ 3.8 GB                         \n",
      "pulling 8c17c2ebb0ea... 100% ▕████████████████▏ 7.0 KB                         \n",
      "pulling 7c23fb36d801... 100% ▕████████████████▏ 4.8 KB                         \n",
      "pulling 2e0493f67d0c... 100% ▕████████████████▏   59 B                         \n",
      "pulling fa304d675061... 100% ▕████████████████▏   91 B                         \n",
      "pulling 42ba7f8a01dd... 100% ▕████████████████▏  557 B                         \n",
      "verifying sha256 digest ⠸ \u001b[?25h\u001b[?25l\u001b[2K\u001b[1G\u001b[A\u001b[2K\u001b[1G\u001b[A\u001b[2K\u001b[1G\u001b[A\u001b[2K\u001b[1G\u001b[A\u001b[2K\u001b[1G\u001b[A\u001b[2K\u001b[1G\u001b[A\u001b[2K\u001b[1G\u001b[A\u001b[2K\u001b[1Gpulling manifest \n",
      "pulling 8934d96d3f08... 100% ▕████████████████▏ 3.8 GB                         \n",
      "pulling 8c17c2ebb0ea... 100% ▕████████████████▏ 7.0 KB                         \n",
      "pulling 7c23fb36d801... 100% ▕████████████████▏ 4.8 KB                         \n",
      "pulling 2e0493f67d0c... 100% ▕████████████████▏   59 B                         \n",
      "pulling fa304d675061... 100% ▕████████████████▏   91 B                         \n",
      "pulling 42ba7f8a01dd... 100% ▕████████████████▏  557 B                         \n",
      "verifying sha256 digest ⠼ \u001b[?25h\u001b[?25l\u001b[2K\u001b[1G\u001b[A\u001b[2K\u001b[1G\u001b[A\u001b[2K\u001b[1G\u001b[A\u001b[2K\u001b[1G\u001b[A\u001b[2K\u001b[1G\u001b[A\u001b[2K\u001b[1G\u001b[A\u001b[2K\u001b[1G\u001b[A\u001b[2K\u001b[1Gpulling manifest \n",
      "pulling 8934d96d3f08... 100% ▕████████████████▏ 3.8 GB                         \n",
      "pulling 8c17c2ebb0ea... 100% ▕████████████████▏ 7.0 KB                         \n",
      "pulling 7c23fb36d801... 100% ▕████████████████▏ 4.8 KB                         \n",
      "pulling 2e0493f67d0c... 100% ▕████████████████▏   59 B                         \n",
      "pulling fa304d675061... 100% ▕████████████████▏   91 B                         \n",
      "pulling 42ba7f8a01dd... 100% ▕████████████████▏  557 B                         \n",
      "verifying sha256 digest ⠴ \u001b[?25h\u001b[?25l\u001b[2K\u001b[1G\u001b[A\u001b[2K\u001b[1G\u001b[A\u001b[2K\u001b[1G\u001b[A\u001b[2K\u001b[1G\u001b[A\u001b[2K\u001b[1G\u001b[A\u001b[2K\u001b[1G\u001b[A\u001b[2K\u001b[1G\u001b[A\u001b[2K\u001b[1Gpulling manifest \n",
      "pulling 8934d96d3f08... 100% ▕████████████████▏ 3.8 GB                         \n",
      "pulling 8c17c2ebb0ea... 100% ▕████████████████▏ 7.0 KB                         \n",
      "pulling 7c23fb36d801... 100% ▕████████████████▏ 4.8 KB                         \n",
      "pulling 2e0493f67d0c... 100% ▕████████████████▏   59 B                         \n",
      "pulling fa304d675061... 100% ▕████████████████▏   91 B                         \n",
      "pulling 42ba7f8a01dd... 100% ▕████████████████▏  557 B                         \n",
      "verifying sha256 digest ⠦ \u001b[?25h\u001b[?25l\u001b[2K\u001b[1G\u001b[A\u001b[2K\u001b[1G\u001b[A\u001b[2K\u001b[1G\u001b[A\u001b[2K\u001b[1G\u001b[A\u001b[2K\u001b[1G\u001b[A\u001b[2K\u001b[1G\u001b[A\u001b[2K\u001b[1G\u001b[A\u001b[2K\u001b[1Gpulling manifest \n",
      "pulling 8934d96d3f08... 100% ▕████████████████▏ 3.8 GB                         \n",
      "pulling 8c17c2ebb0ea... 100% ▕████████████████▏ 7.0 KB                         \n",
      "pulling 7c23fb36d801... 100% ▕████████████████▏ 4.8 KB                         \n",
      "pulling 2e0493f67d0c... 100% ▕████████████████▏   59 B                         \n",
      "pulling fa304d675061... 100% ▕████████████████▏   91 B                         \n",
      "pulling 42ba7f8a01dd... 100% ▕████████████████▏  557 B                         \n",
      "verifying sha256 digest ⠧ \u001b[?25h\u001b[?25l\u001b[2K\u001b[1G\u001b[A\u001b[2K\u001b[1G\u001b[A\u001b[2K\u001b[1G\u001b[A\u001b[2K\u001b[1G\u001b[A\u001b[2K\u001b[1G\u001b[A\u001b[2K\u001b[1G\u001b[A\u001b[2K\u001b[1G\u001b[A\u001b[2K\u001b[1Gpulling manifest \n",
      "pulling 8934d96d3f08... 100% ▕████████████████▏ 3.8 GB                         \n",
      "pulling 8c17c2ebb0ea... 100% ▕████████████████▏ 7.0 KB                         \n",
      "pulling 7c23fb36d801... 100% ▕████████████████▏ 4.8 KB                         \n",
      "pulling 2e0493f67d0c... 100% ▕████████████████▏   59 B                         \n",
      "pulling fa304d675061... 100% ▕████████████████▏   91 B                         \n",
      "pulling 42ba7f8a01dd... 100% ▕████████████████▏  557 B                         \n",
      "verifying sha256 digest ⠇ \u001b[?25h\u001b[?25l\u001b[2K\u001b[1G\u001b[A\u001b[2K\u001b[1G\u001b[A\u001b[2K\u001b[1G\u001b[A\u001b[2K\u001b[1G\u001b[A\u001b[2K\u001b[1G\u001b[A\u001b[2K\u001b[1G\u001b[A\u001b[2K\u001b[1G\u001b[A\u001b[2K\u001b[1Gpulling manifest \n",
      "pulling 8934d96d3f08... 100% ▕████████████████▏ 3.8 GB                         \n",
      "pulling 8c17c2ebb0ea... 100% ▕████████████████▏ 7.0 KB                         \n",
      "pulling 7c23fb36d801... 100% ▕████████████████▏ 4.8 KB                         \n",
      "pulling 2e0493f67d0c... 100% ▕████████████████▏   59 B                         \n",
      "pulling fa304d675061... 100% ▕████████████████▏   91 B                         \n",
      "pulling 42ba7f8a01dd... 100% ▕████████████████▏  557 B                         \n",
      "verifying sha256 digest ⠏ \u001b[?25h\u001b[?25l\u001b[2K\u001b[1G\u001b[A\u001b[2K\u001b[1G\u001b[A\u001b[2K\u001b[1G\u001b[A\u001b[2K\u001b[1G\u001b[A\u001b[2K\u001b[1G\u001b[A\u001b[2K\u001b[1G\u001b[A\u001b[2K\u001b[1G\u001b[A\u001b[2K\u001b[1Gpulling manifest \n",
      "pulling 8934d96d3f08... 100% ▕████████████████▏ 3.8 GB                         \n",
      "pulling 8c17c2ebb0ea... 100% ▕████████████████▏ 7.0 KB                         \n",
      "pulling 7c23fb36d801... 100% ▕████████████████▏ 4.8 KB                         \n",
      "pulling 2e0493f67d0c... 100% ▕████████████████▏   59 B                         \n",
      "pulling fa304d675061... 100% ▕████████████████▏   91 B                         \n",
      "pulling 42ba7f8a01dd... 100% ▕████████████████▏  557 B                         \n",
      "verifying sha256 digest ⠋ \u001b[?25h\u001b[?25l\u001b[2K\u001b[1G\u001b[A\u001b[2K\u001b[1G\u001b[A\u001b[2K\u001b[1G\u001b[A\u001b[2K\u001b[1G\u001b[A\u001b[2K\u001b[1G\u001b[A\u001b[2K\u001b[1G\u001b[A\u001b[2K\u001b[1G\u001b[A\u001b[2K\u001b[1Gpulling manifest \n",
      "pulling 8934d96d3f08... 100% ▕████████████████▏ 3.8 GB                         \n",
      "pulling 8c17c2ebb0ea... 100% ▕████████████████▏ 7.0 KB                         \n",
      "pulling 7c23fb36d801... 100% ▕████████████████▏ 4.8 KB                         \n",
      "pulling 2e0493f67d0c... 100% ▕████████████████▏   59 B                         \n",
      "pulling fa304d675061... 100% ▕████████████████▏   91 B                         \n",
      "pulling 42ba7f8a01dd... 100% ▕████████████████▏  557 B                         \n",
      "verifying sha256 digest ⠙ \u001b[?25h\u001b[?25l\u001b[2K\u001b[1G\u001b[A\u001b[2K\u001b[1G\u001b[A\u001b[2K\u001b[1G\u001b[A\u001b[2K\u001b[1G\u001b[A\u001b[2K\u001b[1G\u001b[A\u001b[2K\u001b[1G\u001b[A\u001b[2K\u001b[1G\u001b[A\u001b[2K\u001b[1Gpulling manifest \n",
      "pulling 8934d96d3f08... 100% ▕████████████████▏ 3.8 GB                         \n",
      "pulling 8c17c2ebb0ea... 100% ▕████████████████▏ 7.0 KB                         \n",
      "pulling 7c23fb36d801... 100% ▕████████████████▏ 4.8 KB                         \n",
      "pulling 2e0493f67d0c... 100% ▕████████████████▏   59 B                         \n",
      "pulling fa304d675061... 100% ▕████████████████▏   91 B                         \n",
      "pulling 42ba7f8a01dd... 100% ▕████████████████▏  557 B                         \n",
      "verifying sha256 digest \n",
      "writing manifest \n",
      "removing any unused layers \n",
      "success \u001b[?25h\n",
      "\u001b[?25lpulling manifest ⠙ \u001b[?25h\u001b[?25l\u001b[2K\u001b[1Gpulling manifest ⠹ \u001b[?25h\u001b[?25l\u001b[2K\u001b[1Gpulling manifest ⠸ \u001b[?25h\u001b[?25l\u001b[2K\u001b[1Gpulling manifest ⠼ \u001b[?25h\u001b[?25l\u001b[2K\u001b[1Gpulling manifest ⠴ \u001b[?25h\u001b[?25l\u001b[2K\u001b[1Gpulling manifest ⠴ \u001b[?25h\u001b[?25l\u001b[2K\u001b[1Gpulling manifest ⠧ \u001b[?25h\u001b[?25l\u001b[2K\u001b[1Gpulling manifest ⠇ \u001b[?25h\u001b[?25l\u001b[2K\u001b[1Gpulling manifest \n",
      "pulling 797b70c4edf8... 100% ▕████████████████▏  45 MB                         \n",
      "pulling c71d239df917... 100% ▕████████████████▏  11 KB                         \n",
      "pulling 85011998c600... 100% ▕████████████████▏   16 B                         \n",
      "pulling 548455b72658... 100% ▕████████████████▏  407 B                         \n",
      "verifying sha256 digest \n",
      "writing manifest \n",
      "removing any unused layers \n",
      "success \u001b[?25h\n"
     ]
    }
   ],
   "source": [
    "!ollama pull llama2\n",
    "!ollama pull all-minilm # mxbai-embed-large"
   ]
  },
  {
   "cell_type": "markdown",
   "metadata": {},
   "source": [
    "4. Optional: Test if the vectorizer works (`ollama run llama2`)"
   ]
  },
  {
   "cell_type": "code",
   "execution_count": 2,
   "metadata": {},
   "outputs": [
    {
     "name": "stdout",
     "output_type": "stream",
     "text": [
      "{\"embedding\":[-0.37209033966064453,0.41945910453796387,-0.42962121963500977,0.301665335893631,-0.47567272186279297,-0.006124582141637802,-0.18393747508525848,-0.4657520353794098,0.024121297523379326,0.41036325693130493,0.2584318220615387,-0.3501233458518982,0.3749215006828308,-0.17598895728588104,0.0711904764175415,0.07458031177520752,-0.01956084743142128,0.0819740742444992,-0.11168335378170013,-0.09002675116062164,-0.14640718698501587,-0.003168143332004547,0.3027119040489197,0.036542121320962906,-0.38922950625419617,0.6812086701393127,0.022584855556488037,-0.14138051867485046,0.007853759452700615,0.056560762226581573,-0.3321329951286316,-0.17216357588768005,0.3234858512878418,-0.07221385836601257,-0.25651711225509644,0.26626133918762207,0.2913508415222168,0.4247307777404785,0.531809389591217,0.2818898856639862,0.3869876265525818,0.10163667798042297,0.44477325677871704,-0.4057876169681549,0.18915584683418274,-0.46048250794410706,-0.1599886119365692,0.4838547110557556,0.37467050552368164,0.5489786863327026,0.03950950503349304,-0.47058647871017456,0.023886648938059807,-0.08725707232952118,0.1774318814277649,-0.2026488184928894,-0.45874083042144775,-0.30728280544281006,-0.0655234158039093,0.10643117129802704,0.40838348865509033,0.13274240493774414,0.023195555433630943,0.2408665418624878,-0.10203438252210617,-0.04191429913043976,0.07857876271009445,-0.20157694816589355,-0.018373876810073853,-0.45229092240333557,-0.11794888228178024,-0.048641983419656754,-0.16064128279685974,0.4971936047077179,-0.8507972955703735,0.3952779769897461,0.3996374011039734,-0.19274328649044037,-0.3220020532608032,0.23038017749786377,-0.34131869673728943,-0.07201544940471649,-0.05530153214931488,0.18839450180530548,-0.01031940896064043,0.41932588815689087,0.048731137067079544,-0.048124805092811584,-0.2311696857213974,-0.04325147718191147,-0.10154056549072266,-0.3987206816673279,0.39738303422927856,-0.16688580811023712,0.09610196948051453,-0.1740434318780899,0.24585872888565063,0.3052745759487152,-0.5116039514541626,0.2130918651819229,-0.073385089635849,-0.4634999632835388,0.1535351723432541,0.05950577184557915,-0.1531306356191635,0.06365344673395157,-0.4396103024482727,0.05053701251745224,-0.04075149819254875,-0.25876685976982117,-0.6404903531074524,0.10672592371702194,-0.5257860422134399,0.3974034786224365,-0.08858504146337509,-0.05106503143906593,0.029038021340966225,-0.0720849558711052,-0.45400524139404297,-0.2558499574661255,-0.019033368676900864,-0.09344528615474701,0.375601202249527,-0.043496254831552505,0.5519961714744568,-0.010452371090650558,-0.23284952342510223,-1.393872695467061e-32,0.13052667677402496,-0.31139400601387024,0.17242053151130676,-0.06438953429460526,0.02074982225894928,-0.1283559799194336,-0.37698808312416077,0.26793986558914185,-0.3396163880825043,-0.16427284479141235,-0.5153746008872986,0.18173933029174805,0.3735239803791046,-0.18889868259429932,0.2136746644973755,0.08191340416669846,-0.20752465724945068,-0.21216821670532227,0.16151365637779236,-0.6101203560829163,-0.38703441619873047,0.5350027680397034,0.28569716215133667,-0.13036179542541504,-0.2860144376754761,0.18782968819141388,0.5696808695793152,-0.5237735509872437,-0.5575640201568604,0.1863565742969513,0.056216612458229065,-0.0055171772837638855,-0.38307106494903564,-0.010429512709379196,-0.410847008228302,0.20786389708518982,-0.19443587958812714,-0.27672287821769714,-0.33873021602630615,-0.03521300107240677,-0.12021312117576599,-0.16079704463481903,-0.02580297738313675,0.1872997283935547,-0.21164003014564514,-0.15188182890415192,0.017056845128536224,-0.3072252869606018,0.10919933021068573,0.3950623869895935,-0.18403446674346924,0.36776474118232727,0.193450465798378,0.26436513662338257,-0.24407421052455902,-0.11202553659677505,0.23397284746170044,0.2149268090724945,-0.10513941943645477,0.2545173168182373,0.28994855284690857,-0.12789547443389893,-0.005550257861614227,-0.09852835536003113,-0.02616177499294281,0.16143718361854553,0.04082256555557251,0.07622797787189484,0.6219577193260193,0.06422118842601776,0.4534900188446045,0.0761273205280304,0.24534140527248383,0.3397858440876007,0.15807770192623138,-0.02060851827263832,0.1291147768497467,0.3414180278778076,-0.1551847755908966,0.1298799216747284,0.25647664070129395,0.2953099012374878,0.499838650226593,0.009898758493363857,-0.25320762395858765,0.18592053651809692,0.13019394874572754,0.23021668195724487,-0.457153856754303,-0.453892320394516,0.14225246012210846,0.5112994909286499,-0.3583093285560608,-0.38234347105026245,0.35166412591934204,-1.961471750768317e-33,-0.012965701520442963,-0.17010711133480072,-0.12123184651136398,-0.35493677854537964,-0.27631503343582153,-0.43949824571609497,0.3679261803627014,0.27992314100265503,-0.3097590208053589,0.09422089159488678,-0.020984165370464325,0.06871011108160019,-0.04599980264902115,-0.311811625957489,0.13170649111270905,-0.3077235817909241,-0.09357818216085434,-0.1508655846118927,0.2299269586801529,-0.6516737937927246,0.001304134726524353,0.16466380655765533,0.2712422013282776,-0.4356854259967804,0.21923813223838806,-0.30168062448501587,-0.15682804584503174,0.07861083000898361,-0.2610197365283966,-0.03343929350376129,-0.1896410882472992,0.36612144112586975,-0.02603141963481903,-0.1798054575920105,0.06024153158068657,-0.14110594987869263,-0.5858433842658997,0.24278391897678375,-0.02997596189379692,-0.17848439514636993,-0.05301710590720177,0.32303866744041443,-0.0632171481847763,0.10957224667072296,0.44106268882751465,0.3788635730743408,-0.13664820790290833,0.1267879605293274,-0.17723381519317627,-0.05754293501377106,0.36879223585128784,0.2253907024860382,0.4214901626110077,0.13192689418792725,0.9874517321586609,0.0189534779638052,-0.25634896755218506,-0.19266784191131592,0.15025414526462555,-0.10584060847759247,0.08010183274745941,-0.11066581308841705,0.02172360196709633,-0.023356176912784576,0.30773836374282837,-0.07578292489051819,-0.08771444112062454,-0.19032829999923706,0.4195217788219452,0.14262042939662933,0.31274518370628357,-0.47900617122650146,-0.25897133350372314,-0.19332155585289001,0.314441442489624,-0.01662939041852951,-0.5543906688690186,-0.04148702323436737,0.16160999238491058,-0.012709449976682663,-0.25939369201660156,-0.09126201272010803,0.2506054937839508,0.25572311878204346,0.07650640606880188,-0.30574145913124084,0.603861391544342,0.35968664288520813,0.08213572204113007,0.3328155279159546,-0.01913725771009922,-0.20091168582439423,0.18375512957572937,-0.014483239501714706,-0.0025200359523296356,-9.868210781860398e-8,-0.09623037278652191,0.09487982094287872,0.10423922538757324,0.24417413771152496,0.17205572128295898,0.5242272615432739,-0.6974058151245117,0.26162025332450867,0.24764740467071533,0.07649681717157364,0.3931533694267273,0.00048540160059928894,0.1821220964193344,0.33594685792922974,-0.14935608208179474,-0.10455330461263657,0.20635674893856049,-0.03135408088564873,0.03213052079081535,0.014914823696017265,-0.43815404176712036,-0.07119771838188171,-0.20042815804481506,-0.13498422503471375,0.05023503303527832,-0.1443944275379181,-0.1743946522474289,-0.19978810846805573,0.08767610043287277,0.10155776888132095,-0.6871986389160156,-0.2343878149986267,-0.030755287036299706,-0.514163613319397,-0.03656774014234543,0.18806356191635132,-0.14379580318927765,0.07245340943336487,0.3606613278388977,-0.03439561650156975,-0.15575245022773743,-0.4734754264354706,0.1786009967327118,0.29324036836624146,0.19475480914115906,0.12240459024906158,0.05384033918380737,0.1816522479057312,-0.6758416891098022,-0.432510107755661,0.113388292491436,-0.15828272700309753,0.06823204457759857,-0.24538937211036682,-0.3672160506248474,-0.4527789056301117,-0.15739595890045166,-0.36564353108406067,0.12703663110733032,0.221724733710289,0.3191145658493042,0.2028302550315857,0.2269177883863449,0.16832202672958374]}"
     ]
    }
   ],
   "source": [
    "!curl http://localhost:11434/api/embeddings -d '{\"model\": \"all-minilm\",\"prompt\": \"Llamas are members of the camelid family\"}'"
   ]
  },
  {
   "cell_type": "markdown",
   "metadata": {},
   "source": [
    "5. Optional: Test if the llm/generative model is working"
   ]
  },
  {
   "cell_type": "code",
   "execution_count": 3,
   "metadata": {},
   "outputs": [
    {
     "name": "stdout",
     "output_type": "stream",
     "text": [
      "{\"model\":\"llama2\",\"created_at\":\"2024-05-30T22:39:27.190227Z\",\"response\":\"A vector database is a type of database that stores data in the form of vectors, rather than traditional relational tables. In a vector database, each data point is represented as a vector in a high-dimensional space, where each dimension corresponds to a feature or attribute of the data. This allows for efficient querying and analysis of the data using vector-based algorithms, such as vector similarity searches, clustering, and classification.\\n\\nVector databases are particularly useful for handling large amounts of structured or unstructured text data, such as documents, emails, or social media posts. They can also be used for image and video analysis, where each frame or pixel is represented as a vector in a high-dimensional space.\\n\\nSome common use cases for vector databases include:\\n\\n1. Text classification: A vector database can be used to store text data and perform efficient similarity searches and clustering to classify new documents or emails based on their content.\\n2. Recommendation systems: By analyzing the vectors of items that a user has interacted with in the past, a vector database can be used to recommend items that are similar in content or style to those the user has liked or purchased before.\\n3. Image and video analysis: A vector database can be used to store images or videos and perform efficient similarity searches to detect objects, scenes, or activities within the frames.\\n4. Natural language processing: Vector databases can be used to store text data and perform efficient similarity searches and clustering to analyze the meaning and context of words or phrases in a document or conversation.\\n5. Bioinformatics: Vector databases can be used to store genomic or proteomic data and perform efficient similarity searches to identify similarities between different organisms or molecules.\\n\\nSome examples of vector databases include:\\n\\n1. Word2Vec: A vector database that stores word embeddings in a high-dimensional space, allowing for efficient similarity searches and clustering of words based on their meaning and context.\\n2. Doc2Vec: A variant of Word2Vec that stores document embeddings in a high-dimensional space, allowing for efficient similarity searches and clustering of documents based on their content.\\n3. ImageNet: A large-scale vector database that stores image features in a high-dimensional space, allowing for efficient similarity searches and classification of images based on their content.\\n4. YouTube-VOS: A video analysis tool that uses a vector database to store video features in a high-dimensional space, allowing for efficient similarity searches and clustering of videos based on their content.\\n5. Gene Ontology: A vector database that stores gene expression data in a high-dimensional space, allowing for efficient similarity searches and clustering of genes based on their function or expression pattern.\",\"done\":true,\"done_reason\":\"stop\",\"context\":[518,25580,29962,3532,14816,29903,29958,5299,829,14816,29903,6778,13,13,5618,338,263,4608,2566,29973,518,29914,25580,29962,13,29909,4608,2566,338,263,1134,310,2566,393,14422,848,297,278,883,310,12047,29892,3265,1135,13807,1104,1288,6131,29889,512,263,4608,2566,29892,1269,848,1298,338,9875,408,263,4608,297,263,1880,29899,12531,2913,29892,988,1269,9927,16161,304,263,4682,470,5352,310,278,848,29889,910,6511,363,8543,2346,292,322,7418,310,278,848,773,4608,29899,6707,14009,29892,1316,408,4608,29501,29645,29892,16993,3241,29892,322,12965,29889,13,13,12877,21218,526,10734,5407,363,11415,2919,26999,310,2281,2955,470,443,4984,2955,1426,848,29892,1316,408,10701,29892,24609,29892,470,5264,5745,11803,29889,2688,508,884,367,1304,363,1967,322,4863,7418,29892,988,1269,3515,470,15526,338,9875,408,263,4608,297,263,1880,29899,12531,2913,29889,13,13,9526,3619,671,4251,363,4608,21218,3160,29901,13,13,29896,29889,3992,12965,29901,319,4608,2566,508,367,1304,304,3787,1426,848,322,2189,8543,29501,29645,322,16993,3241,304,770,1598,716,10701,470,24609,2729,373,1009,2793,29889,13,29906,29889,830,2055,355,362,6757,29901,2648,29537,292,278,12047,310,4452,393,263,1404,756,16254,287,411,297,278,4940,29892,263,4608,2566,508,367,1304,304,6907,4452,393,526,2788,297,2793,470,3114,304,1906,278,1404,756,23289,470,20848,1434,29889,13,29941,29889,7084,322,4863,7418,29901,319,4608,2566,508,367,1304,304,3787,4558,470,19707,322,2189,8543,29501,29645,304,6459,3618,29892,20407,29892,470,14188,2629,278,16608,29889,13,29946,29889,18385,4086,9068,29901,16510,21218,508,367,1304,304,3787,1426,848,322,2189,8543,29501,29645,322,16993,3241,304,27599,278,6593,322,3030,310,3838,470,12216,2129,297,263,1842,470,14983,29889,13,29945,29889,21184,262,4830,1199,29901,16510,21218,508,367,1304,304,3787,20853,293,470,3279,25426,848,322,2189,8543,29501,29645,304,12439,2788,1907,1546,1422,2894,12903,470,13206,21337,29889,13,13,9526,6455,310,4608,21218,3160,29901,13,13,29896,29889,10803,29906,25987,29901,319,4608,2566,393,14422,1734,8297,29881,886,297,263,1880,29899,12531,2913,29892,14372,363,8543,29501,29645,322,16993,3241,310,3838,2729,373,1009,6593,322,3030,29889,13,29906,29889,28197,29906,25987,29901,319,17305,310,10803,29906,25987,393,14422,1842,8297,29881,886,297,263,1880,29899,12531,2913,29892,14372,363,8543,29501,29645,322,16993,3241,310,10701,2729,373,1009,2793,29889,13,29941,29889,7084,6779,29901,319,2919,29899,7052,4608,2566,393,14422,1967,5680,297,263,1880,29899,12531,2913,29892,14372,363,8543,29501,29645,322,12965,310,4558,2729,373,1009,2793,29889,13,29946,29889,14711,29899,29963,3267,29901,319,4863,7418,5780,393,3913,263,4608,2566,304,3787,4863,5680,297,263,1880,29899,12531,2913,29892,14372,363,8543,29501,29645,322,16993,3241,310,19707,2729,373,1009,2793,29889,13,29945,29889,15350,18265,3002,29901,319,4608,2566,393,14422,18530,4603,848,297,263,1880,29899,12531,2913,29892,14372,363,8543,29501,29645,322,16993,3241,310,2531,267,2729,373,1009,740,470,4603,4766,29889],\"total_duration\":16970170584,\"load_duration\":947765584,\"prompt_eval_count\":26,\"prompt_eval_duration\":124450000,\"eval_count\":575,\"eval_duration\":15897317000}"
     ]
    }
   ],
   "source": [
    "!curl http://localhost:11434/api/generate -d '{\"model\": \"llama2\",\"prompt\":\"What is a vector database?\", \"stream\": false }'"
   ]
  },
  {
   "cell_type": "code",
   "execution_count": 3,
   "metadata": {},
   "outputs": [
    {
     "name": "stdout",
     "output_type": "stream",
     "text": [
      "Started /Users/dudanogueira/.cache/weaviate-embedded: process ID 32664\n"
     ]
    },
    {
     "name": "stderr",
     "output_type": "stream",
     "text": [
      "{\"action\":\"startup\",\"default_vectorizer_module\":\"none\",\"level\":\"info\",\"msg\":\"the default vectorizer modules is set to \\\"none\\\", as a result all new schema classes without an explicit vectorizer setting, will use this vectorizer\",\"time\":\"2024-05-30T19:49:54-03:00\"}\n",
      "{\"action\":\"startup\",\"auto_schema_enabled\":true,\"level\":\"info\",\"msg\":\"auto schema enabled setting is set to \\\"true\\\"\",\"time\":\"2024-05-30T19:49:54-03:00\"}\n",
      "{\"level\":\"info\",\"msg\":\"No resource limits set, weaviate will use all available memory and CPU. To limit resources, set LIMIT_RESOURCES=true\",\"time\":\"2024-05-30T19:49:54-03:00\"}\n",
      "{\"level\":\"info\",\"msg\":\"open cluster service\",\"servers\":{\"Embedded_at_8079\":51849},\"time\":\"2024-05-30T19:49:54-03:00\"}\n",
      "{\"address\":\"192.168.28.99:51850\",\"level\":\"info\",\"msg\":\"starting cloud rpc server ...\",\"time\":\"2024-05-30T19:49:54-03:00\"}\n",
      "{\"level\":\"info\",\"msg\":\"starting raft sub-system ...\",\"time\":\"2024-05-30T19:49:54-03:00\"}\n",
      "{\"address\":\"192.168.28.99:51849\",\"level\":\"info\",\"msg\":\"tcp transport\",\"tcpMaxPool\":3,\"tcpTimeout\":10000000000,\"time\":\"2024-05-30T19:49:54-03:00\"}\n",
      "{\"level\":\"info\",\"metadata_only_voters\":false,\"msg\":\"construct a new raft node\",\"name\":\"Embedded_at_8079\",\"time\":\"2024-05-30T19:49:54-03:00\"}\n",
      "{\"id\":\"2-3-1716906483472\",\"last-index\":3,\"last-term\":2,\"level\":\"info\",\"msg\":\"starting restore from snapshot\",\"size-in-bytes\":20109,\"time\":\"2024-05-30T19:49:54-03:00\"}\n",
      "{\"level\":\"info\",\"msg\":\"restoring schema from snapshot\",\"time\":\"2024-05-30T19:49:54-03:00\"}\n",
      "{\"level\":\"info\",\"msg\":\"successfully restored schema from snapshot\",\"time\":\"2024-05-30T19:49:54-03:00\"}\n",
      "{\"last_applied_index\":0,\"last_snapshot_index\":3,\"last_store_log_applied_index\":26,\"level\":\"info\",\"msg\":\"load local db from snapshot\",\"time\":\"2024-05-30T19:49:54-03:00\"}\n",
      "{\"action\":\"\",\"id\":\"2-3-1716906483472\",\"last-index\":3,\"last-term\":2,\"level\":\"info\",\"msg\":\"snapshot restore progress\",\"percent-complete\":\"[100.00]%\",\"read-bytes\":20109,\"size-in-bytes\":20109,\"time\":\"2024-05-30T19:49:54-03:00\"}\n",
      "{\"id\":\"2-3-1716906483472\",\"last-index\":3,\"last-term\":2,\"level\":\"info\",\"msg\":\"restored from snapshot\",\"size-in-bytes\":20109,\"time\":\"2024-05-30T19:49:54-03:00\"}\n",
      "{\"action\":\"raft\",\"index\":18,\"level\":\"info\",\"msg\":\"raft initial configuration\",\"servers\":\"[[{Suffrage:Voter ID:Embedded_at_8079 Address:192.168.28.99:51558}]]\",\"time\":\"2024-05-30T19:49:54-03:00\"}\n",
      "{\"level\":\"info\",\"msg\":\"loading local db\",\"time\":\"2024-05-30T19:49:54-03:00\"}\n",
      "{\"action\":\"raft\",\"follower\":{},\"leader-address\":\"\",\"leader-id\":\"\",\"level\":\"info\",\"msg\":\"raft entering follower state\",\"time\":\"2024-05-30T19:49:54-03:00\"}\n",
      "{\"level\":\"info\",\"msg\":\"database has been successfully loaded\",\"n\":1,\"time\":\"2024-05-30T19:49:54-03:00\"}\n",
      "{\"last_snapshot_index\":3,\"last_store_applied_index\":3,\"last_store_log_applied_index\":26,\"level\":\"info\",\"msg\":\"raft node constructed\",\"raft_applied_index\":3,\"raft_last_index\":26,\"time\":\"2024-05-30T19:49:54-03:00\"}\n",
      "{\"action\":\"lsm_recover_from_active_wal\",\"class\":\"Question\",\"index\":\"question\",\"level\":\"warning\",\"msg\":\"active write-ahead-log found. Did weaviate crash prior to this? Trying to recover...\",\"path\":\"/Users/dudanogueira/.local/share/weaviate/question/aYwENgfZb4Zq/lsm/objects/segment-1717108802088817000\",\"shard\":\"aYwENgfZb4Zq\",\"time\":\"2024-05-30T19:49:55-03:00\"}\n",
      "{\"action\":\"lsm_recover_from_active_wal\",\"class\":\"Question\",\"index\":\"question\",\"level\":\"warning\",\"msg\":\"active write-ahead-log found. Did weaviate crash prior to this? Trying to recover...\",\"path\":\"/Users/dudanogueira/.local/share/weaviate/question/aYwENgfZb4Zq/lsm/property_question/segment-1717108802091208000\",\"shard\":\"aYwENgfZb4Zq\",\"time\":\"2024-05-30T19:49:55-03:00\"}\n",
      "{\"action\":\"lsm_recover_from_active_wal\",\"class\":\"Question\",\"index\":\"question\",\"level\":\"warning\",\"msg\":\"active write-ahead-log found. Did weaviate crash prior to this? Trying to recover...\",\"path\":\"/Users/dudanogueira/.local/share/weaviate/question/aYwENgfZb4Zq/lsm/property_question_searchable/segment-1717108802091594000\",\"shard\":\"aYwENgfZb4Zq\",\"time\":\"2024-05-30T19:49:55-03:00\"}\n",
      "{\"action\":\"lsm_recover_from_active_wal\",\"class\":\"Question\",\"index\":\"question\",\"level\":\"warning\",\"msg\":\"active write-ahead-log found. Did weaviate crash prior to this? Trying to recover...\",\"path\":\"/Users/dudanogueira/.local/share/weaviate/question/aYwENgfZb4Zq/lsm/property_answer/segment-1717108802091945000\",\"shard\":\"aYwENgfZb4Zq\",\"time\":\"2024-05-30T19:49:55-03:00\"}\n",
      "{\"action\":\"lsm_recover_from_active_wal\",\"class\":\"Question\",\"index\":\"question\",\"level\":\"warning\",\"msg\":\"active write-ahead-log found. Did weaviate crash prior to this? Trying to recover...\",\"path\":\"/Users/dudanogueira/.local/share/weaviate/question/aYwENgfZb4Zq/lsm/property_answer_searchable/segment-1717108802092205000\",\"shard\":\"aYwENgfZb4Zq\",\"time\":\"2024-05-30T19:49:55-03:00\"}\n",
      "{\"action\":\"lsm_recover_from_active_wal\",\"class\":\"Question\",\"index\":\"question\",\"level\":\"warning\",\"msg\":\"active write-ahead-log found. Did weaviate crash prior to this? Trying to recover...\",\"path\":\"/Users/dudanogueira/.local/share/weaviate/question/aYwENgfZb4Zq/lsm/property__id/segment-1717108802092508000\",\"shard\":\"aYwENgfZb4Zq\",\"time\":\"2024-05-30T19:49:55-03:00\"}\n",
      "{\"level\":\"info\",\"msg\":\"Completed loading shard question_aYwENgfZb4Zq in 3.631792ms\",\"time\":\"2024-05-30T19:49:55-03:00\"}\n",
      "{\"action\":\"hnsw_vector_cache_prefill\",\"count\":3000,\"index_id\":\"main\",\"level\":\"info\",\"limit\":1000000000000,\"msg\":\"prefilled vector cache\",\"time\":\"2024-05-30T19:49:55-03:00\",\"took\":76250}\n",
      "{\"action\":\"bootstrap\",\"error\":\"could not join a cluster from [192.168.28.99:51849]\",\"level\":\"warning\",\"msg\":\"failed to join cluster, will notify next if voter\",\"servers\":[\"192.168.28.99:51849\"],\"time\":\"2024-05-30T19:49:55-03:00\",\"voter\":true}\n",
      "{\"action\":\"bootstrap\",\"candidates\":[{\"Suffrage\":0,\"ID\":\"Embedded_at_8079\",\"Address\":\"192.168.28.99:51849\"}],\"level\":\"info\",\"msg\":\"starting cluster bootstrapping\",\"time\":\"2024-05-30T19:49:55-03:00\"}\n",
      "{\"action\":\"bootstrap\",\"error\":\"bootstrap only works on new clusters\",\"level\":\"error\",\"msg\":\"could not bootstrapping cluster\",\"time\":\"2024-05-30T19:49:55-03:00\"}\n",
      "{\"action\":\"bootstrap\",\"level\":\"info\",\"msg\":\"notified peers this node is ready to join as voter\",\"servers\":[\"192.168.28.99:51849\"],\"time\":\"2024-05-30T19:49:55-03:00\"}\n",
      "{\"action\":\"raft\",\"last-leader-addr\":\"\",\"last-leader-id\":\"\",\"level\":\"warning\",\"msg\":\"raft heartbeat timeout reached, starting election\",\"time\":\"2024-05-30T19:49:55-03:00\"}\n",
      "{\"action\":\"raft\",\"level\":\"info\",\"msg\":\"raft entering candidate state\",\"node\":{},\"term\":7,\"time\":\"2024-05-30T19:49:55-03:00\"}\n",
      "{\"action\":\"raft\",\"level\":\"info\",\"msg\":\"raft election won\",\"tally\":1,\"term\":7,\"time\":\"2024-05-30T19:49:55-03:00\"}\n",
      "{\"action\":\"raft\",\"leader\":{},\"level\":\"info\",\"msg\":\"raft entering leader state\",\"time\":\"2024-05-30T19:49:55-03:00\"}\n",
      "{\"level\":\"info\",\"msg\":\"reload local db: update schema ...\",\"time\":\"2024-05-30T19:49:55-03:00\"}\n",
      "{\"index\":\"Question\",\"level\":\"info\",\"msg\":\"restore local index\",\"time\":\"2024-05-30T19:49:55-03:00\"}\n",
      "{\"action\":\"lsm_recover_from_active_wal\",\"class\":\"Question\",\"index\":\"question\",\"level\":\"warning\",\"msg\":\"active write-ahead-log found. Did weaviate crash prior to this? Trying to recover...\",\"path\":\"/Users/dudanogueira/.local/share/weaviate/question/Lq9BSQPRjz8n/lsm/objects/segment-1717108802973020000\",\"shard\":\"Lq9BSQPRjz8n\",\"time\":\"2024-05-30T19:49:55-03:00\"}\n",
      "{\"action\":\"lsm_recover_from_active_wal\",\"class\":\"Question\",\"index\":\"question\",\"level\":\"warning\",\"msg\":\"active write-ahead-log found. Did weaviate crash prior to this? Trying to recover...\",\"path\":\"/Users/dudanogueira/.local/share/weaviate/question/Lq9BSQPRjz8n/lsm/property_question/segment-1717108802974343000\",\"shard\":\"Lq9BSQPRjz8n\",\"time\":\"2024-05-30T19:49:55-03:00\"}\n",
      "{\"action\":\"lsm_recover_from_active_wal\",\"class\":\"Question\",\"index\":\"question\",\"level\":\"warning\",\"msg\":\"active write-ahead-log found. Did weaviate crash prior to this? Trying to recover...\",\"path\":\"/Users/dudanogueira/.local/share/weaviate/question/Lq9BSQPRjz8n/lsm/property_question_searchable/segment-1717108802975098000\",\"shard\":\"Lq9BSQPRjz8n\",\"time\":\"2024-05-30T19:49:55-03:00\"}\n",
      "{\"action\":\"lsm_recover_from_active_wal\",\"class\":\"Question\",\"index\":\"question\",\"level\":\"warning\",\"msg\":\"active write-ahead-log found. Did weaviate crash prior to this? Trying to recover...\",\"path\":\"/Users/dudanogueira/.local/share/weaviate/question/Lq9BSQPRjz8n/lsm/property_answer/segment-1717108802975868000\",\"shard\":\"Lq9BSQPRjz8n\",\"time\":\"2024-05-30T19:49:55-03:00\"}\n",
      "{\"action\":\"lsm_recover_from_active_wal\",\"class\":\"Question\",\"index\":\"question\",\"level\":\"warning\",\"msg\":\"active write-ahead-log found. Did weaviate crash prior to this? Trying to recover...\",\"path\":\"/Users/dudanogueira/.local/share/weaviate/question/Lq9BSQPRjz8n/lsm/property_answer_searchable/segment-1717108802976532000\",\"shard\":\"Lq9BSQPRjz8n\",\"time\":\"2024-05-30T19:49:55-03:00\"}\n",
      "{\"action\":\"lsm_recover_from_active_wal\",\"class\":\"Question\",\"index\":\"question\",\"level\":\"warning\",\"msg\":\"active write-ahead-log found. Did weaviate crash prior to this? Trying to recover...\",\"path\":\"/Users/dudanogueira/.local/share/weaviate/question/Lq9BSQPRjz8n/lsm/property__id/segment-1717108802977191000\",\"shard\":\"Lq9BSQPRjz8n\",\"time\":\"2024-05-30T19:49:55-03:00\"}\n",
      "{\"level\":\"info\",\"msg\":\"Completed loading shard question_Lq9BSQPRjz8n in 7.911708ms\",\"time\":\"2024-05-30T19:49:55-03:00\"}\n",
      "{\"index\":\"OllamaCollection\",\"level\":\"info\",\"msg\":\"restore local index\",\"time\":\"2024-05-30T19:49:55-03:00\"}\n",
      "{\"action\":\"hnsw_vector_cache_prefill\",\"count\":3000,\"index_id\":\"main\",\"level\":\"info\",\"limit\":1000000000000,\"msg\":\"prefilled vector cache\",\"time\":\"2024-05-30T19:49:55-03:00\",\"took\":12177333}\n",
      "{\"action\":\"lsm_recover_from_active_wal\",\"class\":\"OllamaCollection\",\"index\":\"ollamacollection\",\"level\":\"warning\",\"msg\":\"active write-ahead-log found. Did weaviate crash prior to this? Trying to recover...\",\"path\":\"/Users/dudanogueira/.local/share/weaviate/ollamacollection/Pd8lX9unzGNm/lsm/objects/segment-1717109278913722000\",\"shard\":\"Pd8lX9unzGNm\",\"time\":\"2024-05-30T19:49:55-03:00\"}\n",
      "{\"action\":\"lsm_recover_from_active_wal_success\",\"class\":\"OllamaCollection\",\"index\":\"ollamacollection\",\"level\":\"info\",\"msg\":\"successfully recovered from write-ahead-log\",\"path\":\"/Users/dudanogueira/.local/share/weaviate/ollamacollection/Pd8lX9unzGNm/lsm/objects/segment-1717109278913722000.wal\",\"shard\":\"Pd8lX9unzGNm\",\"time\":\"2024-05-30T19:49:55-03:00\"}\n",
      "{\"action\":\"lsm_recover_from_active_wal\",\"class\":\"OllamaCollection\",\"index\":\"ollamacollection\",\"level\":\"warning\",\"msg\":\"active write-ahead-log found. Did weaviate crash prior to this? Trying to recover...\",\"path\":\"/Users/dudanogueira/.local/share/weaviate/ollamacollection/Pd8lX9unzGNm/lsm/property_text/segment-1717109284279928000\",\"shard\":\"Pd8lX9unzGNm\",\"time\":\"2024-05-30T19:49:55-03:00\"}\n",
      "{\"action\":\"lsm_recover_from_active_wal_success\",\"class\":\"OllamaCollection\",\"index\":\"ollamacollection\",\"level\":\"info\",\"msg\":\"successfully recovered from write-ahead-log\",\"path\":\"/Users/dudanogueira/.local/share/weaviate/ollamacollection/Pd8lX9unzGNm/lsm/property_text/segment-1717109284279928000.wal\",\"shard\":\"Pd8lX9unzGNm\",\"time\":\"2024-05-30T19:49:55-03:00\"}\n",
      "{\"action\":\"lsm_recover_from_active_wal\",\"class\":\"OllamaCollection\",\"index\":\"ollamacollection\",\"level\":\"warning\",\"msg\":\"active write-ahead-log found. Did weaviate crash prior to this? Trying to recover...\",\"path\":\"/Users/dudanogueira/.local/share/weaviate/ollamacollection/Pd8lX9unzGNm/lsm/property_text_searchable/segment-1717109284280506000\",\"shard\":\"Pd8lX9unzGNm\",\"time\":\"2024-05-30T19:49:55-03:00\"}\n",
      "{\"action\":\"lsm_recover_from_active_wal_success\",\"class\":\"OllamaCollection\",\"index\":\"ollamacollection\",\"level\":\"info\",\"msg\":\"successfully recovered from write-ahead-log\",\"path\":\"/Users/dudanogueira/.local/share/weaviate/ollamacollection/Pd8lX9unzGNm/lsm/property_text_searchable/segment-1717109284280506000.wal\",\"shard\":\"Pd8lX9unzGNm\",\"time\":\"2024-05-30T19:49:55-03:00\"}\n",
      "{\"action\":\"lsm_recover_from_active_wal\",\"class\":\"OllamaCollection\",\"index\":\"ollamacollection\",\"level\":\"warning\",\"msg\":\"active write-ahead-log found. Did weaviate crash prior to this? Trying to recover...\",\"path\":\"/Users/dudanogueira/.local/share/weaviate/ollamacollection/Pd8lX9unzGNm/lsm/property__id/segment-1717109278914361000\",\"shard\":\"Pd8lX9unzGNm\",\"time\":\"2024-05-30T19:49:55-03:00\"}\n",
      "{\"action\":\"lsm_recover_from_active_wal_success\",\"class\":\"OllamaCollection\",\"index\":\"ollamacollection\",\"level\":\"info\",\"msg\":\"successfully recovered from write-ahead-log\",\"path\":\"/Users/dudanogueira/.local/share/weaviate/ollamacollection/Pd8lX9unzGNm/lsm/property__id/segment-1717109278914361000.wal\",\"shard\":\"Pd8lX9unzGNm\",\"time\":\"2024-05-30T19:49:55-03:00\"}\n",
      "{\"level\":\"info\",\"msg\":\"Completed loading shard ollamacollection_Pd8lX9unzGNm in 27.358541ms\",\"time\":\"2024-05-30T19:49:55-03:00\"}\n",
      "{\"action\":\"hnsw_vector_cache_prefill\",\"count\":3000,\"index_id\":\"main\",\"level\":\"info\",\"limit\":1000000000000,\"msg\":\"prefilled vector cache\",\"time\":\"2024-05-30T19:49:55-03:00\",\"took\":55917}\n",
      "{\"action\":\"grpc_startup\",\"level\":\"info\",\"msg\":\"grpc server listening at [::]:50050\",\"time\":\"2024-05-30T19:49:56-03:00\"}\n",
      "{\"address\":\"192.168.28.99:51849\",\"level\":\"info\",\"msg\":\"current Leader\",\"time\":\"2024-05-30T19:49:56-03:00\"}\n",
      "{\"action\":\"restapi_management\",\"level\":\"info\",\"msg\":\"Serving weaviate at http://127.0.0.1:8079\",\"time\":\"2024-05-30T19:49:56-03:00\"}\n"
     ]
    },
    {
     "name": "stderr",
     "output_type": "stream",
     "text": [
      "{\"action\":\"bootstrap\",\"level\":\"info\",\"msg\":\"node reporting ready, node has probably recovered cluster from raft config. Exiting bootstrap process\",\"time\":\"2024-05-30T19:49:56-03:00\"}\n",
      "{\"action\":\"telemetry_push\",\"level\":\"info\",\"msg\":\"telemetry started\",\"payload\":\"\\u0026{MachineID:314ac3eb-2114-4cc7-8793-85a3a68aafdd Type:INIT Version:1.25.1 Modules:generative-ollama,text2vec-ollama NumObjects:0 OS:darwin Arch:arm64}\",\"time\":\"2024-05-30T19:49:56-03:00\"}\n"
     ]
    }
   ],
   "source": [
    "import weaviate\n",
    "client = weaviate.connect_to_embedded(\n",
    "    environment_variables={\"ENABLE_MODULES\": \"text2vec-ollama,generative-ollama\"},\n",
    "    version=\"1.25.1\"\n",
    ")"
   ]
  },
  {
   "cell_type": "markdown",
   "metadata": {},
   "source": [
    "Here we can check the meta information for our Embedded instance."
   ]
  },
  {
   "cell_type": "code",
   "execution_count": 4,
   "metadata": {},
   "outputs": [
    {
     "data": {
      "text/plain": [
       "{'hostname': 'http://127.0.0.1:8079',\n",
       " 'modules': {'generative-ollama': {'documentationHref': 'https://github.com/ollama/ollama/blob/main/docs/api.md#generate-a-completion',\n",
       "   'name': 'Generative Search - Ollama'},\n",
       "  'text2vec-ollama': {'documentationHref': 'https://github.com/ollama/ollama/blob/main/docs/api.md#generate-embeddings',\n",
       "   'name': 'Ollama Module'}},\n",
       " 'version': '1.25.1'}"
      ]
     },
     "execution_count": 4,
     "metadata": {},
     "output_type": "execute_result"
    }
   ],
   "source": [
    "client.get_meta()"
   ]
  },
  {
   "cell_type": "markdown",
   "metadata": {},
   "source": [
    "## NOTE\n",
    "Above we use http://localhost:11434 for calling ollama models.\n",
    "\n",
    "As we are using **Weaviate Embedded instead of Docker**, and we assume here your ollama instalation is on the host, we should call ollama, from Weaviate, at `http://localhost:11434`\n",
    "\n",
    "If your are **running Weaviate as a docker** container, the api_endpoint must be `http://host.docker.internal:11434`."
   ]
  },
  {
   "cell_type": "code",
   "execution_count": 5,
   "metadata": {},
   "outputs": [
    {
     "name": "stderr",
     "output_type": "stream",
     "text": [
      "{\"level\":\"info\",\"msg\":\"Created shard ollamacollection_wD0uyH4uXbgx in 1.2565ms\",\"time\":\"2024-05-30T19:50:02-03:00\"}\n",
      "{\"action\":\"hnsw_vector_cache_prefill\",\"count\":1000,\"index_id\":\"main\",\"level\":\"info\",\"limit\":1000000000000,\"msg\":\"prefilled vector cache\",\"time\":\"2024-05-30T19:50:02-03:00\",\"took\":49250}\n"
     ]
    }
   ],
   "source": [
    "from weaviate import classes as wvc\n",
    "client.collections.delete(\"OllamaCollection\")\n",
    "# lets create the collection, specifing our base url accordingling\n",
    "collection = client.collections.create(\n",
    "    \"OllamaCollection\",\n",
    "    vectorizer_config=wvc.config.Configure.Vectorizer.text2vec_ollama(\n",
    "        api_endpoint=\"http://localhost:11434\"\n",
    "    ),\n",
    "    generative_config=wvc.config.Configure.Generative.ollama(\n",
    "        api_endpoint=\"http://localhost:11434\"\n",
    "    )\n",
    ")"
   ]
  },
  {
   "cell_type": "markdown",
   "metadata": {},
   "source": [
    "## Step 1: Add data"
   ]
  },
  {
   "cell_type": "code",
   "execution_count": 6,
   "metadata": {},
   "outputs": [],
   "source": [
    "documents = [\n",
    "  \"Llamas are members of the camelid family meaning they're pretty closely related to vicuñas and camels\",\n",
    "  \"Llamas were first domesticated and used as pack animals 4,000 to 5,000 years ago in the Peruvian highlands\",\n",
    "  \"Llamas can grow as much as 6 feet tall though the average llama between 5 feet 6 inches and 5 feet 9 inches tall\",\n",
    "  \"Llamas weigh between 280 and 450 pounds and can carry 25 to 30 percent of their body weight\",\n",
    "  \"Llamas are vegetarians and have very efficient digestive systems\",\n",
    "  \"Llamas live to be about 20 years old, though some only live for 15 years and others live to be 30 years old\",\n",
    "]"
   ]
  },
  {
   "cell_type": "code",
   "execution_count": 7,
   "metadata": {},
   "outputs": [],
   "source": [
    "# store each document in a vector embedding database\n",
    "with collection.batch.dynamic() as batch:\n",
    "  for i, d in enumerate(documents):\n",
    "    batch.add_object(\n",
    "        properties = {\"text\" : d},\n",
    "    )"
   ]
  },
  {
   "cell_type": "code",
   "execution_count": 8,
   "metadata": {},
   "outputs": [
    {
     "name": "stdout",
     "output_type": "stream",
     "text": [
      "{'text': 'Llamas weigh between 280 and 450 pounds and can carry 25 to 30 percent of their body weight'}\n",
      "{'text': 'Llamas are vegetarians and have very efficient digestive systems'}\n",
      "{'text': 'Llamas can grow as much as 6 feet tall though the average llama between 5 feet 6 inches and 5 feet 9 inches tall'}\n",
      "{'text': 'Llamas live to be about 20 years old, though some only live for 15 years and others live to be 30 years old'}\n",
      "{'text': 'Llamas were first domesticated and used as pack animals 4,000 to 5,000 years ago in the Peruvian highlands'}\n",
      "{'text': \"Llamas are members of the camelid family meaning they're pretty closely related to vicuñas and camels\"}\n"
     ]
    }
   ],
   "source": [
    "result = collection.generate.fetch_objects()\n",
    "for object in result.objects:\n",
    "    print(object.properties)"
   ]
  },
  {
   "cell_type": "markdown",
   "metadata": {},
   "source": [
    "## Step 2: Retrieve\n",
    "Next, add the code to retrieve the most relevant document given an example prompt:"
   ]
  },
  {
   "cell_type": "code",
   "execution_count": 9,
   "metadata": {},
   "outputs": [
    {
     "name": "stdout",
     "output_type": "stream",
     "text": [
      "{'text': \"Llamas are members of the camelid family meaning they're pretty closely related to vicuñas and camels\"}\n"
     ]
    }
   ],
   "source": [
    "# Now we retrieve our data\n",
    "results = collection.query.near_text(\n",
    "    query=\"What animals are llamas related to?\",\n",
    "    limit=1\n",
    ")\n",
    "print(results.objects[0].properties)\n"
   ]
  },
  {
   "cell_type": "markdown",
   "metadata": {},
   "source": [
    "## Step 3: Generate\n",
    "Lastly, use the prompt and the document retrieved in the previous step to generate an answer!"
   ]
  },
  {
   "cell_type": "code",
   "execution_count": 16,
   "metadata": {},
   "outputs": [
    {
     "name": "stdout",
     "output_type": "stream",
     "text": [
      "According to the text, llamas are related to vicuñas and camels. They are members of the camelid family.\n"
     ]
    }
   ],
   "source": [
    "results = collection.generate.near_text(\n",
    "    query=\"What animals are llamas related to?\",\n",
    "    limit=5,\n",
    "    grouped_task=\"Answer the question: What animals are llamas related to?\"\n",
    ")\n",
    "print(results.generated)"
   ]
  },
  {
   "cell_type": "code",
   "execution_count": 36,
   "metadata": {},
   "outputs": [
    {
     "name": "stdout",
     "output_type": "stream",
     "text": [
      "According to the given context, Lamas were not domesticated. The text actually talks about Llamas being domesticated, but it refers to the fact that they (Llamas) were first domesticated and used as pack animals 4,000 to 5,000 years ago in the Peruvian highlands.\n",
      "\n",
      "As for their lifespan, the answer is: They live to be about 20 years old, though some only live for 15 years and others live to be 30 years old.\n"
     ]
    }
   ],
   "source": [
    "query=\"When Lamas were domesticated and how long do they live?\"\n",
    "results = collection.generate.near_text(\n",
    "    query=query,\n",
    "    limit=2,\n",
    "    grouped_task=f\"Answer the question: {query}? only using the given context in {{text}}\"\n",
    ")\n",
    "print(results.generated)"
   ]
  },
  {
   "cell_type": "code",
   "execution_count": 38,
   "metadata": {},
   "outputs": [
    {
     "name": "stdout",
     "output_type": "stream",
     "text": [
      "{'text': 'Llamas live to be about 20 years old, though some only live for 15 years and others live to be 30 years old'}\n",
      "{'text': 'Llamas were first domesticated and used as pack animals 4,000 to 5,000 years ago in the Peruvian highlands'}\n"
     ]
    }
   ],
   "source": [
    "for object in results.objects:\n",
    "    print(object.properties)"
   ]
  }
 ],
 "metadata": {
  "kernelspec": {
   "display_name": "Python 3",
   "language": "python",
   "name": "python3"
  },
  "language_info": {
   "codemirror_mode": {
    "name": "ipython",
    "version": 3
   },
   "file_extension": ".py",
   "mimetype": "text/x-python",
   "name": "python",
   "nbconvert_exporter": "python",
   "pygments_lexer": "ipython3",
   "version": "3.11.8"
  }
 },
 "nbformat": 4,
 "nbformat_minor": 2
}
