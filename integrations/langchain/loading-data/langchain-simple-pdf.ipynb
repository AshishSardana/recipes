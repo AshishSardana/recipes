{
 "cells": [
  {
   "cell_type": "markdown",
   "metadata": {},
   "source": [
    "# Multilanguage RAG filtering by multiple PDFs with Langchain and Cohere"
   ]
  },
  {
   "cell_type": "code",
   "execution_count": 1,
   "metadata": {},
   "outputs": [
    {
     "name": "stdout",
     "output_type": "stream",
     "text": [
      "Requirement already satisfied: weaviate-client in /Users/dudanogueira/dev/weaviate/recipes/venv/lib/python3.11/site-packages (3.25.3)\n",
      "Requirement already satisfied: langchain in /Users/dudanogueira/dev/weaviate/recipes/venv/lib/python3.11/site-packages (0.0.335)\n",
      "Requirement already satisfied: pypdf in /Users/dudanogueira/dev/weaviate/recipes/venv/lib/python3.11/site-packages (3.17.0)\n",
      "Requirement already satisfied: tiktoken in /Users/dudanogueira/dev/weaviate/recipes/venv/lib/python3.11/site-packages (0.5.1)\n",
      "Requirement already satisfied: cohere in /Users/dudanogueira/dev/weaviate/recipes/venv/lib/python3.11/site-packages (4.34)\n",
      "Requirement already satisfied: requests<3.0.0,>=2.30.0 in /Users/dudanogueira/dev/weaviate/recipes/venv/lib/python3.11/site-packages (from weaviate-client) (2.31.0)\n",
      "Requirement already satisfied: validators<1.0.0,>=0.21.2 in /Users/dudanogueira/dev/weaviate/recipes/venv/lib/python3.11/site-packages (from weaviate-client) (0.22.0)\n",
      "Requirement already satisfied: authlib<2.0.0,>=1.2.1 in /Users/dudanogueira/dev/weaviate/recipes/venv/lib/python3.11/site-packages (from weaviate-client) (1.2.1)\n",
      "Requirement already satisfied: PyYAML>=5.3 in /Users/dudanogueira/dev/weaviate/recipes/venv/lib/python3.11/site-packages (from langchain) (6.0.1)\n",
      "Requirement already satisfied: SQLAlchemy<3,>=1.4 in /Users/dudanogueira/dev/weaviate/recipes/venv/lib/python3.11/site-packages (from langchain) (2.0.22)\n",
      "Requirement already satisfied: aiohttp<4.0.0,>=3.8.3 in /Users/dudanogueira/dev/weaviate/recipes/venv/lib/python3.11/site-packages (from langchain) (3.8.6)\n",
      "Requirement already satisfied: anyio<4.0 in /Users/dudanogueira/dev/weaviate/recipes/venv/lib/python3.11/site-packages (from langchain) (3.7.1)\n",
      "Requirement already satisfied: dataclasses-json<0.7,>=0.5.7 in /Users/dudanogueira/dev/weaviate/recipes/venv/lib/python3.11/site-packages (from langchain) (0.6.1)\n",
      "Requirement already satisfied: jsonpatch<2.0,>=1.33 in /Users/dudanogueira/dev/weaviate/recipes/venv/lib/python3.11/site-packages (from langchain) (1.33)\n",
      "Requirement already satisfied: langsmith<0.1.0,>=0.0.63 in /Users/dudanogueira/dev/weaviate/recipes/venv/lib/python3.11/site-packages (from langchain) (0.0.63)\n",
      "Requirement already satisfied: numpy<2,>=1 in /Users/dudanogueira/dev/weaviate/recipes/venv/lib/python3.11/site-packages (from langchain) (1.26.1)\n",
      "Requirement already satisfied: pydantic<3,>=1 in /Users/dudanogueira/dev/weaviate/recipes/venv/lib/python3.11/site-packages (from langchain) (2.4.2)\n",
      "Requirement already satisfied: tenacity<9.0.0,>=8.1.0 in /Users/dudanogueira/dev/weaviate/recipes/venv/lib/python3.11/site-packages (from langchain) (8.2.3)\n",
      "Requirement already satisfied: regex>=2022.1.18 in /Users/dudanogueira/dev/weaviate/recipes/venv/lib/python3.11/site-packages (from tiktoken) (2023.10.3)\n",
      "Requirement already satisfied: backoff<3.0,>=2.0 in /Users/dudanogueira/dev/weaviate/recipes/venv/lib/python3.11/site-packages (from cohere) (2.2.1)\n",
      "Requirement already satisfied: fastavro==1.8.2 in /Users/dudanogueira/dev/weaviate/recipes/venv/lib/python3.11/site-packages (from cohere) (1.8.2)\n",
      "Requirement already satisfied: importlib_metadata<7.0,>=6.0 in /Users/dudanogueira/dev/weaviate/recipes/venv/lib/python3.11/site-packages (from cohere) (6.8.0)\n",
      "Requirement already satisfied: urllib3<3,>=1.26 in /Users/dudanogueira/dev/weaviate/recipes/venv/lib/python3.11/site-packages (from cohere) (2.0.6)\n",
      "Requirement already satisfied: attrs>=17.3.0 in /Users/dudanogueira/dev/weaviate/recipes/venv/lib/python3.11/site-packages (from aiohttp<4.0.0,>=3.8.3->langchain) (23.1.0)\n",
      "Requirement already satisfied: charset-normalizer<4.0,>=2.0 in /Users/dudanogueira/dev/weaviate/recipes/venv/lib/python3.11/site-packages (from aiohttp<4.0.0,>=3.8.3->langchain) (3.3.0)\n",
      "Requirement already satisfied: multidict<7.0,>=4.5 in /Users/dudanogueira/dev/weaviate/recipes/venv/lib/python3.11/site-packages (from aiohttp<4.0.0,>=3.8.3->langchain) (6.0.4)\n",
      "Requirement already satisfied: async-timeout<5.0,>=4.0.0a3 in /Users/dudanogueira/dev/weaviate/recipes/venv/lib/python3.11/site-packages (from aiohttp<4.0.0,>=3.8.3->langchain) (4.0.3)\n",
      "Requirement already satisfied: yarl<2.0,>=1.0 in /Users/dudanogueira/dev/weaviate/recipes/venv/lib/python3.11/site-packages (from aiohttp<4.0.0,>=3.8.3->langchain) (1.9.2)\n",
      "Requirement already satisfied: frozenlist>=1.1.1 in /Users/dudanogueira/dev/weaviate/recipes/venv/lib/python3.11/site-packages (from aiohttp<4.0.0,>=3.8.3->langchain) (1.4.0)\n",
      "Requirement already satisfied: aiosignal>=1.1.2 in /Users/dudanogueira/dev/weaviate/recipes/venv/lib/python3.11/site-packages (from aiohttp<4.0.0,>=3.8.3->langchain) (1.3.1)\n",
      "Requirement already satisfied: idna>=2.8 in /Users/dudanogueira/dev/weaviate/recipes/venv/lib/python3.11/site-packages (from anyio<4.0->langchain) (3.4)\n",
      "Requirement already satisfied: sniffio>=1.1 in /Users/dudanogueira/dev/weaviate/recipes/venv/lib/python3.11/site-packages (from anyio<4.0->langchain) (1.3.0)\n",
      "Requirement already satisfied: cryptography>=3.2 in /Users/dudanogueira/dev/weaviate/recipes/venv/lib/python3.11/site-packages (from authlib<2.0.0,>=1.2.1->weaviate-client) (41.0.4)\n",
      "Requirement already satisfied: marshmallow<4.0.0,>=3.18.0 in /Users/dudanogueira/dev/weaviate/recipes/venv/lib/python3.11/site-packages (from dataclasses-json<0.7,>=0.5.7->langchain) (3.20.1)\n",
      "Requirement already satisfied: typing-inspect<1,>=0.4.0 in /Users/dudanogueira/dev/weaviate/recipes/venv/lib/python3.11/site-packages (from dataclasses-json<0.7,>=0.5.7->langchain) (0.9.0)\n",
      "Requirement already satisfied: zipp>=0.5 in /Users/dudanogueira/dev/weaviate/recipes/venv/lib/python3.11/site-packages (from importlib_metadata<7.0,>=6.0->cohere) (3.17.0)\n",
      "Requirement already satisfied: jsonpointer>=1.9 in /Users/dudanogueira/dev/weaviate/recipes/venv/lib/python3.11/site-packages (from jsonpatch<2.0,>=1.33->langchain) (2.4)\n",
      "Requirement already satisfied: annotated-types>=0.4.0 in /Users/dudanogueira/dev/weaviate/recipes/venv/lib/python3.11/site-packages (from pydantic<3,>=1->langchain) (0.6.0)\n",
      "Requirement already satisfied: pydantic-core==2.10.1 in /Users/dudanogueira/dev/weaviate/recipes/venv/lib/python3.11/site-packages (from pydantic<3,>=1->langchain) (2.10.1)\n",
      "Requirement already satisfied: typing-extensions>=4.6.1 in /Users/dudanogueira/dev/weaviate/recipes/venv/lib/python3.11/site-packages (from pydantic<3,>=1->langchain) (4.8.0)\n",
      "Requirement already satisfied: certifi>=2017.4.17 in /Users/dudanogueira/dev/weaviate/recipes/venv/lib/python3.11/site-packages (from requests<3.0.0,>=2.30.0->weaviate-client) (2023.7.22)\n",
      "Requirement already satisfied: cffi>=1.12 in /Users/dudanogueira/dev/weaviate/recipes/venv/lib/python3.11/site-packages (from cryptography>=3.2->authlib<2.0.0,>=1.2.1->weaviate-client) (1.16.0)\n",
      "Requirement already satisfied: packaging>=17.0 in /Users/dudanogueira/dev/weaviate/recipes/venv/lib/python3.11/site-packages (from marshmallow<4.0.0,>=3.18.0->dataclasses-json<0.7,>=0.5.7->langchain) (23.2)\n",
      "Requirement already satisfied: mypy-extensions>=0.3.0 in /Users/dudanogueira/dev/weaviate/recipes/venv/lib/python3.11/site-packages (from typing-inspect<1,>=0.4.0->dataclasses-json<0.7,>=0.5.7->langchain) (1.0.0)\n",
      "Requirement already satisfied: pycparser in /Users/dudanogueira/dev/weaviate/recipes/venv/lib/python3.11/site-packages (from cffi>=1.12->cryptography>=3.2->authlib<2.0.0,>=1.2.1->weaviate-client) (2.21)\n",
      "\n",
      "\u001b[1m[\u001b[0m\u001b[34;49mnotice\u001b[0m\u001b[1;39;49m]\u001b[0m\u001b[39;49m A new release of pip is available: \u001b[0m\u001b[31;49m23.2.1\u001b[0m\u001b[39;49m -> \u001b[0m\u001b[32;49m23.3.1\u001b[0m\n",
      "\u001b[1m[\u001b[0m\u001b[34;49mnotice\u001b[0m\u001b[1;39;49m]\u001b[0m\u001b[39;49m To update, run: \u001b[0m\u001b[32;49mpip install --upgrade pip\u001b[0m\n"
     ]
    }
   ],
   "source": [
    "# lets install our super tools\n",
    "!pip3 install --upgrade weaviate-client langchain pypdf tiktoken cohere"
   ]
  },
  {
   "cell_type": "markdown",
   "metadata": {},
   "source": [
    "you must have a valid key for OpenAi in OPENAI_API_KEY environment variable"
   ]
  },
  {
   "cell_type": "code",
   "execution_count": 16,
   "metadata": {},
   "outputs": [
    {
     "name": "stdout",
     "output_type": "stream",
     "text": [
      "Started /Users/dudanogueira/.cache/weaviate-embedded: process ID 17609\n"
     ]
    },
    {
     "name": "stderr",
     "output_type": "stream",
     "text": [
      "{\"action\":\"startup\",\"default_vectorizer_module\":\"none\",\"level\":\"info\",\"msg\":\"the default vectorizer modules is set to \\\"none\\\", as a result all new schema classes without an explicit vectorizer setting, will use this vectorizer\",\"time\":\"2023-11-13T20:45:58-03:00\"}\n",
      "{\"action\":\"startup\",\"auto_schema_enabled\":true,\"level\":\"info\",\"msg\":\"auto schema enabled setting is set to \\\"true\\\"\",\"time\":\"2023-11-13T20:45:58-03:00\"}\n",
      "{\"level\":\"warning\",\"msg\":\"Multiple vector spaces are present, GraphQL Explore and REST API list objects endpoint module include params has been disabled as a result.\",\"time\":\"2023-11-13T20:45:58-03:00\"}\n",
      "{\"action\":\"grpc_startup\",\"level\":\"info\",\"msg\":\"grpc server listening at [::]:50060\",\"time\":\"2023-11-13T20:45:58-03:00\"}\n",
      "{\"action\":\"restapi_management\",\"level\":\"info\",\"msg\":\"Serving weaviate at http://127.0.0.1:8080\",\"time\":\"2023-11-13T20:45:58-03:00\"}\n",
      "{\"action\":\"hnsw_vector_cache_prefill\",\"count\":3000,\"index_id\":\"wikipedialangchain_JuBMDLjHaViF\",\"level\":\"info\",\"limit\":1000000000000,\"msg\":\"prefilled vector cache\",\"time\":\"2023-11-13T20:45:58-03:00\",\"took\":23693416}\n"
     ]
    },
    {
     "name": "stdout",
     "output_type": "stream",
     "text": [
      "Client is Ready? True\n"
     ]
    }
   ],
   "source": [
    "import weaviate, os\n",
    "\n",
    "client = weaviate.Client(\n",
    "    embedded_options=weaviate.EmbeddedOptions(port=8080),\n",
    "    # comment the line above and uncomment the one below if using docker\n",
    "    #url=\"http://localhost:8080\",\n",
    "    additional_headers={\n",
    "        \"X-Cohere-Api-Key\": os.environ.get(\"COHERE_API_KEY\"), # Replace with your OpenAI key\n",
    "    }\n",
    ")\n",
    "\n",
    "## If using WCS with auth\n",
    "# import weaviate\n",
    "\n",
    "# client = weaviate.Client(\n",
    "#   url=\"https://your-weaviate-cluster.weaviate.network\",  # URL of your Weaviate instance\n",
    "#   auth_client_secret=weaviate.AuthApiKey(api_key=\"YOUR-WEAVIATE-API-KEY\"),  # Replace w/ your Weaviate instance API key\n",
    "\n",
    "#   additional_headers={\n",
    "#     \"X-OPENAI-Api-Key\": \"sk-key\", # Replace with your OpenAI key\n",
    "#   }\n",
    "# )\n",
    "\n",
    "# client.schema.get()  # Get the schema to test connection\n",
    "print(\"Client is Ready?\", client.is_ready())"
   ]
  },
  {
   "cell_type": "markdown",
   "metadata": {},
   "source": [
    "## Let's create our class beforehand"
   ]
  },
  {
   "cell_type": "code",
   "execution_count": 17,
   "metadata": {},
   "outputs": [
    {
     "name": "stderr",
     "output_type": "stream",
     "text": [
      "{\"action\":\"hnsw_vector_cache_prefill\",\"count\":1000,\"index_id\":\"wikipedialangchain_7hoTYEkNLg6B\",\"level\":\"info\",\"limit\":1000000000000,\"msg\":\"prefilled vector cache\",\"time\":\"2023-11-13T20:46:03-03:00\",\"took\":48500}\n"
     ]
    }
   ],
   "source": [
    "# clear this class first\n",
    "client.schema.delete_class(\"WikipediaLangChain\")\n",
    "# lets make sure its vectorizer is what the one we want\n",
    "class_definition = {\n",
    "    \"class\": \"WikipediaLangChain\",\n",
    "    \"vectorizer\": \"text2vec-cohere\",\n",
    "    \"vectorIndexConfig\": {\n",
    "        \"distance\": \"dot\" # Set to \"cosine\" for English models; \"dot\" for multilingual models\n",
    "      },\n",
    "    \"moduleConfig\": { # specify the model you want to use\n",
    "            \"generative-cohere\": { \n",
    "                #\"model\": \"command-xlarge-nightly\",  // Optional - Defaults to `command-xlarge-nightly`. \n",
    "                # Can also use`command-xlarge-beta` and `command-xlarge`\n",
    "                #\"temperatureProperty\": <temperature>,  // Optional\n",
    "                #\"maxTokensProperty\": <maxTokens>,  // Optional\n",
    "                #\"kProperty\": <k>, // Optional\n",
    "                #\"stopSequencesProperty\": <stopSequences>, // Optional\n",
    "                #\"returnLikelihoodsProperty\": <returnLikelihoods>, // Optional\n",
    "            },\n",
    "            \"text2vec-cohere\": {\n",
    "                # \"model\": \"embed-multilingual-v3.0\", # Defaults to embed-multilingual-v3.0 if not set\n",
    "                # \"truncate\": \"RIGHT\", # Defaults to RIGHT if not set\n",
    "                #\"baseURL\": \"https://proxy.yourcompanydomain.com\"  // Optional. \n",
    "                # Can be overridden by one set in the HTTP header.\n",
    "        }\n",
    "    }\n",
    "}\n",
    "client.schema.create_class(class_definition)"
   ]
  },
  {
   "cell_type": "code",
   "execution_count": 18,
   "metadata": {},
   "outputs": [
    {
     "name": "stdout",
     "output_type": "stream",
     "text": [
      "GOT 247 docs for Brazil\n",
      "GOT 274 docs for Netherlands\n"
     ]
    }
   ],
   "source": [
    "from langchain.text_splitter import RecursiveCharacterTextSplitter\n",
    "from langchain.embeddings import CohereEmbeddings\n",
    "from langchain.vectorstores import Weaviate    \n",
    "from langchain.document_loaders import PyPDFLoader\n",
    "\n",
    "text_splitter = RecursiveCharacterTextSplitter(chunk_size=400, chunk_overlap=50)\n",
    "embeddings = CohereEmbeddings(model=\"embed-multilingual-v3.0\")\n",
    "\n",
    "# import first article\n",
    "loader = PyPDFLoader(\"brazil-wikipedia-article-text.pdf\", extract_images=False)\n",
    "docs = loader.load_and_split(text_splitter)\n",
    "print(f\"GOT {len(docs)} docs for Brazil\")\n",
    "db = Weaviate.from_documents(docs, embeddings, index_name=\"WikipediaLangChain\", client=client, by_text=False)\n",
    "\n",
    "# import second article\n",
    "loader = PyPDFLoader(\"netherlands-wikipedia-article-text.pdf\", extract_images=False)\n",
    "docs = loader.load_and_split(text_splitter)\n",
    "print(f\"GOT {len(docs)} docs for Netherlands\")\n",
    "db = Weaviate.from_documents(docs, embeddings, index_name=\"WikipediaLangChain\", client=client, by_text=False)"
   ]
  },
  {
   "cell_type": "code",
   "execution_count": 19,
   "metadata": {},
   "outputs": [
    {
     "name": "stdout",
     "output_type": "stream",
     "text": [
      "{\n",
      "  \"data\": {\n",
      "    \"Aggregate\": {\n",
      "      \"WikipediaLangChain\": [\n",
      "        {\n",
      "          \"source\": {\n",
      "            \"count\": 521,\n",
      "            \"topOccurrences\": [\n",
      "              {\n",
      "                \"occurs\": 274,\n",
      "                \"value\": \"netherlands-wikipedia-article-text.pdf\"\n",
      "              },\n",
      "              {\n",
      "                \"occurs\": 247,\n",
      "                \"value\": \"brazil-wikipedia-article-text.pdf\"\n",
      "              }\n",
      "            ],\n",
      "            \"type\": \"text\"\n",
      "          }\n",
      "        }\n",
      "      ]\n",
      "    }\n",
      "  }\n",
      "}\n",
      "{\n",
      "  \"data\": {\n",
      "    \"Get\": {\n",
      "      \"WikipediaLangChain\": [\n",
      "        {\n",
      "          \"source\": \"netherlands-wikipedia-article-text.pdf\",\n",
      "          \"text\": \"States, with agricultural exports earning \\u20ac80.7 billion in 2014, up from \\u20ac75.4 billion in 2012. In 2019 agricultural exports were worth\\n\\u20ac94.5 billion. In an effort to reduce agricultural pollution, the Dutch government is imposing strict limits on the productivity of the\\nfarming sector, triggering Dutch farmers' protests.\"\n",
      "        },\n",
      "        {\n",
      "          \"source\": \"netherlands-wikipedia-article-text.pdf\",\n",
      "          \"text\": \"Rotterdam.\\nAir transport\\nSchiphol Airport, just southwest of Amsterdam, is the main international airport in the Netherlands, and the third busiest airport in\\nEurope by number of passengers. Schiphol is the main hub for KLM, the nation's flag carrier and the world's oldest airline. In 2016,\"\n",
      "        },\n",
      "        {\n",
      "          \"source\": \"brazil-wikipedia-article-text.pdf\",\n",
      "          \"text\": \"indigenous peoples divided into several ethnic societies, most of whom spoke languages of the Tupi\\u2013Guarani family and\\nfought among themselves. Though the first settlement was founded in 1532, colonization effectively began in 1534, when\\nKing John III of Portugal divided the territory into the fifteen private and autonomous captaincies.\"\n",
      "        },\n",
      "        {\n",
      "          \"source\": \"brazil-wikipedia-article-text.pdf\",\n",
      "          \"text\": \"president, Jo\\u00e3o Goulart, assumed the presidency, but aroused strong political opposition and was deposed in April 1964 by\\na coup that resulted in a military dictatorship.\\nThe new regime was intended to be transitory but gradually closed in on itself and became a full dictatorship with the\"\n",
      "        }\n",
      "      ]\n",
      "    }\n",
      "  }\n",
      "}\n"
     ]
    }
   ],
   "source": [
    "# let's count how many objects we have per source\n",
    "import json\n",
    "response = (\n",
    "    client.query\n",
    "    .aggregate(\"WikipediaLangChain\")\n",
    "    .with_fields(\"source { count type topOccurrences { occurs value } }\")\n",
    "    .do()\n",
    ")\n",
    "\n",
    "print(json.dumps(response, indent=2))\n",
    "\n",
    "# Let's query some objects\n",
    "response = (\n",
    "    client.query\n",
    "    .get(\"WikipediaLangChain\", \"text source\")\n",
    "    .with_limit(4)\n",
    "    .do()\n",
    ")\n",
    "\n",
    "print(json.dumps(response, indent=2))"
   ]
  },
  {
   "cell_type": "markdown",
   "metadata": {},
   "source": [
    "## Let's ask in French, a content in English, and request the answer in Spanish"
   ]
  },
  {
   "cell_type": "code",
   "execution_count": 20,
   "metadata": {},
   "outputs": [
    {
     "name": "stdout",
     "output_type": "stream",
     "text": [
      "{\n",
      " \"data\": {\n",
      "  \"Get\": {\n",
      "   \"WikipediaLangChain\": [\n",
      "    {\n",
      "     \"_additional\": {\n",
      "      \"generate\": {\n",
      "       \"error\": null,\n",
      "       \"groupedResult\": \"La comida tradicional de Brasil incluye la farofa (harina de mandioca), papas fritas, yuca frita, pl\\u00e1tanos fritos, carne frita y queso frito, que se consumen con frecuencia en el almuerzo y se sirven en la mayor\\u00eda de los restaurantes t\\u00edpicos. Los aperitivos populares son el pastel (una empanada frita), la coxinha (una variaci\\u00f3n de croqueta de pollo), el p\\u00e3o de queijo (pan de queso y harina de mandioca/tapioca), la pamonha (pasta de ma\\u00edz y leche), la esfirra (una variaci\\u00f3n de la cocina libanesa), el kibbeh (de la cocina \\u00e1rabe), la empanada y la empada, peque\\u00f1as empanadas rellenas de camarones o palmito. Brasil tambi\\u00e9n tiene una variedad de postres como los brigadeiros (bolitas de dulce de chocolate), el bolo de rolo (pastel enrollado con goiabada), la cocada (un dulce de coco), los beijinhos (trufas de coco y clavo de olor) y el Romeu e Julieta (queso con goiabada). Se utilizan cacahuetes para hacer pa\\u00e7oca, rapadura y p\\u00e9-de-moleque. Las frutas comunes de la regi\\u00f3n, como el a\\u00e7a\\u00ed, el cupua\\u00e7u, el mango, la papaya, el cacao, el anacardo, la guayaba, la naranja, la lima, la maracuy\\u00e1, la pi\\u00f1a y la ciruela de cerdo, se convierten en jugos y se utilizan para hacer chocolates, helados y paletas de hielo.\"\n",
      "      }\n",
      "     },\n",
      "     \"text\": \"flour (farofa). Fried potatoes, fried cassava, fried banana, fried meat and fried cheese are very often eaten in lunch and\\nserved in most typical restaurants. Popular snacks are pastel (a fried pastry); coxinha (a variation of chicken croquete); p\\u00e3o\\nde queijo (cheese bread and cassava flour / tapioca); pamonha (corn and milk paste); esfirra (a variation of Lebanese\"\n",
      "    },\n",
      "    {\n",
      "     \"_additional\": {\n",
      "      \"generate\": null\n",
      "     },\n",
      "     \"text\": \"Cuisine\\nBrazilian cuisine varies greatly by region, reflecting the country's varying mix of indigenous and immigrant populations. This\\nhas created a national cuisine marked by the preservation of regional differences. Examples are Feijoada, considered the\\ncountry's national dish; and regional foods such as beiju, feij\\u00e3o tropeiro, vatap\\u00e1, moqueca, polenta (from Italian cuisine) and\"\n",
      "    },\n",
      "    {\n",
      "     \"_additional\": {\n",
      "      \"generate\": null\n",
      "     },\n",
      "     \"text\": \"acaraj\\u00e9 (from African cuisine).\\nThe national beverage is coffee and cacha\\u00e7a is Brazil's native liquor. Cacha\\u00e7a is distilled from sugar cane and is the main\\ningredient in the national cocktail, Caipirinha.\\nA typical meal consists mostly of rice and beans with beef, salad, french fries and a fried egg. Often, it is mixed with cassava\"\n",
      "    },\n",
      "    {\n",
      "     \"_additional\": {\n",
      "      \"generate\": null\n",
      "     },\n",
      "     \"text\": \"pastry); kibbeh (from Arabic cuisine); empanada (pastry) and empada, little salt pies filled with shrimps or heart of palm.\\nBrazil has a variety of desserts such as brigadeiros (chocolate fudge balls), bolo de rolo (roll cake with goiabada), cocada (a\\ncoconut sweet), beijinhos (coconut truffles and clove) and Romeu e Julieta (cheese with goiabada). Peanuts are used to\"\n",
      "    },\n",
      "    {\n",
      "     \"_additional\": {\n",
      "      \"generate\": null\n",
      "     },\n",
      "     \"text\": \"make pa\\u00e7oca, rapadura and p\\u00e9-de-moleque. Local common fruits like a\\u00e7a\\u00ed, cupua\\u00e7u, mango, papaya, cocoa, cashew,\\nguava, orange, lime, passionfruit, pineapple, and hog plum are turned in juices and used to make chocolates, ice pops and\\nice cream.\\nCinema\\nThe Brazilian film industry began in the late 19th century, during the early days of the Belle \\u00c9poque. While there were\"\n",
      "    }\n",
      "   ]\n",
      "  }\n",
      " }\n",
      "}\n"
     ]
    }
   ],
   "source": [
    "# lets do a RAG directly using only Weaviate\n",
    "\n",
    "# This is our prompt.\n",
    "generateTask = \"Quelle est la nourriture traditionnelle de ce pays ? Answer in Spanish\"\n",
    "# lets filter it out, and only use this specific file\n",
    "source_file = \"brazil-wikipedia-article-text.pdf\"\n",
    "\n",
    "result = (\n",
    "  client.query\n",
    "  .get(\"WikipediaLangChain\", \"text\")\n",
    "  .with_generate(grouped_task = generateTask)\n",
    "  .with_where({\n",
    "      \"operator\": \"Equal\",\n",
    "      \"path\": [\"source\"],\n",
    "      \"valueText\": source_file\n",
    "  })\n",
    "  .with_near_text({\n",
    "   \"concepts\": [\"tradicional Food\"]\n",
    "  })\n",
    "  .with_limit(5).do()\n",
    ")\n",
    "\n",
    "print(json.dumps(result, indent=1))"
   ]
  },
  {
   "cell_type": "code",
   "execution_count": 21,
   "metadata": {},
   "outputs": [
    {
     "name": "stdout",
     "output_type": "stream",
     "text": [
      "{\n",
      " \"data\": {\n",
      "  \"Get\": {\n",
      "   \"WikipediaLangChain\": [\n",
      "    {\n",
      "     \"_additional\": {\n",
      "      \"generate\": {\n",
      "       \"error\": null,\n",
      "       \"groupedResult\": \"La comida tradicional de este pa\\u00eds incluye pasteles como el Vlaai de Limburgo y el Moorkop y Bossche Bol de Brabante, as\\u00ed como pasteles salados como el worstenbroodje. Las bebidas alcoh\\u00f3licas tradicionales de la regi\\u00f3n son la cerveza y el Jenever. Tambi\\u00e9n se producen galletas en gran cantidad, como el stroopwafel y el gevulde koek. En el sur del pa\\u00eds, la cocina consiste en platos de las provincias de Brabante del Norte y Limburgo y la regi\\u00f3n flamenca. En el norte, se encuentran panes de centeno, pasteles y galletas especiadas con jengibre o carne. En la regi\\u00f3n costera, se consume una gran cantidad de pescado y embutidos secos. Las salchichas ahumadas, como la rookworst, son comunes y se suelen comer con platos como el stamppot, hutspot o zuurkool.\"\n",
      "      }\n",
      "     },\n",
      "     \"text\": \"cream, custard or fruits. Cakes, such as the \\nVlaai\\n from Limburg and the \\nMoorkop\\n and \\nBossche Bol\\n from Brabant, are typical\\npastries. Savoury pastries also occur, with the \\nworstenbroodje\\n (a roll with a sausage of ground beef, literally translates into sausage\\nbread) being the most popular. The traditional alcoholic beverage of the region is beer. There are many local brands, ranging from\"\n",
      "    },\n",
      "    {\n",
      "     \"_additional\": {\n",
      "      \"generate\": null\n",
      "     },\n",
      "     \"text\": \"(in its modern form) and \\nZeeuwse bolus\\n are\\ngood examples. Cookies are also produced in great number and tend to contain a lot of butter and sugar, like \\nstroopwafel\\n, as well\\nas a filling of some kind, mostly almond, like \\ngevulde koek\\n. The traditional alcoholic beverages of this region are beer (strong pale\\nlager) and \\nJenever\"\n",
      "    },\n",
      "    {\n",
      "     \"_additional\": {\n",
      "      \"generate\": null\n",
      "     },\n",
      "     \"text\": \"widely available and typical for the region. \\nKibbeling\\n, once a local delicacy consisting of small chunks of battered white fish, has\\nbecome a national fast food, just as lekkerbek.\\nThe Southern Dutch cuisine consists of the cuisines of the Dutch provinces of North Brabant and Limburg and the Flemish Region in\"\n",
      "    },\n",
      "    {\n",
      "     \"_additional\": {\n",
      "      \"generate\": null\n",
      "     },\n",
      "     \"text\": \"also home to hard textured rye bread, pastries and cookies, the latter heavily spiced with ginger or succade or containing small bits\\nof meat. Various kinds of \\nKruidkoek\\n (such as Groninger koek), \\nFryske d\\u00famkes\\n and \\nspekdikken\\n (small savoury pancakes cooked in\\na waffle iron) are considered typical. A notable characteristic of \\nFries roggebrood\"\n",
      "    },\n",
      "    {\n",
      "     \"_additional\": {\n",
      "      \"generate\": null\n",
      "     },\n",
      "     \"text\": \"amount of fish. The various dried sausages, belonging to the metworst-family of Dutch sausages are found throughout this region.\\nAlso smoked sausages are common, of which (\\nGelderse\\n) \\nrookworst\\n is the most renowned. Larger sausages are often eaten\\nalongside \\nstamppot\\n, \\nhutspot\\n or \\nzuurkool\\n (sauerkraut); whereas smaller ones are often eaten as a street food. The provinces are\"\n",
      "    }\n",
      "   ]\n",
      "  }\n",
      " }\n",
      "}\n"
     ]
    }
   ],
   "source": [
    "# We can filter it out, now for Netherlands\n",
    "generateTask = \"Quelle est la nourriture traditionnelle de ce pays ? Answer in Spanish\"\n",
    "# now generating the answer using Wikipedia\n",
    "source_file = \"netherlands-wikipedia-article-text.pdf\"\n",
    "\n",
    "result = (\n",
    "  client.query\n",
    "  .get(\"WikipediaLangChain\", \"text\")\n",
    "  .with_generate(grouped_task = generateTask)\n",
    "  .with_where({\n",
    "      \"operator\": \"Equal\",\n",
    "      \"path\": [\"source\"],\n",
    "      \"valueText\": source_file\n",
    "  })\n",
    "  .with_near_text({\n",
    "    \"concepts\": [\"tradicional Food\"]\n",
    "  })\n",
    "  .with_limit(5).do()\n",
    ")\n",
    "\n",
    "print(json.dumps(result, indent=1))"
   ]
  },
  {
   "cell_type": "markdown",
   "metadata": {},
   "source": [
    "## Using Langchain to query data and answer questions\n",
    "\n",
    "if you noticed, after ingesting our data, langchain will return us a vectorstore. We can use that vector store, or initiate a new one."
   ]
  },
  {
   "cell_type": "code",
   "execution_count": 22,
   "metadata": {},
   "outputs": [],
   "source": [
    "embeddings = CohereEmbeddings(model=\"embed-multilingual-v3.0\")\n",
    "db = Weaviate(client=client, index_name=\"WikipediaLangChain\", text_key=\"text\", embedding=embeddings)"
   ]
  },
  {
   "cell_type": "markdown",
   "metadata": {},
   "source": [
    "### We can now search our data"
   ]
  },
  {
   "cell_type": "code",
   "execution_count": 23,
   "metadata": {},
   "outputs": [
    {
     "name": "stdout",
     "output_type": "stream",
     "text": [
      "[Document(page_content='flour (farofa). Fried potatoes, fried cassava, fried banana, fried meat and fried cheese are very often eaten in lunch and\\nserved in most typical restaurants. Popular snacks are pastel (a fried pastry); coxinha (a variation of chicken croquete); pão\\nde queijo (cheese bread and cassava flour / tapioca); pamonha (corn and milk paste); esfirra (a variation of Lebanese'), Document(page_content='cream, custard or fruits. Cakes, such as the \\nVlaai\\n from Limburg and the \\nMoorkop\\n and \\nBossche Bol\\n from Brabant, are typical\\npastries. Savoury pastries also occur, with the \\nworstenbroodje\\n (a roll with a sausage of ground beef, literally translates into sausage\\nbread) being the most popular. The traditional alcoholic beverage of the region is beer. There are many local brands, ranging from'), Document(page_content=\"Cuisine\\nBrazilian cuisine varies greatly by region, reflecting the country's varying mix of indigenous and immigrant populations. This\\nhas created a national cuisine marked by the preservation of regional differences. Examples are Feijoada, considered the\\ncountry's national dish; and regional foods such as beiju, feijão tropeiro, vatapá, moqueca, polenta (from Italian cuisine) and\"), Document(page_content='widely available and typical for the region. \\nKibbeling\\n, once a local delicacy consisting of small chunks of battered white fish, has\\nbecome a national fast food, just as lekkerbek.\\nThe Southern Dutch cuisine consists of the cuisines of the Dutch provinces of North Brabant and Limburg and the Flemish Region in')]\n"
     ]
    }
   ],
   "source": [
    "# we can now do a similarity search on all objects\n",
    "docs = db.similarity_search(\"traditional food\")\n",
    "print(docs)"
   ]
  },
  {
   "cell_type": "markdown",
   "metadata": {},
   "source": [
    "### Filter by the source property\n",
    "the property `source` is automatically added by LangChain"
   ]
  },
  {
   "cell_type": "code",
   "execution_count": 25,
   "metadata": {},
   "outputs": [
    {
     "name": "stdout",
     "output_type": "stream",
     "text": [
      "[Document(page_content='cream, custard or fruits. Cakes, such as the \\nVlaai\\n from Limburg and the \\nMoorkop\\n and \\nBossche Bol\\n from Brabant, are typical\\npastries. Savoury pastries also occur, with the \\nworstenbroodje\\n (a roll with a sausage of ground beef, literally translates into sausage\\nbread) being the most popular. The traditional alcoholic beverage of the region is beer. There are many local brands, ranging from'), Document(page_content='widely available and typical for the region. \\nKibbeling\\n, once a local delicacy consisting of small chunks of battered white fish, has\\nbecome a national fast food, just as lekkerbek.\\nThe Southern Dutch cuisine consists of the cuisines of the Dutch provinces of North Brabant and Limburg and the Flemish Region in'), Document(page_content='(in its modern form) and \\nZeeuwse bolus\\n are\\ngood examples. Cookies are also produced in great number and tend to contain a lot of butter and sugar, like \\nstroopwafel\\n, as well\\nas a filling of some kind, mostly almond, like \\ngevulde koek\\n. The traditional alcoholic beverages of this region are beer (strong pale\\nlager) and \\nJenever'), Document(page_content='toppings, with cereal for breakfast as an alternative. Traditionally, dinner consists of potatoes, a portion of meat, and (seasonal)\\nvegetables. The Dutch diet was relatively high in carbohydrates and fat, reflecting the dietary needs of the labourers whose culture\\nmoulded the country. In the course of the twentieth century this diet changed and became much more cosmopolitan, with most')]\n"
     ]
    }
   ],
   "source": [
    "# change bellow to get chunks per different files / countries\n",
    "#source_file = \"brazil-wikipedia-article-text.pdf\"\n",
    "source_file = \"netherlands-wikipedia-article-text.pdf\"\n",
    "where_filter = {\n",
    "      \"operator\": \"Equal\",\n",
    "      \"path\": [\"source\"],\n",
    "      \"valueText\": source_file\n",
    "  }\n",
    "docs = db.similarity_search(\"traditional food\", where_filter=where_filter)\n",
    "print(docs)"
   ]
  },
  {
   "cell_type": "markdown",
   "metadata": {},
   "source": [
    "### You can also do some question answering"
   ]
  },
  {
   "cell_type": "code",
   "execution_count": 26,
   "metadata": {},
   "outputs": [],
   "source": [
    "from langchain.prompts import PromptTemplate\n",
    "\n",
    "prompt_template = \"\"\"Text: {context}\n",
    "\n",
    "Question: {question}\n",
    "\n",
    "Answer the question based on the text provided. If the text doesn't contain the answer, reply that the answer is not available.\"\"\"\n",
    "\n",
    "\n",
    "PROMPT = PromptTemplate(\n",
    "    template=prompt_template, input_variables=[\"context\", \"question\"]\n",
    ")\n",
    "\n",
    "chain_type_kwargs = {\"prompt\": PROMPT}"
   ]
  },
  {
   "cell_type": "code",
   "execution_count": 27,
   "metadata": {},
   "outputs": [
    {
     "name": "stdout",
     "output_type": "stream",
     "text": [
      "{'query': 'What is the traditional food of this country?', 'result': ' The traditional food in the Southern Dutch region consists of a wide variety of pastries, cakes, and cookies containing cream, custard, and fruits, as well as sausages, and fish. Some examples include the Vlaai from Limburg, Moorkop and Bossche Bol from Brabant, Worstenbroodje (sausage bread), Zeeuwse Bolus, Stroopwafel, Geverulde Koek, and Jenever. The region also boasts many local beer brands. \\n\\nLarger sausages are usually eaten with stamppot, hutspot, or sauerkraut, while smaller sausages are often consumed as street food. The region also has its own delicacies such as Kibbeling (battered white fish) and Lekkerbek, which have now become national fast foods. \\n\\nIs there anything specific you would like to know about the traditional foods in this region? ', 'source_documents': [Document(page_content='cream, custard or fruits. Cakes, such as the \\nVlaai\\n from Limburg and the \\nMoorkop\\n and \\nBossche Bol\\n from Brabant, are typical\\npastries. Savoury pastries also occur, with the \\nworstenbroodje\\n (a roll with a sausage of ground beef, literally translates into sausage\\nbread) being the most popular. The traditional alcoholic beverage of the region is beer. There are many local brands, ranging from'), Document(page_content='(in its modern form) and \\nZeeuwse bolus\\n are\\ngood examples. Cookies are also produced in great number and tend to contain a lot of butter and sugar, like \\nstroopwafel\\n, as well\\nas a filling of some kind, mostly almond, like \\ngevulde koek\\n. The traditional alcoholic beverages of this region are beer (strong pale\\nlager) and \\nJenever'), Document(page_content='amount of fish. The various dried sausages, belonging to the metworst-family of Dutch sausages are found throughout this region.\\nAlso smoked sausages are common, of which (\\nGelderse\\n) \\nrookworst\\n is the most renowned. Larger sausages are often eaten\\nalongside \\nstamppot\\n, \\nhutspot\\n or \\nzuurkool\\n (sauerkraut); whereas smaller ones are often eaten as a street food. The provinces are'), Document(page_content='widely available and typical for the region. \\nKibbeling\\n, once a local delicacy consisting of small chunks of battered white fish, has\\nbecome a national fast food, just as lekkerbek.\\nThe Southern Dutch cuisine consists of the cuisines of the Dutch provinces of North Brabant and Limburg and the Flemish Region in')]}\n"
     ]
    }
   ],
   "source": [
    "from langchain.llms import Cohere\n",
    "from langchain.chains import RetrievalQA\n",
    "\n",
    "# Let's answer some question\n",
    "#source_file = \"brazil-wikipedia-article-text.pdf\"\n",
    "source_file = \"netherlands-wikipedia-article-text.pdf\"\n",
    "where_filter = {\n",
    "      \"operator\": \"Equal\",\n",
    "      \"path\": [\"source\"],\n",
    "      \"valueText\": source_file\n",
    "  }\n",
    "\n",
    "# we want our retriever to filter the results\n",
    "retriever = db.as_retriever(search_kwargs={\"where_filter\": where_filter})\n",
    "\n",
    "qa = RetrievalQA.from_chain_type(llm=Cohere(model=\"command-nightly\", temperature=0), \n",
    "                                 chain_type=\"stuff\", \n",
    "                                 retriever=retriever, \n",
    "                                 chain_type_kwargs=chain_type_kwargs, \n",
    "                                 return_source_documents=True)\n",
    "                                 \n",
    "answer = qa({\"query\": \"What is the traditional food of this country?\"})\n",
    "print(answer)"
   ]
  }
 ],
 "metadata": {
  "kernelspec": {
   "display_name": "venv",
   "language": "python",
   "name": "python3"
  },
  "language_info": {
   "codemirror_mode": {
    "name": "ipython",
    "version": 3
   },
   "file_extension": ".py",
   "mimetype": "text/x-python",
   "name": "python",
   "nbconvert_exporter": "python",
   "pygments_lexer": "ipython3",
   "version": "3.11.6"
  }
 },
 "nbformat": 4,
 "nbformat_minor": 2
}
