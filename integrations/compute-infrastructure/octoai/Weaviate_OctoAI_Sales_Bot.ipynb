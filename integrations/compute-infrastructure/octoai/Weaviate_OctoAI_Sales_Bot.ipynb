{
  "cells": [
    {
      "cell_type": "markdown",
      "id": "374b67d0-b446-4d6f-8e07-59e97716c55a",
      "metadata": {
        "id": "374b67d0-b446-4d6f-8e07-59e97716c55a"
      },
      "source": [
        "# Build a Sales Bot with Weaviate and Llama 3 on OctoAI"
      ]
    },
    {
      "cell_type": "markdown",
      "id": "add4953d-07c3-4480-ad91-7d0ea9c9fb55",
      "metadata": {
        "id": "add4953d-07c3-4480-ad91-7d0ea9c9fb55"
      },
      "source": [
        "## Overview\n",
        "\n",
        "In this notebook you'll take an Amazon product reviews dataset from Kaggle and use Llama 3 to obtain product review summaries, upsert those summaries in a vector database, then use Retrieval Augmented Generation (RAG) to power a sales chatbot that can make targeted product recommendations.\n",
        "\n",
        "Let's take a look at the overall workflow:\n",
        "1. We start with a dataset that contains over 10,000 reviews across 900 Amazon musical instruments and accessories.\n",
        "2. Using Llama 3 70B (hosted on OctoAI), we generate summaries of product reviews for each product from the 20 most recent reviews. We format the summaries in JSON format.\n",
        "3. We then take the summaries and upsert them into a vector database (Weaviate in this case)\n",
        "4. We then use this vector database and Llama 3 70B instruct (hosted on OctoAI) to build a RAG-based sales chatbot that provides targeted recommendations to the user based on the products that are present in the inventory.\n",
        "\n",
        "### OctoAI\n",
        "We'll use [OctoAI](https://octo.ai/) to power all of the GenAI model needs of this notebook: LLMs, image gen, image animation.\n",
        "* To use OctoAI, you'll need to go to https://octoai.cloud/ and sign in using your Google or GitHub account.\n",
        "* Next you'll need to generate an OctoAI API token by following these [instructions](https://octo.ai/docs/getting-started/how-to-create-an-octoai-access-token). Keep the API token in hand, we'll need it further down in this notebook.\n",
        "\n",
        "In this example we will use the Llama 3 70b instruct model. You can find more on Llama models on the [OctoAI text generation solution page](https://octoai.cloud/text).\n",
        "\n",
        "### Weaviate\n",
        "We'll use Weaviate Cloud (WCD) as our vector database. You can create an account and a free 14-day free cluster [here](https://console.weaviate.cloud/). \n",
        "\n",
        "You'll need to obtain the Endpoint URL and API key to use the cluster for this demo.\n",
        "\n",
        "### Local Python Notebook\n",
        "We highly recommend launching this notebook from a fresh python environment, for instance you can run the following:\n",
        "```\n",
        "python3 -m venv .venv         \n",
        "source .venv/bin/activate\n",
        "```\n",
        "All you need to run this notebook is to install jupyter notebook with `python3 -m pip install notebook` then run `jupyter notebook` ([link](https://jupyter.org/install)) in the same directory as this `.ipynb` file."
      ]
    },
    {
      "cell_type": "code",
      "execution_count": null,
      "id": "133c2ea4-0256-49cf-9f5a-a9e5bb0bb63f",
      "metadata": {
        "id": "133c2ea4-0256-49cf-9f5a-a9e5bb0bb63f"
      },
      "outputs": [],
      "source": [
        "# Let's start by installing the appropriate python packages\n",
        "! pip install openai weaviate-client pandas gradio pydantic"
      ]
    },
    {
      "cell_type": "markdown",
      "id": "75341227-43f8-4a68-b3cb-31e8216f874e",
      "metadata": {
        "id": "75341227-43f8-4a68-b3cb-31e8216f874e"
      },
      "source": [
        "## Part 1: Review Summarization"
      ]
    },
    {
      "cell_type": "markdown",
      "id": "793c06d7-fa67-4c67-a380-081ed3a7a7bf",
      "metadata": {
        "id": "793c06d7-fa67-4c67-a380-081ed3a7a7bf"
      },
      "source": [
        "Let's start by importing all of the packages we need for this example"
      ]
    },
    {
      "cell_type": "code",
      "execution_count": null,
      "id": "edd366c8-4f0b-4211-83d3-c16e88cbd5c8",
      "metadata": {
        "id": "edd366c8-4f0b-4211-83d3-c16e88cbd5c8"
      },
      "outputs": [],
      "source": [
        "import gradio\n",
        "import json\n",
        "import os\n",
        "import openai\n",
        "import weaviate\n",
        "from getpass import getpass\n",
        "from json import loads\n",
        "from pandas import DataFrame, concat, read_csv\n",
        "from pydantic import BaseModel, Field\n",
        "from typing import List"
      ]
    },
    {
      "cell_type": "markdown",
      "id": "cd171a7c-c5e7-46d5-8a04-a0f7863609be",
      "metadata": {
        "id": "cd171a7c-c5e7-46d5-8a04-a0f7863609be"
      },
      "source": [
        "Enter your OctoAI, Weaviate, and OpenAI tokens below"
      ]
    },
    {
      "cell_type": "code",
      "execution_count": null,
      "id": "3af09686-a654-45b0-98c5-dee6f30440c7",
      "metadata": {
        "id": "3af09686-a654-45b0-98c5-dee6f30440c7"
      },
      "outputs": [],
      "source": [
        "# Get OctoAI API token for Llama 2 & 3\n",
        "OCTOAI_API_TOKEN = getpass()\n",
        "os.environ[\"OCTOAI_API_TOKEN\"] = OCTOAI_API_TOKEN"
      ]
    },
    {
      "cell_type": "code",
      "execution_count": null,
      "id": "31c3e684-6e5e-41ad-81d4-970b06522553",
      "metadata": {
        "id": "31c3e684-6e5e-41ad-81d4-970b06522553"
      },
      "outputs": [],
      "source": [
        "# Get WCS API key\n",
        "WCS_API_KEY = getpass()\n",
        "os.environ[\"WCS_API_KEY\"] = WCS_API_KEY"
      ]
    },
    {
      "cell_type": "code",
      "execution_count": null,
      "id": "a44f7b71-c4f9-4fd6-9a3b-1322c2fd0c35",
      "metadata": {
        "id": "a44f7b71-c4f9-4fd6-9a3b-1322c2fd0c35"
      },
      "outputs": [],
      "source": [
        "# Get WCS URL (REST Endpoint)\n",
        "WCS_URL = getpass()\n",
        "os.environ[\"WCS_URL\"] = WCS_URL"
      ]
    },
    {
      "cell_type": "code",
      "execution_count": null,
      "id": "883986ad-9f60-44d8-ab64-3f566261e055",
      "metadata": {
        "id": "883986ad-9f60-44d8-ab64-3f566261e055"
      },
      "outputs": [],
      "source": [
        "# First let's load the dataset from Kaggle: https://www.kaggle.com/datasets/eswarchandt/amazon-music-reviews\n",
        "df = read_csv('https://raw.githubusercontent.com/tmoreau89/image-assets/main/datasets/kaggle-amazon-musical-instrument-reviews/Musical_instruments_reviews.csv')"
      ]
    },
    {
      "cell_type": "markdown",
      "id": "c05865a7-307a-425e-a6ee-f057d63db77b",
      "metadata": {
        "id": "c05865a7-307a-425e-a6ee-f057d63db77b"
      },
      "source": [
        "Set `product_record_limit` to a lower number if you just want to do a test run"
      ]
    },
    {
      "cell_type": "code",
      "execution_count": null,
      "id": "22f024e7-3976-425f-b684-8b2c2c1ed191",
      "metadata": {
        "id": "22f024e7-3976-425f-b684-8b2c2c1ed191"
      },
      "outputs": [],
      "source": [
        "# Set a product record limit\n",
        "product_record_limit = 900"
      ]
    },
    {
      "cell_type": "code",
      "execution_count": null,
      "id": "aJhu_SqxL8YN",
      "metadata": {
        "id": "aJhu_SqxL8YN"
      },
      "outputs": [],
      "source": [
        "# List all of the unique ASIN:\n",
        "asin_list = df.asin.unique()\n",
        "print(\"There are {} unique products in the music product inventory\".format(len(asin_list)))"
      ]
    },
    {
      "cell_type": "markdown",
      "id": "4941baa1-107b-4f39-8d04-1daa5acd465b",
      "metadata": {
        "id": "4941baa1-107b-4f39-8d04-1daa5acd465b"
      },
      "source": [
        "For each one of the unique products, let's group the reviews together and sort them by how recent they are"
      ]
    },
    {
      "cell_type": "code",
      "execution_count": null,
      "id": "38147b91-2425-46a7-b6c0-221173d81024",
      "metadata": {
        "id": "38147b91-2425-46a7-b6c0-221173d81024"
      },
      "outputs": [],
      "source": [
        "# Get the reviews for the product ASIN, sorted by recency and store in dict\n",
        "review_dict = {}\n",
        "for asin in asin_list[0:product_record_limit]:\n",
        "    reviews = df.loc[df['asin'] == asin]\\\n",
        "                .sort_values([\"unixReviewTime\"], axis=0, ascending=False)\\\n",
        "                .reviewText.tolist()\n",
        "    review_dict[asin] = reviews"
      ]
    },
    {
      "cell_type": "markdown",
      "id": "7d5fb78d-808a-4753-abba-4a3066d76ba7",
      "metadata": {
        "id": "7d5fb78d-808a-4753-abba-4a3066d76ba7"
      },
      "source": [
        "To be able to store our summaries into our vector DB, we need to have the fields formatted into a JSON object. We use Pydantic base class model here to define the JSON schema."
      ]
    },
    {
      "cell_type": "code",
      "execution_count": null,
      "id": "b786cde1-116a-47eb-8478-3fa2285dcf9d",
      "metadata": {
        "id": "b786cde1-116a-47eb-8478-3fa2285dcf9d"
      },
      "outputs": [],
      "source": [
        "# Define the Pydantic model that specifies how our output should be formatted\n",
        "class ProductRecord(BaseModel):\n",
        "    \"\"\"The record of a given product\"\"\"\n",
        "    description: str = Field(description=\"Description of the product\")\n",
        "    name: str = Field(description=\"Name of the product\")\n",
        "    review_summary: str = Field(description=\"Summary of all of the reviews\")\n",
        "    ASIN: str = Field(description=\"ASIN of the product\")\n",
        "    features: str = Field(description=\"Features of the product based on the reviews\")"
      ]
    },
    {
      "cell_type": "markdown",
      "id": "08226a6e-f994-454b-9a1d-6246b34bfca2",
      "metadata": {
        "id": "08226a6e-f994-454b-9a1d-6246b34bfca2"
      },
      "source": [
        "We define our prompt template below."
      ]
    },
    {
      "cell_type": "code",
      "execution_count": null,
      "id": "1cc3fe69-bf0c-4a50-8d9c-1ae6cb99a9ca",
      "metadata": {
        "id": "1cc3fe69-bf0c-4a50-8d9c-1ae6cb99a9ca"
      },
      "outputs": [],
      "source": [
        "# Prepare a prompt template\n",
        "template = '''\n",
        "Here are product reviews for a music product with an ID of {asin}.\n",
        " - Provide:\n",
        "     - the product \"description\",\n",
        "     - the product \"name\",\n",
        "     - a summary of all the reviews as \"review_summary\",\n",
        "     - the \"ASIN\" and\n",
        "     - and the product \"features\" based on the content of these reviews.\n",
        "\n",
        "The reviews for the product are: {reviews}\n",
        "'''"
      ]
    },
    {
      "cell_type": "markdown",
      "id": "9b8dc3fa-4ad9-4329-96a0-353b05a1c43e",
      "metadata": {
        "id": "9b8dc3fa-4ad9-4329-96a0-353b05a1c43e"
      },
      "source": [
        "We initialize the OctoAI client using OpenAI's API. All we have to do is override the `base_url` and `api_key`."
      ]
    },
    {
      "cell_type": "code",
      "execution_count": null,
      "id": "57c2ff0a-8029-41a6-a06f-41e560b92230",
      "metadata": {
        "id": "57c2ff0a-8029-41a6-a06f-41e560b92230"
      },
      "outputs": [],
      "source": [
        "# Init OctoAI client\n",
        "client = openai.OpenAI(\n",
        "    base_url=\"https://text.octoai.run/v1\",\n",
        "    api_key=os.environ[\"OCTOAI_API_TOKEN\"]\n",
        ")"
      ]
    },
    {
      "cell_type": "markdown",
      "id": "bd0eb425-ceea-4258-a52d-814b7335febb",
      "metadata": {
        "id": "bd0eb425-ceea-4258-a52d-814b7335febb"
      },
      "source": [
        "Iterate over all product ASINs and summarize the top 20 most recent reviews. Note: this takes a while to run unless we parallelize it."
      ]
    },
    {
      "cell_type": "code",
      "execution_count": null,
      "id": "1a55839e-a824-4919-b755-730eaac48d83",
      "metadata": {
        "id": "1a55839e-a824-4919-b755-730eaac48d83"
      },
      "outputs": [],
      "source": [
        "import concurrent.futures\n",
        "\n",
        "# Max concurrent threads\n",
        "MAX_THREADS = 4\n",
        "\n",
        "# Task to run in parallel\n",
        "def task(idx, asin, review_list):\n",
        "    print(f'Getting review summary {idx} of {len(review_dict)}, ASIN: {asin}')\n",
        "    response = client.chat.completions.create(\n",
        "        model=\"meta-llama-3-70b-instruct\",\n",
        "        messages=[\n",
        "            {\"role\": \"system\", \"content\": \"You are a helpful assistant.\"},\n",
        "            {\"role\": \"user\", \"content\": template.format(\n",
        "                asin = asin,\n",
        "                reviews = review_list[0:20] # Only get the top 20 most recent reviews\n",
        "            )},\n",
        "        ],\n",
        "        temperature=0,\n",
        "        max_tokens=4000,\n",
        "        extra_body={\n",
        "            \"response_format\": {\n",
        "                \"type\": \"json_object\",\n",
        "                \"schema\": ProductRecord.model_json_schema()\n",
        "              }\n",
        "        }\n",
        "    )\n",
        "    print(\"\\n{}\\n\".format(response.choices[0].message.content))\n",
        "    summary = loads(response.choices[0].message.content)\n",
        "    summary[\"ASIN\"] = asin\n",
        "\n",
        "    return summary\n",
        "\n",
        "# Execute task in parallel\n",
        "futures = []\n",
        "review_summaries = []\n",
        "counter = 0\n",
        "with concurrent.futures.ThreadPoolExecutor(max_workers=MAX_THREADS) as executor:\n",
        "    for asin, review_list in review_dict.items():\n",
        "        # Submit tasks to the executor\n",
        "        futures.append(executor.submit(task, counter, asin, review_list))\n",
        "        counter += 1\n",
        "    # Collect the results\n",
        "    review_summaries = [future.result() for future in concurrent.futures.as_completed(futures)]\n",
        "\n",
        "review_summaries = DataFrame(review_summaries)\n",
        "print(review_summaries)"
      ]
    },
    {
      "cell_type": "markdown",
      "id": "4772d1c1-c9c4-466e-9c80-259804a4286b",
      "metadata": {
        "id": "4772d1c1-c9c4-466e-9c80-259804a4286b"
      },
      "source": [
        "# Part 2: Retrieval Augmented Generation"
      ]
    },
    {
      "cell_type": "markdown",
      "id": "ccd97408-d47f-46f3-b601-f66f8a3b20ff",
      "metadata": {
        "id": "ccd97408-d47f-46f3-b601-f66f8a3b20ff"
      },
      "source": [
        "For our RAG use case we're going to rely on Weaviate vector database and on an OpenAI embedding model.\n",
        "\n",
        "When you define your collection, you'll need to provide properties, i.e. object attributes that you want to store in the collection. These properties map 1:1 to the JSON dictionary keys defined earlier for the `ProductRecord` Pydantic base model."
      ]
    },
    {
      "cell_type": "code",
      "execution_count": null,
      "id": "5dad98ec-531d-4fc2-aed9-9f337b957feb",
      "metadata": {
        "id": "5dad98ec-531d-4fc2-aed9-9f337b957feb"
      },
      "outputs": [],
      "source": [
        "# Connect to WCS\n",
        "wcs_client = weaviate.connect_to_wcs(\n",
        "    cluster_url=os.getenv(\"WCS_URL\"),\n",
        "    auth_credentials=weaviate.auth.AuthApiKey(os.getenv(\"WCS_API_KEY\")),\n",
        "    headers={\n",
        "        \"X-OctoAI-Api-Key\": os.environ[\"OCTOAI_API_TOKEN\"]\n",
        "    }\n",
        ")"
      ]
    },
    {
      "cell_type": "code",
      "execution_count": null,
      "id": "02953f7b-0149-4c13-a7cc-c4dd1da45d43",
      "metadata": {
        "id": "02953f7b-0149-4c13-a7cc-c4dd1da45d43"
      },
      "outputs": [],
      "source": [
        "from weaviate.classes.config import Configure, Property, DataType\n",
        "\n",
        "# Delete collections\n",
        "if wcs_client.collections.exists(\"Products\"):\n",
        "    wcs_client.collections.delete(\"Products\")\n",
        "\n",
        "# Create the collection for products\n",
        "collection = wcs_client.collections.create(\n",
        "    name=\"Products\",\n",
        "    vectorizer_config=[\n",
        "        Configure.NamedVectors.text2vec_octoai(\n",
        "            name=\"title_vector\",\n",
        "            source_properties=[\"review_summary\"],\n",
        "            model=\"thenlper/gte-large\"\n",
        "        )\n",
        "    ],\n",
        "    generative_config=Configure.Generative.octoai(\n",
        "        model = \"meta-llama-3-70b-instruct\",\n",
        "        max_tokens = 1000,\n",
        "        temperature = 0.1,\n",
        "        base_url = \"https://text.octoai.run\"\n",
        "    ),\n",
        "    properties=[\n",
        "        Property(name=\"ASIN\", data_type=DataType.TEXT),\n",
        "        Property(name=\"name\", data_type=DataType.TEXT),\n",
        "        Property(name=\"review_summary\", data_type=DataType.TEXT),\n",
        "        Property(name=\"features\", data_type=DataType.TEXT),\n",
        "        Property(name=\"description\", data_type=DataType.TEXT),\n",
        "    ]\n",
        ")\n",
        "print(\"Collection Created!\")"
      ]
    },
    {
      "cell_type": "markdown",
      "id": "1551fd74-b143-4c02-9b56-364d33683fd3",
      "metadata": {
        "id": "1551fd74-b143-4c02-9b56-364d33683fd3"
      },
      "source": [
        "Now we upsert all of the vectors into the databse using OpenAI's embedding model."
      ]
    },
    {
      "cell_type": "code",
      "execution_count": null,
      "id": "53f779e7-b875-4a19-9f9c-74b45992608e",
      "metadata": {
        "id": "53f779e7-b875-4a19-9f9c-74b45992608e"
      },
      "outputs": [],
      "source": [
        "# Convert df to JSON string and then to a list of dictionaries\n",
        "data = review_summaries.to_json(orient='records')\n",
        "data_list = json.loads(data)\n",
        "\n",
        "# Insert data into Weaviate\n",
        "items_to_insert = []\n",
        "with collection.batch.dynamic() as batch:\n",
        "    for item in data_list:\n",
        "        weaviate_obj = {\n",
        "            \"ASIN\": item[\"ASIN\"],\n",
        "            \"name\": item[\"name\"],\n",
        "            \"description\": item[\"description\"],  \\\n",
        "            \"features\": item[\"features\"],\n",
        "            \"review_summary\": item[\"review_summary\"]\n",
        "        }\n",
        "        batch.add_object(\n",
        "            properties=weaviate_obj\n",
        "        )\n",
        "\n",
        "# Check that import went well\n",
        "if(len(collection.batch.failed_objects)>0):\n",
        "    print(\"Import complete with errors\")\n",
        "    for err in collection.batch.failed_objects:\n",
        "        print(err)\n",
        "else:\n",
        "    print(\"Import complete with no errors\")"
      ]
    },
    {
      "cell_type": "markdown",
      "id": "rqUwa4HsDm14",
      "metadata": {
        "id": "rqUwa4HsDm14"
      },
      "source": [
        "Let's test that vector search is working fine."
      ]
    },
    {
      "cell_type": "code",
      "execution_count": null,
      "id": "4UUcfwlOWk-A",
      "metadata": {
        "id": "4UUcfwlOWk-A"
      },
      "outputs": [],
      "source": [
        "# Similarity search\n",
        "response = collection.query.near_text(\n",
        "    query=\"easy to learn instrument\",\n",
        "    limit=3\n",
        ")\n",
        "for o in response.objects:\n",
        "    print(o.properties)"
      ]
    },
    {
      "cell_type": "markdown",
      "id": "35079318-41a5-46fc-8475-5d728550fb88",
      "metadata": {
        "id": "35079318-41a5-46fc-8475-5d728550fb88"
      },
      "source": [
        "Let's now try to run a hybrid search on the following query below.\n",
        "Hybrid search combines the results of a vector search and a keyword (BM25F) search by fusing the two result sets.\n",
        "It will return the 3 closest entries in the database according to the search criteria."
      ]
    },
    {
      "cell_type": "code",
      "execution_count": null,
      "id": "5f707954-c36b-4a83-874b-f817bd33c39a",
      "metadata": {
        "id": "5f707954-c36b-4a83-874b-f817bd33c39a"
      },
      "outputs": [],
      "source": [
        "# Hybrid search\n",
        "response = collection.query.hybrid(\n",
        "    query=\"ukulele\",\n",
        "    limit=3\n",
        ")\n",
        "for o in response.objects:\n",
        "    print(o.properties)"
      ]
    },
    {
      "cell_type": "markdown",
      "id": "04d39507-5e8e-4374-a33c-53e57db6ef99",
      "metadata": {
        "id": "04d39507-5e8e-4374-a33c-53e57db6ef99"
      },
      "source": [
        "Let's now define a helper function that gives us the relevant context given a string query. Let's see what it returns based on the question: \"What is a good beginner harmonica\""
      ]
    },
    {
      "cell_type": "markdown",
      "id": "677f534c-8be4-4b6b-82d9-2df8e2ad12d4",
      "metadata": {
        "id": "677f534c-8be4-4b6b-82d9-2df8e2ad12d4"
      },
      "source": [
        "Great, we're now ready to build a sales assistant helper function.\n",
        "\n",
        "We first define a prompt template for Llama 3 - based on the context provided by the vector hybrid search (i.e. collection of product summaries of relevance to the question), provide a helpful recommendation to the customer.\n",
        "\n",
        "Also provide links to the product that the user can click on to view the product on Amazon's website. For that we use the fact that any product referenced by its aSIN can be accessed at the following url: `https://www.amazon.com/exec/obidos/ASIN/<insert aSIN here>`"
      ]
    },
    {
      "cell_type": "code",
      "execution_count": null,
      "id": "acSx6vIp_wvx",
      "metadata": {
        "id": "acSx6vIp_wvx"
      },
      "outputs": [],
      "source": [
        "template = \"\"\"\n",
        "You are a sales assistant. Answer the user questions as helpfully as possible with plenty of detail.\n",
        "\n",
        "Provide a reference to each product you mention with hyperlinks:\n",
        "* Provide the name of the product\n",
        "* Embed the hyperlink in the name of the product as follows\n",
        "    * If the product name is \"Solid Electric Guitar Case with Accessories Compartment\"\n",
        "    * And the aSIN is \"B001EL6I8W\"\n",
        "    * Format the reference as follows:\n",
        "         [Solid Electric Guitar Case with Accessories Compartment](https://www.amazon.com/exec/obidos/ASIN/B001EL6I8W)\n",
        "* Be helpful: provide insights on what the customers like or dislike about the products.\n",
        "\"\"\"\n",
        "\n",
        "def sales_assistant(question):\n",
        "    response = collection.generate.near_text(\n",
        "        query=question,\n",
        "        grouped_task=template,\n",
        "        limit=2\n",
        "    )\n",
        "    return response.generated"
      ]
    },
    {
      "cell_type": "code",
      "execution_count": null,
      "id": "XPTIq1fUEKPI",
      "metadata": {
        "id": "XPTIq1fUEKPI"
      },
      "outputs": [],
      "source": [
        "# Now test it out with any query you'd like to put in!\n",
        "print(sales_assistant(\"What is a must have pedal for my brand new guitar?\"))"
      ]
    },
    {
      "cell_type": "markdown",
      "id": "6d4e65fe-0246-40b7-adb6-9091cccbc486",
      "metadata": {
        "id": "6d4e65fe-0246-40b7-adb6-9091cccbc486"
      },
      "source": [
        "**Authors**\n",
        "- Thierry Moreau, OctoAI - tmoreau@octo.ai\n",
        "- Jonathan Tuite, Weaviate - jon@weaviate.io"
      ]
    },
    {
      "cell_type": "markdown",
      "id": "43f976a5",
      "metadata": {},
      "source": [
        "**Documentation**\n",
        "\n",
        "Learn about OctoAI's integration in Weaviate [here](https://weaviate.io/developers/weaviate/model-providers/octoai). "
      ]
    }
  ],
  "metadata": {
    "colab": {
      "provenance": []
    },
    "kernelspec": {
      "display_name": "Python 3 (ipykernel)",
      "language": "python",
      "name": "python3"
    },
    "language_info": {
      "codemirror_mode": {
        "name": "ipython",
        "version": 3
      },
      "file_extension": ".py",
      "mimetype": "text/x-python",
      "name": "python",
      "nbconvert_exporter": "python",
      "pygments_lexer": "ipython3",
      "version": "3.11.6"
    }
  },
  "nbformat": 4,
  "nbformat_minor": 5
}
